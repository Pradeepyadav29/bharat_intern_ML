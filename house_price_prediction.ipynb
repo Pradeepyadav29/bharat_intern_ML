<!DOCTYPE html>
<!-- saved from url=(0080)http://localhost:8888/nbconvert/html/house_price_prediction.ipynb?download=false -->
<html><head><meta http-equiv="Content-Type" content="text/html; charset=UTF-8">
<meta name="viewport" content="width=device-width, initial-scale=1.0">

<title>house_price_prediction</title><script src="./house_price_prediction_files/require.min.js.download"></script>




<style type="text/css">
    pre { line-height: 125%; }
td.linenos .normal { color: inherit; background-color: transparent; padding-left: 5px; padding-right: 5px; }
span.linenos { color: inherit; background-color: transparent; padding-left: 5px; padding-right: 5px; }
td.linenos .special { color: #000000; background-color: #ffffc0; padding-left: 5px; padding-right: 5px; }
span.linenos.special { color: #000000; background-color: #ffffc0; padding-left: 5px; padding-right: 5px; }
.highlight .hll { background-color: var(--jp-cell-editor-active-background) }
.highlight { background: var(--jp-cell-editor-background); color: var(--jp-mirror-editor-variable-color) }
.highlight .c { color: var(--jp-mirror-editor-comment-color); font-style: italic } /* Comment */
.highlight .err { color: var(--jp-mirror-editor-error-color) } /* Error */
.highlight .k { color: var(--jp-mirror-editor-keyword-color); font-weight: bold } /* Keyword */
.highlight .o { color: var(--jp-mirror-editor-operator-color); font-weight: bold } /* Operator */
.highlight .p { color: var(--jp-mirror-editor-punctuation-color) } /* Punctuation */
.highlight .ch { color: var(--jp-mirror-editor-comment-color); font-style: italic } /* Comment.Hashbang */
.highlight .cm { color: var(--jp-mirror-editor-comment-color); font-style: italic } /* Comment.Multiline */
.highlight .cp { color: var(--jp-mirror-editor-comment-color); font-style: italic } /* Comment.Preproc */
.highlight .cpf { color: var(--jp-mirror-editor-comment-color); font-style: italic } /* Comment.PreprocFile */
.highlight .c1 { color: var(--jp-mirror-editor-comment-color); font-style: italic } /* Comment.Single */
.highlight .cs { color: var(--jp-mirror-editor-comment-color); font-style: italic } /* Comment.Special */
.highlight .kc { color: var(--jp-mirror-editor-keyword-color); font-weight: bold } /* Keyword.Constant */
.highlight .kd { color: var(--jp-mirror-editor-keyword-color); font-weight: bold } /* Keyword.Declaration */
.highlight .kn { color: var(--jp-mirror-editor-keyword-color); font-weight: bold } /* Keyword.Namespace */
.highlight .kp { color: var(--jp-mirror-editor-keyword-color); font-weight: bold } /* Keyword.Pseudo */
.highlight .kr { color: var(--jp-mirror-editor-keyword-color); font-weight: bold } /* Keyword.Reserved */
.highlight .kt { color: var(--jp-mirror-editor-keyword-color); font-weight: bold } /* Keyword.Type */
.highlight .m { color: var(--jp-mirror-editor-number-color) } /* Literal.Number */
.highlight .s { color: var(--jp-mirror-editor-string-color) } /* Literal.String */
.highlight .ow { color: var(--jp-mirror-editor-operator-color); font-weight: bold } /* Operator.Word */
.highlight .pm { color: var(--jp-mirror-editor-punctuation-color) } /* Punctuation.Marker */
.highlight .w { color: var(--jp-mirror-editor-variable-color) } /* Text.Whitespace */
.highlight .mb { color: var(--jp-mirror-editor-number-color) } /* Literal.Number.Bin */
.highlight .mf { color: var(--jp-mirror-editor-number-color) } /* Literal.Number.Float */
.highlight .mh { color: var(--jp-mirror-editor-number-color) } /* Literal.Number.Hex */
.highlight .mi { color: var(--jp-mirror-editor-number-color) } /* Literal.Number.Integer */
.highlight .mo { color: var(--jp-mirror-editor-number-color) } /* Literal.Number.Oct */
.highlight .sa { color: var(--jp-mirror-editor-string-color) } /* Literal.String.Affix */
.highlight .sb { color: var(--jp-mirror-editor-string-color) } /* Literal.String.Backtick */
.highlight .sc { color: var(--jp-mirror-editor-string-color) } /* Literal.String.Char */
.highlight .dl { color: var(--jp-mirror-editor-string-color) } /* Literal.String.Delimiter */
.highlight .sd { color: var(--jp-mirror-editor-string-color) } /* Literal.String.Doc */
.highlight .s2 { color: var(--jp-mirror-editor-string-color) } /* Literal.String.Double */
.highlight .se { color: var(--jp-mirror-editor-string-color) } /* Literal.String.Escape */
.highlight .sh { color: var(--jp-mirror-editor-string-color) } /* Literal.String.Heredoc */
.highlight .si { color: var(--jp-mirror-editor-string-color) } /* Literal.String.Interpol */
.highlight .sx { color: var(--jp-mirror-editor-string-color) } /* Literal.String.Other */
.highlight .sr { color: var(--jp-mirror-editor-string-color) } /* Literal.String.Regex */
.highlight .s1 { color: var(--jp-mirror-editor-string-color) } /* Literal.String.Single */
.highlight .ss { color: var(--jp-mirror-editor-string-color) } /* Literal.String.Symbol */
.highlight .il { color: var(--jp-mirror-editor-number-color) } /* Literal.Number.Integer.Long */
  </style>



<style type="text/css">
/*-----------------------------------------------------------------------------
| Copyright (c) Jupyter Development Team.
| Distributed under the terms of the Modified BSD License.
|----------------------------------------------------------------------------*/

/*
 * Mozilla scrollbar styling
 */

/* use standard opaque scrollbars for most nodes */
[data-jp-theme-scrollbars='true'] {
  scrollbar-color: rgb(var(--jp-scrollbar-thumb-color))
    var(--jp-scrollbar-background-color);
}

/* for code nodes, use a transparent style of scrollbar. These selectors
 * will match lower in the tree, and so will override the above */
[data-jp-theme-scrollbars='true'] .CodeMirror-hscrollbar,
[data-jp-theme-scrollbars='true'] .CodeMirror-vscrollbar {
  scrollbar-color: rgba(var(--jp-scrollbar-thumb-color), 0.5) transparent;
}

/* tiny scrollbar */

.jp-scrollbar-tiny {
  scrollbar-color: rgba(var(--jp-scrollbar-thumb-color), 0.5) transparent;
  scrollbar-width: thin;
}

/*
 * Webkit scrollbar styling
 */

/* use standard opaque scrollbars for most nodes */

[data-jp-theme-scrollbars='true'] ::-webkit-scrollbar,
[data-jp-theme-scrollbars='true'] ::-webkit-scrollbar-corner {
  background: var(--jp-scrollbar-background-color);
}

[data-jp-theme-scrollbars='true'] ::-webkit-scrollbar-thumb {
  background: rgb(var(--jp-scrollbar-thumb-color));
  border: var(--jp-scrollbar-thumb-margin) solid transparent;
  background-clip: content-box;
  border-radius: var(--jp-scrollbar-thumb-radius);
}

[data-jp-theme-scrollbars='true'] ::-webkit-scrollbar-track:horizontal {
  border-left: var(--jp-scrollbar-endpad) solid
    var(--jp-scrollbar-background-color);
  border-right: var(--jp-scrollbar-endpad) solid
    var(--jp-scrollbar-background-color);
}

[data-jp-theme-scrollbars='true'] ::-webkit-scrollbar-track:vertical {
  border-top: var(--jp-scrollbar-endpad) solid
    var(--jp-scrollbar-background-color);
  border-bottom: var(--jp-scrollbar-endpad) solid
    var(--jp-scrollbar-background-color);
}

/* for code nodes, use a transparent style of scrollbar */

[data-jp-theme-scrollbars='true'] .CodeMirror-hscrollbar::-webkit-scrollbar,
[data-jp-theme-scrollbars='true'] .CodeMirror-vscrollbar::-webkit-scrollbar,
[data-jp-theme-scrollbars='true']
  .CodeMirror-hscrollbar::-webkit-scrollbar-corner,
[data-jp-theme-scrollbars='true']
  .CodeMirror-vscrollbar::-webkit-scrollbar-corner {
  background-color: transparent;
}

[data-jp-theme-scrollbars='true']
  .CodeMirror-hscrollbar::-webkit-scrollbar-thumb,
[data-jp-theme-scrollbars='true']
  .CodeMirror-vscrollbar::-webkit-scrollbar-thumb {
  background: rgba(var(--jp-scrollbar-thumb-color), 0.5);
  border: var(--jp-scrollbar-thumb-margin) solid transparent;
  background-clip: content-box;
  border-radius: var(--jp-scrollbar-thumb-radius);
}

[data-jp-theme-scrollbars='true']
  .CodeMirror-hscrollbar::-webkit-scrollbar-track:horizontal {
  border-left: var(--jp-scrollbar-endpad) solid transparent;
  border-right: var(--jp-scrollbar-endpad) solid transparent;
}

[data-jp-theme-scrollbars='true']
  .CodeMirror-vscrollbar::-webkit-scrollbar-track:vertical {
  border-top: var(--jp-scrollbar-endpad) solid transparent;
  border-bottom: var(--jp-scrollbar-endpad) solid transparent;
}

/* tiny scrollbar */

.jp-scrollbar-tiny::-webkit-scrollbar,
.jp-scrollbar-tiny::-webkit-scrollbar-corner {
  background-color: transparent;
  height: 4px;
  width: 4px;
}

.jp-scrollbar-tiny::-webkit-scrollbar-thumb {
  background: rgba(var(--jp-scrollbar-thumb-color), 0.5);
}

.jp-scrollbar-tiny::-webkit-scrollbar-track:horizontal {
  border-left: 0px solid transparent;
  border-right: 0px solid transparent;
}

.jp-scrollbar-tiny::-webkit-scrollbar-track:vertical {
  border-top: 0px solid transparent;
  border-bottom: 0px solid transparent;
}

/*
 * Phosphor
 */

.lm-ScrollBar[data-orientation='horizontal'] {
  min-height: 16px;
  max-height: 16px;
  min-width: 45px;
  border-top: 1px solid #a0a0a0;
}

.lm-ScrollBar[data-orientation='vertical'] {
  min-width: 16px;
  max-width: 16px;
  min-height: 45px;
  border-left: 1px solid #a0a0a0;
}

.lm-ScrollBar-button {
  background-color: #f0f0f0;
  background-position: center center;
  min-height: 15px;
  max-height: 15px;
  min-width: 15px;
  max-width: 15px;
}

.lm-ScrollBar-button:hover {
  background-color: #dadada;
}

.lm-ScrollBar-button.lm-mod-active {
  background-color: #cdcdcd;
}

.lm-ScrollBar-track {
  background: #f0f0f0;
}

.lm-ScrollBar-thumb {
  background: #cdcdcd;
}

.lm-ScrollBar-thumb:hover {
  background: #bababa;
}

.lm-ScrollBar-thumb.lm-mod-active {
  background: #a0a0a0;
}

.lm-ScrollBar[data-orientation='horizontal'] .lm-ScrollBar-thumb {
  height: 100%;
  min-width: 15px;
  border-left: 1px solid #a0a0a0;
  border-right: 1px solid #a0a0a0;
}

.lm-ScrollBar[data-orientation='vertical'] .lm-ScrollBar-thumb {
  width: 100%;
  min-height: 15px;
  border-top: 1px solid #a0a0a0;
  border-bottom: 1px solid #a0a0a0;
}

.lm-ScrollBar[data-orientation='horizontal']
  .lm-ScrollBar-button[data-action='decrement'] {
  background-image: var(--jp-icon-caret-left);
  background-size: 17px;
}

.lm-ScrollBar[data-orientation='horizontal']
  .lm-ScrollBar-button[data-action='increment'] {
  background-image: var(--jp-icon-caret-right);
  background-size: 17px;
}

.lm-ScrollBar[data-orientation='vertical']
  .lm-ScrollBar-button[data-action='decrement'] {
  background-image: var(--jp-icon-caret-up);
  background-size: 17px;
}

.lm-ScrollBar[data-orientation='vertical']
  .lm-ScrollBar-button[data-action='increment'] {
  background-image: var(--jp-icon-caret-down);
  background-size: 17px;
}

/*-----------------------------------------------------------------------------
| Copyright (c) Jupyter Development Team.
| Copyright (c) 2014-2017, PhosphorJS Contributors
|
| Distributed under the terms of the BSD 3-Clause License.
|
| The full license is in the file LICENSE, distributed with this software.
|----------------------------------------------------------------------------*/


/* <DEPRECATED> */ .p-Widget, /* </DEPRECATED> */
.lm-Widget {
  box-sizing: border-box;
  position: relative;
  overflow: hidden;
  cursor: default;
}


/* <DEPRECATED> */ .p-Widget.p-mod-hidden, /* </DEPRECATED> */
.lm-Widget.lm-mod-hidden {
  display: none !important;
}

/*-----------------------------------------------------------------------------
| Copyright (c) Jupyter Development Team.
| Copyright (c) 2014-2017, PhosphorJS Contributors
|
| Distributed under the terms of the BSD 3-Clause License.
|
| The full license is in the file LICENSE, distributed with this software.
|----------------------------------------------------------------------------*/


/* <DEPRECATED> */ .p-CommandPalette, /* </DEPRECATED> */
.lm-CommandPalette {
  display: flex;
  flex-direction: column;
  -webkit-user-select: none;
  -moz-user-select: none;
  -ms-user-select: none;
  user-select: none;
}


/* <DEPRECATED> */ .p-CommandPalette-search, /* </DEPRECATED> */
.lm-CommandPalette-search {
  flex: 0 0 auto;
}


/* <DEPRECATED> */ .p-CommandPalette-content, /* </DEPRECATED> */
.lm-CommandPalette-content {
  flex: 1 1 auto;
  margin: 0;
  padding: 0;
  min-height: 0;
  overflow: auto;
  list-style-type: none;
}


/* <DEPRECATED> */ .p-CommandPalette-header, /* </DEPRECATED> */
.lm-CommandPalette-header {
  overflow: hidden;
  white-space: nowrap;
  text-overflow: ellipsis;
}


/* <DEPRECATED> */ .p-CommandPalette-item, /* </DEPRECATED> */
.lm-CommandPalette-item {
  display: flex;
  flex-direction: row;
}


/* <DEPRECATED> */ .p-CommandPalette-itemIcon, /* </DEPRECATED> */
.lm-CommandPalette-itemIcon {
  flex: 0 0 auto;
}


/* <DEPRECATED> */ .p-CommandPalette-itemContent, /* </DEPRECATED> */
.lm-CommandPalette-itemContent {
  flex: 1 1 auto;
  overflow: hidden;
}


/* <DEPRECATED> */ .p-CommandPalette-itemShortcut, /* </DEPRECATED> */
.lm-CommandPalette-itemShortcut {
  flex: 0 0 auto;
}


/* <DEPRECATED> */ .p-CommandPalette-itemLabel, /* </DEPRECATED> */
.lm-CommandPalette-itemLabel {
  overflow: hidden;
  white-space: nowrap;
  text-overflow: ellipsis;
}

.lm-close-icon {
	border:1px solid transparent;
  background-color: transparent;
  position: absolute;
	z-index:1;
	right:3%;
	top: 0;
	bottom: 0;
	margin: auto;
	padding: 7px 0;
	display: none;
	vertical-align: middle;
  outline: 0;
  cursor: pointer;
}
.lm-close-icon:after {
	content: "X";
	display: block;
	width: 15px;
	height: 15px;
	text-align: center;
	color:#000;
	font-weight: normal;
	font-size: 12px;
	cursor: pointer;
}

/*-----------------------------------------------------------------------------
| Copyright (c) Jupyter Development Team.
| Copyright (c) 2014-2017, PhosphorJS Contributors
|
| Distributed under the terms of the BSD 3-Clause License.
|
| The full license is in the file LICENSE, distributed with this software.
|----------------------------------------------------------------------------*/


/* <DEPRECATED> */ .p-DockPanel, /* </DEPRECATED> */
.lm-DockPanel {
  z-index: 0;
}


/* <DEPRECATED> */ .p-DockPanel-widget, /* </DEPRECATED> */
.lm-DockPanel-widget {
  z-index: 0;
}


/* <DEPRECATED> */ .p-DockPanel-tabBar, /* </DEPRECATED> */
.lm-DockPanel-tabBar {
  z-index: 1;
}


/* <DEPRECATED> */ .p-DockPanel-handle, /* </DEPRECATED> */
.lm-DockPanel-handle {
  z-index: 2;
}


/* <DEPRECATED> */ .p-DockPanel-handle.p-mod-hidden, /* </DEPRECATED> */
.lm-DockPanel-handle.lm-mod-hidden {
  display: none !important;
}


/* <DEPRECATED> */ .p-DockPanel-handle:after, /* </DEPRECATED> */
.lm-DockPanel-handle:after {
  position: absolute;
  top: 0;
  left: 0;
  width: 100%;
  height: 100%;
  content: '';
}


/* <DEPRECATED> */
.p-DockPanel-handle[data-orientation='horizontal'],
/* </DEPRECATED> */
.lm-DockPanel-handle[data-orientation='horizontal'] {
  cursor: ew-resize;
}


/* <DEPRECATED> */
.p-DockPanel-handle[data-orientation='vertical'],
/* </DEPRECATED> */
.lm-DockPanel-handle[data-orientation='vertical'] {
  cursor: ns-resize;
}


/* <DEPRECATED> */
.p-DockPanel-handle[data-orientation='horizontal']:after,
/* </DEPRECATED> */
.lm-DockPanel-handle[data-orientation='horizontal']:after {
  left: 50%;
  min-width: 8px;
  transform: translateX(-50%);
}


/* <DEPRECATED> */
.p-DockPanel-handle[data-orientation='vertical']:after,
/* </DEPRECATED> */
.lm-DockPanel-handle[data-orientation='vertical']:after {
  top: 50%;
  min-height: 8px;
  transform: translateY(-50%);
}


/* <DEPRECATED> */ .p-DockPanel-overlay, /* </DEPRECATED> */
.lm-DockPanel-overlay {
  z-index: 3;
  box-sizing: border-box;
  pointer-events: none;
}


/* <DEPRECATED> */ .p-DockPanel-overlay.p-mod-hidden, /* </DEPRECATED> */
.lm-DockPanel-overlay.lm-mod-hidden {
  display: none !important;
}

/*-----------------------------------------------------------------------------
| Copyright (c) Jupyter Development Team.
| Copyright (c) 2014-2017, PhosphorJS Contributors
|
| Distributed under the terms of the BSD 3-Clause License.
|
| The full license is in the file LICENSE, distributed with this software.
|----------------------------------------------------------------------------*/


/* <DEPRECATED> */ .p-Menu, /* </DEPRECATED> */
.lm-Menu {
  z-index: 10000;
  position: absolute;
  white-space: nowrap;
  overflow-x: hidden;
  overflow-y: auto;
  outline: none;
  -webkit-user-select: none;
  -moz-user-select: none;
  -ms-user-select: none;
  user-select: none;
}


/* <DEPRECATED> */ .p-Menu-content, /* </DEPRECATED> */
.lm-Menu-content {
  margin: 0;
  padding: 0;
  display: table;
  list-style-type: none;
}


/* <DEPRECATED> */ .p-Menu-item, /* </DEPRECATED> */
.lm-Menu-item {
  display: table-row;
}


/* <DEPRECATED> */
.p-Menu-item.p-mod-hidden,
.p-Menu-item.p-mod-collapsed,
/* </DEPRECATED> */
.lm-Menu-item.lm-mod-hidden,
.lm-Menu-item.lm-mod-collapsed {
  display: none !important;
}


/* <DEPRECATED> */
.p-Menu-itemIcon,
.p-Menu-itemSubmenuIcon,
/* </DEPRECATED> */
.lm-Menu-itemIcon,
.lm-Menu-itemSubmenuIcon {
  display: table-cell;
  text-align: center;
}


/* <DEPRECATED> */ .p-Menu-itemLabel, /* </DEPRECATED> */
.lm-Menu-itemLabel {
  display: table-cell;
  text-align: left;
}


/* <DEPRECATED> */ .p-Menu-itemShortcut, /* </DEPRECATED> */
.lm-Menu-itemShortcut {
  display: table-cell;
  text-align: right;
}

/*-----------------------------------------------------------------------------
| Copyright (c) Jupyter Development Team.
| Copyright (c) 2014-2017, PhosphorJS Contributors
|
| Distributed under the terms of the BSD 3-Clause License.
|
| The full license is in the file LICENSE, distributed with this software.
|----------------------------------------------------------------------------*/


/* <DEPRECATED> */ .p-MenuBar, /* </DEPRECATED> */
.lm-MenuBar {
  outline: none;
  -webkit-user-select: none;
  -moz-user-select: none;
  -ms-user-select: none;
  user-select: none;
}


/* <DEPRECATED> */ .p-MenuBar-content, /* </DEPRECATED> */
.lm-MenuBar-content {
  margin: 0;
  padding: 0;
  display: flex;
  flex-direction: row;
  list-style-type: none;
}


/* <DEPRECATED> */ .p--MenuBar-item, /* </DEPRECATED> */
.lm-MenuBar-item {
  box-sizing: border-box;
}


/* <DEPRECATED> */
.p-MenuBar-itemIcon,
.p-MenuBar-itemLabel,
/* </DEPRECATED> */
.lm-MenuBar-itemIcon,
.lm-MenuBar-itemLabel {
  display: inline-block;
}

/*-----------------------------------------------------------------------------
| Copyright (c) Jupyter Development Team.
| Copyright (c) 2014-2017, PhosphorJS Contributors
|
| Distributed under the terms of the BSD 3-Clause License.
|
| The full license is in the file LICENSE, distributed with this software.
|----------------------------------------------------------------------------*/


/* <DEPRECATED> */ .p-ScrollBar, /* </DEPRECATED> */
.lm-ScrollBar {
  display: flex;
  -webkit-user-select: none;
  -moz-user-select: none;
  -ms-user-select: none;
  user-select: none;
}


/* <DEPRECATED> */
.p-ScrollBar[data-orientation='horizontal'],
/* </DEPRECATED> */
.lm-ScrollBar[data-orientation='horizontal'] {
  flex-direction: row;
}


/* <DEPRECATED> */
.p-ScrollBar[data-orientation='vertical'],
/* </DEPRECATED> */
.lm-ScrollBar[data-orientation='vertical'] {
  flex-direction: column;
}


/* <DEPRECATED> */ .p-ScrollBar-button, /* </DEPRECATED> */
.lm-ScrollBar-button {
  box-sizing: border-box;
  flex: 0 0 auto;
}


/* <DEPRECATED> */ .p-ScrollBar-track, /* </DEPRECATED> */
.lm-ScrollBar-track {
  box-sizing: border-box;
  position: relative;
  overflow: hidden;
  flex: 1 1 auto;
}


/* <DEPRECATED> */ .p-ScrollBar-thumb, /* </DEPRECATED> */
.lm-ScrollBar-thumb {
  box-sizing: border-box;
  position: absolute;
}

/*-----------------------------------------------------------------------------
| Copyright (c) Jupyter Development Team.
| Copyright (c) 2014-2017, PhosphorJS Contributors
|
| Distributed under the terms of the BSD 3-Clause License.
|
| The full license is in the file LICENSE, distributed with this software.
|----------------------------------------------------------------------------*/


/* <DEPRECATED> */ .p-SplitPanel-child, /* </DEPRECATED> */
.lm-SplitPanel-child {
  z-index: 0;
}


/* <DEPRECATED> */ .p-SplitPanel-handle, /* </DEPRECATED> */
.lm-SplitPanel-handle {
  z-index: 1;
}


/* <DEPRECATED> */ .p-SplitPanel-handle.p-mod-hidden, /* </DEPRECATED> */
.lm-SplitPanel-handle.lm-mod-hidden {
  display: none !important;
}


/* <DEPRECATED> */ .p-SplitPanel-handle:after, /* </DEPRECATED> */
.lm-SplitPanel-handle:after {
  position: absolute;
  top: 0;
  left: 0;
  width: 100%;
  height: 100%;
  content: '';
}


/* <DEPRECATED> */
.p-SplitPanel[data-orientation='horizontal'] > .p-SplitPanel-handle,
/* </DEPRECATED> */
.lm-SplitPanel[data-orientation='horizontal'] > .lm-SplitPanel-handle {
  cursor: ew-resize;
}


/* <DEPRECATED> */
.p-SplitPanel[data-orientation='vertical'] > .p-SplitPanel-handle,
/* </DEPRECATED> */
.lm-SplitPanel[data-orientation='vertical'] > .lm-SplitPanel-handle {
  cursor: ns-resize;
}


/* <DEPRECATED> */
.p-SplitPanel[data-orientation='horizontal'] > .p-SplitPanel-handle:after,
/* </DEPRECATED> */
.lm-SplitPanel[data-orientation='horizontal'] > .lm-SplitPanel-handle:after {
  left: 50%;
  min-width: 8px;
  transform: translateX(-50%);
}


/* <DEPRECATED> */
.p-SplitPanel[data-orientation='vertical'] > .p-SplitPanel-handle:after,
/* </DEPRECATED> */
.lm-SplitPanel[data-orientation='vertical'] > .lm-SplitPanel-handle:after {
  top: 50%;
  min-height: 8px;
  transform: translateY(-50%);
}

/*-----------------------------------------------------------------------------
| Copyright (c) Jupyter Development Team.
| Copyright (c) 2014-2017, PhosphorJS Contributors
|
| Distributed under the terms of the BSD 3-Clause License.
|
| The full license is in the file LICENSE, distributed with this software.
|----------------------------------------------------------------------------*/


/* <DEPRECATED> */ .p-TabBar, /* </DEPRECATED> */
.lm-TabBar {
  display: flex;
  -webkit-user-select: none;
  -moz-user-select: none;
  -ms-user-select: none;
  user-select: none;
}


/* <DEPRECATED> */ .p-TabBar[data-orientation='horizontal'], /* </DEPRECATED> */
.lm-TabBar[data-orientation='horizontal'] {
  flex-direction: row;
  align-items: flex-end;
}


/* <DEPRECATED> */ .p-TabBar[data-orientation='vertical'], /* </DEPRECATED> */
.lm-TabBar[data-orientation='vertical'] {
  flex-direction: column;
  align-items: flex-end;
}


/* <DEPRECATED> */ .p-TabBar-content, /* </DEPRECATED> */
.lm-TabBar-content {
  margin: 0;
  padding: 0;
  display: flex;
  flex: 1 1 auto;
  list-style-type: none;
}


/* <DEPRECATED> */
.p-TabBar[data-orientation='horizontal'] > .p-TabBar-content,
/* </DEPRECATED> */
.lm-TabBar[data-orientation='horizontal'] > .lm-TabBar-content {
  flex-direction: row;
}


/* <DEPRECATED> */
.p-TabBar[data-orientation='vertical'] > .p-TabBar-content,
/* </DEPRECATED> */
.lm-TabBar[data-orientation='vertical'] > .lm-TabBar-content {
  flex-direction: column;
}


/* <DEPRECATED> */ .p-TabBar-tab, /* </DEPRECATED> */
.lm-TabBar-tab {
  display: flex;
  flex-direction: row;
  box-sizing: border-box;
  overflow: hidden;
}


/* <DEPRECATED> */
.p-TabBar-tabIcon,
.p-TabBar-tabCloseIcon,
/* </DEPRECATED> */
.lm-TabBar-tabIcon,
.lm-TabBar-tabCloseIcon {
  flex: 0 0 auto;
}


/* <DEPRECATED> */ .p-TabBar-tabLabel, /* </DEPRECATED> */
.lm-TabBar-tabLabel {
  flex: 1 1 auto;
  overflow: hidden;
  white-space: nowrap;
}


.lm-TabBar-tabInput {
  user-select: all;
  width: 100%;
  box-sizing : border-box;
}


/* <DEPRECATED> */ .p-TabBar-tab.p-mod-hidden, /* </DEPRECATED> */
.lm-TabBar-tab.lm-mod-hidden {
  display: none !important;
}


.lm-TabBar-addButton.lm-mod-hidden {
  display: none !important;
}


/* <DEPRECATED> */ .p-TabBar.p-mod-dragging .p-TabBar-tab, /* </DEPRECATED> */
.lm-TabBar.lm-mod-dragging .lm-TabBar-tab {
  position: relative;
}


/* <DEPRECATED> */
.p-TabBar.p-mod-dragging[data-orientation='horizontal'] .p-TabBar-tab,
/* </DEPRECATED> */
.lm-TabBar.lm-mod-dragging[data-orientation='horizontal'] .lm-TabBar-tab {
  left: 0;
  transition: left 150ms ease;
}


/* <DEPRECATED> */
.p-TabBar.p-mod-dragging[data-orientation='vertical'] .p-TabBar-tab,
/* </DEPRECATED> */
.lm-TabBar.lm-mod-dragging[data-orientation='vertical'] .lm-TabBar-tab {
  top: 0;
  transition: top 150ms ease;
}


/* <DEPRECATED> */
.p-TabBar.p-mod-dragging .p-TabBar-tab.p-mod-dragging,
/* </DEPRECATED> */
.lm-TabBar.lm-mod-dragging .lm-TabBar-tab.lm-mod-dragging {
  transition: none;
}

.lm-TabBar-tabLabel .lm-TabBar-tabInput {
  user-select: all;
  width: 100%;
  box-sizing : border-box;
  background: inherit;
}

/*-----------------------------------------------------------------------------
| Copyright (c) Jupyter Development Team.
| Copyright (c) 2014-2017, PhosphorJS Contributors
|
| Distributed under the terms of the BSD 3-Clause License.
|
| The full license is in the file LICENSE, distributed with this software.
|----------------------------------------------------------------------------*/


/* <DEPRECATED> */ .p-TabPanel-tabBar, /* </DEPRECATED> */
.lm-TabPanel-tabBar {
  z-index: 1;
}


/* <DEPRECATED> */ .p-TabPanel-stackedPanel, /* </DEPRECATED> */
.lm-TabPanel-stackedPanel {
  z-index: 0;
}

/*-----------------------------------------------------------------------------
| Copyright (c) Jupyter Development Team.
| Copyright (c) 2014-2017, PhosphorJS Contributors
|
| Distributed under the terms of the BSD 3-Clause License.
|
| The full license is in the file LICENSE, distributed with this software.
|----------------------------------------------------------------------------*/

@charset "UTF-8";
html{
  -webkit-box-sizing:border-box;
          box-sizing:border-box; }

*,
*::before,
*::after{
  -webkit-box-sizing:inherit;
          box-sizing:inherit; }

body{
  font-size:14px;
  font-weight:400;
  letter-spacing:0;
  line-height:1.28581;
  text-transform:none;
  color:#182026;
  font-family:-apple-system, "BlinkMacSystemFont", "Segoe UI", "Roboto", "Oxygen", "Ubuntu", "Cantarell", "Open Sans", "Helvetica Neue", "Icons16", sans-serif; }

p{
  margin-bottom:10px;
  margin-top:0; }

small{
  font-size:12px; }

strong{
  font-weight:600; }

::-moz-selection{
  background:rgba(125, 188, 255, 0.6); }

::selection{
  background:rgba(125, 188, 255, 0.6); }
.bp3-heading{
  color:#182026;
  font-weight:600;
  margin:0 0 10px;
  padding:0; }
  .bp3-dark .bp3-heading{
    color:#f5f8fa; }

h1.bp3-heading, .bp3-running-text h1{
  font-size:36px;
  line-height:40px; }

h2.bp3-heading, .bp3-running-text h2{
  font-size:28px;
  line-height:32px; }

h3.bp3-heading, .bp3-running-text h3{
  font-size:22px;
  line-height:25px; }

h4.bp3-heading, .bp3-running-text h4{
  font-size:18px;
  line-height:21px; }

h5.bp3-heading, .bp3-running-text h5{
  font-size:16px;
  line-height:19px; }

h6.bp3-heading, .bp3-running-text h6{
  font-size:14px;
  line-height:16px; }
.bp3-ui-text{
  font-size:14px;
  font-weight:400;
  letter-spacing:0;
  line-height:1.28581;
  text-transform:none; }

.bp3-monospace-text{
  font-family:monospace;
  text-transform:none; }

.bp3-text-muted{
  color:#5c7080; }
  .bp3-dark .bp3-text-muted{
    color:#a7b6c2; }

.bp3-text-disabled{
  color:rgba(92, 112, 128, 0.6); }
  .bp3-dark .bp3-text-disabled{
    color:rgba(167, 182, 194, 0.6); }

.bp3-text-overflow-ellipsis{
  overflow:hidden;
  text-overflow:ellipsis;
  white-space:nowrap;
  word-wrap:normal; }
.bp3-running-text{
  font-size:14px;
  line-height:1.5; }
  .bp3-running-text h1{
    color:#182026;
    font-weight:600;
    margin-bottom:20px;
    margin-top:40px; }
    .bp3-dark .bp3-running-text h1{
      color:#f5f8fa; }
  .bp3-running-text h2{
    color:#182026;
    font-weight:600;
    margin-bottom:20px;
    margin-top:40px; }
    .bp3-dark .bp3-running-text h2{
      color:#f5f8fa; }
  .bp3-running-text h3{
    color:#182026;
    font-weight:600;
    margin-bottom:20px;
    margin-top:40px; }
    .bp3-dark .bp3-running-text h3{
      color:#f5f8fa; }
  .bp3-running-text h4{
    color:#182026;
    font-weight:600;
    margin-bottom:20px;
    margin-top:40px; }
    .bp3-dark .bp3-running-text h4{
      color:#f5f8fa; }
  .bp3-running-text h5{
    color:#182026;
    font-weight:600;
    margin-bottom:20px;
    margin-top:40px; }
    .bp3-dark .bp3-running-text h5{
      color:#f5f8fa; }
  .bp3-running-text h6{
    color:#182026;
    font-weight:600;
    margin-bottom:20px;
    margin-top:40px; }
    .bp3-dark .bp3-running-text h6{
      color:#f5f8fa; }
  .bp3-running-text hr{
    border:none;
    border-bottom:1px solid rgba(16, 22, 26, 0.15);
    margin:20px 0; }
    .bp3-dark .bp3-running-text hr{
      border-color:rgba(255, 255, 255, 0.15); }
  .bp3-running-text p{
    margin:0 0 10px;
    padding:0; }

.bp3-text-large{
  font-size:16px; }

.bp3-text-small{
  font-size:12px; }
a{
  color:#106ba3;
  text-decoration:none; }
  a:hover{
    color:#106ba3;
    cursor:pointer;
    text-decoration:underline; }
  a .bp3-icon, a .bp3-icon-standard, a .bp3-icon-large{
    color:inherit; }
  a code,
  .bp3-dark a code{
    color:inherit; }
  .bp3-dark a,
  .bp3-dark a:hover{
    color:#48aff0; }
    .bp3-dark a .bp3-icon, .bp3-dark a .bp3-icon-standard, .bp3-dark a .bp3-icon-large,
    .bp3-dark a:hover .bp3-icon,
    .bp3-dark a:hover .bp3-icon-standard,
    .bp3-dark a:hover .bp3-icon-large{
      color:inherit; }
.bp3-running-text code, .bp3-code{
  font-family:monospace;
  text-transform:none;
  background:rgba(255, 255, 255, 0.7);
  border-radius:3px;
  -webkit-box-shadow:inset 0 0 0 1px rgba(16, 22, 26, 0.2);
          box-shadow:inset 0 0 0 1px rgba(16, 22, 26, 0.2);
  color:#5c7080;
  font-size:smaller;
  padding:2px 5px; }
  .bp3-dark .bp3-running-text code, .bp3-running-text .bp3-dark code, .bp3-dark .bp3-code{
    background:rgba(16, 22, 26, 0.3);
    -webkit-box-shadow:inset 0 0 0 1px rgba(16, 22, 26, 0.4);
            box-shadow:inset 0 0 0 1px rgba(16, 22, 26, 0.4);
    color:#a7b6c2; }
  .bp3-running-text a > code, a > .bp3-code{
    color:#137cbd; }
    .bp3-dark .bp3-running-text a > code, .bp3-running-text .bp3-dark a > code, .bp3-dark a > .bp3-code{
      color:inherit; }

.bp3-running-text pre, .bp3-code-block{
  font-family:monospace;
  text-transform:none;
  background:rgba(255, 255, 255, 0.7);
  border-radius:3px;
  -webkit-box-shadow:inset 0 0 0 1px rgba(16, 22, 26, 0.15);
          box-shadow:inset 0 0 0 1px rgba(16, 22, 26, 0.15);
  color:#182026;
  display:block;
  font-size:13px;
  line-height:1.4;
  margin:10px 0;
  padding:13px 15px 12px;
  word-break:break-all;
  word-wrap:break-word; }
  .bp3-dark .bp3-running-text pre, .bp3-running-text .bp3-dark pre, .bp3-dark .bp3-code-block{
    background:rgba(16, 22, 26, 0.3);
    -webkit-box-shadow:inset 0 0 0 1px rgba(16, 22, 26, 0.4);
            box-shadow:inset 0 0 0 1px rgba(16, 22, 26, 0.4);
    color:#f5f8fa; }
  .bp3-running-text pre > code, .bp3-code-block > code{
    background:none;
    -webkit-box-shadow:none;
            box-shadow:none;
    color:inherit;
    font-size:inherit;
    padding:0; }

.bp3-running-text kbd, .bp3-key{
  -webkit-box-align:center;
      -ms-flex-align:center;
          align-items:center;
  background:#ffffff;
  border-radius:3px;
  -webkit-box-shadow:0 0 0 1px rgba(16, 22, 26, 0.1), 0 0 0 rgba(16, 22, 26, 0), 0 1px 1px rgba(16, 22, 26, 0.2);
          box-shadow:0 0 0 1px rgba(16, 22, 26, 0.1), 0 0 0 rgba(16, 22, 26, 0), 0 1px 1px rgba(16, 22, 26, 0.2);
  color:#5c7080;
  display:-webkit-inline-box;
  display:-ms-inline-flexbox;
  display:inline-flex;
  font-family:inherit;
  font-size:12px;
  height:24px;
  -webkit-box-pack:center;
      -ms-flex-pack:center;
          justify-content:center;
  line-height:24px;
  min-width:24px;
  padding:3px 6px;
  vertical-align:middle; }
  .bp3-running-text kbd .bp3-icon, .bp3-key .bp3-icon, .bp3-running-text kbd .bp3-icon-standard, .bp3-key .bp3-icon-standard, .bp3-running-text kbd .bp3-icon-large, .bp3-key .bp3-icon-large{
    margin-right:5px; }
  .bp3-dark .bp3-running-text kbd, .bp3-running-text .bp3-dark kbd, .bp3-dark .bp3-key{
    background:#394b59;
    -webkit-box-shadow:0 0 0 1px rgba(16, 22, 26, 0.2), 0 0 0 rgba(16, 22, 26, 0), 0 1px 1px rgba(16, 22, 26, 0.4);
            box-shadow:0 0 0 1px rgba(16, 22, 26, 0.2), 0 0 0 rgba(16, 22, 26, 0), 0 1px 1px rgba(16, 22, 26, 0.4);
    color:#a7b6c2; }
.bp3-running-text blockquote, .bp3-blockquote{
  border-left:solid 4px rgba(167, 182, 194, 0.5);
  margin:0 0 10px;
  padding:0 20px; }
  .bp3-dark .bp3-running-text blockquote, .bp3-running-text .bp3-dark blockquote, .bp3-dark .bp3-blockquote{
    border-color:rgba(115, 134, 148, 0.5); }
.bp3-running-text ul,
.bp3-running-text ol, .bp3-list{
  margin:10px 0;
  padding-left:30px; }
  .bp3-running-text ul li:not(:last-child), .bp3-running-text ol li:not(:last-child), .bp3-list li:not(:last-child){
    margin-bottom:5px; }
  .bp3-running-text ul ol, .bp3-running-text ol ol, .bp3-list ol,
  .bp3-running-text ul ul,
  .bp3-running-text ol ul,
  .bp3-list ul{
    margin-top:5px; }

.bp3-list-unstyled{
  list-style:none;
  margin:0;
  padding:0; }
  .bp3-list-unstyled li{
    padding:0; }
.bp3-rtl{
  text-align:right; }

.bp3-dark{
  color:#f5f8fa; }

:focus{
  outline:rgba(19, 124, 189, 0.6) auto 2px;
  outline-offset:2px;
  -moz-outline-radius:6px; }

.bp3-focus-disabled :focus{
  outline:none !important; }
  .bp3-focus-disabled :focus ~ .bp3-control-indicator{
    outline:none !important; }

.bp3-alert{
  max-width:400px;
  padding:20px; }

.bp3-alert-body{
  display:-webkit-box;
  display:-ms-flexbox;
  display:flex; }
  .bp3-alert-body .bp3-icon{
    font-size:40px;
    margin-right:20px;
    margin-top:0; }

.bp3-alert-contents{
  word-break:break-word; }

.bp3-alert-footer{
  display:-webkit-box;
  display:-ms-flexbox;
  display:flex;
  -webkit-box-orient:horizontal;
  -webkit-box-direction:reverse;
      -ms-flex-direction:row-reverse;
          flex-direction:row-reverse;
  margin-top:10px; }
  .bp3-alert-footer .bp3-button{
    margin-left:10px; }
.bp3-breadcrumbs{
  -webkit-box-align:center;
      -ms-flex-align:center;
          align-items:center;
  cursor:default;
  display:-webkit-box;
  display:-ms-flexbox;
  display:flex;
  -ms-flex-wrap:wrap;
      flex-wrap:wrap;
  height:30px;
  list-style:none;
  margin:0;
  padding:0; }
  .bp3-breadcrumbs > li{
    -webkit-box-align:center;
        -ms-flex-align:center;
            align-items:center;
    display:-webkit-box;
    display:-ms-flexbox;
    display:flex; }
    .bp3-breadcrumbs > li::after{
      background:url("data:image/svg+xml,%3csvg xmlns='http://www.w3.org/2000/svg' viewBox='0 0 16 16'%3e%3cpath fill-rule='evenodd' clip-rule='evenodd' d='M10.71 7.29l-4-4a1.003 1.003 0 00-1.42 1.42L8.59 8 5.3 11.29c-.19.18-.3.43-.3.71a1.003 1.003 0 001.71.71l4-4c.18-.18.29-.43.29-.71 0-.28-.11-.53-.29-.71z' fill='%235C7080'/%3e%3c/svg%3e");
      content:"";
      display:block;
      height:16px;
      margin:0 5px;
      width:16px; }
    .bp3-breadcrumbs > li:last-of-type::after{
      display:none; }

.bp3-breadcrumb,
.bp3-breadcrumb-current,
.bp3-breadcrumbs-collapsed{
  -webkit-box-align:center;
      -ms-flex-align:center;
          align-items:center;
  display:-webkit-inline-box;
  display:-ms-inline-flexbox;
  display:inline-flex;
  font-size:16px; }

.bp3-breadcrumb,
.bp3-breadcrumbs-collapsed{
  color:#5c7080; }

.bp3-breadcrumb:hover{
  text-decoration:none; }

.bp3-breadcrumb.bp3-disabled{
  color:rgba(92, 112, 128, 0.6);
  cursor:not-allowed; }

.bp3-breadcrumb .bp3-icon{
  margin-right:5px; }

.bp3-breadcrumb-current{
  color:inherit;
  font-weight:600; }
  .bp3-breadcrumb-current .bp3-input{
    font-size:inherit;
    font-weight:inherit;
    vertical-align:baseline; }

.bp3-breadcrumbs-collapsed{
  background:#ced9e0;
  border:none;
  border-radius:3px;
  cursor:pointer;
  margin-right:2px;
  padding:1px 5px;
  vertical-align:text-bottom; }
  .bp3-breadcrumbs-collapsed::before{
    background:url("data:image/svg+xml,%3csvg xmlns='http://www.w3.org/2000/svg' viewBox='0 0 16 16'%3e%3cg fill='%235C7080'%3e%3ccircle cx='2' cy='8.03' r='2'/%3e%3ccircle cx='14' cy='8.03' r='2'/%3e%3ccircle cx='8' cy='8.03' r='2'/%3e%3c/g%3e%3c/svg%3e") center no-repeat;
    content:"";
    display:block;
    height:16px;
    width:16px; }
  .bp3-breadcrumbs-collapsed:hover{
    background:#bfccd6;
    color:#182026;
    text-decoration:none; }

.bp3-dark .bp3-breadcrumb,
.bp3-dark .bp3-breadcrumbs-collapsed{
  color:#a7b6c2; }

.bp3-dark .bp3-breadcrumbs > li::after{
  color:#a7b6c2; }

.bp3-dark .bp3-breadcrumb.bp3-disabled{
  color:rgba(167, 182, 194, 0.6); }

.bp3-dark .bp3-breadcrumb-current{
  color:#f5f8fa; }

.bp3-dark .bp3-breadcrumbs-collapsed{
  background:rgba(16, 22, 26, 0.4); }
  .bp3-dark .bp3-breadcrumbs-collapsed:hover{
    background:rgba(16, 22, 26, 0.6);
    color:#f5f8fa; }
.bp3-button{
  display:-webkit-inline-box;
  display:-ms-inline-flexbox;
  display:inline-flex;
  -webkit-box-orient:horizontal;
  -webkit-box-direction:normal;
      -ms-flex-direction:row;
          flex-direction:row;
  -webkit-box-align:center;
      -ms-flex-align:center;
          align-items:center;
  border:none;
  border-radius:3px;
  cursor:pointer;
  font-size:14px;
  -webkit-box-pack:center;
      -ms-flex-pack:center;
          justify-content:center;
  padding:5px 10px;
  text-align:left;
  vertical-align:middle;
  min-height:30px;
  min-width:30px; }
  .bp3-button > *{
    -webkit-box-flex:0;
        -ms-flex-positive:0;
            flex-grow:0;
    -ms-flex-negative:0;
        flex-shrink:0; }
  .bp3-button > .bp3-fill{
    -webkit-box-flex:1;
        -ms-flex-positive:1;
            flex-grow:1;
    -ms-flex-negative:1;
        flex-shrink:1; }
  .bp3-button::before,
  .bp3-button > *{
    margin-right:7px; }
  .bp3-button:empty::before,
  .bp3-button > :last-child{
    margin-right:0; }
  .bp3-button:empty{
    padding:0 !important; }
  .bp3-button:disabled, .bp3-button.bp3-disabled{
    cursor:not-allowed; }
  .bp3-button.bp3-fill{
    display:-webkit-box;
    display:-ms-flexbox;
    display:flex;
    width:100%; }
  .bp3-button.bp3-align-right,
  .bp3-align-right .bp3-button{
    text-align:right; }
  .bp3-button.bp3-align-left,
  .bp3-align-left .bp3-button{
    text-align:left; }
  .bp3-button:not([class*="bp3-intent-"]){
    background-color:#f5f8fa;
    background-image:-webkit-gradient(linear, left top, left bottom, from(rgba(255, 255, 255, 0.8)), to(rgba(255, 255, 255, 0)));
    background-image:linear-gradient(to bottom, rgba(255, 255, 255, 0.8), rgba(255, 255, 255, 0));
    -webkit-box-shadow:inset 0 0 0 1px rgba(16, 22, 26, 0.2), inset 0 -1px 0 rgba(16, 22, 26, 0.1);
            box-shadow:inset 0 0 0 1px rgba(16, 22, 26, 0.2), inset 0 -1px 0 rgba(16, 22, 26, 0.1);
    color:#182026; }
    .bp3-button:not([class*="bp3-intent-"]):hover{
      background-clip:padding-box;
      background-color:#ebf1f5;
      -webkit-box-shadow:inset 0 0 0 1px rgba(16, 22, 26, 0.2), inset 0 -1px 0 rgba(16, 22, 26, 0.1);
              box-shadow:inset 0 0 0 1px rgba(16, 22, 26, 0.2), inset 0 -1px 0 rgba(16, 22, 26, 0.1); }
    .bp3-button:not([class*="bp3-intent-"]):active, .bp3-button:not([class*="bp3-intent-"]).bp3-active{
      background-color:#d8e1e8;
      background-image:none;
      -webkit-box-shadow:inset 0 0 0 1px rgba(16, 22, 26, 0.2), inset 0 1px 2px rgba(16, 22, 26, 0.2);
              box-shadow:inset 0 0 0 1px rgba(16, 22, 26, 0.2), inset 0 1px 2px rgba(16, 22, 26, 0.2); }
    .bp3-button:not([class*="bp3-intent-"]):disabled, .bp3-button:not([class*="bp3-intent-"]).bp3-disabled{
      background-color:rgba(206, 217, 224, 0.5);
      background-image:none;
      -webkit-box-shadow:none;
              box-shadow:none;
      color:rgba(92, 112, 128, 0.6);
      cursor:not-allowed;
      outline:none; }
      .bp3-button:not([class*="bp3-intent-"]):disabled.bp3-active, .bp3-button:not([class*="bp3-intent-"]):disabled.bp3-active:hover, .bp3-button:not([class*="bp3-intent-"]).bp3-disabled.bp3-active, .bp3-button:not([class*="bp3-intent-"]).bp3-disabled.bp3-active:hover{
        background:rgba(206, 217, 224, 0.7); }
  .bp3-button.bp3-intent-primary{
    background-color:#137cbd;
    background-image:-webkit-gradient(linear, left top, left bottom, from(rgba(255, 255, 255, 0.1)), to(rgba(255, 255, 255, 0)));
    background-image:linear-gradient(to bottom, rgba(255, 255, 255, 0.1), rgba(255, 255, 255, 0));
    -webkit-box-shadow:inset 0 0 0 1px rgba(16, 22, 26, 0.4), inset 0 -1px 0 rgba(16, 22, 26, 0.2);
            box-shadow:inset 0 0 0 1px rgba(16, 22, 26, 0.4), inset 0 -1px 0 rgba(16, 22, 26, 0.2);
    color:#ffffff; }
    .bp3-button.bp3-intent-primary:hover, .bp3-button.bp3-intent-primary:active, .bp3-button.bp3-intent-primary.bp3-active{
      color:#ffffff; }
    .bp3-button.bp3-intent-primary:hover{
      background-color:#106ba3;
      -webkit-box-shadow:inset 0 0 0 1px rgba(16, 22, 26, 0.4), inset 0 -1px 0 rgba(16, 22, 26, 0.2);
              box-shadow:inset 0 0 0 1px rgba(16, 22, 26, 0.4), inset 0 -1px 0 rgba(16, 22, 26, 0.2); }
    .bp3-button.bp3-intent-primary:active, .bp3-button.bp3-intent-primary.bp3-active{
      background-color:#0e5a8a;
      background-image:none;
      -webkit-box-shadow:inset 0 0 0 1px rgba(16, 22, 26, 0.4), inset 0 1px 2px rgba(16, 22, 26, 0.2);
              box-shadow:inset 0 0 0 1px rgba(16, 22, 26, 0.4), inset 0 1px 2px rgba(16, 22, 26, 0.2); }
    .bp3-button.bp3-intent-primary:disabled, .bp3-button.bp3-intent-primary.bp3-disabled{
      background-color:rgba(19, 124, 189, 0.5);
      background-image:none;
      border-color:transparent;
      -webkit-box-shadow:none;
              box-shadow:none;
      color:rgba(255, 255, 255, 0.6); }
  .bp3-button.bp3-intent-success{
    background-color:#0f9960;
    background-image:-webkit-gradient(linear, left top, left bottom, from(rgba(255, 255, 255, 0.1)), to(rgba(255, 255, 255, 0)));
    background-image:linear-gradient(to bottom, rgba(255, 255, 255, 0.1), rgba(255, 255, 255, 0));
    -webkit-box-shadow:inset 0 0 0 1px rgba(16, 22, 26, 0.4), inset 0 -1px 0 rgba(16, 22, 26, 0.2);
            box-shadow:inset 0 0 0 1px rgba(16, 22, 26, 0.4), inset 0 -1px 0 rgba(16, 22, 26, 0.2);
    color:#ffffff; }
    .bp3-button.bp3-intent-success:hover, .bp3-button.bp3-intent-success:active, .bp3-button.bp3-intent-success.bp3-active{
      color:#ffffff; }
    .bp3-button.bp3-intent-success:hover{
      background-color:#0d8050;
      -webkit-box-shadow:inset 0 0 0 1px rgba(16, 22, 26, 0.4), inset 0 -1px 0 rgba(16, 22, 26, 0.2);
              box-shadow:inset 0 0 0 1px rgba(16, 22, 26, 0.4), inset 0 -1px 0 rgba(16, 22, 26, 0.2); }
    .bp3-button.bp3-intent-success:active, .bp3-button.bp3-intent-success.bp3-active{
      background-color:#0a6640;
      background-image:none;
      -webkit-box-shadow:inset 0 0 0 1px rgba(16, 22, 26, 0.4), inset 0 1px 2px rgba(16, 22, 26, 0.2);
              box-shadow:inset 0 0 0 1px rgba(16, 22, 26, 0.4), inset 0 1px 2px rgba(16, 22, 26, 0.2); }
    .bp3-button.bp3-intent-success:disabled, .bp3-button.bp3-intent-success.bp3-disabled{
      background-color:rgba(15, 153, 96, 0.5);
      background-image:none;
      border-color:transparent;
      -webkit-box-shadow:none;
              box-shadow:none;
      color:rgba(255, 255, 255, 0.6); }
  .bp3-button.bp3-intent-warning{
    background-color:#d9822b;
    background-image:-webkit-gradient(linear, left top, left bottom, from(rgba(255, 255, 255, 0.1)), to(rgba(255, 255, 255, 0)));
    background-image:linear-gradient(to bottom, rgba(255, 255, 255, 0.1), rgba(255, 255, 255, 0));
    -webkit-box-shadow:inset 0 0 0 1px rgba(16, 22, 26, 0.4), inset 0 -1px 0 rgba(16, 22, 26, 0.2);
            box-shadow:inset 0 0 0 1px rgba(16, 22, 26, 0.4), inset 0 -1px 0 rgba(16, 22, 26, 0.2);
    color:#ffffff; }
    .bp3-button.bp3-intent-warning:hover, .bp3-button.bp3-intent-warning:active, .bp3-button.bp3-intent-warning.bp3-active{
      color:#ffffff; }
    .bp3-button.bp3-intent-warning:hover{
      background-color:#bf7326;
      -webkit-box-shadow:inset 0 0 0 1px rgba(16, 22, 26, 0.4), inset 0 -1px 0 rgba(16, 22, 26, 0.2);
              box-shadow:inset 0 0 0 1px rgba(16, 22, 26, 0.4), inset 0 -1px 0 rgba(16, 22, 26, 0.2); }
    .bp3-button.bp3-intent-warning:active, .bp3-button.bp3-intent-warning.bp3-active{
      background-color:#a66321;
      background-image:none;
      -webkit-box-shadow:inset 0 0 0 1px rgba(16, 22, 26, 0.4), inset 0 1px 2px rgba(16, 22, 26, 0.2);
              box-shadow:inset 0 0 0 1px rgba(16, 22, 26, 0.4), inset 0 1px 2px rgba(16, 22, 26, 0.2); }
    .bp3-button.bp3-intent-warning:disabled, .bp3-button.bp3-intent-warning.bp3-disabled{
      background-color:rgba(217, 130, 43, 0.5);
      background-image:none;
      border-color:transparent;
      -webkit-box-shadow:none;
              box-shadow:none;
      color:rgba(255, 255, 255, 0.6); }
  .bp3-button.bp3-intent-danger{
    background-color:#db3737;
    background-image:-webkit-gradient(linear, left top, left bottom, from(rgba(255, 255, 255, 0.1)), to(rgba(255, 255, 255, 0)));
    background-image:linear-gradient(to bottom, rgba(255, 255, 255, 0.1), rgba(255, 255, 255, 0));
    -webkit-box-shadow:inset 0 0 0 1px rgba(16, 22, 26, 0.4), inset 0 -1px 0 rgba(16, 22, 26, 0.2);
            box-shadow:inset 0 0 0 1px rgba(16, 22, 26, 0.4), inset 0 -1px 0 rgba(16, 22, 26, 0.2);
    color:#ffffff; }
    .bp3-button.bp3-intent-danger:hover, .bp3-button.bp3-intent-danger:active, .bp3-button.bp3-intent-danger.bp3-active{
      color:#ffffff; }
    .bp3-button.bp3-intent-danger:hover{
      background-color:#c23030;
      -webkit-box-shadow:inset 0 0 0 1px rgba(16, 22, 26, 0.4), inset 0 -1px 0 rgba(16, 22, 26, 0.2);
              box-shadow:inset 0 0 0 1px rgba(16, 22, 26, 0.4), inset 0 -1px 0 rgba(16, 22, 26, 0.2); }
    .bp3-button.bp3-intent-danger:active, .bp3-button.bp3-intent-danger.bp3-active{
      background-color:#a82a2a;
      background-image:none;
      -webkit-box-shadow:inset 0 0 0 1px rgba(16, 22, 26, 0.4), inset 0 1px 2px rgba(16, 22, 26, 0.2);
              box-shadow:inset 0 0 0 1px rgba(16, 22, 26, 0.4), inset 0 1px 2px rgba(16, 22, 26, 0.2); }
    .bp3-button.bp3-intent-danger:disabled, .bp3-button.bp3-intent-danger.bp3-disabled{
      background-color:rgba(219, 55, 55, 0.5);
      background-image:none;
      border-color:transparent;
      -webkit-box-shadow:none;
              box-shadow:none;
      color:rgba(255, 255, 255, 0.6); }
  .bp3-button[class*="bp3-intent-"] .bp3-button-spinner .bp3-spinner-head{
    stroke:#ffffff; }
  .bp3-button.bp3-large,
  .bp3-large .bp3-button{
    min-height:40px;
    min-width:40px;
    font-size:16px;
    padding:5px 15px; }
    .bp3-button.bp3-large::before,
    .bp3-button.bp3-large > *,
    .bp3-large .bp3-button::before,
    .bp3-large .bp3-button > *{
      margin-right:10px; }
    .bp3-button.bp3-large:empty::before,
    .bp3-button.bp3-large > :last-child,
    .bp3-large .bp3-button:empty::before,
    .bp3-large .bp3-button > :last-child{
      margin-right:0; }
  .bp3-button.bp3-small,
  .bp3-small .bp3-button{
    min-height:24px;
    min-width:24px;
    padding:0 7px; }
  .bp3-button.bp3-loading{
    position:relative; }
    .bp3-button.bp3-loading[class*="bp3-icon-"]::before{
      visibility:hidden; }
    .bp3-button.bp3-loading .bp3-button-spinner{
      margin:0;
      position:absolute; }
    .bp3-button.bp3-loading > :not(.bp3-button-spinner){
      visibility:hidden; }
  .bp3-button[class*="bp3-icon-"]::before{
    font-family:"Icons16", sans-serif;
    font-size:16px;
    font-style:normal;
    font-weight:400;
    line-height:1;
    -moz-osx-font-smoothing:grayscale;
    -webkit-font-smoothing:antialiased;
    color:#5c7080; }
  .bp3-button .bp3-icon, .bp3-button .bp3-icon-standard, .bp3-button .bp3-icon-large{
    color:#5c7080; }
    .bp3-button .bp3-icon.bp3-align-right, .bp3-button .bp3-icon-standard.bp3-align-right, .bp3-button .bp3-icon-large.bp3-align-right{
      margin-left:7px; }
  .bp3-button .bp3-icon:first-child:last-child,
  .bp3-button .bp3-spinner + .bp3-icon:last-child{
    margin:0 -7px; }
  .bp3-dark .bp3-button:not([class*="bp3-intent-"]){
    background-color:#394b59;
    background-image:-webkit-gradient(linear, left top, left bottom, from(rgba(255, 255, 255, 0.05)), to(rgba(255, 255, 255, 0)));
    background-image:linear-gradient(to bottom, rgba(255, 255, 255, 0.05), rgba(255, 255, 255, 0));
    -webkit-box-shadow:0 0 0 1px rgba(16, 22, 26, 0.4);
            box-shadow:0 0 0 1px rgba(16, 22, 26, 0.4);
    color:#f5f8fa; }
    .bp3-dark .bp3-button:not([class*="bp3-intent-"]):hover, .bp3-dark .bp3-button:not([class*="bp3-intent-"]):active, .bp3-dark .bp3-button:not([class*="bp3-intent-"]).bp3-active{
      color:#f5f8fa; }
    .bp3-dark .bp3-button:not([class*="bp3-intent-"]):hover{
      background-color:#30404d;
      -webkit-box-shadow:0 0 0 1px rgba(16, 22, 26, 0.4);
              box-shadow:0 0 0 1px rgba(16, 22, 26, 0.4); }
    .bp3-dark .bp3-button:not([class*="bp3-intent-"]):active, .bp3-dark .bp3-button:not([class*="bp3-intent-"]).bp3-active{
      background-color:#202b33;
      background-image:none;
      -webkit-box-shadow:0 0 0 1px rgba(16, 22, 26, 0.6), inset 0 1px 2px rgba(16, 22, 26, 0.2);
              box-shadow:0 0 0 1px rgba(16, 22, 26, 0.6), inset 0 1px 2px rgba(16, 22, 26, 0.2); }
    .bp3-dark .bp3-button:not([class*="bp3-intent-"]):disabled, .bp3-dark .bp3-button:not([class*="bp3-intent-"]).bp3-disabled{
      background-color:rgba(57, 75, 89, 0.5);
      background-image:none;
      -webkit-box-shadow:none;
              box-shadow:none;
      color:rgba(167, 182, 194, 0.6); }
      .bp3-dark .bp3-button:not([class*="bp3-intent-"]):disabled.bp3-active, .bp3-dark .bp3-button:not([class*="bp3-intent-"]).bp3-disabled.bp3-active{
        background:rgba(57, 75, 89, 0.7); }
    .bp3-dark .bp3-button:not([class*="bp3-intent-"]) .bp3-button-spinner .bp3-spinner-head{
      background:rgba(16, 22, 26, 0.5);
      stroke:#8a9ba8; }
    .bp3-dark .bp3-button:not([class*="bp3-intent-"])[class*="bp3-icon-"]::before{
      color:#a7b6c2; }
    .bp3-dark .bp3-button:not([class*="bp3-intent-"]) .bp3-icon, .bp3-dark .bp3-button:not([class*="bp3-intent-"]) .bp3-icon-standard, .bp3-dark .bp3-button:not([class*="bp3-intent-"]) .bp3-icon-large{
      color:#a7b6c2; }
  .bp3-dark .bp3-button[class*="bp3-intent-"]{
    -webkit-box-shadow:0 0 0 1px rgba(16, 22, 26, 0.4);
            box-shadow:0 0 0 1px rgba(16, 22, 26, 0.4); }
    .bp3-dark .bp3-button[class*="bp3-intent-"]:hover{
      -webkit-box-shadow:0 0 0 1px rgba(16, 22, 26, 0.4);
              box-shadow:0 0 0 1px rgba(16, 22, 26, 0.4); }
    .bp3-dark .bp3-button[class*="bp3-intent-"]:active, .bp3-dark .bp3-button[class*="bp3-intent-"].bp3-active{
      -webkit-box-shadow:0 0 0 1px rgba(16, 22, 26, 0.4), inset 0 1px 2px rgba(16, 22, 26, 0.2);
              box-shadow:0 0 0 1px rgba(16, 22, 26, 0.4), inset 0 1px 2px rgba(16, 22, 26, 0.2); }
    .bp3-dark .bp3-button[class*="bp3-intent-"]:disabled, .bp3-dark .bp3-button[class*="bp3-intent-"].bp3-disabled{
      background-image:none;
      -webkit-box-shadow:none;
              box-shadow:none;
      color:rgba(255, 255, 255, 0.3); }
    .bp3-dark .bp3-button[class*="bp3-intent-"] .bp3-button-spinner .bp3-spinner-head{
      stroke:#8a9ba8; }
  .bp3-button:disabled::before,
  .bp3-button:disabled .bp3-icon, .bp3-button:disabled .bp3-icon-standard, .bp3-button:disabled .bp3-icon-large, .bp3-button.bp3-disabled::before,
  .bp3-button.bp3-disabled .bp3-icon, .bp3-button.bp3-disabled .bp3-icon-standard, .bp3-button.bp3-disabled .bp3-icon-large, .bp3-button[class*="bp3-intent-"]::before,
  .bp3-button[class*="bp3-intent-"] .bp3-icon, .bp3-button[class*="bp3-intent-"] .bp3-icon-standard, .bp3-button[class*="bp3-intent-"] .bp3-icon-large{
    color:inherit !important; }
  .bp3-button.bp3-minimal{
    background:none;
    -webkit-box-shadow:none;
            box-shadow:none; }
    .bp3-button.bp3-minimal:hover{
      background:rgba(167, 182, 194, 0.3);
      -webkit-box-shadow:none;
              box-shadow:none;
      color:#182026;
      text-decoration:none; }
    .bp3-button.bp3-minimal:active, .bp3-button.bp3-minimal.bp3-active{
      background:rgba(115, 134, 148, 0.3);
      -webkit-box-shadow:none;
              box-shadow:none;
      color:#182026; }
    .bp3-button.bp3-minimal:disabled, .bp3-button.bp3-minimal:disabled:hover, .bp3-button.bp3-minimal.bp3-disabled, .bp3-button.bp3-minimal.bp3-disabled:hover{
      background:none;
      color:rgba(92, 112, 128, 0.6);
      cursor:not-allowed; }
      .bp3-button.bp3-minimal:disabled.bp3-active, .bp3-button.bp3-minimal:disabled:hover.bp3-active, .bp3-button.bp3-minimal.bp3-disabled.bp3-active, .bp3-button.bp3-minimal.bp3-disabled:hover.bp3-active{
        background:rgba(115, 134, 148, 0.3); }
    .bp3-dark .bp3-button.bp3-minimal{
      background:none;
      -webkit-box-shadow:none;
              box-shadow:none;
      color:inherit; }
      .bp3-dark .bp3-button.bp3-minimal:hover, .bp3-dark .bp3-button.bp3-minimal:active, .bp3-dark .bp3-button.bp3-minimal.bp3-active{
        background:none;
        -webkit-box-shadow:none;
                box-shadow:none; }
      .bp3-dark .bp3-button.bp3-minimal:hover{
        background:rgba(138, 155, 168, 0.15); }
      .bp3-dark .bp3-button.bp3-minimal:active, .bp3-dark .bp3-button.bp3-minimal.bp3-active{
        background:rgba(138, 155, 168, 0.3);
        color:#f5f8fa; }
      .bp3-dark .bp3-button.bp3-minimal:disabled, .bp3-dark .bp3-button.bp3-minimal:disabled:hover, .bp3-dark .bp3-button.bp3-minimal.bp3-disabled, .bp3-dark .bp3-button.bp3-minimal.bp3-disabled:hover{
        background:none;
        color:rgba(167, 182, 194, 0.6);
        cursor:not-allowed; }
        .bp3-dark .bp3-button.bp3-minimal:disabled.bp3-active, .bp3-dark .bp3-button.bp3-minimal:disabled:hover.bp3-active, .bp3-dark .bp3-button.bp3-minimal.bp3-disabled.bp3-active, .bp3-dark .bp3-button.bp3-minimal.bp3-disabled:hover.bp3-active{
          background:rgba(138, 155, 168, 0.3); }
    .bp3-button.bp3-minimal.bp3-intent-primary{
      color:#106ba3; }
      .bp3-button.bp3-minimal.bp3-intent-primary:hover, .bp3-button.bp3-minimal.bp3-intent-primary:active, .bp3-button.bp3-minimal.bp3-intent-primary.bp3-active{
        background:none;
        -webkit-box-shadow:none;
                box-shadow:none;
        color:#106ba3; }
      .bp3-button.bp3-minimal.bp3-intent-primary:hover{
        background:rgba(19, 124, 189, 0.15);
        color:#106ba3; }
      .bp3-button.bp3-minimal.bp3-intent-primary:active, .bp3-button.bp3-minimal.bp3-intent-primary.bp3-active{
        background:rgba(19, 124, 189, 0.3);
        color:#106ba3; }
      .bp3-button.bp3-minimal.bp3-intent-primary:disabled, .bp3-button.bp3-minimal.bp3-intent-primary.bp3-disabled{
        background:none;
        color:rgba(16, 107, 163, 0.5); }
        .bp3-button.bp3-minimal.bp3-intent-primary:disabled.bp3-active, .bp3-button.bp3-minimal.bp3-intent-primary.bp3-disabled.bp3-active{
          background:rgba(19, 124, 189, 0.3); }
      .bp3-button.bp3-minimal.bp3-intent-primary .bp3-button-spinner .bp3-spinner-head{
        stroke:#106ba3; }
      .bp3-dark .bp3-button.bp3-minimal.bp3-intent-primary{
        color:#48aff0; }
        .bp3-dark .bp3-button.bp3-minimal.bp3-intent-primary:hover{
          background:rgba(19, 124, 189, 0.2);
          color:#48aff0; }
        .bp3-dark .bp3-button.bp3-minimal.bp3-intent-primary:active, .bp3-dark .bp3-button.bp3-minimal.bp3-intent-primary.bp3-active{
          background:rgba(19, 124, 189, 0.3);
          color:#48aff0; }
        .bp3-dark .bp3-button.bp3-minimal.bp3-intent-primary:disabled, .bp3-dark .bp3-button.bp3-minimal.bp3-intent-primary.bp3-disabled{
          background:none;
          color:rgba(72, 175, 240, 0.5); }
          .bp3-dark .bp3-button.bp3-minimal.bp3-intent-primary:disabled.bp3-active, .bp3-dark .bp3-button.bp3-minimal.bp3-intent-primary.bp3-disabled.bp3-active{
            background:rgba(19, 124, 189, 0.3); }
    .bp3-button.bp3-minimal.bp3-intent-success{
      color:#0d8050; }
      .bp3-button.bp3-minimal.bp3-intent-success:hover, .bp3-button.bp3-minimal.bp3-intent-success:active, .bp3-button.bp3-minimal.bp3-intent-success.bp3-active{
        background:none;
        -webkit-box-shadow:none;
                box-shadow:none;
        color:#0d8050; }
      .bp3-button.bp3-minimal.bp3-intent-success:hover{
        background:rgba(15, 153, 96, 0.15);
        color:#0d8050; }
      .bp3-button.bp3-minimal.bp3-intent-success:active, .bp3-button.bp3-minimal.bp3-intent-success.bp3-active{
        background:rgba(15, 153, 96, 0.3);
        color:#0d8050; }
      .bp3-button.bp3-minimal.bp3-intent-success:disabled, .bp3-button.bp3-minimal.bp3-intent-success.bp3-disabled{
        background:none;
        color:rgba(13, 128, 80, 0.5); }
        .bp3-button.bp3-minimal.bp3-intent-success:disabled.bp3-active, .bp3-button.bp3-minimal.bp3-intent-success.bp3-disabled.bp3-active{
          background:rgba(15, 153, 96, 0.3); }
      .bp3-button.bp3-minimal.bp3-intent-success .bp3-button-spinner .bp3-spinner-head{
        stroke:#0d8050; }
      .bp3-dark .bp3-button.bp3-minimal.bp3-intent-success{
        color:#3dcc91; }
        .bp3-dark .bp3-button.bp3-minimal.bp3-intent-success:hover{
          background:rgba(15, 153, 96, 0.2);
          color:#3dcc91; }
        .bp3-dark .bp3-button.bp3-minimal.bp3-intent-success:active, .bp3-dark .bp3-button.bp3-minimal.bp3-intent-success.bp3-active{
          background:rgba(15, 153, 96, 0.3);
          color:#3dcc91; }
        .bp3-dark .bp3-button.bp3-minimal.bp3-intent-success:disabled, .bp3-dark .bp3-button.bp3-minimal.bp3-intent-success.bp3-disabled{
          background:none;
          color:rgba(61, 204, 145, 0.5); }
          .bp3-dark .bp3-button.bp3-minimal.bp3-intent-success:disabled.bp3-active, .bp3-dark .bp3-button.bp3-minimal.bp3-intent-success.bp3-disabled.bp3-active{
            background:rgba(15, 153, 96, 0.3); }
    .bp3-button.bp3-minimal.bp3-intent-warning{
      color:#bf7326; }
      .bp3-button.bp3-minimal.bp3-intent-warning:hover, .bp3-button.bp3-minimal.bp3-intent-warning:active, .bp3-button.bp3-minimal.bp3-intent-warning.bp3-active{
        background:none;
        -webkit-box-shadow:none;
                box-shadow:none;
        color:#bf7326; }
      .bp3-button.bp3-minimal.bp3-intent-warning:hover{
        background:rgba(217, 130, 43, 0.15);
        color:#bf7326; }
      .bp3-button.bp3-minimal.bp3-intent-warning:active, .bp3-button.bp3-minimal.bp3-intent-warning.bp3-active{
        background:rgba(217, 130, 43, 0.3);
        color:#bf7326; }
      .bp3-button.bp3-minimal.bp3-intent-warning:disabled, .bp3-button.bp3-minimal.bp3-intent-warning.bp3-disabled{
        background:none;
        color:rgba(191, 115, 38, 0.5); }
        .bp3-button.bp3-minimal.bp3-intent-warning:disabled.bp3-active, .bp3-button.bp3-minimal.bp3-intent-warning.bp3-disabled.bp3-active{
          background:rgba(217, 130, 43, 0.3); }
      .bp3-button.bp3-minimal.bp3-intent-warning .bp3-button-spinner .bp3-spinner-head{
        stroke:#bf7326; }
      .bp3-dark .bp3-button.bp3-minimal.bp3-intent-warning{
        color:#ffb366; }
        .bp3-dark .bp3-button.bp3-minimal.bp3-intent-warning:hover{
          background:rgba(217, 130, 43, 0.2);
          color:#ffb366; }
        .bp3-dark .bp3-button.bp3-minimal.bp3-intent-warning:active, .bp3-dark .bp3-button.bp3-minimal.bp3-intent-warning.bp3-active{
          background:rgba(217, 130, 43, 0.3);
          color:#ffb366; }
        .bp3-dark .bp3-button.bp3-minimal.bp3-intent-warning:disabled, .bp3-dark .bp3-button.bp3-minimal.bp3-intent-warning.bp3-disabled{
          background:none;
          color:rgba(255, 179, 102, 0.5); }
          .bp3-dark .bp3-button.bp3-minimal.bp3-intent-warning:disabled.bp3-active, .bp3-dark .bp3-button.bp3-minimal.bp3-intent-warning.bp3-disabled.bp3-active{
            background:rgba(217, 130, 43, 0.3); }
    .bp3-button.bp3-minimal.bp3-intent-danger{
      color:#c23030; }
      .bp3-button.bp3-minimal.bp3-intent-danger:hover, .bp3-button.bp3-minimal.bp3-intent-danger:active, .bp3-button.bp3-minimal.bp3-intent-danger.bp3-active{
        background:none;
        -webkit-box-shadow:none;
                box-shadow:none;
        color:#c23030; }
      .bp3-button.bp3-minimal.bp3-intent-danger:hover{
        background:rgba(219, 55, 55, 0.15);
        color:#c23030; }
      .bp3-button.bp3-minimal.bp3-intent-danger:active, .bp3-button.bp3-minimal.bp3-intent-danger.bp3-active{
        background:rgba(219, 55, 55, 0.3);
        color:#c23030; }
      .bp3-button.bp3-minimal.bp3-intent-danger:disabled, .bp3-button.bp3-minimal.bp3-intent-danger.bp3-disabled{
        background:none;
        color:rgba(194, 48, 48, 0.5); }
        .bp3-button.bp3-minimal.bp3-intent-danger:disabled.bp3-active, .bp3-button.bp3-minimal.bp3-intent-danger.bp3-disabled.bp3-active{
          background:rgba(219, 55, 55, 0.3); }
      .bp3-button.bp3-minimal.bp3-intent-danger .bp3-button-spinner .bp3-spinner-head{
        stroke:#c23030; }
      .bp3-dark .bp3-button.bp3-minimal.bp3-intent-danger{
        color:#ff7373; }
        .bp3-dark .bp3-button.bp3-minimal.bp3-intent-danger:hover{
          background:rgba(219, 55, 55, 0.2);
          color:#ff7373; }
        .bp3-dark .bp3-button.bp3-minimal.bp3-intent-danger:active, .bp3-dark .bp3-button.bp3-minimal.bp3-intent-danger.bp3-active{
          background:rgba(219, 55, 55, 0.3);
          color:#ff7373; }
        .bp3-dark .bp3-button.bp3-minimal.bp3-intent-danger:disabled, .bp3-dark .bp3-button.bp3-minimal.bp3-intent-danger.bp3-disabled{
          background:none;
          color:rgba(255, 115, 115, 0.5); }
          .bp3-dark .bp3-button.bp3-minimal.bp3-intent-danger:disabled.bp3-active, .bp3-dark .bp3-button.bp3-minimal.bp3-intent-danger.bp3-disabled.bp3-active{
            background:rgba(219, 55, 55, 0.3); }
  .bp3-button.bp3-outlined{
    background:none;
    -webkit-box-shadow:none;
            box-shadow:none;
    border:1px solid rgba(24, 32, 38, 0.2);
    -webkit-box-sizing:border-box;
            box-sizing:border-box; }
    .bp3-button.bp3-outlined:hover{
      background:rgba(167, 182, 194, 0.3);
      -webkit-box-shadow:none;
              box-shadow:none;
      color:#182026;
      text-decoration:none; }
    .bp3-button.bp3-outlined:active, .bp3-button.bp3-outlined.bp3-active{
      background:rgba(115, 134, 148, 0.3);
      -webkit-box-shadow:none;
              box-shadow:none;
      color:#182026; }
    .bp3-button.bp3-outlined:disabled, .bp3-button.bp3-outlined:disabled:hover, .bp3-button.bp3-outlined.bp3-disabled, .bp3-button.bp3-outlined.bp3-disabled:hover{
      background:none;
      color:rgba(92, 112, 128, 0.6);
      cursor:not-allowed; }
      .bp3-button.bp3-outlined:disabled.bp3-active, .bp3-button.bp3-outlined:disabled:hover.bp3-active, .bp3-button.bp3-outlined.bp3-disabled.bp3-active, .bp3-button.bp3-outlined.bp3-disabled:hover.bp3-active{
        background:rgba(115, 134, 148, 0.3); }
    .bp3-dark .bp3-button.bp3-outlined{
      background:none;
      -webkit-box-shadow:none;
              box-shadow:none;
      color:inherit; }
      .bp3-dark .bp3-button.bp3-outlined:hover, .bp3-dark .bp3-button.bp3-outlined:active, .bp3-dark .bp3-button.bp3-outlined.bp3-active{
        background:none;
        -webkit-box-shadow:none;
                box-shadow:none; }
      .bp3-dark .bp3-button.bp3-outlined:hover{
        background:rgba(138, 155, 168, 0.15); }
      .bp3-dark .bp3-button.bp3-outlined:active, .bp3-dark .bp3-button.bp3-outlined.bp3-active{
        background:rgba(138, 155, 168, 0.3);
        color:#f5f8fa; }
      .bp3-dark .bp3-button.bp3-outlined:disabled, .bp3-dark .bp3-button.bp3-outlined:disabled:hover, .bp3-dark .bp3-button.bp3-outlined.bp3-disabled, .bp3-dark .bp3-button.bp3-outlined.bp3-disabled:hover{
        background:none;
        color:rgba(167, 182, 194, 0.6);
        cursor:not-allowed; }
        .bp3-dark .bp3-button.bp3-outlined:disabled.bp3-active, .bp3-dark .bp3-button.bp3-outlined:disabled:hover.bp3-active, .bp3-dark .bp3-button.bp3-outlined.bp3-disabled.bp3-active, .bp3-dark .bp3-button.bp3-outlined.bp3-disabled:hover.bp3-active{
          background:rgba(138, 155, 168, 0.3); }
    .bp3-button.bp3-outlined.bp3-intent-primary{
      color:#106ba3; }
      .bp3-button.bp3-outlined.bp3-intent-primary:hover, .bp3-button.bp3-outlined.bp3-intent-primary:active, .bp3-button.bp3-outlined.bp3-intent-primary.bp3-active{
        background:none;
        -webkit-box-shadow:none;
                box-shadow:none;
        color:#106ba3; }
      .bp3-button.bp3-outlined.bp3-intent-primary:hover{
        background:rgba(19, 124, 189, 0.15);
        color:#106ba3; }
      .bp3-button.bp3-outlined.bp3-intent-primary:active, .bp3-button.bp3-outlined.bp3-intent-primary.bp3-active{
        background:rgba(19, 124, 189, 0.3);
        color:#106ba3; }
      .bp3-button.bp3-outlined.bp3-intent-primary:disabled, .bp3-button.bp3-outlined.bp3-intent-primary.bp3-disabled{
        background:none;
        color:rgba(16, 107, 163, 0.5); }
        .bp3-button.bp3-outlined.bp3-intent-primary:disabled.bp3-active, .bp3-button.bp3-outlined.bp3-intent-primary.bp3-disabled.bp3-active{
          background:rgba(19, 124, 189, 0.3); }
      .bp3-button.bp3-outlined.bp3-intent-primary .bp3-button-spinner .bp3-spinner-head{
        stroke:#106ba3; }
      .bp3-dark .bp3-button.bp3-outlined.bp3-intent-primary{
        color:#48aff0; }
        .bp3-dark .bp3-button.bp3-outlined.bp3-intent-primary:hover{
          background:rgba(19, 124, 189, 0.2);
          color:#48aff0; }
        .bp3-dark .bp3-button.bp3-outlined.bp3-intent-primary:active, .bp3-dark .bp3-button.bp3-outlined.bp3-intent-primary.bp3-active{
          background:rgba(19, 124, 189, 0.3);
          color:#48aff0; }
        .bp3-dark .bp3-button.bp3-outlined.bp3-intent-primary:disabled, .bp3-dark .bp3-button.bp3-outlined.bp3-intent-primary.bp3-disabled{
          background:none;
          color:rgba(72, 175, 240, 0.5); }
          .bp3-dark .bp3-button.bp3-outlined.bp3-intent-primary:disabled.bp3-active, .bp3-dark .bp3-button.bp3-outlined.bp3-intent-primary.bp3-disabled.bp3-active{
            background:rgba(19, 124, 189, 0.3); }
    .bp3-button.bp3-outlined.bp3-intent-success{
      color:#0d8050; }
      .bp3-button.bp3-outlined.bp3-intent-success:hover, .bp3-button.bp3-outlined.bp3-intent-success:active, .bp3-button.bp3-outlined.bp3-intent-success.bp3-active{
        background:none;
        -webkit-box-shadow:none;
                box-shadow:none;
        color:#0d8050; }
      .bp3-button.bp3-outlined.bp3-intent-success:hover{
        background:rgba(15, 153, 96, 0.15);
        color:#0d8050; }
      .bp3-button.bp3-outlined.bp3-intent-success:active, .bp3-button.bp3-outlined.bp3-intent-success.bp3-active{
        background:rgba(15, 153, 96, 0.3);
        color:#0d8050; }
      .bp3-button.bp3-outlined.bp3-intent-success:disabled, .bp3-button.bp3-outlined.bp3-intent-success.bp3-disabled{
        background:none;
        color:rgba(13, 128, 80, 0.5); }
        .bp3-button.bp3-outlined.bp3-intent-success:disabled.bp3-active, .bp3-button.bp3-outlined.bp3-intent-success.bp3-disabled.bp3-active{
          background:rgba(15, 153, 96, 0.3); }
      .bp3-button.bp3-outlined.bp3-intent-success .bp3-button-spinner .bp3-spinner-head{
        stroke:#0d8050; }
      .bp3-dark .bp3-button.bp3-outlined.bp3-intent-success{
        color:#3dcc91; }
        .bp3-dark .bp3-button.bp3-outlined.bp3-intent-success:hover{
          background:rgba(15, 153, 96, 0.2);
          color:#3dcc91; }
        .bp3-dark .bp3-button.bp3-outlined.bp3-intent-success:active, .bp3-dark .bp3-button.bp3-outlined.bp3-intent-success.bp3-active{
          background:rgba(15, 153, 96, 0.3);
          color:#3dcc91; }
        .bp3-dark .bp3-button.bp3-outlined.bp3-intent-success:disabled, .bp3-dark .bp3-button.bp3-outlined.bp3-intent-success.bp3-disabled{
          background:none;
          color:rgba(61, 204, 145, 0.5); }
          .bp3-dark .bp3-button.bp3-outlined.bp3-intent-success:disabled.bp3-active, .bp3-dark .bp3-button.bp3-outlined.bp3-intent-success.bp3-disabled.bp3-active{
            background:rgba(15, 153, 96, 0.3); }
    .bp3-button.bp3-outlined.bp3-intent-warning{
      color:#bf7326; }
      .bp3-button.bp3-outlined.bp3-intent-warning:hover, .bp3-button.bp3-outlined.bp3-intent-warning:active, .bp3-button.bp3-outlined.bp3-intent-warning.bp3-active{
        background:none;
        -webkit-box-shadow:none;
                box-shadow:none;
        color:#bf7326; }
      .bp3-button.bp3-outlined.bp3-intent-warning:hover{
        background:rgba(217, 130, 43, 0.15);
        color:#bf7326; }
      .bp3-button.bp3-outlined.bp3-intent-warning:active, .bp3-button.bp3-outlined.bp3-intent-warning.bp3-active{
        background:rgba(217, 130, 43, 0.3);
        color:#bf7326; }
      .bp3-button.bp3-outlined.bp3-intent-warning:disabled, .bp3-button.bp3-outlined.bp3-intent-warning.bp3-disabled{
        background:none;
        color:rgba(191, 115, 38, 0.5); }
        .bp3-button.bp3-outlined.bp3-intent-warning:disabled.bp3-active, .bp3-button.bp3-outlined.bp3-intent-warning.bp3-disabled.bp3-active{
          background:rgba(217, 130, 43, 0.3); }
      .bp3-button.bp3-outlined.bp3-intent-warning .bp3-button-spinner .bp3-spinner-head{
        stroke:#bf7326; }
      .bp3-dark .bp3-button.bp3-outlined.bp3-intent-warning{
        color:#ffb366; }
        .bp3-dark .bp3-button.bp3-outlined.bp3-intent-warning:hover{
          background:rgba(217, 130, 43, 0.2);
          color:#ffb366; }
        .bp3-dark .bp3-button.bp3-outlined.bp3-intent-warning:active, .bp3-dark .bp3-button.bp3-outlined.bp3-intent-warning.bp3-active{
          background:rgba(217, 130, 43, 0.3);
          color:#ffb366; }
        .bp3-dark .bp3-button.bp3-outlined.bp3-intent-warning:disabled, .bp3-dark .bp3-button.bp3-outlined.bp3-intent-warning.bp3-disabled{
          background:none;
          color:rgba(255, 179, 102, 0.5); }
          .bp3-dark .bp3-button.bp3-outlined.bp3-intent-warning:disabled.bp3-active, .bp3-dark .bp3-button.bp3-outlined.bp3-intent-warning.bp3-disabled.bp3-active{
            background:rgba(217, 130, 43, 0.3); }
    .bp3-button.bp3-outlined.bp3-intent-danger{
      color:#c23030; }
      .bp3-button.bp3-outlined.bp3-intent-danger:hover, .bp3-button.bp3-outlined.bp3-intent-danger:active, .bp3-button.bp3-outlined.bp3-intent-danger.bp3-active{
        background:none;
        -webkit-box-shadow:none;
                box-shadow:none;
        color:#c23030; }
      .bp3-button.bp3-outlined.bp3-intent-danger:hover{
        background:rgba(219, 55, 55, 0.15);
        color:#c23030; }
      .bp3-button.bp3-outlined.bp3-intent-danger:active, .bp3-button.bp3-outlined.bp3-intent-danger.bp3-active{
        background:rgba(219, 55, 55, 0.3);
        color:#c23030; }
      .bp3-button.bp3-outlined.bp3-intent-danger:disabled, .bp3-button.bp3-outlined.bp3-intent-danger.bp3-disabled{
        background:none;
        color:rgba(194, 48, 48, 0.5); }
        .bp3-button.bp3-outlined.bp3-intent-danger:disabled.bp3-active, .bp3-button.bp3-outlined.bp3-intent-danger.bp3-disabled.bp3-active{
          background:rgba(219, 55, 55, 0.3); }
      .bp3-button.bp3-outlined.bp3-intent-danger .bp3-button-spinner .bp3-spinner-head{
        stroke:#c23030; }
      .bp3-dark .bp3-button.bp3-outlined.bp3-intent-danger{
        color:#ff7373; }
        .bp3-dark .bp3-button.bp3-outlined.bp3-intent-danger:hover{
          background:rgba(219, 55, 55, 0.2);
          color:#ff7373; }
        .bp3-dark .bp3-button.bp3-outlined.bp3-intent-danger:active, .bp3-dark .bp3-button.bp3-outlined.bp3-intent-danger.bp3-active{
          background:rgba(219, 55, 55, 0.3);
          color:#ff7373; }
        .bp3-dark .bp3-button.bp3-outlined.bp3-intent-danger:disabled, .bp3-dark .bp3-button.bp3-outlined.bp3-intent-danger.bp3-disabled{
          background:none;
          color:rgba(255, 115, 115, 0.5); }
          .bp3-dark .bp3-button.bp3-outlined.bp3-intent-danger:disabled.bp3-active, .bp3-dark .bp3-button.bp3-outlined.bp3-intent-danger.bp3-disabled.bp3-active{
            background:rgba(219, 55, 55, 0.3); }
    .bp3-button.bp3-outlined:disabled, .bp3-button.bp3-outlined.bp3-disabled, .bp3-button.bp3-outlined:disabled:hover, .bp3-button.bp3-outlined.bp3-disabled:hover{
      border-color:rgba(92, 112, 128, 0.1); }
    .bp3-dark .bp3-button.bp3-outlined{
      border-color:rgba(255, 255, 255, 0.4); }
      .bp3-dark .bp3-button.bp3-outlined:disabled, .bp3-dark .bp3-button.bp3-outlined:disabled:hover, .bp3-dark .bp3-button.bp3-outlined.bp3-disabled, .bp3-dark .bp3-button.bp3-outlined.bp3-disabled:hover{
        border-color:rgba(255, 255, 255, 0.2); }
    .bp3-button.bp3-outlined.bp3-intent-primary{
      border-color:rgba(16, 107, 163, 0.6); }
      .bp3-button.bp3-outlined.bp3-intent-primary:disabled, .bp3-button.bp3-outlined.bp3-intent-primary.bp3-disabled{
        border-color:rgba(16, 107, 163, 0.2); }
      .bp3-dark .bp3-button.bp3-outlined.bp3-intent-primary{
        border-color:rgba(72, 175, 240, 0.6); }
        .bp3-dark .bp3-button.bp3-outlined.bp3-intent-primary:disabled, .bp3-dark .bp3-button.bp3-outlined.bp3-intent-primary.bp3-disabled{
          border-color:rgba(72, 175, 240, 0.2); }
    .bp3-button.bp3-outlined.bp3-intent-success{
      border-color:rgba(13, 128, 80, 0.6); }
      .bp3-button.bp3-outlined.bp3-intent-success:disabled, .bp3-button.bp3-outlined.bp3-intent-success.bp3-disabled{
        border-color:rgba(13, 128, 80, 0.2); }
      .bp3-dark .bp3-button.bp3-outlined.bp3-intent-success{
        border-color:rgba(61, 204, 145, 0.6); }
        .bp3-dark .bp3-button.bp3-outlined.bp3-intent-success:disabled, .bp3-dark .bp3-button.bp3-outlined.bp3-intent-success.bp3-disabled{
          border-color:rgba(61, 204, 145, 0.2); }
    .bp3-button.bp3-outlined.bp3-intent-warning{
      border-color:rgba(191, 115, 38, 0.6); }
      .bp3-button.bp3-outlined.bp3-intent-warning:disabled, .bp3-button.bp3-outlined.bp3-intent-warning.bp3-disabled{
        border-color:rgba(191, 115, 38, 0.2); }
      .bp3-dark .bp3-button.bp3-outlined.bp3-intent-warning{
        border-color:rgba(255, 179, 102, 0.6); }
        .bp3-dark .bp3-button.bp3-outlined.bp3-intent-warning:disabled, .bp3-dark .bp3-button.bp3-outlined.bp3-intent-warning.bp3-disabled{
          border-color:rgba(255, 179, 102, 0.2); }
    .bp3-button.bp3-outlined.bp3-intent-danger{
      border-color:rgba(194, 48, 48, 0.6); }
      .bp3-button.bp3-outlined.bp3-intent-danger:disabled, .bp3-button.bp3-outlined.bp3-intent-danger.bp3-disabled{
        border-color:rgba(194, 48, 48, 0.2); }
      .bp3-dark .bp3-button.bp3-outlined.bp3-intent-danger{
        border-color:rgba(255, 115, 115, 0.6); }
        .bp3-dark .bp3-button.bp3-outlined.bp3-intent-danger:disabled, .bp3-dark .bp3-button.bp3-outlined.bp3-intent-danger.bp3-disabled{
          border-color:rgba(255, 115, 115, 0.2); }

a.bp3-button{
  text-align:center;
  text-decoration:none;
  -webkit-transition:none;
  transition:none; }
  a.bp3-button, a.bp3-button:hover, a.bp3-button:active{
    color:#182026; }
  a.bp3-button.bp3-disabled{
    color:rgba(92, 112, 128, 0.6); }

.bp3-button-text{
  -webkit-box-flex:0;
      -ms-flex:0 1 auto;
          flex:0 1 auto; }

.bp3-button.bp3-align-left .bp3-button-text, .bp3-button.bp3-align-right .bp3-button-text,
.bp3-button-group.bp3-align-left .bp3-button-text,
.bp3-button-group.bp3-align-right .bp3-button-text{
  -webkit-box-flex:1;
      -ms-flex:1 1 auto;
          flex:1 1 auto; }
.bp3-button-group{
  display:-webkit-inline-box;
  display:-ms-inline-flexbox;
  display:inline-flex; }
  .bp3-button-group .bp3-button{
    -webkit-box-flex:0;
        -ms-flex:0 0 auto;
            flex:0 0 auto;
    position:relative;
    z-index:4; }
    .bp3-button-group .bp3-button:focus{
      z-index:5; }
    .bp3-button-group .bp3-button:hover{
      z-index:6; }
    .bp3-button-group .bp3-button:active, .bp3-button-group .bp3-button.bp3-active{
      z-index:7; }
    .bp3-button-group .bp3-button:disabled, .bp3-button-group .bp3-button.bp3-disabled{
      z-index:3; }
    .bp3-button-group .bp3-button[class*="bp3-intent-"]{
      z-index:9; }
      .bp3-button-group .bp3-button[class*="bp3-intent-"]:focus{
        z-index:10; }
      .bp3-button-group .bp3-button[class*="bp3-intent-"]:hover{
        z-index:11; }
      .bp3-button-group .bp3-button[class*="bp3-intent-"]:active, .bp3-button-group .bp3-button[class*="bp3-intent-"].bp3-active{
        z-index:12; }
      .bp3-button-group .bp3-button[class*="bp3-intent-"]:disabled, .bp3-button-group .bp3-button[class*="bp3-intent-"].bp3-disabled{
        z-index:8; }
  .bp3-button-group:not(.bp3-minimal) > .bp3-popover-wrapper:not(:first-child) .bp3-button,
  .bp3-button-group:not(.bp3-minimal) > .bp3-button:not(:first-child){
    border-bottom-left-radius:0;
    border-top-left-radius:0; }
  .bp3-button-group:not(.bp3-minimal) > .bp3-popover-wrapper:not(:last-child) .bp3-button,
  .bp3-button-group:not(.bp3-minimal) > .bp3-button:not(:last-child){
    border-bottom-right-radius:0;
    border-top-right-radius:0;
    margin-right:-1px; }
  .bp3-button-group.bp3-minimal .bp3-button{
    background:none;
    -webkit-box-shadow:none;
            box-shadow:none; }
    .bp3-button-group.bp3-minimal .bp3-button:hover{
      background:rgba(167, 182, 194, 0.3);
      -webkit-box-shadow:none;
              box-shadow:none;
      color:#182026;
      text-decoration:none; }
    .bp3-button-group.bp3-minimal .bp3-button:active, .bp3-button-group.bp3-minimal .bp3-button.bp3-active{
      background:rgba(115, 134, 148, 0.3);
      -webkit-box-shadow:none;
              box-shadow:none;
      color:#182026; }
    .bp3-button-group.bp3-minimal .bp3-button:disabled, .bp3-button-group.bp3-minimal .bp3-button:disabled:hover, .bp3-button-group.bp3-minimal .bp3-button.bp3-disabled, .bp3-button-group.bp3-minimal .bp3-button.bp3-disabled:hover{
      background:none;
      color:rgba(92, 112, 128, 0.6);
      cursor:not-allowed; }
      .bp3-button-group.bp3-minimal .bp3-button:disabled.bp3-active, .bp3-button-group.bp3-minimal .bp3-button:disabled:hover.bp3-active, .bp3-button-group.bp3-minimal .bp3-button.bp3-disabled.bp3-active, .bp3-button-group.bp3-minimal .bp3-button.bp3-disabled:hover.bp3-active{
        background:rgba(115, 134, 148, 0.3); }
    .bp3-dark .bp3-button-group.bp3-minimal .bp3-button{
      background:none;
      -webkit-box-shadow:none;
              box-shadow:none;
      color:inherit; }
      .bp3-dark .bp3-button-group.bp3-minimal .bp3-button:hover, .bp3-dark .bp3-button-group.bp3-minimal .bp3-button:active, .bp3-dark .bp3-button-group.bp3-minimal .bp3-button.bp3-active{
        background:none;
        -webkit-box-shadow:none;
                box-shadow:none; }
      .bp3-dark .bp3-button-group.bp3-minimal .bp3-button:hover{
        background:rgba(138, 155, 168, 0.15); }
      .bp3-dark .bp3-button-group.bp3-minimal .bp3-button:active, .bp3-dark .bp3-button-group.bp3-minimal .bp3-button.bp3-active{
        background:rgba(138, 155, 168, 0.3);
        color:#f5f8fa; }
      .bp3-dark .bp3-button-group.bp3-minimal .bp3-button:disabled, .bp3-dark .bp3-button-group.bp3-minimal .bp3-button:disabled:hover, .bp3-dark .bp3-button-group.bp3-minimal .bp3-button.bp3-disabled, .bp3-dark .bp3-button-group.bp3-minimal .bp3-button.bp3-disabled:hover{
        background:none;
        color:rgba(167, 182, 194, 0.6);
        cursor:not-allowed; }
        .bp3-dark .bp3-button-group.bp3-minimal .bp3-button:disabled.bp3-active, .bp3-dark .bp3-button-group.bp3-minimal .bp3-button:disabled:hover.bp3-active, .bp3-dark .bp3-button-group.bp3-minimal .bp3-button.bp3-disabled.bp3-active, .bp3-dark .bp3-button-group.bp3-minimal .bp3-button.bp3-disabled:hover.bp3-active{
          background:rgba(138, 155, 168, 0.3); }
    .bp3-button-group.bp3-minimal .bp3-button.bp3-intent-primary{
      color:#106ba3; }
      .bp3-button-group.bp3-minimal .bp3-button.bp3-intent-primary:hover, .bp3-button-group.bp3-minimal .bp3-button.bp3-intent-primary:active, .bp3-button-group.bp3-minimal .bp3-button.bp3-intent-primary.bp3-active{
        background:none;
        -webkit-box-shadow:none;
                box-shadow:none;
        color:#106ba3; }
      .bp3-button-group.bp3-minimal .bp3-button.bp3-intent-primary:hover{
        background:rgba(19, 124, 189, 0.15);
        color:#106ba3; }
      .bp3-button-group.bp3-minimal .bp3-button.bp3-intent-primary:active, .bp3-button-group.bp3-minimal .bp3-button.bp3-intent-primary.bp3-active{
        background:rgba(19, 124, 189, 0.3);
        color:#106ba3; }
      .bp3-button-group.bp3-minimal .bp3-button.bp3-intent-primary:disabled, .bp3-button-group.bp3-minimal .bp3-button.bp3-intent-primary.bp3-disabled{
        background:none;
        color:rgba(16, 107, 163, 0.5); }
        .bp3-button-group.bp3-minimal .bp3-button.bp3-intent-primary:disabled.bp3-active, .bp3-button-group.bp3-minimal .bp3-button.bp3-intent-primary.bp3-disabled.bp3-active{
          background:rgba(19, 124, 189, 0.3); }
      .bp3-button-group.bp3-minimal .bp3-button.bp3-intent-primary .bp3-button-spinner .bp3-spinner-head{
        stroke:#106ba3; }
      .bp3-dark .bp3-button-group.bp3-minimal .bp3-button.bp3-intent-primary{
        color:#48aff0; }
        .bp3-dark .bp3-button-group.bp3-minimal .bp3-button.bp3-intent-primary:hover{
          background:rgba(19, 124, 189, 0.2);
          color:#48aff0; }
        .bp3-dark .bp3-button-group.bp3-minimal .bp3-button.bp3-intent-primary:active, .bp3-dark .bp3-button-group.bp3-minimal .bp3-button.bp3-intent-primary.bp3-active{
          background:rgba(19, 124, 189, 0.3);
          color:#48aff0; }
        .bp3-dark .bp3-button-group.bp3-minimal .bp3-button.bp3-intent-primary:disabled, .bp3-dark .bp3-button-group.bp3-minimal .bp3-button.bp3-intent-primary.bp3-disabled{
          background:none;
          color:rgba(72, 175, 240, 0.5); }
          .bp3-dark .bp3-button-group.bp3-minimal .bp3-button.bp3-intent-primary:disabled.bp3-active, .bp3-dark .bp3-button-group.bp3-minimal .bp3-button.bp3-intent-primary.bp3-disabled.bp3-active{
            background:rgba(19, 124, 189, 0.3); }
    .bp3-button-group.bp3-minimal .bp3-button.bp3-intent-success{
      color:#0d8050; }
      .bp3-button-group.bp3-minimal .bp3-button.bp3-intent-success:hover, .bp3-button-group.bp3-minimal .bp3-button.bp3-intent-success:active, .bp3-button-group.bp3-minimal .bp3-button.bp3-intent-success.bp3-active{
        background:none;
        -webkit-box-shadow:none;
                box-shadow:none;
        color:#0d8050; }
      .bp3-button-group.bp3-minimal .bp3-button.bp3-intent-success:hover{
        background:rgba(15, 153, 96, 0.15);
        color:#0d8050; }
      .bp3-button-group.bp3-minimal .bp3-button.bp3-intent-success:active, .bp3-button-group.bp3-minimal .bp3-button.bp3-intent-success.bp3-active{
        background:rgba(15, 153, 96, 0.3);
        color:#0d8050; }
      .bp3-button-group.bp3-minimal .bp3-button.bp3-intent-success:disabled, .bp3-button-group.bp3-minimal .bp3-button.bp3-intent-success.bp3-disabled{
        background:none;
        color:rgba(13, 128, 80, 0.5); }
        .bp3-button-group.bp3-minimal .bp3-button.bp3-intent-success:disabled.bp3-active, .bp3-button-group.bp3-minimal .bp3-button.bp3-intent-success.bp3-disabled.bp3-active{
          background:rgba(15, 153, 96, 0.3); }
      .bp3-button-group.bp3-minimal .bp3-button.bp3-intent-success .bp3-button-spinner .bp3-spinner-head{
        stroke:#0d8050; }
      .bp3-dark .bp3-button-group.bp3-minimal .bp3-button.bp3-intent-success{
        color:#3dcc91; }
        .bp3-dark .bp3-button-group.bp3-minimal .bp3-button.bp3-intent-success:hover{
          background:rgba(15, 153, 96, 0.2);
          color:#3dcc91; }
        .bp3-dark .bp3-button-group.bp3-minimal .bp3-button.bp3-intent-success:active, .bp3-dark .bp3-button-group.bp3-minimal .bp3-button.bp3-intent-success.bp3-active{
          background:rgba(15, 153, 96, 0.3);
          color:#3dcc91; }
        .bp3-dark .bp3-button-group.bp3-minimal .bp3-button.bp3-intent-success:disabled, .bp3-dark .bp3-button-group.bp3-minimal .bp3-button.bp3-intent-success.bp3-disabled{
          background:none;
          color:rgba(61, 204, 145, 0.5); }
          .bp3-dark .bp3-button-group.bp3-minimal .bp3-button.bp3-intent-success:disabled.bp3-active, .bp3-dark .bp3-button-group.bp3-minimal .bp3-button.bp3-intent-success.bp3-disabled.bp3-active{
            background:rgba(15, 153, 96, 0.3); }
    .bp3-button-group.bp3-minimal .bp3-button.bp3-intent-warning{
      color:#bf7326; }
      .bp3-button-group.bp3-minimal .bp3-button.bp3-intent-warning:hover, .bp3-button-group.bp3-minimal .bp3-button.bp3-intent-warning:active, .bp3-button-group.bp3-minimal .bp3-button.bp3-intent-warning.bp3-active{
        background:none;
        -webkit-box-shadow:none;
                box-shadow:none;
        color:#bf7326; }
      .bp3-button-group.bp3-minimal .bp3-button.bp3-intent-warning:hover{
        background:rgba(217, 130, 43, 0.15);
        color:#bf7326; }
      .bp3-button-group.bp3-minimal .bp3-button.bp3-intent-warning:active, .bp3-button-group.bp3-minimal .bp3-button.bp3-intent-warning.bp3-active{
        background:rgba(217, 130, 43, 0.3);
        color:#bf7326; }
      .bp3-button-group.bp3-minimal .bp3-button.bp3-intent-warning:disabled, .bp3-button-group.bp3-minimal .bp3-button.bp3-intent-warning.bp3-disabled{
        background:none;
        color:rgba(191, 115, 38, 0.5); }
        .bp3-button-group.bp3-minimal .bp3-button.bp3-intent-warning:disabled.bp3-active, .bp3-button-group.bp3-minimal .bp3-button.bp3-intent-warning.bp3-disabled.bp3-active{
          background:rgba(217, 130, 43, 0.3); }
      .bp3-button-group.bp3-minimal .bp3-button.bp3-intent-warning .bp3-button-spinner .bp3-spinner-head{
        stroke:#bf7326; }
      .bp3-dark .bp3-button-group.bp3-minimal .bp3-button.bp3-intent-warning{
        color:#ffb366; }
        .bp3-dark .bp3-button-group.bp3-minimal .bp3-button.bp3-intent-warning:hover{
          background:rgba(217, 130, 43, 0.2);
          color:#ffb366; }
        .bp3-dark .bp3-button-group.bp3-minimal .bp3-button.bp3-intent-warning:active, .bp3-dark .bp3-button-group.bp3-minimal .bp3-button.bp3-intent-warning.bp3-active{
          background:rgba(217, 130, 43, 0.3);
          color:#ffb366; }
        .bp3-dark .bp3-button-group.bp3-minimal .bp3-button.bp3-intent-warning:disabled, .bp3-dark .bp3-button-group.bp3-minimal .bp3-button.bp3-intent-warning.bp3-disabled{
          background:none;
          color:rgba(255, 179, 102, 0.5); }
          .bp3-dark .bp3-button-group.bp3-minimal .bp3-button.bp3-intent-warning:disabled.bp3-active, .bp3-dark .bp3-button-group.bp3-minimal .bp3-button.bp3-intent-warning.bp3-disabled.bp3-active{
            background:rgba(217, 130, 43, 0.3); }
    .bp3-button-group.bp3-minimal .bp3-button.bp3-intent-danger{
      color:#c23030; }
      .bp3-button-group.bp3-minimal .bp3-button.bp3-intent-danger:hover, .bp3-button-group.bp3-minimal .bp3-button.bp3-intent-danger:active, .bp3-button-group.bp3-minimal .bp3-button.bp3-intent-danger.bp3-active{
        background:none;
        -webkit-box-shadow:none;
                box-shadow:none;
        color:#c23030; }
      .bp3-button-group.bp3-minimal .bp3-button.bp3-intent-danger:hover{
        background:rgba(219, 55, 55, 0.15);
        color:#c23030; }
      .bp3-button-group.bp3-minimal .bp3-button.bp3-intent-danger:active, .bp3-button-group.bp3-minimal .bp3-button.bp3-intent-danger.bp3-active{
        background:rgba(219, 55, 55, 0.3);
        color:#c23030; }
      .bp3-button-group.bp3-minimal .bp3-button.bp3-intent-danger:disabled, .bp3-button-group.bp3-minimal .bp3-button.bp3-intent-danger.bp3-disabled{
        background:none;
        color:rgba(194, 48, 48, 0.5); }
        .bp3-button-group.bp3-minimal .bp3-button.bp3-intent-danger:disabled.bp3-active, .bp3-button-group.bp3-minimal .bp3-button.bp3-intent-danger.bp3-disabled.bp3-active{
          background:rgba(219, 55, 55, 0.3); }
      .bp3-button-group.bp3-minimal .bp3-button.bp3-intent-danger .bp3-button-spinner .bp3-spinner-head{
        stroke:#c23030; }
      .bp3-dark .bp3-button-group.bp3-minimal .bp3-button.bp3-intent-danger{
        color:#ff7373; }
        .bp3-dark .bp3-button-group.bp3-minimal .bp3-button.bp3-intent-danger:hover{
          background:rgba(219, 55, 55, 0.2);
          color:#ff7373; }
        .bp3-dark .bp3-button-group.bp3-minimal .bp3-button.bp3-intent-danger:active, .bp3-dark .bp3-button-group.bp3-minimal .bp3-button.bp3-intent-danger.bp3-active{
          background:rgba(219, 55, 55, 0.3);
          color:#ff7373; }
        .bp3-dark .bp3-button-group.bp3-minimal .bp3-button.bp3-intent-danger:disabled, .bp3-dark .bp3-button-group.bp3-minimal .bp3-button.bp3-intent-danger.bp3-disabled{
          background:none;
          color:rgba(255, 115, 115, 0.5); }
          .bp3-dark .bp3-button-group.bp3-minimal .bp3-button.bp3-intent-danger:disabled.bp3-active, .bp3-dark .bp3-button-group.bp3-minimal .bp3-button.bp3-intent-danger.bp3-disabled.bp3-active{
            background:rgba(219, 55, 55, 0.3); }
  .bp3-button-group .bp3-popover-wrapper,
  .bp3-button-group .bp3-popover-target{
    display:-webkit-box;
    display:-ms-flexbox;
    display:flex;
    -webkit-box-flex:1;
        -ms-flex:1 1 auto;
            flex:1 1 auto; }
  .bp3-button-group.bp3-fill{
    display:-webkit-box;
    display:-ms-flexbox;
    display:flex;
    width:100%; }
  .bp3-button-group .bp3-button.bp3-fill,
  .bp3-button-group.bp3-fill .bp3-button:not(.bp3-fixed){
    -webkit-box-flex:1;
        -ms-flex:1 1 auto;
            flex:1 1 auto; }
  .bp3-button-group.bp3-vertical{
    -webkit-box-align:stretch;
        -ms-flex-align:stretch;
            align-items:stretch;
    -webkit-box-orient:vertical;
    -webkit-box-direction:normal;
        -ms-flex-direction:column;
            flex-direction:column;
    vertical-align:top; }
    .bp3-button-group.bp3-vertical.bp3-fill{
      height:100%;
      width:unset; }
    .bp3-button-group.bp3-vertical .bp3-button{
      margin-right:0 !important;
      width:100%; }
    .bp3-button-group.bp3-vertical:not(.bp3-minimal) > .bp3-popover-wrapper:first-child .bp3-button,
    .bp3-button-group.bp3-vertical:not(.bp3-minimal) > .bp3-button:first-child{
      border-radius:3px 3px 0 0; }
    .bp3-button-group.bp3-vertical:not(.bp3-minimal) > .bp3-popover-wrapper:last-child .bp3-button,
    .bp3-button-group.bp3-vertical:not(.bp3-minimal) > .bp3-button:last-child{
      border-radius:0 0 3px 3px; }
    .bp3-button-group.bp3-vertical:not(.bp3-minimal) > .bp3-popover-wrapper:not(:last-child) .bp3-button,
    .bp3-button-group.bp3-vertical:not(.bp3-minimal) > .bp3-button:not(:last-child){
      margin-bottom:-1px; }
  .bp3-button-group.bp3-align-left .bp3-button{
    text-align:left; }
  .bp3-dark .bp3-button-group:not(.bp3-minimal) > .bp3-popover-wrapper:not(:last-child) .bp3-button,
  .bp3-dark .bp3-button-group:not(.bp3-minimal) > .bp3-button:not(:last-child){
    margin-right:1px; }
  .bp3-dark .bp3-button-group.bp3-vertical > .bp3-popover-wrapper:not(:last-child) .bp3-button,
  .bp3-dark .bp3-button-group.bp3-vertical > .bp3-button:not(:last-child){
    margin-bottom:1px; }
.bp3-callout{
  font-size:14px;
  line-height:1.5;
  background-color:rgba(138, 155, 168, 0.15);
  border-radius:3px;
  padding:10px 12px 9px;
  position:relative;
  width:100%; }
  .bp3-callout[class*="bp3-icon-"]{
    padding-left:40px; }
    .bp3-callout[class*="bp3-icon-"]::before{
      font-family:"Icons20", sans-serif;
      font-size:20px;
      font-style:normal;
      font-weight:400;
      line-height:1;
      -moz-osx-font-smoothing:grayscale;
      -webkit-font-smoothing:antialiased;
      color:#5c7080;
      left:10px;
      position:absolute;
      top:10px; }
  .bp3-callout.bp3-callout-icon{
    padding-left:40px; }
    .bp3-callout.bp3-callout-icon > .bp3-icon:first-child{
      color:#5c7080;
      left:10px;
      position:absolute;
      top:10px; }
  .bp3-callout .bp3-heading{
    line-height:20px;
    margin-bottom:5px;
    margin-top:0; }
    .bp3-callout .bp3-heading:last-child{
      margin-bottom:0; }
  .bp3-dark .bp3-callout{
    background-color:rgba(138, 155, 168, 0.2); }
    .bp3-dark .bp3-callout[class*="bp3-icon-"]::before{
      color:#a7b6c2; }
  .bp3-callout.bp3-intent-primary{
    background-color:rgba(19, 124, 189, 0.15); }
    .bp3-callout.bp3-intent-primary[class*="bp3-icon-"]::before,
    .bp3-callout.bp3-intent-primary > .bp3-icon:first-child,
    .bp3-callout.bp3-intent-primary .bp3-heading{
      color:#106ba3; }
    .bp3-dark .bp3-callout.bp3-intent-primary{
      background-color:rgba(19, 124, 189, 0.25); }
      .bp3-dark .bp3-callout.bp3-intent-primary[class*="bp3-icon-"]::before,
      .bp3-dark .bp3-callout.bp3-intent-primary > .bp3-icon:first-child,
      .bp3-dark .bp3-callout.bp3-intent-primary .bp3-heading{
        color:#48aff0; }
  .bp3-callout.bp3-intent-success{
    background-color:rgba(15, 153, 96, 0.15); }
    .bp3-callout.bp3-intent-success[class*="bp3-icon-"]::before,
    .bp3-callout.bp3-intent-success > .bp3-icon:first-child,
    .bp3-callout.bp3-intent-success .bp3-heading{
      color:#0d8050; }
    .bp3-dark .bp3-callout.bp3-intent-success{
      background-color:rgba(15, 153, 96, 0.25); }
      .bp3-dark .bp3-callout.bp3-intent-success[class*="bp3-icon-"]::before,
      .bp3-dark .bp3-callout.bp3-intent-success > .bp3-icon:first-child,
      .bp3-dark .bp3-callout.bp3-intent-success .bp3-heading{
        color:#3dcc91; }
  .bp3-callout.bp3-intent-warning{
    background-color:rgba(217, 130, 43, 0.15); }
    .bp3-callout.bp3-intent-warning[class*="bp3-icon-"]::before,
    .bp3-callout.bp3-intent-warning > .bp3-icon:first-child,
    .bp3-callout.bp3-intent-warning .bp3-heading{
      color:#bf7326; }
    .bp3-dark .bp3-callout.bp3-intent-warning{
      background-color:rgba(217, 130, 43, 0.25); }
      .bp3-dark .bp3-callout.bp3-intent-warning[class*="bp3-icon-"]::before,
      .bp3-dark .bp3-callout.bp3-intent-warning > .bp3-icon:first-child,
      .bp3-dark .bp3-callout.bp3-intent-warning .bp3-heading{
        color:#ffb366; }
  .bp3-callout.bp3-intent-danger{
    background-color:rgba(219, 55, 55, 0.15); }
    .bp3-callout.bp3-intent-danger[class*="bp3-icon-"]::before,
    .bp3-callout.bp3-intent-danger > .bp3-icon:first-child,
    .bp3-callout.bp3-intent-danger .bp3-heading{
      color:#c23030; }
    .bp3-dark .bp3-callout.bp3-intent-danger{
      background-color:rgba(219, 55, 55, 0.25); }
      .bp3-dark .bp3-callout.bp3-intent-danger[class*="bp3-icon-"]::before,
      .bp3-dark .bp3-callout.bp3-intent-danger > .bp3-icon:first-child,
      .bp3-dark .bp3-callout.bp3-intent-danger .bp3-heading{
        color:#ff7373; }
  .bp3-running-text .bp3-callout{
    margin:20px 0; }
.bp3-card{
  background-color:#ffffff;
  border-radius:3px;
  -webkit-box-shadow:0 0 0 1px rgba(16, 22, 26, 0.15), 0 0 0 rgba(16, 22, 26, 0), 0 0 0 rgba(16, 22, 26, 0);
          box-shadow:0 0 0 1px rgba(16, 22, 26, 0.15), 0 0 0 rgba(16, 22, 26, 0), 0 0 0 rgba(16, 22, 26, 0);
  padding:20px;
  -webkit-transition:-webkit-transform 200ms cubic-bezier(0.4, 1, 0.75, 0.9), -webkit-box-shadow 200ms cubic-bezier(0.4, 1, 0.75, 0.9);
  transition:-webkit-transform 200ms cubic-bezier(0.4, 1, 0.75, 0.9), -webkit-box-shadow 200ms cubic-bezier(0.4, 1, 0.75, 0.9);
  transition:transform 200ms cubic-bezier(0.4, 1, 0.75, 0.9), box-shadow 200ms cubic-bezier(0.4, 1, 0.75, 0.9);
  transition:transform 200ms cubic-bezier(0.4, 1, 0.75, 0.9), box-shadow 200ms cubic-bezier(0.4, 1, 0.75, 0.9), -webkit-transform 200ms cubic-bezier(0.4, 1, 0.75, 0.9), -webkit-box-shadow 200ms cubic-bezier(0.4, 1, 0.75, 0.9); }
  .bp3-card.bp3-dark,
  .bp3-dark .bp3-card{
    background-color:#30404d;
    -webkit-box-shadow:0 0 0 1px rgba(16, 22, 26, 0.4), 0 0 0 rgba(16, 22, 26, 0), 0 0 0 rgba(16, 22, 26, 0);
            box-shadow:0 0 0 1px rgba(16, 22, 26, 0.4), 0 0 0 rgba(16, 22, 26, 0), 0 0 0 rgba(16, 22, 26, 0); }

.bp3-elevation-0{
  -webkit-box-shadow:0 0 0 1px rgba(16, 22, 26, 0.15), 0 0 0 rgba(16, 22, 26, 0), 0 0 0 rgba(16, 22, 26, 0);
          box-shadow:0 0 0 1px rgba(16, 22, 26, 0.15), 0 0 0 rgba(16, 22, 26, 0), 0 0 0 rgba(16, 22, 26, 0); }
  .bp3-elevation-0.bp3-dark,
  .bp3-dark .bp3-elevation-0{
    -webkit-box-shadow:0 0 0 1px rgba(16, 22, 26, 0.4), 0 0 0 rgba(16, 22, 26, 0), 0 0 0 rgba(16, 22, 26, 0);
            box-shadow:0 0 0 1px rgba(16, 22, 26, 0.4), 0 0 0 rgba(16, 22, 26, 0), 0 0 0 rgba(16, 22, 26, 0); }

.bp3-elevation-1{
  -webkit-box-shadow:0 0 0 1px rgba(16, 22, 26, 0.1), 0 0 0 rgba(16, 22, 26, 0), 0 1px 1px rgba(16, 22, 26, 0.2);
          box-shadow:0 0 0 1px rgba(16, 22, 26, 0.1), 0 0 0 rgba(16, 22, 26, 0), 0 1px 1px rgba(16, 22, 26, 0.2); }
  .bp3-elevation-1.bp3-dark,
  .bp3-dark .bp3-elevation-1{
    -webkit-box-shadow:0 0 0 1px rgba(16, 22, 26, 0.2), 0 0 0 rgba(16, 22, 26, 0), 0 1px 1px rgba(16, 22, 26, 0.4);
            box-shadow:0 0 0 1px rgba(16, 22, 26, 0.2), 0 0 0 rgba(16, 22, 26, 0), 0 1px 1px rgba(16, 22, 26, 0.4); }

.bp3-elevation-2{
  -webkit-box-shadow:0 0 0 1px rgba(16, 22, 26, 0.1), 0 1px 1px rgba(16, 22, 26, 0.2), 0 2px 6px rgba(16, 22, 26, 0.2);
          box-shadow:0 0 0 1px rgba(16, 22, 26, 0.1), 0 1px 1px rgba(16, 22, 26, 0.2), 0 2px 6px rgba(16, 22, 26, 0.2); }
  .bp3-elevation-2.bp3-dark,
  .bp3-dark .bp3-elevation-2{
    -webkit-box-shadow:0 0 0 1px rgba(16, 22, 26, 0.2), 0 1px 1px rgba(16, 22, 26, 0.4), 0 2px 6px rgba(16, 22, 26, 0.4);
            box-shadow:0 0 0 1px rgba(16, 22, 26, 0.2), 0 1px 1px rgba(16, 22, 26, 0.4), 0 2px 6px rgba(16, 22, 26, 0.4); }

.bp3-elevation-3{
  -webkit-box-shadow:0 0 0 1px rgba(16, 22, 26, 0.1), 0 2px 4px rgba(16, 22, 26, 0.2), 0 8px 24px rgba(16, 22, 26, 0.2);
          box-shadow:0 0 0 1px rgba(16, 22, 26, 0.1), 0 2px 4px rgba(16, 22, 26, 0.2), 0 8px 24px rgba(16, 22, 26, 0.2); }
  .bp3-elevation-3.bp3-dark,
  .bp3-dark .bp3-elevation-3{
    -webkit-box-shadow:0 0 0 1px rgba(16, 22, 26, 0.2), 0 2px 4px rgba(16, 22, 26, 0.4), 0 8px 24px rgba(16, 22, 26, 0.4);
            box-shadow:0 0 0 1px rgba(16, 22, 26, 0.2), 0 2px 4px rgba(16, 22, 26, 0.4), 0 8px 24px rgba(16, 22, 26, 0.4); }

.bp3-elevation-4{
  -webkit-box-shadow:0 0 0 1px rgba(16, 22, 26, 0.1), 0 4px 8px rgba(16, 22, 26, 0.2), 0 18px 46px 6px rgba(16, 22, 26, 0.2);
          box-shadow:0 0 0 1px rgba(16, 22, 26, 0.1), 0 4px 8px rgba(16, 22, 26, 0.2), 0 18px 46px 6px rgba(16, 22, 26, 0.2); }
  .bp3-elevation-4.bp3-dark,
  .bp3-dark .bp3-elevation-4{
    -webkit-box-shadow:0 0 0 1px rgba(16, 22, 26, 0.2), 0 4px 8px rgba(16, 22, 26, 0.4), 0 18px 46px 6px rgba(16, 22, 26, 0.4);
            box-shadow:0 0 0 1px rgba(16, 22, 26, 0.2), 0 4px 8px rgba(16, 22, 26, 0.4), 0 18px 46px 6px rgba(16, 22, 26, 0.4); }

.bp3-card.bp3-interactive:hover{
  -webkit-box-shadow:0 0 0 1px rgba(16, 22, 26, 0.1), 0 2px 4px rgba(16, 22, 26, 0.2), 0 8px 24px rgba(16, 22, 26, 0.2);
          box-shadow:0 0 0 1px rgba(16, 22, 26, 0.1), 0 2px 4px rgba(16, 22, 26, 0.2), 0 8px 24px rgba(16, 22, 26, 0.2);
  cursor:pointer; }
  .bp3-card.bp3-interactive:hover.bp3-dark,
  .bp3-dark .bp3-card.bp3-interactive:hover{
    -webkit-box-shadow:0 0 0 1px rgba(16, 22, 26, 0.2), 0 2px 4px rgba(16, 22, 26, 0.4), 0 8px 24px rgba(16, 22, 26, 0.4);
            box-shadow:0 0 0 1px rgba(16, 22, 26, 0.2), 0 2px 4px rgba(16, 22, 26, 0.4), 0 8px 24px rgba(16, 22, 26, 0.4); }

.bp3-card.bp3-interactive:active{
  -webkit-box-shadow:0 0 0 1px rgba(16, 22, 26, 0.1), 0 0 0 rgba(16, 22, 26, 0), 0 1px 1px rgba(16, 22, 26, 0.2);
          box-shadow:0 0 0 1px rgba(16, 22, 26, 0.1), 0 0 0 rgba(16, 22, 26, 0), 0 1px 1px rgba(16, 22, 26, 0.2);
  opacity:0.9;
  -webkit-transition-duration:0;
          transition-duration:0; }
  .bp3-card.bp3-interactive:active.bp3-dark,
  .bp3-dark .bp3-card.bp3-interactive:active{
    -webkit-box-shadow:0 0 0 1px rgba(16, 22, 26, 0.2), 0 0 0 rgba(16, 22, 26, 0), 0 1px 1px rgba(16, 22, 26, 0.4);
            box-shadow:0 0 0 1px rgba(16, 22, 26, 0.2), 0 0 0 rgba(16, 22, 26, 0), 0 1px 1px rgba(16, 22, 26, 0.4); }

.bp3-collapse{
  height:0;
  overflow-y:hidden;
  -webkit-transition:height 200ms cubic-bezier(0.4, 1, 0.75, 0.9);
  transition:height 200ms cubic-bezier(0.4, 1, 0.75, 0.9); }
  .bp3-collapse .bp3-collapse-body{
    -webkit-transition:-webkit-transform 200ms cubic-bezier(0.4, 1, 0.75, 0.9);
    transition:-webkit-transform 200ms cubic-bezier(0.4, 1, 0.75, 0.9);
    transition:transform 200ms cubic-bezier(0.4, 1, 0.75, 0.9);
    transition:transform 200ms cubic-bezier(0.4, 1, 0.75, 0.9), -webkit-transform 200ms cubic-bezier(0.4, 1, 0.75, 0.9); }
    .bp3-collapse .bp3-collapse-body[aria-hidden="true"]{
      display:none; }

.bp3-context-menu .bp3-popover-target{
  display:block; }

.bp3-context-menu-popover-target{
  position:fixed; }

.bp3-divider{
  border-bottom:1px solid rgba(16, 22, 26, 0.15);
  border-right:1px solid rgba(16, 22, 26, 0.15);
  margin:5px; }
  .bp3-dark .bp3-divider{
    border-color:rgba(16, 22, 26, 0.4); }
.bp3-dialog-container{
  opacity:1;
  -webkit-transform:scale(1);
          transform:scale(1);
  -webkit-box-align:center;
      -ms-flex-align:center;
          align-items:center;
  display:-webkit-box;
  display:-ms-flexbox;
  display:flex;
  -webkit-box-pack:center;
      -ms-flex-pack:center;
          justify-content:center;
  min-height:100%;
  pointer-events:none;
  -webkit-user-select:none;
     -moz-user-select:none;
      -ms-user-select:none;
          user-select:none;
  width:100%; }
  .bp3-dialog-container.bp3-overlay-enter > .bp3-dialog, .bp3-dialog-container.bp3-overlay-appear > .bp3-dialog{
    opacity:0;
    -webkit-transform:scale(0.5);
            transform:scale(0.5); }
  .bp3-dialog-container.bp3-overlay-enter-active > .bp3-dialog, .bp3-dialog-container.bp3-overlay-appear-active > .bp3-dialog{
    opacity:1;
    -webkit-transform:scale(1);
            transform:scale(1);
    -webkit-transition-delay:0;
            transition-delay:0;
    -webkit-transition-duration:300ms;
            transition-duration:300ms;
    -webkit-transition-property:opacity, -webkit-transform;
    transition-property:opacity, -webkit-transform;
    transition-property:opacity, transform;
    transition-property:opacity, transform, -webkit-transform;
    -webkit-transition-timing-function:cubic-bezier(0.54, 1.12, 0.38, 1.11);
            transition-timing-function:cubic-bezier(0.54, 1.12, 0.38, 1.11); }
  .bp3-dialog-container.bp3-overlay-exit > .bp3-dialog{
    opacity:1;
    -webkit-transform:scale(1);
            transform:scale(1); }
  .bp3-dialog-container.bp3-overlay-exit-active > .bp3-dialog{
    opacity:0;
    -webkit-transform:scale(0.5);
            transform:scale(0.5);
    -webkit-transition-delay:0;
            transition-delay:0;
    -webkit-transition-duration:300ms;
            transition-duration:300ms;
    -webkit-transition-property:opacity, -webkit-transform;
    transition-property:opacity, -webkit-transform;
    transition-property:opacity, transform;
    transition-property:opacity, transform, -webkit-transform;
    -webkit-transition-timing-function:cubic-bezier(0.54, 1.12, 0.38, 1.11);
            transition-timing-function:cubic-bezier(0.54, 1.12, 0.38, 1.11); }

.bp3-dialog{
  background:#ebf1f5;
  border-radius:6px;
  -webkit-box-shadow:0 0 0 1px rgba(16, 22, 26, 0.1), 0 4px 8px rgba(16, 22, 26, 0.2), 0 18px 46px 6px rgba(16, 22, 26, 0.2);
          box-shadow:0 0 0 1px rgba(16, 22, 26, 0.1), 0 4px 8px rgba(16, 22, 26, 0.2), 0 18px 46px 6px rgba(16, 22, 26, 0.2);
  display:-webkit-box;
  display:-ms-flexbox;
  display:flex;
  -webkit-box-orient:vertical;
  -webkit-box-direction:normal;
      -ms-flex-direction:column;
          flex-direction:column;
  margin:30px 0;
  padding-bottom:20px;
  pointer-events:all;
  -webkit-user-select:text;
     -moz-user-select:text;
      -ms-user-select:text;
          user-select:text;
  width:500px; }
  .bp3-dialog:focus{
    outline:0; }
  .bp3-dialog.bp3-dark,
  .bp3-dark .bp3-dialog{
    background:#293742;
    -webkit-box-shadow:0 0 0 1px rgba(16, 22, 26, 0.2), 0 4px 8px rgba(16, 22, 26, 0.4), 0 18px 46px 6px rgba(16, 22, 26, 0.4);
            box-shadow:0 0 0 1px rgba(16, 22, 26, 0.2), 0 4px 8px rgba(16, 22, 26, 0.4), 0 18px 46px 6px rgba(16, 22, 26, 0.4);
    color:#f5f8fa; }

.bp3-dialog-header{
  -webkit-box-align:center;
      -ms-flex-align:center;
          align-items:center;
  background:#ffffff;
  border-radius:6px 6px 0 0;
  -webkit-box-shadow:0 1px 0 rgba(16, 22, 26, 0.15);
          box-shadow:0 1px 0 rgba(16, 22, 26, 0.15);
  display:-webkit-box;
  display:-ms-flexbox;
  display:flex;
  -webkit-box-flex:0;
      -ms-flex:0 0 auto;
          flex:0 0 auto;
  min-height:40px;
  padding-left:20px;
  padding-right:5px;
  z-index:30; }
  .bp3-dialog-header .bp3-icon-large,
  .bp3-dialog-header .bp3-icon{
    color:#5c7080;
    -webkit-box-flex:0;
        -ms-flex:0 0 auto;
            flex:0 0 auto;
    margin-right:10px; }
  .bp3-dialog-header .bp3-heading{
    overflow:hidden;
    text-overflow:ellipsis;
    white-space:nowrap;
    word-wrap:normal;
    -webkit-box-flex:1;
        -ms-flex:1 1 auto;
            flex:1 1 auto;
    line-height:inherit;
    margin:0; }
    .bp3-dialog-header .bp3-heading:last-child{
      margin-right:20px; }
  .bp3-dark .bp3-dialog-header{
    background:#30404d;
    -webkit-box-shadow:0 1px 0 rgba(16, 22, 26, 0.4);
            box-shadow:0 1px 0 rgba(16, 22, 26, 0.4); }
    .bp3-dark .bp3-dialog-header .bp3-icon-large,
    .bp3-dark .bp3-dialog-header .bp3-icon{
      color:#a7b6c2; }

.bp3-dialog-body{
  -webkit-box-flex:1;
      -ms-flex:1 1 auto;
          flex:1 1 auto;
  line-height:18px;
  margin:20px; }

.bp3-dialog-footer{
  -webkit-box-flex:0;
      -ms-flex:0 0 auto;
          flex:0 0 auto;
  margin:0 20px; }

.bp3-dialog-footer-actions{
  display:-webkit-box;
  display:-ms-flexbox;
  display:flex;
  -webkit-box-pack:end;
      -ms-flex-pack:end;
          justify-content:flex-end; }
  .bp3-dialog-footer-actions .bp3-button{
    margin-left:10px; }
.bp3-multistep-dialog-panels{
  display:-webkit-box;
  display:-ms-flexbox;
  display:flex; }

.bp3-multistep-dialog-left-panel{
  display:-webkit-box;
  display:-ms-flexbox;
  display:flex;
  -webkit-box-flex:1;
      -ms-flex:1;
          flex:1;
  -webkit-box-orient:vertical;
  -webkit-box-direction:normal;
      -ms-flex-direction:column;
          flex-direction:column; }
  .bp3-dark .bp3-multistep-dialog-left-panel{
    background:#202b33; }

.bp3-multistep-dialog-right-panel{
  background-color:#f5f8fa;
  border-left:1px solid rgba(16, 22, 26, 0.15);
  border-radius:0 0 6px 0;
  -webkit-box-flex:3;
      -ms-flex:3;
          flex:3;
  min-width:0; }
  .bp3-dark .bp3-multistep-dialog-right-panel{
    background-color:#293742;
    border-left:1px solid rgba(16, 22, 26, 0.4); }

.bp3-multistep-dialog-footer{
  background-color:#ffffff;
  border-radius:0 0 6px 0;
  border-top:1px solid rgba(16, 22, 26, 0.15);
  padding:10px; }
  .bp3-dark .bp3-multistep-dialog-footer{
    background:#30404d;
    border-top:1px solid rgba(16, 22, 26, 0.4); }

.bp3-dialog-step-container{
  background-color:#f5f8fa;
  border-bottom:1px solid rgba(16, 22, 26, 0.15); }
  .bp3-dark .bp3-dialog-step-container{
    background:#293742;
    border-bottom:1px solid rgba(16, 22, 26, 0.4); }
  .bp3-dialog-step-container.bp3-dialog-step-viewed{
    background-color:#ffffff; }
    .bp3-dark .bp3-dialog-step-container.bp3-dialog-step-viewed{
      background:#30404d; }

.bp3-dialog-step{
  -webkit-box-align:center;
      -ms-flex-align:center;
          align-items:center;
  background-color:#f5f8fa;
  border-radius:6px;
  cursor:not-allowed;
  display:-webkit-box;
  display:-ms-flexbox;
  display:flex;
  margin:4px;
  padding:6px 14px; }
  .bp3-dark .bp3-dialog-step{
    background:#293742; }
  .bp3-dialog-step-viewed .bp3-dialog-step{
    background-color:#ffffff;
    cursor:pointer; }
    .bp3-dark .bp3-dialog-step-viewed .bp3-dialog-step{
      background:#30404d; }
  .bp3-dialog-step:hover{
    background-color:#f5f8fa; }
    .bp3-dark .bp3-dialog-step:hover{
      background:#293742; }

.bp3-dialog-step-icon{
  -webkit-box-align:center;
      -ms-flex-align:center;
          align-items:center;
  background-color:rgba(92, 112, 128, 0.6);
  border-radius:50%;
  color:#ffffff;
  display:-webkit-box;
  display:-ms-flexbox;
  display:flex;
  height:25px;
  -webkit-box-pack:center;
      -ms-flex-pack:center;
          justify-content:center;
  width:25px; }
  .bp3-dark .bp3-dialog-step-icon{
    background-color:rgba(167, 182, 194, 0.6); }
  .bp3-active.bp3-dialog-step-viewed .bp3-dialog-step-icon{
    background-color:#2b95d6; }
  .bp3-dialog-step-viewed .bp3-dialog-step-icon{
    background-color:#8a9ba8; }

.bp3-dialog-step-title{
  color:rgba(92, 112, 128, 0.6);
  -webkit-box-flex:1;
      -ms-flex:1;
          flex:1;
  padding-left:10px; }
  .bp3-dark .bp3-dialog-step-title{
    color:rgba(167, 182, 194, 0.6); }
  .bp3-active.bp3-dialog-step-viewed .bp3-dialog-step-title{
    color:#2b95d6; }
  .bp3-dialog-step-viewed:not(.bp3-active) .bp3-dialog-step-title{
    color:#182026; }
    .bp3-dark .bp3-dialog-step-viewed:not(.bp3-active) .bp3-dialog-step-title{
      color:#f5f8fa; }
.bp3-drawer{
  background:#ffffff;
  -webkit-box-shadow:0 0 0 1px rgba(16, 22, 26, 0.1), 0 4px 8px rgba(16, 22, 26, 0.2), 0 18px 46px 6px rgba(16, 22, 26, 0.2);
          box-shadow:0 0 0 1px rgba(16, 22, 26, 0.1), 0 4px 8px rgba(16, 22, 26, 0.2), 0 18px 46px 6px rgba(16, 22, 26, 0.2);
  display:-webkit-box;
  display:-ms-flexbox;
  display:flex;
  -webkit-box-orient:vertical;
  -webkit-box-direction:normal;
      -ms-flex-direction:column;
          flex-direction:column;
  margin:0;
  padding:0; }
  .bp3-drawer:focus{
    outline:0; }
  .bp3-drawer.bp3-position-top{
    height:50%;
    left:0;
    right:0;
    top:0; }
    .bp3-drawer.bp3-position-top.bp3-overlay-enter, .bp3-drawer.bp3-position-top.bp3-overlay-appear{
      -webkit-transform:translateY(-100%);
              transform:translateY(-100%); }
    .bp3-drawer.bp3-position-top.bp3-overlay-enter-active, .bp3-drawer.bp3-position-top.bp3-overlay-appear-active{
      -webkit-transform:translateY(0);
              transform:translateY(0);
      -webkit-transition-delay:0;
              transition-delay:0;
      -webkit-transition-duration:200ms;
              transition-duration:200ms;
      -webkit-transition-property:-webkit-transform;
      transition-property:-webkit-transform;
      transition-property:transform;
      transition-property:transform, -webkit-transform;
      -webkit-transition-timing-function:cubic-bezier(0.4, 1, 0.75, 0.9);
              transition-timing-function:cubic-bezier(0.4, 1, 0.75, 0.9); }
    .bp3-drawer.bp3-position-top.bp3-overlay-exit{
      -webkit-transform:translateY(0);
              transform:translateY(0); }
    .bp3-drawer.bp3-position-top.bp3-overlay-exit-active{
      -webkit-transform:translateY(-100%);
              transform:translateY(-100%);
      -webkit-transition-delay:0;
              transition-delay:0;
      -webkit-transition-duration:100ms;
              transition-duration:100ms;
      -webkit-transition-property:-webkit-transform;
      transition-property:-webkit-transform;
      transition-property:transform;
      transition-property:transform, -webkit-transform;
      -webkit-transition-timing-function:cubic-bezier(0.4, 1, 0.75, 0.9);
              transition-timing-function:cubic-bezier(0.4, 1, 0.75, 0.9); }
  .bp3-drawer.bp3-position-bottom{
    bottom:0;
    height:50%;
    left:0;
    right:0; }
    .bp3-drawer.bp3-position-bottom.bp3-overlay-enter, .bp3-drawer.bp3-position-bottom.bp3-overlay-appear{
      -webkit-transform:translateY(100%);
              transform:translateY(100%); }
    .bp3-drawer.bp3-position-bottom.bp3-overlay-enter-active, .bp3-drawer.bp3-position-bottom.bp3-overlay-appear-active{
      -webkit-transform:translateY(0);
              transform:translateY(0);
      -webkit-transition-delay:0;
              transition-delay:0;
      -webkit-transition-duration:200ms;
              transition-duration:200ms;
      -webkit-transition-property:-webkit-transform;
      transition-property:-webkit-transform;
      transition-property:transform;
      transition-property:transform, -webkit-transform;
      -webkit-transition-timing-function:cubic-bezier(0.4, 1, 0.75, 0.9);
              transition-timing-function:cubic-bezier(0.4, 1, 0.75, 0.9); }
    .bp3-drawer.bp3-position-bottom.bp3-overlay-exit{
      -webkit-transform:translateY(0);
              transform:translateY(0); }
    .bp3-drawer.bp3-position-bottom.bp3-overlay-exit-active{
      -webkit-transform:translateY(100%);
              transform:translateY(100%);
      -webkit-transition-delay:0;
              transition-delay:0;
      -webkit-transition-duration:100ms;
              transition-duration:100ms;
      -webkit-transition-property:-webkit-transform;
      transition-property:-webkit-transform;
      transition-property:transform;
      transition-property:transform, -webkit-transform;
      -webkit-transition-timing-function:cubic-bezier(0.4, 1, 0.75, 0.9);
              transition-timing-function:cubic-bezier(0.4, 1, 0.75, 0.9); }
  .bp3-drawer.bp3-position-left{
    bottom:0;
    left:0;
    top:0;
    width:50%; }
    .bp3-drawer.bp3-position-left.bp3-overlay-enter, .bp3-drawer.bp3-position-left.bp3-overlay-appear{
      -webkit-transform:translateX(-100%);
              transform:translateX(-100%); }
    .bp3-drawer.bp3-position-left.bp3-overlay-enter-active, .bp3-drawer.bp3-position-left.bp3-overlay-appear-active{
      -webkit-transform:translateX(0);
              transform:translateX(0);
      -webkit-transition-delay:0;
              transition-delay:0;
      -webkit-transition-duration:200ms;
              transition-duration:200ms;
      -webkit-transition-property:-webkit-transform;
      transition-property:-webkit-transform;
      transition-property:transform;
      transition-property:transform, -webkit-transform;
      -webkit-transition-timing-function:cubic-bezier(0.4, 1, 0.75, 0.9);
              transition-timing-function:cubic-bezier(0.4, 1, 0.75, 0.9); }
    .bp3-drawer.bp3-position-left.bp3-overlay-exit{
      -webkit-transform:translateX(0);
              transform:translateX(0); }
    .bp3-drawer.bp3-position-left.bp3-overlay-exit-active{
      -webkit-transform:translateX(-100%);
              transform:translateX(-100%);
      -webkit-transition-delay:0;
              transition-delay:0;
      -webkit-transition-duration:100ms;
              transition-duration:100ms;
      -webkit-transition-property:-webkit-transform;
      transition-property:-webkit-transform;
      transition-property:transform;
      transition-property:transform, -webkit-transform;
      -webkit-transition-timing-function:cubic-bezier(0.4, 1, 0.75, 0.9);
              transition-timing-function:cubic-bezier(0.4, 1, 0.75, 0.9); }
  .bp3-drawer.bp3-position-right{
    bottom:0;
    right:0;
    top:0;
    width:50%; }
    .bp3-drawer.bp3-position-right.bp3-overlay-enter, .bp3-drawer.bp3-position-right.bp3-overlay-appear{
      -webkit-transform:translateX(100%);
              transform:translateX(100%); }
    .bp3-drawer.bp3-position-right.bp3-overlay-enter-active, .bp3-drawer.bp3-position-right.bp3-overlay-appear-active{
      -webkit-transform:translateX(0);
              transform:translateX(0);
      -webkit-transition-delay:0;
              transition-delay:0;
      -webkit-transition-duration:200ms;
              transition-duration:200ms;
      -webkit-transition-property:-webkit-transform;
      transition-property:-webkit-transform;
      transition-property:transform;
      transition-property:transform, -webkit-transform;
      -webkit-transition-timing-function:cubic-bezier(0.4, 1, 0.75, 0.9);
              transition-timing-function:cubic-bezier(0.4, 1, 0.75, 0.9); }
    .bp3-drawer.bp3-position-right.bp3-overlay-exit{
      -webkit-transform:translateX(0);
              transform:translateX(0); }
    .bp3-drawer.bp3-position-right.bp3-overlay-exit-active{
      -webkit-transform:translateX(100%);
              transform:translateX(100%);
      -webkit-transition-delay:0;
              transition-delay:0;
      -webkit-transition-duration:100ms;
              transition-duration:100ms;
      -webkit-transition-property:-webkit-transform;
      transition-property:-webkit-transform;
      transition-property:transform;
      transition-property:transform, -webkit-transform;
      -webkit-transition-timing-function:cubic-bezier(0.4, 1, 0.75, 0.9);
              transition-timing-function:cubic-bezier(0.4, 1, 0.75, 0.9); }
  .bp3-drawer:not(.bp3-position-top):not(.bp3-position-bottom):not(.bp3-position-left):not(
  .bp3-position-right):not(.bp3-vertical){
    bottom:0;
    right:0;
    top:0;
    width:50%; }
    .bp3-drawer:not(.bp3-position-top):not(.bp3-position-bottom):not(.bp3-position-left):not(
    .bp3-position-right):not(.bp3-vertical).bp3-overlay-enter, .bp3-drawer:not(.bp3-position-top):not(.bp3-position-bottom):not(.bp3-position-left):not(
    .bp3-position-right):not(.bp3-vertical).bp3-overlay-appear{
      -webkit-transform:translateX(100%);
              transform:translateX(100%); }
    .bp3-drawer:not(.bp3-position-top):not(.bp3-position-bottom):not(.bp3-position-left):not(
    .bp3-position-right):not(.bp3-vertical).bp3-overlay-enter-active, .bp3-drawer:not(.bp3-position-top):not(.bp3-position-bottom):not(.bp3-position-left):not(
    .bp3-position-right):not(.bp3-vertical).bp3-overlay-appear-active{
      -webkit-transform:translateX(0);
              transform:translateX(0);
      -webkit-transition-delay:0;
              transition-delay:0;
      -webkit-transition-duration:200ms;
              transition-duration:200ms;
      -webkit-transition-property:-webkit-transform;
      transition-property:-webkit-transform;
      transition-property:transform;
      transition-property:transform, -webkit-transform;
      -webkit-transition-timing-function:cubic-bezier(0.4, 1, 0.75, 0.9);
              transition-timing-function:cubic-bezier(0.4, 1, 0.75, 0.9); }
    .bp3-drawer:not(.bp3-position-top):not(.bp3-position-bottom):not(.bp3-position-left):not(
    .bp3-position-right):not(.bp3-vertical).bp3-overlay-exit{
      -webkit-transform:translateX(0);
              transform:translateX(0); }
    .bp3-drawer:not(.bp3-position-top):not(.bp3-position-bottom):not(.bp3-position-left):not(
    .bp3-position-right):not(.bp3-vertical).bp3-overlay-exit-active{
      -webkit-transform:translateX(100%);
              transform:translateX(100%);
      -webkit-transition-delay:0;
              transition-delay:0;
      -webkit-transition-duration:100ms;
              transition-duration:100ms;
      -webkit-transition-property:-webkit-transform;
      transition-property:-webkit-transform;
      transition-property:transform;
      transition-property:transform, -webkit-transform;
      -webkit-transition-timing-function:cubic-bezier(0.4, 1, 0.75, 0.9);
              transition-timing-function:cubic-bezier(0.4, 1, 0.75, 0.9); }
  .bp3-drawer:not(.bp3-position-top):not(.bp3-position-bottom):not(.bp3-position-left):not(
  .bp3-position-right).bp3-vertical{
    bottom:0;
    height:50%;
    left:0;
    right:0; }
    .bp3-drawer:not(.bp3-position-top):not(.bp3-position-bottom):not(.bp3-position-left):not(
    .bp3-position-right).bp3-vertical.bp3-overlay-enter, .bp3-drawer:not(.bp3-position-top):not(.bp3-position-bottom):not(.bp3-position-left):not(
    .bp3-position-right).bp3-vertical.bp3-overlay-appear{
      -webkit-transform:translateY(100%);
              transform:translateY(100%); }
    .bp3-drawer:not(.bp3-position-top):not(.bp3-position-bottom):not(.bp3-position-left):not(
    .bp3-position-right).bp3-vertical.bp3-overlay-enter-active, .bp3-drawer:not(.bp3-position-top):not(.bp3-position-bottom):not(.bp3-position-left):not(
    .bp3-position-right).bp3-vertical.bp3-overlay-appear-active{
      -webkit-transform:translateY(0);
              transform:translateY(0);
      -webkit-transition-delay:0;
              transition-delay:0;
      -webkit-transition-duration:200ms;
              transition-duration:200ms;
      -webkit-transition-property:-webkit-transform;
      transition-property:-webkit-transform;
      transition-property:transform;
      transition-property:transform, -webkit-transform;
      -webkit-transition-timing-function:cubic-bezier(0.4, 1, 0.75, 0.9);
              transition-timing-function:cubic-bezier(0.4, 1, 0.75, 0.9); }
    .bp3-drawer:not(.bp3-position-top):not(.bp3-position-bottom):not(.bp3-position-left):not(
    .bp3-position-right).bp3-vertical.bp3-overlay-exit{
      -webkit-transform:translateY(0);
              transform:translateY(0); }
    .bp3-drawer:not(.bp3-position-top):not(.bp3-position-bottom):not(.bp3-position-left):not(
    .bp3-position-right).bp3-vertical.bp3-overlay-exit-active{
      -webkit-transform:translateY(100%);
              transform:translateY(100%);
      -webkit-transition-delay:0;
              transition-delay:0;
      -webkit-transition-duration:100ms;
              transition-duration:100ms;
      -webkit-transition-property:-webkit-transform;
      transition-property:-webkit-transform;
      transition-property:transform;
      transition-property:transform, -webkit-transform;
      -webkit-transition-timing-function:cubic-bezier(0.4, 1, 0.75, 0.9);
              transition-timing-function:cubic-bezier(0.4, 1, 0.75, 0.9); }
  .bp3-drawer.bp3-dark,
  .bp3-dark .bp3-drawer{
    background:#30404d;
    -webkit-box-shadow:0 0 0 1px rgba(16, 22, 26, 0.2), 0 4px 8px rgba(16, 22, 26, 0.4), 0 18px 46px 6px rgba(16, 22, 26, 0.4);
            box-shadow:0 0 0 1px rgba(16, 22, 26, 0.2), 0 4px 8px rgba(16, 22, 26, 0.4), 0 18px 46px 6px rgba(16, 22, 26, 0.4);
    color:#f5f8fa; }

.bp3-drawer-header{
  -webkit-box-align:center;
      -ms-flex-align:center;
          align-items:center;
  border-radius:0;
  -webkit-box-shadow:0 1px 0 rgba(16, 22, 26, 0.15);
          box-shadow:0 1px 0 rgba(16, 22, 26, 0.15);
  display:-webkit-box;
  display:-ms-flexbox;
  display:flex;
  -webkit-box-flex:0;
      -ms-flex:0 0 auto;
          flex:0 0 auto;
  min-height:40px;
  padding:5px;
  padding-left:20px;
  position:relative; }
  .bp3-drawer-header .bp3-icon-large,
  .bp3-drawer-header .bp3-icon{
    color:#5c7080;
    -webkit-box-flex:0;
        -ms-flex:0 0 auto;
            flex:0 0 auto;
    margin-right:10px; }
  .bp3-drawer-header .bp3-heading{
    overflow:hidden;
    text-overflow:ellipsis;
    white-space:nowrap;
    word-wrap:normal;
    -webkit-box-flex:1;
        -ms-flex:1 1 auto;
            flex:1 1 auto;
    line-height:inherit;
    margin:0; }
    .bp3-drawer-header .bp3-heading:last-child{
      margin-right:20px; }
  .bp3-dark .bp3-drawer-header{
    -webkit-box-shadow:0 1px 0 rgba(16, 22, 26, 0.4);
            box-shadow:0 1px 0 rgba(16, 22, 26, 0.4); }
    .bp3-dark .bp3-drawer-header .bp3-icon-large,
    .bp3-dark .bp3-drawer-header .bp3-icon{
      color:#a7b6c2; }

.bp3-drawer-body{
  -webkit-box-flex:1;
      -ms-flex:1 1 auto;
          flex:1 1 auto;
  line-height:18px;
  overflow:auto; }

.bp3-drawer-footer{
  -webkit-box-shadow:inset 0 1px 0 rgba(16, 22, 26, 0.15);
          box-shadow:inset 0 1px 0 rgba(16, 22, 26, 0.15);
  -webkit-box-flex:0;
      -ms-flex:0 0 auto;
          flex:0 0 auto;
  padding:10px 20px;
  position:relative; }
  .bp3-dark .bp3-drawer-footer{
    -webkit-box-shadow:inset 0 1px 0 rgba(16, 22, 26, 0.4);
            box-shadow:inset 0 1px 0 rgba(16, 22, 26, 0.4); }
.bp3-editable-text{
  cursor:text;
  display:inline-block;
  max-width:100%;
  position:relative;
  vertical-align:top;
  white-space:nowrap; }
  .bp3-editable-text::before{
    bottom:-3px;
    left:-3px;
    position:absolute;
    right:-3px;
    top:-3px;
    border-radius:3px;
    content:"";
    -webkit-transition:background-color 100ms cubic-bezier(0.4, 1, 0.75, 0.9), -webkit-box-shadow 100ms cubic-bezier(0.4, 1, 0.75, 0.9);
    transition:background-color 100ms cubic-bezier(0.4, 1, 0.75, 0.9), -webkit-box-shadow 100ms cubic-bezier(0.4, 1, 0.75, 0.9);
    transition:background-color 100ms cubic-bezier(0.4, 1, 0.75, 0.9), box-shadow 100ms cubic-bezier(0.4, 1, 0.75, 0.9);
    transition:background-color 100ms cubic-bezier(0.4, 1, 0.75, 0.9), box-shadow 100ms cubic-bezier(0.4, 1, 0.75, 0.9), -webkit-box-shadow 100ms cubic-bezier(0.4, 1, 0.75, 0.9); }
  .bp3-editable-text:hover::before{
    -webkit-box-shadow:0 0 0 0 rgba(19, 124, 189, 0), 0 0 0 0 rgba(19, 124, 189, 0), inset 0 0 0 1px rgba(16, 22, 26, 0.15);
            box-shadow:0 0 0 0 rgba(19, 124, 189, 0), 0 0 0 0 rgba(19, 124, 189, 0), inset 0 0 0 1px rgba(16, 22, 26, 0.15); }
  .bp3-editable-text.bp3-editable-text-editing::before{
    background-color:#ffffff;
    -webkit-box-shadow:0 0 0 1px #137cbd, 0 0 0 3px rgba(19, 124, 189, 0.3), inset 0 1px 1px rgba(16, 22, 26, 0.2);
            box-shadow:0 0 0 1px #137cbd, 0 0 0 3px rgba(19, 124, 189, 0.3), inset 0 1px 1px rgba(16, 22, 26, 0.2); }
  .bp3-editable-text.bp3-disabled::before{
    -webkit-box-shadow:none;
            box-shadow:none; }
  .bp3-editable-text.bp3-intent-primary .bp3-editable-text-input,
  .bp3-editable-text.bp3-intent-primary .bp3-editable-text-content{
    color:#137cbd; }
  .bp3-editable-text.bp3-intent-primary:hover::before{
    -webkit-box-shadow:0 0 0 0 rgba(19, 124, 189, 0), 0 0 0 0 rgba(19, 124, 189, 0), inset 0 0 0 1px rgba(19, 124, 189, 0.4);
            box-shadow:0 0 0 0 rgba(19, 124, 189, 0), 0 0 0 0 rgba(19, 124, 189, 0), inset 0 0 0 1px rgba(19, 124, 189, 0.4); }
  .bp3-editable-text.bp3-intent-primary.bp3-editable-text-editing::before{
    -webkit-box-shadow:0 0 0 1px #137cbd, 0 0 0 3px rgba(19, 124, 189, 0.3), inset 0 1px 1px rgba(16, 22, 26, 0.2);
            box-shadow:0 0 0 1px #137cbd, 0 0 0 3px rgba(19, 124, 189, 0.3), inset 0 1px 1px rgba(16, 22, 26, 0.2); }
  .bp3-editable-text.bp3-intent-success .bp3-editable-text-input,
  .bp3-editable-text.bp3-intent-success .bp3-editable-text-content{
    color:#0f9960; }
  .bp3-editable-text.bp3-intent-success:hover::before{
    -webkit-box-shadow:0 0 0 0 rgba(15, 153, 96, 0), 0 0 0 0 rgba(15, 153, 96, 0), inset 0 0 0 1px rgba(15, 153, 96, 0.4);
            box-shadow:0 0 0 0 rgba(15, 153, 96, 0), 0 0 0 0 rgba(15, 153, 96, 0), inset 0 0 0 1px rgba(15, 153, 96, 0.4); }
  .bp3-editable-text.bp3-intent-success.bp3-editable-text-editing::before{
    -webkit-box-shadow:0 0 0 1px #0f9960, 0 0 0 3px rgba(15, 153, 96, 0.3), inset 0 1px 1px rgba(16, 22, 26, 0.2);
            box-shadow:0 0 0 1px #0f9960, 0 0 0 3px rgba(15, 153, 96, 0.3), inset 0 1px 1px rgba(16, 22, 26, 0.2); }
  .bp3-editable-text.bp3-intent-warning .bp3-editable-text-input,
  .bp3-editable-text.bp3-intent-warning .bp3-editable-text-content{
    color:#d9822b; }
  .bp3-editable-text.bp3-intent-warning:hover::before{
    -webkit-box-shadow:0 0 0 0 rgba(217, 130, 43, 0), 0 0 0 0 rgba(217, 130, 43, 0), inset 0 0 0 1px rgba(217, 130, 43, 0.4);
            box-shadow:0 0 0 0 rgba(217, 130, 43, 0), 0 0 0 0 rgba(217, 130, 43, 0), inset 0 0 0 1px rgba(217, 130, 43, 0.4); }
  .bp3-editable-text.bp3-intent-warning.bp3-editable-text-editing::before{
    -webkit-box-shadow:0 0 0 1px #d9822b, 0 0 0 3px rgba(217, 130, 43, 0.3), inset 0 1px 1px rgba(16, 22, 26, 0.2);
            box-shadow:0 0 0 1px #d9822b, 0 0 0 3px rgba(217, 130, 43, 0.3), inset 0 1px 1px rgba(16, 22, 26, 0.2); }
  .bp3-editable-text.bp3-intent-danger .bp3-editable-text-input,
  .bp3-editable-text.bp3-intent-danger .bp3-editable-text-content{
    color:#db3737; }
  .bp3-editable-text.bp3-intent-danger:hover::before{
    -webkit-box-shadow:0 0 0 0 rgba(219, 55, 55, 0), 0 0 0 0 rgba(219, 55, 55, 0), inset 0 0 0 1px rgba(219, 55, 55, 0.4);
            box-shadow:0 0 0 0 rgba(219, 55, 55, 0), 0 0 0 0 rgba(219, 55, 55, 0), inset 0 0 0 1px rgba(219, 55, 55, 0.4); }
  .bp3-editable-text.bp3-intent-danger.bp3-editable-text-editing::before{
    -webkit-box-shadow:0 0 0 1px #db3737, 0 0 0 3px rgba(219, 55, 55, 0.3), inset 0 1px 1px rgba(16, 22, 26, 0.2);
            box-shadow:0 0 0 1px #db3737, 0 0 0 3px rgba(219, 55, 55, 0.3), inset 0 1px 1px rgba(16, 22, 26, 0.2); }
  .bp3-dark .bp3-editable-text:hover::before{
    -webkit-box-shadow:0 0 0 0 rgba(19, 124, 189, 0), 0 0 0 0 rgba(19, 124, 189, 0), inset 0 0 0 1px rgba(255, 255, 255, 0.15);
            box-shadow:0 0 0 0 rgba(19, 124, 189, 0), 0 0 0 0 rgba(19, 124, 189, 0), inset 0 0 0 1px rgba(255, 255, 255, 0.15); }
  .bp3-dark .bp3-editable-text.bp3-editable-text-editing::before{
    background-color:rgba(16, 22, 26, 0.3);
    -webkit-box-shadow:0 0 0 1px #137cbd, 0 0 0 3px rgba(19, 124, 189, 0.3), inset 0 0 0 1px rgba(16, 22, 26, 0.3), inset 0 1px 1px rgba(16, 22, 26, 0.4);
            box-shadow:0 0 0 1px #137cbd, 0 0 0 3px rgba(19, 124, 189, 0.3), inset 0 0 0 1px rgba(16, 22, 26, 0.3), inset 0 1px 1px rgba(16, 22, 26, 0.4); }
  .bp3-dark .bp3-editable-text.bp3-disabled::before{
    -webkit-box-shadow:none;
            box-shadow:none; }
  .bp3-dark .bp3-editable-text.bp3-intent-primary .bp3-editable-text-content{
    color:#48aff0; }
  .bp3-dark .bp3-editable-text.bp3-intent-primary:hover::before{
    -webkit-box-shadow:0 0 0 0 rgba(72, 175, 240, 0), 0 0 0 0 rgba(72, 175, 240, 0), inset 0 0 0 1px rgba(72, 175, 240, 0.4);
            box-shadow:0 0 0 0 rgba(72, 175, 240, 0), 0 0 0 0 rgba(72, 175, 240, 0), inset 0 0 0 1px rgba(72, 175, 240, 0.4); }
  .bp3-dark .bp3-editable-text.bp3-intent-primary.bp3-editable-text-editing::before{
    -webkit-box-shadow:0 0 0 1px #48aff0, 0 0 0 3px rgba(72, 175, 240, 0.3), inset 0 0 0 1px rgba(16, 22, 26, 0.3), inset 0 1px 1px rgba(16, 22, 26, 0.4);
            box-shadow:0 0 0 1px #48aff0, 0 0 0 3px rgba(72, 175, 240, 0.3), inset 0 0 0 1px rgba(16, 22, 26, 0.3), inset 0 1px 1px rgba(16, 22, 26, 0.4); }
  .bp3-dark .bp3-editable-text.bp3-intent-success .bp3-editable-text-content{
    color:#3dcc91; }
  .bp3-dark .bp3-editable-text.bp3-intent-success:hover::before{
    -webkit-box-shadow:0 0 0 0 rgba(61, 204, 145, 0), 0 0 0 0 rgba(61, 204, 145, 0), inset 0 0 0 1px rgba(61, 204, 145, 0.4);
            box-shadow:0 0 0 0 rgba(61, 204, 145, 0), 0 0 0 0 rgba(61, 204, 145, 0), inset 0 0 0 1px rgba(61, 204, 145, 0.4); }
  .bp3-dark .bp3-editable-text.bp3-intent-success.bp3-editable-text-editing::before{
    -webkit-box-shadow:0 0 0 1px #3dcc91, 0 0 0 3px rgba(61, 204, 145, 0.3), inset 0 0 0 1px rgba(16, 22, 26, 0.3), inset 0 1px 1px rgba(16, 22, 26, 0.4);
            box-shadow:0 0 0 1px #3dcc91, 0 0 0 3px rgba(61, 204, 145, 0.3), inset 0 0 0 1px rgba(16, 22, 26, 0.3), inset 0 1px 1px rgba(16, 22, 26, 0.4); }
  .bp3-dark .bp3-editable-text.bp3-intent-warning .bp3-editable-text-content{
    color:#ffb366; }
  .bp3-dark .bp3-editable-text.bp3-intent-warning:hover::before{
    -webkit-box-shadow:0 0 0 0 rgba(255, 179, 102, 0), 0 0 0 0 rgba(255, 179, 102, 0), inset 0 0 0 1px rgba(255, 179, 102, 0.4);
            box-shadow:0 0 0 0 rgba(255, 179, 102, 0), 0 0 0 0 rgba(255, 179, 102, 0), inset 0 0 0 1px rgba(255, 179, 102, 0.4); }
  .bp3-dark .bp3-editable-text.bp3-intent-warning.bp3-editable-text-editing::before{
    -webkit-box-shadow:0 0 0 1px #ffb366, 0 0 0 3px rgba(255, 179, 102, 0.3), inset 0 0 0 1px rgba(16, 22, 26, 0.3), inset 0 1px 1px rgba(16, 22, 26, 0.4);
            box-shadow:0 0 0 1px #ffb366, 0 0 0 3px rgba(255, 179, 102, 0.3), inset 0 0 0 1px rgba(16, 22, 26, 0.3), inset 0 1px 1px rgba(16, 22, 26, 0.4); }
  .bp3-dark .bp3-editable-text.bp3-intent-danger .bp3-editable-text-content{
    color:#ff7373; }
  .bp3-dark .bp3-editable-text.bp3-intent-danger:hover::before{
    -webkit-box-shadow:0 0 0 0 rgba(255, 115, 115, 0), 0 0 0 0 rgba(255, 115, 115, 0), inset 0 0 0 1px rgba(255, 115, 115, 0.4);
            box-shadow:0 0 0 0 rgba(255, 115, 115, 0), 0 0 0 0 rgba(255, 115, 115, 0), inset 0 0 0 1px rgba(255, 115, 115, 0.4); }
  .bp3-dark .bp3-editable-text.bp3-intent-danger.bp3-editable-text-editing::before{
    -webkit-box-shadow:0 0 0 1px #ff7373, 0 0 0 3px rgba(255, 115, 115, 0.3), inset 0 0 0 1px rgba(16, 22, 26, 0.3), inset 0 1px 1px rgba(16, 22, 26, 0.4);
            box-shadow:0 0 0 1px #ff7373, 0 0 0 3px rgba(255, 115, 115, 0.3), inset 0 0 0 1px rgba(16, 22, 26, 0.3), inset 0 1px 1px rgba(16, 22, 26, 0.4); }

.bp3-editable-text-input,
.bp3-editable-text-content{
  color:inherit;
  display:inherit;
  font:inherit;
  letter-spacing:inherit;
  max-width:inherit;
  min-width:inherit;
  position:relative;
  resize:none;
  text-transform:inherit;
  vertical-align:top; }

.bp3-editable-text-input{
  background:none;
  border:none;
  -webkit-box-shadow:none;
          box-shadow:none;
  padding:0;
  white-space:pre-wrap;
  width:100%; }
  .bp3-editable-text-input::-webkit-input-placeholder{
    color:rgba(92, 112, 128, 0.6);
    opacity:1; }
  .bp3-editable-text-input::-moz-placeholder{
    color:rgba(92, 112, 128, 0.6);
    opacity:1; }
  .bp3-editable-text-input:-ms-input-placeholder{
    color:rgba(92, 112, 128, 0.6);
    opacity:1; }
  .bp3-editable-text-input::-ms-input-placeholder{
    color:rgba(92, 112, 128, 0.6);
    opacity:1; }
  .bp3-editable-text-input::placeholder{
    color:rgba(92, 112, 128, 0.6);
    opacity:1; }
  .bp3-editable-text-input:focus{
    outline:none; }
  .bp3-editable-text-input::-ms-clear{
    display:none; }

.bp3-editable-text-content{
  overflow:hidden;
  padding-right:2px;
  text-overflow:ellipsis;
  white-space:pre; }
  .bp3-editable-text-editing > .bp3-editable-text-content{
    left:0;
    position:absolute;
    visibility:hidden; }
  .bp3-editable-text-placeholder > .bp3-editable-text-content{
    color:rgba(92, 112, 128, 0.6); }
    .bp3-dark .bp3-editable-text-placeholder > .bp3-editable-text-content{
      color:rgba(167, 182, 194, 0.6); }

.bp3-editable-text.bp3-multiline{
  display:block; }
  .bp3-editable-text.bp3-multiline .bp3-editable-text-content{
    overflow:auto;
    white-space:pre-wrap;
    word-wrap:break-word; }
.bp3-divider{
  border-bottom:1px solid rgba(16, 22, 26, 0.15);
  border-right:1px solid rgba(16, 22, 26, 0.15);
  margin:5px; }
  .bp3-dark .bp3-divider{
    border-color:rgba(16, 22, 26, 0.4); }
.bp3-control-group{
  -webkit-transform:translateZ(0);
          transform:translateZ(0);
  display:-webkit-box;
  display:-ms-flexbox;
  display:flex;
  -webkit-box-orient:horizontal;
  -webkit-box-direction:normal;
      -ms-flex-direction:row;
          flex-direction:row;
  -webkit-box-align:stretch;
      -ms-flex-align:stretch;
          align-items:stretch; }
  .bp3-control-group > *{
    -webkit-box-flex:0;
        -ms-flex-positive:0;
            flex-grow:0;
    -ms-flex-negative:0;
        flex-shrink:0; }
  .bp3-control-group > .bp3-fill{
    -webkit-box-flex:1;
        -ms-flex-positive:1;
            flex-grow:1;
    -ms-flex-negative:1;
        flex-shrink:1; }
  .bp3-control-group .bp3-button,
  .bp3-control-group .bp3-html-select,
  .bp3-control-group .bp3-input,
  .bp3-control-group .bp3-select{
    position:relative; }
  .bp3-control-group .bp3-input{
    border-radius:inherit;
    z-index:2; }
    .bp3-control-group .bp3-input:focus{
      border-radius:3px;
      z-index:14; }
    .bp3-control-group .bp3-input[class*="bp3-intent"]{
      z-index:13; }
      .bp3-control-group .bp3-input[class*="bp3-intent"]:focus{
        z-index:15; }
    .bp3-control-group .bp3-input[readonly], .bp3-control-group .bp3-input:disabled, .bp3-control-group .bp3-input.bp3-disabled{
      z-index:1; }
  .bp3-control-group .bp3-input-group[class*="bp3-intent"] .bp3-input{
    z-index:13; }
    .bp3-control-group .bp3-input-group[class*="bp3-intent"] .bp3-input:focus{
      z-index:15; }
  .bp3-control-group .bp3-button,
  .bp3-control-group .bp3-html-select select,
  .bp3-control-group .bp3-select select{
    -webkit-transform:translateZ(0);
            transform:translateZ(0);
    border-radius:inherit;
    z-index:4; }
    .bp3-control-group .bp3-button:focus,
    .bp3-control-group .bp3-html-select select:focus,
    .bp3-control-group .bp3-select select:focus{
      z-index:5; }
    .bp3-control-group .bp3-button:hover,
    .bp3-control-group .bp3-html-select select:hover,
    .bp3-control-group .bp3-select select:hover{
      z-index:6; }
    .bp3-control-group .bp3-button:active,
    .bp3-control-group .bp3-html-select select:active,
    .bp3-control-group .bp3-select select:active{
      z-index:7; }
    .bp3-control-group .bp3-button[readonly], .bp3-control-group .bp3-button:disabled, .bp3-control-group .bp3-button.bp3-disabled,
    .bp3-control-group .bp3-html-select select[readonly],
    .bp3-control-group .bp3-html-select select:disabled,
    .bp3-control-group .bp3-html-select select.bp3-disabled,
    .bp3-control-group .bp3-select select[readonly],
    .bp3-control-group .bp3-select select:disabled,
    .bp3-control-group .bp3-select select.bp3-disabled{
      z-index:3; }
    .bp3-control-group .bp3-button[class*="bp3-intent"],
    .bp3-control-group .bp3-html-select select[class*="bp3-intent"],
    .bp3-control-group .bp3-select select[class*="bp3-intent"]{
      z-index:9; }
      .bp3-control-group .bp3-button[class*="bp3-intent"]:focus,
      .bp3-control-group .bp3-html-select select[class*="bp3-intent"]:focus,
      .bp3-control-group .bp3-select select[class*="bp3-intent"]:focus{
        z-index:10; }
      .bp3-control-group .bp3-button[class*="bp3-intent"]:hover,
      .bp3-control-group .bp3-html-select select[class*="bp3-intent"]:hover,
      .bp3-control-group .bp3-select select[class*="bp3-intent"]:hover{
        z-index:11; }
      .bp3-control-group .bp3-button[class*="bp3-intent"]:active,
      .bp3-control-group .bp3-html-select select[class*="bp3-intent"]:active,
      .bp3-control-group .bp3-select select[class*="bp3-intent"]:active{
        z-index:12; }
      .bp3-control-group .bp3-button[class*="bp3-intent"][readonly], .bp3-control-group .bp3-button[class*="bp3-intent"]:disabled, .bp3-control-group .bp3-button[class*="bp3-intent"].bp3-disabled,
      .bp3-control-group .bp3-html-select select[class*="bp3-intent"][readonly],
      .bp3-control-group .bp3-html-select select[class*="bp3-intent"]:disabled,
      .bp3-control-group .bp3-html-select select[class*="bp3-intent"].bp3-disabled,
      .bp3-control-group .bp3-select select[class*="bp3-intent"][readonly],
      .bp3-control-group .bp3-select select[class*="bp3-intent"]:disabled,
      .bp3-control-group .bp3-select select[class*="bp3-intent"].bp3-disabled{
        z-index:8; }
  .bp3-control-group .bp3-input-group > .bp3-icon,
  .bp3-control-group .bp3-input-group > .bp3-button,
  .bp3-control-group .bp3-input-group > .bp3-input-left-container,
  .bp3-control-group .bp3-input-group > .bp3-input-action{
    z-index:16; }
  .bp3-control-group .bp3-select::after,
  .bp3-control-group .bp3-html-select::after,
  .bp3-control-group .bp3-select > .bp3-icon,
  .bp3-control-group .bp3-html-select > .bp3-icon{
    z-index:17; }
  .bp3-control-group .bp3-select:focus-within{
    z-index:5; }
  .bp3-control-group:not(.bp3-vertical) > *:not(.bp3-divider){
    margin-right:-1px; }
  .bp3-control-group:not(.bp3-vertical) > .bp3-divider:not(:first-child){
    margin-left:6px; }
  .bp3-dark .bp3-control-group:not(.bp3-vertical) > *:not(.bp3-divider){
    margin-right:0; }
  .bp3-dark .bp3-control-group:not(.bp3-vertical) > .bp3-button + .bp3-button{
    margin-left:1px; }
  .bp3-control-group .bp3-popover-wrapper,
  .bp3-control-group .bp3-popover-target{
    border-radius:inherit; }
  .bp3-control-group > :first-child{
    border-radius:3px 0 0 3px; }
  .bp3-control-group > :last-child{
    border-radius:0 3px 3px 0;
    margin-right:0; }
  .bp3-control-group > :only-child{
    border-radius:3px;
    margin-right:0; }
  .bp3-control-group .bp3-input-group .bp3-button{
    border-radius:3px; }
  .bp3-control-group .bp3-numeric-input:not(:first-child) .bp3-input-group{
    border-bottom-left-radius:0;
    border-top-left-radius:0; }
  .bp3-control-group.bp3-fill{
    width:100%; }
  .bp3-control-group > .bp3-fill{
    -webkit-box-flex:1;
        -ms-flex:1 1 auto;
            flex:1 1 auto; }
  .bp3-control-group.bp3-fill > *:not(.bp3-fixed){
    -webkit-box-flex:1;
        -ms-flex:1 1 auto;
            flex:1 1 auto; }
  .bp3-control-group.bp3-vertical{
    -webkit-box-orient:vertical;
    -webkit-box-direction:normal;
        -ms-flex-direction:column;
            flex-direction:column; }
    .bp3-control-group.bp3-vertical > *{
      margin-top:-1px; }
    .bp3-control-group.bp3-vertical > :first-child{
      border-radius:3px 3px 0 0;
      margin-top:0; }
    .bp3-control-group.bp3-vertical > :last-child{
      border-radius:0 0 3px 3px; }
.bp3-control{
  cursor:pointer;
  display:block;
  margin-bottom:10px;
  position:relative;
  text-transform:none; }
  .bp3-control input:checked ~ .bp3-control-indicator{
    background-color:#137cbd;
    background-image:-webkit-gradient(linear, left top, left bottom, from(rgba(255, 255, 255, 0.1)), to(rgba(255, 255, 255, 0)));
    background-image:linear-gradient(to bottom, rgba(255, 255, 255, 0.1), rgba(255, 255, 255, 0));
    -webkit-box-shadow:inset 0 0 0 1px rgba(16, 22, 26, 0.4), inset 0 -1px 0 rgba(16, 22, 26, 0.2);
            box-shadow:inset 0 0 0 1px rgba(16, 22, 26, 0.4), inset 0 -1px 0 rgba(16, 22, 26, 0.2);
    color:#ffffff; }
  .bp3-control:hover input:checked ~ .bp3-control-indicator{
    background-color:#106ba3;
    -webkit-box-shadow:inset 0 0 0 1px rgba(16, 22, 26, 0.4), inset 0 -1px 0 rgba(16, 22, 26, 0.2);
            box-shadow:inset 0 0 0 1px rgba(16, 22, 26, 0.4), inset 0 -1px 0 rgba(16, 22, 26, 0.2); }
  .bp3-control input:not(:disabled):active:checked ~ .bp3-control-indicator{
    background:#0e5a8a;
    -webkit-box-shadow:inset 0 0 0 1px rgba(16, 22, 26, 0.4), inset 0 1px 2px rgba(16, 22, 26, 0.2);
            box-shadow:inset 0 0 0 1px rgba(16, 22, 26, 0.4), inset 0 1px 2px rgba(16, 22, 26, 0.2); }
  .bp3-control input:disabled:checked ~ .bp3-control-indicator{
    background:rgba(19, 124, 189, 0.5);
    -webkit-box-shadow:none;
            box-shadow:none; }
  .bp3-dark .bp3-control input:checked ~ .bp3-control-indicator{
    -webkit-box-shadow:0 0 0 1px rgba(16, 22, 26, 0.4);
            box-shadow:0 0 0 1px rgba(16, 22, 26, 0.4); }
  .bp3-dark .bp3-control:hover input:checked ~ .bp3-control-indicator{
    background-color:#106ba3;
    -webkit-box-shadow:0 0 0 1px rgba(16, 22, 26, 0.4);
            box-shadow:0 0 0 1px rgba(16, 22, 26, 0.4); }
  .bp3-dark .bp3-control input:not(:disabled):active:checked ~ .bp3-control-indicator{
    background-color:#0e5a8a;
    -webkit-box-shadow:0 0 0 1px rgba(16, 22, 26, 0.4), inset 0 1px 2px rgba(16, 22, 26, 0.2);
            box-shadow:0 0 0 1px rgba(16, 22, 26, 0.4), inset 0 1px 2px rgba(16, 22, 26, 0.2); }
  .bp3-dark .bp3-control input:disabled:checked ~ .bp3-control-indicator{
    background:rgba(14, 90, 138, 0.5);
    -webkit-box-shadow:none;
            box-shadow:none; }
  .bp3-control:not(.bp3-align-right){
    padding-left:26px; }
    .bp3-control:not(.bp3-align-right) .bp3-control-indicator{
      margin-left:-26px; }
  .bp3-control.bp3-align-right{
    padding-right:26px; }
    .bp3-control.bp3-align-right .bp3-control-indicator{
      margin-right:-26px; }
  .bp3-control.bp3-disabled{
    color:rgba(92, 112, 128, 0.6);
    cursor:not-allowed; }
  .bp3-control.bp3-inline{
    display:inline-block;
    margin-right:20px; }
  .bp3-control input{
    left:0;
    opacity:0;
    position:absolute;
    top:0;
    z-index:-1; }
  .bp3-control .bp3-control-indicator{
    background-clip:padding-box;
    background-color:#f5f8fa;
    background-image:-webkit-gradient(linear, left top, left bottom, from(rgba(255, 255, 255, 0.8)), to(rgba(255, 255, 255, 0)));
    background-image:linear-gradient(to bottom, rgba(255, 255, 255, 0.8), rgba(255, 255, 255, 0));
    border:none;
    -webkit-box-shadow:inset 0 0 0 1px rgba(16, 22, 26, 0.2), inset 0 -1px 0 rgba(16, 22, 26, 0.1);
            box-shadow:inset 0 0 0 1px rgba(16, 22, 26, 0.2), inset 0 -1px 0 rgba(16, 22, 26, 0.1);
    cursor:pointer;
    display:inline-block;
    font-size:16px;
    height:1em;
    margin-right:10px;
    margin-top:-3px;
    position:relative;
    -webkit-user-select:none;
       -moz-user-select:none;
        -ms-user-select:none;
            user-select:none;
    vertical-align:middle;
    width:1em; }
    .bp3-control .bp3-control-indicator::before{
      content:"";
      display:block;
      height:1em;
      width:1em; }
  .bp3-control:hover .bp3-control-indicator{
    background-color:#ebf1f5; }
  .bp3-control input:not(:disabled):active ~ .bp3-control-indicator{
    background:#d8e1e8;
    -webkit-box-shadow:inset 0 0 0 1px rgba(16, 22, 26, 0.2), inset 0 1px 2px rgba(16, 22, 26, 0.2);
            box-shadow:inset 0 0 0 1px rgba(16, 22, 26, 0.2), inset 0 1px 2px rgba(16, 22, 26, 0.2); }
  .bp3-control input:disabled ~ .bp3-control-indicator{
    background:rgba(206, 217, 224, 0.5);
    -webkit-box-shadow:none;
            box-shadow:none;
    cursor:not-allowed; }
  .bp3-control input:focus ~ .bp3-control-indicator{
    outline:rgba(19, 124, 189, 0.6) auto 2px;
    outline-offset:2px;
    -moz-outline-radius:6px; }
  .bp3-control.bp3-align-right .bp3-control-indicator{
    float:right;
    margin-left:10px;
    margin-top:1px; }
  .bp3-control.bp3-large{
    font-size:16px; }
    .bp3-control.bp3-large:not(.bp3-align-right){
      padding-left:30px; }
      .bp3-control.bp3-large:not(.bp3-align-right) .bp3-control-indicator{
        margin-left:-30px; }
    .bp3-control.bp3-large.bp3-align-right{
      padding-right:30px; }
      .bp3-control.bp3-large.bp3-align-right .bp3-control-indicator{
        margin-right:-30px; }
    .bp3-control.bp3-large .bp3-control-indicator{
      font-size:20px; }
    .bp3-control.bp3-large.bp3-align-right .bp3-control-indicator{
      margin-top:0; }
  .bp3-control.bp3-checkbox input:indeterminate ~ .bp3-control-indicator{
    background-color:#137cbd;
    background-image:-webkit-gradient(linear, left top, left bottom, from(rgba(255, 255, 255, 0.1)), to(rgba(255, 255, 255, 0)));
    background-image:linear-gradient(to bottom, rgba(255, 255, 255, 0.1), rgba(255, 255, 255, 0));
    -webkit-box-shadow:inset 0 0 0 1px rgba(16, 22, 26, 0.4), inset 0 -1px 0 rgba(16, 22, 26, 0.2);
            box-shadow:inset 0 0 0 1px rgba(16, 22, 26, 0.4), inset 0 -1px 0 rgba(16, 22, 26, 0.2);
    color:#ffffff; }
  .bp3-control.bp3-checkbox:hover input:indeterminate ~ .bp3-control-indicator{
    background-color:#106ba3;
    -webkit-box-shadow:inset 0 0 0 1px rgba(16, 22, 26, 0.4), inset 0 -1px 0 rgba(16, 22, 26, 0.2);
            box-shadow:inset 0 0 0 1px rgba(16, 22, 26, 0.4), inset 0 -1px 0 rgba(16, 22, 26, 0.2); }
  .bp3-control.bp3-checkbox input:not(:disabled):active:indeterminate ~ .bp3-control-indicator{
    background:#0e5a8a;
    -webkit-box-shadow:inset 0 0 0 1px rgba(16, 22, 26, 0.4), inset 0 1px 2px rgba(16, 22, 26, 0.2);
            box-shadow:inset 0 0 0 1px rgba(16, 22, 26, 0.4), inset 0 1px 2px rgba(16, 22, 26, 0.2); }
  .bp3-control.bp3-checkbox input:disabled:indeterminate ~ .bp3-control-indicator{
    background:rgba(19, 124, 189, 0.5);
    -webkit-box-shadow:none;
            box-shadow:none; }
  .bp3-dark .bp3-control.bp3-checkbox input:indeterminate ~ .bp3-control-indicator{
    -webkit-box-shadow:0 0 0 1px rgba(16, 22, 26, 0.4);
            box-shadow:0 0 0 1px rgba(16, 22, 26, 0.4); }
  .bp3-dark .bp3-control.bp3-checkbox:hover input:indeterminate ~ .bp3-control-indicator{
    background-color:#106ba3;
    -webkit-box-shadow:0 0 0 1px rgba(16, 22, 26, 0.4);
            box-shadow:0 0 0 1px rgba(16, 22, 26, 0.4); }
  .bp3-dark .bp3-control.bp3-checkbox input:not(:disabled):active:indeterminate ~ .bp3-control-indicator{
    background-color:#0e5a8a;
    -webkit-box-shadow:0 0 0 1px rgba(16, 22, 26, 0.4), inset 0 1px 2px rgba(16, 22, 26, 0.2);
            box-shadow:0 0 0 1px rgba(16, 22, 26, 0.4), inset 0 1px 2px rgba(16, 22, 26, 0.2); }
  .bp3-dark .bp3-control.bp3-checkbox input:disabled:indeterminate ~ .bp3-control-indicator{
    background:rgba(14, 90, 138, 0.5);
    -webkit-box-shadow:none;
            box-shadow:none; }
  .bp3-control.bp3-checkbox .bp3-control-indicator{
    border-radius:3px; }
  .bp3-control.bp3-checkbox input:checked ~ .bp3-control-indicator::before{
    background-image:url("data:image/svg+xml,%3csvg xmlns='http://www.w3.org/2000/svg' viewBox='0 0 16 16'%3e%3cpath fill-rule='evenodd' clip-rule='evenodd' d='M12 5c-.28 0-.53.11-.71.29L7 9.59l-2.29-2.3a1.003 1.003 0 00-1.42 1.42l3 3c.18.18.43.29.71.29s.53-.11.71-.29l5-5A1.003 1.003 0 0012 5z' fill='white'/%3e%3c/svg%3e"); }
  .bp3-control.bp3-checkbox input:indeterminate ~ .bp3-control-indicator::before{
    background-image:url("data:image/svg+xml,%3csvg xmlns='http://www.w3.org/2000/svg' viewBox='0 0 16 16'%3e%3cpath fill-rule='evenodd' clip-rule='evenodd' d='M11 7H5c-.55 0-1 .45-1 1s.45 1 1 1h6c.55 0 1-.45 1-1s-.45-1-1-1z' fill='white'/%3e%3c/svg%3e"); }
  .bp3-control.bp3-radio .bp3-control-indicator{
    border-radius:50%; }
  .bp3-control.bp3-radio input:checked ~ .bp3-control-indicator::before{
    background-image:radial-gradient(#ffffff, #ffffff 28%, transparent 32%); }
  .bp3-control.bp3-radio input:checked:disabled ~ .bp3-control-indicator::before{
    opacity:0.5; }
  .bp3-control.bp3-radio input:focus ~ .bp3-control-indicator{
    -moz-outline-radius:16px; }
  .bp3-control.bp3-switch input ~ .bp3-control-indicator{
    background:rgba(167, 182, 194, 0.5); }
  .bp3-control.bp3-switch:hover input ~ .bp3-control-indicator{
    background:rgba(115, 134, 148, 0.5); }
  .bp3-control.bp3-switch input:not(:disabled):active ~ .bp3-control-indicator{
    background:rgba(92, 112, 128, 0.5); }
  .bp3-control.bp3-switch input:disabled ~ .bp3-control-indicator{
    background:rgba(206, 217, 224, 0.5); }
    .bp3-control.bp3-switch input:disabled ~ .bp3-control-indicator::before{
      background:rgba(255, 255, 255, 0.8); }
  .bp3-control.bp3-switch input:checked ~ .bp3-control-indicator{
    background:#137cbd; }
  .bp3-control.bp3-switch:hover input:checked ~ .bp3-control-indicator{
    background:#106ba3; }
  .bp3-control.bp3-switch input:checked:not(:disabled):active ~ .bp3-control-indicator{
    background:#0e5a8a; }
  .bp3-control.bp3-switch input:checked:disabled ~ .bp3-control-indicator{
    background:rgba(19, 124, 189, 0.5); }
    .bp3-control.bp3-switch input:checked:disabled ~ .bp3-control-indicator::before{
      background:rgba(255, 255, 255, 0.8); }
  .bp3-control.bp3-switch:not(.bp3-align-right){
    padding-left:38px; }
    .bp3-control.bp3-switch:not(.bp3-align-right) .bp3-control-indicator{
      margin-left:-38px; }
  .bp3-control.bp3-switch.bp3-align-right{
    padding-right:38px; }
    .bp3-control.bp3-switch.bp3-align-right .bp3-control-indicator{
      margin-right:-38px; }
  .bp3-control.bp3-switch .bp3-control-indicator{
    border:none;
    border-radius:1.75em;
    -webkit-box-shadow:none !important;
            box-shadow:none !important;
    min-width:1.75em;
    -webkit-transition:background-color 100ms cubic-bezier(0.4, 1, 0.75, 0.9);
    transition:background-color 100ms cubic-bezier(0.4, 1, 0.75, 0.9);
    width:auto; }
    .bp3-control.bp3-switch .bp3-control-indicator::before{
      background:#ffffff;
      border-radius:50%;
      -webkit-box-shadow:0 0 0 1px rgba(16, 22, 26, 0.2), 0 1px 1px rgba(16, 22, 26, 0.2);
              box-shadow:0 0 0 1px rgba(16, 22, 26, 0.2), 0 1px 1px rgba(16, 22, 26, 0.2);
      height:calc(1em - 4px);
      left:0;
      margin:2px;
      position:absolute;
      -webkit-transition:left 100ms cubic-bezier(0.4, 1, 0.75, 0.9);
      transition:left 100ms cubic-bezier(0.4, 1, 0.75, 0.9);
      width:calc(1em - 4px); }
  .bp3-control.bp3-switch input:checked ~ .bp3-control-indicator::before{
    left:calc(100% - 1em); }
  .bp3-control.bp3-switch.bp3-large:not(.bp3-align-right){
    padding-left:45px; }
    .bp3-control.bp3-switch.bp3-large:not(.bp3-align-right) .bp3-control-indicator{
      margin-left:-45px; }
  .bp3-control.bp3-switch.bp3-large.bp3-align-right{
    padding-right:45px; }
    .bp3-control.bp3-switch.bp3-large.bp3-align-right .bp3-control-indicator{
      margin-right:-45px; }
  .bp3-dark .bp3-control.bp3-switch input ~ .bp3-control-indicator{
    background:rgba(16, 22, 26, 0.5); }
  .bp3-dark .bp3-control.bp3-switch:hover input ~ .bp3-control-indicator{
    background:rgba(16, 22, 26, 0.7); }
  .bp3-dark .bp3-control.bp3-switch input:not(:disabled):active ~ .bp3-control-indicator{
    background:rgba(16, 22, 26, 0.9); }
  .bp3-dark .bp3-control.bp3-switch input:disabled ~ .bp3-control-indicator{
    background:rgba(57, 75, 89, 0.5); }
    .bp3-dark .bp3-control.bp3-switch input:disabled ~ .bp3-control-indicator::before{
      background:rgba(16, 22, 26, 0.4); }
  .bp3-dark .bp3-control.bp3-switch input:checked ~ .bp3-control-indicator{
    background:#137cbd; }
  .bp3-dark .bp3-control.bp3-switch:hover input:checked ~ .bp3-control-indicator{
    background:#106ba3; }
  .bp3-dark .bp3-control.bp3-switch input:checked:not(:disabled):active ~ .bp3-control-indicator{
    background:#0e5a8a; }
  .bp3-dark .bp3-control.bp3-switch input:checked:disabled ~ .bp3-control-indicator{
    background:rgba(14, 90, 138, 0.5); }
    .bp3-dark .bp3-control.bp3-switch input:checked:disabled ~ .bp3-control-indicator::before{
      background:rgba(16, 22, 26, 0.4); }
  .bp3-dark .bp3-control.bp3-switch .bp3-control-indicator::before{
    background:#394b59;
    -webkit-box-shadow:0 0 0 1px rgba(16, 22, 26, 0.4);
            box-shadow:0 0 0 1px rgba(16, 22, 26, 0.4); }
  .bp3-dark .bp3-control.bp3-switch input:checked ~ .bp3-control-indicator::before{
    -webkit-box-shadow:inset 0 0 0 1px rgba(16, 22, 26, 0.4);
            box-shadow:inset 0 0 0 1px rgba(16, 22, 26, 0.4); }
  .bp3-control.bp3-switch .bp3-switch-inner-text{
    font-size:0.7em;
    text-align:center; }
  .bp3-control.bp3-switch .bp3-control-indicator-child:first-child{
    line-height:0;
    margin-left:0.5em;
    margin-right:1.2em;
    visibility:hidden; }
  .bp3-control.bp3-switch .bp3-control-indicator-child:last-child{
    line-height:1em;
    margin-left:1.2em;
    margin-right:0.5em;
    visibility:visible; }
  .bp3-control.bp3-switch input:checked ~ .bp3-control-indicator .bp3-control-indicator-child:first-child{
    line-height:1em;
    visibility:visible; }
  .bp3-control.bp3-switch input:checked ~ .bp3-control-indicator .bp3-control-indicator-child:last-child{
    line-height:0;
    visibility:hidden; }
  .bp3-dark .bp3-control{
    color:#f5f8fa; }
    .bp3-dark .bp3-control.bp3-disabled{
      color:rgba(167, 182, 194, 0.6); }
    .bp3-dark .bp3-control .bp3-control-indicator{
      background-color:#394b59;
      background-image:-webkit-gradient(linear, left top, left bottom, from(rgba(255, 255, 255, 0.05)), to(rgba(255, 255, 255, 0)));
      background-image:linear-gradient(to bottom, rgba(255, 255, 255, 0.05), rgba(255, 255, 255, 0));
      -webkit-box-shadow:0 0 0 1px rgba(16, 22, 26, 0.4);
              box-shadow:0 0 0 1px rgba(16, 22, 26, 0.4); }
    .bp3-dark .bp3-control:hover .bp3-control-indicator{
      background-color:#30404d; }
    .bp3-dark .bp3-control input:not(:disabled):active ~ .bp3-control-indicator{
      background:#202b33;
      -webkit-box-shadow:0 0 0 1px rgba(16, 22, 26, 0.6), inset 0 1px 2px rgba(16, 22, 26, 0.2);
              box-shadow:0 0 0 1px rgba(16, 22, 26, 0.6), inset 0 1px 2px rgba(16, 22, 26, 0.2); }
    .bp3-dark .bp3-control input:disabled ~ .bp3-control-indicator{
      background:rgba(57, 75, 89, 0.5);
      -webkit-box-shadow:none;
              box-shadow:none;
      cursor:not-allowed; }
    .bp3-dark .bp3-control.bp3-checkbox input:disabled:checked ~ .bp3-control-indicator, .bp3-dark .bp3-control.bp3-checkbox input:disabled:indeterminate ~ .bp3-control-indicator{
      color:rgba(167, 182, 194, 0.6); }
.bp3-file-input{
  cursor:pointer;
  display:inline-block;
  height:30px;
  position:relative; }
  .bp3-file-input input{
    margin:0;
    min-width:200px;
    opacity:0; }
    .bp3-file-input input:disabled + .bp3-file-upload-input,
    .bp3-file-input input.bp3-disabled + .bp3-file-upload-input{
      background:rgba(206, 217, 224, 0.5);
      -webkit-box-shadow:none;
              box-shadow:none;
      color:rgba(92, 112, 128, 0.6);
      cursor:not-allowed;
      resize:none; }
      .bp3-file-input input:disabled + .bp3-file-upload-input::after,
      .bp3-file-input input.bp3-disabled + .bp3-file-upload-input::after{
        background-color:rgba(206, 217, 224, 0.5);
        background-image:none;
        -webkit-box-shadow:none;
                box-shadow:none;
        color:rgba(92, 112, 128, 0.6);
        cursor:not-allowed;
        outline:none; }
        .bp3-file-input input:disabled + .bp3-file-upload-input::after.bp3-active, .bp3-file-input input:disabled + .bp3-file-upload-input::after.bp3-active:hover,
        .bp3-file-input input.bp3-disabled + .bp3-file-upload-input::after.bp3-active,
        .bp3-file-input input.bp3-disabled + .bp3-file-upload-input::after.bp3-active:hover{
          background:rgba(206, 217, 224, 0.7); }
      .bp3-dark .bp3-file-input input:disabled + .bp3-file-upload-input, .bp3-dark
      .bp3-file-input input.bp3-disabled + .bp3-file-upload-input{
        background:rgba(57, 75, 89, 0.5);
        -webkit-box-shadow:none;
                box-shadow:none;
        color:rgba(167, 182, 194, 0.6); }
        .bp3-dark .bp3-file-input input:disabled + .bp3-file-upload-input::after, .bp3-dark
        .bp3-file-input input.bp3-disabled + .bp3-file-upload-input::after{
          background-color:rgba(57, 75, 89, 0.5);
          background-image:none;
          -webkit-box-shadow:none;
                  box-shadow:none;
          color:rgba(167, 182, 194, 0.6); }
          .bp3-dark .bp3-file-input input:disabled + .bp3-file-upload-input::after.bp3-active, .bp3-dark
          .bp3-file-input input.bp3-disabled + .bp3-file-upload-input::after.bp3-active{
            background:rgba(57, 75, 89, 0.7); }
  .bp3-file-input.bp3-file-input-has-selection .bp3-file-upload-input{
    color:#182026; }
  .bp3-dark .bp3-file-input.bp3-file-input-has-selection .bp3-file-upload-input{
    color:#f5f8fa; }
  .bp3-file-input.bp3-fill{
    width:100%; }
  .bp3-file-input.bp3-large,
  .bp3-large .bp3-file-input{
    height:40px; }
  .bp3-file-input .bp3-file-upload-input-custom-text::after{
    content:attr(bp3-button-text); }

.bp3-file-upload-input{
  -webkit-appearance:none;
     -moz-appearance:none;
          appearance:none;
  background:#ffffff;
  border:none;
  border-radius:3px;
  -webkit-box-shadow:0 0 0 0 rgba(19, 124, 189, 0), 0 0 0 0 rgba(19, 124, 189, 0), inset 0 0 0 1px rgba(16, 22, 26, 0.15), inset 0 1px 1px rgba(16, 22, 26, 0.2);
          box-shadow:0 0 0 0 rgba(19, 124, 189, 0), 0 0 0 0 rgba(19, 124, 189, 0), inset 0 0 0 1px rgba(16, 22, 26, 0.15), inset 0 1px 1px rgba(16, 22, 26, 0.2);
  color:#182026;
  font-size:14px;
  font-weight:400;
  height:30px;
  line-height:30px;
  outline:none;
  padding:0 10px;
  -webkit-transition:-webkit-box-shadow 100ms cubic-bezier(0.4, 1, 0.75, 0.9);
  transition:-webkit-box-shadow 100ms cubic-bezier(0.4, 1, 0.75, 0.9);
  transition:box-shadow 100ms cubic-bezier(0.4, 1, 0.75, 0.9);
  transition:box-shadow 100ms cubic-bezier(0.4, 1, 0.75, 0.9), -webkit-box-shadow 100ms cubic-bezier(0.4, 1, 0.75, 0.9);
  vertical-align:middle;
  overflow:hidden;
  text-overflow:ellipsis;
  white-space:nowrap;
  word-wrap:normal;
  color:rgba(92, 112, 128, 0.6);
  left:0;
  padding-right:80px;
  position:absolute;
  right:0;
  top:0;
  -webkit-user-select:none;
     -moz-user-select:none;
      -ms-user-select:none;
          user-select:none; }
  .bp3-file-upload-input::-webkit-input-placeholder{
    color:rgba(92, 112, 128, 0.6);
    opacity:1; }
  .bp3-file-upload-input::-moz-placeholder{
    color:rgba(92, 112, 128, 0.6);
    opacity:1; }
  .bp3-file-upload-input:-ms-input-placeholder{
    color:rgba(92, 112, 128, 0.6);
    opacity:1; }
  .bp3-file-upload-input::-ms-input-placeholder{
    color:rgba(92, 112, 128, 0.6);
    opacity:1; }
  .bp3-file-upload-input::placeholder{
    color:rgba(92, 112, 128, 0.6);
    opacity:1; }
  .bp3-file-upload-input:focus, .bp3-file-upload-input.bp3-active{
    -webkit-box-shadow:0 0 0 1px #137cbd, 0 0 0 3px rgba(19, 124, 189, 0.3), inset 0 1px 1px rgba(16, 22, 26, 0.2);
            box-shadow:0 0 0 1px #137cbd, 0 0 0 3px rgba(19, 124, 189, 0.3), inset 0 1px 1px rgba(16, 22, 26, 0.2); }
  .bp3-file-upload-input[type="search"], .bp3-file-upload-input.bp3-round{
    border-radius:30px;
    -webkit-box-sizing:border-box;
            box-sizing:border-box;
    padding-left:10px; }
  .bp3-file-upload-input[readonly]{
    -webkit-box-shadow:inset 0 0 0 1px rgba(16, 22, 26, 0.15);
            box-shadow:inset 0 0 0 1px rgba(16, 22, 26, 0.15); }
  .bp3-file-upload-input:disabled, .bp3-file-upload-input.bp3-disabled{
    background:rgba(206, 217, 224, 0.5);
    -webkit-box-shadow:none;
            box-shadow:none;
    color:rgba(92, 112, 128, 0.6);
    cursor:not-allowed;
    resize:none; }
  .bp3-file-upload-input::after{
    background-color:#f5f8fa;
    background-image:-webkit-gradient(linear, left top, left bottom, from(rgba(255, 255, 255, 0.8)), to(rgba(255, 255, 255, 0)));
    background-image:linear-gradient(to bottom, rgba(255, 255, 255, 0.8), rgba(255, 255, 255, 0));
    -webkit-box-shadow:inset 0 0 0 1px rgba(16, 22, 26, 0.2), inset 0 -1px 0 rgba(16, 22, 26, 0.1);
            box-shadow:inset 0 0 0 1px rgba(16, 22, 26, 0.2), inset 0 -1px 0 rgba(16, 22, 26, 0.1);
    color:#182026;
    min-height:24px;
    min-width:24px;
    overflow:hidden;
    text-overflow:ellipsis;
    white-space:nowrap;
    word-wrap:normal;
    border-radius:3px;
    content:"Browse";
    line-height:24px;
    margin:3px;
    position:absolute;
    right:0;
    text-align:center;
    top:0;
    width:70px; }
    .bp3-file-upload-input::after:hover{
      background-clip:padding-box;
      background-color:#ebf1f5;
      -webkit-box-shadow:inset 0 0 0 1px rgba(16, 22, 26, 0.2), inset 0 -1px 0 rgba(16, 22, 26, 0.1);
              box-shadow:inset 0 0 0 1px rgba(16, 22, 26, 0.2), inset 0 -1px 0 rgba(16, 22, 26, 0.1); }
    .bp3-file-upload-input::after:active, .bp3-file-upload-input::after.bp3-active{
      background-color:#d8e1e8;
      background-image:none;
      -webkit-box-shadow:inset 0 0 0 1px rgba(16, 22, 26, 0.2), inset 0 1px 2px rgba(16, 22, 26, 0.2);
              box-shadow:inset 0 0 0 1px rgba(16, 22, 26, 0.2), inset 0 1px 2px rgba(16, 22, 26, 0.2); }
    .bp3-file-upload-input::after:disabled, .bp3-file-upload-input::after.bp3-disabled{
      background-color:rgba(206, 217, 224, 0.5);
      background-image:none;
      -webkit-box-shadow:none;
              box-shadow:none;
      color:rgba(92, 112, 128, 0.6);
      cursor:not-allowed;
      outline:none; }
      .bp3-file-upload-input::after:disabled.bp3-active, .bp3-file-upload-input::after:disabled.bp3-active:hover, .bp3-file-upload-input::after.bp3-disabled.bp3-active, .bp3-file-upload-input::after.bp3-disabled.bp3-active:hover{
        background:rgba(206, 217, 224, 0.7); }
  .bp3-file-upload-input:hover::after{
    background-clip:padding-box;
    background-color:#ebf1f5;
    -webkit-box-shadow:inset 0 0 0 1px rgba(16, 22, 26, 0.2), inset 0 -1px 0 rgba(16, 22, 26, 0.1);
            box-shadow:inset 0 0 0 1px rgba(16, 22, 26, 0.2), inset 0 -1px 0 rgba(16, 22, 26, 0.1); }
  .bp3-file-upload-input:active::after{
    background-color:#d8e1e8;
    background-image:none;
    -webkit-box-shadow:inset 0 0 0 1px rgba(16, 22, 26, 0.2), inset 0 1px 2px rgba(16, 22, 26, 0.2);
            box-shadow:inset 0 0 0 1px rgba(16, 22, 26, 0.2), inset 0 1px 2px rgba(16, 22, 26, 0.2); }
  .bp3-large .bp3-file-upload-input{
    font-size:16px;
    height:40px;
    line-height:40px;
    padding-right:95px; }
    .bp3-large .bp3-file-upload-input[type="search"], .bp3-large .bp3-file-upload-input.bp3-round{
      padding:0 15px; }
    .bp3-large .bp3-file-upload-input::after{
      min-height:30px;
      min-width:30px;
      line-height:30px;
      margin:5px;
      width:85px; }
  .bp3-dark .bp3-file-upload-input{
    background:rgba(16, 22, 26, 0.3);
    -webkit-box-shadow:0 0 0 0 rgba(19, 124, 189, 0), 0 0 0 0 rgba(19, 124, 189, 0), 0 0 0 0 rgba(19, 124, 189, 0), inset 0 0 0 1px rgba(16, 22, 26, 0.3), inset 0 1px 1px rgba(16, 22, 26, 0.4);
            box-shadow:0 0 0 0 rgba(19, 124, 189, 0), 0 0 0 0 rgba(19, 124, 189, 0), 0 0 0 0 rgba(19, 124, 189, 0), inset 0 0 0 1px rgba(16, 22, 26, 0.3), inset 0 1px 1px rgba(16, 22, 26, 0.4);
    color:#f5f8fa;
    color:rgba(167, 182, 194, 0.6); }
    .bp3-dark .bp3-file-upload-input::-webkit-input-placeholder{
      color:rgba(167, 182, 194, 0.6); }
    .bp3-dark .bp3-file-upload-input::-moz-placeholder{
      color:rgba(167, 182, 194, 0.6); }
    .bp3-dark .bp3-file-upload-input:-ms-input-placeholder{
      color:rgba(167, 182, 194, 0.6); }
    .bp3-dark .bp3-file-upload-input::-ms-input-placeholder{
      color:rgba(167, 182, 194, 0.6); }
    .bp3-dark .bp3-file-upload-input::placeholder{
      color:rgba(167, 182, 194, 0.6); }
    .bp3-dark .bp3-file-upload-input:focus{
      -webkit-box-shadow:0 0 0 1px #137cbd, 0 0 0 1px #137cbd, 0 0 0 3px rgba(19, 124, 189, 0.3), inset 0 0 0 1px rgba(16, 22, 26, 0.3), inset 0 1px 1px rgba(16, 22, 26, 0.4);
              box-shadow:0 0 0 1px #137cbd, 0 0 0 1px #137cbd, 0 0 0 3px rgba(19, 124, 189, 0.3), inset 0 0 0 1px rgba(16, 22, 26, 0.3), inset 0 1px 1px rgba(16, 22, 26, 0.4); }
    .bp3-dark .bp3-file-upload-input[readonly]{
      -webkit-box-shadow:inset 0 0 0 1px rgba(16, 22, 26, 0.4);
              box-shadow:inset 0 0 0 1px rgba(16, 22, 26, 0.4); }
    .bp3-dark .bp3-file-upload-input:disabled, .bp3-dark .bp3-file-upload-input.bp3-disabled{
      background:rgba(57, 75, 89, 0.5);
      -webkit-box-shadow:none;
              box-shadow:none;
      color:rgba(167, 182, 194, 0.6); }
    .bp3-dark .bp3-file-upload-input::after{
      background-color:#394b59;
      background-image:-webkit-gradient(linear, left top, left bottom, from(rgba(255, 255, 255, 0.05)), to(rgba(255, 255, 255, 0)));
      background-image:linear-gradient(to bottom, rgba(255, 255, 255, 0.05), rgba(255, 255, 255, 0));
      -webkit-box-shadow:0 0 0 1px rgba(16, 22, 26, 0.4);
              box-shadow:0 0 0 1px rgba(16, 22, 26, 0.4);
      color:#f5f8fa; }
      .bp3-dark .bp3-file-upload-input::after:hover, .bp3-dark .bp3-file-upload-input::after:active, .bp3-dark .bp3-file-upload-input::after.bp3-active{
        color:#f5f8fa; }
      .bp3-dark .bp3-file-upload-input::after:hover{
        background-color:#30404d;
        -webkit-box-shadow:0 0 0 1px rgba(16, 22, 26, 0.4);
                box-shadow:0 0 0 1px rgba(16, 22, 26, 0.4); }
      .bp3-dark .bp3-file-upload-input::after:active, .bp3-dark .bp3-file-upload-input::after.bp3-active{
        background-color:#202b33;
        background-image:none;
        -webkit-box-shadow:0 0 0 1px rgba(16, 22, 26, 0.6), inset 0 1px 2px rgba(16, 22, 26, 0.2);
                box-shadow:0 0 0 1px rgba(16, 22, 26, 0.6), inset 0 1px 2px rgba(16, 22, 26, 0.2); }
      .bp3-dark .bp3-file-upload-input::after:disabled, .bp3-dark .bp3-file-upload-input::after.bp3-disabled{
        background-color:rgba(57, 75, 89, 0.5);
        background-image:none;
        -webkit-box-shadow:none;
                box-shadow:none;
        color:rgba(167, 182, 194, 0.6); }
        .bp3-dark .bp3-file-upload-input::after:disabled.bp3-active, .bp3-dark .bp3-file-upload-input::after.bp3-disabled.bp3-active{
          background:rgba(57, 75, 89, 0.7); }
      .bp3-dark .bp3-file-upload-input::after .bp3-button-spinner .bp3-spinner-head{
        background:rgba(16, 22, 26, 0.5);
        stroke:#8a9ba8; }
    .bp3-dark .bp3-file-upload-input:hover::after{
      background-color:#30404d;
      -webkit-box-shadow:0 0 0 1px rgba(16, 22, 26, 0.4);
              box-shadow:0 0 0 1px rgba(16, 22, 26, 0.4); }
    .bp3-dark .bp3-file-upload-input:active::after{
      background-color:#202b33;
      background-image:none;
      -webkit-box-shadow:0 0 0 1px rgba(16, 22, 26, 0.6), inset 0 1px 2px rgba(16, 22, 26, 0.2);
              box-shadow:0 0 0 1px rgba(16, 22, 26, 0.6), inset 0 1px 2px rgba(16, 22, 26, 0.2); }
.bp3-file-upload-input::after{
  -webkit-box-shadow:inset 0 0 0 1px rgba(16, 22, 26, 0.2), inset 0 -1px 0 rgba(16, 22, 26, 0.1);
          box-shadow:inset 0 0 0 1px rgba(16, 22, 26, 0.2), inset 0 -1px 0 rgba(16, 22, 26, 0.1); }
.bp3-form-group{
  display:-webkit-box;
  display:-ms-flexbox;
  display:flex;
  -webkit-box-orient:vertical;
  -webkit-box-direction:normal;
      -ms-flex-direction:column;
          flex-direction:column;
  margin:0 0 15px; }
  .bp3-form-group label.bp3-label{
    margin-bottom:5px; }
  .bp3-form-group .bp3-control{
    margin-top:7px; }
  .bp3-form-group .bp3-form-helper-text{
    color:#5c7080;
    font-size:12px;
    margin-top:5px; }
  .bp3-form-group.bp3-intent-primary .bp3-form-helper-text{
    color:#106ba3; }
  .bp3-form-group.bp3-intent-success .bp3-form-helper-text{
    color:#0d8050; }
  .bp3-form-group.bp3-intent-warning .bp3-form-helper-text{
    color:#bf7326; }
  .bp3-form-group.bp3-intent-danger .bp3-form-helper-text{
    color:#c23030; }
  .bp3-form-group.bp3-inline{
    -webkit-box-align:start;
        -ms-flex-align:start;
            align-items:flex-start;
    -webkit-box-orient:horizontal;
    -webkit-box-direction:normal;
        -ms-flex-direction:row;
            flex-direction:row; }
    .bp3-form-group.bp3-inline.bp3-large label.bp3-label{
      line-height:40px;
      margin:0 10px 0 0; }
    .bp3-form-group.bp3-inline label.bp3-label{
      line-height:30px;
      margin:0 10px 0 0; }
  .bp3-form-group.bp3-disabled .bp3-label,
  .bp3-form-group.bp3-disabled .bp3-text-muted,
  .bp3-form-group.bp3-disabled .bp3-form-helper-text{
    color:rgba(92, 112, 128, 0.6) !important; }
  .bp3-dark .bp3-form-group.bp3-intent-primary .bp3-form-helper-text{
    color:#48aff0; }
  .bp3-dark .bp3-form-group.bp3-intent-success .bp3-form-helper-text{
    color:#3dcc91; }
  .bp3-dark .bp3-form-group.bp3-intent-warning .bp3-form-helper-text{
    color:#ffb366; }
  .bp3-dark .bp3-form-group.bp3-intent-danger .bp3-form-helper-text{
    color:#ff7373; }
  .bp3-dark .bp3-form-group .bp3-form-helper-text{
    color:#a7b6c2; }
  .bp3-dark .bp3-form-group.bp3-disabled .bp3-label,
  .bp3-dark .bp3-form-group.bp3-disabled .bp3-text-muted,
  .bp3-dark .bp3-form-group.bp3-disabled .bp3-form-helper-text{
    color:rgba(167, 182, 194, 0.6) !important; }
.bp3-input-group{
  display:block;
  position:relative; }
  .bp3-input-group .bp3-input{
    position:relative;
    width:100%; }
    .bp3-input-group .bp3-input:not(:first-child){
      padding-left:30px; }
    .bp3-input-group .bp3-input:not(:last-child){
      padding-right:30px; }
  .bp3-input-group .bp3-input-action,
  .bp3-input-group > .bp3-input-left-container,
  .bp3-input-group > .bp3-button,
  .bp3-input-group > .bp3-icon{
    position:absolute;
    top:0; }
    .bp3-input-group .bp3-input-action:first-child,
    .bp3-input-group > .bp3-input-left-container:first-child,
    .bp3-input-group > .bp3-button:first-child,
    .bp3-input-group > .bp3-icon:first-child{
      left:0; }
    .bp3-input-group .bp3-input-action:last-child,
    .bp3-input-group > .bp3-input-left-container:last-child,
    .bp3-input-group > .bp3-button:last-child,
    .bp3-input-group > .bp3-icon:last-child{
      right:0; }
  .bp3-input-group .bp3-button{
    min-height:24px;
    min-width:24px;
    margin:3px;
    padding:0 7px; }
    .bp3-input-group .bp3-button:empty{
      padding:0; }
  .bp3-input-group > .bp3-input-left-container,
  .bp3-input-group > .bp3-icon{
    z-index:1; }
  .bp3-input-group > .bp3-input-left-container > .bp3-icon,
  .bp3-input-group > .bp3-icon{
    color:#5c7080; }
    .bp3-input-group > .bp3-input-left-container > .bp3-icon:empty,
    .bp3-input-group > .bp3-icon:empty{
      font-family:"Icons16", sans-serif;
      font-size:16px;
      font-style:normal;
      font-weight:400;
      line-height:1;
      -moz-osx-font-smoothing:grayscale;
      -webkit-font-smoothing:antialiased; }
  .bp3-input-group > .bp3-input-left-container > .bp3-icon,
  .bp3-input-group > .bp3-icon,
  .bp3-input-group .bp3-input-action > .bp3-spinner{
    margin:7px; }
  .bp3-input-group .bp3-tag{
    margin:5px; }
  .bp3-input-group .bp3-input:not(:focus) + .bp3-button.bp3-minimal:not(:hover):not(:focus),
  .bp3-input-group .bp3-input:not(:focus) + .bp3-input-action .bp3-button.bp3-minimal:not(:hover):not(:focus){
    color:#5c7080; }
    .bp3-dark .bp3-input-group .bp3-input:not(:focus) + .bp3-button.bp3-minimal:not(:hover):not(:focus), .bp3-dark
    .bp3-input-group .bp3-input:not(:focus) + .bp3-input-action .bp3-button.bp3-minimal:not(:hover):not(:focus){
      color:#a7b6c2; }
    .bp3-input-group .bp3-input:not(:focus) + .bp3-button.bp3-minimal:not(:hover):not(:focus) .bp3-icon, .bp3-input-group .bp3-input:not(:focus) + .bp3-button.bp3-minimal:not(:hover):not(:focus) .bp3-icon-standard, .bp3-input-group .bp3-input:not(:focus) + .bp3-button.bp3-minimal:not(:hover):not(:focus) .bp3-icon-large,
    .bp3-input-group .bp3-input:not(:focus) + .bp3-input-action .bp3-button.bp3-minimal:not(:hover):not(:focus) .bp3-icon,
    .bp3-input-group .bp3-input:not(:focus) + .bp3-input-action .bp3-button.bp3-minimal:not(:hover):not(:focus) .bp3-icon-standard,
    .bp3-input-group .bp3-input:not(:focus) + .bp3-input-action .bp3-button.bp3-minimal:not(:hover):not(:focus) .bp3-icon-large{
      color:#5c7080; }
  .bp3-input-group .bp3-input:not(:focus) + .bp3-button.bp3-minimal:disabled,
  .bp3-input-group .bp3-input:not(:focus) + .bp3-input-action .bp3-button.bp3-minimal:disabled{
    color:rgba(92, 112, 128, 0.6) !important; }
    .bp3-input-group .bp3-input:not(:focus) + .bp3-button.bp3-minimal:disabled .bp3-icon, .bp3-input-group .bp3-input:not(:focus) + .bp3-button.bp3-minimal:disabled .bp3-icon-standard, .bp3-input-group .bp3-input:not(:focus) + .bp3-button.bp3-minimal:disabled .bp3-icon-large,
    .bp3-input-group .bp3-input:not(:focus) + .bp3-input-action .bp3-button.bp3-minimal:disabled .bp3-icon,
    .bp3-input-group .bp3-input:not(:focus) + .bp3-input-action .bp3-button.bp3-minimal:disabled .bp3-icon-standard,
    .bp3-input-group .bp3-input:not(:focus) + .bp3-input-action .bp3-button.bp3-minimal:disabled .bp3-icon-large{
      color:rgba(92, 112, 128, 0.6) !important; }
  .bp3-input-group.bp3-disabled{
    cursor:not-allowed; }
    .bp3-input-group.bp3-disabled .bp3-icon{
      color:rgba(92, 112, 128, 0.6); }
  .bp3-input-group.bp3-large .bp3-button{
    min-height:30px;
    min-width:30px;
    margin:5px; }
  .bp3-input-group.bp3-large > .bp3-input-left-container > .bp3-icon,
  .bp3-input-group.bp3-large > .bp3-icon,
  .bp3-input-group.bp3-large .bp3-input-action > .bp3-spinner{
    margin:12px; }
  .bp3-input-group.bp3-large .bp3-input{
    font-size:16px;
    height:40px;
    line-height:40px; }
    .bp3-input-group.bp3-large .bp3-input[type="search"], .bp3-input-group.bp3-large .bp3-input.bp3-round{
      padding:0 15px; }
    .bp3-input-group.bp3-large .bp3-input:not(:first-child){
      padding-left:40px; }
    .bp3-input-group.bp3-large .bp3-input:not(:last-child){
      padding-right:40px; }
  .bp3-input-group.bp3-small .bp3-button{
    min-height:20px;
    min-width:20px;
    margin:2px; }
  .bp3-input-group.bp3-small .bp3-tag{
    min-height:20px;
    min-width:20px;
    margin:2px; }
  .bp3-input-group.bp3-small > .bp3-input-left-container > .bp3-icon,
  .bp3-input-group.bp3-small > .bp3-icon,
  .bp3-input-group.bp3-small .bp3-input-action > .bp3-spinner{
    margin:4px; }
  .bp3-input-group.bp3-small .bp3-input{
    font-size:12px;
    height:24px;
    line-height:24px;
    padding-left:8px;
    padding-right:8px; }
    .bp3-input-group.bp3-small .bp3-input[type="search"], .bp3-input-group.bp3-small .bp3-input.bp3-round{
      padding:0 12px; }
    .bp3-input-group.bp3-small .bp3-input:not(:first-child){
      padding-left:24px; }
    .bp3-input-group.bp3-small .bp3-input:not(:last-child){
      padding-right:24px; }
  .bp3-input-group.bp3-fill{
    -webkit-box-flex:1;
        -ms-flex:1 1 auto;
            flex:1 1 auto;
    width:100%; }
  .bp3-input-group.bp3-round .bp3-button,
  .bp3-input-group.bp3-round .bp3-input,
  .bp3-input-group.bp3-round .bp3-tag{
    border-radius:30px; }
  .bp3-dark .bp3-input-group .bp3-icon{
    color:#a7b6c2; }
  .bp3-dark .bp3-input-group.bp3-disabled .bp3-icon{
    color:rgba(167, 182, 194, 0.6); }
  .bp3-input-group.bp3-intent-primary .bp3-input{
    -webkit-box-shadow:0 0 0 0 rgba(19, 124, 189, 0), 0 0 0 0 rgba(19, 124, 189, 0), inset 0 0 0 1px #137cbd, inset 0 0 0 1px rgba(16, 22, 26, 0.15), inset 0 1px 1px rgba(16, 22, 26, 0.2);
            box-shadow:0 0 0 0 rgba(19, 124, 189, 0), 0 0 0 0 rgba(19, 124, 189, 0), inset 0 0 0 1px #137cbd, inset 0 0 0 1px rgba(16, 22, 26, 0.15), inset 0 1px 1px rgba(16, 22, 26, 0.2); }
    .bp3-input-group.bp3-intent-primary .bp3-input:focus{
      -webkit-box-shadow:0 0 0 1px #137cbd, 0 0 0 3px rgba(19, 124, 189, 0.3), inset 0 1px 1px rgba(16, 22, 26, 0.2);
              box-shadow:0 0 0 1px #137cbd, 0 0 0 3px rgba(19, 124, 189, 0.3), inset 0 1px 1px rgba(16, 22, 26, 0.2); }
    .bp3-input-group.bp3-intent-primary .bp3-input[readonly]{
      -webkit-box-shadow:inset 0 0 0 1px #137cbd;
              box-shadow:inset 0 0 0 1px #137cbd; }
    .bp3-input-group.bp3-intent-primary .bp3-input:disabled, .bp3-input-group.bp3-intent-primary .bp3-input.bp3-disabled{
      -webkit-box-shadow:none;
              box-shadow:none; }
  .bp3-input-group.bp3-intent-primary > .bp3-icon{
    color:#106ba3; }
    .bp3-dark .bp3-input-group.bp3-intent-primary > .bp3-icon{
      color:#48aff0; }
  .bp3-input-group.bp3-intent-success .bp3-input{
    -webkit-box-shadow:0 0 0 0 rgba(15, 153, 96, 0), 0 0 0 0 rgba(15, 153, 96, 0), inset 0 0 0 1px #0f9960, inset 0 0 0 1px rgba(16, 22, 26, 0.15), inset 0 1px 1px rgba(16, 22, 26, 0.2);
            box-shadow:0 0 0 0 rgba(15, 153, 96, 0), 0 0 0 0 rgba(15, 153, 96, 0), inset 0 0 0 1px #0f9960, inset 0 0 0 1px rgba(16, 22, 26, 0.15), inset 0 1px 1px rgba(16, 22, 26, 0.2); }
    .bp3-input-group.bp3-intent-success .bp3-input:focus{
      -webkit-box-shadow:0 0 0 1px #0f9960, 0 0 0 3px rgba(15, 153, 96, 0.3), inset 0 1px 1px rgba(16, 22, 26, 0.2);
              box-shadow:0 0 0 1px #0f9960, 0 0 0 3px rgba(15, 153, 96, 0.3), inset 0 1px 1px rgba(16, 22, 26, 0.2); }
    .bp3-input-group.bp3-intent-success .bp3-input[readonly]{
      -webkit-box-shadow:inset 0 0 0 1px #0f9960;
              box-shadow:inset 0 0 0 1px #0f9960; }
    .bp3-input-group.bp3-intent-success .bp3-input:disabled, .bp3-input-group.bp3-intent-success .bp3-input.bp3-disabled{
      -webkit-box-shadow:none;
              box-shadow:none; }
  .bp3-input-group.bp3-intent-success > .bp3-icon{
    color:#0d8050; }
    .bp3-dark .bp3-input-group.bp3-intent-success > .bp3-icon{
      color:#3dcc91; }
  .bp3-input-group.bp3-intent-warning .bp3-input{
    -webkit-box-shadow:0 0 0 0 rgba(217, 130, 43, 0), 0 0 0 0 rgba(217, 130, 43, 0), inset 0 0 0 1px #d9822b, inset 0 0 0 1px rgba(16, 22, 26, 0.15), inset 0 1px 1px rgba(16, 22, 26, 0.2);
            box-shadow:0 0 0 0 rgba(217, 130, 43, 0), 0 0 0 0 rgba(217, 130, 43, 0), inset 0 0 0 1px #d9822b, inset 0 0 0 1px rgba(16, 22, 26, 0.15), inset 0 1px 1px rgba(16, 22, 26, 0.2); }
    .bp3-input-group.bp3-intent-warning .bp3-input:focus{
      -webkit-box-shadow:0 0 0 1px #d9822b, 0 0 0 3px rgba(217, 130, 43, 0.3), inset 0 1px 1px rgba(16, 22, 26, 0.2);
              box-shadow:0 0 0 1px #d9822b, 0 0 0 3px rgba(217, 130, 43, 0.3), inset 0 1px 1px rgba(16, 22, 26, 0.2); }
    .bp3-input-group.bp3-intent-warning .bp3-input[readonly]{
      -webkit-box-shadow:inset 0 0 0 1px #d9822b;
              box-shadow:inset 0 0 0 1px #d9822b; }
    .bp3-input-group.bp3-intent-warning .bp3-input:disabled, .bp3-input-group.bp3-intent-warning .bp3-input.bp3-disabled{
      -webkit-box-shadow:none;
              box-shadow:none; }
  .bp3-input-group.bp3-intent-warning > .bp3-icon{
    color:#bf7326; }
    .bp3-dark .bp3-input-group.bp3-intent-warning > .bp3-icon{
      color:#ffb366; }
  .bp3-input-group.bp3-intent-danger .bp3-input{
    -webkit-box-shadow:0 0 0 0 rgba(219, 55, 55, 0), 0 0 0 0 rgba(219, 55, 55, 0), inset 0 0 0 1px #db3737, inset 0 0 0 1px rgba(16, 22, 26, 0.15), inset 0 1px 1px rgba(16, 22, 26, 0.2);
            box-shadow:0 0 0 0 rgba(219, 55, 55, 0), 0 0 0 0 rgba(219, 55, 55, 0), inset 0 0 0 1px #db3737, inset 0 0 0 1px rgba(16, 22, 26, 0.15), inset 0 1px 1px rgba(16, 22, 26, 0.2); }
    .bp3-input-group.bp3-intent-danger .bp3-input:focus{
      -webkit-box-shadow:0 0 0 1px #db3737, 0 0 0 3px rgba(219, 55, 55, 0.3), inset 0 1px 1px rgba(16, 22, 26, 0.2);
              box-shadow:0 0 0 1px #db3737, 0 0 0 3px rgba(219, 55, 55, 0.3), inset 0 1px 1px rgba(16, 22, 26, 0.2); }
    .bp3-input-group.bp3-intent-danger .bp3-input[readonly]{
      -webkit-box-shadow:inset 0 0 0 1px #db3737;
              box-shadow:inset 0 0 0 1px #db3737; }
    .bp3-input-group.bp3-intent-danger .bp3-input:disabled, .bp3-input-group.bp3-intent-danger .bp3-input.bp3-disabled{
      -webkit-box-shadow:none;
              box-shadow:none; }
  .bp3-input-group.bp3-intent-danger > .bp3-icon{
    color:#c23030; }
    .bp3-dark .bp3-input-group.bp3-intent-danger > .bp3-icon{
      color:#ff7373; }
.bp3-input{
  -webkit-appearance:none;
     -moz-appearance:none;
          appearance:none;
  background:#ffffff;
  border:none;
  border-radius:3px;
  -webkit-box-shadow:0 0 0 0 rgba(19, 124, 189, 0), 0 0 0 0 rgba(19, 124, 189, 0), inset 0 0 0 1px rgba(16, 22, 26, 0.15), inset 0 1px 1px rgba(16, 22, 26, 0.2);
          box-shadow:0 0 0 0 rgba(19, 124, 189, 0), 0 0 0 0 rgba(19, 124, 189, 0), inset 0 0 0 1px rgba(16, 22, 26, 0.15), inset 0 1px 1px rgba(16, 22, 26, 0.2);
  color:#182026;
  font-size:14px;
  font-weight:400;
  height:30px;
  line-height:30px;
  outline:none;
  padding:0 10px;
  -webkit-transition:-webkit-box-shadow 100ms cubic-bezier(0.4, 1, 0.75, 0.9);
  transition:-webkit-box-shadow 100ms cubic-bezier(0.4, 1, 0.75, 0.9);
  transition:box-shadow 100ms cubic-bezier(0.4, 1, 0.75, 0.9);
  transition:box-shadow 100ms cubic-bezier(0.4, 1, 0.75, 0.9), -webkit-box-shadow 100ms cubic-bezier(0.4, 1, 0.75, 0.9);
  vertical-align:middle; }
  .bp3-input::-webkit-input-placeholder{
    color:rgba(92, 112, 128, 0.6);
    opacity:1; }
  .bp3-input::-moz-placeholder{
    color:rgba(92, 112, 128, 0.6);
    opacity:1; }
  .bp3-input:-ms-input-placeholder{
    color:rgba(92, 112, 128, 0.6);
    opacity:1; }
  .bp3-input::-ms-input-placeholder{
    color:rgba(92, 112, 128, 0.6);
    opacity:1; }
  .bp3-input::placeholder{
    color:rgba(92, 112, 128, 0.6);
    opacity:1; }
  .bp3-input:focus, .bp3-input.bp3-active{
    -webkit-box-shadow:0 0 0 1px #137cbd, 0 0 0 3px rgba(19, 124, 189, 0.3), inset 0 1px 1px rgba(16, 22, 26, 0.2);
            box-shadow:0 0 0 1px #137cbd, 0 0 0 3px rgba(19, 124, 189, 0.3), inset 0 1px 1px rgba(16, 22, 26, 0.2); }
  .bp3-input[type="search"], .bp3-input.bp3-round{
    border-radius:30px;
    -webkit-box-sizing:border-box;
            box-sizing:border-box;
    padding-left:10px; }
  .bp3-input[readonly]{
    -webkit-box-shadow:inset 0 0 0 1px rgba(16, 22, 26, 0.15);
            box-shadow:inset 0 0 0 1px rgba(16, 22, 26, 0.15); }
  .bp3-input:disabled, .bp3-input.bp3-disabled{
    background:rgba(206, 217, 224, 0.5);
    -webkit-box-shadow:none;
            box-shadow:none;
    color:rgba(92, 112, 128, 0.6);
    cursor:not-allowed;
    resize:none; }
  .bp3-input.bp3-large{
    font-size:16px;
    height:40px;
    line-height:40px; }
    .bp3-input.bp3-large[type="search"], .bp3-input.bp3-large.bp3-round{
      padding:0 15px; }
  .bp3-input.bp3-small{
    font-size:12px;
    height:24px;
    line-height:24px;
    padding-left:8px;
    padding-right:8px; }
    .bp3-input.bp3-small[type="search"], .bp3-input.bp3-small.bp3-round{
      padding:0 12px; }
  .bp3-input.bp3-fill{
    -webkit-box-flex:1;
        -ms-flex:1 1 auto;
            flex:1 1 auto;
    width:100%; }
  .bp3-dark .bp3-input{
    background:rgba(16, 22, 26, 0.3);
    -webkit-box-shadow:0 0 0 0 rgba(19, 124, 189, 0), 0 0 0 0 rgba(19, 124, 189, 0), 0 0 0 0 rgba(19, 124, 189, 0), inset 0 0 0 1px rgba(16, 22, 26, 0.3), inset 0 1px 1px rgba(16, 22, 26, 0.4);
            box-shadow:0 0 0 0 rgba(19, 124, 189, 0), 0 0 0 0 rgba(19, 124, 189, 0), 0 0 0 0 rgba(19, 124, 189, 0), inset 0 0 0 1px rgba(16, 22, 26, 0.3), inset 0 1px 1px rgba(16, 22, 26, 0.4);
    color:#f5f8fa; }
    .bp3-dark .bp3-input::-webkit-input-placeholder{
      color:rgba(167, 182, 194, 0.6); }
    .bp3-dark .bp3-input::-moz-placeholder{
      color:rgba(167, 182, 194, 0.6); }
    .bp3-dark .bp3-input:-ms-input-placeholder{
      color:rgba(167, 182, 194, 0.6); }
    .bp3-dark .bp3-input::-ms-input-placeholder{
      color:rgba(167, 182, 194, 0.6); }
    .bp3-dark .bp3-input::placeholder{
      color:rgba(167, 182, 194, 0.6); }
    .bp3-dark .bp3-input:focus{
      -webkit-box-shadow:0 0 0 1px #137cbd, 0 0 0 1px #137cbd, 0 0 0 3px rgba(19, 124, 189, 0.3), inset 0 0 0 1px rgba(16, 22, 26, 0.3), inset 0 1px 1px rgba(16, 22, 26, 0.4);
              box-shadow:0 0 0 1px #137cbd, 0 0 0 1px #137cbd, 0 0 0 3px rgba(19, 124, 189, 0.3), inset 0 0 0 1px rgba(16, 22, 26, 0.3), inset 0 1px 1px rgba(16, 22, 26, 0.4); }
    .bp3-dark .bp3-input[readonly]{
      -webkit-box-shadow:inset 0 0 0 1px rgba(16, 22, 26, 0.4);
              box-shadow:inset 0 0 0 1px rgba(16, 22, 26, 0.4); }
    .bp3-dark .bp3-input:disabled, .bp3-dark .bp3-input.bp3-disabled{
      background:rgba(57, 75, 89, 0.5);
      -webkit-box-shadow:none;
              box-shadow:none;
      color:rgba(167, 182, 194, 0.6); }
  .bp3-input.bp3-intent-primary{
    -webkit-box-shadow:0 0 0 0 rgba(19, 124, 189, 0), 0 0 0 0 rgba(19, 124, 189, 0), inset 0 0 0 1px #137cbd, inset 0 0 0 1px rgba(16, 22, 26, 0.15), inset 0 1px 1px rgba(16, 22, 26, 0.2);
            box-shadow:0 0 0 0 rgba(19, 124, 189, 0), 0 0 0 0 rgba(19, 124, 189, 0), inset 0 0 0 1px #137cbd, inset 0 0 0 1px rgba(16, 22, 26, 0.15), inset 0 1px 1px rgba(16, 22, 26, 0.2); }
    .bp3-input.bp3-intent-primary:focus{
      -webkit-box-shadow:0 0 0 1px #137cbd, 0 0 0 3px rgba(19, 124, 189, 0.3), inset 0 1px 1px rgba(16, 22, 26, 0.2);
              box-shadow:0 0 0 1px #137cbd, 0 0 0 3px rgba(19, 124, 189, 0.3), inset 0 1px 1px rgba(16, 22, 26, 0.2); }
    .bp3-input.bp3-intent-primary[readonly]{
      -webkit-box-shadow:inset 0 0 0 1px #137cbd;
              box-shadow:inset 0 0 0 1px #137cbd; }
    .bp3-input.bp3-intent-primary:disabled, .bp3-input.bp3-intent-primary.bp3-disabled{
      -webkit-box-shadow:none;
              box-shadow:none; }
    .bp3-dark .bp3-input.bp3-intent-primary{
      -webkit-box-shadow:0 0 0 0 rgba(19, 124, 189, 0), 0 0 0 0 rgba(19, 124, 189, 0), 0 0 0 0 rgba(19, 124, 189, 0), inset 0 0 0 1px #137cbd, inset 0 0 0 1px rgba(16, 22, 26, 0.3), inset 0 1px 1px rgba(16, 22, 26, 0.4);
              box-shadow:0 0 0 0 rgba(19, 124, 189, 0), 0 0 0 0 rgba(19, 124, 189, 0), 0 0 0 0 rgba(19, 124, 189, 0), inset 0 0 0 1px #137cbd, inset 0 0 0 1px rgba(16, 22, 26, 0.3), inset 0 1px 1px rgba(16, 22, 26, 0.4); }
      .bp3-dark .bp3-input.bp3-intent-primary:focus{
        -webkit-box-shadow:0 0 0 1px #137cbd, 0 0 0 1px #137cbd, 0 0 0 3px rgba(19, 124, 189, 0.3), inset 0 0 0 1px rgba(16, 22, 26, 0.3), inset 0 1px 1px rgba(16, 22, 26, 0.4);
                box-shadow:0 0 0 1px #137cbd, 0 0 0 1px #137cbd, 0 0 0 3px rgba(19, 124, 189, 0.3), inset 0 0 0 1px rgba(16, 22, 26, 0.3), inset 0 1px 1px rgba(16, 22, 26, 0.4); }
      .bp3-dark .bp3-input.bp3-intent-primary[readonly]{
        -webkit-box-shadow:inset 0 0 0 1px #137cbd;
                box-shadow:inset 0 0 0 1px #137cbd; }
      .bp3-dark .bp3-input.bp3-intent-primary:disabled, .bp3-dark .bp3-input.bp3-intent-primary.bp3-disabled{
        -webkit-box-shadow:none;
                box-shadow:none; }
  .bp3-input.bp3-intent-success{
    -webkit-box-shadow:0 0 0 0 rgba(15, 153, 96, 0), 0 0 0 0 rgba(15, 153, 96, 0), inset 0 0 0 1px #0f9960, inset 0 0 0 1px rgba(16, 22, 26, 0.15), inset 0 1px 1px rgba(16, 22, 26, 0.2);
            box-shadow:0 0 0 0 rgba(15, 153, 96, 0), 0 0 0 0 rgba(15, 153, 96, 0), inset 0 0 0 1px #0f9960, inset 0 0 0 1px rgba(16, 22, 26, 0.15), inset 0 1px 1px rgba(16, 22, 26, 0.2); }
    .bp3-input.bp3-intent-success:focus{
      -webkit-box-shadow:0 0 0 1px #0f9960, 0 0 0 3px rgba(15, 153, 96, 0.3), inset 0 1px 1px rgba(16, 22, 26, 0.2);
              box-shadow:0 0 0 1px #0f9960, 0 0 0 3px rgba(15, 153, 96, 0.3), inset 0 1px 1px rgba(16, 22, 26, 0.2); }
    .bp3-input.bp3-intent-success[readonly]{
      -webkit-box-shadow:inset 0 0 0 1px #0f9960;
              box-shadow:inset 0 0 0 1px #0f9960; }
    .bp3-input.bp3-intent-success:disabled, .bp3-input.bp3-intent-success.bp3-disabled{
      -webkit-box-shadow:none;
              box-shadow:none; }
    .bp3-dark .bp3-input.bp3-intent-success{
      -webkit-box-shadow:0 0 0 0 rgba(15, 153, 96, 0), 0 0 0 0 rgba(15, 153, 96, 0), 0 0 0 0 rgba(15, 153, 96, 0), inset 0 0 0 1px #0f9960, inset 0 0 0 1px rgba(16, 22, 26, 0.3), inset 0 1px 1px rgba(16, 22, 26, 0.4);
              box-shadow:0 0 0 0 rgba(15, 153, 96, 0), 0 0 0 0 rgba(15, 153, 96, 0), 0 0 0 0 rgba(15, 153, 96, 0), inset 0 0 0 1px #0f9960, inset 0 0 0 1px rgba(16, 22, 26, 0.3), inset 0 1px 1px rgba(16, 22, 26, 0.4); }
      .bp3-dark .bp3-input.bp3-intent-success:focus{
        -webkit-box-shadow:0 0 0 1px #0f9960, 0 0 0 1px #0f9960, 0 0 0 3px rgba(15, 153, 96, 0.3), inset 0 0 0 1px rgba(16, 22, 26, 0.3), inset 0 1px 1px rgba(16, 22, 26, 0.4);
                box-shadow:0 0 0 1px #0f9960, 0 0 0 1px #0f9960, 0 0 0 3px rgba(15, 153, 96, 0.3), inset 0 0 0 1px rgba(16, 22, 26, 0.3), inset 0 1px 1px rgba(16, 22, 26, 0.4); }
      .bp3-dark .bp3-input.bp3-intent-success[readonly]{
        -webkit-box-shadow:inset 0 0 0 1px #0f9960;
                box-shadow:inset 0 0 0 1px #0f9960; }
      .bp3-dark .bp3-input.bp3-intent-success:disabled, .bp3-dark .bp3-input.bp3-intent-success.bp3-disabled{
        -webkit-box-shadow:none;
                box-shadow:none; }
  .bp3-input.bp3-intent-warning{
    -webkit-box-shadow:0 0 0 0 rgba(217, 130, 43, 0), 0 0 0 0 rgba(217, 130, 43, 0), inset 0 0 0 1px #d9822b, inset 0 0 0 1px rgba(16, 22, 26, 0.15), inset 0 1px 1px rgba(16, 22, 26, 0.2);
            box-shadow:0 0 0 0 rgba(217, 130, 43, 0), 0 0 0 0 rgba(217, 130, 43, 0), inset 0 0 0 1px #d9822b, inset 0 0 0 1px rgba(16, 22, 26, 0.15), inset 0 1px 1px rgba(16, 22, 26, 0.2); }
    .bp3-input.bp3-intent-warning:focus{
      -webkit-box-shadow:0 0 0 1px #d9822b, 0 0 0 3px rgba(217, 130, 43, 0.3), inset 0 1px 1px rgba(16, 22, 26, 0.2);
              box-shadow:0 0 0 1px #d9822b, 0 0 0 3px rgba(217, 130, 43, 0.3), inset 0 1px 1px rgba(16, 22, 26, 0.2); }
    .bp3-input.bp3-intent-warning[readonly]{
      -webkit-box-shadow:inset 0 0 0 1px #d9822b;
              box-shadow:inset 0 0 0 1px #d9822b; }
    .bp3-input.bp3-intent-warning:disabled, .bp3-input.bp3-intent-warning.bp3-disabled{
      -webkit-box-shadow:none;
              box-shadow:none; }
    .bp3-dark .bp3-input.bp3-intent-warning{
      -webkit-box-shadow:0 0 0 0 rgba(217, 130, 43, 0), 0 0 0 0 rgba(217, 130, 43, 0), 0 0 0 0 rgba(217, 130, 43, 0), inset 0 0 0 1px #d9822b, inset 0 0 0 1px rgba(16, 22, 26, 0.3), inset 0 1px 1px rgba(16, 22, 26, 0.4);
              box-shadow:0 0 0 0 rgba(217, 130, 43, 0), 0 0 0 0 rgba(217, 130, 43, 0), 0 0 0 0 rgba(217, 130, 43, 0), inset 0 0 0 1px #d9822b, inset 0 0 0 1px rgba(16, 22, 26, 0.3), inset 0 1px 1px rgba(16, 22, 26, 0.4); }
      .bp3-dark .bp3-input.bp3-intent-warning:focus{
        -webkit-box-shadow:0 0 0 1px #d9822b, 0 0 0 1px #d9822b, 0 0 0 3px rgba(217, 130, 43, 0.3), inset 0 0 0 1px rgba(16, 22, 26, 0.3), inset 0 1px 1px rgba(16, 22, 26, 0.4);
                box-shadow:0 0 0 1px #d9822b, 0 0 0 1px #d9822b, 0 0 0 3px rgba(217, 130, 43, 0.3), inset 0 0 0 1px rgba(16, 22, 26, 0.3), inset 0 1px 1px rgba(16, 22, 26, 0.4); }
      .bp3-dark .bp3-input.bp3-intent-warning[readonly]{
        -webkit-box-shadow:inset 0 0 0 1px #d9822b;
                box-shadow:inset 0 0 0 1px #d9822b; }
      .bp3-dark .bp3-input.bp3-intent-warning:disabled, .bp3-dark .bp3-input.bp3-intent-warning.bp3-disabled{
        -webkit-box-shadow:none;
                box-shadow:none; }
  .bp3-input.bp3-intent-danger{
    -webkit-box-shadow:0 0 0 0 rgba(219, 55, 55, 0), 0 0 0 0 rgba(219, 55, 55, 0), inset 0 0 0 1px #db3737, inset 0 0 0 1px rgba(16, 22, 26, 0.15), inset 0 1px 1px rgba(16, 22, 26, 0.2);
            box-shadow:0 0 0 0 rgba(219, 55, 55, 0), 0 0 0 0 rgba(219, 55, 55, 0), inset 0 0 0 1px #db3737, inset 0 0 0 1px rgba(16, 22, 26, 0.15), inset 0 1px 1px rgba(16, 22, 26, 0.2); }
    .bp3-input.bp3-intent-danger:focus{
      -webkit-box-shadow:0 0 0 1px #db3737, 0 0 0 3px rgba(219, 55, 55, 0.3), inset 0 1px 1px rgba(16, 22, 26, 0.2);
              box-shadow:0 0 0 1px #db3737, 0 0 0 3px rgba(219, 55, 55, 0.3), inset 0 1px 1px rgba(16, 22, 26, 0.2); }
    .bp3-input.bp3-intent-danger[readonly]{
      -webkit-box-shadow:inset 0 0 0 1px #db3737;
              box-shadow:inset 0 0 0 1px #db3737; }
    .bp3-input.bp3-intent-danger:disabled, .bp3-input.bp3-intent-danger.bp3-disabled{
      -webkit-box-shadow:none;
              box-shadow:none; }
    .bp3-dark .bp3-input.bp3-intent-danger{
      -webkit-box-shadow:0 0 0 0 rgba(219, 55, 55, 0), 0 0 0 0 rgba(219, 55, 55, 0), 0 0 0 0 rgba(219, 55, 55, 0), inset 0 0 0 1px #db3737, inset 0 0 0 1px rgba(16, 22, 26, 0.3), inset 0 1px 1px rgba(16, 22, 26, 0.4);
              box-shadow:0 0 0 0 rgba(219, 55, 55, 0), 0 0 0 0 rgba(219, 55, 55, 0), 0 0 0 0 rgba(219, 55, 55, 0), inset 0 0 0 1px #db3737, inset 0 0 0 1px rgba(16, 22, 26, 0.3), inset 0 1px 1px rgba(16, 22, 26, 0.4); }
      .bp3-dark .bp3-input.bp3-intent-danger:focus{
        -webkit-box-shadow:0 0 0 1px #db3737, 0 0 0 1px #db3737, 0 0 0 3px rgba(219, 55, 55, 0.3), inset 0 0 0 1px rgba(16, 22, 26, 0.3), inset 0 1px 1px rgba(16, 22, 26, 0.4);
                box-shadow:0 0 0 1px #db3737, 0 0 0 1px #db3737, 0 0 0 3px rgba(219, 55, 55, 0.3), inset 0 0 0 1px rgba(16, 22, 26, 0.3), inset 0 1px 1px rgba(16, 22, 26, 0.4); }
      .bp3-dark .bp3-input.bp3-intent-danger[readonly]{
        -webkit-box-shadow:inset 0 0 0 1px #db3737;
                box-shadow:inset 0 0 0 1px #db3737; }
      .bp3-dark .bp3-input.bp3-intent-danger:disabled, .bp3-dark .bp3-input.bp3-intent-danger.bp3-disabled{
        -webkit-box-shadow:none;
                box-shadow:none; }
  .bp3-input::-ms-clear{
    display:none; }
textarea.bp3-input{
  max-width:100%;
  padding:10px; }
  textarea.bp3-input, textarea.bp3-input.bp3-large, textarea.bp3-input.bp3-small{
    height:auto;
    line-height:inherit; }
  textarea.bp3-input.bp3-small{
    padding:8px; }
  .bp3-dark textarea.bp3-input{
    background:rgba(16, 22, 26, 0.3);
    -webkit-box-shadow:0 0 0 0 rgba(19, 124, 189, 0), 0 0 0 0 rgba(19, 124, 189, 0), 0 0 0 0 rgba(19, 124, 189, 0), inset 0 0 0 1px rgba(16, 22, 26, 0.3), inset 0 1px 1px rgba(16, 22, 26, 0.4);
            box-shadow:0 0 0 0 rgba(19, 124, 189, 0), 0 0 0 0 rgba(19, 124, 189, 0), 0 0 0 0 rgba(19, 124, 189, 0), inset 0 0 0 1px rgba(16, 22, 26, 0.3), inset 0 1px 1px rgba(16, 22, 26, 0.4);
    color:#f5f8fa; }
    .bp3-dark textarea.bp3-input::-webkit-input-placeholder{
      color:rgba(167, 182, 194, 0.6); }
    .bp3-dark textarea.bp3-input::-moz-placeholder{
      color:rgba(167, 182, 194, 0.6); }
    .bp3-dark textarea.bp3-input:-ms-input-placeholder{
      color:rgba(167, 182, 194, 0.6); }
    .bp3-dark textarea.bp3-input::-ms-input-placeholder{
      color:rgba(167, 182, 194, 0.6); }
    .bp3-dark textarea.bp3-input::placeholder{
      color:rgba(167, 182, 194, 0.6); }
    .bp3-dark textarea.bp3-input:focus{
      -webkit-box-shadow:0 0 0 1px #137cbd, 0 0 0 1px #137cbd, 0 0 0 3px rgba(19, 124, 189, 0.3), inset 0 0 0 1px rgba(16, 22, 26, 0.3), inset 0 1px 1px rgba(16, 22, 26, 0.4);
              box-shadow:0 0 0 1px #137cbd, 0 0 0 1px #137cbd, 0 0 0 3px rgba(19, 124, 189, 0.3), inset 0 0 0 1px rgba(16, 22, 26, 0.3), inset 0 1px 1px rgba(16, 22, 26, 0.4); }
    .bp3-dark textarea.bp3-input[readonly]{
      -webkit-box-shadow:inset 0 0 0 1px rgba(16, 22, 26, 0.4);
              box-shadow:inset 0 0 0 1px rgba(16, 22, 26, 0.4); }
    .bp3-dark textarea.bp3-input:disabled, .bp3-dark textarea.bp3-input.bp3-disabled{
      background:rgba(57, 75, 89, 0.5);
      -webkit-box-shadow:none;
              box-shadow:none;
      color:rgba(167, 182, 194, 0.6); }
label.bp3-label{
  display:block;
  margin-bottom:15px;
  margin-top:0; }
  label.bp3-label .bp3-html-select,
  label.bp3-label .bp3-input,
  label.bp3-label .bp3-select,
  label.bp3-label .bp3-slider,
  label.bp3-label .bp3-popover-wrapper{
    display:block;
    margin-top:5px;
    text-transform:none; }
  label.bp3-label .bp3-button-group{
    margin-top:5px; }
  label.bp3-label .bp3-select select,
  label.bp3-label .bp3-html-select select{
    font-weight:400;
    vertical-align:top;
    width:100%; }
  label.bp3-label.bp3-disabled,
  label.bp3-label.bp3-disabled .bp3-text-muted{
    color:rgba(92, 112, 128, 0.6); }
  label.bp3-label.bp3-inline{
    line-height:30px; }
    label.bp3-label.bp3-inline .bp3-html-select,
    label.bp3-label.bp3-inline .bp3-input,
    label.bp3-label.bp3-inline .bp3-input-group,
    label.bp3-label.bp3-inline .bp3-select,
    label.bp3-label.bp3-inline .bp3-popover-wrapper{
      display:inline-block;
      margin:0 0 0 5px;
      vertical-align:top; }
    label.bp3-label.bp3-inline .bp3-button-group{
      margin:0 0 0 5px; }
    label.bp3-label.bp3-inline .bp3-input-group .bp3-input{
      margin-left:0; }
    label.bp3-label.bp3-inline.bp3-large{
      line-height:40px; }
  label.bp3-label:not(.bp3-inline) .bp3-popover-target{
    display:block; }
  .bp3-dark label.bp3-label{
    color:#f5f8fa; }
    .bp3-dark label.bp3-label.bp3-disabled,
    .bp3-dark label.bp3-label.bp3-disabled .bp3-text-muted{
      color:rgba(167, 182, 194, 0.6); }
.bp3-numeric-input .bp3-button-group.bp3-vertical > .bp3-button{
  -webkit-box-flex:1;
      -ms-flex:1 1 14px;
          flex:1 1 14px;
  min-height:0;
  padding:0;
  width:30px; }
  .bp3-numeric-input .bp3-button-group.bp3-vertical > .bp3-button:first-child{
    border-radius:0 3px 0 0; }
  .bp3-numeric-input .bp3-button-group.bp3-vertical > .bp3-button:last-child{
    border-radius:0 0 3px 0; }

.bp3-numeric-input .bp3-button-group.bp3-vertical:first-child > .bp3-button:first-child{
  border-radius:3px 0 0 0; }

.bp3-numeric-input .bp3-button-group.bp3-vertical:first-child > .bp3-button:last-child{
  border-radius:0 0 0 3px; }

.bp3-numeric-input.bp3-large .bp3-button-group.bp3-vertical > .bp3-button{
  width:40px; }

form{
  display:block; }
.bp3-html-select select,
.bp3-select select{
  display:-webkit-inline-box;
  display:-ms-inline-flexbox;
  display:inline-flex;
  -webkit-box-orient:horizontal;
  -webkit-box-direction:normal;
      -ms-flex-direction:row;
          flex-direction:row;
  -webkit-box-align:center;
      -ms-flex-align:center;
          align-items:center;
  border:none;
  border-radius:3px;
  cursor:pointer;
  font-size:14px;
  -webkit-box-pack:center;
      -ms-flex-pack:center;
          justify-content:center;
  padding:5px 10px;
  text-align:left;
  vertical-align:middle;
  background-color:#f5f8fa;
  background-image:-webkit-gradient(linear, left top, left bottom, from(rgba(255, 255, 255, 0.8)), to(rgba(255, 255, 255, 0)));
  background-image:linear-gradient(to bottom, rgba(255, 255, 255, 0.8), rgba(255, 255, 255, 0));
  -webkit-box-shadow:inset 0 0 0 1px rgba(16, 22, 26, 0.2), inset 0 -1px 0 rgba(16, 22, 26, 0.1);
          box-shadow:inset 0 0 0 1px rgba(16, 22, 26, 0.2), inset 0 -1px 0 rgba(16, 22, 26, 0.1);
  color:#182026;
  -moz-appearance:none;
  -webkit-appearance:none;
  border-radius:3px;
  height:30px;
  padding:0 25px 0 10px;
  width:100%; }
  .bp3-html-select select > *, .bp3-select select > *{
    -webkit-box-flex:0;
        -ms-flex-positive:0;
            flex-grow:0;
    -ms-flex-negative:0;
        flex-shrink:0; }
  .bp3-html-select select > .bp3-fill, .bp3-select select > .bp3-fill{
    -webkit-box-flex:1;
        -ms-flex-positive:1;
            flex-grow:1;
    -ms-flex-negative:1;
        flex-shrink:1; }
  .bp3-html-select select::before,
  .bp3-select select::before, .bp3-html-select select > *, .bp3-select select > *{
    margin-right:7px; }
  .bp3-html-select select:empty::before,
  .bp3-select select:empty::before,
  .bp3-html-select select > :last-child,
  .bp3-select select > :last-child{
    margin-right:0; }
  .bp3-html-select select:hover,
  .bp3-select select:hover{
    background-clip:padding-box;
    background-color:#ebf1f5;
    -webkit-box-shadow:inset 0 0 0 1px rgba(16, 22, 26, 0.2), inset 0 -1px 0 rgba(16, 22, 26, 0.1);
            box-shadow:inset 0 0 0 1px rgba(16, 22, 26, 0.2), inset 0 -1px 0 rgba(16, 22, 26, 0.1); }
  .bp3-html-select select:active,
  .bp3-select select:active, .bp3-html-select select.bp3-active,
  .bp3-select select.bp3-active{
    background-color:#d8e1e8;
    background-image:none;
    -webkit-box-shadow:inset 0 0 0 1px rgba(16, 22, 26, 0.2), inset 0 1px 2px rgba(16, 22, 26, 0.2);
            box-shadow:inset 0 0 0 1px rgba(16, 22, 26, 0.2), inset 0 1px 2px rgba(16, 22, 26, 0.2); }
  .bp3-html-select select:disabled,
  .bp3-select select:disabled, .bp3-html-select select.bp3-disabled,
  .bp3-select select.bp3-disabled{
    background-color:rgba(206, 217, 224, 0.5);
    background-image:none;
    -webkit-box-shadow:none;
            box-shadow:none;
    color:rgba(92, 112, 128, 0.6);
    cursor:not-allowed;
    outline:none; }
    .bp3-html-select select:disabled.bp3-active,
    .bp3-select select:disabled.bp3-active, .bp3-html-select select:disabled.bp3-active:hover,
    .bp3-select select:disabled.bp3-active:hover, .bp3-html-select select.bp3-disabled.bp3-active,
    .bp3-select select.bp3-disabled.bp3-active, .bp3-html-select select.bp3-disabled.bp3-active:hover,
    .bp3-select select.bp3-disabled.bp3-active:hover{
      background:rgba(206, 217, 224, 0.7); }

.bp3-html-select.bp3-minimal select,
.bp3-select.bp3-minimal select{
  background:none;
  -webkit-box-shadow:none;
          box-shadow:none; }
  .bp3-html-select.bp3-minimal select:hover,
  .bp3-select.bp3-minimal select:hover{
    background:rgba(167, 182, 194, 0.3);
    -webkit-box-shadow:none;
            box-shadow:none;
    color:#182026;
    text-decoration:none; }
  .bp3-html-select.bp3-minimal select:active,
  .bp3-select.bp3-minimal select:active, .bp3-html-select.bp3-minimal select.bp3-active,
  .bp3-select.bp3-minimal select.bp3-active{
    background:rgba(115, 134, 148, 0.3);
    -webkit-box-shadow:none;
            box-shadow:none;
    color:#182026; }
  .bp3-html-select.bp3-minimal select:disabled,
  .bp3-select.bp3-minimal select:disabled, .bp3-html-select.bp3-minimal select:disabled:hover,
  .bp3-select.bp3-minimal select:disabled:hover, .bp3-html-select.bp3-minimal select.bp3-disabled,
  .bp3-select.bp3-minimal select.bp3-disabled, .bp3-html-select.bp3-minimal select.bp3-disabled:hover,
  .bp3-select.bp3-minimal select.bp3-disabled:hover{
    background:none;
    color:rgba(92, 112, 128, 0.6);
    cursor:not-allowed; }
    .bp3-html-select.bp3-minimal select:disabled.bp3-active,
    .bp3-select.bp3-minimal select:disabled.bp3-active, .bp3-html-select.bp3-minimal select:disabled:hover.bp3-active,
    .bp3-select.bp3-minimal select:disabled:hover.bp3-active, .bp3-html-select.bp3-minimal select.bp3-disabled.bp3-active,
    .bp3-select.bp3-minimal select.bp3-disabled.bp3-active, .bp3-html-select.bp3-minimal select.bp3-disabled:hover.bp3-active,
    .bp3-select.bp3-minimal select.bp3-disabled:hover.bp3-active{
      background:rgba(115, 134, 148, 0.3); }
  .bp3-dark .bp3-html-select.bp3-minimal select, .bp3-html-select.bp3-minimal .bp3-dark select,
  .bp3-dark .bp3-select.bp3-minimal select, .bp3-select.bp3-minimal .bp3-dark select{
    background:none;
    -webkit-box-shadow:none;
            box-shadow:none;
    color:inherit; }
    .bp3-dark .bp3-html-select.bp3-minimal select:hover, .bp3-html-select.bp3-minimal .bp3-dark select:hover,
    .bp3-dark .bp3-select.bp3-minimal select:hover, .bp3-select.bp3-minimal .bp3-dark select:hover, .bp3-dark .bp3-html-select.bp3-minimal select:active, .bp3-html-select.bp3-minimal .bp3-dark select:active,
    .bp3-dark .bp3-select.bp3-minimal select:active, .bp3-select.bp3-minimal .bp3-dark select:active, .bp3-dark .bp3-html-select.bp3-minimal select.bp3-active, .bp3-html-select.bp3-minimal .bp3-dark select.bp3-active,
    .bp3-dark .bp3-select.bp3-minimal select.bp3-active, .bp3-select.bp3-minimal .bp3-dark select.bp3-active{
      background:none;
      -webkit-box-shadow:none;
              box-shadow:none; }
    .bp3-dark .bp3-html-select.bp3-minimal select:hover, .bp3-html-select.bp3-minimal .bp3-dark select:hover,
    .bp3-dark .bp3-select.bp3-minimal select:hover, .bp3-select.bp3-minimal .bp3-dark select:hover{
      background:rgba(138, 155, 168, 0.15); }
    .bp3-dark .bp3-html-select.bp3-minimal select:active, .bp3-html-select.bp3-minimal .bp3-dark select:active,
    .bp3-dark .bp3-select.bp3-minimal select:active, .bp3-select.bp3-minimal .bp3-dark select:active, .bp3-dark .bp3-html-select.bp3-minimal select.bp3-active, .bp3-html-select.bp3-minimal .bp3-dark select.bp3-active,
    .bp3-dark .bp3-select.bp3-minimal select.bp3-active, .bp3-select.bp3-minimal .bp3-dark select.bp3-active{
      background:rgba(138, 155, 168, 0.3);
      color:#f5f8fa; }
    .bp3-dark .bp3-html-select.bp3-minimal select:disabled, .bp3-html-select.bp3-minimal .bp3-dark select:disabled,
    .bp3-dark .bp3-select.bp3-minimal select:disabled, .bp3-select.bp3-minimal .bp3-dark select:disabled, .bp3-dark .bp3-html-select.bp3-minimal select:disabled:hover, .bp3-html-select.bp3-minimal .bp3-dark select:disabled:hover,
    .bp3-dark .bp3-select.bp3-minimal select:disabled:hover, .bp3-select.bp3-minimal .bp3-dark select:disabled:hover, .bp3-dark .bp3-html-select.bp3-minimal select.bp3-disabled, .bp3-html-select.bp3-minimal .bp3-dark select.bp3-disabled,
    .bp3-dark .bp3-select.bp3-minimal select.bp3-disabled, .bp3-select.bp3-minimal .bp3-dark select.bp3-disabled, .bp3-dark .bp3-html-select.bp3-minimal select.bp3-disabled:hover, .bp3-html-select.bp3-minimal .bp3-dark select.bp3-disabled:hover,
    .bp3-dark .bp3-select.bp3-minimal select.bp3-disabled:hover, .bp3-select.bp3-minimal .bp3-dark select.bp3-disabled:hover{
      background:none;
      color:rgba(167, 182, 194, 0.6);
      cursor:not-allowed; }
      .bp3-dark .bp3-html-select.bp3-minimal select:disabled.bp3-active, .bp3-html-select.bp3-minimal .bp3-dark select:disabled.bp3-active,
      .bp3-dark .bp3-select.bp3-minimal select:disabled.bp3-active, .bp3-select.bp3-minimal .bp3-dark select:disabled.bp3-active, .bp3-dark .bp3-html-select.bp3-minimal select:disabled:hover.bp3-active, .bp3-html-select.bp3-minimal .bp3-dark select:disabled:hover.bp3-active,
      .bp3-dark .bp3-select.bp3-minimal select:disabled:hover.bp3-active, .bp3-select.bp3-minimal .bp3-dark select:disabled:hover.bp3-active, .bp3-dark .bp3-html-select.bp3-minimal select.bp3-disabled.bp3-active, .bp3-html-select.bp3-minimal .bp3-dark select.bp3-disabled.bp3-active,
      .bp3-dark .bp3-select.bp3-minimal select.bp3-disabled.bp3-active, .bp3-select.bp3-minimal .bp3-dark select.bp3-disabled.bp3-active, .bp3-dark .bp3-html-select.bp3-minimal select.bp3-disabled:hover.bp3-active, .bp3-html-select.bp3-minimal .bp3-dark select.bp3-disabled:hover.bp3-active,
      .bp3-dark .bp3-select.bp3-minimal select.bp3-disabled:hover.bp3-active, .bp3-select.bp3-minimal .bp3-dark select.bp3-disabled:hover.bp3-active{
        background:rgba(138, 155, 168, 0.3); }
  .bp3-html-select.bp3-minimal select.bp3-intent-primary,
  .bp3-select.bp3-minimal select.bp3-intent-primary{
    color:#106ba3; }
    .bp3-html-select.bp3-minimal select.bp3-intent-primary:hover,
    .bp3-select.bp3-minimal select.bp3-intent-primary:hover, .bp3-html-select.bp3-minimal select.bp3-intent-primary:active,
    .bp3-select.bp3-minimal select.bp3-intent-primary:active, .bp3-html-select.bp3-minimal select.bp3-intent-primary.bp3-active,
    .bp3-select.bp3-minimal select.bp3-intent-primary.bp3-active{
      background:none;
      -webkit-box-shadow:none;
              box-shadow:none;
      color:#106ba3; }
    .bp3-html-select.bp3-minimal select.bp3-intent-primary:hover,
    .bp3-select.bp3-minimal select.bp3-intent-primary:hover{
      background:rgba(19, 124, 189, 0.15);
      color:#106ba3; }
    .bp3-html-select.bp3-minimal select.bp3-intent-primary:active,
    .bp3-select.bp3-minimal select.bp3-intent-primary:active, .bp3-html-select.bp3-minimal select.bp3-intent-primary.bp3-active,
    .bp3-select.bp3-minimal select.bp3-intent-primary.bp3-active{
      background:rgba(19, 124, 189, 0.3);
      color:#106ba3; }
    .bp3-html-select.bp3-minimal select.bp3-intent-primary:disabled,
    .bp3-select.bp3-minimal select.bp3-intent-primary:disabled, .bp3-html-select.bp3-minimal select.bp3-intent-primary.bp3-disabled,
    .bp3-select.bp3-minimal select.bp3-intent-primary.bp3-disabled{
      background:none;
      color:rgba(16, 107, 163, 0.5); }
      .bp3-html-select.bp3-minimal select.bp3-intent-primary:disabled.bp3-active,
      .bp3-select.bp3-minimal select.bp3-intent-primary:disabled.bp3-active, .bp3-html-select.bp3-minimal select.bp3-intent-primary.bp3-disabled.bp3-active,
      .bp3-select.bp3-minimal select.bp3-intent-primary.bp3-disabled.bp3-active{
        background:rgba(19, 124, 189, 0.3); }
    .bp3-html-select.bp3-minimal select.bp3-intent-primary .bp3-button-spinner .bp3-spinner-head, .bp3-select.bp3-minimal select.bp3-intent-primary .bp3-button-spinner .bp3-spinner-head{
      stroke:#106ba3; }
    .bp3-dark .bp3-html-select.bp3-minimal select.bp3-intent-primary, .bp3-html-select.bp3-minimal .bp3-dark select.bp3-intent-primary,
    .bp3-dark .bp3-select.bp3-minimal select.bp3-intent-primary, .bp3-select.bp3-minimal .bp3-dark select.bp3-intent-primary{
      color:#48aff0; }
      .bp3-dark .bp3-html-select.bp3-minimal select.bp3-intent-primary:hover, .bp3-html-select.bp3-minimal .bp3-dark select.bp3-intent-primary:hover,
      .bp3-dark .bp3-select.bp3-minimal select.bp3-intent-primary:hover, .bp3-select.bp3-minimal .bp3-dark select.bp3-intent-primary:hover{
        background:rgba(19, 124, 189, 0.2);
        color:#48aff0; }
      .bp3-dark .bp3-html-select.bp3-minimal select.bp3-intent-primary:active, .bp3-html-select.bp3-minimal .bp3-dark select.bp3-intent-primary:active,
      .bp3-dark .bp3-select.bp3-minimal select.bp3-intent-primary:active, .bp3-select.bp3-minimal .bp3-dark select.bp3-intent-primary:active, .bp3-dark .bp3-html-select.bp3-minimal select.bp3-intent-primary.bp3-active, .bp3-html-select.bp3-minimal .bp3-dark select.bp3-intent-primary.bp3-active,
      .bp3-dark .bp3-select.bp3-minimal select.bp3-intent-primary.bp3-active, .bp3-select.bp3-minimal .bp3-dark select.bp3-intent-primary.bp3-active{
        background:rgba(19, 124, 189, 0.3);
        color:#48aff0; }
      .bp3-dark .bp3-html-select.bp3-minimal select.bp3-intent-primary:disabled, .bp3-html-select.bp3-minimal .bp3-dark select.bp3-intent-primary:disabled,
      .bp3-dark .bp3-select.bp3-minimal select.bp3-intent-primary:disabled, .bp3-select.bp3-minimal .bp3-dark select.bp3-intent-primary:disabled, .bp3-dark .bp3-html-select.bp3-minimal select.bp3-intent-primary.bp3-disabled, .bp3-html-select.bp3-minimal .bp3-dark select.bp3-intent-primary.bp3-disabled,
      .bp3-dark .bp3-select.bp3-minimal select.bp3-intent-primary.bp3-disabled, .bp3-select.bp3-minimal .bp3-dark select.bp3-intent-primary.bp3-disabled{
        background:none;
        color:rgba(72, 175, 240, 0.5); }
        .bp3-dark .bp3-html-select.bp3-minimal select.bp3-intent-primary:disabled.bp3-active, .bp3-html-select.bp3-minimal .bp3-dark select.bp3-intent-primary:disabled.bp3-active,
        .bp3-dark .bp3-select.bp3-minimal select.bp3-intent-primary:disabled.bp3-active, .bp3-select.bp3-minimal .bp3-dark select.bp3-intent-primary:disabled.bp3-active, .bp3-dark .bp3-html-select.bp3-minimal select.bp3-intent-primary.bp3-disabled.bp3-active, .bp3-html-select.bp3-minimal .bp3-dark select.bp3-intent-primary.bp3-disabled.bp3-active,
        .bp3-dark .bp3-select.bp3-minimal select.bp3-intent-primary.bp3-disabled.bp3-active, .bp3-select.bp3-minimal .bp3-dark select.bp3-intent-primary.bp3-disabled.bp3-active{
          background:rgba(19, 124, 189, 0.3); }
  .bp3-html-select.bp3-minimal select.bp3-intent-success,
  .bp3-select.bp3-minimal select.bp3-intent-success{
    color:#0d8050; }
    .bp3-html-select.bp3-minimal select.bp3-intent-success:hover,
    .bp3-select.bp3-minimal select.bp3-intent-success:hover, .bp3-html-select.bp3-minimal select.bp3-intent-success:active,
    .bp3-select.bp3-minimal select.bp3-intent-success:active, .bp3-html-select.bp3-minimal select.bp3-intent-success.bp3-active,
    .bp3-select.bp3-minimal select.bp3-intent-success.bp3-active{
      background:none;
      -webkit-box-shadow:none;
              box-shadow:none;
      color:#0d8050; }
    .bp3-html-select.bp3-minimal select.bp3-intent-success:hover,
    .bp3-select.bp3-minimal select.bp3-intent-success:hover{
      background:rgba(15, 153, 96, 0.15);
      color:#0d8050; }
    .bp3-html-select.bp3-minimal select.bp3-intent-success:active,
    .bp3-select.bp3-minimal select.bp3-intent-success:active, .bp3-html-select.bp3-minimal select.bp3-intent-success.bp3-active,
    .bp3-select.bp3-minimal select.bp3-intent-success.bp3-active{
      background:rgba(15, 153, 96, 0.3);
      color:#0d8050; }
    .bp3-html-select.bp3-minimal select.bp3-intent-success:disabled,
    .bp3-select.bp3-minimal select.bp3-intent-success:disabled, .bp3-html-select.bp3-minimal select.bp3-intent-success.bp3-disabled,
    .bp3-select.bp3-minimal select.bp3-intent-success.bp3-disabled{
      background:none;
      color:rgba(13, 128, 80, 0.5); }
      .bp3-html-select.bp3-minimal select.bp3-intent-success:disabled.bp3-active,
      .bp3-select.bp3-minimal select.bp3-intent-success:disabled.bp3-active, .bp3-html-select.bp3-minimal select.bp3-intent-success.bp3-disabled.bp3-active,
      .bp3-select.bp3-minimal select.bp3-intent-success.bp3-disabled.bp3-active{
        background:rgba(15, 153, 96, 0.3); }
    .bp3-html-select.bp3-minimal select.bp3-intent-success .bp3-button-spinner .bp3-spinner-head, .bp3-select.bp3-minimal select.bp3-intent-success .bp3-button-spinner .bp3-spinner-head{
      stroke:#0d8050; }
    .bp3-dark .bp3-html-select.bp3-minimal select.bp3-intent-success, .bp3-html-select.bp3-minimal .bp3-dark select.bp3-intent-success,
    .bp3-dark .bp3-select.bp3-minimal select.bp3-intent-success, .bp3-select.bp3-minimal .bp3-dark select.bp3-intent-success{
      color:#3dcc91; }
      .bp3-dark .bp3-html-select.bp3-minimal select.bp3-intent-success:hover, .bp3-html-select.bp3-minimal .bp3-dark select.bp3-intent-success:hover,
      .bp3-dark .bp3-select.bp3-minimal select.bp3-intent-success:hover, .bp3-select.bp3-minimal .bp3-dark select.bp3-intent-success:hover{
        background:rgba(15, 153, 96, 0.2);
        color:#3dcc91; }
      .bp3-dark .bp3-html-select.bp3-minimal select.bp3-intent-success:active, .bp3-html-select.bp3-minimal .bp3-dark select.bp3-intent-success:active,
      .bp3-dark .bp3-select.bp3-minimal select.bp3-intent-success:active, .bp3-select.bp3-minimal .bp3-dark select.bp3-intent-success:active, .bp3-dark .bp3-html-select.bp3-minimal select.bp3-intent-success.bp3-active, .bp3-html-select.bp3-minimal .bp3-dark select.bp3-intent-success.bp3-active,
      .bp3-dark .bp3-select.bp3-minimal select.bp3-intent-success.bp3-active, .bp3-select.bp3-minimal .bp3-dark select.bp3-intent-success.bp3-active{
        background:rgba(15, 153, 96, 0.3);
        color:#3dcc91; }
      .bp3-dark .bp3-html-select.bp3-minimal select.bp3-intent-success:disabled, .bp3-html-select.bp3-minimal .bp3-dark select.bp3-intent-success:disabled,
      .bp3-dark .bp3-select.bp3-minimal select.bp3-intent-success:disabled, .bp3-select.bp3-minimal .bp3-dark select.bp3-intent-success:disabled, .bp3-dark .bp3-html-select.bp3-minimal select.bp3-intent-success.bp3-disabled, .bp3-html-select.bp3-minimal .bp3-dark select.bp3-intent-success.bp3-disabled,
      .bp3-dark .bp3-select.bp3-minimal select.bp3-intent-success.bp3-disabled, .bp3-select.bp3-minimal .bp3-dark select.bp3-intent-success.bp3-disabled{
        background:none;
        color:rgba(61, 204, 145, 0.5); }
        .bp3-dark .bp3-html-select.bp3-minimal select.bp3-intent-success:disabled.bp3-active, .bp3-html-select.bp3-minimal .bp3-dark select.bp3-intent-success:disabled.bp3-active,
        .bp3-dark .bp3-select.bp3-minimal select.bp3-intent-success:disabled.bp3-active, .bp3-select.bp3-minimal .bp3-dark select.bp3-intent-success:disabled.bp3-active, .bp3-dark .bp3-html-select.bp3-minimal select.bp3-intent-success.bp3-disabled.bp3-active, .bp3-html-select.bp3-minimal .bp3-dark select.bp3-intent-success.bp3-disabled.bp3-active,
        .bp3-dark .bp3-select.bp3-minimal select.bp3-intent-success.bp3-disabled.bp3-active, .bp3-select.bp3-minimal .bp3-dark select.bp3-intent-success.bp3-disabled.bp3-active{
          background:rgba(15, 153, 96, 0.3); }
  .bp3-html-select.bp3-minimal select.bp3-intent-warning,
  .bp3-select.bp3-minimal select.bp3-intent-warning{
    color:#bf7326; }
    .bp3-html-select.bp3-minimal select.bp3-intent-warning:hover,
    .bp3-select.bp3-minimal select.bp3-intent-warning:hover, .bp3-html-select.bp3-minimal select.bp3-intent-warning:active,
    .bp3-select.bp3-minimal select.bp3-intent-warning:active, .bp3-html-select.bp3-minimal select.bp3-intent-warning.bp3-active,
    .bp3-select.bp3-minimal select.bp3-intent-warning.bp3-active{
      background:none;
      -webkit-box-shadow:none;
              box-shadow:none;
      color:#bf7326; }
    .bp3-html-select.bp3-minimal select.bp3-intent-warning:hover,
    .bp3-select.bp3-minimal select.bp3-intent-warning:hover{
      background:rgba(217, 130, 43, 0.15);
      color:#bf7326; }
    .bp3-html-select.bp3-minimal select.bp3-intent-warning:active,
    .bp3-select.bp3-minimal select.bp3-intent-warning:active, .bp3-html-select.bp3-minimal select.bp3-intent-warning.bp3-active,
    .bp3-select.bp3-minimal select.bp3-intent-warning.bp3-active{
      background:rgba(217, 130, 43, 0.3);
      color:#bf7326; }
    .bp3-html-select.bp3-minimal select.bp3-intent-warning:disabled,
    .bp3-select.bp3-minimal select.bp3-intent-warning:disabled, .bp3-html-select.bp3-minimal select.bp3-intent-warning.bp3-disabled,
    .bp3-select.bp3-minimal select.bp3-intent-warning.bp3-disabled{
      background:none;
      color:rgba(191, 115, 38, 0.5); }
      .bp3-html-select.bp3-minimal select.bp3-intent-warning:disabled.bp3-active,
      .bp3-select.bp3-minimal select.bp3-intent-warning:disabled.bp3-active, .bp3-html-select.bp3-minimal select.bp3-intent-warning.bp3-disabled.bp3-active,
      .bp3-select.bp3-minimal select.bp3-intent-warning.bp3-disabled.bp3-active{
        background:rgba(217, 130, 43, 0.3); }
    .bp3-html-select.bp3-minimal select.bp3-intent-warning .bp3-button-spinner .bp3-spinner-head, .bp3-select.bp3-minimal select.bp3-intent-warning .bp3-button-spinner .bp3-spinner-head{
      stroke:#bf7326; }
    .bp3-dark .bp3-html-select.bp3-minimal select.bp3-intent-warning, .bp3-html-select.bp3-minimal .bp3-dark select.bp3-intent-warning,
    .bp3-dark .bp3-select.bp3-minimal select.bp3-intent-warning, .bp3-select.bp3-minimal .bp3-dark select.bp3-intent-warning{
      color:#ffb366; }
      .bp3-dark .bp3-html-select.bp3-minimal select.bp3-intent-warning:hover, .bp3-html-select.bp3-minimal .bp3-dark select.bp3-intent-warning:hover,
      .bp3-dark .bp3-select.bp3-minimal select.bp3-intent-warning:hover, .bp3-select.bp3-minimal .bp3-dark select.bp3-intent-warning:hover{
        background:rgba(217, 130, 43, 0.2);
        color:#ffb366; }
      .bp3-dark .bp3-html-select.bp3-minimal select.bp3-intent-warning:active, .bp3-html-select.bp3-minimal .bp3-dark select.bp3-intent-warning:active,
      .bp3-dark .bp3-select.bp3-minimal select.bp3-intent-warning:active, .bp3-select.bp3-minimal .bp3-dark select.bp3-intent-warning:active, .bp3-dark .bp3-html-select.bp3-minimal select.bp3-intent-warning.bp3-active, .bp3-html-select.bp3-minimal .bp3-dark select.bp3-intent-warning.bp3-active,
      .bp3-dark .bp3-select.bp3-minimal select.bp3-intent-warning.bp3-active, .bp3-select.bp3-minimal .bp3-dark select.bp3-intent-warning.bp3-active{
        background:rgba(217, 130, 43, 0.3);
        color:#ffb366; }
      .bp3-dark .bp3-html-select.bp3-minimal select.bp3-intent-warning:disabled, .bp3-html-select.bp3-minimal .bp3-dark select.bp3-intent-warning:disabled,
      .bp3-dark .bp3-select.bp3-minimal select.bp3-intent-warning:disabled, .bp3-select.bp3-minimal .bp3-dark select.bp3-intent-warning:disabled, .bp3-dark .bp3-html-select.bp3-minimal select.bp3-intent-warning.bp3-disabled, .bp3-html-select.bp3-minimal .bp3-dark select.bp3-intent-warning.bp3-disabled,
      .bp3-dark .bp3-select.bp3-minimal select.bp3-intent-warning.bp3-disabled, .bp3-select.bp3-minimal .bp3-dark select.bp3-intent-warning.bp3-disabled{
        background:none;
        color:rgba(255, 179, 102, 0.5); }
        .bp3-dark .bp3-html-select.bp3-minimal select.bp3-intent-warning:disabled.bp3-active, .bp3-html-select.bp3-minimal .bp3-dark select.bp3-intent-warning:disabled.bp3-active,
        .bp3-dark .bp3-select.bp3-minimal select.bp3-intent-warning:disabled.bp3-active, .bp3-select.bp3-minimal .bp3-dark select.bp3-intent-warning:disabled.bp3-active, .bp3-dark .bp3-html-select.bp3-minimal select.bp3-intent-warning.bp3-disabled.bp3-active, .bp3-html-select.bp3-minimal .bp3-dark select.bp3-intent-warning.bp3-disabled.bp3-active,
        .bp3-dark .bp3-select.bp3-minimal select.bp3-intent-warning.bp3-disabled.bp3-active, .bp3-select.bp3-minimal .bp3-dark select.bp3-intent-warning.bp3-disabled.bp3-active{
          background:rgba(217, 130, 43, 0.3); }
  .bp3-html-select.bp3-minimal select.bp3-intent-danger,
  .bp3-select.bp3-minimal select.bp3-intent-danger{
    color:#c23030; }
    .bp3-html-select.bp3-minimal select.bp3-intent-danger:hover,
    .bp3-select.bp3-minimal select.bp3-intent-danger:hover, .bp3-html-select.bp3-minimal select.bp3-intent-danger:active,
    .bp3-select.bp3-minimal select.bp3-intent-danger:active, .bp3-html-select.bp3-minimal select.bp3-intent-danger.bp3-active,
    .bp3-select.bp3-minimal select.bp3-intent-danger.bp3-active{
      background:none;
      -webkit-box-shadow:none;
              box-shadow:none;
      color:#c23030; }
    .bp3-html-select.bp3-minimal select.bp3-intent-danger:hover,
    .bp3-select.bp3-minimal select.bp3-intent-danger:hover{
      background:rgba(219, 55, 55, 0.15);
      color:#c23030; }
    .bp3-html-select.bp3-minimal select.bp3-intent-danger:active,
    .bp3-select.bp3-minimal select.bp3-intent-danger:active, .bp3-html-select.bp3-minimal select.bp3-intent-danger.bp3-active,
    .bp3-select.bp3-minimal select.bp3-intent-danger.bp3-active{
      background:rgba(219, 55, 55, 0.3);
      color:#c23030; }
    .bp3-html-select.bp3-minimal select.bp3-intent-danger:disabled,
    .bp3-select.bp3-minimal select.bp3-intent-danger:disabled, .bp3-html-select.bp3-minimal select.bp3-intent-danger.bp3-disabled,
    .bp3-select.bp3-minimal select.bp3-intent-danger.bp3-disabled{
      background:none;
      color:rgba(194, 48, 48, 0.5); }
      .bp3-html-select.bp3-minimal select.bp3-intent-danger:disabled.bp3-active,
      .bp3-select.bp3-minimal select.bp3-intent-danger:disabled.bp3-active, .bp3-html-select.bp3-minimal select.bp3-intent-danger.bp3-disabled.bp3-active,
      .bp3-select.bp3-minimal select.bp3-intent-danger.bp3-disabled.bp3-active{
        background:rgba(219, 55, 55, 0.3); }
    .bp3-html-select.bp3-minimal select.bp3-intent-danger .bp3-button-spinner .bp3-spinner-head, .bp3-select.bp3-minimal select.bp3-intent-danger .bp3-button-spinner .bp3-spinner-head{
      stroke:#c23030; }
    .bp3-dark .bp3-html-select.bp3-minimal select.bp3-intent-danger, .bp3-html-select.bp3-minimal .bp3-dark select.bp3-intent-danger,
    .bp3-dark .bp3-select.bp3-minimal select.bp3-intent-danger, .bp3-select.bp3-minimal .bp3-dark select.bp3-intent-danger{
      color:#ff7373; }
      .bp3-dark .bp3-html-select.bp3-minimal select.bp3-intent-danger:hover, .bp3-html-select.bp3-minimal .bp3-dark select.bp3-intent-danger:hover,
      .bp3-dark .bp3-select.bp3-minimal select.bp3-intent-danger:hover, .bp3-select.bp3-minimal .bp3-dark select.bp3-intent-danger:hover{
        background:rgba(219, 55, 55, 0.2);
        color:#ff7373; }
      .bp3-dark .bp3-html-select.bp3-minimal select.bp3-intent-danger:active, .bp3-html-select.bp3-minimal .bp3-dark select.bp3-intent-danger:active,
      .bp3-dark .bp3-select.bp3-minimal select.bp3-intent-danger:active, .bp3-select.bp3-minimal .bp3-dark select.bp3-intent-danger:active, .bp3-dark .bp3-html-select.bp3-minimal select.bp3-intent-danger.bp3-active, .bp3-html-select.bp3-minimal .bp3-dark select.bp3-intent-danger.bp3-active,
      .bp3-dark .bp3-select.bp3-minimal select.bp3-intent-danger.bp3-active, .bp3-select.bp3-minimal .bp3-dark select.bp3-intent-danger.bp3-active{
        background:rgba(219, 55, 55, 0.3);
        color:#ff7373; }
      .bp3-dark .bp3-html-select.bp3-minimal select.bp3-intent-danger:disabled, .bp3-html-select.bp3-minimal .bp3-dark select.bp3-intent-danger:disabled,
      .bp3-dark .bp3-select.bp3-minimal select.bp3-intent-danger:disabled, .bp3-select.bp3-minimal .bp3-dark select.bp3-intent-danger:disabled, .bp3-dark .bp3-html-select.bp3-minimal select.bp3-intent-danger.bp3-disabled, .bp3-html-select.bp3-minimal .bp3-dark select.bp3-intent-danger.bp3-disabled,
      .bp3-dark .bp3-select.bp3-minimal select.bp3-intent-danger.bp3-disabled, .bp3-select.bp3-minimal .bp3-dark select.bp3-intent-danger.bp3-disabled{
        background:none;
        color:rgba(255, 115, 115, 0.5); }
        .bp3-dark .bp3-html-select.bp3-minimal select.bp3-intent-danger:disabled.bp3-active, .bp3-html-select.bp3-minimal .bp3-dark select.bp3-intent-danger:disabled.bp3-active,
        .bp3-dark .bp3-select.bp3-minimal select.bp3-intent-danger:disabled.bp3-active, .bp3-select.bp3-minimal .bp3-dark select.bp3-intent-danger:disabled.bp3-active, .bp3-dark .bp3-html-select.bp3-minimal select.bp3-intent-danger.bp3-disabled.bp3-active, .bp3-html-select.bp3-minimal .bp3-dark select.bp3-intent-danger.bp3-disabled.bp3-active,
        .bp3-dark .bp3-select.bp3-minimal select.bp3-intent-danger.bp3-disabled.bp3-active, .bp3-select.bp3-minimal .bp3-dark select.bp3-intent-danger.bp3-disabled.bp3-active{
          background:rgba(219, 55, 55, 0.3); }

.bp3-html-select.bp3-large select,
.bp3-select.bp3-large select{
  font-size:16px;
  height:40px;
  padding-right:35px; }

.bp3-dark .bp3-html-select select, .bp3-dark .bp3-select select{
  background-color:#394b59;
  background-image:-webkit-gradient(linear, left top, left bottom, from(rgba(255, 255, 255, 0.05)), to(rgba(255, 255, 255, 0)));
  background-image:linear-gradient(to bottom, rgba(255, 255, 255, 0.05), rgba(255, 255, 255, 0));
  -webkit-box-shadow:0 0 0 1px rgba(16, 22, 26, 0.4);
          box-shadow:0 0 0 1px rgba(16, 22, 26, 0.4);
  color:#f5f8fa; }
  .bp3-dark .bp3-html-select select:hover, .bp3-dark .bp3-select select:hover, .bp3-dark .bp3-html-select select:active, .bp3-dark .bp3-select select:active, .bp3-dark .bp3-html-select select.bp3-active, .bp3-dark .bp3-select select.bp3-active{
    color:#f5f8fa; }
  .bp3-dark .bp3-html-select select:hover, .bp3-dark .bp3-select select:hover{
    background-color:#30404d;
    -webkit-box-shadow:0 0 0 1px rgba(16, 22, 26, 0.4);
            box-shadow:0 0 0 1px rgba(16, 22, 26, 0.4); }
  .bp3-dark .bp3-html-select select:active, .bp3-dark .bp3-select select:active, .bp3-dark .bp3-html-select select.bp3-active, .bp3-dark .bp3-select select.bp3-active{
    background-color:#202b33;
    background-image:none;
    -webkit-box-shadow:0 0 0 1px rgba(16, 22, 26, 0.6), inset 0 1px 2px rgba(16, 22, 26, 0.2);
            box-shadow:0 0 0 1px rgba(16, 22, 26, 0.6), inset 0 1px 2px rgba(16, 22, 26, 0.2); }
  .bp3-dark .bp3-html-select select:disabled, .bp3-dark .bp3-select select:disabled, .bp3-dark .bp3-html-select select.bp3-disabled, .bp3-dark .bp3-select select.bp3-disabled{
    background-color:rgba(57, 75, 89, 0.5);
    background-image:none;
    -webkit-box-shadow:none;
            box-shadow:none;
    color:rgba(167, 182, 194, 0.6); }
    .bp3-dark .bp3-html-select select:disabled.bp3-active, .bp3-dark .bp3-select select:disabled.bp3-active, .bp3-dark .bp3-html-select select.bp3-disabled.bp3-active, .bp3-dark .bp3-select select.bp3-disabled.bp3-active{
      background:rgba(57, 75, 89, 0.7); }
  .bp3-dark .bp3-html-select select .bp3-button-spinner .bp3-spinner-head, .bp3-dark .bp3-select select .bp3-button-spinner .bp3-spinner-head{
    background:rgba(16, 22, 26, 0.5);
    stroke:#8a9ba8; }

.bp3-html-select select:disabled,
.bp3-select select:disabled{
  background-color:rgba(206, 217, 224, 0.5);
  -webkit-box-shadow:none;
          box-shadow:none;
  color:rgba(92, 112, 128, 0.6);
  cursor:not-allowed; }

.bp3-html-select .bp3-icon,
.bp3-select .bp3-icon, .bp3-select::after{
  color:#5c7080;
  pointer-events:none;
  position:absolute;
  right:7px;
  top:7px; }
  .bp3-html-select .bp3-disabled.bp3-icon,
  .bp3-select .bp3-disabled.bp3-icon, .bp3-disabled.bp3-select::after{
    color:rgba(92, 112, 128, 0.6); }
.bp3-html-select,
.bp3-select{
  display:inline-block;
  letter-spacing:normal;
  position:relative;
  vertical-align:middle; }
  .bp3-html-select select::-ms-expand,
  .bp3-select select::-ms-expand{
    display:none; }
  .bp3-html-select .bp3-icon,
  .bp3-select .bp3-icon{
    color:#5c7080; }
    .bp3-html-select .bp3-icon:hover,
    .bp3-select .bp3-icon:hover{
      color:#182026; }
    .bp3-dark .bp3-html-select .bp3-icon, .bp3-dark
    .bp3-select .bp3-icon{
      color:#a7b6c2; }
      .bp3-dark .bp3-html-select .bp3-icon:hover, .bp3-dark
      .bp3-select .bp3-icon:hover{
        color:#f5f8fa; }
  .bp3-html-select.bp3-large::after,
  .bp3-html-select.bp3-large .bp3-icon,
  .bp3-select.bp3-large::after,
  .bp3-select.bp3-large .bp3-icon{
    right:12px;
    top:12px; }
  .bp3-html-select.bp3-fill,
  .bp3-html-select.bp3-fill select,
  .bp3-select.bp3-fill,
  .bp3-select.bp3-fill select{
    width:100%; }
  .bp3-dark .bp3-html-select option, .bp3-dark
  .bp3-select option{
    background-color:#30404d;
    color:#f5f8fa; }
  .bp3-dark .bp3-html-select option:disabled, .bp3-dark
  .bp3-select option:disabled{
    color:rgba(167, 182, 194, 0.6); }
  .bp3-dark .bp3-html-select::after, .bp3-dark
  .bp3-select::after{
    color:#a7b6c2; }

.bp3-select::after{
  font-family:"Icons16", sans-serif;
  font-size:16px;
  font-style:normal;
  font-weight:400;
  line-height:1;
  -moz-osx-font-smoothing:grayscale;
  -webkit-font-smoothing:antialiased;
  content:""; }
.bp3-running-text table, table.bp3-html-table{
  border-spacing:0;
  font-size:14px; }
  .bp3-running-text table th, table.bp3-html-table th,
  .bp3-running-text table td,
  table.bp3-html-table td{
    padding:11px;
    text-align:left;
    vertical-align:top; }
  .bp3-running-text table th, table.bp3-html-table th{
    color:#182026;
    font-weight:600; }
  
  .bp3-running-text table td,
  table.bp3-html-table td{
    color:#182026; }
  .bp3-running-text table tbody tr:first-child th, table.bp3-html-table tbody tr:first-child th,
  .bp3-running-text table tbody tr:first-child td,
  table.bp3-html-table tbody tr:first-child td,
  .bp3-running-text table tfoot tr:first-child th,
  table.bp3-html-table tfoot tr:first-child th,
  .bp3-running-text table tfoot tr:first-child td,
  table.bp3-html-table tfoot tr:first-child td{
    -webkit-box-shadow:inset 0 1px 0 0 rgba(16, 22, 26, 0.15);
            box-shadow:inset 0 1px 0 0 rgba(16, 22, 26, 0.15); }
  .bp3-dark .bp3-running-text table th, .bp3-running-text .bp3-dark table th, .bp3-dark table.bp3-html-table th{
    color:#f5f8fa; }
  .bp3-dark .bp3-running-text table td, .bp3-running-text .bp3-dark table td, .bp3-dark table.bp3-html-table td{
    color:#f5f8fa; }
  .bp3-dark .bp3-running-text table tbody tr:first-child th, .bp3-running-text .bp3-dark table tbody tr:first-child th, .bp3-dark table.bp3-html-table tbody tr:first-child th,
  .bp3-dark .bp3-running-text table tbody tr:first-child td,
  .bp3-running-text .bp3-dark table tbody tr:first-child td,
  .bp3-dark table.bp3-html-table tbody tr:first-child td,
  .bp3-dark .bp3-running-text table tfoot tr:first-child th,
  .bp3-running-text .bp3-dark table tfoot tr:first-child th,
  .bp3-dark table.bp3-html-table tfoot tr:first-child th,
  .bp3-dark .bp3-running-text table tfoot tr:first-child td,
  .bp3-running-text .bp3-dark table tfoot tr:first-child td,
  .bp3-dark table.bp3-html-table tfoot tr:first-child td{
    -webkit-box-shadow:inset 0 1px 0 0 rgba(255, 255, 255, 0.15);
            box-shadow:inset 0 1px 0 0 rgba(255, 255, 255, 0.15); }

table.bp3-html-table.bp3-html-table-condensed th,
table.bp3-html-table.bp3-html-table-condensed td, table.bp3-html-table.bp3-small th,
table.bp3-html-table.bp3-small td{
  padding-bottom:6px;
  padding-top:6px; }

table.bp3-html-table.bp3-html-table-striped tbody tr:nth-child(odd) td{
  background:rgba(191, 204, 214, 0.15); }

table.bp3-html-table.bp3-html-table-bordered th:not(:first-child){
  -webkit-box-shadow:inset 1px 0 0 0 rgba(16, 22, 26, 0.15);
          box-shadow:inset 1px 0 0 0 rgba(16, 22, 26, 0.15); }

table.bp3-html-table.bp3-html-table-bordered tbody tr td,
table.bp3-html-table.bp3-html-table-bordered tfoot tr td{
  -webkit-box-shadow:inset 0 1px 0 0 rgba(16, 22, 26, 0.15);
          box-shadow:inset 0 1px 0 0 rgba(16, 22, 26, 0.15); }
  table.bp3-html-table.bp3-html-table-bordered tbody tr td:not(:first-child),
  table.bp3-html-table.bp3-html-table-bordered tfoot tr td:not(:first-child){
    -webkit-box-shadow:inset 1px 1px 0 0 rgba(16, 22, 26, 0.15);
            box-shadow:inset 1px 1px 0 0 rgba(16, 22, 26, 0.15); }

table.bp3-html-table.bp3-html-table-bordered.bp3-html-table-striped tbody tr:not(:first-child) td{
  -webkit-box-shadow:none;
          box-shadow:none; }
  table.bp3-html-table.bp3-html-table-bordered.bp3-html-table-striped tbody tr:not(:first-child) td:not(:first-child){
    -webkit-box-shadow:inset 1px 0 0 0 rgba(16, 22, 26, 0.15);
            box-shadow:inset 1px 0 0 0 rgba(16, 22, 26, 0.15); }

table.bp3-html-table.bp3-interactive tbody tr:hover td{
  background-color:rgba(191, 204, 214, 0.3);
  cursor:pointer; }

table.bp3-html-table.bp3-interactive tbody tr:active td{
  background-color:rgba(191, 204, 214, 0.4); }

.bp3-dark table.bp3-html-table{ }
  .bp3-dark table.bp3-html-table.bp3-html-table-striped tbody tr:nth-child(odd) td{
    background:rgba(92, 112, 128, 0.15); }
  .bp3-dark table.bp3-html-table.bp3-html-table-bordered th:not(:first-child){
    -webkit-box-shadow:inset 1px 0 0 0 rgba(255, 255, 255, 0.15);
            box-shadow:inset 1px 0 0 0 rgba(255, 255, 255, 0.15); }
  .bp3-dark table.bp3-html-table.bp3-html-table-bordered tbody tr td,
  .bp3-dark table.bp3-html-table.bp3-html-table-bordered tfoot tr td{
    -webkit-box-shadow:inset 0 1px 0 0 rgba(255, 255, 255, 0.15);
            box-shadow:inset 0 1px 0 0 rgba(255, 255, 255, 0.15); }
    .bp3-dark table.bp3-html-table.bp3-html-table-bordered tbody tr td:not(:first-child),
    .bp3-dark table.bp3-html-table.bp3-html-table-bordered tfoot tr td:not(:first-child){
      -webkit-box-shadow:inset 1px 1px 0 0 rgba(255, 255, 255, 0.15);
              box-shadow:inset 1px 1px 0 0 rgba(255, 255, 255, 0.15); }
  .bp3-dark table.bp3-html-table.bp3-html-table-bordered.bp3-html-table-striped tbody tr:not(:first-child) td{
    -webkit-box-shadow:inset 1px 0 0 0 rgba(255, 255, 255, 0.15);
            box-shadow:inset 1px 0 0 0 rgba(255, 255, 255, 0.15); }
    .bp3-dark table.bp3-html-table.bp3-html-table-bordered.bp3-html-table-striped tbody tr:not(:first-child) td:first-child{
      -webkit-box-shadow:none;
              box-shadow:none; }
  .bp3-dark table.bp3-html-table.bp3-interactive tbody tr:hover td{
    background-color:rgba(92, 112, 128, 0.3);
    cursor:pointer; }
  .bp3-dark table.bp3-html-table.bp3-interactive tbody tr:active td{
    background-color:rgba(92, 112, 128, 0.4); }

.bp3-key-combo{
  display:-webkit-box;
  display:-ms-flexbox;
  display:flex;
  -webkit-box-orient:horizontal;
  -webkit-box-direction:normal;
      -ms-flex-direction:row;
          flex-direction:row;
  -webkit-box-align:center;
      -ms-flex-align:center;
          align-items:center; }
  .bp3-key-combo > *{
    -webkit-box-flex:0;
        -ms-flex-positive:0;
            flex-grow:0;
    -ms-flex-negative:0;
        flex-shrink:0; }
  .bp3-key-combo > .bp3-fill{
    -webkit-box-flex:1;
        -ms-flex-positive:1;
            flex-grow:1;
    -ms-flex-negative:1;
        flex-shrink:1; }
  .bp3-key-combo::before,
  .bp3-key-combo > *{
    margin-right:5px; }
  .bp3-key-combo:empty::before,
  .bp3-key-combo > :last-child{
    margin-right:0; }

.bp3-hotkey-dialog{
  padding-bottom:0;
  top:40px; }
  .bp3-hotkey-dialog .bp3-dialog-body{
    margin:0;
    padding:0; }
  .bp3-hotkey-dialog .bp3-hotkey-label{
    -webkit-box-flex:1;
        -ms-flex-positive:1;
            flex-grow:1; }

.bp3-hotkey-column{
  margin:auto;
  max-height:80vh;
  overflow-y:auto;
  padding:30px; }
  .bp3-hotkey-column .bp3-heading{
    margin-bottom:20px; }
    .bp3-hotkey-column .bp3-heading:not(:first-child){
      margin-top:40px; }

.bp3-hotkey{
  -webkit-box-align:center;
      -ms-flex-align:center;
          align-items:center;
  display:-webkit-box;
  display:-ms-flexbox;
  display:flex;
  -webkit-box-pack:justify;
      -ms-flex-pack:justify;
          justify-content:space-between;
  margin-left:0;
  margin-right:0; }
  .bp3-hotkey:not(:last-child){
    margin-bottom:10px; }
.bp3-icon{
  display:inline-block;
  -webkit-box-flex:0;
      -ms-flex:0 0 auto;
          flex:0 0 auto;
  vertical-align:text-bottom; }
  .bp3-icon:not(:empty)::before{
    content:"" !important;
    content:unset !important; }
  .bp3-icon > svg{
    display:block; }
    .bp3-icon > svg:not([fill]){
      fill:currentColor; }

.bp3-icon.bp3-intent-primary, .bp3-icon-standard.bp3-intent-primary, .bp3-icon-large.bp3-intent-primary{
  color:#106ba3; }
  .bp3-dark .bp3-icon.bp3-intent-primary, .bp3-dark .bp3-icon-standard.bp3-intent-primary, .bp3-dark .bp3-icon-large.bp3-intent-primary{
    color:#48aff0; }

.bp3-icon.bp3-intent-success, .bp3-icon-standard.bp3-intent-success, .bp3-icon-large.bp3-intent-success{
  color:#0d8050; }
  .bp3-dark .bp3-icon.bp3-intent-success, .bp3-dark .bp3-icon-standard.bp3-intent-success, .bp3-dark .bp3-icon-large.bp3-intent-success{
    color:#3dcc91; }

.bp3-icon.bp3-intent-warning, .bp3-icon-standard.bp3-intent-warning, .bp3-icon-large.bp3-intent-warning{
  color:#bf7326; }
  .bp3-dark .bp3-icon.bp3-intent-warning, .bp3-dark .bp3-icon-standard.bp3-intent-warning, .bp3-dark .bp3-icon-large.bp3-intent-warning{
    color:#ffb366; }

.bp3-icon.bp3-intent-danger, .bp3-icon-standard.bp3-intent-danger, .bp3-icon-large.bp3-intent-danger{
  color:#c23030; }
  .bp3-dark .bp3-icon.bp3-intent-danger, .bp3-dark .bp3-icon-standard.bp3-intent-danger, .bp3-dark .bp3-icon-large.bp3-intent-danger{
    color:#ff7373; }

span.bp3-icon-standard{
  font-family:"Icons16", sans-serif;
  font-size:16px;
  font-style:normal;
  font-weight:400;
  line-height:1;
  -moz-osx-font-smoothing:grayscale;
  -webkit-font-smoothing:antialiased;
  display:inline-block; }

span.bp3-icon-large{
  font-family:"Icons20", sans-serif;
  font-size:20px;
  font-style:normal;
  font-weight:400;
  line-height:1;
  -moz-osx-font-smoothing:grayscale;
  -webkit-font-smoothing:antialiased;
  display:inline-block; }

span.bp3-icon:empty{
  font-family:"Icons20";
  font-size:inherit;
  font-style:normal;
  font-weight:400;
  line-height:1; }
  span.bp3-icon:empty::before{
    -moz-osx-font-smoothing:grayscale;
    -webkit-font-smoothing:antialiased; }

.bp3-icon-add::before{
  content:""; }

.bp3-icon-add-column-left::before{
  content:""; }

.bp3-icon-add-column-right::before{
  content:""; }

.bp3-icon-add-row-bottom::before{
  content:""; }

.bp3-icon-add-row-top::before{
  content:""; }

.bp3-icon-add-to-artifact::before{
  content:""; }

.bp3-icon-add-to-folder::before{
  content:""; }

.bp3-icon-airplane::before{
  content:""; }

.bp3-icon-align-center::before{
  content:""; }

.bp3-icon-align-justify::before{
  content:""; }

.bp3-icon-align-left::before{
  content:""; }

.bp3-icon-align-right::before{
  content:""; }

.bp3-icon-alignment-bottom::before{
  content:""; }

.bp3-icon-alignment-horizontal-center::before{
  content:""; }

.bp3-icon-alignment-left::before{
  content:""; }

.bp3-icon-alignment-right::before{
  content:""; }

.bp3-icon-alignment-top::before{
  content:""; }

.bp3-icon-alignment-vertical-center::before{
  content:""; }

.bp3-icon-annotation::before{
  content:""; }

.bp3-icon-application::before{
  content:""; }

.bp3-icon-applications::before{
  content:""; }

.bp3-icon-archive::before{
  content:""; }

.bp3-icon-arrow-bottom-left::before{
  content:"↙"; }

.bp3-icon-arrow-bottom-right::before{
  content:"↘"; }

.bp3-icon-arrow-down::before{
  content:"↓"; }

.bp3-icon-arrow-left::before{
  content:"←"; }

.bp3-icon-arrow-right::before{
  content:"→"; }

.bp3-icon-arrow-top-left::before{
  content:"↖"; }

.bp3-icon-arrow-top-right::before{
  content:"↗"; }

.bp3-icon-arrow-up::before{
  content:"↑"; }

.bp3-icon-arrows-horizontal::before{
  content:"↔"; }

.bp3-icon-arrows-vertical::before{
  content:"↕"; }

.bp3-icon-asterisk::before{
  content:"*"; }

.bp3-icon-automatic-updates::before{
  content:""; }

.bp3-icon-badge::before{
  content:""; }

.bp3-icon-ban-circle::before{
  content:""; }

.bp3-icon-bank-account::before{
  content:""; }

.bp3-icon-barcode::before{
  content:""; }

.bp3-icon-blank::before{
  content:""; }

.bp3-icon-blocked-person::before{
  content:""; }

.bp3-icon-bold::before{
  content:""; }

.bp3-icon-book::before{
  content:""; }

.bp3-icon-bookmark::before{
  content:""; }

.bp3-icon-box::before{
  content:""; }

.bp3-icon-briefcase::before{
  content:""; }

.bp3-icon-bring-data::before{
  content:""; }

.bp3-icon-build::before{
  content:""; }

.bp3-icon-calculator::before{
  content:""; }

.bp3-icon-calendar::before{
  content:""; }

.bp3-icon-camera::before{
  content:""; }

.bp3-icon-caret-down::before{
  content:"⌄"; }

.bp3-icon-caret-left::before{
  content:"〈"; }

.bp3-icon-caret-right::before{
  content:"〉"; }

.bp3-icon-caret-up::before{
  content:"⌃"; }

.bp3-icon-cell-tower::before{
  content:""; }

.bp3-icon-changes::before{
  content:""; }

.bp3-icon-chart::before{
  content:""; }

.bp3-icon-chat::before{
  content:""; }

.bp3-icon-chevron-backward::before{
  content:""; }

.bp3-icon-chevron-down::before{
  content:""; }

.bp3-icon-chevron-forward::before{
  content:""; }

.bp3-icon-chevron-left::before{
  content:""; }

.bp3-icon-chevron-right::before{
  content:""; }

.bp3-icon-chevron-up::before{
  content:""; }

.bp3-icon-circle::before{
  content:""; }

.bp3-icon-circle-arrow-down::before{
  content:""; }

.bp3-icon-circle-arrow-left::before{
  content:""; }

.bp3-icon-circle-arrow-right::before{
  content:""; }

.bp3-icon-circle-arrow-up::before{
  content:""; }

.bp3-icon-citation::before{
  content:""; }

.bp3-icon-clean::before{
  content:""; }

.bp3-icon-clipboard::before{
  content:""; }

.bp3-icon-cloud::before{
  content:"☁"; }

.bp3-icon-cloud-download::before{
  content:""; }

.bp3-icon-cloud-upload::before{
  content:""; }

.bp3-icon-code::before{
  content:""; }

.bp3-icon-code-block::before{
  content:""; }

.bp3-icon-cog::before{
  content:""; }

.bp3-icon-collapse-all::before{
  content:""; }

.bp3-icon-column-layout::before{
  content:""; }

.bp3-icon-comment::before{
  content:""; }

.bp3-icon-comparison::before{
  content:""; }

.bp3-icon-compass::before{
  content:""; }

.bp3-icon-compressed::before{
  content:""; }

.bp3-icon-confirm::before{
  content:""; }

.bp3-icon-console::before{
  content:""; }

.bp3-icon-contrast::before{
  content:""; }

.bp3-icon-control::before{
  content:""; }

.bp3-icon-credit-card::before{
  content:""; }

.bp3-icon-cross::before{
  content:"✗"; }

.bp3-icon-crown::before{
  content:""; }

.bp3-icon-cube::before{
  content:""; }

.bp3-icon-cube-add::before{
  content:""; }

.bp3-icon-cube-remove::before{
  content:""; }

.bp3-icon-curved-range-chart::before{
  content:""; }

.bp3-icon-cut::before{
  content:""; }

.bp3-icon-dashboard::before{
  content:""; }

.bp3-icon-data-lineage::before{
  content:""; }

.bp3-icon-database::before{
  content:""; }

.bp3-icon-delete::before{
  content:""; }

.bp3-icon-delta::before{
  content:"Δ"; }

.bp3-icon-derive-column::before{
  content:""; }

.bp3-icon-desktop::before{
  content:""; }

.bp3-icon-diagnosis::before{
  content:""; }

.bp3-icon-diagram-tree::before{
  content:""; }

.bp3-icon-direction-left::before{
  content:""; }

.bp3-icon-direction-right::before{
  content:""; }

.bp3-icon-disable::before{
  content:""; }

.bp3-icon-document::before{
  content:""; }

.bp3-icon-document-open::before{
  content:""; }

.bp3-icon-document-share::before{
  content:""; }

.bp3-icon-dollar::before{
  content:"$"; }

.bp3-icon-dot::before{
  content:"•"; }

.bp3-icon-double-caret-horizontal::before{
  content:""; }

.bp3-icon-double-caret-vertical::before{
  content:""; }

.bp3-icon-double-chevron-down::before{
  content:""; }

.bp3-icon-double-chevron-left::before{
  content:""; }

.bp3-icon-double-chevron-right::before{
  content:""; }

.bp3-icon-double-chevron-up::before{
  content:""; }

.bp3-icon-doughnut-chart::before{
  content:""; }

.bp3-icon-download::before{
  content:""; }

.bp3-icon-drag-handle-horizontal::before{
  content:""; }

.bp3-icon-drag-handle-vertical::before{
  content:""; }

.bp3-icon-draw::before{
  content:""; }

.bp3-icon-drive-time::before{
  content:""; }

.bp3-icon-duplicate::before{
  content:""; }

.bp3-icon-edit::before{
  content:"✎"; }

.bp3-icon-eject::before{
  content:"⏏"; }

.bp3-icon-endorsed::before{
  content:""; }

.bp3-icon-envelope::before{
  content:"✉"; }

.bp3-icon-equals::before{
  content:""; }

.bp3-icon-eraser::before{
  content:""; }

.bp3-icon-error::before{
  content:""; }

.bp3-icon-euro::before{
  content:"€"; }

.bp3-icon-exchange::before{
  content:""; }

.bp3-icon-exclude-row::before{
  content:""; }

.bp3-icon-expand-all::before{
  content:""; }

.bp3-icon-export::before{
  content:""; }

.bp3-icon-eye-off::before{
  content:""; }

.bp3-icon-eye-on::before{
  content:""; }

.bp3-icon-eye-open::before{
  content:""; }

.bp3-icon-fast-backward::before{
  content:""; }

.bp3-icon-fast-forward::before{
  content:""; }

.bp3-icon-feed::before{
  content:""; }

.bp3-icon-feed-subscribed::before{
  content:""; }

.bp3-icon-film::before{
  content:""; }

.bp3-icon-filter::before{
  content:""; }

.bp3-icon-filter-keep::before{
  content:""; }

.bp3-icon-filter-list::before{
  content:""; }

.bp3-icon-filter-open::before{
  content:""; }

.bp3-icon-filter-remove::before{
  content:""; }

.bp3-icon-flag::before{
  content:"⚑"; }

.bp3-icon-flame::before{
  content:""; }

.bp3-icon-flash::before{
  content:""; }

.bp3-icon-floppy-disk::before{
  content:""; }

.bp3-icon-flow-branch::before{
  content:""; }

.bp3-icon-flow-end::before{
  content:""; }

.bp3-icon-flow-linear::before{
  content:""; }

.bp3-icon-flow-review::before{
  content:""; }

.bp3-icon-flow-review-branch::before{
  content:""; }

.bp3-icon-flows::before{
  content:""; }

.bp3-icon-folder-close::before{
  content:""; }

.bp3-icon-folder-new::before{
  content:""; }

.bp3-icon-folder-open::before{
  content:""; }

.bp3-icon-folder-shared::before{
  content:""; }

.bp3-icon-folder-shared-open::before{
  content:""; }

.bp3-icon-follower::before{
  content:""; }

.bp3-icon-following::before{
  content:""; }

.bp3-icon-font::before{
  content:""; }

.bp3-icon-fork::before{
  content:""; }

.bp3-icon-form::before{
  content:""; }

.bp3-icon-full-circle::before{
  content:""; }

.bp3-icon-full-stacked-chart::before{
  content:""; }

.bp3-icon-fullscreen::before{
  content:""; }

.bp3-icon-function::before{
  content:""; }

.bp3-icon-gantt-chart::before{
  content:""; }

.bp3-icon-geolocation::before{
  content:""; }

.bp3-icon-geosearch::before{
  content:""; }

.bp3-icon-git-branch::before{
  content:""; }

.bp3-icon-git-commit::before{
  content:""; }

.bp3-icon-git-merge::before{
  content:""; }

.bp3-icon-git-new-branch::before{
  content:""; }

.bp3-icon-git-pull::before{
  content:""; }

.bp3-icon-git-push::before{
  content:""; }

.bp3-icon-git-repo::before{
  content:""; }

.bp3-icon-glass::before{
  content:""; }

.bp3-icon-globe::before{
  content:""; }

.bp3-icon-globe-network::before{
  content:""; }

.bp3-icon-graph::before{
  content:""; }

.bp3-icon-graph-remove::before{
  content:""; }

.bp3-icon-greater-than::before{
  content:""; }

.bp3-icon-greater-than-or-equal-to::before{
  content:""; }

.bp3-icon-grid::before{
  content:""; }

.bp3-icon-grid-view::before{
  content:""; }

.bp3-icon-group-objects::before{
  content:""; }

.bp3-icon-grouped-bar-chart::before{
  content:""; }

.bp3-icon-hand::before{
  content:""; }

.bp3-icon-hand-down::before{
  content:""; }

.bp3-icon-hand-left::before{
  content:""; }

.bp3-icon-hand-right::before{
  content:""; }

.bp3-icon-hand-up::before{
  content:""; }

.bp3-icon-header::before{
  content:""; }

.bp3-icon-header-one::before{
  content:""; }

.bp3-icon-header-two::before{
  content:""; }

.bp3-icon-headset::before{
  content:""; }

.bp3-icon-heart::before{
  content:"♥"; }

.bp3-icon-heart-broken::before{
  content:""; }

.bp3-icon-heat-grid::before{
  content:""; }

.bp3-icon-heatmap::before{
  content:""; }

.bp3-icon-help::before{
  content:"?"; }

.bp3-icon-helper-management::before{
  content:""; }

.bp3-icon-highlight::before{
  content:""; }

.bp3-icon-history::before{
  content:""; }

.bp3-icon-home::before{
  content:"⌂"; }

.bp3-icon-horizontal-bar-chart::before{
  content:""; }

.bp3-icon-horizontal-bar-chart-asc::before{
  content:""; }

.bp3-icon-horizontal-bar-chart-desc::before{
  content:""; }

.bp3-icon-horizontal-distribution::before{
  content:""; }

.bp3-icon-id-number::before{
  content:""; }

.bp3-icon-image-rotate-left::before{
  content:""; }

.bp3-icon-image-rotate-right::before{
  content:""; }

.bp3-icon-import::before{
  content:""; }

.bp3-icon-inbox::before{
  content:""; }

.bp3-icon-inbox-filtered::before{
  content:""; }

.bp3-icon-inbox-geo::before{
  content:""; }

.bp3-icon-inbox-search::before{
  content:""; }

.bp3-icon-inbox-update::before{
  content:""; }

.bp3-icon-info-sign::before{
  content:"ℹ"; }

.bp3-icon-inheritance::before{
  content:""; }

.bp3-icon-inner-join::before{
  content:""; }

.bp3-icon-insert::before{
  content:""; }

.bp3-icon-intersection::before{
  content:""; }

.bp3-icon-ip-address::before{
  content:""; }

.bp3-icon-issue::before{
  content:""; }

.bp3-icon-issue-closed::before{
  content:""; }

.bp3-icon-issue-new::before{
  content:""; }

.bp3-icon-italic::before{
  content:""; }

.bp3-icon-join-table::before{
  content:""; }

.bp3-icon-key::before{
  content:""; }

.bp3-icon-key-backspace::before{
  content:""; }

.bp3-icon-key-command::before{
  content:""; }

.bp3-icon-key-control::before{
  content:""; }

.bp3-icon-key-delete::before{
  content:""; }

.bp3-icon-key-enter::before{
  content:""; }

.bp3-icon-key-escape::before{
  content:""; }

.bp3-icon-key-option::before{
  content:""; }

.bp3-icon-key-shift::before{
  content:""; }

.bp3-icon-key-tab::before{
  content:""; }

.bp3-icon-known-vehicle::before{
  content:""; }

.bp3-icon-lab-test::before{
  content:""; }

.bp3-icon-label::before{
  content:""; }

.bp3-icon-layer::before{
  content:""; }

.bp3-icon-layers::before{
  content:""; }

.bp3-icon-layout::before{
  content:""; }

.bp3-icon-layout-auto::before{
  content:""; }

.bp3-icon-layout-balloon::before{
  content:""; }

.bp3-icon-layout-circle::before{
  content:""; }

.bp3-icon-layout-grid::before{
  content:""; }

.bp3-icon-layout-group-by::before{
  content:""; }

.bp3-icon-layout-hierarchy::before{
  content:""; }

.bp3-icon-layout-linear::before{
  content:""; }

.bp3-icon-layout-skew-grid::before{
  content:""; }

.bp3-icon-layout-sorted-clusters::before{
  content:""; }

.bp3-icon-learning::before{
  content:""; }

.bp3-icon-left-join::before{
  content:""; }

.bp3-icon-less-than::before{
  content:""; }

.bp3-icon-less-than-or-equal-to::before{
  content:""; }

.bp3-icon-lifesaver::before{
  content:""; }

.bp3-icon-lightbulb::before{
  content:""; }

.bp3-icon-link::before{
  content:""; }

.bp3-icon-list::before{
  content:"☰"; }

.bp3-icon-list-columns::before{
  content:""; }

.bp3-icon-list-detail-view::before{
  content:""; }

.bp3-icon-locate::before{
  content:""; }

.bp3-icon-lock::before{
  content:""; }

.bp3-icon-log-in::before{
  content:""; }

.bp3-icon-log-out::before{
  content:""; }

.bp3-icon-manual::before{
  content:""; }

.bp3-icon-manually-entered-data::before{
  content:""; }

.bp3-icon-map::before{
  content:""; }

.bp3-icon-map-create::before{
  content:""; }

.bp3-icon-map-marker::before{
  content:""; }

.bp3-icon-maximize::before{
  content:""; }

.bp3-icon-media::before{
  content:""; }

.bp3-icon-menu::before{
  content:""; }

.bp3-icon-menu-closed::before{
  content:""; }

.bp3-icon-menu-open::before{
  content:""; }

.bp3-icon-merge-columns::before{
  content:""; }

.bp3-icon-merge-links::before{
  content:""; }

.bp3-icon-minimize::before{
  content:""; }

.bp3-icon-minus::before{
  content:"−"; }

.bp3-icon-mobile-phone::before{
  content:""; }

.bp3-icon-mobile-video::before{
  content:""; }

.bp3-icon-moon::before{
  content:""; }

.bp3-icon-more::before{
  content:""; }

.bp3-icon-mountain::before{
  content:""; }

.bp3-icon-move::before{
  content:""; }

.bp3-icon-mugshot::before{
  content:""; }

.bp3-icon-multi-select::before{
  content:""; }

.bp3-icon-music::before{
  content:""; }

.bp3-icon-new-drawing::before{
  content:""; }

.bp3-icon-new-grid-item::before{
  content:""; }

.bp3-icon-new-layer::before{
  content:""; }

.bp3-icon-new-layers::before{
  content:""; }

.bp3-icon-new-link::before{
  content:""; }

.bp3-icon-new-object::before{
  content:""; }

.bp3-icon-new-person::before{
  content:""; }

.bp3-icon-new-prescription::before{
  content:""; }

.bp3-icon-new-text-box::before{
  content:""; }

.bp3-icon-ninja::before{
  content:""; }

.bp3-icon-not-equal-to::before{
  content:""; }

.bp3-icon-notifications::before{
  content:""; }

.bp3-icon-notifications-updated::before{
  content:""; }

.bp3-icon-numbered-list::before{
  content:""; }

.bp3-icon-numerical::before{
  content:""; }

.bp3-icon-office::before{
  content:""; }

.bp3-icon-offline::before{
  content:""; }

.bp3-icon-oil-field::before{
  content:""; }

.bp3-icon-one-column::before{
  content:""; }

.bp3-icon-outdated::before{
  content:""; }

.bp3-icon-page-layout::before{
  content:""; }

.bp3-icon-panel-stats::before{
  content:""; }

.bp3-icon-panel-table::before{
  content:""; }

.bp3-icon-paperclip::before{
  content:""; }

.bp3-icon-paragraph::before{
  content:""; }

.bp3-icon-path::before{
  content:""; }

.bp3-icon-path-search::before{
  content:""; }

.bp3-icon-pause::before{
  content:""; }

.bp3-icon-people::before{
  content:""; }

.bp3-icon-percentage::before{
  content:""; }

.bp3-icon-person::before{
  content:""; }

.bp3-icon-phone::before{
  content:"☎"; }

.bp3-icon-pie-chart::before{
  content:""; }

.bp3-icon-pin::before{
  content:""; }

.bp3-icon-pivot::before{
  content:""; }

.bp3-icon-pivot-table::before{
  content:""; }

.bp3-icon-play::before{
  content:""; }

.bp3-icon-plus::before{
  content:"+"; }

.bp3-icon-polygon-filter::before{
  content:""; }

.bp3-icon-power::before{
  content:""; }

.bp3-icon-predictive-analysis::before{
  content:""; }

.bp3-icon-prescription::before{
  content:""; }

.bp3-icon-presentation::before{
  content:""; }

.bp3-icon-print::before{
  content:"⎙"; }

.bp3-icon-projects::before{
  content:""; }

.bp3-icon-properties::before{
  content:""; }

.bp3-icon-property::before{
  content:""; }

.bp3-icon-publish-function::before{
  content:""; }

.bp3-icon-pulse::before{
  content:""; }

.bp3-icon-random::before{
  content:""; }

.bp3-icon-record::before{
  content:""; }

.bp3-icon-redo::before{
  content:""; }

.bp3-icon-refresh::before{
  content:""; }

.bp3-icon-regression-chart::before{
  content:""; }

.bp3-icon-remove::before{
  content:""; }

.bp3-icon-remove-column::before{
  content:""; }

.bp3-icon-remove-column-left::before{
  content:""; }

.bp3-icon-remove-column-right::before{
  content:""; }

.bp3-icon-remove-row-bottom::before{
  content:""; }

.bp3-icon-remove-row-top::before{
  content:""; }

.bp3-icon-repeat::before{
  content:""; }

.bp3-icon-reset::before{
  content:""; }

.bp3-icon-resolve::before{
  content:""; }

.bp3-icon-rig::before{
  content:""; }

.bp3-icon-right-join::before{
  content:""; }

.bp3-icon-ring::before{
  content:""; }

.bp3-icon-rotate-document::before{
  content:""; }

.bp3-icon-rotate-page::before{
  content:""; }

.bp3-icon-satellite::before{
  content:""; }

.bp3-icon-saved::before{
  content:""; }

.bp3-icon-scatter-plot::before{
  content:""; }

.bp3-icon-search::before{
  content:""; }

.bp3-icon-search-around::before{
  content:""; }

.bp3-icon-search-template::before{
  content:""; }

.bp3-icon-search-text::before{
  content:""; }

.bp3-icon-segmented-control::before{
  content:""; }

.bp3-icon-select::before{
  content:""; }

.bp3-icon-selection::before{
  content:"⦿"; }

.bp3-icon-send-to::before{
  content:""; }

.bp3-icon-send-to-graph::before{
  content:""; }

.bp3-icon-send-to-map::before{
  content:""; }

.bp3-icon-series-add::before{
  content:""; }

.bp3-icon-series-configuration::before{
  content:""; }

.bp3-icon-series-derived::before{
  content:""; }

.bp3-icon-series-filtered::before{
  content:""; }

.bp3-icon-series-search::before{
  content:""; }

.bp3-icon-settings::before{
  content:""; }

.bp3-icon-share::before{
  content:""; }

.bp3-icon-shield::before{
  content:""; }

.bp3-icon-shop::before{
  content:""; }

.bp3-icon-shopping-cart::before{
  content:""; }

.bp3-icon-signal-search::before{
  content:""; }

.bp3-icon-sim-card::before{
  content:""; }

.bp3-icon-slash::before{
  content:""; }

.bp3-icon-small-cross::before{
  content:""; }

.bp3-icon-small-minus::before{
  content:""; }

.bp3-icon-small-plus::before{
  content:""; }

.bp3-icon-small-tick::before{
  content:""; }

.bp3-icon-snowflake::before{
  content:""; }

.bp3-icon-social-media::before{
  content:""; }

.bp3-icon-sort::before{
  content:""; }

.bp3-icon-sort-alphabetical::before{
  content:""; }

.bp3-icon-sort-alphabetical-desc::before{
  content:""; }

.bp3-icon-sort-asc::before{
  content:""; }

.bp3-icon-sort-desc::before{
  content:""; }

.bp3-icon-sort-numerical::before{
  content:""; }

.bp3-icon-sort-numerical-desc::before{
  content:""; }

.bp3-icon-split-columns::before{
  content:""; }

.bp3-icon-square::before{
  content:""; }

.bp3-icon-stacked-chart::before{
  content:""; }

.bp3-icon-star::before{
  content:"★"; }

.bp3-icon-star-empty::before{
  content:"☆"; }

.bp3-icon-step-backward::before{
  content:""; }

.bp3-icon-step-chart::before{
  content:""; }

.bp3-icon-step-forward::before{
  content:""; }

.bp3-icon-stop::before{
  content:""; }

.bp3-icon-stopwatch::before{
  content:""; }

.bp3-icon-strikethrough::before{
  content:""; }

.bp3-icon-style::before{
  content:""; }

.bp3-icon-swap-horizontal::before{
  content:""; }

.bp3-icon-swap-vertical::before{
  content:""; }

.bp3-icon-symbol-circle::before{
  content:""; }

.bp3-icon-symbol-cross::before{
  content:""; }

.bp3-icon-symbol-diamond::before{
  content:""; }

.bp3-icon-symbol-square::before{
  content:""; }

.bp3-icon-symbol-triangle-down::before{
  content:""; }

.bp3-icon-symbol-triangle-up::before{
  content:""; }

.bp3-icon-tag::before{
  content:""; }

.bp3-icon-take-action::before{
  content:""; }

.bp3-icon-taxi::before{
  content:""; }

.bp3-icon-text-highlight::before{
  content:""; }

.bp3-icon-th::before{
  content:""; }

.bp3-icon-th-derived::before{
  content:""; }

.bp3-icon-th-disconnect::before{
  content:""; }

.bp3-icon-th-filtered::before{
  content:""; }

.bp3-icon-th-list::before{
  content:""; }

.bp3-icon-thumbs-down::before{
  content:""; }

.bp3-icon-thumbs-up::before{
  content:""; }

.bp3-icon-tick::before{
  content:"✓"; }

.bp3-icon-tick-circle::before{
  content:""; }

.bp3-icon-time::before{
  content:"⏲"; }

.bp3-icon-timeline-area-chart::before{
  content:""; }

.bp3-icon-timeline-bar-chart::before{
  content:""; }

.bp3-icon-timeline-events::before{
  content:""; }

.bp3-icon-timeline-line-chart::before{
  content:""; }

.bp3-icon-tint::before{
  content:""; }

.bp3-icon-torch::before{
  content:""; }

.bp3-icon-tractor::before{
  content:""; }

.bp3-icon-train::before{
  content:""; }

.bp3-icon-translate::before{
  content:""; }

.bp3-icon-trash::before{
  content:""; }

.bp3-icon-tree::before{
  content:""; }

.bp3-icon-trending-down::before{
  content:""; }

.bp3-icon-trending-up::before{
  content:""; }

.bp3-icon-truck::before{
  content:""; }

.bp3-icon-two-columns::before{
  content:""; }

.bp3-icon-unarchive::before{
  content:""; }

.bp3-icon-underline::before{
  content:"⎁"; }

.bp3-icon-undo::before{
  content:"⎌"; }

.bp3-icon-ungroup-objects::before{
  content:""; }

.bp3-icon-unknown-vehicle::before{
  content:""; }

.bp3-icon-unlock::before{
  content:""; }

.bp3-icon-unpin::before{
  content:""; }

.bp3-icon-unresolve::before{
  content:""; }

.bp3-icon-updated::before{
  content:""; }

.bp3-icon-upload::before{
  content:""; }

.bp3-icon-user::before{
  content:""; }

.bp3-icon-variable::before{
  content:""; }

.bp3-icon-vertical-bar-chart-asc::before{
  content:""; }

.bp3-icon-vertical-bar-chart-desc::before{
  content:""; }

.bp3-icon-vertical-distribution::before{
  content:""; }

.bp3-icon-video::before{
  content:""; }

.bp3-icon-volume-down::before{
  content:""; }

.bp3-icon-volume-off::before{
  content:""; }

.bp3-icon-volume-up::before{
  content:""; }

.bp3-icon-walk::before{
  content:""; }

.bp3-icon-warning-sign::before{
  content:""; }

.bp3-icon-waterfall-chart::before{
  content:""; }

.bp3-icon-widget::before{
  content:""; }

.bp3-icon-widget-button::before{
  content:""; }

.bp3-icon-widget-footer::before{
  content:""; }

.bp3-icon-widget-header::before{
  content:""; }

.bp3-icon-wrench::before{
  content:""; }

.bp3-icon-zoom-in::before{
  content:""; }

.bp3-icon-zoom-out::before{
  content:""; }

.bp3-icon-zoom-to-fit::before{
  content:""; }
.bp3-submenu > .bp3-popover-wrapper{
  display:block; }

.bp3-submenu .bp3-popover-target{
  display:block; }
  .bp3-submenu .bp3-popover-target.bp3-popover-open > .bp3-menu-item{ }

.bp3-submenu.bp3-popover{
  -webkit-box-shadow:none;
          box-shadow:none;
  padding:0 5px; }
  .bp3-submenu.bp3-popover > .bp3-popover-content{
    -webkit-box-shadow:0 0 0 1px rgba(16, 22, 26, 0.1), 0 2px 4px rgba(16, 22, 26, 0.2), 0 8px 24px rgba(16, 22, 26, 0.2);
            box-shadow:0 0 0 1px rgba(16, 22, 26, 0.1), 0 2px 4px rgba(16, 22, 26, 0.2), 0 8px 24px rgba(16, 22, 26, 0.2); }
  .bp3-dark .bp3-submenu.bp3-popover, .bp3-submenu.bp3-popover.bp3-dark{
    -webkit-box-shadow:none;
            box-shadow:none; }
    .bp3-dark .bp3-submenu.bp3-popover > .bp3-popover-content, .bp3-submenu.bp3-popover.bp3-dark > .bp3-popover-content{
      -webkit-box-shadow:0 0 0 1px rgba(16, 22, 26, 0.2), 0 2px 4px rgba(16, 22, 26, 0.4), 0 8px 24px rgba(16, 22, 26, 0.4);
              box-shadow:0 0 0 1px rgba(16, 22, 26, 0.2), 0 2px 4px rgba(16, 22, 26, 0.4), 0 8px 24px rgba(16, 22, 26, 0.4); }
.bp3-menu{
  background:#ffffff;
  border-radius:3px;
  color:#182026;
  list-style:none;
  margin:0;
  min-width:180px;
  padding:5px;
  text-align:left; }

.bp3-menu-divider{
  border-top:1px solid rgba(16, 22, 26, 0.15);
  display:block;
  margin:5px; }
  .bp3-dark .bp3-menu-divider{
    border-top-color:rgba(255, 255, 255, 0.15); }

.bp3-menu-item{
  display:-webkit-box;
  display:-ms-flexbox;
  display:flex;
  -webkit-box-orient:horizontal;
  -webkit-box-direction:normal;
      -ms-flex-direction:row;
          flex-direction:row;
  -webkit-box-align:start;
      -ms-flex-align:start;
          align-items:flex-start;
  border-radius:2px;
  color:inherit;
  line-height:20px;
  padding:5px 7px;
  text-decoration:none;
  -webkit-user-select:none;
     -moz-user-select:none;
      -ms-user-select:none;
          user-select:none; }
  .bp3-menu-item > *{
    -webkit-box-flex:0;
        -ms-flex-positive:0;
            flex-grow:0;
    -ms-flex-negative:0;
        flex-shrink:0; }
  .bp3-menu-item > .bp3-fill{
    -webkit-box-flex:1;
        -ms-flex-positive:1;
            flex-grow:1;
    -ms-flex-negative:1;
        flex-shrink:1; }
  .bp3-menu-item::before,
  .bp3-menu-item > *{
    margin-right:7px; }
  .bp3-menu-item:empty::before,
  .bp3-menu-item > :last-child{
    margin-right:0; }
  .bp3-menu-item > .bp3-fill{
    word-break:break-word; }
  .bp3-menu-item:hover, .bp3-submenu .bp3-popover-target.bp3-popover-open > .bp3-menu-item{
    background-color:rgba(167, 182, 194, 0.3);
    cursor:pointer;
    text-decoration:none; }
  .bp3-menu-item.bp3-disabled{
    background-color:inherit;
    color:rgba(92, 112, 128, 0.6);
    cursor:not-allowed; }
  .bp3-dark .bp3-menu-item{
    color:inherit; }
    .bp3-dark .bp3-menu-item:hover, .bp3-dark .bp3-submenu .bp3-popover-target.bp3-popover-open > .bp3-menu-item, .bp3-submenu .bp3-dark .bp3-popover-target.bp3-popover-open > .bp3-menu-item{
      background-color:rgba(138, 155, 168, 0.15);
      color:inherit; }
    .bp3-dark .bp3-menu-item.bp3-disabled{
      background-color:inherit;
      color:rgba(167, 182, 194, 0.6); }
  .bp3-menu-item.bp3-intent-primary{
    color:#106ba3; }
    .bp3-menu-item.bp3-intent-primary .bp3-icon{
      color:inherit; }
    .bp3-menu-item.bp3-intent-primary::before, .bp3-menu-item.bp3-intent-primary::after,
    .bp3-menu-item.bp3-intent-primary .bp3-menu-item-label{
      color:#106ba3; }
    .bp3-menu-item.bp3-intent-primary:hover, .bp3-submenu .bp3-popover-target.bp3-popover-open > .bp3-intent-primary.bp3-menu-item, .bp3-menu-item.bp3-intent-primary.bp3-active{
      background-color:#137cbd; }
    .bp3-menu-item.bp3-intent-primary:active{
      background-color:#106ba3; }
    .bp3-menu-item.bp3-intent-primary:hover, .bp3-submenu .bp3-popover-target.bp3-popover-open > .bp3-intent-primary.bp3-menu-item, .bp3-menu-item.bp3-intent-primary:hover::before, .bp3-submenu .bp3-popover-target.bp3-popover-open > .bp3-intent-primary.bp3-menu-item::before, .bp3-menu-item.bp3-intent-primary:hover::after, .bp3-submenu .bp3-popover-target.bp3-popover-open > .bp3-intent-primary.bp3-menu-item::after,
    .bp3-menu-item.bp3-intent-primary:hover .bp3-menu-item-label,
    .bp3-submenu .bp3-popover-target.bp3-popover-open > .bp3-intent-primary.bp3-menu-item .bp3-menu-item-label, .bp3-menu-item.bp3-intent-primary:active, .bp3-menu-item.bp3-intent-primary:active::before, .bp3-menu-item.bp3-intent-primary:active::after,
    .bp3-menu-item.bp3-intent-primary:active .bp3-menu-item-label, .bp3-menu-item.bp3-intent-primary.bp3-active, .bp3-menu-item.bp3-intent-primary.bp3-active::before, .bp3-menu-item.bp3-intent-primary.bp3-active::after,
    .bp3-menu-item.bp3-intent-primary.bp3-active .bp3-menu-item-label{
      color:#ffffff; }
  .bp3-menu-item.bp3-intent-success{
    color:#0d8050; }
    .bp3-menu-item.bp3-intent-success .bp3-icon{
      color:inherit; }
    .bp3-menu-item.bp3-intent-success::before, .bp3-menu-item.bp3-intent-success::after,
    .bp3-menu-item.bp3-intent-success .bp3-menu-item-label{
      color:#0d8050; }
    .bp3-menu-item.bp3-intent-success:hover, .bp3-submenu .bp3-popover-target.bp3-popover-open > .bp3-intent-success.bp3-menu-item, .bp3-menu-item.bp3-intent-success.bp3-active{
      background-color:#0f9960; }
    .bp3-menu-item.bp3-intent-success:active{
      background-color:#0d8050; }
    .bp3-menu-item.bp3-intent-success:hover, .bp3-submenu .bp3-popover-target.bp3-popover-open > .bp3-intent-success.bp3-menu-item, .bp3-menu-item.bp3-intent-success:hover::before, .bp3-submenu .bp3-popover-target.bp3-popover-open > .bp3-intent-success.bp3-menu-item::before, .bp3-menu-item.bp3-intent-success:hover::after, .bp3-submenu .bp3-popover-target.bp3-popover-open > .bp3-intent-success.bp3-menu-item::after,
    .bp3-menu-item.bp3-intent-success:hover .bp3-menu-item-label,
    .bp3-submenu .bp3-popover-target.bp3-popover-open > .bp3-intent-success.bp3-menu-item .bp3-menu-item-label, .bp3-menu-item.bp3-intent-success:active, .bp3-menu-item.bp3-intent-success:active::before, .bp3-menu-item.bp3-intent-success:active::after,
    .bp3-menu-item.bp3-intent-success:active .bp3-menu-item-label, .bp3-menu-item.bp3-intent-success.bp3-active, .bp3-menu-item.bp3-intent-success.bp3-active::before, .bp3-menu-item.bp3-intent-success.bp3-active::after,
    .bp3-menu-item.bp3-intent-success.bp3-active .bp3-menu-item-label{
      color:#ffffff; }
  .bp3-menu-item.bp3-intent-warning{
    color:#bf7326; }
    .bp3-menu-item.bp3-intent-warning .bp3-icon{
      color:inherit; }
    .bp3-menu-item.bp3-intent-warning::before, .bp3-menu-item.bp3-intent-warning::after,
    .bp3-menu-item.bp3-intent-warning .bp3-menu-item-label{
      color:#bf7326; }
    .bp3-menu-item.bp3-intent-warning:hover, .bp3-submenu .bp3-popover-target.bp3-popover-open > .bp3-intent-warning.bp3-menu-item, .bp3-menu-item.bp3-intent-warning.bp3-active{
      background-color:#d9822b; }
    .bp3-menu-item.bp3-intent-warning:active{
      background-color:#bf7326; }
    .bp3-menu-item.bp3-intent-warning:hover, .bp3-submenu .bp3-popover-target.bp3-popover-open > .bp3-intent-warning.bp3-menu-item, .bp3-menu-item.bp3-intent-warning:hover::before, .bp3-submenu .bp3-popover-target.bp3-popover-open > .bp3-intent-warning.bp3-menu-item::before, .bp3-menu-item.bp3-intent-warning:hover::after, .bp3-submenu .bp3-popover-target.bp3-popover-open > .bp3-intent-warning.bp3-menu-item::after,
    .bp3-menu-item.bp3-intent-warning:hover .bp3-menu-item-label,
    .bp3-submenu .bp3-popover-target.bp3-popover-open > .bp3-intent-warning.bp3-menu-item .bp3-menu-item-label, .bp3-menu-item.bp3-intent-warning:active, .bp3-menu-item.bp3-intent-warning:active::before, .bp3-menu-item.bp3-intent-warning:active::after,
    .bp3-menu-item.bp3-intent-warning:active .bp3-menu-item-label, .bp3-menu-item.bp3-intent-warning.bp3-active, .bp3-menu-item.bp3-intent-warning.bp3-active::before, .bp3-menu-item.bp3-intent-warning.bp3-active::after,
    .bp3-menu-item.bp3-intent-warning.bp3-active .bp3-menu-item-label{
      color:#ffffff; }
  .bp3-menu-item.bp3-intent-danger{
    color:#c23030; }
    .bp3-menu-item.bp3-intent-danger .bp3-icon{
      color:inherit; }
    .bp3-menu-item.bp3-intent-danger::before, .bp3-menu-item.bp3-intent-danger::after,
    .bp3-menu-item.bp3-intent-danger .bp3-menu-item-label{
      color:#c23030; }
    .bp3-menu-item.bp3-intent-danger:hover, .bp3-submenu .bp3-popover-target.bp3-popover-open > .bp3-intent-danger.bp3-menu-item, .bp3-menu-item.bp3-intent-danger.bp3-active{
      background-color:#db3737; }
    .bp3-menu-item.bp3-intent-danger:active{
      background-color:#c23030; }
    .bp3-menu-item.bp3-intent-danger:hover, .bp3-submenu .bp3-popover-target.bp3-popover-open > .bp3-intent-danger.bp3-menu-item, .bp3-menu-item.bp3-intent-danger:hover::before, .bp3-submenu .bp3-popover-target.bp3-popover-open > .bp3-intent-danger.bp3-menu-item::before, .bp3-menu-item.bp3-intent-danger:hover::after, .bp3-submenu .bp3-popover-target.bp3-popover-open > .bp3-intent-danger.bp3-menu-item::after,
    .bp3-menu-item.bp3-intent-danger:hover .bp3-menu-item-label,
    .bp3-submenu .bp3-popover-target.bp3-popover-open > .bp3-intent-danger.bp3-menu-item .bp3-menu-item-label, .bp3-menu-item.bp3-intent-danger:active, .bp3-menu-item.bp3-intent-danger:active::before, .bp3-menu-item.bp3-intent-danger:active::after,
    .bp3-menu-item.bp3-intent-danger:active .bp3-menu-item-label, .bp3-menu-item.bp3-intent-danger.bp3-active, .bp3-menu-item.bp3-intent-danger.bp3-active::before, .bp3-menu-item.bp3-intent-danger.bp3-active::after,
    .bp3-menu-item.bp3-intent-danger.bp3-active .bp3-menu-item-label{
      color:#ffffff; }
  .bp3-menu-item::before{
    font-family:"Icons16", sans-serif;
    font-size:16px;
    font-style:normal;
    font-weight:400;
    line-height:1;
    -moz-osx-font-smoothing:grayscale;
    -webkit-font-smoothing:antialiased;
    margin-right:7px; }
  .bp3-menu-item::before,
  .bp3-menu-item > .bp3-icon{
    color:#5c7080;
    margin-top:2px; }
  .bp3-menu-item .bp3-menu-item-label{
    color:#5c7080; }
  .bp3-menu-item:hover, .bp3-submenu .bp3-popover-target.bp3-popover-open > .bp3-menu-item{
    color:inherit; }
  .bp3-menu-item.bp3-active, .bp3-menu-item:active{
    background-color:rgba(115, 134, 148, 0.3); }
  .bp3-menu-item.bp3-disabled{
    background-color:inherit !important;
    color:rgba(92, 112, 128, 0.6) !important;
    cursor:not-allowed !important;
    outline:none !important; }
    .bp3-menu-item.bp3-disabled::before,
    .bp3-menu-item.bp3-disabled > .bp3-icon,
    .bp3-menu-item.bp3-disabled .bp3-menu-item-label{
      color:rgba(92, 112, 128, 0.6) !important; }
  .bp3-large .bp3-menu-item{
    font-size:16px;
    line-height:22px;
    padding:9px 7px; }
    .bp3-large .bp3-menu-item .bp3-icon{
      margin-top:3px; }
    .bp3-large .bp3-menu-item::before{
      font-family:"Icons20", sans-serif;
      font-size:20px;
      font-style:normal;
      font-weight:400;
      line-height:1;
      -moz-osx-font-smoothing:grayscale;
      -webkit-font-smoothing:antialiased;
      margin-right:10px;
      margin-top:1px; }

button.bp3-menu-item{
  background:none;
  border:none;
  text-align:left;
  width:100%; }
.bp3-menu-header{
  border-top:1px solid rgba(16, 22, 26, 0.15);
  display:block;
  margin:5px;
  cursor:default;
  padding-left:2px; }
  .bp3-dark .bp3-menu-header{
    border-top-color:rgba(255, 255, 255, 0.15); }
  .bp3-menu-header:first-of-type{
    border-top:none; }
  .bp3-menu-header > h6{
    color:#182026;
    font-weight:600;
    overflow:hidden;
    text-overflow:ellipsis;
    white-space:nowrap;
    word-wrap:normal;
    line-height:17px;
    margin:0;
    padding:10px 7px 0 1px; }
    .bp3-dark .bp3-menu-header > h6{
      color:#f5f8fa; }
  .bp3-menu-header:first-of-type > h6{
    padding-top:0; }
  .bp3-large .bp3-menu-header > h6{
    font-size:18px;
    padding-bottom:5px;
    padding-top:15px; }
  .bp3-large .bp3-menu-header:first-of-type > h6{
    padding-top:0; }

.bp3-dark .bp3-menu{
  background:#30404d;
  color:#f5f8fa; }

.bp3-dark .bp3-menu-item{ }
  .bp3-dark .bp3-menu-item.bp3-intent-primary{
    color:#48aff0; }
    .bp3-dark .bp3-menu-item.bp3-intent-primary .bp3-icon{
      color:inherit; }
    .bp3-dark .bp3-menu-item.bp3-intent-primary::before, .bp3-dark .bp3-menu-item.bp3-intent-primary::after,
    .bp3-dark .bp3-menu-item.bp3-intent-primary .bp3-menu-item-label{
      color:#48aff0; }
    .bp3-dark .bp3-menu-item.bp3-intent-primary:hover, .bp3-dark .bp3-submenu .bp3-popover-target.bp3-popover-open > .bp3-intent-primary.bp3-menu-item, .bp3-submenu .bp3-dark .bp3-popover-target.bp3-popover-open > .bp3-intent-primary.bp3-menu-item, .bp3-dark .bp3-menu-item.bp3-intent-primary.bp3-active{
      background-color:#137cbd; }
    .bp3-dark .bp3-menu-item.bp3-intent-primary:active{
      background-color:#106ba3; }
    .bp3-dark .bp3-menu-item.bp3-intent-primary:hover, .bp3-dark .bp3-submenu .bp3-popover-target.bp3-popover-open > .bp3-intent-primary.bp3-menu-item, .bp3-submenu .bp3-dark .bp3-popover-target.bp3-popover-open > .bp3-intent-primary.bp3-menu-item, .bp3-dark .bp3-menu-item.bp3-intent-primary:hover::before, .bp3-dark .bp3-submenu .bp3-popover-target.bp3-popover-open > .bp3-intent-primary.bp3-menu-item::before, .bp3-submenu .bp3-dark .bp3-popover-target.bp3-popover-open > .bp3-intent-primary.bp3-menu-item::before, .bp3-dark .bp3-menu-item.bp3-intent-primary:hover::after, .bp3-dark .bp3-submenu .bp3-popover-target.bp3-popover-open > .bp3-intent-primary.bp3-menu-item::after, .bp3-submenu .bp3-dark .bp3-popover-target.bp3-popover-open > .bp3-intent-primary.bp3-menu-item::after,
    .bp3-dark .bp3-menu-item.bp3-intent-primary:hover .bp3-menu-item-label,
    .bp3-dark .bp3-submenu .bp3-popover-target.bp3-popover-open > .bp3-intent-primary.bp3-menu-item .bp3-menu-item-label,
    .bp3-submenu .bp3-dark .bp3-popover-target.bp3-popover-open > .bp3-intent-primary.bp3-menu-item .bp3-menu-item-label, .bp3-dark .bp3-menu-item.bp3-intent-primary:active, .bp3-dark .bp3-menu-item.bp3-intent-primary:active::before, .bp3-dark .bp3-menu-item.bp3-intent-primary:active::after,
    .bp3-dark .bp3-menu-item.bp3-intent-primary:active .bp3-menu-item-label, .bp3-dark .bp3-menu-item.bp3-intent-primary.bp3-active, .bp3-dark .bp3-menu-item.bp3-intent-primary.bp3-active::before, .bp3-dark .bp3-menu-item.bp3-intent-primary.bp3-active::after,
    .bp3-dark .bp3-menu-item.bp3-intent-primary.bp3-active .bp3-menu-item-label{
      color:#ffffff; }
  .bp3-dark .bp3-menu-item.bp3-intent-success{
    color:#3dcc91; }
    .bp3-dark .bp3-menu-item.bp3-intent-success .bp3-icon{
      color:inherit; }
    .bp3-dark .bp3-menu-item.bp3-intent-success::before, .bp3-dark .bp3-menu-item.bp3-intent-success::after,
    .bp3-dark .bp3-menu-item.bp3-intent-success .bp3-menu-item-label{
      color:#3dcc91; }
    .bp3-dark .bp3-menu-item.bp3-intent-success:hover, .bp3-dark .bp3-submenu .bp3-popover-target.bp3-popover-open > .bp3-intent-success.bp3-menu-item, .bp3-submenu .bp3-dark .bp3-popover-target.bp3-popover-open > .bp3-intent-success.bp3-menu-item, .bp3-dark .bp3-menu-item.bp3-intent-success.bp3-active{
      background-color:#0f9960; }
    .bp3-dark .bp3-menu-item.bp3-intent-success:active{
      background-color:#0d8050; }
    .bp3-dark .bp3-menu-item.bp3-intent-success:hover, .bp3-dark .bp3-submenu .bp3-popover-target.bp3-popover-open > .bp3-intent-success.bp3-menu-item, .bp3-submenu .bp3-dark .bp3-popover-target.bp3-popover-open > .bp3-intent-success.bp3-menu-item, .bp3-dark .bp3-menu-item.bp3-intent-success:hover::before, .bp3-dark .bp3-submenu .bp3-popover-target.bp3-popover-open > .bp3-intent-success.bp3-menu-item::before, .bp3-submenu .bp3-dark .bp3-popover-target.bp3-popover-open > .bp3-intent-success.bp3-menu-item::before, .bp3-dark .bp3-menu-item.bp3-intent-success:hover::after, .bp3-dark .bp3-submenu .bp3-popover-target.bp3-popover-open > .bp3-intent-success.bp3-menu-item::after, .bp3-submenu .bp3-dark .bp3-popover-target.bp3-popover-open > .bp3-intent-success.bp3-menu-item::after,
    .bp3-dark .bp3-menu-item.bp3-intent-success:hover .bp3-menu-item-label,
    .bp3-dark .bp3-submenu .bp3-popover-target.bp3-popover-open > .bp3-intent-success.bp3-menu-item .bp3-menu-item-label,
    .bp3-submenu .bp3-dark .bp3-popover-target.bp3-popover-open > .bp3-intent-success.bp3-menu-item .bp3-menu-item-label, .bp3-dark .bp3-menu-item.bp3-intent-success:active, .bp3-dark .bp3-menu-item.bp3-intent-success:active::before, .bp3-dark .bp3-menu-item.bp3-intent-success:active::after,
    .bp3-dark .bp3-menu-item.bp3-intent-success:active .bp3-menu-item-label, .bp3-dark .bp3-menu-item.bp3-intent-success.bp3-active, .bp3-dark .bp3-menu-item.bp3-intent-success.bp3-active::before, .bp3-dark .bp3-menu-item.bp3-intent-success.bp3-active::after,
    .bp3-dark .bp3-menu-item.bp3-intent-success.bp3-active .bp3-menu-item-label{
      color:#ffffff; }
  .bp3-dark .bp3-menu-item.bp3-intent-warning{
    color:#ffb366; }
    .bp3-dark .bp3-menu-item.bp3-intent-warning .bp3-icon{
      color:inherit; }
    .bp3-dark .bp3-menu-item.bp3-intent-warning::before, .bp3-dark .bp3-menu-item.bp3-intent-warning::after,
    .bp3-dark .bp3-menu-item.bp3-intent-warning .bp3-menu-item-label{
      color:#ffb366; }
    .bp3-dark .bp3-menu-item.bp3-intent-warning:hover, .bp3-dark .bp3-submenu .bp3-popover-target.bp3-popover-open > .bp3-intent-warning.bp3-menu-item, .bp3-submenu .bp3-dark .bp3-popover-target.bp3-popover-open > .bp3-intent-warning.bp3-menu-item, .bp3-dark .bp3-menu-item.bp3-intent-warning.bp3-active{
      background-color:#d9822b; }
    .bp3-dark .bp3-menu-item.bp3-intent-warning:active{
      background-color:#bf7326; }
    .bp3-dark .bp3-menu-item.bp3-intent-warning:hover, .bp3-dark .bp3-submenu .bp3-popover-target.bp3-popover-open > .bp3-intent-warning.bp3-menu-item, .bp3-submenu .bp3-dark .bp3-popover-target.bp3-popover-open > .bp3-intent-warning.bp3-menu-item, .bp3-dark .bp3-menu-item.bp3-intent-warning:hover::before, .bp3-dark .bp3-submenu .bp3-popover-target.bp3-popover-open > .bp3-intent-warning.bp3-menu-item::before, .bp3-submenu .bp3-dark .bp3-popover-target.bp3-popover-open > .bp3-intent-warning.bp3-menu-item::before, .bp3-dark .bp3-menu-item.bp3-intent-warning:hover::after, .bp3-dark .bp3-submenu .bp3-popover-target.bp3-popover-open > .bp3-intent-warning.bp3-menu-item::after, .bp3-submenu .bp3-dark .bp3-popover-target.bp3-popover-open > .bp3-intent-warning.bp3-menu-item::after,
    .bp3-dark .bp3-menu-item.bp3-intent-warning:hover .bp3-menu-item-label,
    .bp3-dark .bp3-submenu .bp3-popover-target.bp3-popover-open > .bp3-intent-warning.bp3-menu-item .bp3-menu-item-label,
    .bp3-submenu .bp3-dark .bp3-popover-target.bp3-popover-open > .bp3-intent-warning.bp3-menu-item .bp3-menu-item-label, .bp3-dark .bp3-menu-item.bp3-intent-warning:active, .bp3-dark .bp3-menu-item.bp3-intent-warning:active::before, .bp3-dark .bp3-menu-item.bp3-intent-warning:active::after,
    .bp3-dark .bp3-menu-item.bp3-intent-warning:active .bp3-menu-item-label, .bp3-dark .bp3-menu-item.bp3-intent-warning.bp3-active, .bp3-dark .bp3-menu-item.bp3-intent-warning.bp3-active::before, .bp3-dark .bp3-menu-item.bp3-intent-warning.bp3-active::after,
    .bp3-dark .bp3-menu-item.bp3-intent-warning.bp3-active .bp3-menu-item-label{
      color:#ffffff; }
  .bp3-dark .bp3-menu-item.bp3-intent-danger{
    color:#ff7373; }
    .bp3-dark .bp3-menu-item.bp3-intent-danger .bp3-icon{
      color:inherit; }
    .bp3-dark .bp3-menu-item.bp3-intent-danger::before, .bp3-dark .bp3-menu-item.bp3-intent-danger::after,
    .bp3-dark .bp3-menu-item.bp3-intent-danger .bp3-menu-item-label{
      color:#ff7373; }
    .bp3-dark .bp3-menu-item.bp3-intent-danger:hover, .bp3-dark .bp3-submenu .bp3-popover-target.bp3-popover-open > .bp3-intent-danger.bp3-menu-item, .bp3-submenu .bp3-dark .bp3-popover-target.bp3-popover-open > .bp3-intent-danger.bp3-menu-item, .bp3-dark .bp3-menu-item.bp3-intent-danger.bp3-active{
      background-color:#db3737; }
    .bp3-dark .bp3-menu-item.bp3-intent-danger:active{
      background-color:#c23030; }
    .bp3-dark .bp3-menu-item.bp3-intent-danger:hover, .bp3-dark .bp3-submenu .bp3-popover-target.bp3-popover-open > .bp3-intent-danger.bp3-menu-item, .bp3-submenu .bp3-dark .bp3-popover-target.bp3-popover-open > .bp3-intent-danger.bp3-menu-item, .bp3-dark .bp3-menu-item.bp3-intent-danger:hover::before, .bp3-dark .bp3-submenu .bp3-popover-target.bp3-popover-open > .bp3-intent-danger.bp3-menu-item::before, .bp3-submenu .bp3-dark .bp3-popover-target.bp3-popover-open > .bp3-intent-danger.bp3-menu-item::before, .bp3-dark .bp3-menu-item.bp3-intent-danger:hover::after, .bp3-dark .bp3-submenu .bp3-popover-target.bp3-popover-open > .bp3-intent-danger.bp3-menu-item::after, .bp3-submenu .bp3-dark .bp3-popover-target.bp3-popover-open > .bp3-intent-danger.bp3-menu-item::after,
    .bp3-dark .bp3-menu-item.bp3-intent-danger:hover .bp3-menu-item-label,
    .bp3-dark .bp3-submenu .bp3-popover-target.bp3-popover-open > .bp3-intent-danger.bp3-menu-item .bp3-menu-item-label,
    .bp3-submenu .bp3-dark .bp3-popover-target.bp3-popover-open > .bp3-intent-danger.bp3-menu-item .bp3-menu-item-label, .bp3-dark .bp3-menu-item.bp3-intent-danger:active, .bp3-dark .bp3-menu-item.bp3-intent-danger:active::before, .bp3-dark .bp3-menu-item.bp3-intent-danger:active::after,
    .bp3-dark .bp3-menu-item.bp3-intent-danger:active .bp3-menu-item-label, .bp3-dark .bp3-menu-item.bp3-intent-danger.bp3-active, .bp3-dark .bp3-menu-item.bp3-intent-danger.bp3-active::before, .bp3-dark .bp3-menu-item.bp3-intent-danger.bp3-active::after,
    .bp3-dark .bp3-menu-item.bp3-intent-danger.bp3-active .bp3-menu-item-label{
      color:#ffffff; }
  .bp3-dark .bp3-menu-item::before,
  .bp3-dark .bp3-menu-item > .bp3-icon{
    color:#a7b6c2; }
  .bp3-dark .bp3-menu-item .bp3-menu-item-label{
    color:#a7b6c2; }
  .bp3-dark .bp3-menu-item.bp3-active, .bp3-dark .bp3-menu-item:active{
    background-color:rgba(138, 155, 168, 0.3); }
  .bp3-dark .bp3-menu-item.bp3-disabled{
    color:rgba(167, 182, 194, 0.6) !important; }
    .bp3-dark .bp3-menu-item.bp3-disabled::before,
    .bp3-dark .bp3-menu-item.bp3-disabled > .bp3-icon,
    .bp3-dark .bp3-menu-item.bp3-disabled .bp3-menu-item-label{
      color:rgba(167, 182, 194, 0.6) !important; }

.bp3-dark .bp3-menu-divider,
.bp3-dark .bp3-menu-header{
  border-color:rgba(255, 255, 255, 0.15); }

.bp3-dark .bp3-menu-header > h6{
  color:#f5f8fa; }

.bp3-label .bp3-menu{
  margin-top:5px; }
.bp3-navbar{
  background-color:#ffffff;
  -webkit-box-shadow:0 0 0 1px rgba(16, 22, 26, 0.1), 0 0 0 rgba(16, 22, 26, 0), 0 1px 1px rgba(16, 22, 26, 0.2);
          box-shadow:0 0 0 1px rgba(16, 22, 26, 0.1), 0 0 0 rgba(16, 22, 26, 0), 0 1px 1px rgba(16, 22, 26, 0.2);
  height:50px;
  padding:0 15px;
  position:relative;
  width:100%;
  z-index:10; }
  .bp3-navbar.bp3-dark,
  .bp3-dark .bp3-navbar{
    background-color:#394b59; }
  .bp3-navbar.bp3-dark{
    -webkit-box-shadow:inset 0 0 0 1px rgba(16, 22, 26, 0.2), 0 0 0 rgba(16, 22, 26, 0), 0 1px 1px rgba(16, 22, 26, 0.4);
            box-shadow:inset 0 0 0 1px rgba(16, 22, 26, 0.2), 0 0 0 rgba(16, 22, 26, 0), 0 1px 1px rgba(16, 22, 26, 0.4); }
  .bp3-dark .bp3-navbar{
    -webkit-box-shadow:0 0 0 1px rgba(16, 22, 26, 0.2), 0 0 0 rgba(16, 22, 26, 0), 0 1px 1px rgba(16, 22, 26, 0.4);
            box-shadow:0 0 0 1px rgba(16, 22, 26, 0.2), 0 0 0 rgba(16, 22, 26, 0), 0 1px 1px rgba(16, 22, 26, 0.4); }
  .bp3-navbar.bp3-fixed-top{
    left:0;
    position:fixed;
    right:0;
    top:0; }

.bp3-navbar-heading{
  font-size:16px;
  margin-right:15px; }

.bp3-navbar-group{
  -webkit-box-align:center;
      -ms-flex-align:center;
          align-items:center;
  display:-webkit-box;
  display:-ms-flexbox;
  display:flex;
  height:50px; }
  .bp3-navbar-group.bp3-align-left{
    float:left; }
  .bp3-navbar-group.bp3-align-right{
    float:right; }

.bp3-navbar-divider{
  border-left:1px solid rgba(16, 22, 26, 0.15);
  height:20px;
  margin:0 10px; }
  .bp3-dark .bp3-navbar-divider{
    border-left-color:rgba(255, 255, 255, 0.15); }
.bp3-non-ideal-state{
  display:-webkit-box;
  display:-ms-flexbox;
  display:flex;
  -webkit-box-orient:vertical;
  -webkit-box-direction:normal;
      -ms-flex-direction:column;
          flex-direction:column;
  -webkit-box-align:center;
      -ms-flex-align:center;
          align-items:center;
  height:100%;
  -webkit-box-pack:center;
      -ms-flex-pack:center;
          justify-content:center;
  text-align:center;
  width:100%; }
  .bp3-non-ideal-state > *{
    -webkit-box-flex:0;
        -ms-flex-positive:0;
            flex-grow:0;
    -ms-flex-negative:0;
        flex-shrink:0; }
  .bp3-non-ideal-state > .bp3-fill{
    -webkit-box-flex:1;
        -ms-flex-positive:1;
            flex-grow:1;
    -ms-flex-negative:1;
        flex-shrink:1; }
  .bp3-non-ideal-state::before,
  .bp3-non-ideal-state > *{
    margin-bottom:20px; }
  .bp3-non-ideal-state:empty::before,
  .bp3-non-ideal-state > :last-child{
    margin-bottom:0; }
  .bp3-non-ideal-state > *{
    max-width:400px; }

.bp3-non-ideal-state-visual{
  color:rgba(92, 112, 128, 0.6);
  font-size:60px; }
  .bp3-dark .bp3-non-ideal-state-visual{
    color:rgba(167, 182, 194, 0.6); }

.bp3-overflow-list{
  display:-webkit-box;
  display:-ms-flexbox;
  display:flex;
  -ms-flex-wrap:nowrap;
      flex-wrap:nowrap;
  min-width:0; }

.bp3-overflow-list-spacer{
  -ms-flex-negative:1;
      flex-shrink:1;
  width:1px; }

body.bp3-overlay-open{
  overflow:hidden; }

.bp3-overlay{
  bottom:0;
  left:0;
  position:static;
  right:0;
  top:0;
  z-index:20; }
  .bp3-overlay:not(.bp3-overlay-open){
    pointer-events:none; }
  .bp3-overlay.bp3-overlay-container{
    overflow:hidden;
    position:fixed; }
    .bp3-overlay.bp3-overlay-container.bp3-overlay-inline{
      position:absolute; }
  .bp3-overlay.bp3-overlay-scroll-container{
    overflow:auto;
    position:fixed; }
    .bp3-overlay.bp3-overlay-scroll-container.bp3-overlay-inline{
      position:absolute; }
  .bp3-overlay.bp3-overlay-inline{
    display:inline;
    overflow:visible; }

.bp3-overlay-content{
  position:fixed;
  z-index:20; }
  .bp3-overlay-inline .bp3-overlay-content,
  .bp3-overlay-scroll-container .bp3-overlay-content{
    position:absolute; }

.bp3-overlay-backdrop{
  bottom:0;
  left:0;
  position:fixed;
  right:0;
  top:0;
  opacity:1;
  background-color:rgba(16, 22, 26, 0.7);
  overflow:auto;
  -webkit-user-select:none;
     -moz-user-select:none;
      -ms-user-select:none;
          user-select:none;
  z-index:20; }
  .bp3-overlay-backdrop.bp3-overlay-enter, .bp3-overlay-backdrop.bp3-overlay-appear{
    opacity:0; }
  .bp3-overlay-backdrop.bp3-overlay-enter-active, .bp3-overlay-backdrop.bp3-overlay-appear-active{
    opacity:1;
    -webkit-transition-delay:0;
            transition-delay:0;
    -webkit-transition-duration:200ms;
            transition-duration:200ms;
    -webkit-transition-property:opacity;
    transition-property:opacity;
    -webkit-transition-timing-function:cubic-bezier(0.4, 1, 0.75, 0.9);
            transition-timing-function:cubic-bezier(0.4, 1, 0.75, 0.9); }
  .bp3-overlay-backdrop.bp3-overlay-exit{
    opacity:1; }
  .bp3-overlay-backdrop.bp3-overlay-exit-active{
    opacity:0;
    -webkit-transition-delay:0;
            transition-delay:0;
    -webkit-transition-duration:200ms;
            transition-duration:200ms;
    -webkit-transition-property:opacity;
    transition-property:opacity;
    -webkit-transition-timing-function:cubic-bezier(0.4, 1, 0.75, 0.9);
            transition-timing-function:cubic-bezier(0.4, 1, 0.75, 0.9); }
  .bp3-overlay-backdrop:focus{
    outline:none; }
  .bp3-overlay-inline .bp3-overlay-backdrop{
    position:absolute; }
.bp3-panel-stack{
  overflow:hidden;
  position:relative; }

.bp3-panel-stack-header{
  -webkit-box-align:center;
      -ms-flex-align:center;
          align-items:center;
  -webkit-box-shadow:0 1px rgba(16, 22, 26, 0.15);
          box-shadow:0 1px rgba(16, 22, 26, 0.15);
  display:-webkit-box;
  display:-ms-flexbox;
  display:flex;
  -ms-flex-negative:0;
      flex-shrink:0;
  height:30px;
  z-index:1; }
  .bp3-dark .bp3-panel-stack-header{
    -webkit-box-shadow:0 1px rgba(255, 255, 255, 0.15);
            box-shadow:0 1px rgba(255, 255, 255, 0.15); }
  .bp3-panel-stack-header > span{
    -webkit-box-align:stretch;
        -ms-flex-align:stretch;
            align-items:stretch;
    display:-webkit-box;
    display:-ms-flexbox;
    display:flex;
    -webkit-box-flex:1;
        -ms-flex:1;
            flex:1; }
  .bp3-panel-stack-header .bp3-heading{
    margin:0 5px; }

.bp3-button.bp3-panel-stack-header-back{
  margin-left:5px;
  padding-left:0;
  white-space:nowrap; }
  .bp3-button.bp3-panel-stack-header-back .bp3-icon{
    margin:0 2px; }

.bp3-panel-stack-view{
  bottom:0;
  left:0;
  position:absolute;
  right:0;
  top:0;
  background-color:#ffffff;
  border-right:1px solid rgba(16, 22, 26, 0.15);
  display:-webkit-box;
  display:-ms-flexbox;
  display:flex;
  -webkit-box-orient:vertical;
  -webkit-box-direction:normal;
      -ms-flex-direction:column;
          flex-direction:column;
  margin-right:-1px;
  overflow-y:auto;
  z-index:1; }
  .bp3-dark .bp3-panel-stack-view{
    background-color:#30404d; }
  .bp3-panel-stack-view:nth-last-child(n + 4){
    display:none; }

.bp3-panel-stack-push .bp3-panel-stack-enter, .bp3-panel-stack-push .bp3-panel-stack-appear{
  -webkit-transform:translateX(100%);
          transform:translateX(100%);
  opacity:0; }

.bp3-panel-stack-push .bp3-panel-stack-enter-active, .bp3-panel-stack-push .bp3-panel-stack-appear-active{
  -webkit-transform:translate(0%);
          transform:translate(0%);
  opacity:1;
  -webkit-transition-delay:0;
          transition-delay:0;
  -webkit-transition-duration:400ms;
          transition-duration:400ms;
  -webkit-transition-property:opacity, -webkit-transform;
  transition-property:opacity, -webkit-transform;
  transition-property:transform, opacity;
  transition-property:transform, opacity, -webkit-transform;
  -webkit-transition-timing-function:ease;
          transition-timing-function:ease; }

.bp3-panel-stack-push .bp3-panel-stack-exit{
  -webkit-transform:translate(0%);
          transform:translate(0%);
  opacity:1; }

.bp3-panel-stack-push .bp3-panel-stack-exit-active{
  -webkit-transform:translateX(-50%);
          transform:translateX(-50%);
  opacity:0;
  -webkit-transition-delay:0;
          transition-delay:0;
  -webkit-transition-duration:400ms;
          transition-duration:400ms;
  -webkit-transition-property:opacity, -webkit-transform;
  transition-property:opacity, -webkit-transform;
  transition-property:transform, opacity;
  transition-property:transform, opacity, -webkit-transform;
  -webkit-transition-timing-function:ease;
          transition-timing-function:ease; }

.bp3-panel-stack-pop .bp3-panel-stack-enter, .bp3-panel-stack-pop .bp3-panel-stack-appear{
  -webkit-transform:translateX(-50%);
          transform:translateX(-50%);
  opacity:0; }

.bp3-panel-stack-pop .bp3-panel-stack-enter-active, .bp3-panel-stack-pop .bp3-panel-stack-appear-active{
  -webkit-transform:translate(0%);
          transform:translate(0%);
  opacity:1;
  -webkit-transition-delay:0;
          transition-delay:0;
  -webkit-transition-duration:400ms;
          transition-duration:400ms;
  -webkit-transition-property:opacity, -webkit-transform;
  transition-property:opacity, -webkit-transform;
  transition-property:transform, opacity;
  transition-property:transform, opacity, -webkit-transform;
  -webkit-transition-timing-function:ease;
          transition-timing-function:ease; }

.bp3-panel-stack-pop .bp3-panel-stack-exit{
  -webkit-transform:translate(0%);
          transform:translate(0%);
  opacity:1; }

.bp3-panel-stack-pop .bp3-panel-stack-exit-active{
  -webkit-transform:translateX(100%);
          transform:translateX(100%);
  opacity:0;
  -webkit-transition-delay:0;
          transition-delay:0;
  -webkit-transition-duration:400ms;
          transition-duration:400ms;
  -webkit-transition-property:opacity, -webkit-transform;
  transition-property:opacity, -webkit-transform;
  transition-property:transform, opacity;
  transition-property:transform, opacity, -webkit-transform;
  -webkit-transition-timing-function:ease;
          transition-timing-function:ease; }
.bp3-panel-stack2{
  overflow:hidden;
  position:relative; }

.bp3-panel-stack2-header{
  -webkit-box-align:center;
      -ms-flex-align:center;
          align-items:center;
  -webkit-box-shadow:0 1px rgba(16, 22, 26, 0.15);
          box-shadow:0 1px rgba(16, 22, 26, 0.15);
  display:-webkit-box;
  display:-ms-flexbox;
  display:flex;
  -ms-flex-negative:0;
      flex-shrink:0;
  height:30px;
  z-index:1; }
  .bp3-dark .bp3-panel-stack2-header{
    -webkit-box-shadow:0 1px rgba(255, 255, 255, 0.15);
            box-shadow:0 1px rgba(255, 255, 255, 0.15); }
  .bp3-panel-stack2-header > span{
    -webkit-box-align:stretch;
        -ms-flex-align:stretch;
            align-items:stretch;
    display:-webkit-box;
    display:-ms-flexbox;
    display:flex;
    -webkit-box-flex:1;
        -ms-flex:1;
            flex:1; }
  .bp3-panel-stack2-header .bp3-heading{
    margin:0 5px; }

.bp3-button.bp3-panel-stack2-header-back{
  margin-left:5px;
  padding-left:0;
  white-space:nowrap; }
  .bp3-button.bp3-panel-stack2-header-back .bp3-icon{
    margin:0 2px; }

.bp3-panel-stack2-view{
  bottom:0;
  left:0;
  position:absolute;
  right:0;
  top:0;
  background-color:#ffffff;
  border-right:1px solid rgba(16, 22, 26, 0.15);
  display:-webkit-box;
  display:-ms-flexbox;
  display:flex;
  -webkit-box-orient:vertical;
  -webkit-box-direction:normal;
      -ms-flex-direction:column;
          flex-direction:column;
  margin-right:-1px;
  overflow-y:auto;
  z-index:1; }
  .bp3-dark .bp3-panel-stack2-view{
    background-color:#30404d; }
  .bp3-panel-stack2-view:nth-last-child(n + 4){
    display:none; }

.bp3-panel-stack2-push .bp3-panel-stack2-enter, .bp3-panel-stack2-push .bp3-panel-stack2-appear{
  -webkit-transform:translateX(100%);
          transform:translateX(100%);
  opacity:0; }

.bp3-panel-stack2-push .bp3-panel-stack2-enter-active, .bp3-panel-stack2-push .bp3-panel-stack2-appear-active{
  -webkit-transform:translate(0%);
          transform:translate(0%);
  opacity:1;
  -webkit-transition-delay:0;
          transition-delay:0;
  -webkit-transition-duration:400ms;
          transition-duration:400ms;
  -webkit-transition-property:opacity, -webkit-transform;
  transition-property:opacity, -webkit-transform;
  transition-property:transform, opacity;
  transition-property:transform, opacity, -webkit-transform;
  -webkit-transition-timing-function:ease;
          transition-timing-function:ease; }

.bp3-panel-stack2-push .bp3-panel-stack2-exit{
  -webkit-transform:translate(0%);
          transform:translate(0%);
  opacity:1; }

.bp3-panel-stack2-push .bp3-panel-stack2-exit-active{
  -webkit-transform:translateX(-50%);
          transform:translateX(-50%);
  opacity:0;
  -webkit-transition-delay:0;
          transition-delay:0;
  -webkit-transition-duration:400ms;
          transition-duration:400ms;
  -webkit-transition-property:opacity, -webkit-transform;
  transition-property:opacity, -webkit-transform;
  transition-property:transform, opacity;
  transition-property:transform, opacity, -webkit-transform;
  -webkit-transition-timing-function:ease;
          transition-timing-function:ease; }

.bp3-panel-stack2-pop .bp3-panel-stack2-enter, .bp3-panel-stack2-pop .bp3-panel-stack2-appear{
  -webkit-transform:translateX(-50%);
          transform:translateX(-50%);
  opacity:0; }

.bp3-panel-stack2-pop .bp3-panel-stack2-enter-active, .bp3-panel-stack2-pop .bp3-panel-stack2-appear-active{
  -webkit-transform:translate(0%);
          transform:translate(0%);
  opacity:1;
  -webkit-transition-delay:0;
          transition-delay:0;
  -webkit-transition-duration:400ms;
          transition-duration:400ms;
  -webkit-transition-property:opacity, -webkit-transform;
  transition-property:opacity, -webkit-transform;
  transition-property:transform, opacity;
  transition-property:transform, opacity, -webkit-transform;
  -webkit-transition-timing-function:ease;
          transition-timing-function:ease; }

.bp3-panel-stack2-pop .bp3-panel-stack2-exit{
  -webkit-transform:translate(0%);
          transform:translate(0%);
  opacity:1; }

.bp3-panel-stack2-pop .bp3-panel-stack2-exit-active{
  -webkit-transform:translateX(100%);
          transform:translateX(100%);
  opacity:0;
  -webkit-transition-delay:0;
          transition-delay:0;
  -webkit-transition-duration:400ms;
          transition-duration:400ms;
  -webkit-transition-property:opacity, -webkit-transform;
  transition-property:opacity, -webkit-transform;
  transition-property:transform, opacity;
  transition-property:transform, opacity, -webkit-transform;
  -webkit-transition-timing-function:ease;
          transition-timing-function:ease; }
.bp3-popover{
  -webkit-box-shadow:0 0 0 1px rgba(16, 22, 26, 0.1), 0 2px 4px rgba(16, 22, 26, 0.2), 0 8px 24px rgba(16, 22, 26, 0.2);
          box-shadow:0 0 0 1px rgba(16, 22, 26, 0.1), 0 2px 4px rgba(16, 22, 26, 0.2), 0 8px 24px rgba(16, 22, 26, 0.2);
  -webkit-transform:scale(1);
          transform:scale(1);
  border-radius:3px;
  display:inline-block;
  z-index:20; }
  .bp3-popover .bp3-popover-arrow{
    height:30px;
    position:absolute;
    width:30px; }
    .bp3-popover .bp3-popover-arrow::before{
      height:20px;
      margin:5px;
      width:20px; }
  .bp3-tether-element-attached-bottom.bp3-tether-target-attached-top > .bp3-popover{
    margin-bottom:17px;
    margin-top:-17px; }
    .bp3-tether-element-attached-bottom.bp3-tether-target-attached-top > .bp3-popover > .bp3-popover-arrow{
      bottom:-11px; }
      .bp3-tether-element-attached-bottom.bp3-tether-target-attached-top > .bp3-popover > .bp3-popover-arrow svg{
        -webkit-transform:rotate(-90deg);
                transform:rotate(-90deg); }
  .bp3-tether-element-attached-left.bp3-tether-target-attached-right > .bp3-popover{
    margin-left:17px; }
    .bp3-tether-element-attached-left.bp3-tether-target-attached-right > .bp3-popover > .bp3-popover-arrow{
      left:-11px; }
      .bp3-tether-element-attached-left.bp3-tether-target-attached-right > .bp3-popover > .bp3-popover-arrow svg{
        -webkit-transform:rotate(0);
                transform:rotate(0); }
  .bp3-tether-element-attached-top.bp3-tether-target-attached-bottom > .bp3-popover{
    margin-top:17px; }
    .bp3-tether-element-attached-top.bp3-tether-target-attached-bottom > .bp3-popover > .bp3-popover-arrow{
      top:-11px; }
      .bp3-tether-element-attached-top.bp3-tether-target-attached-bottom > .bp3-popover > .bp3-popover-arrow svg{
        -webkit-transform:rotate(90deg);
                transform:rotate(90deg); }
  .bp3-tether-element-attached-right.bp3-tether-target-attached-left > .bp3-popover{
    margin-left:-17px;
    margin-right:17px; }
    .bp3-tether-element-attached-right.bp3-tether-target-attached-left > .bp3-popover > .bp3-popover-arrow{
      right:-11px; }
      .bp3-tether-element-attached-right.bp3-tether-target-attached-left > .bp3-popover > .bp3-popover-arrow svg{
        -webkit-transform:rotate(180deg);
                transform:rotate(180deg); }
  .bp3-tether-element-attached-middle > .bp3-popover > .bp3-popover-arrow{
    top:50%;
    -webkit-transform:translateY(-50%);
            transform:translateY(-50%); }
  .bp3-tether-element-attached-center > .bp3-popover > .bp3-popover-arrow{
    right:50%;
    -webkit-transform:translateX(50%);
            transform:translateX(50%); }
  .bp3-tether-element-attached-top.bp3-tether-target-attached-top > .bp3-popover > .bp3-popover-arrow{
    top:-0.3934px; }
  .bp3-tether-element-attached-right.bp3-tether-target-attached-right > .bp3-popover > .bp3-popover-arrow{
    right:-0.3934px; }
  .bp3-tether-element-attached-left.bp3-tether-target-attached-left > .bp3-popover > .bp3-popover-arrow{
    left:-0.3934px; }
  .bp3-tether-element-attached-bottom.bp3-tether-target-attached-bottom > .bp3-popover > .bp3-popover-arrow{
    bottom:-0.3934px; }
  .bp3-tether-element-attached-top.bp3-tether-element-attached-left > .bp3-popover{
    -webkit-transform-origin:top left;
            transform-origin:top left; }
  .bp3-tether-element-attached-top.bp3-tether-element-attached-center > .bp3-popover{
    -webkit-transform-origin:top center;
            transform-origin:top center; }
  .bp3-tether-element-attached-top.bp3-tether-element-attached-right > .bp3-popover{
    -webkit-transform-origin:top right;
            transform-origin:top right; }
  .bp3-tether-element-attached-middle.bp3-tether-element-attached-left > .bp3-popover{
    -webkit-transform-origin:center left;
            transform-origin:center left; }
  .bp3-tether-element-attached-middle.bp3-tether-element-attached-center > .bp3-popover{
    -webkit-transform-origin:center center;
            transform-origin:center center; }
  .bp3-tether-element-attached-middle.bp3-tether-element-attached-right > .bp3-popover{
    -webkit-transform-origin:center right;
            transform-origin:center right; }
  .bp3-tether-element-attached-bottom.bp3-tether-element-attached-left > .bp3-popover{
    -webkit-transform-origin:bottom left;
            transform-origin:bottom left; }
  .bp3-tether-element-attached-bottom.bp3-tether-element-attached-center > .bp3-popover{
    -webkit-transform-origin:bottom center;
            transform-origin:bottom center; }
  .bp3-tether-element-attached-bottom.bp3-tether-element-attached-right > .bp3-popover{
    -webkit-transform-origin:bottom right;
            transform-origin:bottom right; }
  .bp3-popover .bp3-popover-content{
    background:#ffffff;
    color:inherit; }
  .bp3-popover .bp3-popover-arrow::before{
    -webkit-box-shadow:1px 1px 6px rgba(16, 22, 26, 0.2);
            box-shadow:1px 1px 6px rgba(16, 22, 26, 0.2); }
  .bp3-popover .bp3-popover-arrow-border{
    fill:#10161a;
    fill-opacity:0.1; }
  .bp3-popover .bp3-popover-arrow-fill{
    fill:#ffffff; }
  .bp3-popover-enter > .bp3-popover, .bp3-popover-appear > .bp3-popover{
    -webkit-transform:scale(0.3);
            transform:scale(0.3); }
  .bp3-popover-enter-active > .bp3-popover, .bp3-popover-appear-active > .bp3-popover{
    -webkit-transform:scale(1);
            transform:scale(1);
    -webkit-transition-delay:0;
            transition-delay:0;
    -webkit-transition-duration:300ms;
            transition-duration:300ms;
    -webkit-transition-property:-webkit-transform;
    transition-property:-webkit-transform;
    transition-property:transform;
    transition-property:transform, -webkit-transform;
    -webkit-transition-timing-function:cubic-bezier(0.54, 1.12, 0.38, 1.11);
            transition-timing-function:cubic-bezier(0.54, 1.12, 0.38, 1.11); }
  .bp3-popover-exit > .bp3-popover{
    -webkit-transform:scale(1);
            transform:scale(1); }
  .bp3-popover-exit-active > .bp3-popover{
    -webkit-transform:scale(0.3);
            transform:scale(0.3);
    -webkit-transition-delay:0;
            transition-delay:0;
    -webkit-transition-duration:300ms;
            transition-duration:300ms;
    -webkit-transition-property:-webkit-transform;
    transition-property:-webkit-transform;
    transition-property:transform;
    transition-property:transform, -webkit-transform;
    -webkit-transition-timing-function:cubic-bezier(0.54, 1.12, 0.38, 1.11);
            transition-timing-function:cubic-bezier(0.54, 1.12, 0.38, 1.11); }
  .bp3-popover .bp3-popover-content{
    border-radius:3px;
    position:relative; }
  .bp3-popover.bp3-popover-content-sizing .bp3-popover-content{
    max-width:350px;
    padding:20px; }
  .bp3-popover-target + .bp3-overlay .bp3-popover.bp3-popover-content-sizing{
    width:350px; }
  .bp3-popover.bp3-minimal{
    margin:0 !important; }
    .bp3-popover.bp3-minimal .bp3-popover-arrow{
      display:none; }
    .bp3-popover.bp3-minimal.bp3-popover{
      -webkit-transform:scale(1);
              transform:scale(1); }
      .bp3-popover-enter > .bp3-popover.bp3-minimal.bp3-popover, .bp3-popover-appear > .bp3-popover.bp3-minimal.bp3-popover{
        -webkit-transform:scale(1);
                transform:scale(1); }
      .bp3-popover-enter-active > .bp3-popover.bp3-minimal.bp3-popover, .bp3-popover-appear-active > .bp3-popover.bp3-minimal.bp3-popover{
        -webkit-transform:scale(1);
                transform:scale(1);
        -webkit-transition-delay:0;
                transition-delay:0;
        -webkit-transition-duration:100ms;
                transition-duration:100ms;
        -webkit-transition-property:-webkit-transform;
        transition-property:-webkit-transform;
        transition-property:transform;
        transition-property:transform, -webkit-transform;
        -webkit-transition-timing-function:cubic-bezier(0.4, 1, 0.75, 0.9);
                transition-timing-function:cubic-bezier(0.4, 1, 0.75, 0.9); }
      .bp3-popover-exit > .bp3-popover.bp3-minimal.bp3-popover{
        -webkit-transform:scale(1);
                transform:scale(1); }
      .bp3-popover-exit-active > .bp3-popover.bp3-minimal.bp3-popover{
        -webkit-transform:scale(1);
                transform:scale(1);
        -webkit-transition-delay:0;
                transition-delay:0;
        -webkit-transition-duration:100ms;
                transition-duration:100ms;
        -webkit-transition-property:-webkit-transform;
        transition-property:-webkit-transform;
        transition-property:transform;
        transition-property:transform, -webkit-transform;
        -webkit-transition-timing-function:cubic-bezier(0.4, 1, 0.75, 0.9);
                transition-timing-function:cubic-bezier(0.4, 1, 0.75, 0.9); }
  .bp3-popover.bp3-dark,
  .bp3-dark .bp3-popover{
    -webkit-box-shadow:0 0 0 1px rgba(16, 22, 26, 0.2), 0 2px 4px rgba(16, 22, 26, 0.4), 0 8px 24px rgba(16, 22, 26, 0.4);
            box-shadow:0 0 0 1px rgba(16, 22, 26, 0.2), 0 2px 4px rgba(16, 22, 26, 0.4), 0 8px 24px rgba(16, 22, 26, 0.4); }
    .bp3-popover.bp3-dark .bp3-popover-content,
    .bp3-dark .bp3-popover .bp3-popover-content{
      background:#30404d;
      color:inherit; }
    .bp3-popover.bp3-dark .bp3-popover-arrow::before,
    .bp3-dark .bp3-popover .bp3-popover-arrow::before{
      -webkit-box-shadow:1px 1px 6px rgba(16, 22, 26, 0.4);
              box-shadow:1px 1px 6px rgba(16, 22, 26, 0.4); }
    .bp3-popover.bp3-dark .bp3-popover-arrow-border,
    .bp3-dark .bp3-popover .bp3-popover-arrow-border{
      fill:#10161a;
      fill-opacity:0.2; }
    .bp3-popover.bp3-dark .bp3-popover-arrow-fill,
    .bp3-dark .bp3-popover .bp3-popover-arrow-fill{
      fill:#30404d; }

.bp3-popover-arrow::before{
  border-radius:2px;
  content:"";
  display:block;
  position:absolute;
  -webkit-transform:rotate(45deg);
          transform:rotate(45deg); }

.bp3-tether-pinned .bp3-popover-arrow{
  display:none; }

.bp3-popover-backdrop{
  background:rgba(255, 255, 255, 0); }

.bp3-transition-container{
  opacity:1;
  display:-webkit-box;
  display:-ms-flexbox;
  display:flex;
  z-index:20; }
  .bp3-transition-container.bp3-popover-enter, .bp3-transition-container.bp3-popover-appear{
    opacity:0; }
  .bp3-transition-container.bp3-popover-enter-active, .bp3-transition-container.bp3-popover-appear-active{
    opacity:1;
    -webkit-transition-delay:0;
            transition-delay:0;
    -webkit-transition-duration:100ms;
            transition-duration:100ms;
    -webkit-transition-property:opacity;
    transition-property:opacity;
    -webkit-transition-timing-function:cubic-bezier(0.4, 1, 0.75, 0.9);
            transition-timing-function:cubic-bezier(0.4, 1, 0.75, 0.9); }
  .bp3-transition-container.bp3-popover-exit{
    opacity:1; }
  .bp3-transition-container.bp3-popover-exit-active{
    opacity:0;
    -webkit-transition-delay:0;
            transition-delay:0;
    -webkit-transition-duration:100ms;
            transition-duration:100ms;
    -webkit-transition-property:opacity;
    transition-property:opacity;
    -webkit-transition-timing-function:cubic-bezier(0.4, 1, 0.75, 0.9);
            transition-timing-function:cubic-bezier(0.4, 1, 0.75, 0.9); }
  .bp3-transition-container:focus{
    outline:none; }
  .bp3-transition-container.bp3-popover-leave .bp3-popover-content{
    pointer-events:none; }
  .bp3-transition-container[data-x-out-of-boundaries]{
    display:none; }

span.bp3-popover-target{
  display:inline-block; }

.bp3-popover-wrapper.bp3-fill{
  width:100%; }

.bp3-portal{
  left:0;
  position:absolute;
  right:0;
  top:0; }
@-webkit-keyframes linear-progress-bar-stripes{
  from{
    background-position:0 0; }
  to{
    background-position:30px 0; } }
@keyframes linear-progress-bar-stripes{
  from{
    background-position:0 0; }
  to{
    background-position:30px 0; } }

.bp3-progress-bar{
  background:rgba(92, 112, 128, 0.2);
  border-radius:40px;
  display:block;
  height:8px;
  overflow:hidden;
  position:relative;
  width:100%; }
  .bp3-progress-bar .bp3-progress-meter{
    background:linear-gradient(-45deg, rgba(255, 255, 255, 0.2) 25%, transparent 25%, transparent 50%, rgba(255, 255, 255, 0.2) 50%, rgba(255, 255, 255, 0.2) 75%, transparent 75%);
    background-color:rgba(92, 112, 128, 0.8);
    background-size:30px 30px;
    border-radius:40px;
    height:100%;
    position:absolute;
    -webkit-transition:width 200ms cubic-bezier(0.4, 1, 0.75, 0.9);
    transition:width 200ms cubic-bezier(0.4, 1, 0.75, 0.9);
    width:100%; }
  .bp3-progress-bar:not(.bp3-no-animation):not(.bp3-no-stripes) .bp3-progress-meter{
    animation:linear-progress-bar-stripes 300ms linear infinite reverse; }
  .bp3-progress-bar.bp3-no-stripes .bp3-progress-meter{
    background-image:none; }

.bp3-dark .bp3-progress-bar{
  background:rgba(16, 22, 26, 0.5); }
  .bp3-dark .bp3-progress-bar .bp3-progress-meter{
    background-color:#8a9ba8; }

.bp3-progress-bar.bp3-intent-primary .bp3-progress-meter{
  background-color:#137cbd; }

.bp3-progress-bar.bp3-intent-success .bp3-progress-meter{
  background-color:#0f9960; }

.bp3-progress-bar.bp3-intent-warning .bp3-progress-meter{
  background-color:#d9822b; }

.bp3-progress-bar.bp3-intent-danger .bp3-progress-meter{
  background-color:#db3737; }
@-webkit-keyframes skeleton-glow{
  from{
    background:rgba(206, 217, 224, 0.2);
    border-color:rgba(206, 217, 224, 0.2); }
  to{
    background:rgba(92, 112, 128, 0.2);
    border-color:rgba(92, 112, 128, 0.2); } }
@keyframes skeleton-glow{
  from{
    background:rgba(206, 217, 224, 0.2);
    border-color:rgba(206, 217, 224, 0.2); }
  to{
    background:rgba(92, 112, 128, 0.2);
    border-color:rgba(92, 112, 128, 0.2); } }
.bp3-skeleton{
  -webkit-animation:1000ms linear infinite alternate skeleton-glow;
          animation:1000ms linear infinite alternate skeleton-glow;
  background:rgba(206, 217, 224, 0.2);
  background-clip:padding-box !important;
  border-color:rgba(206, 217, 224, 0.2) !important;
  border-radius:2px;
  -webkit-box-shadow:none !important;
          box-shadow:none !important;
  color:transparent !important;
  cursor:default;
  pointer-events:none;
  -webkit-user-select:none;
     -moz-user-select:none;
      -ms-user-select:none;
          user-select:none; }
  .bp3-skeleton::before, .bp3-skeleton::after,
  .bp3-skeleton *{
    visibility:hidden !important; }
.bp3-slider{
  height:40px;
  min-width:150px;
  width:100%;
  cursor:default;
  outline:none;
  position:relative;
  -webkit-user-select:none;
     -moz-user-select:none;
      -ms-user-select:none;
          user-select:none; }
  .bp3-slider:hover{
    cursor:pointer; }
  .bp3-slider:active{
    cursor:-webkit-grabbing;
    cursor:grabbing; }
  .bp3-slider.bp3-disabled{
    cursor:not-allowed;
    opacity:0.5; }
  .bp3-slider.bp3-slider-unlabeled{
    height:16px; }

.bp3-slider-track,
.bp3-slider-progress{
  height:6px;
  left:0;
  right:0;
  top:5px;
  position:absolute; }

.bp3-slider-track{
  border-radius:3px;
  overflow:hidden; }

.bp3-slider-progress{
  background:rgba(92, 112, 128, 0.2); }
  .bp3-dark .bp3-slider-progress{
    background:rgba(16, 22, 26, 0.5); }
  .bp3-slider-progress.bp3-intent-primary{
    background-color:#137cbd; }
  .bp3-slider-progress.bp3-intent-success{
    background-color:#0f9960; }
  .bp3-slider-progress.bp3-intent-warning{
    background-color:#d9822b; }
  .bp3-slider-progress.bp3-intent-danger{
    background-color:#db3737; }

.bp3-slider-handle{
  background-color:#f5f8fa;
  background-image:-webkit-gradient(linear, left top, left bottom, from(rgba(255, 255, 255, 0.8)), to(rgba(255, 255, 255, 0)));
  background-image:linear-gradient(to bottom, rgba(255, 255, 255, 0.8), rgba(255, 255, 255, 0));
  -webkit-box-shadow:inset 0 0 0 1px rgba(16, 22, 26, 0.2), inset 0 -1px 0 rgba(16, 22, 26, 0.1);
          box-shadow:inset 0 0 0 1px rgba(16, 22, 26, 0.2), inset 0 -1px 0 rgba(16, 22, 26, 0.1);
  color:#182026;
  border-radius:3px;
  -webkit-box-shadow:0 0 0 1px rgba(16, 22, 26, 0.2), 0 1px 1px rgba(16, 22, 26, 0.2);
          box-shadow:0 0 0 1px rgba(16, 22, 26, 0.2), 0 1px 1px rgba(16, 22, 26, 0.2);
  cursor:pointer;
  height:16px;
  left:0;
  position:absolute;
  top:0;
  width:16px; }
  .bp3-slider-handle:hover{
    background-clip:padding-box;
    background-color:#ebf1f5;
    -webkit-box-shadow:inset 0 0 0 1px rgba(16, 22, 26, 0.2), inset 0 -1px 0 rgba(16, 22, 26, 0.1);
            box-shadow:inset 0 0 0 1px rgba(16, 22, 26, 0.2), inset 0 -1px 0 rgba(16, 22, 26, 0.1); }
  .bp3-slider-handle:active, .bp3-slider-handle.bp3-active{
    background-color:#d8e1e8;
    background-image:none;
    -webkit-box-shadow:inset 0 0 0 1px rgba(16, 22, 26, 0.2), inset 0 1px 2px rgba(16, 22, 26, 0.2);
            box-shadow:inset 0 0 0 1px rgba(16, 22, 26, 0.2), inset 0 1px 2px rgba(16, 22, 26, 0.2); }
  .bp3-slider-handle:disabled, .bp3-slider-handle.bp3-disabled{
    background-color:rgba(206, 217, 224, 0.5);
    background-image:none;
    -webkit-box-shadow:none;
            box-shadow:none;
    color:rgba(92, 112, 128, 0.6);
    cursor:not-allowed;
    outline:none; }
    .bp3-slider-handle:disabled.bp3-active, .bp3-slider-handle:disabled.bp3-active:hover, .bp3-slider-handle.bp3-disabled.bp3-active, .bp3-slider-handle.bp3-disabled.bp3-active:hover{
      background:rgba(206, 217, 224, 0.7); }
  .bp3-slider-handle:focus{
    z-index:1; }
  .bp3-slider-handle:hover{
    background-clip:padding-box;
    background-color:#ebf1f5;
    -webkit-box-shadow:inset 0 0 0 1px rgba(16, 22, 26, 0.2), inset 0 -1px 0 rgba(16, 22, 26, 0.1);
            box-shadow:inset 0 0 0 1px rgba(16, 22, 26, 0.2), inset 0 -1px 0 rgba(16, 22, 26, 0.1);
    -webkit-box-shadow:0 0 0 1px rgba(16, 22, 26, 0.2), 0 1px 1px rgba(16, 22, 26, 0.2);
            box-shadow:0 0 0 1px rgba(16, 22, 26, 0.2), 0 1px 1px rgba(16, 22, 26, 0.2);
    cursor:-webkit-grab;
    cursor:grab;
    z-index:2; }
  .bp3-slider-handle.bp3-active{
    background-color:#d8e1e8;
    background-image:none;
    -webkit-box-shadow:inset 0 0 0 1px rgba(16, 22, 26, 0.2), inset 0 1px 2px rgba(16, 22, 26, 0.2);
            box-shadow:inset 0 0 0 1px rgba(16, 22, 26, 0.2), inset 0 1px 2px rgba(16, 22, 26, 0.2);
    -webkit-box-shadow:0 0 0 1px rgba(16, 22, 26, 0.2), inset 0 1px 1px rgba(16, 22, 26, 0.1);
            box-shadow:0 0 0 1px rgba(16, 22, 26, 0.2), inset 0 1px 1px rgba(16, 22, 26, 0.1);
    cursor:-webkit-grabbing;
    cursor:grabbing; }
  .bp3-disabled .bp3-slider-handle{
    background:#bfccd6;
    -webkit-box-shadow:none;
            box-shadow:none;
    pointer-events:none; }
  .bp3-dark .bp3-slider-handle{
    background-color:#394b59;
    background-image:-webkit-gradient(linear, left top, left bottom, from(rgba(255, 255, 255, 0.05)), to(rgba(255, 255, 255, 0)));
    background-image:linear-gradient(to bottom, rgba(255, 255, 255, 0.05), rgba(255, 255, 255, 0));
    -webkit-box-shadow:0 0 0 1px rgba(16, 22, 26, 0.4);
            box-shadow:0 0 0 1px rgba(16, 22, 26, 0.4);
    color:#f5f8fa; }
    .bp3-dark .bp3-slider-handle:hover, .bp3-dark .bp3-slider-handle:active, .bp3-dark .bp3-slider-handle.bp3-active{
      color:#f5f8fa; }
    .bp3-dark .bp3-slider-handle:hover{
      background-color:#30404d;
      -webkit-box-shadow:0 0 0 1px rgba(16, 22, 26, 0.4);
              box-shadow:0 0 0 1px rgba(16, 22, 26, 0.4); }
    .bp3-dark .bp3-slider-handle:active, .bp3-dark .bp3-slider-handle.bp3-active{
      background-color:#202b33;
      background-image:none;
      -webkit-box-shadow:0 0 0 1px rgba(16, 22, 26, 0.6), inset 0 1px 2px rgba(16, 22, 26, 0.2);
              box-shadow:0 0 0 1px rgba(16, 22, 26, 0.6), inset 0 1px 2px rgba(16, 22, 26, 0.2); }
    .bp3-dark .bp3-slider-handle:disabled, .bp3-dark .bp3-slider-handle.bp3-disabled{
      background-color:rgba(57, 75, 89, 0.5);
      background-image:none;
      -webkit-box-shadow:none;
              box-shadow:none;
      color:rgba(167, 182, 194, 0.6); }
      .bp3-dark .bp3-slider-handle:disabled.bp3-active, .bp3-dark .bp3-slider-handle.bp3-disabled.bp3-active{
        background:rgba(57, 75, 89, 0.7); }
    .bp3-dark .bp3-slider-handle .bp3-button-spinner .bp3-spinner-head{
      background:rgba(16, 22, 26, 0.5);
      stroke:#8a9ba8; }
    .bp3-dark .bp3-slider-handle, .bp3-dark .bp3-slider-handle:hover{
      background-color:#394b59; }
    .bp3-dark .bp3-slider-handle.bp3-active{
      background-color:#293742; }
  .bp3-dark .bp3-disabled .bp3-slider-handle{
    background:#5c7080;
    border-color:#5c7080;
    -webkit-box-shadow:none;
            box-shadow:none; }
  .bp3-slider-handle .bp3-slider-label{
    background:#394b59;
    border-radius:3px;
    -webkit-box-shadow:0 0 0 1px rgba(16, 22, 26, 0.1), 0 2px 4px rgba(16, 22, 26, 0.2), 0 8px 24px rgba(16, 22, 26, 0.2);
            box-shadow:0 0 0 1px rgba(16, 22, 26, 0.1), 0 2px 4px rgba(16, 22, 26, 0.2), 0 8px 24px rgba(16, 22, 26, 0.2);
    color:#f5f8fa;
    margin-left:8px; }
    .bp3-dark .bp3-slider-handle .bp3-slider-label{
      background:#e1e8ed;
      -webkit-box-shadow:0 0 0 1px rgba(16, 22, 26, 0.2), 0 2px 4px rgba(16, 22, 26, 0.4), 0 8px 24px rgba(16, 22, 26, 0.4);
              box-shadow:0 0 0 1px rgba(16, 22, 26, 0.2), 0 2px 4px rgba(16, 22, 26, 0.4), 0 8px 24px rgba(16, 22, 26, 0.4);
      color:#394b59; }
    .bp3-disabled .bp3-slider-handle .bp3-slider-label{
      -webkit-box-shadow:none;
              box-shadow:none; }
  .bp3-slider-handle.bp3-start, .bp3-slider-handle.bp3-end{
    width:8px; }
  .bp3-slider-handle.bp3-start{
    border-bottom-right-radius:0;
    border-top-right-radius:0; }
  .bp3-slider-handle.bp3-end{
    border-bottom-left-radius:0;
    border-top-left-radius:0;
    margin-left:8px; }
    .bp3-slider-handle.bp3-end .bp3-slider-label{
      margin-left:0; }

.bp3-slider-label{
  -webkit-transform:translate(-50%, 20px);
          transform:translate(-50%, 20px);
  display:inline-block;
  font-size:12px;
  line-height:1;
  padding:2px 5px;
  position:absolute;
  vertical-align:top; }

.bp3-slider.bp3-vertical{
  height:150px;
  min-width:40px;
  width:40px; }
  .bp3-slider.bp3-vertical .bp3-slider-track,
  .bp3-slider.bp3-vertical .bp3-slider-progress{
    bottom:0;
    height:auto;
    left:5px;
    top:0;
    width:6px; }
  .bp3-slider.bp3-vertical .bp3-slider-progress{
    top:auto; }
  .bp3-slider.bp3-vertical .bp3-slider-label{
    -webkit-transform:translate(20px, 50%);
            transform:translate(20px, 50%); }
  .bp3-slider.bp3-vertical .bp3-slider-handle{
    top:auto; }
    .bp3-slider.bp3-vertical .bp3-slider-handle .bp3-slider-label{
      margin-left:0;
      margin-top:-8px; }
    .bp3-slider.bp3-vertical .bp3-slider-handle.bp3-end, .bp3-slider.bp3-vertical .bp3-slider-handle.bp3-start{
      height:8px;
      margin-left:0;
      width:16px; }
    .bp3-slider.bp3-vertical .bp3-slider-handle.bp3-start{
      border-bottom-right-radius:3px;
      border-top-left-radius:0; }
      .bp3-slider.bp3-vertical .bp3-slider-handle.bp3-start .bp3-slider-label{
        -webkit-transform:translate(20px);
                transform:translate(20px); }
    .bp3-slider.bp3-vertical .bp3-slider-handle.bp3-end{
      border-bottom-left-radius:0;
      border-bottom-right-radius:0;
      border-top-left-radius:3px;
      margin-bottom:8px; }

@-webkit-keyframes pt-spinner-animation{
  from{
    -webkit-transform:rotate(0deg);
            transform:rotate(0deg); }
  to{
    -webkit-transform:rotate(360deg);
            transform:rotate(360deg); } }

@keyframes pt-spinner-animation{
  from{
    -webkit-transform:rotate(0deg);
            transform:rotate(0deg); }
  to{
    -webkit-transform:rotate(360deg);
            transform:rotate(360deg); } }

.bp3-spinner{
  -webkit-box-align:center;
      -ms-flex-align:center;
          align-items:center;
  display:-webkit-box;
  display:-ms-flexbox;
  display:flex;
  -webkit-box-pack:center;
      -ms-flex-pack:center;
          justify-content:center;
  overflow:visible;
  vertical-align:middle; }
  .bp3-spinner svg{
    display:block; }
  .bp3-spinner path{
    fill-opacity:0; }
  .bp3-spinner .bp3-spinner-head{
    stroke:rgba(92, 112, 128, 0.8);
    stroke-linecap:round;
    -webkit-transform-origin:center;
            transform-origin:center;
    -webkit-transition:stroke-dashoffset 200ms cubic-bezier(0.4, 1, 0.75, 0.9);
    transition:stroke-dashoffset 200ms cubic-bezier(0.4, 1, 0.75, 0.9); }
  .bp3-spinner .bp3-spinner-track{
    stroke:rgba(92, 112, 128, 0.2); }

.bp3-spinner-animation{
  -webkit-animation:pt-spinner-animation 500ms linear infinite;
          animation:pt-spinner-animation 500ms linear infinite; }
  .bp3-no-spin > .bp3-spinner-animation{
    -webkit-animation:none;
            animation:none; }

.bp3-dark .bp3-spinner .bp3-spinner-head{
  stroke:#8a9ba8; }

.bp3-dark .bp3-spinner .bp3-spinner-track{
  stroke:rgba(16, 22, 26, 0.5); }

.bp3-spinner.bp3-intent-primary .bp3-spinner-head{
  stroke:#137cbd; }

.bp3-spinner.bp3-intent-success .bp3-spinner-head{
  stroke:#0f9960; }

.bp3-spinner.bp3-intent-warning .bp3-spinner-head{
  stroke:#d9822b; }

.bp3-spinner.bp3-intent-danger .bp3-spinner-head{
  stroke:#db3737; }
.bp3-tabs.bp3-vertical{
  display:-webkit-box;
  display:-ms-flexbox;
  display:flex; }
  .bp3-tabs.bp3-vertical > .bp3-tab-list{
    -webkit-box-align:start;
        -ms-flex-align:start;
            align-items:flex-start;
    -webkit-box-orient:vertical;
    -webkit-box-direction:normal;
        -ms-flex-direction:column;
            flex-direction:column; }
    .bp3-tabs.bp3-vertical > .bp3-tab-list .bp3-tab{
      border-radius:3px;
      padding:0 10px;
      width:100%; }
      .bp3-tabs.bp3-vertical > .bp3-tab-list .bp3-tab[aria-selected="true"]{
        background-color:rgba(19, 124, 189, 0.2);
        -webkit-box-shadow:none;
                box-shadow:none; }
    .bp3-tabs.bp3-vertical > .bp3-tab-list .bp3-tab-indicator-wrapper .bp3-tab-indicator{
      background-color:rgba(19, 124, 189, 0.2);
      border-radius:3px;
      bottom:0;
      height:auto;
      left:0;
      right:0;
      top:0; }
  .bp3-tabs.bp3-vertical > .bp3-tab-panel{
    margin-top:0;
    padding-left:20px; }

.bp3-tab-list{
  -webkit-box-align:end;
      -ms-flex-align:end;
          align-items:flex-end;
  border:none;
  display:-webkit-box;
  display:-ms-flexbox;
  display:flex;
  -webkit-box-flex:0;
      -ms-flex:0 0 auto;
          flex:0 0 auto;
  list-style:none;
  margin:0;
  padding:0;
  position:relative; }
  .bp3-tab-list > *:not(:last-child){
    margin-right:20px; }

.bp3-tab{
  overflow:hidden;
  text-overflow:ellipsis;
  white-space:nowrap;
  word-wrap:normal;
  color:#182026;
  cursor:pointer;
  -webkit-box-flex:0;
      -ms-flex:0 0 auto;
          flex:0 0 auto;
  font-size:14px;
  line-height:30px;
  max-width:100%;
  position:relative;
  vertical-align:top; }
  .bp3-tab a{
    color:inherit;
    display:block;
    text-decoration:none; }
  .bp3-tab-indicator-wrapper ~ .bp3-tab{
    background-color:transparent !important;
    -webkit-box-shadow:none !important;
            box-shadow:none !important; }
  .bp3-tab[aria-disabled="true"]{
    color:rgba(92, 112, 128, 0.6);
    cursor:not-allowed; }
  .bp3-tab[aria-selected="true"]{
    border-radius:0;
    -webkit-box-shadow:inset 0 -3px 0 #106ba3;
            box-shadow:inset 0 -3px 0 #106ba3; }
  .bp3-tab[aria-selected="true"], .bp3-tab:not([aria-disabled="true"]):hover{
    color:#106ba3; }
  .bp3-tab:focus{
    -moz-outline-radius:0; }
  .bp3-large > .bp3-tab{
    font-size:16px;
    line-height:40px; }

.bp3-tab-panel{
  margin-top:20px; }
  .bp3-tab-panel[aria-hidden="true"]{
    display:none; }

.bp3-tab-indicator-wrapper{
  left:0;
  pointer-events:none;
  position:absolute;
  top:0;
  -webkit-transform:translateX(0), translateY(0);
          transform:translateX(0), translateY(0);
  -webkit-transition:height, width, -webkit-transform;
  transition:height, width, -webkit-transform;
  transition:height, transform, width;
  transition:height, transform, width, -webkit-transform;
  -webkit-transition-duration:200ms;
          transition-duration:200ms;
  -webkit-transition-timing-function:cubic-bezier(0.4, 1, 0.75, 0.9);
          transition-timing-function:cubic-bezier(0.4, 1, 0.75, 0.9); }
  .bp3-tab-indicator-wrapper .bp3-tab-indicator{
    background-color:#106ba3;
    bottom:0;
    height:3px;
    left:0;
    position:absolute;
    right:0; }
  .bp3-tab-indicator-wrapper.bp3-no-animation{
    -webkit-transition:none;
    transition:none; }

.bp3-dark .bp3-tab{
  color:#f5f8fa; }
  .bp3-dark .bp3-tab[aria-disabled="true"]{
    color:rgba(167, 182, 194, 0.6); }
  .bp3-dark .bp3-tab[aria-selected="true"]{
    -webkit-box-shadow:inset 0 -3px 0 #48aff0;
            box-shadow:inset 0 -3px 0 #48aff0; }
  .bp3-dark .bp3-tab[aria-selected="true"], .bp3-dark .bp3-tab:not([aria-disabled="true"]):hover{
    color:#48aff0; }

.bp3-dark .bp3-tab-indicator{
  background-color:#48aff0; }

.bp3-flex-expander{
  -webkit-box-flex:1;
      -ms-flex:1 1;
          flex:1 1; }
.bp3-tag{
  display:-webkit-inline-box;
  display:-ms-inline-flexbox;
  display:inline-flex;
  -webkit-box-orient:horizontal;
  -webkit-box-direction:normal;
      -ms-flex-direction:row;
          flex-direction:row;
  -webkit-box-align:center;
      -ms-flex-align:center;
          align-items:center;
  background-color:#5c7080;
  border:none;
  border-radius:3px;
  -webkit-box-shadow:none;
          box-shadow:none;
  color:#f5f8fa;
  font-size:12px;
  line-height:16px;
  max-width:100%;
  min-height:20px;
  min-width:20px;
  padding:2px 6px;
  position:relative; }
  .bp3-tag.bp3-interactive{
    cursor:pointer; }
    .bp3-tag.bp3-interactive:hover{
      background-color:rgba(92, 112, 128, 0.85); }
    .bp3-tag.bp3-interactive.bp3-active, .bp3-tag.bp3-interactive:active{
      background-color:rgba(92, 112, 128, 0.7); }
  .bp3-tag > *{
    -webkit-box-flex:0;
        -ms-flex-positive:0;
            flex-grow:0;
    -ms-flex-negative:0;
        flex-shrink:0; }
  .bp3-tag > .bp3-fill{
    -webkit-box-flex:1;
        -ms-flex-positive:1;
            flex-grow:1;
    -ms-flex-negative:1;
        flex-shrink:1; }
  .bp3-tag::before,
  .bp3-tag > *{
    margin-right:4px; }
  .bp3-tag:empty::before,
  .bp3-tag > :last-child{
    margin-right:0; }
  .bp3-tag:focus{
    outline:rgba(19, 124, 189, 0.6) auto 2px;
    outline-offset:0;
    -moz-outline-radius:6px; }
  .bp3-tag.bp3-round{
    border-radius:30px;
    padding-left:8px;
    padding-right:8px; }
  .bp3-dark .bp3-tag{
    background-color:#bfccd6;
    color:#182026; }
    .bp3-dark .bp3-tag.bp3-interactive{
      cursor:pointer; }
      .bp3-dark .bp3-tag.bp3-interactive:hover{
        background-color:rgba(191, 204, 214, 0.85); }
      .bp3-dark .bp3-tag.bp3-interactive.bp3-active, .bp3-dark .bp3-tag.bp3-interactive:active{
        background-color:rgba(191, 204, 214, 0.7); }
    .bp3-dark .bp3-tag > .bp3-icon, .bp3-dark .bp3-tag .bp3-icon-standard, .bp3-dark .bp3-tag .bp3-icon-large{
      fill:currentColor; }
  .bp3-tag > .bp3-icon, .bp3-tag .bp3-icon-standard, .bp3-tag .bp3-icon-large{
    fill:#ffffff; }
  .bp3-tag.bp3-large,
  .bp3-large .bp3-tag{
    font-size:14px;
    line-height:20px;
    min-height:30px;
    min-width:30px;
    padding:5px 10px; }
    .bp3-tag.bp3-large::before,
    .bp3-tag.bp3-large > *,
    .bp3-large .bp3-tag::before,
    .bp3-large .bp3-tag > *{
      margin-right:7px; }
    .bp3-tag.bp3-large:empty::before,
    .bp3-tag.bp3-large > :last-child,
    .bp3-large .bp3-tag:empty::before,
    .bp3-large .bp3-tag > :last-child{
      margin-right:0; }
    .bp3-tag.bp3-large.bp3-round,
    .bp3-large .bp3-tag.bp3-round{
      padding-left:12px;
      padding-right:12px; }
  .bp3-tag.bp3-intent-primary{
    background:#137cbd;
    color:#ffffff; }
    .bp3-tag.bp3-intent-primary.bp3-interactive{
      cursor:pointer; }
      .bp3-tag.bp3-intent-primary.bp3-interactive:hover{
        background-color:rgba(19, 124, 189, 0.85); }
      .bp3-tag.bp3-intent-primary.bp3-interactive.bp3-active, .bp3-tag.bp3-intent-primary.bp3-interactive:active{
        background-color:rgba(19, 124, 189, 0.7); }
  .bp3-tag.bp3-intent-success{
    background:#0f9960;
    color:#ffffff; }
    .bp3-tag.bp3-intent-success.bp3-interactive{
      cursor:pointer; }
      .bp3-tag.bp3-intent-success.bp3-interactive:hover{
        background-color:rgba(15, 153, 96, 0.85); }
      .bp3-tag.bp3-intent-success.bp3-interactive.bp3-active, .bp3-tag.bp3-intent-success.bp3-interactive:active{
        background-color:rgba(15, 153, 96, 0.7); }
  .bp3-tag.bp3-intent-warning{
    background:#d9822b;
    color:#ffffff; }
    .bp3-tag.bp3-intent-warning.bp3-interactive{
      cursor:pointer; }
      .bp3-tag.bp3-intent-warning.bp3-interactive:hover{
        background-color:rgba(217, 130, 43, 0.85); }
      .bp3-tag.bp3-intent-warning.bp3-interactive.bp3-active, .bp3-tag.bp3-intent-warning.bp3-interactive:active{
        background-color:rgba(217, 130, 43, 0.7); }
  .bp3-tag.bp3-intent-danger{
    background:#db3737;
    color:#ffffff; }
    .bp3-tag.bp3-intent-danger.bp3-interactive{
      cursor:pointer; }
      .bp3-tag.bp3-intent-danger.bp3-interactive:hover{
        background-color:rgba(219, 55, 55, 0.85); }
      .bp3-tag.bp3-intent-danger.bp3-interactive.bp3-active, .bp3-tag.bp3-intent-danger.bp3-interactive:active{
        background-color:rgba(219, 55, 55, 0.7); }
  .bp3-tag.bp3-fill{
    display:-webkit-box;
    display:-ms-flexbox;
    display:flex;
    width:100%; }
  .bp3-tag.bp3-minimal > .bp3-icon, .bp3-tag.bp3-minimal .bp3-icon-standard, .bp3-tag.bp3-minimal .bp3-icon-large{
    fill:#5c7080; }
  .bp3-tag.bp3-minimal:not([class*="bp3-intent-"]){
    background-color:rgba(138, 155, 168, 0.2);
    color:#182026; }
    .bp3-tag.bp3-minimal:not([class*="bp3-intent-"]).bp3-interactive{
      cursor:pointer; }
      .bp3-tag.bp3-minimal:not([class*="bp3-intent-"]).bp3-interactive:hover{
        background-color:rgba(92, 112, 128, 0.3); }
      .bp3-tag.bp3-minimal:not([class*="bp3-intent-"]).bp3-interactive.bp3-active, .bp3-tag.bp3-minimal:not([class*="bp3-intent-"]).bp3-interactive:active{
        background-color:rgba(92, 112, 128, 0.4); }
    .bp3-dark .bp3-tag.bp3-minimal:not([class*="bp3-intent-"]){
      color:#f5f8fa; }
      .bp3-dark .bp3-tag.bp3-minimal:not([class*="bp3-intent-"]).bp3-interactive{
        cursor:pointer; }
        .bp3-dark .bp3-tag.bp3-minimal:not([class*="bp3-intent-"]).bp3-interactive:hover{
          background-color:rgba(191, 204, 214, 0.3); }
        .bp3-dark .bp3-tag.bp3-minimal:not([class*="bp3-intent-"]).bp3-interactive.bp3-active, .bp3-dark .bp3-tag.bp3-minimal:not([class*="bp3-intent-"]).bp3-interactive:active{
          background-color:rgba(191, 204, 214, 0.4); }
      .bp3-dark .bp3-tag.bp3-minimal:not([class*="bp3-intent-"]) > .bp3-icon, .bp3-dark .bp3-tag.bp3-minimal:not([class*="bp3-intent-"]) .bp3-icon-standard, .bp3-dark .bp3-tag.bp3-minimal:not([class*="bp3-intent-"]) .bp3-icon-large{
        fill:#a7b6c2; }
  .bp3-tag.bp3-minimal.bp3-intent-primary{
    background-color:rgba(19, 124, 189, 0.15);
    color:#106ba3; }
    .bp3-tag.bp3-minimal.bp3-intent-primary.bp3-interactive{
      cursor:pointer; }
      .bp3-tag.bp3-minimal.bp3-intent-primary.bp3-interactive:hover{
        background-color:rgba(19, 124, 189, 0.25); }
      .bp3-tag.bp3-minimal.bp3-intent-primary.bp3-interactive.bp3-active, .bp3-tag.bp3-minimal.bp3-intent-primary.bp3-interactive:active{
        background-color:rgba(19, 124, 189, 0.35); }
    .bp3-tag.bp3-minimal.bp3-intent-primary > .bp3-icon, .bp3-tag.bp3-minimal.bp3-intent-primary .bp3-icon-standard, .bp3-tag.bp3-minimal.bp3-intent-primary .bp3-icon-large{
      fill:#137cbd; }
    .bp3-dark .bp3-tag.bp3-minimal.bp3-intent-primary{
      background-color:rgba(19, 124, 189, 0.25);
      color:#48aff0; }
      .bp3-dark .bp3-tag.bp3-minimal.bp3-intent-primary.bp3-interactive{
        cursor:pointer; }
        .bp3-dark .bp3-tag.bp3-minimal.bp3-intent-primary.bp3-interactive:hover{
          background-color:rgba(19, 124, 189, 0.35); }
        .bp3-dark .bp3-tag.bp3-minimal.bp3-intent-primary.bp3-interactive.bp3-active, .bp3-dark .bp3-tag.bp3-minimal.bp3-intent-primary.bp3-interactive:active{
          background-color:rgba(19, 124, 189, 0.45); }
  .bp3-tag.bp3-minimal.bp3-intent-success{
    background-color:rgba(15, 153, 96, 0.15);
    color:#0d8050; }
    .bp3-tag.bp3-minimal.bp3-intent-success.bp3-interactive{
      cursor:pointer; }
      .bp3-tag.bp3-minimal.bp3-intent-success.bp3-interactive:hover{
        background-color:rgba(15, 153, 96, 0.25); }
      .bp3-tag.bp3-minimal.bp3-intent-success.bp3-interactive.bp3-active, .bp3-tag.bp3-minimal.bp3-intent-success.bp3-interactive:active{
        background-color:rgba(15, 153, 96, 0.35); }
    .bp3-tag.bp3-minimal.bp3-intent-success > .bp3-icon, .bp3-tag.bp3-minimal.bp3-intent-success .bp3-icon-standard, .bp3-tag.bp3-minimal.bp3-intent-success .bp3-icon-large{
      fill:#0f9960; }
    .bp3-dark .bp3-tag.bp3-minimal.bp3-intent-success{
      background-color:rgba(15, 153, 96, 0.25);
      color:#3dcc91; }
      .bp3-dark .bp3-tag.bp3-minimal.bp3-intent-success.bp3-interactive{
        cursor:pointer; }
        .bp3-dark .bp3-tag.bp3-minimal.bp3-intent-success.bp3-interactive:hover{
          background-color:rgba(15, 153, 96, 0.35); }
        .bp3-dark .bp3-tag.bp3-minimal.bp3-intent-success.bp3-interactive.bp3-active, .bp3-dark .bp3-tag.bp3-minimal.bp3-intent-success.bp3-interactive:active{
          background-color:rgba(15, 153, 96, 0.45); }
  .bp3-tag.bp3-minimal.bp3-intent-warning{
    background-color:rgba(217, 130, 43, 0.15);
    color:#bf7326; }
    .bp3-tag.bp3-minimal.bp3-intent-warning.bp3-interactive{
      cursor:pointer; }
      .bp3-tag.bp3-minimal.bp3-intent-warning.bp3-interactive:hover{
        background-color:rgba(217, 130, 43, 0.25); }
      .bp3-tag.bp3-minimal.bp3-intent-warning.bp3-interactive.bp3-active, .bp3-tag.bp3-minimal.bp3-intent-warning.bp3-interactive:active{
        background-color:rgba(217, 130, 43, 0.35); }
    .bp3-tag.bp3-minimal.bp3-intent-warning > .bp3-icon, .bp3-tag.bp3-minimal.bp3-intent-warning .bp3-icon-standard, .bp3-tag.bp3-minimal.bp3-intent-warning .bp3-icon-large{
      fill:#d9822b; }
    .bp3-dark .bp3-tag.bp3-minimal.bp3-intent-warning{
      background-color:rgba(217, 130, 43, 0.25);
      color:#ffb366; }
      .bp3-dark .bp3-tag.bp3-minimal.bp3-intent-warning.bp3-interactive{
        cursor:pointer; }
        .bp3-dark .bp3-tag.bp3-minimal.bp3-intent-warning.bp3-interactive:hover{
          background-color:rgba(217, 130, 43, 0.35); }
        .bp3-dark .bp3-tag.bp3-minimal.bp3-intent-warning.bp3-interactive.bp3-active, .bp3-dark .bp3-tag.bp3-minimal.bp3-intent-warning.bp3-interactive:active{
          background-color:rgba(217, 130, 43, 0.45); }
  .bp3-tag.bp3-minimal.bp3-intent-danger{
    background-color:rgba(219, 55, 55, 0.15);
    color:#c23030; }
    .bp3-tag.bp3-minimal.bp3-intent-danger.bp3-interactive{
      cursor:pointer; }
      .bp3-tag.bp3-minimal.bp3-intent-danger.bp3-interactive:hover{
        background-color:rgba(219, 55, 55, 0.25); }
      .bp3-tag.bp3-minimal.bp3-intent-danger.bp3-interactive.bp3-active, .bp3-tag.bp3-minimal.bp3-intent-danger.bp3-interactive:active{
        background-color:rgba(219, 55, 55, 0.35); }
    .bp3-tag.bp3-minimal.bp3-intent-danger > .bp3-icon, .bp3-tag.bp3-minimal.bp3-intent-danger .bp3-icon-standard, .bp3-tag.bp3-minimal.bp3-intent-danger .bp3-icon-large{
      fill:#db3737; }
    .bp3-dark .bp3-tag.bp3-minimal.bp3-intent-danger{
      background-color:rgba(219, 55, 55, 0.25);
      color:#ff7373; }
      .bp3-dark .bp3-tag.bp3-minimal.bp3-intent-danger.bp3-interactive{
        cursor:pointer; }
        .bp3-dark .bp3-tag.bp3-minimal.bp3-intent-danger.bp3-interactive:hover{
          background-color:rgba(219, 55, 55, 0.35); }
        .bp3-dark .bp3-tag.bp3-minimal.bp3-intent-danger.bp3-interactive.bp3-active, .bp3-dark .bp3-tag.bp3-minimal.bp3-intent-danger.bp3-interactive:active{
          background-color:rgba(219, 55, 55, 0.45); }

.bp3-tag-remove{
  background:none;
  border:none;
  color:inherit;
  cursor:pointer;
  display:-webkit-box;
  display:-ms-flexbox;
  display:flex;
  margin-bottom:-2px;
  margin-right:-6px !important;
  margin-top:-2px;
  opacity:0.5;
  padding:2px;
  padding-left:0; }
  .bp3-tag-remove:hover{
    background:none;
    opacity:0.8;
    text-decoration:none; }
  .bp3-tag-remove:active{
    opacity:1; }
  .bp3-tag-remove:empty::before{
    font-family:"Icons16", sans-serif;
    font-size:16px;
    font-style:normal;
    font-weight:400;
    line-height:1;
    -moz-osx-font-smoothing:grayscale;
    -webkit-font-smoothing:antialiased;
    content:""; }
  .bp3-large .bp3-tag-remove{
    margin-right:-10px !important;
    padding:0 5px 0 0; }
    .bp3-large .bp3-tag-remove:empty::before{
      font-family:"Icons20", sans-serif;
      font-size:20px;
      font-style:normal;
      font-weight:400;
      line-height:1; }
.bp3-tag-input{
  display:-webkit-box;
  display:-ms-flexbox;
  display:flex;
  -webkit-box-orient:horizontal;
  -webkit-box-direction:normal;
      -ms-flex-direction:row;
          flex-direction:row;
  -webkit-box-align:start;
      -ms-flex-align:start;
          align-items:flex-start;
  cursor:text;
  height:auto;
  line-height:inherit;
  min-height:30px;
  padding-left:5px;
  padding-right:0; }
  .bp3-tag-input > *{
    -webkit-box-flex:0;
        -ms-flex-positive:0;
            flex-grow:0;
    -ms-flex-negative:0;
        flex-shrink:0; }
  .bp3-tag-input > .bp3-tag-input-values{
    -webkit-box-flex:1;
        -ms-flex-positive:1;
            flex-grow:1;
    -ms-flex-negative:1;
        flex-shrink:1; }
  .bp3-tag-input .bp3-tag-input-icon{
    color:#5c7080;
    margin-left:2px;
    margin-right:7px;
    margin-top:7px; }
  .bp3-tag-input .bp3-tag-input-values{
    display:-webkit-box;
    display:-ms-flexbox;
    display:flex;
    -webkit-box-orient:horizontal;
    -webkit-box-direction:normal;
        -ms-flex-direction:row;
            flex-direction:row;
    -webkit-box-align:center;
        -ms-flex-align:center;
            align-items:center;
    -ms-flex-item-align:stretch;
        align-self:stretch;
    -ms-flex-wrap:wrap;
        flex-wrap:wrap;
    margin-right:7px;
    margin-top:5px;
    min-width:0; }
    .bp3-tag-input .bp3-tag-input-values > *{
      -webkit-box-flex:0;
          -ms-flex-positive:0;
              flex-grow:0;
      -ms-flex-negative:0;
          flex-shrink:0; }
    .bp3-tag-input .bp3-tag-input-values > .bp3-fill{
      -webkit-box-flex:1;
          -ms-flex-positive:1;
              flex-grow:1;
      -ms-flex-negative:1;
          flex-shrink:1; }
    .bp3-tag-input .bp3-tag-input-values::before,
    .bp3-tag-input .bp3-tag-input-values > *{
      margin-right:5px; }
    .bp3-tag-input .bp3-tag-input-values:empty::before,
    .bp3-tag-input .bp3-tag-input-values > :last-child{
      margin-right:0; }
    .bp3-tag-input .bp3-tag-input-values:first-child .bp3-input-ghost:first-child{
      padding-left:5px; }
    .bp3-tag-input .bp3-tag-input-values > *{
      margin-bottom:5px; }
  .bp3-tag-input .bp3-tag{
    overflow-wrap:break-word; }
    .bp3-tag-input .bp3-tag.bp3-active{
      outline:rgba(19, 124, 189, 0.6) auto 2px;
      outline-offset:0;
      -moz-outline-radius:6px; }
  .bp3-tag-input .bp3-input-ghost{
    -webkit-box-flex:1;
        -ms-flex:1 1 auto;
            flex:1 1 auto;
    line-height:20px;
    width:80px; }
    .bp3-tag-input .bp3-input-ghost:disabled, .bp3-tag-input .bp3-input-ghost.bp3-disabled{
      cursor:not-allowed; }
  .bp3-tag-input .bp3-button,
  .bp3-tag-input .bp3-spinner{
    margin:3px;
    margin-left:0; }
  .bp3-tag-input .bp3-button{
    min-height:24px;
    min-width:24px;
    padding:0 7px; }
  .bp3-tag-input.bp3-large{
    height:auto;
    min-height:40px; }
    .bp3-tag-input.bp3-large::before,
    .bp3-tag-input.bp3-large > *{
      margin-right:10px; }
    .bp3-tag-input.bp3-large:empty::before,
    .bp3-tag-input.bp3-large > :last-child{
      margin-right:0; }
    .bp3-tag-input.bp3-large .bp3-tag-input-icon{
      margin-left:5px;
      margin-top:10px; }
    .bp3-tag-input.bp3-large .bp3-input-ghost{
      line-height:30px; }
    .bp3-tag-input.bp3-large .bp3-button{
      min-height:30px;
      min-width:30px;
      padding:5px 10px;
      margin:5px;
      margin-left:0; }
    .bp3-tag-input.bp3-large .bp3-spinner{
      margin:8px;
      margin-left:0; }
  .bp3-tag-input.bp3-active{
    background-color:#ffffff;
    -webkit-box-shadow:0 0 0 1px #137cbd, 0 0 0 3px rgba(19, 124, 189, 0.3), inset 0 1px 1px rgba(16, 22, 26, 0.2);
            box-shadow:0 0 0 1px #137cbd, 0 0 0 3px rgba(19, 124, 189, 0.3), inset 0 1px 1px rgba(16, 22, 26, 0.2); }
    .bp3-tag-input.bp3-active.bp3-intent-primary{
      -webkit-box-shadow:0 0 0 1px #106ba3, 0 0 0 3px rgba(16, 107, 163, 0.3), inset 0 1px 1px rgba(16, 22, 26, 0.2);
              box-shadow:0 0 0 1px #106ba3, 0 0 0 3px rgba(16, 107, 163, 0.3), inset 0 1px 1px rgba(16, 22, 26, 0.2); }
    .bp3-tag-input.bp3-active.bp3-intent-success{
      -webkit-box-shadow:0 0 0 1px #0d8050, 0 0 0 3px rgba(13, 128, 80, 0.3), inset 0 1px 1px rgba(16, 22, 26, 0.2);
              box-shadow:0 0 0 1px #0d8050, 0 0 0 3px rgba(13, 128, 80, 0.3), inset 0 1px 1px rgba(16, 22, 26, 0.2); }
    .bp3-tag-input.bp3-active.bp3-intent-warning{
      -webkit-box-shadow:0 0 0 1px #bf7326, 0 0 0 3px rgba(191, 115, 38, 0.3), inset 0 1px 1px rgba(16, 22, 26, 0.2);
              box-shadow:0 0 0 1px #bf7326, 0 0 0 3px rgba(191, 115, 38, 0.3), inset 0 1px 1px rgba(16, 22, 26, 0.2); }
    .bp3-tag-input.bp3-active.bp3-intent-danger{
      -webkit-box-shadow:0 0 0 1px #c23030, 0 0 0 3px rgba(194, 48, 48, 0.3), inset 0 1px 1px rgba(16, 22, 26, 0.2);
              box-shadow:0 0 0 1px #c23030, 0 0 0 3px rgba(194, 48, 48, 0.3), inset 0 1px 1px rgba(16, 22, 26, 0.2); }
  .bp3-dark .bp3-tag-input .bp3-tag-input-icon, .bp3-tag-input.bp3-dark .bp3-tag-input-icon{
    color:#a7b6c2; }
  .bp3-dark .bp3-tag-input .bp3-input-ghost, .bp3-tag-input.bp3-dark .bp3-input-ghost{
    color:#f5f8fa; }
    .bp3-dark .bp3-tag-input .bp3-input-ghost::-webkit-input-placeholder, .bp3-tag-input.bp3-dark .bp3-input-ghost::-webkit-input-placeholder{
      color:rgba(167, 182, 194, 0.6); }
    .bp3-dark .bp3-tag-input .bp3-input-ghost::-moz-placeholder, .bp3-tag-input.bp3-dark .bp3-input-ghost::-moz-placeholder{
      color:rgba(167, 182, 194, 0.6); }
    .bp3-dark .bp3-tag-input .bp3-input-ghost:-ms-input-placeholder, .bp3-tag-input.bp3-dark .bp3-input-ghost:-ms-input-placeholder{
      color:rgba(167, 182, 194, 0.6); }
    .bp3-dark .bp3-tag-input .bp3-input-ghost::-ms-input-placeholder, .bp3-tag-input.bp3-dark .bp3-input-ghost::-ms-input-placeholder{
      color:rgba(167, 182, 194, 0.6); }
    .bp3-dark .bp3-tag-input .bp3-input-ghost::placeholder, .bp3-tag-input.bp3-dark .bp3-input-ghost::placeholder{
      color:rgba(167, 182, 194, 0.6); }
  .bp3-dark .bp3-tag-input.bp3-active, .bp3-tag-input.bp3-dark.bp3-active{
    background-color:rgba(16, 22, 26, 0.3);
    -webkit-box-shadow:0 0 0 1px #137cbd, 0 0 0 1px #137cbd, 0 0 0 3px rgba(19, 124, 189, 0.3), inset 0 0 0 1px rgba(16, 22, 26, 0.3), inset 0 1px 1px rgba(16, 22, 26, 0.4);
            box-shadow:0 0 0 1px #137cbd, 0 0 0 1px #137cbd, 0 0 0 3px rgba(19, 124, 189, 0.3), inset 0 0 0 1px rgba(16, 22, 26, 0.3), inset 0 1px 1px rgba(16, 22, 26, 0.4); }
    .bp3-dark .bp3-tag-input.bp3-active.bp3-intent-primary, .bp3-tag-input.bp3-dark.bp3-active.bp3-intent-primary{
      -webkit-box-shadow:0 0 0 1px #106ba3, 0 0 0 3px rgba(16, 107, 163, 0.3), inset 0 0 0 1px rgba(16, 22, 26, 0.3), inset 0 1px 1px rgba(16, 22, 26, 0.4);
              box-shadow:0 0 0 1px #106ba3, 0 0 0 3px rgba(16, 107, 163, 0.3), inset 0 0 0 1px rgba(16, 22, 26, 0.3), inset 0 1px 1px rgba(16, 22, 26, 0.4); }
    .bp3-dark .bp3-tag-input.bp3-active.bp3-intent-success, .bp3-tag-input.bp3-dark.bp3-active.bp3-intent-success{
      -webkit-box-shadow:0 0 0 1px #0d8050, 0 0 0 3px rgba(13, 128, 80, 0.3), inset 0 0 0 1px rgba(16, 22, 26, 0.3), inset 0 1px 1px rgba(16, 22, 26, 0.4);
              box-shadow:0 0 0 1px #0d8050, 0 0 0 3px rgba(13, 128, 80, 0.3), inset 0 0 0 1px rgba(16, 22, 26, 0.3), inset 0 1px 1px rgba(16, 22, 26, 0.4); }
    .bp3-dark .bp3-tag-input.bp3-active.bp3-intent-warning, .bp3-tag-input.bp3-dark.bp3-active.bp3-intent-warning{
      -webkit-box-shadow:0 0 0 1px #bf7326, 0 0 0 3px rgba(191, 115, 38, 0.3), inset 0 0 0 1px rgba(16, 22, 26, 0.3), inset 0 1px 1px rgba(16, 22, 26, 0.4);
              box-shadow:0 0 0 1px #bf7326, 0 0 0 3px rgba(191, 115, 38, 0.3), inset 0 0 0 1px rgba(16, 22, 26, 0.3), inset 0 1px 1px rgba(16, 22, 26, 0.4); }
    .bp3-dark .bp3-tag-input.bp3-active.bp3-intent-danger, .bp3-tag-input.bp3-dark.bp3-active.bp3-intent-danger{
      -webkit-box-shadow:0 0 0 1px #c23030, 0 0 0 3px rgba(194, 48, 48, 0.3), inset 0 0 0 1px rgba(16, 22, 26, 0.3), inset 0 1px 1px rgba(16, 22, 26, 0.4);
              box-shadow:0 0 0 1px #c23030, 0 0 0 3px rgba(194, 48, 48, 0.3), inset 0 0 0 1px rgba(16, 22, 26, 0.3), inset 0 1px 1px rgba(16, 22, 26, 0.4); }

.bp3-input-ghost{
  background:none;
  border:none;
  -webkit-box-shadow:none;
          box-shadow:none;
  padding:0; }
  .bp3-input-ghost::-webkit-input-placeholder{
    color:rgba(92, 112, 128, 0.6);
    opacity:1; }
  .bp3-input-ghost::-moz-placeholder{
    color:rgba(92, 112, 128, 0.6);
    opacity:1; }
  .bp3-input-ghost:-ms-input-placeholder{
    color:rgba(92, 112, 128, 0.6);
    opacity:1; }
  .bp3-input-ghost::-ms-input-placeholder{
    color:rgba(92, 112, 128, 0.6);
    opacity:1; }
  .bp3-input-ghost::placeholder{
    color:rgba(92, 112, 128, 0.6);
    opacity:1; }
  .bp3-input-ghost:focus{
    outline:none !important; }
.bp3-toast{
  -webkit-box-align:start;
      -ms-flex-align:start;
          align-items:flex-start;
  background-color:#ffffff;
  border-radius:3px;
  -webkit-box-shadow:0 0 0 1px rgba(16, 22, 26, 0.1), 0 2px 4px rgba(16, 22, 26, 0.2), 0 8px 24px rgba(16, 22, 26, 0.2);
          box-shadow:0 0 0 1px rgba(16, 22, 26, 0.1), 0 2px 4px rgba(16, 22, 26, 0.2), 0 8px 24px rgba(16, 22, 26, 0.2);
  display:-webkit-box;
  display:-ms-flexbox;
  display:flex;
  margin:20px 0 0;
  max-width:500px;
  min-width:300px;
  pointer-events:all;
  position:relative !important; }
  .bp3-toast.bp3-toast-enter, .bp3-toast.bp3-toast-appear{
    -webkit-transform:translateY(-40px);
            transform:translateY(-40px); }
  .bp3-toast.bp3-toast-enter-active, .bp3-toast.bp3-toast-appear-active{
    -webkit-transform:translateY(0);
            transform:translateY(0);
    -webkit-transition-delay:0;
            transition-delay:0;
    -webkit-transition-duration:300ms;
            transition-duration:300ms;
    -webkit-transition-property:-webkit-transform;
    transition-property:-webkit-transform;
    transition-property:transform;
    transition-property:transform, -webkit-transform;
    -webkit-transition-timing-function:cubic-bezier(0.54, 1.12, 0.38, 1.11);
            transition-timing-function:cubic-bezier(0.54, 1.12, 0.38, 1.11); }
  .bp3-toast.bp3-toast-enter ~ .bp3-toast, .bp3-toast.bp3-toast-appear ~ .bp3-toast{
    -webkit-transform:translateY(-40px);
            transform:translateY(-40px); }
  .bp3-toast.bp3-toast-enter-active ~ .bp3-toast, .bp3-toast.bp3-toast-appear-active ~ .bp3-toast{
    -webkit-transform:translateY(0);
            transform:translateY(0);
    -webkit-transition-delay:0;
            transition-delay:0;
    -webkit-transition-duration:300ms;
            transition-duration:300ms;
    -webkit-transition-property:-webkit-transform;
    transition-property:-webkit-transform;
    transition-property:transform;
    transition-property:transform, -webkit-transform;
    -webkit-transition-timing-function:cubic-bezier(0.54, 1.12, 0.38, 1.11);
            transition-timing-function:cubic-bezier(0.54, 1.12, 0.38, 1.11); }
  .bp3-toast.bp3-toast-exit{
    opacity:1;
    -webkit-filter:blur(0);
            filter:blur(0); }
  .bp3-toast.bp3-toast-exit-active{
    opacity:0;
    -webkit-filter:blur(10px);
            filter:blur(10px);
    -webkit-transition-delay:0;
            transition-delay:0;
    -webkit-transition-duration:300ms;
            transition-duration:300ms;
    -webkit-transition-property:opacity, -webkit-filter;
    transition-property:opacity, -webkit-filter;
    transition-property:opacity, filter;
    transition-property:opacity, filter, -webkit-filter;
    -webkit-transition-timing-function:cubic-bezier(0.4, 1, 0.75, 0.9);
            transition-timing-function:cubic-bezier(0.4, 1, 0.75, 0.9); }
  .bp3-toast.bp3-toast-exit ~ .bp3-toast{
    -webkit-transform:translateY(0);
            transform:translateY(0); }
  .bp3-toast.bp3-toast-exit-active ~ .bp3-toast{
    -webkit-transform:translateY(-40px);
            transform:translateY(-40px);
    -webkit-transition-delay:50ms;
            transition-delay:50ms;
    -webkit-transition-duration:100ms;
            transition-duration:100ms;
    -webkit-transition-property:-webkit-transform;
    transition-property:-webkit-transform;
    transition-property:transform;
    transition-property:transform, -webkit-transform;
    -webkit-transition-timing-function:cubic-bezier(0.4, 1, 0.75, 0.9);
            transition-timing-function:cubic-bezier(0.4, 1, 0.75, 0.9); }
  .bp3-toast .bp3-button-group{
    -webkit-box-flex:0;
        -ms-flex:0 0 auto;
            flex:0 0 auto;
    padding:5px;
    padding-left:0; }
  .bp3-toast > .bp3-icon{
    color:#5c7080;
    margin:12px;
    margin-right:0; }
  .bp3-toast.bp3-dark,
  .bp3-dark .bp3-toast{
    background-color:#394b59;
    -webkit-box-shadow:0 0 0 1px rgba(16, 22, 26, 0.2), 0 2px 4px rgba(16, 22, 26, 0.4), 0 8px 24px rgba(16, 22, 26, 0.4);
            box-shadow:0 0 0 1px rgba(16, 22, 26, 0.2), 0 2px 4px rgba(16, 22, 26, 0.4), 0 8px 24px rgba(16, 22, 26, 0.4); }
    .bp3-toast.bp3-dark > .bp3-icon,
    .bp3-dark .bp3-toast > .bp3-icon{
      color:#a7b6c2; }
  .bp3-toast[class*="bp3-intent-"] a{
    color:rgba(255, 255, 255, 0.7); }
    .bp3-toast[class*="bp3-intent-"] a:hover{
      color:#ffffff; }
  .bp3-toast[class*="bp3-intent-"] > .bp3-icon{
    color:#ffffff; }
  .bp3-toast[class*="bp3-intent-"] .bp3-button, .bp3-toast[class*="bp3-intent-"] .bp3-button::before,
  .bp3-toast[class*="bp3-intent-"] .bp3-button .bp3-icon, .bp3-toast[class*="bp3-intent-"] .bp3-button:active{
    color:rgba(255, 255, 255, 0.7) !important; }
  .bp3-toast[class*="bp3-intent-"] .bp3-button:focus{
    outline-color:rgba(255, 255, 255, 0.5); }
  .bp3-toast[class*="bp3-intent-"] .bp3-button:hover{
    background-color:rgba(255, 255, 255, 0.15) !important;
    color:#ffffff !important; }
  .bp3-toast[class*="bp3-intent-"] .bp3-button:active{
    background-color:rgba(255, 255, 255, 0.3) !important;
    color:#ffffff !important; }
  .bp3-toast[class*="bp3-intent-"] .bp3-button::after{
    background:rgba(255, 255, 255, 0.3) !important; }
  .bp3-toast.bp3-intent-primary{
    background-color:#137cbd;
    color:#ffffff; }
  .bp3-toast.bp3-intent-success{
    background-color:#0f9960;
    color:#ffffff; }
  .bp3-toast.bp3-intent-warning{
    background-color:#d9822b;
    color:#ffffff; }
  .bp3-toast.bp3-intent-danger{
    background-color:#db3737;
    color:#ffffff; }

.bp3-toast-message{
  -webkit-box-flex:1;
      -ms-flex:1 1 auto;
          flex:1 1 auto;
  padding:11px;
  word-break:break-word; }

.bp3-toast-container{
  -webkit-box-align:center;
      -ms-flex-align:center;
          align-items:center;
  display:-webkit-box !important;
  display:-ms-flexbox !important;
  display:flex !important;
  -webkit-box-orient:vertical;
  -webkit-box-direction:normal;
      -ms-flex-direction:column;
          flex-direction:column;
  left:0;
  overflow:hidden;
  padding:0 20px 20px;
  pointer-events:none;
  right:0;
  z-index:40; }
  .bp3-toast-container.bp3-toast-container-in-portal{
    position:fixed; }
  .bp3-toast-container.bp3-toast-container-inline{
    position:absolute; }
  .bp3-toast-container.bp3-toast-container-top{
    top:0; }
  .bp3-toast-container.bp3-toast-container-bottom{
    bottom:0;
    -webkit-box-orient:vertical;
    -webkit-box-direction:reverse;
        -ms-flex-direction:column-reverse;
            flex-direction:column-reverse;
    top:auto; }
  .bp3-toast-container.bp3-toast-container-left{
    -webkit-box-align:start;
        -ms-flex-align:start;
            align-items:flex-start; }
  .bp3-toast-container.bp3-toast-container-right{
    -webkit-box-align:end;
        -ms-flex-align:end;
            align-items:flex-end; }

.bp3-toast-container-bottom .bp3-toast.bp3-toast-enter:not(.bp3-toast-enter-active),
.bp3-toast-container-bottom .bp3-toast.bp3-toast-enter:not(.bp3-toast-enter-active) ~ .bp3-toast, .bp3-toast-container-bottom .bp3-toast.bp3-toast-appear:not(.bp3-toast-appear-active),
.bp3-toast-container-bottom .bp3-toast.bp3-toast-appear:not(.bp3-toast-appear-active) ~ .bp3-toast,
.bp3-toast-container-bottom .bp3-toast.bp3-toast-exit-active ~ .bp3-toast,
.bp3-toast-container-bottom .bp3-toast.bp3-toast-leave-active ~ .bp3-toast{
  -webkit-transform:translateY(60px);
          transform:translateY(60px); }
.bp3-tooltip{
  -webkit-box-shadow:0 0 0 1px rgba(16, 22, 26, 0.1), 0 2px 4px rgba(16, 22, 26, 0.2), 0 8px 24px rgba(16, 22, 26, 0.2);
          box-shadow:0 0 0 1px rgba(16, 22, 26, 0.1), 0 2px 4px rgba(16, 22, 26, 0.2), 0 8px 24px rgba(16, 22, 26, 0.2);
  -webkit-transform:scale(1);
          transform:scale(1); }
  .bp3-tooltip .bp3-popover-arrow{
    height:22px;
    position:absolute;
    width:22px; }
    .bp3-tooltip .bp3-popover-arrow::before{
      height:14px;
      margin:4px;
      width:14px; }
  .bp3-tether-element-attached-bottom.bp3-tether-target-attached-top > .bp3-tooltip{
    margin-bottom:11px;
    margin-top:-11px; }
    .bp3-tether-element-attached-bottom.bp3-tether-target-attached-top > .bp3-tooltip > .bp3-popover-arrow{
      bottom:-8px; }
      .bp3-tether-element-attached-bottom.bp3-tether-target-attached-top > .bp3-tooltip > .bp3-popover-arrow svg{
        -webkit-transform:rotate(-90deg);
                transform:rotate(-90deg); }
  .bp3-tether-element-attached-left.bp3-tether-target-attached-right > .bp3-tooltip{
    margin-left:11px; }
    .bp3-tether-element-attached-left.bp3-tether-target-attached-right > .bp3-tooltip > .bp3-popover-arrow{
      left:-8px; }
      .bp3-tether-element-attached-left.bp3-tether-target-attached-right > .bp3-tooltip > .bp3-popover-arrow svg{
        -webkit-transform:rotate(0);
                transform:rotate(0); }
  .bp3-tether-element-attached-top.bp3-tether-target-attached-bottom > .bp3-tooltip{
    margin-top:11px; }
    .bp3-tether-element-attached-top.bp3-tether-target-attached-bottom > .bp3-tooltip > .bp3-popover-arrow{
      top:-8px; }
      .bp3-tether-element-attached-top.bp3-tether-target-attached-bottom > .bp3-tooltip > .bp3-popover-arrow svg{
        -webkit-transform:rotate(90deg);
                transform:rotate(90deg); }
  .bp3-tether-element-attached-right.bp3-tether-target-attached-left > .bp3-tooltip{
    margin-left:-11px;
    margin-right:11px; }
    .bp3-tether-element-attached-right.bp3-tether-target-attached-left > .bp3-tooltip > .bp3-popover-arrow{
      right:-8px; }
      .bp3-tether-element-attached-right.bp3-tether-target-attached-left > .bp3-tooltip > .bp3-popover-arrow svg{
        -webkit-transform:rotate(180deg);
                transform:rotate(180deg); }
  .bp3-tether-element-attached-middle > .bp3-tooltip > .bp3-popover-arrow{
    top:50%;
    -webkit-transform:translateY(-50%);
            transform:translateY(-50%); }
  .bp3-tether-element-attached-center > .bp3-tooltip > .bp3-popover-arrow{
    right:50%;
    -webkit-transform:translateX(50%);
            transform:translateX(50%); }
  .bp3-tether-element-attached-top.bp3-tether-target-attached-top > .bp3-tooltip > .bp3-popover-arrow{
    top:-0.22183px; }
  .bp3-tether-element-attached-right.bp3-tether-target-attached-right > .bp3-tooltip > .bp3-popover-arrow{
    right:-0.22183px; }
  .bp3-tether-element-attached-left.bp3-tether-target-attached-left > .bp3-tooltip > .bp3-popover-arrow{
    left:-0.22183px; }
  .bp3-tether-element-attached-bottom.bp3-tether-target-attached-bottom > .bp3-tooltip > .bp3-popover-arrow{
    bottom:-0.22183px; }
  .bp3-tether-element-attached-top.bp3-tether-element-attached-left > .bp3-tooltip{
    -webkit-transform-origin:top left;
            transform-origin:top left; }
  .bp3-tether-element-attached-top.bp3-tether-element-attached-center > .bp3-tooltip{
    -webkit-transform-origin:top center;
            transform-origin:top center; }
  .bp3-tether-element-attached-top.bp3-tether-element-attached-right > .bp3-tooltip{
    -webkit-transform-origin:top right;
            transform-origin:top right; }
  .bp3-tether-element-attached-middle.bp3-tether-element-attached-left > .bp3-tooltip{
    -webkit-transform-origin:center left;
            transform-origin:center left; }
  .bp3-tether-element-attached-middle.bp3-tether-element-attached-center > .bp3-tooltip{
    -webkit-transform-origin:center center;
            transform-origin:center center; }
  .bp3-tether-element-attached-middle.bp3-tether-element-attached-right > .bp3-tooltip{
    -webkit-transform-origin:center right;
            transform-origin:center right; }
  .bp3-tether-element-attached-bottom.bp3-tether-element-attached-left > .bp3-tooltip{
    -webkit-transform-origin:bottom left;
            transform-origin:bottom left; }
  .bp3-tether-element-attached-bottom.bp3-tether-element-attached-center > .bp3-tooltip{
    -webkit-transform-origin:bottom center;
            transform-origin:bottom center; }
  .bp3-tether-element-attached-bottom.bp3-tether-element-attached-right > .bp3-tooltip{
    -webkit-transform-origin:bottom right;
            transform-origin:bottom right; }
  .bp3-tooltip .bp3-popover-content{
    background:#394b59;
    color:#f5f8fa; }
  .bp3-tooltip .bp3-popover-arrow::before{
    -webkit-box-shadow:1px 1px 6px rgba(16, 22, 26, 0.2);
            box-shadow:1px 1px 6px rgba(16, 22, 26, 0.2); }
  .bp3-tooltip .bp3-popover-arrow-border{
    fill:#10161a;
    fill-opacity:0.1; }
  .bp3-tooltip .bp3-popover-arrow-fill{
    fill:#394b59; }
  .bp3-popover-enter > .bp3-tooltip, .bp3-popover-appear > .bp3-tooltip{
    -webkit-transform:scale(0.8);
            transform:scale(0.8); }
  .bp3-popover-enter-active > .bp3-tooltip, .bp3-popover-appear-active > .bp3-tooltip{
    -webkit-transform:scale(1);
            transform:scale(1);
    -webkit-transition-delay:0;
            transition-delay:0;
    -webkit-transition-duration:100ms;
            transition-duration:100ms;
    -webkit-transition-property:-webkit-transform;
    transition-property:-webkit-transform;
    transition-property:transform;
    transition-property:transform, -webkit-transform;
    -webkit-transition-timing-function:cubic-bezier(0.4, 1, 0.75, 0.9);
            transition-timing-function:cubic-bezier(0.4, 1, 0.75, 0.9); }
  .bp3-popover-exit > .bp3-tooltip{
    -webkit-transform:scale(1);
            transform:scale(1); }
  .bp3-popover-exit-active > .bp3-tooltip{
    -webkit-transform:scale(0.8);
            transform:scale(0.8);
    -webkit-transition-delay:0;
            transition-delay:0;
    -webkit-transition-duration:100ms;
            transition-duration:100ms;
    -webkit-transition-property:-webkit-transform;
    transition-property:-webkit-transform;
    transition-property:transform;
    transition-property:transform, -webkit-transform;
    -webkit-transition-timing-function:cubic-bezier(0.4, 1, 0.75, 0.9);
            transition-timing-function:cubic-bezier(0.4, 1, 0.75, 0.9); }
  .bp3-tooltip .bp3-popover-content{
    padding:10px 12px; }
  .bp3-tooltip.bp3-dark,
  .bp3-dark .bp3-tooltip{
    -webkit-box-shadow:0 0 0 1px rgba(16, 22, 26, 0.2), 0 2px 4px rgba(16, 22, 26, 0.4), 0 8px 24px rgba(16, 22, 26, 0.4);
            box-shadow:0 0 0 1px rgba(16, 22, 26, 0.2), 0 2px 4px rgba(16, 22, 26, 0.4), 0 8px 24px rgba(16, 22, 26, 0.4); }
    .bp3-tooltip.bp3-dark .bp3-popover-content,
    .bp3-dark .bp3-tooltip .bp3-popover-content{
      background:#e1e8ed;
      color:#394b59; }
    .bp3-tooltip.bp3-dark .bp3-popover-arrow::before,
    .bp3-dark .bp3-tooltip .bp3-popover-arrow::before{
      -webkit-box-shadow:1px 1px 6px rgba(16, 22, 26, 0.4);
              box-shadow:1px 1px 6px rgba(16, 22, 26, 0.4); }
    .bp3-tooltip.bp3-dark .bp3-popover-arrow-border,
    .bp3-dark .bp3-tooltip .bp3-popover-arrow-border{
      fill:#10161a;
      fill-opacity:0.2; }
    .bp3-tooltip.bp3-dark .bp3-popover-arrow-fill,
    .bp3-dark .bp3-tooltip .bp3-popover-arrow-fill{
      fill:#e1e8ed; }
  .bp3-tooltip.bp3-intent-primary .bp3-popover-content{
    background:#137cbd;
    color:#ffffff; }
  .bp3-tooltip.bp3-intent-primary .bp3-popover-arrow-fill{
    fill:#137cbd; }
  .bp3-tooltip.bp3-intent-success .bp3-popover-content{
    background:#0f9960;
    color:#ffffff; }
  .bp3-tooltip.bp3-intent-success .bp3-popover-arrow-fill{
    fill:#0f9960; }
  .bp3-tooltip.bp3-intent-warning .bp3-popover-content{
    background:#d9822b;
    color:#ffffff; }
  .bp3-tooltip.bp3-intent-warning .bp3-popover-arrow-fill{
    fill:#d9822b; }
  .bp3-tooltip.bp3-intent-danger .bp3-popover-content{
    background:#db3737;
    color:#ffffff; }
  .bp3-tooltip.bp3-intent-danger .bp3-popover-arrow-fill{
    fill:#db3737; }

.bp3-tooltip-indicator{
  border-bottom:dotted 1px;
  cursor:help; }
.bp3-tree .bp3-icon, .bp3-tree .bp3-icon-standard, .bp3-tree .bp3-icon-large{
  color:#5c7080; }
  .bp3-tree .bp3-icon.bp3-intent-primary, .bp3-tree .bp3-icon-standard.bp3-intent-primary, .bp3-tree .bp3-icon-large.bp3-intent-primary{
    color:#137cbd; }
  .bp3-tree .bp3-icon.bp3-intent-success, .bp3-tree .bp3-icon-standard.bp3-intent-success, .bp3-tree .bp3-icon-large.bp3-intent-success{
    color:#0f9960; }
  .bp3-tree .bp3-icon.bp3-intent-warning, .bp3-tree .bp3-icon-standard.bp3-intent-warning, .bp3-tree .bp3-icon-large.bp3-intent-warning{
    color:#d9822b; }
  .bp3-tree .bp3-icon.bp3-intent-danger, .bp3-tree .bp3-icon-standard.bp3-intent-danger, .bp3-tree .bp3-icon-large.bp3-intent-danger{
    color:#db3737; }

.bp3-tree-node-list{
  list-style:none;
  margin:0;
  padding-left:0; }

.bp3-tree-root{
  background-color:transparent;
  cursor:default;
  padding-left:0;
  position:relative; }

.bp3-tree-node-content-0{
  padding-left:0px; }

.bp3-tree-node-content-1{
  padding-left:23px; }

.bp3-tree-node-content-2{
  padding-left:46px; }

.bp3-tree-node-content-3{
  padding-left:69px; }

.bp3-tree-node-content-4{
  padding-left:92px; }

.bp3-tree-node-content-5{
  padding-left:115px; }

.bp3-tree-node-content-6{
  padding-left:138px; }

.bp3-tree-node-content-7{
  padding-left:161px; }

.bp3-tree-node-content-8{
  padding-left:184px; }

.bp3-tree-node-content-9{
  padding-left:207px; }

.bp3-tree-node-content-10{
  padding-left:230px; }

.bp3-tree-node-content-11{
  padding-left:253px; }

.bp3-tree-node-content-12{
  padding-left:276px; }

.bp3-tree-node-content-13{
  padding-left:299px; }

.bp3-tree-node-content-14{
  padding-left:322px; }

.bp3-tree-node-content-15{
  padding-left:345px; }

.bp3-tree-node-content-16{
  padding-left:368px; }

.bp3-tree-node-content-17{
  padding-left:391px; }

.bp3-tree-node-content-18{
  padding-left:414px; }

.bp3-tree-node-content-19{
  padding-left:437px; }

.bp3-tree-node-content-20{
  padding-left:460px; }

.bp3-tree-node-content{
  -webkit-box-align:center;
      -ms-flex-align:center;
          align-items:center;
  display:-webkit-box;
  display:-ms-flexbox;
  display:flex;
  height:30px;
  padding-right:5px;
  width:100%; }
  .bp3-tree-node-content:hover{
    background-color:rgba(191, 204, 214, 0.4); }

.bp3-tree-node-caret,
.bp3-tree-node-caret-none{
  min-width:30px; }

.bp3-tree-node-caret{
  color:#5c7080;
  cursor:pointer;
  padding:7px;
  -webkit-transform:rotate(0deg);
          transform:rotate(0deg);
  -webkit-transition:-webkit-transform 200ms cubic-bezier(0.4, 1, 0.75, 0.9);
  transition:-webkit-transform 200ms cubic-bezier(0.4, 1, 0.75, 0.9);
  transition:transform 200ms cubic-bezier(0.4, 1, 0.75, 0.9);
  transition:transform 200ms cubic-bezier(0.4, 1, 0.75, 0.9), -webkit-transform 200ms cubic-bezier(0.4, 1, 0.75, 0.9); }
  .bp3-tree-node-caret:hover{
    color:#182026; }
  .bp3-dark .bp3-tree-node-caret{
    color:#a7b6c2; }
    .bp3-dark .bp3-tree-node-caret:hover{
      color:#f5f8fa; }
  .bp3-tree-node-caret.bp3-tree-node-caret-open{
    -webkit-transform:rotate(90deg);
            transform:rotate(90deg); }
  .bp3-tree-node-caret.bp3-icon-standard::before{
    content:""; }

.bp3-tree-node-icon{
  margin-right:7px;
  position:relative; }

.bp3-tree-node-label{
  overflow:hidden;
  text-overflow:ellipsis;
  white-space:nowrap;
  word-wrap:normal;
  -webkit-box-flex:1;
      -ms-flex:1 1 auto;
          flex:1 1 auto;
  position:relative;
  -webkit-user-select:none;
     -moz-user-select:none;
      -ms-user-select:none;
          user-select:none; }
  .bp3-tree-node-label span{
    display:inline; }

.bp3-tree-node-secondary-label{
  padding:0 5px;
  -webkit-user-select:none;
     -moz-user-select:none;
      -ms-user-select:none;
          user-select:none; }
  .bp3-tree-node-secondary-label .bp3-popover-wrapper,
  .bp3-tree-node-secondary-label .bp3-popover-target{
    -webkit-box-align:center;
        -ms-flex-align:center;
            align-items:center;
    display:-webkit-box;
    display:-ms-flexbox;
    display:flex; }

.bp3-tree-node.bp3-disabled .bp3-tree-node-content{
  background-color:inherit;
  color:rgba(92, 112, 128, 0.6);
  cursor:not-allowed; }

.bp3-tree-node.bp3-disabled .bp3-tree-node-caret,
.bp3-tree-node.bp3-disabled .bp3-tree-node-icon{
  color:rgba(92, 112, 128, 0.6);
  cursor:not-allowed; }

.bp3-tree-node.bp3-tree-node-selected > .bp3-tree-node-content{
  background-color:#137cbd; }
  .bp3-tree-node.bp3-tree-node-selected > .bp3-tree-node-content,
  .bp3-tree-node.bp3-tree-node-selected > .bp3-tree-node-content .bp3-icon, .bp3-tree-node.bp3-tree-node-selected > .bp3-tree-node-content .bp3-icon-standard, .bp3-tree-node.bp3-tree-node-selected > .bp3-tree-node-content .bp3-icon-large{
    color:#ffffff; }
  .bp3-tree-node.bp3-tree-node-selected > .bp3-tree-node-content .bp3-tree-node-caret::before{
    color:rgba(255, 255, 255, 0.7); }
  .bp3-tree-node.bp3-tree-node-selected > .bp3-tree-node-content .bp3-tree-node-caret:hover::before{
    color:#ffffff; }

.bp3-dark .bp3-tree-node-content:hover{
  background-color:rgba(92, 112, 128, 0.3); }

.bp3-dark .bp3-tree .bp3-icon, .bp3-dark .bp3-tree .bp3-icon-standard, .bp3-dark .bp3-tree .bp3-icon-large{
  color:#a7b6c2; }
  .bp3-dark .bp3-tree .bp3-icon.bp3-intent-primary, .bp3-dark .bp3-tree .bp3-icon-standard.bp3-intent-primary, .bp3-dark .bp3-tree .bp3-icon-large.bp3-intent-primary{
    color:#137cbd; }
  .bp3-dark .bp3-tree .bp3-icon.bp3-intent-success, .bp3-dark .bp3-tree .bp3-icon-standard.bp3-intent-success, .bp3-dark .bp3-tree .bp3-icon-large.bp3-intent-success{
    color:#0f9960; }
  .bp3-dark .bp3-tree .bp3-icon.bp3-intent-warning, .bp3-dark .bp3-tree .bp3-icon-standard.bp3-intent-warning, .bp3-dark .bp3-tree .bp3-icon-large.bp3-intent-warning{
    color:#d9822b; }
  .bp3-dark .bp3-tree .bp3-icon.bp3-intent-danger, .bp3-dark .bp3-tree .bp3-icon-standard.bp3-intent-danger, .bp3-dark .bp3-tree .bp3-icon-large.bp3-intent-danger{
    color:#db3737; }

.bp3-dark .bp3-tree-node.bp3-tree-node-selected > .bp3-tree-node-content{
  background-color:#137cbd; }
.bp3-omnibar{
  -webkit-filter:blur(0);
          filter:blur(0);
  opacity:1;
  background-color:#ffffff;
  border-radius:3px;
  -webkit-box-shadow:0 0 0 1px rgba(16, 22, 26, 0.1), 0 4px 8px rgba(16, 22, 26, 0.2), 0 18px 46px 6px rgba(16, 22, 26, 0.2);
          box-shadow:0 0 0 1px rgba(16, 22, 26, 0.1), 0 4px 8px rgba(16, 22, 26, 0.2), 0 18px 46px 6px rgba(16, 22, 26, 0.2);
  left:calc(50% - 250px);
  top:20vh;
  width:500px;
  z-index:21; }
  .bp3-omnibar.bp3-overlay-enter, .bp3-omnibar.bp3-overlay-appear{
    -webkit-filter:blur(20px);
            filter:blur(20px);
    opacity:0.2; }
  .bp3-omnibar.bp3-overlay-enter-active, .bp3-omnibar.bp3-overlay-appear-active{
    -webkit-filter:blur(0);
            filter:blur(0);
    opacity:1;
    -webkit-transition-delay:0;
            transition-delay:0;
    -webkit-transition-duration:200ms;
            transition-duration:200ms;
    -webkit-transition-property:opacity, -webkit-filter;
    transition-property:opacity, -webkit-filter;
    transition-property:filter, opacity;
    transition-property:filter, opacity, -webkit-filter;
    -webkit-transition-timing-function:cubic-bezier(0.4, 1, 0.75, 0.9);
            transition-timing-function:cubic-bezier(0.4, 1, 0.75, 0.9); }
  .bp3-omnibar.bp3-overlay-exit{
    -webkit-filter:blur(0);
            filter:blur(0);
    opacity:1; }
  .bp3-omnibar.bp3-overlay-exit-active{
    -webkit-filter:blur(20px);
            filter:blur(20px);
    opacity:0.2;
    -webkit-transition-delay:0;
            transition-delay:0;
    -webkit-transition-duration:200ms;
            transition-duration:200ms;
    -webkit-transition-property:opacity, -webkit-filter;
    transition-property:opacity, -webkit-filter;
    transition-property:filter, opacity;
    transition-property:filter, opacity, -webkit-filter;
    -webkit-transition-timing-function:cubic-bezier(0.4, 1, 0.75, 0.9);
            transition-timing-function:cubic-bezier(0.4, 1, 0.75, 0.9); }
  .bp3-omnibar .bp3-input{
    background-color:transparent;
    border-radius:0; }
    .bp3-omnibar .bp3-input, .bp3-omnibar .bp3-input:focus{
      -webkit-box-shadow:none;
              box-shadow:none; }
  .bp3-omnibar .bp3-menu{
    background-color:transparent;
    border-radius:0;
    -webkit-box-shadow:inset 0 1px 0 rgba(16, 22, 26, 0.15);
            box-shadow:inset 0 1px 0 rgba(16, 22, 26, 0.15);
    max-height:calc(60vh - 40px);
    overflow:auto; }
    .bp3-omnibar .bp3-menu:empty{
      display:none; }
  .bp3-dark .bp3-omnibar, .bp3-omnibar.bp3-dark{
    background-color:#30404d;
    -webkit-box-shadow:0 0 0 1px rgba(16, 22, 26, 0.2), 0 4px 8px rgba(16, 22, 26, 0.4), 0 18px 46px 6px rgba(16, 22, 26, 0.4);
            box-shadow:0 0 0 1px rgba(16, 22, 26, 0.2), 0 4px 8px rgba(16, 22, 26, 0.4), 0 18px 46px 6px rgba(16, 22, 26, 0.4); }

.bp3-omnibar-overlay .bp3-overlay-backdrop{
  background-color:rgba(16, 22, 26, 0.2); }

.bp3-select-popover .bp3-popover-content{
  padding:5px; }

.bp3-select-popover .bp3-input-group{
  margin-bottom:0; }

.bp3-select-popover .bp3-menu{
  max-height:300px;
  max-width:400px;
  overflow:auto;
  padding:0; }
  .bp3-select-popover .bp3-menu:not(:first-child){
    padding-top:5px; }

.bp3-multi-select{
  min-width:150px; }

.bp3-multi-select-popover .bp3-menu{
  max-height:300px;
  max-width:400px;
  overflow:auto; }

.bp3-select-popover .bp3-popover-content{
  padding:5px; }

.bp3-select-popover .bp3-input-group{
  margin-bottom:0; }

.bp3-select-popover .bp3-menu{
  max-height:300px;
  max-width:400px;
  overflow:auto;
  padding:0; }
  .bp3-select-popover .bp3-menu:not(:first-child){
    padding-top:5px; }
/*-----------------------------------------------------------------------------
| Copyright (c) Jupyter Development Team.
| Distributed under the terms of the Modified BSD License.
|----------------------------------------------------------------------------*/

/* This file was auto-generated by ensureUiComponents() in @jupyterlab/buildutils */

/**
 * (DEPRECATED) Support for consuming icons as CSS background images
 */

/* Icons urls */

:root {
  --jp-icon-add: url(data:image/svg+xml;base64,PHN2ZyB4bWxucz0iaHR0cDovL3d3dy53My5vcmcvMjAwMC9zdmciIHdpZHRoPSIxNiIgdmlld0JveD0iMCAwIDI0IDI0Ij4KICA8ZyBjbGFzcz0ianAtaWNvbjMiIGZpbGw9IiM2MTYxNjEiPgogICAgPHBhdGggZD0iTTE5IDEzaC02djZoLTJ2LTZINXYtMmg2VjVoMnY2aDZ2MnoiLz4KICA8L2c+Cjwvc3ZnPgo=);
  --jp-icon-bug: url(data:image/svg+xml;base64,PHN2ZyB2aWV3Qm94PSIwIDAgMjQgMjQiIHdpZHRoPSIxNiIgeG1sbnM9Imh0dHA6Ly93d3cudzMub3JnLzIwMDAvc3ZnIj4KICA8ZyBjbGFzcz0ianAtaWNvbjMganAtaWNvbi1zZWxlY3RhYmxlIiBmaWxsPSIjNjE2MTYxIj4KICAgIDxwYXRoIGQ9Ik0yMCA4aC0yLjgxYy0uNDUtLjc4LTEuMDctMS40NS0xLjgyLTEuOTZMMTcgNC40MSAxNS41OSAzbC0yLjE3IDIuMTdDMTIuOTYgNS4wNiAxMi40OSA1IDEyIDVjLS40OSAwLS45Ni4wNi0xLjQxLjE3TDguNDEgMyA3IDQuNDFsMS42MiAxLjYzQzcuODggNi41NSA3LjI2IDcuMjIgNi44MSA4SDR2MmgyLjA5Yy0uMDUuMzMtLjA5LjY2LS4wOSAxdjFINHYyaDJ2MWMwIC4zNC4wNC42Ny4wOSAxSDR2MmgyLjgxYzEuMDQgMS43OSAyLjk3IDMgNS4xOSAzczQuMTUtMS4yMSA1LjE5LTNIMjB2LTJoLTIuMDljLjA1LS4zMy4wOS0uNjYuMDktMXYtMWgydi0yaC0ydi0xYzAtLjM0LS4wNC0uNjctLjA5LTFIMjBWOHptLTYgOGgtNHYtMmg0djJ6bTAtNGgtNHYtMmg0djJ6Ii8+CiAgPC9nPgo8L3N2Zz4K);
  --jp-icon-build: url(data:image/svg+xml;base64,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);
  --jp-icon-caret-down-empty-thin: url(data:image/svg+xml;base64,PHN2ZyB4bWxucz0iaHR0cDovL3d3dy53My5vcmcvMjAwMC9zdmciIHdpZHRoPSIxNiIgdmlld0JveD0iMCAwIDIwIDIwIj4KCTxnIGNsYXNzPSJqcC1pY29uMyIgZmlsbD0iIzYxNjE2MSIgc2hhcGUtcmVuZGVyaW5nPSJnZW9tZXRyaWNQcmVjaXNpb24iPgoJCTxwb2x5Z29uIGNsYXNzPSJzdDEiIHBvaW50cz0iOS45LDEzLjYgMy42LDcuNCA0LjQsNi42IDkuOSwxMi4yIDE1LjQsNi43IDE2LjEsNy40ICIvPgoJPC9nPgo8L3N2Zz4K);
  --jp-icon-caret-down-empty: url(data:image/svg+xml;base64,PHN2ZyB4bWxucz0iaHR0cDovL3d3dy53My5vcmcvMjAwMC9zdmciIHdpZHRoPSIxNiIgdmlld0JveD0iMCAwIDE4IDE4Ij4KICA8ZyBjbGFzcz0ianAtaWNvbjMiIGZpbGw9IiM2MTYxNjEiIHNoYXBlLXJlbmRlcmluZz0iZ2VvbWV0cmljUHJlY2lzaW9uIj4KICAgIDxwYXRoIGQ9Ik01LjIsNS45TDksOS43bDMuOC0zLjhsMS4yLDEuMmwtNC45LDVsLTQuOS01TDUuMiw1Ljl6Ii8+CiAgPC9nPgo8L3N2Zz4K);
  --jp-icon-caret-down: url(data:image/svg+xml;base64,PHN2ZyB4bWxucz0iaHR0cDovL3d3dy53My5vcmcvMjAwMC9zdmciIHdpZHRoPSIxNiIgdmlld0JveD0iMCAwIDE4IDE4Ij4KICA8ZyBjbGFzcz0ianAtaWNvbjMiIGZpbGw9IiM2MTYxNjEiIHNoYXBlLXJlbmRlcmluZz0iZ2VvbWV0cmljUHJlY2lzaW9uIj4KICAgIDxwYXRoIGQ9Ik01LjIsNy41TDksMTEuMmwzLjgtMy44SDUuMnoiLz4KICA8L2c+Cjwvc3ZnPgo=);
  --jp-icon-caret-left: url(data:image/svg+xml;base64,PHN2ZyB4bWxucz0iaHR0cDovL3d3dy53My5vcmcvMjAwMC9zdmciIHdpZHRoPSIxNiIgdmlld0JveD0iMCAwIDE4IDE4Ij4KCTxnIGNsYXNzPSJqcC1pY29uMyIgZmlsbD0iIzYxNjE2MSIgc2hhcGUtcmVuZGVyaW5nPSJnZW9tZXRyaWNQcmVjaXNpb24iPgoJCTxwYXRoIGQ9Ik0xMC44LDEyLjhMNy4xLDlsMy44LTMuOGwwLDcuNkgxMC44eiIvPgogIDwvZz4KPC9zdmc+Cg==);
  --jp-icon-caret-right: url(data:image/svg+xml;base64,PHN2ZyB4bWxucz0iaHR0cDovL3d3dy53My5vcmcvMjAwMC9zdmciIHdpZHRoPSIxNiIgdmlld0JveD0iMCAwIDE4IDE4Ij4KICA8ZyBjbGFzcz0ianAtaWNvbjMiIGZpbGw9IiM2MTYxNjEiIHNoYXBlLXJlbmRlcmluZz0iZ2VvbWV0cmljUHJlY2lzaW9uIj4KICAgIDxwYXRoIGQ9Ik03LjIsNS4yTDEwLjksOWwtMy44LDMuOFY1LjJINy4yeiIvPgogIDwvZz4KPC9zdmc+Cg==);
  --jp-icon-caret-up-empty-thin: url(data:image/svg+xml;base64,PHN2ZyB4bWxucz0iaHR0cDovL3d3dy53My5vcmcvMjAwMC9zdmciIHdpZHRoPSIxNiIgdmlld0JveD0iMCAwIDIwIDIwIj4KCTxnIGNsYXNzPSJqcC1pY29uMyIgZmlsbD0iIzYxNjE2MSIgc2hhcGUtcmVuZGVyaW5nPSJnZW9tZXRyaWNQcmVjaXNpb24iPgoJCTxwb2x5Z29uIGNsYXNzPSJzdDEiIHBvaW50cz0iMTUuNCwxMy4zIDkuOSw3LjcgNC40LDEzLjIgMy42LDEyLjUgOS45LDYuMyAxNi4xLDEyLjYgIi8+Cgk8L2c+Cjwvc3ZnPgo=);
  --jp-icon-caret-up: url(data:image/svg+xml;base64,PHN2ZyB4bWxucz0iaHR0cDovL3d3dy53My5vcmcvMjAwMC9zdmciIHdpZHRoPSIxNiIgdmlld0JveD0iMCAwIDE4IDE4Ij4KCTxnIGNsYXNzPSJqcC1pY29uMyIgZmlsbD0iIzYxNjE2MSIgc2hhcGUtcmVuZGVyaW5nPSJnZW9tZXRyaWNQcmVjaXNpb24iPgoJCTxwYXRoIGQ9Ik01LjIsMTAuNUw5LDYuOGwzLjgsMy44SDUuMnoiLz4KICA8L2c+Cjwvc3ZnPgo=);
  --jp-icon-case-sensitive: url(data:image/svg+xml;base64,PHN2ZyB4bWxucz0iaHR0cDovL3d3dy53My5vcmcvMjAwMC9zdmciIHdpZHRoPSIxNiIgdmlld0JveD0iMCAwIDIwIDIwIj4KICA8ZyBjbGFzcz0ianAtaWNvbjIiIGZpbGw9IiM0MTQxNDEiPgogICAgPHJlY3QgeD0iMiIgeT0iMiIgd2lkdGg9IjE2IiBoZWlnaHQ9IjE2Ii8+CiAgPC9nPgogIDxnIGNsYXNzPSJqcC1pY29uLWFjY2VudDIiIGZpbGw9IiNGRkYiPgogICAgPHBhdGggZD0iTTcuNiw4aDAuOWwzLjUsOGgtMS4xTDEwLDE0SDZsLTAuOSwySDRMNy42LDh6IE04LDkuMUw2LjQsMTNoMy4yTDgsOS4xeiIvPgogICAgPHBhdGggZD0iTTE2LjYsOS44Yy0wLjIsMC4xLTAuNCwwLjEtMC43LDAuMWMtMC4yLDAtMC40LTAuMS0wLjYtMC4yYy0wLjEtMC4xLTAuMi0wLjQtMC4yLTAuNyBjLTAuMywwLjMtMC42LDAuNS0wLjksMC43Yy0wLjMsMC4xLTAuNywwLjItMS4xLDAuMmMtMC4zLDAtMC41LDAtMC43LTAuMWMtMC4yLTAuMS0wLjQtMC4yLTAuNi0wLjNjLTAuMi0wLjEtMC4zLTAuMy0wLjQtMC41IGMtMC4xLTAuMi0wLjEtMC40LTAuMS0wLjdjMC0wLjMsMC4xLTAuNiwwLjItMC44YzAuMS0wLjIsMC4zLTAuNCwwLjQtMC41QzEyLDcsMTIuMiw2LjksMTIuNSw2LjhjMC4yLTAuMSwwLjUtMC4xLDAuNy0wLjIgYzAuMy0wLjEsMC41LTAuMSwwLjctMC4xYzAuMiwwLDAuNC0wLjEsMC42LTAuMWMwLjIsMCwwLjMtMC4xLDAuNC0wLjJjMC4xLTAuMSwwLjItMC4yLDAuMi0wLjRjMC0xLTEuMS0xLTEuMy0xIGMtMC40LDAtMS40LDAtMS40LDEuMmgtMC45YzAtMC40LDAuMS0wLjcsMC4yLTFjMC4xLTAuMiwwLjMtMC40LDAuNS0wLjZjMC4yLTAuMiwwLjUtMC4zLDAuOC0wLjNDMTMuMyw0LDEzLjYsNCwxMy45LDQgYzAuMywwLDAuNSwwLDAuOCwwLjFjMC4zLDAsMC41LDAuMSwwLjcsMC4yYzAuMiwwLjEsMC40LDAuMywwLjUsMC41QzE2LDUsMTYsNS4yLDE2LDUuNnYyLjljMCwwLjIsMCwwLjQsMCwwLjUgYzAsMC4xLDAuMSwwLjIsMC4zLDAuMmMwLjEsMCwwLjIsMCwwLjMsMFY5Ljh6IE0xNS4yLDYuOWMtMS4yLDAuNi0zLjEsMC4yLTMuMSwxLjRjMCwxLjQsMy4xLDEsMy4xLTAuNVY2Ljl6Ii8+CiAgPC9nPgo8L3N2Zz4K);
  --jp-icon-check: url(data:image/svg+xml;base64,PHN2ZyB4bWxucz0iaHR0cDovL3d3dy53My5vcmcvMjAwMC9zdmciIHdpZHRoPSIxNiIgdmlld0JveD0iMCAwIDI0IDI0Ij4KICA8ZyBjbGFzcz0ianAtaWNvbjMganAtaWNvbi1zZWxlY3RhYmxlIiBmaWxsPSIjNjE2MTYxIj4KICAgIDxwYXRoIGQ9Ik05IDE2LjE3TDQuODMgMTJsLTEuNDIgMS40MUw5IDE5IDIxIDdsLTEuNDEtMS40MXoiLz4KICA8L2c+Cjwvc3ZnPgo=);
  --jp-icon-circle-empty: url(data:image/svg+xml;base64,PHN2ZyB4bWxucz0iaHR0cDovL3d3dy53My5vcmcvMjAwMC9zdmciIHdpZHRoPSIxNiIgdmlld0JveD0iMCAwIDI0IDI0Ij4KICA8ZyBjbGFzcz0ianAtaWNvbjMiIGZpbGw9IiM2MTYxNjEiPgogICAgPHBhdGggZD0iTTEyIDJDNi40NyAyIDIgNi40NyAyIDEyczQuNDcgMTAgMTAgMTAgMTAtNC40NyAxMC0xMFMxNy41MyAyIDEyIDJ6bTAgMThjLTQuNDEgMC04LTMuNTktOC04czMuNTktOCA4LTggOCAzLjU5IDggOC0zLjU5IDgtOCA4eiIvPgogIDwvZz4KPC9zdmc+Cg==);
  --jp-icon-circle: url(data:image/svg+xml;base64,PHN2ZyB2aWV3Qm94PSIwIDAgMTggMTgiIHdpZHRoPSIxNiIgeG1sbnM9Imh0dHA6Ly93d3cudzMub3JnLzIwMDAvc3ZnIj4KICA8ZyBjbGFzcz0ianAtaWNvbjMiIGZpbGw9IiM2MTYxNjEiPgogICAgPGNpcmNsZSBjeD0iOSIgY3k9IjkiIHI9IjgiLz4KICA8L2c+Cjwvc3ZnPgo=);
  --jp-icon-clear: url(data:image/svg+xml;base64,PHN2ZyB4bWxucz0iaHR0cDovL3d3dy53My5vcmcvMjAwMC9zdmciIHdpZHRoPSIxNiIgdmlld0JveD0iMCAwIDI0IDI0Ij4KICA8bWFzayBpZD0iZG9udXRIb2xlIj4KICAgIDxyZWN0IHdpZHRoPSIyNCIgaGVpZ2h0PSIyNCIgZmlsbD0id2hpdGUiIC8+CiAgICA8Y2lyY2xlIGN4PSIxMiIgY3k9IjEyIiByPSI4IiBmaWxsPSJibGFjayIvPgogIDwvbWFzaz4KCiAgPGcgY2xhc3M9ImpwLWljb24zIiBmaWxsPSIjNjE2MTYxIj4KICAgIDxyZWN0IGhlaWdodD0iMTgiIHdpZHRoPSIyIiB4PSIxMSIgeT0iMyIgdHJhbnNmb3JtPSJyb3RhdGUoMzE1LCAxMiwgMTIpIi8+CiAgICA8Y2lyY2xlIGN4PSIxMiIgY3k9IjEyIiByPSIxMCIgbWFzaz0idXJsKCNkb251dEhvbGUpIi8+CiAgPC9nPgo8L3N2Zz4K);
  --jp-icon-close: url(data:image/svg+xml;base64,PHN2ZyB2aWV3Qm94PSIwIDAgMjQgMjQiIHdpZHRoPSIxNiIgeG1sbnM9Imh0dHA6Ly93d3cudzMub3JnLzIwMDAvc3ZnIj4KICA8ZyBjbGFzcz0ianAtaWNvbi1ub25lIGpwLWljb24tc2VsZWN0YWJsZS1pbnZlcnNlIGpwLWljb24zLWhvdmVyIiBmaWxsPSJub25lIj4KICAgIDxjaXJjbGUgY3g9IjEyIiBjeT0iMTIiIHI9IjExIi8+CiAgPC9nPgoKICA8ZyBjbGFzcz0ianAtaWNvbjMganAtaWNvbi1zZWxlY3RhYmxlIGpwLWljb24tYWNjZW50Mi1ob3ZlciIgZmlsbD0iIzYxNjE2MSI+CiAgICA8cGF0aCBkPSJNMTkgNi40MUwxNy41OSA1IDEyIDEwLjU5IDYuNDEgNSA1IDYuNDEgMTAuNTkgMTIgNSAxNy41OSA2LjQxIDE5IDEyIDEzLjQxIDE3LjU5IDE5IDE5IDE3LjU5IDEzLjQxIDEyeiIvPgogIDwvZz4KCiAgPGcgY2xhc3M9ImpwLWljb24tbm9uZSBqcC1pY29uLWJ1c3kiIGZpbGw9Im5vbmUiPgogICAgPGNpcmNsZSBjeD0iMTIiIGN5PSIxMiIgcj0iNyIvPgogIDwvZz4KPC9zdmc+Cg==);
  --jp-icon-code: url(data:image/svg+xml;base64,PHN2ZyB3aWR0aD0iMjIiIGhlaWdodD0iMjIiIHZpZXdCb3g9IjAgMCAyOCAyOCIgeG1sbnM9Imh0dHA6Ly93d3cudzMub3JnLzIwMDAvc3ZnIj4KCTxnIGNsYXNzPSJqcC1pY29uMyIgZmlsbD0iIzYxNjE2MSI+CgkJPHBhdGggZD0iTTExLjQgMTguNkw2LjggMTRMMTEuNCA5LjRMMTAgOEw0IDE0TDEwIDIwTDExLjQgMTguNlpNMTYuNiAxOC42TDIxLjIgMTRMMTYuNiA5LjRMMTggOEwyNCAxNEwxOCAyMEwxNi42IDE4LjZWMTguNloiLz4KCTwvZz4KPC9zdmc+Cg==);
  --jp-icon-console: url(data:image/svg+xml;base64,PHN2ZyB4bWxucz0iaHR0cDovL3d3dy53My5vcmcvMjAwMC9zdmciIHdpZHRoPSIxNiIgdmlld0JveD0iMCAwIDIwMCAyMDAiPgogIDxnIGNsYXNzPSJqcC1pY29uLWJyYW5kMSBqcC1pY29uLXNlbGVjdGFibGUiIGZpbGw9IiMwMjg4RDEiPgogICAgPHBhdGggZD0iTTIwIDE5LjhoMTYwdjE1OS45SDIweiIvPgogIDwvZz4KICA8ZyBjbGFzcz0ianAtaWNvbi1zZWxlY3RhYmxlLWludmVyc2UiIGZpbGw9IiNmZmYiPgogICAgPHBhdGggZD0iTTEwNSAxMjcuM2g0MHYxMi44aC00MHpNNTEuMSA3N0w3NCA5OS45bC0yMy4zIDIzLjMgMTAuNSAxMC41IDIzLjMtMjMuM0w5NSA5OS45IDg0LjUgODkuNCA2MS42IDY2LjV6Ii8+CiAgPC9nPgo8L3N2Zz4K);
  --jp-icon-copy: url(data:image/svg+xml;base64,PHN2ZyB2aWV3Qm94PSIwIDAgMTggMTgiIHdpZHRoPSIxNiIgeG1sbnM9Imh0dHA6Ly93d3cudzMub3JnLzIwMDAvc3ZnIj4KICA8ZyBjbGFzcz0ianAtaWNvbjMiIGZpbGw9IiM2MTYxNjEiPgogICAgPHBhdGggZD0iTTExLjksMUgzLjJDMi40LDEsMS43LDEuNywxLjcsMi41djEwLjJoMS41VjIuNWg4LjdWMXogTTE0LjEsMy45aC04Yy0wLjgsMC0xLjUsMC43LTEuNSwxLjV2MTAuMmMwLDAuOCwwLjcsMS41LDEuNSwxLjVoOCBjMC44LDAsMS41LTAuNywxLjUtMS41VjUuNEMxNS41LDQuNiwxNC45LDMuOSwxNC4xLDMuOXogTTE0LjEsMTUuNWgtOFY1LjRoOFYxNS41eiIvPgogIDwvZz4KPC9zdmc+Cg==);
  --jp-icon-copyright: url(data:image/svg+xml;base64,PHN2ZyB4bWxucz0iaHR0cDovL3d3dy53My5vcmcvMjAwMC9zdmciIGVuYWJsZS1iYWNrZ3JvdW5kPSJuZXcgMCAwIDI0IDI0IiBoZWlnaHQ9IjI0IiB2aWV3Qm94PSIwIDAgMjQgMjQiIHdpZHRoPSIyNCI+CiAgPGcgY2xhc3M9ImpwLWljb24zIiBmaWxsPSIjNjE2MTYxIj4KICAgIDxwYXRoIGQ9Ik0xMS44OCw5LjE0YzEuMjgsMC4wNiwxLjYxLDEuMTUsMS42MywxLjY2aDEuNzljLTAuMDgtMS45OC0xLjQ5LTMuMTktMy40NS0zLjE5QzkuNjQsNy42MSw4LDksOCwxMi4xNCBjMCwxLjk0LDAuOTMsNC4yNCwzLjg0LDQuMjRjMi4yMiwwLDMuNDEtMS42NSwzLjQ0LTIuOTVoLTEuNzljLTAuMDMsMC41OS0wLjQ1LDEuMzgtMS42MywxLjQ0QzEwLjU1LDE0LjgzLDEwLDEzLjgxLDEwLDEyLjE0IEMxMCw5LjI1LDExLjI4LDkuMTYsMTEuODgsOS4xNHogTTEyLDJDNi40OCwyLDIsNi40OCwyLDEyczQuNDgsMTAsMTAsMTBzMTAtNC40OCwxMC0xMFMxNy41MiwyLDEyLDJ6IE0xMiwyMGMtNC40MSwwLTgtMy41OS04LTggczMuNTktOCw4LThzOCwzLjU5LDgsOFMxNi40MSwyMCwxMiwyMHoiLz4KICA8L2c+Cjwvc3ZnPgo=);
  --jp-icon-cut: url(data:image/svg+xml;base64,PHN2ZyB2aWV3Qm94PSIwIDAgMjQgMjQiIHdpZHRoPSIxNiIgeG1sbnM9Imh0dHA6Ly93d3cudzMub3JnLzIwMDAvc3ZnIj4KICA8ZyBjbGFzcz0ianAtaWNvbjMiIGZpbGw9IiM2MTYxNjEiPgogICAgPHBhdGggZD0iTTkuNjQgNy42NGMuMjMtLjUuMzYtMS4wNS4zNi0xLjY0IDAtMi4yMS0xLjc5LTQtNC00UzIgMy43OSAyIDZzMS43OSA0IDQgNGMuNTkgMCAxLjE0LS4xMyAxLjY0LS4zNkwxMCAxMmwtMi4zNiAyLjM2QzcuMTQgMTQuMTMgNi41OSAxNCA2IDE0Yy0yLjIxIDAtNCAxLjc5LTQgNHMxLjc5IDQgNCA0IDQtMS43OSA0LTRjMC0uNTktLjEzLTEuMTQtLjM2LTEuNjRMMTIgMTRsNyA3aDN2LTFMOS42NCA3LjY0ek02IDhjLTEuMSAwLTItLjg5LTItMnMuOS0yIDItMiAyIC44OSAyIDItLjkgMi0yIDJ6bTAgMTJjLTEuMSAwLTItLjg5LTItMnMuOS0yIDItMiAyIC44OSAyIDItLjkgMi0yIDJ6bTYtNy41Yy0uMjggMC0uNS0uMjItLjUtLjVzLjIyLS41LjUtLjUuNS4yMi41LjUtLjIyLjUtLjUuNXpNMTkgM2wtNiA2IDIgMiA3LTdWM3oiLz4KICA8L2c+Cjwvc3ZnPgo=);
  --jp-icon-download: url(data:image/svg+xml;base64,PHN2ZyB2aWV3Qm94PSIwIDAgMjQgMjQiIHdpZHRoPSIxNiIgeG1sbnM9Imh0dHA6Ly93d3cudzMub3JnLzIwMDAvc3ZnIj4KICA8ZyBjbGFzcz0ianAtaWNvbjMiIGZpbGw9IiM2MTYxNjEiPgogICAgPHBhdGggZD0iTTE5IDloLTRWM0g5djZINWw3IDcgNy03ek01IDE4djJoMTR2LTJINXoiLz4KICA8L2c+Cjwvc3ZnPgo=);
  --jp-icon-edit: url(data:image/svg+xml;base64,PHN2ZyB2aWV3Qm94PSIwIDAgMjQgMjQiIHdpZHRoPSIxNiIgeG1sbnM9Imh0dHA6Ly93d3cudzMub3JnLzIwMDAvc3ZnIj4KICA8ZyBjbGFzcz0ianAtaWNvbjMiIGZpbGw9IiM2MTYxNjEiPgogICAgPHBhdGggZD0iTTMgMTcuMjVWMjFoMy43NUwxNy44MSA5Ljk0bC0zLjc1LTMuNzVMMyAxNy4yNXpNMjAuNzEgNy4wNGMuMzktLjM5LjM5LTEuMDIgMC0xLjQxbC0yLjM0LTIuMzRjLS4zOS0uMzktMS4wMi0uMzktMS40MSAwbC0xLjgzIDEuODMgMy43NSAzLjc1IDEuODMtMS44M3oiLz4KICA8L2c+Cjwvc3ZnPgo=);
  --jp-icon-ellipses: url(data:image/svg+xml;base64,PHN2ZyB2aWV3Qm94PSIwIDAgMjQgMjQiIHdpZHRoPSIxNiIgeG1sbnM9Imh0dHA6Ly93d3cudzMub3JnLzIwMDAvc3ZnIj4KICA8ZyBjbGFzcz0ianAtaWNvbjMiIGZpbGw9IiM2MTYxNjEiPgogICAgPGNpcmNsZSBjeD0iNSIgY3k9IjEyIiByPSIyIi8+CiAgICA8Y2lyY2xlIGN4PSIxMiIgY3k9IjEyIiByPSIyIi8+CiAgICA8Y2lyY2xlIGN4PSIxOSIgY3k9IjEyIiByPSIyIi8+CiAgPC9nPgo8L3N2Zz4K);
  --jp-icon-extension: url(data:image/svg+xml;base64,PHN2ZyB4bWxucz0iaHR0cDovL3d3dy53My5vcmcvMjAwMC9zdmciIHdpZHRoPSIxNiIgdmlld0JveD0iMCAwIDI0IDI0Ij4KICA8ZyBjbGFzcz0ianAtaWNvbjMiIGZpbGw9IiM2MTYxNjEiPgogICAgPHBhdGggZD0iTTIwLjUgMTFIMTlWN2MwLTEuMS0uOS0yLTItMmgtNFYzLjVDMTMgMi4xMiAxMS44OCAxIDEwLjUgMVM4IDIuMTIgOCAzLjVWNUg0Yy0xLjEgMC0xLjk5LjktMS45OSAydjMuOEgzLjVjMS40OSAwIDIuNyAxLjIxIDIuNyAyLjdzLTEuMjEgMi43LTIuNyAyLjdIMlYyMGMwIDEuMS45IDIgMiAyaDMuOHYtMS41YzAtMS40OSAxLjIxLTIuNyAyLjctMi43IDEuNDkgMCAyLjcgMS4yMSAyLjcgMi43VjIySDE3YzEuMSAwIDItLjkgMi0ydi00aDEuNWMxLjM4IDAgMi41LTEuMTIgMi41LTIuNVMyMS44OCAxMSAyMC41IDExeiIvPgogIDwvZz4KPC9zdmc+Cg==);
  --jp-icon-fast-forward: url(data:image/svg+xml;base64,PHN2ZyB4bWxucz0iaHR0cDovL3d3dy53My5vcmcvMjAwMC9zdmciIHdpZHRoPSIyNCIgaGVpZ2h0PSIyNCIgdmlld0JveD0iMCAwIDI0IDI0Ij4KICAgIDxnIGNsYXNzPSJqcC1pY29uMyIgZmlsbD0iIzYxNjE2MSI+CiAgICAgICAgPHBhdGggZD0iTTQgMThsOC41LTZMNCA2djEyem05LTEydjEybDguNS02TDEzIDZ6Ii8+CiAgICA8L2c+Cjwvc3ZnPgo=);
  --jp-icon-file-upload: url(data:image/svg+xml;base64,PHN2ZyB4bWxucz0iaHR0cDovL3d3dy53My5vcmcvMjAwMC9zdmciIHdpZHRoPSIxNiIgdmlld0JveD0iMCAwIDI0IDI0Ij4KICA8ZyBjbGFzcz0ianAtaWNvbjMiIGZpbGw9IiM2MTYxNjEiPgogICAgPHBhdGggZD0iTTkgMTZoNnYtNmg0bC03LTctNyA3aDR6bS00IDJoMTR2Mkg1eiIvPgogIDwvZz4KPC9zdmc+Cg==);
  --jp-icon-file: url(data:image/svg+xml;base64,PHN2ZyB4bWxucz0iaHR0cDovL3d3dy53My5vcmcvMjAwMC9zdmciIHdpZHRoPSIxNiIgdmlld0JveD0iMCAwIDIyIDIyIj4KICA8cGF0aCBjbGFzcz0ianAtaWNvbjMganAtaWNvbi1zZWxlY3RhYmxlIiBmaWxsPSIjNjE2MTYxIiBkPSJNMTkuMyA4LjJsLTUuNS01LjVjLS4zLS4zLS43LS41LTEuMi0uNUgzLjljLS44LjEtMS42LjktMS42IDEuOHYxNC4xYzAgLjkuNyAxLjYgMS42IDEuNmgxNC4yYy45IDAgMS42LS43IDEuNi0xLjZWOS40Yy4xLS41LS4xLS45LS40LTEuMnptLTUuOC0zLjNsMy40IDMuNmgtMy40VjQuOXptMy45IDEyLjdINC43Yy0uMSAwLS4yIDAtLjItLjJWNC43YzAtLjIuMS0uMy4yLS4zaDcuMnY0LjRzMCAuOC4zIDEuMWMuMy4zIDEuMS4zIDEuMS4zaDQuM3Y3LjJzLS4xLjItLjIuMnoiLz4KPC9zdmc+Cg==);
  --jp-icon-filter-list: url(data:image/svg+xml;base64,PHN2ZyB4bWxucz0iaHR0cDovL3d3dy53My5vcmcvMjAwMC9zdmciIHdpZHRoPSIxNiIgdmlld0JveD0iMCAwIDI0IDI0Ij4KICA8ZyBjbGFzcz0ianAtaWNvbjMiIGZpbGw9IiM2MTYxNjEiPgogICAgPHBhdGggZD0iTTEwIDE4aDR2LTJoLTR2MnpNMyA2djJoMThWNkgzem0zIDdoMTJ2LTJINnYyeiIvPgogIDwvZz4KPC9zdmc+Cg==);
  --jp-icon-folder: url(data:image/svg+xml;base64,PHN2ZyB4bWxucz0iaHR0cDovL3d3dy53My5vcmcvMjAwMC9zdmciIHdpZHRoPSIxNiIgdmlld0JveD0iMCAwIDI0IDI0Ij4KICA8cGF0aCBjbGFzcz0ianAtaWNvbjMganAtaWNvbi1zZWxlY3RhYmxlIiBmaWxsPSIjNjE2MTYxIiBkPSJNMTAgNEg0Yy0xLjEgMC0xLjk5LjktMS45OSAyTDIgMThjMCAxLjEuOSAyIDIgMmgxNmMxLjEgMCAyLS45IDItMlY4YzAtMS4xLS45LTItMi0yaC04bC0yLTJ6Ii8+Cjwvc3ZnPgo=);
  --jp-icon-html5: url(data:image/svg+xml;base64,PHN2ZyB4bWxucz0iaHR0cDovL3d3dy53My5vcmcvMjAwMC9zdmciIHdpZHRoPSIxNiIgdmlld0JveD0iMCAwIDUxMiA1MTIiPgogIDxwYXRoIGNsYXNzPSJqcC1pY29uMCBqcC1pY29uLXNlbGVjdGFibGUiIGZpbGw9IiMwMDAiIGQ9Ik0xMDguNCAwaDIzdjIyLjhoMjEuMlYwaDIzdjY5aC0yM1Y0NmgtMjF2MjNoLTIzLjJNMjA2IDIzaC0yMC4zVjBoNjMuN3YyM0gyMjl2NDZoLTIzbTUzLjUtNjloMjQuMWwxNC44IDI0LjNMMzEzLjIgMGgyNC4xdjY5aC0yM1YzNC44bC0xNi4xIDI0LjgtMTYuMS0yNC44VjY5aC0yMi42bTg5LjItNjloMjN2NDYuMmgzMi42VjY5aC01NS42Ii8+CiAgPHBhdGggY2xhc3M9ImpwLWljb24tc2VsZWN0YWJsZSIgZmlsbD0iI2U0NGQyNiIgZD0iTTEwNy42IDQ3MWwtMzMtMzcwLjRoMzYyLjhsLTMzIDM3MC4yTDI1NS43IDUxMiIvPgogIDxwYXRoIGNsYXNzPSJqcC1pY29uLXNlbGVjdGFibGUiIGZpbGw9IiNmMTY1MjkiIGQ9Ik0yNTYgNDgwLjVWMTMxaDE0OC4zTDM3NiA0NDciLz4KICA8cGF0aCBjbGFzcz0ianAtaWNvbi1zZWxlY3RhYmxlLWludmVyc2UiIGZpbGw9IiNlYmViZWIiIGQ9Ik0xNDIgMTc2LjNoMTE0djQ1LjRoLTY0LjJsNC4yIDQ2LjVoNjB2NDUuM0gxNTQuNG0yIDIyLjhIMjAybDMuMiAzNi4zIDUwLjggMTMuNnY0Ny40bC05My4yLTI2Ii8+CiAgPHBhdGggY2xhc3M9ImpwLWljb24tc2VsZWN0YWJsZS1pbnZlcnNlIiBmaWxsPSIjZmZmIiBkPSJNMzY5LjYgMTc2LjNIMjU1Ljh2NDUuNGgxMDkuNm0tNC4xIDQ2LjVIMjU1Ljh2NDUuNGg1NmwtNS4zIDU5LTUwLjcgMTMuNnY0Ny4ybDkzLTI1LjgiLz4KPC9zdmc+Cg==);
  --jp-icon-image: url(data:image/svg+xml;base64,PHN2ZyB4bWxucz0iaHR0cDovL3d3dy53My5vcmcvMjAwMC9zdmciIHdpZHRoPSIxNiIgdmlld0JveD0iMCAwIDIyIDIyIj4KICA8cGF0aCBjbGFzcz0ianAtaWNvbi1icmFuZDQganAtaWNvbi1zZWxlY3RhYmxlLWludmVyc2UiIGZpbGw9IiNGRkYiIGQ9Ik0yLjIgMi4yaDE3LjV2MTcuNUgyLjJ6Ii8+CiAgPHBhdGggY2xhc3M9ImpwLWljb24tYnJhbmQwIGpwLWljb24tc2VsZWN0YWJsZSIgZmlsbD0iIzNGNTFCNSIgZD0iTTIuMiAyLjJ2MTcuNWgxNy41bC4xLTE3LjVIMi4yem0xMi4xIDIuMmMxLjIgMCAyLjIgMSAyLjIgMi4ycy0xIDIuMi0yLjIgMi4yLTIuMi0xLTIuMi0yLjIgMS0yLjIgMi4yLTIuMnpNNC40IDE3LjZsMy4zLTguOCAzLjMgNi42IDIuMi0zLjIgNC40IDUuNEg0LjR6Ii8+Cjwvc3ZnPgo=);
  --jp-icon-inspector: url(data:image/svg+xml;base64,PHN2ZyB4bWxucz0iaHR0cDovL3d3dy53My5vcmcvMjAwMC9zdmciIHdpZHRoPSIxNiIgdmlld0JveD0iMCAwIDI0IDI0Ij4KICA8cGF0aCBjbGFzcz0ianAtaWNvbjMganAtaWNvbi1zZWxlY3RhYmxlIiBmaWxsPSIjNjE2MTYxIiBkPSJNMjAgNEg0Yy0xLjEgMC0xLjk5LjktMS45OSAyTDIgMThjMCAxLjEuOSAyIDIgMmgxNmMxLjEgMCAyLS45IDItMlY2YzAtMS4xLS45LTItMi0yem0tNSAxNEg0di00aDExdjR6bTAtNUg0VjloMTF2NHptNSA1aC00VjloNHY5eiIvPgo8L3N2Zz4K);
  --jp-icon-json: url(data:image/svg+xml;base64,PHN2ZyB4bWxucz0iaHR0cDovL3d3dy53My5vcmcvMjAwMC9zdmciIHdpZHRoPSIxNiIgdmlld0JveD0iMCAwIDIyIDIyIj4KICA8ZyBjbGFzcz0ianAtaWNvbi13YXJuMSBqcC1pY29uLXNlbGVjdGFibGUiIGZpbGw9IiNGOUE4MjUiPgogICAgPHBhdGggZD0iTTIwLjIgMTEuOGMtMS42IDAtMS43LjUtMS43IDEgMCAuNC4xLjkuMSAxLjMuMS41LjEuOS4xIDEuMyAwIDEuNy0xLjQgMi4zLTMuNSAyLjNoLS45di0xLjloLjVjMS4xIDAgMS40IDAgMS40LS44IDAtLjMgMC0uNi0uMS0xIDAtLjQtLjEtLjgtLjEtMS4yIDAtMS4zIDAtMS44IDEuMy0yLTEuMy0uMi0xLjMtLjctMS4zLTIgMC0uNC4xLS44LjEtMS4yLjEtLjQuMS0uNy4xLTEgMC0uOC0uNC0uNy0xLjQtLjhoLS41VjQuMWguOWMyLjIgMCAzLjUuNyAzLjUgMi4zIDAgLjQtLjEuOS0uMSAxLjMtLjEuNS0uMS45LS4xIDEuMyAwIC41LjIgMSAxLjcgMXYxLjh6TTEuOCAxMC4xYzEuNiAwIDEuNy0uNSAxLjctMSAwLS40LS4xLS45LS4xLTEuMy0uMS0uNS0uMS0uOS0uMS0xLjMgMC0xLjYgMS40LTIuMyAzLjUtMi4zaC45djEuOWgtLjVjLTEgMC0xLjQgMC0xLjQuOCAwIC4zIDAgLjYuMSAxIDAgLjIuMS42LjEgMSAwIDEuMyAwIDEuOC0xLjMgMkM2IDExLjIgNiAxMS43IDYgMTNjMCAuNC0uMS44LS4xIDEuMi0uMS4zLS4xLjctLjEgMSAwIC44LjMuOCAxLjQuOGguNXYxLjloLS45Yy0yLjEgMC0zLjUtLjYtMy41LTIuMyAwLS40LjEtLjkuMS0xLjMuMS0uNS4xLS45LjEtMS4zIDAtLjUtLjItMS0xLjctMXYtMS45eiIvPgogICAgPGNpcmNsZSBjeD0iMTEiIGN5PSIxMy44IiByPSIyLjEiLz4KICAgIDxjaXJjbGUgY3g9IjExIiBjeT0iOC4yIiByPSIyLjEiLz4KICA8L2c+Cjwvc3ZnPgo=);
  --jp-icon-julia: url(data:image/svg+xml;base64,PHN2ZyB4bWxucz0iaHR0cDovL3d3dy53My5vcmcvMjAwMC9zdmciIHdpZHRoPSIxNiIgdmlld0JveD0iMCAwIDMyNSAzMDAiPgogIDxnIGNsYXNzPSJqcC1icmFuZDAganAtaWNvbi1zZWxlY3RhYmxlIiBmaWxsPSIjY2IzYzMzIj4KICAgIDxwYXRoIGQ9Ik0gMTUwLjg5ODQzOCAyMjUgQyAxNTAuODk4NDM4IDI2Ni40MjE4NzUgMTE3LjMyMDMxMiAzMDAgNzUuODk4NDM4IDMwMCBDIDM0LjQ3NjU2MiAzMDAgMC44OTg0MzggMjY2LjQyMTg3NSAwLjg5ODQzOCAyMjUgQyAwLjg5ODQzOCAxODMuNTc4MTI1IDM0LjQ3NjU2MiAxNTAgNzUuODk4NDM4IDE1MCBDIDExNy4zMjAzMTIgMTUwIDE1MC44OTg0MzggMTgzLjU3ODEyNSAxNTAuODk4NDM4IDIyNSIvPgogIDwvZz4KICA8ZyBjbGFzcz0ianAtYnJhbmQwIGpwLWljb24tc2VsZWN0YWJsZSIgZmlsbD0iIzM4OTgyNiI+CiAgICA8cGF0aCBkPSJNIDIzNy41IDc1IEMgMjM3LjUgMTE2LjQyMTg3NSAyMDMuOTIxODc1IDE1MCAxNjIuNSAxNTAgQyAxMjEuMDc4MTI1IDE1MCA4Ny41IDExNi40MjE4NzUgODcuNSA3NSBDIDg3LjUgMzMuNTc4MTI1IDEyMS4wNzgxMjUgMCAxNjIuNSAwIEMgMjAzLjkyMTg3NSAwIDIzNy41IDMzLjU3ODEyNSAyMzcuNSA3NSIvPgogIDwvZz4KICA8ZyBjbGFzcz0ianAtYnJhbmQwIGpwLWljb24tc2VsZWN0YWJsZSIgZmlsbD0iIzk1NThiMiI+CiAgICA8cGF0aCBkPSJNIDMyNC4xMDE1NjIgMjI1IEMgMzI0LjEwMTU2MiAyNjYuNDIxODc1IDI5MC41MjM0MzggMzAwIDI0OS4xMDE1NjIgMzAwIEMgMjA3LjY3OTY4OCAzMDAgMTc0LjEwMTU2MiAyNjYuNDIxODc1IDE3NC4xMDE1NjIgMjI1IEMgMTc0LjEwMTU2MiAxODMuNTc4MTI1IDIwNy42Nzk2ODggMTUwIDI0OS4xMDE1NjIgMTUwIEMgMjkwLjUyMzQzOCAxNTAgMzI0LjEwMTU2MiAxODMuNTc4MTI1IDMyNC4xMDE1NjIgMjI1Ii8+CiAgPC9nPgo8L3N2Zz4K);
  --jp-icon-jupyter-favicon: url(data:image/svg+xml;base64,PHN2ZyB3aWR0aD0iMTUyIiBoZWlnaHQ9IjE2NSIgdmlld0JveD0iMCAwIDE1MiAxNjUiIHZlcnNpb249IjEuMSIgeG1sbnM9Imh0dHA6Ly93d3cudzMub3JnLzIwMDAvc3ZnIj4KICA8ZyBjbGFzcz0ianAtaWNvbi13YXJuMCIgZmlsbD0iI0YzNzcyNiI+CiAgICA8cGF0aCB0cmFuc2Zvcm09InRyYW5zbGF0ZSgwLjA3ODk0NywgMTEwLjU4MjkyNykiIGQ9Ik03NS45NDIyODQyLDI5LjU4MDQ1NjEgQzQzLjMwMjM5NDcsMjkuNTgwNDU2MSAxNC43OTY3ODMyLDE3LjY1MzQ2MzQgMCwwIEM1LjUxMDgzMjExLDE1Ljg0MDY4MjkgMTUuNzgxNTM4OSwyOS41NjY3NzMyIDI5LjM5MDQ5NDcsMzkuMjc4NDE3MSBDNDIuOTk5Nyw0OC45ODk4NTM3IDU5LjI3MzcsNTQuMjA2NzgwNSA3NS45NjA1Nzg5LDU0LjIwNjc4MDUgQzkyLjY0NzQ1NzksNTQuMjA2NzgwNSAxMDguOTIxNDU4LDQ4Ljk4OTg1MzcgMTIyLjUzMDY2MywzOS4yNzg0MTcxIEMxMzYuMTM5NDUzLDI5LjU2Njc3MzIgMTQ2LjQxMDI4NCwxNS44NDA2ODI5IDE1MS45MjExNTgsMCBDMTM3LjA4Nzg2OCwxNy42NTM0NjM0IDEwOC41ODI1ODksMjkuNTgwNDU2MSA3NS45NDIyODQyLDI5LjU4MDQ1NjEgTDc1Ljk0MjI4NDIsMjkuNTgwNDU2MSBaIiAvPgogICAgPHBhdGggdHJhbnNmb3JtPSJ0cmFuc2xhdGUoMC4wMzczNjgsIDAuNzA0ODc4KSIgZD0iTTc1Ljk3ODQ1NzksMjQuNjI2NDA3MyBDMTA4LjYxODc2MywyNC42MjY0MDczIDEzNy4xMjQ0NTgsMzYuNTUzNDQxNSAxNTEuOTIxMTU4LDU0LjIwNjc4MDUgQzE0Ni40MTAyODQsMzguMzY2MjIyIDEzNi4xMzk0NTMsMjQuNjQwMTMxNyAxMjIuNTMwNjYzLDE0LjkyODQ4NzggQzEwOC45MjE0NTgsNS4yMTY4NDM5IDkyLjY0NzQ1NzksMCA3NS45NjA1Nzg5LDAgQzU5LjI3MzcsMCA0Mi45OTk3LDUuMjE2ODQzOSAyOS4zOTA0OTQ3LDE0LjkyODQ4NzggQzE1Ljc4MTUzODksMjQuNjQwMTMxNyA1LjUxMDgzMjExLDM4LjM2NjIyMiAwLDU0LjIwNjc4MDUgQzE0LjgzMzA4MTYsMzYuNTg5OTI5MyA0My4zMzg1Njg0LDI0LjYyNjQwNzMgNzUuOTc4NDU3OSwyNC42MjY0MDczIEw3NS45Nzg0NTc5LDI0LjYyNjQwNzMgWiIgLz4KICA8L2c+Cjwvc3ZnPgo=);
  --jp-icon-jupyter: url(data:image/svg+xml;base64,PHN2ZyB3aWR0aD0iMzkiIGhlaWdodD0iNTEiIHZpZXdCb3g9IjAgMCAzOSA1MSIgeG1sbnM9Imh0dHA6Ly93d3cudzMub3JnLzIwMDAvc3ZnIj4KICA8ZyB0cmFuc2Zvcm09InRyYW5zbGF0ZSgtMTYzOCAtMjI4MSkiPgogICAgPGcgY2xhc3M9ImpwLWljb24td2FybjAiIGZpbGw9IiNGMzc3MjYiPgogICAgICA8cGF0aCB0cmFuc2Zvcm09InRyYW5zbGF0ZSgxNjM5Ljc0IDIzMTEuOTgpIiBkPSJNIDE4LjI2NDYgNy4xMzQxMUMgMTAuNDE0NSA3LjEzNDExIDMuNTU4NzIgNC4yNTc2IDAgMEMgMS4zMjUzOSAzLjgyMDQgMy43OTU1NiA3LjEzMDgxIDcuMDY4NiA5LjQ3MzAzQyAxMC4zNDE3IDExLjgxNTIgMTQuMjU1NyAxMy4wNzM0IDE4LjI2OSAxMy4wNzM0QyAyMi4yODIzIDEzLjA3MzQgMjYuMTk2MyAxMS44MTUyIDI5LjQ2OTQgOS40NzMwM0MgMzIuNzQyNCA3LjEzMDgxIDM1LjIxMjYgMy44MjA0IDM2LjUzOCAwQyAzMi45NzA1IDQuMjU3NiAyNi4xMTQ4IDcuMTM0MTEgMTguMjY0NiA3LjEzNDExWiIvPgogICAgICA8cGF0aCB0cmFuc2Zvcm09InRyYW5zbGF0ZSgxNjM5LjczIDIyODUuNDgpIiBkPSJNIDE4LjI3MzMgNS45MzkzMUMgMjYuMTIzNSA1LjkzOTMxIDMyLjk3OTMgOC44MTU4MyAzNi41MzggMTMuMDczNEMgMzUuMjEyNiA5LjI1MzAzIDMyLjc0MjQgNS45NDI2MiAyOS40Njk0IDMuNjAwNEMgMjYuMTk2MyAxLjI1ODE4IDIyLjI4MjMgMCAxOC4yNjkgMEMgMTQuMjU1NyAwIDEwLjM0MTcgMS4yNTgxOCA3LjA2ODYgMy42MDA0QyAzLjc5NTU2IDUuOTQyNjIgMS4zMjUzOSA5LjI1MzAzIDAgMTMuMDczNEMgMy41Njc0NSA4LjgyNDYzIDEwLjQyMzIgNS45MzkzMSAxOC4yNzMzIDUuOTM5MzFaIi8+CiAgICA8L2c+CiAgICA8ZyBjbGFzcz0ianAtaWNvbjMiIGZpbGw9IiM2MTYxNjEiPgogICAgICA8cGF0aCB0cmFuc2Zvcm09InRyYW5zbGF0ZSgxNjY5LjMgMjI4MS4zMSkiIGQ9Ik0gNS44OTM1MyAyLjg0NEMgNS45MTg4OSAzLjQzMTY1IDUuNzcwODUgNC4wMTM2NyA1LjQ2ODE1IDQuNTE2NDVDIDUuMTY1NDUgNS4wMTkyMiA0LjcyMTY4IDUuNDIwMTUgNC4xOTI5OSA1LjY2ODUxQyAzLjY2NDMgNS45MTY4OCAzLjA3NDQ0IDYuMDAxNTEgMi40OTgwNSA1LjkxMTcxQyAxLjkyMTY2IDUuODIxOSAxLjM4NDYzIDUuNTYxNyAwLjk1NDg5OCA1LjE2NDAxQyAwLjUyNTE3IDQuNzY2MzMgMC4yMjIwNTYgNC4yNDkwMyAwLjA4MzkwMzcgMy42Nzc1N0MgLTAuMDU0MjQ4MyAzLjEwNjExIC0wLjAyMTIzIDIuNTA2MTcgMC4xNzg3ODEgMS45NTM2NEMgMC4zNzg3OTMgMS40MDExIDAuNzM2ODA5IDAuOTIwODE3IDEuMjA3NTQgMC41NzM1MzhDIDEuNjc4MjYgMC4yMjYyNTkgMi4yNDA1NSAwLjAyNzU5MTkgMi44MjMyNiAwLjAwMjY3MjI5QyAzLjYwMzg5IC0wLjAzMDcxMTUgNC4zNjU3MyAwLjI0OTc4OSA0Ljk0MTQyIDAuNzgyNTUxQyA1LjUxNzExIDEuMzE1MzEgNS44NTk1NiAyLjA1Njc2IDUuODkzNTMgMi44NDRaIi8+CiAgICAgIDxwYXRoIHRyYW5zZm9ybT0idHJhbnNsYXRlKDE2MzkuOCAyMzIzLjgxKSIgZD0iTSA3LjQyNzg5IDMuNTgzMzhDIDcuNDYwMDggNC4zMjQzIDcuMjczNTUgNS4wNTgxOSA2Ljg5MTkzIDUuNjkyMTNDIDYuNTEwMzEgNi4zMjYwNyA1Ljk1MDc1IDYuODMxNTYgNS4yODQxMSA3LjE0NDZDIDQuNjE3NDcgNy40NTc2MyAzLjg3MzcxIDcuNTY0MTQgMy4xNDcwMiA3LjQ1MDYzQyAyLjQyMDMyIDcuMzM3MTIgMS43NDMzNiA3LjAwODcgMS4yMDE4NCA2LjUwNjk1QyAwLjY2MDMyOCA2LjAwNTIgMC4yNzg2MSA1LjM1MjY4IDAuMTA1MDE3IDQuNjMyMDJDIC0wLjA2ODU3NTcgMy45MTEzNSAtMC4wMjYyMzYxIDMuMTU0OTQgMC4yMjY2NzUgMi40NTg1NkMgMC40Nzk1ODcgMS43NjIxNyAwLjkzMTY5NyAxLjE1NzEzIDEuNTI1NzYgMC43MjAwMzNDIDIuMTE5ODMgMC4yODI5MzUgMi44MjkxNCAwLjAzMzQzOTUgMy41NjM4OSAwLjAwMzEzMzQ0QyA0LjU0NjY3IC0wLjAzNzQwMzMgNS41MDUyOSAwLjMxNjcwNiA2LjIyOTYxIDAuOTg3ODM1QyA2Ljk1MzkzIDEuNjU4OTYgNy4zODQ4NCAyLjU5MjM1IDcuNDI3ODkgMy41ODMzOEwgNy40Mjc4OSAzLjU4MzM4WiIvPgogICAgICA8cGF0aCB0cmFuc2Zvcm09InRyYW5zbGF0ZSgxNjM4LjM2IDIyODYuMDYpIiBkPSJNIDIuMjc0NzEgNC4zOTYyOUMgMS44NDM2MyA0LjQxNTA4IDEuNDE2NzEgNC4zMDQ0NSAxLjA0Nzk5IDQuMDc4NDNDIDAuNjc5MjY4IDMuODUyNCAwLjM4NTMyOCAzLjUyMTE0IDAuMjAzMzcxIDMuMTI2NTZDIDAuMDIxNDEzNiAyLjczMTk4IC0wLjA0MDM3OTggMi4yOTE4MyAwLjAyNTgxMTYgMS44NjE4MUMgMC4wOTIwMDMxIDEuNDMxOCAwLjI4MzIwNCAxLjAzMTI2IDAuNTc1MjEzIDAuNzEwODgzQyAwLjg2NzIyMiAwLjM5MDUxIDEuMjQ2OTEgMC4xNjQ3MDggMS42NjYyMiAwLjA2MjA1OTJDIDIuMDg1NTMgLTAuMDQwNTg5NyAyLjUyNTYxIC0wLjAxNTQ3MTQgMi45MzA3NiAwLjEzNDIzNUMgMy4zMzU5MSAwLjI4Mzk0MSAzLjY4NzkyIDAuNTUxNTA1IDMuOTQyMjIgMC45MDMwNkMgNC4xOTY1MiAxLjI1NDYyIDQuMzQxNjkgMS42NzQzNiA0LjM1OTM1IDIuMTA5MTZDIDQuMzgyOTkgMi42OTEwNyA0LjE3Njc4IDMuMjU4NjkgMy43ODU5NyAzLjY4NzQ2QyAzLjM5NTE2IDQuMTE2MjQgMi44NTE2NiA0LjM3MTE2IDIuMjc0NzEgNC4zOTYyOUwgMi4yNzQ3MSA0LjM5NjI5WiIvPgogICAgPC9nPgogIDwvZz4+Cjwvc3ZnPgo=);
  --jp-icon-jupyterlab-wordmark: url(data:image/svg+xml;base64,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);
  --jp-icon-kernel: url(data:image/svg+xml;base64,PHN2ZyB4bWxucz0iaHR0cDovL3d3dy53My5vcmcvMjAwMC9zdmciIHdpZHRoPSIxNiIgdmlld0JveD0iMCAwIDI0IDI0Ij4KICAgIDxwYXRoIGNsYXNzPSJqcC1pY29uMiIgZmlsbD0iIzYxNjE2MSIgZD0iTTE1IDlIOXY2aDZWOXptLTIgNGgtMnYtMmgydjJ6bTgtMlY5aC0yVjdjMC0xLjEtLjktMi0yLTJoLTJWM2gtMnYyaC0yVjNIOXYySDdjLTEuMSAwLTIgLjktMiAydjJIM3YyaDJ2MkgzdjJoMnYyYzAgMS4xLjkgMiAyIDJoMnYyaDJ2LTJoMnYyaDJ2LTJoMmMxLjEgMCAyLS45IDItMnYtMmgydi0yaC0ydi0yaDJ6bS00IDZIN1Y3aDEwdjEweiIvPgo8L3N2Zz4K);
  --jp-icon-keyboard: url(data:image/svg+xml;base64,PHN2ZyB4bWxucz0iaHR0cDovL3d3dy53My5vcmcvMjAwMC9zdmciIHdpZHRoPSIxNiIgdmlld0JveD0iMCAwIDI0IDI0Ij4KICA8cGF0aCBjbGFzcz0ianAtaWNvbjMganAtaWNvbi1zZWxlY3RhYmxlIiBmaWxsPSIjNjE2MTYxIiBkPSJNMjAgNUg0Yy0xLjEgMC0xLjk5LjktMS45OSAyTDIgMTdjMCAxLjEuOSAyIDIgMmgxNmMxLjEgMCAyLS45IDItMlY3YzAtMS4xLS45LTItMi0yem0tOSAzaDJ2MmgtMlY4em0wIDNoMnYyaC0ydi0yek04IDhoMnYySDhWOHptMCAzaDJ2Mkg4di0yem0tMSAySDV2LTJoMnYyem0wLTNINVY4aDJ2MnptOSA3SDh2LTJoOHYyem0wLTRoLTJ2LTJoMnYyem0wLTNoLTJWOGgydjJ6bTMgM2gtMnYtMmgydjJ6bTAtM2gtMlY4aDJ2MnoiLz4KPC9zdmc+Cg==);
  --jp-icon-launcher: url(data:image/svg+xml;base64,PHN2ZyB4bWxucz0iaHR0cDovL3d3dy53My5vcmcvMjAwMC9zdmciIHdpZHRoPSIxNiIgdmlld0JveD0iMCAwIDI0IDI0Ij4KICA8cGF0aCBjbGFzcz0ianAtaWNvbjMganAtaWNvbi1zZWxlY3RhYmxlIiBmaWxsPSIjNjE2MTYxIiBkPSJNMTkgMTlINVY1aDdWM0g1YTIgMiAwIDAwLTIgMnYxNGEyIDIgMCAwMDIgMmgxNGMxLjEgMCAyLS45IDItMnYtN2gtMnY3ek0xNCAzdjJoMy41OWwtOS44MyA5LjgzIDEuNDEgMS40MUwxOSA2LjQxVjEwaDJWM2gtN3oiLz4KPC9zdmc+Cg==);
  --jp-icon-line-form: url(data:image/svg+xml;base64,PHN2ZyB4bWxucz0iaHR0cDovL3d3dy53My5vcmcvMjAwMC9zdmciIHdpZHRoPSIxNiIgdmlld0JveD0iMCAwIDI0IDI0Ij4KICAgIDxwYXRoIGZpbGw9IndoaXRlIiBkPSJNNS44OCA0LjEyTDEzLjc2IDEybC03Ljg4IDcuODhMOCAyMmwxMC0xMEw4IDJ6Ii8+Cjwvc3ZnPgo=);
  --jp-icon-link: url(data:image/svg+xml;base64,PHN2ZyB2aWV3Qm94PSIwIDAgMjQgMjQiIHdpZHRoPSIxNiIgeG1sbnM9Imh0dHA6Ly93d3cudzMub3JnLzIwMDAvc3ZnIj4KICA8ZyBjbGFzcz0ianAtaWNvbjMiIGZpbGw9IiM2MTYxNjEiPgogICAgPHBhdGggZD0iTTMuOSAxMmMwLTEuNzEgMS4zOS0zLjEgMy4xLTMuMWg0VjdIN2MtMi43NiAwLTUgMi4yNC01IDVzMi4yNCA1IDUgNWg0di0xLjlIN2MtMS43MSAwLTMuMS0xLjM5LTMuMS0zLjF6TTggMTNoOHYtMkg4djJ6bTktNmgtNHYxLjloNGMxLjcxIDAgMy4xIDEuMzkgMy4xIDMuMXMtMS4zOSAzLjEtMy4xIDMuMWgtNFYxN2g0YzIuNzYgMCA1LTIuMjQgNS01cy0yLjI0LTUtNS01eiIvPgogIDwvZz4KPC9zdmc+Cg==);
  --jp-icon-list: url(data:image/svg+xml;base64,PHN2ZyB4bWxucz0iaHR0cDovL3d3dy53My5vcmcvMjAwMC9zdmciIHdpZHRoPSIxNiIgdmlld0JveD0iMCAwIDI0IDI0Ij4KICAgIDxwYXRoIGNsYXNzPSJqcC1pY29uMiBqcC1pY29uLXNlbGVjdGFibGUiIGZpbGw9IiM2MTYxNjEiIGQ9Ik0xOSA1djE0SDVWNWgxNG0xLjEtMkgzLjljLS41IDAtLjkuNC0uOS45djE2LjJjMCAuNC40LjkuOS45aDE2LjJjLjQgMCAuOS0uNS45LS45VjMuOWMwLS41LS41LS45LS45LS45ek0xMSA3aDZ2MmgtNlY3em0wIDRoNnYyaC02di0yem0wIDRoNnYyaC02ek03IDdoMnYySDd6bTAgNGgydjJIN3ptMCA0aDJ2Mkg3eiIvPgo8L3N2Zz4=);
  --jp-icon-listings-info: url(data:image/svg+xml;base64,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);
  --jp-icon-markdown: url(data:image/svg+xml;base64,PHN2ZyB4bWxucz0iaHR0cDovL3d3dy53My5vcmcvMjAwMC9zdmciIHdpZHRoPSIxNiIgdmlld0JveD0iMCAwIDIyIDIyIj4KICA8cGF0aCBjbGFzcz0ianAtaWNvbi1jb250cmFzdDAganAtaWNvbi1zZWxlY3RhYmxlIiBmaWxsPSIjN0IxRkEyIiBkPSJNNSAxNC45aDEybC02LjEgNnptOS40LTYuOGMwLTEuMy0uMS0yLjktLjEtNC41LS40IDEuNC0uOSAyLjktMS4zIDQuM2wtMS4zIDQuM2gtMkw4LjUgNy45Yy0uNC0xLjMtLjctMi45LTEtNC4zLS4xIDEuNi0uMSAzLjItLjIgNC42TDcgMTIuNEg0LjhsLjctMTFoMy4zTDEwIDVjLjQgMS4yLjcgMi43IDEgMy45LjMtMS4yLjctMi42IDEtMy45bDEuMi0zLjdoMy4zbC42IDExaC0yLjRsLS4zLTQuMnoiLz4KPC9zdmc+Cg==);
  --jp-icon-new-folder: url(data:image/svg+xml;base64,PHN2ZyB4bWxucz0iaHR0cDovL3d3dy53My5vcmcvMjAwMC9zdmciIHdpZHRoPSIxNiIgdmlld0JveD0iMCAwIDI0IDI0Ij4KICA8ZyBjbGFzcz0ianAtaWNvbjMiIGZpbGw9IiM2MTYxNjEiPgogICAgPHBhdGggZD0iTTIwIDZoLThsLTItMkg0Yy0xLjExIDAtMS45OS44OS0xLjk5IDJMMiAxOGMwIDEuMTEuODkgMiAyIDJoMTZjMS4xMSAwIDItLjg5IDItMlY4YzAtMS4xMS0uODktMi0yLTJ6bS0xIDhoLTN2M2gtMnYtM2gtM3YtMmgzVjloMnYzaDN2MnoiLz4KICA8L2c+Cjwvc3ZnPgo=);
  --jp-icon-not-trusted: url(data:image/svg+xml;base64,PHN2ZyBmaWxsPSJub25lIiB4bWxucz0iaHR0cDovL3d3dy53My5vcmcvMjAwMC9zdmciIHdpZHRoPSIxNiIgdmlld0JveD0iMCAwIDI1IDI1Ij4KICAgIDxwYXRoIGNsYXNzPSJqcC1pY29uMiIgc3Ryb2tlPSIjMzMzMzMzIiBzdHJva2Utd2lkdGg9IjIiIHRyYW5zZm9ybT0idHJhbnNsYXRlKDMgMykiIGQ9Ik0xLjg2MDk0IDExLjQ0MDlDMC44MjY0NDggOC43NzAyNyAwLjg2Mzc3OSA2LjA1NzY0IDEuMjQ5MDcgNC4xOTkzMkMyLjQ4MjA2IDMuOTMzNDcgNC4wODA2OCAzLjQwMzQ3IDUuNjAxMDIgMi44NDQ5QzcuMjM1NDkgMi4yNDQ0IDguODU2NjYgMS41ODE1IDkuOTg3NiAxLjA5NTM5QzExLjA1OTcgMS41ODM0MSAxMi42MDk0IDIuMjQ0NCAxNC4yMTggMi44NDMzOUMxNS43NTAzIDMuNDEzOTQgMTcuMzk5NSAzLjk1MjU4IDE4Ljc1MzkgNC4yMTM4NUMxOS4xMzY0IDYuMDcxNzcgMTkuMTcwOSA4Ljc3NzIyIDE4LjEzOSAxMS40NDA5QzE3LjAzMDMgMTQuMzAzMiAxNC42NjY4IDE3LjE4NDQgOS45OTk5OSAxOC45MzU0QzUuMzMzMTkgMTcuMTg0NCAyLjk2OTY4IDE0LjMwMzIgMS44NjA5NCAxMS40NDA5WiIvPgogICAgPHBhdGggY2xhc3M9ImpwLWljb24yIiBzdHJva2U9IiMzMzMzMzMiIHN0cm9rZS13aWR0aD0iMiIgdHJhbnNmb3JtPSJ0cmFuc2xhdGUoOS4zMTU5MiA5LjMyMDMxKSIgZD0iTTcuMzY4NDIgMEwwIDcuMzY0NzkiLz4KICAgIDxwYXRoIGNsYXNzPSJqcC1pY29uMiIgc3Ryb2tlPSIjMzMzMzMzIiBzdHJva2Utd2lkdGg9IjIiIHRyYW5zZm9ybT0idHJhbnNsYXRlKDkuMzE1OTIgMTYuNjgzNikgc2NhbGUoMSAtMSkiIGQ9Ik03LjM2ODQyIDBMMCA3LjM2NDc5Ii8+Cjwvc3ZnPgo=);
  --jp-icon-notebook: url(data:image/svg+xml;base64,PHN2ZyB4bWxucz0iaHR0cDovL3d3dy53My5vcmcvMjAwMC9zdmciIHdpZHRoPSIxNiIgdmlld0JveD0iMCAwIDIyIDIyIj4KICA8ZyBjbGFzcz0ianAtaWNvbi13YXJuMCBqcC1pY29uLXNlbGVjdGFibGUiIGZpbGw9IiNFRjZDMDAiPgogICAgPHBhdGggZD0iTTE4LjcgMy4zdjE1LjRIMy4zVjMuM2gxNS40bTEuNS0xLjVIMS44djE4LjNoMTguM2wuMS0xOC4zeiIvPgogICAgPHBhdGggZD0iTTE2LjUgMTYuNWwtNS40LTQuMy01LjYgNC4zdi0xMWgxMXoiLz4KICA8L2c+Cjwvc3ZnPgo=);
  --jp-icon-numbering: url(data:image/svg+xml;base64,PHN2ZyB3aWR0aD0iMjIiIGhlaWdodD0iMjIiIHZpZXdCb3g9IjAgMCAyOCAyOCIgeG1sbnM9Imh0dHA6Ly93d3cudzMub3JnLzIwMDAvc3ZnIj4KCTxnIGNsYXNzPSJqcC1pY29uMyIgZmlsbD0iIzYxNjE2MSI+CgkJPHBhdGggZD0iTTQgMTlINlYxOS41SDVWMjAuNUg2VjIxSDRWMjJIN1YxOEg0VjE5Wk01IDEwSDZWNkg0VjdINVYxMFpNNCAxM0g1LjhMNCAxNS4xVjE2SDdWMTVINS4yTDcgMTIuOVYxMkg0VjEzWk05IDdWOUgyM1Y3SDlaTTkgMjFIMjNWMTlIOVYyMVpNOSAxNUgyM1YxM0g5VjE1WiIvPgoJPC9nPgo8L3N2Zz4K);
  --jp-icon-offline-bolt: url(data:image/svg+xml;base64,PHN2ZyB4bWxucz0iaHR0cDovL3d3dy53My5vcmcvMjAwMC9zdmciIHZpZXdCb3g9IjAgMCAyNCAyNCIgd2lkdGg9IjE2Ij4KICA8ZyBjbGFzcz0ianAtaWNvbjMiIGZpbGw9IiM2MTYxNjEiPgogICAgPHBhdGggZD0iTTEyIDIuMDJjLTUuNTEgMC05Ljk4IDQuNDctOS45OCA5Ljk4czQuNDcgOS45OCA5Ljk4IDkuOTggOS45OC00LjQ3IDkuOTgtOS45OFMxNy41MSAyLjAyIDEyIDIuMDJ6TTExLjQ4IDIwdi02LjI2SDhMMTMgNHY2LjI2aDMuMzVMMTEuNDggMjB6Ii8+CiAgPC9nPgo8L3N2Zz4K);
  --jp-icon-palette: url(data:image/svg+xml;base64,PHN2ZyB4bWxucz0iaHR0cDovL3d3dy53My5vcmcvMjAwMC9zdmciIHdpZHRoPSIxNiIgdmlld0JveD0iMCAwIDI0IDI0Ij4KICA8ZyBjbGFzcz0ianAtaWNvbjMiIGZpbGw9IiM2MTYxNjEiPgogICAgPHBhdGggZD0iTTE4IDEzVjIwSDRWNkg5LjAyQzkuMDcgNS4yOSA5LjI0IDQuNjIgOS41IDRINEMyLjkgNCAyIDQuOSAyIDZWMjBDMiAyMS4xIDIuOSAyMiA0IDIySDE4QzE5LjEgMjIgMjAgMjEuMSAyMCAyMFYxNUwxOCAxM1pNMTkuMyA4Ljg5QzE5Ljc0IDguMTkgMjAgNy4zOCAyMCA2LjVDMjAgNC4wMSAxNy45OSAyIDE1LjUgMkMxMy4wMSAyIDExIDQuMDEgMTEgNi41QzExIDguOTkgMTMuMDEgMTEgMTUuNDkgMTFDMTYuMzcgMTEgMTcuMTkgMTAuNzQgMTcuODggMTAuM0wyMSAxMy40MkwyMi40MiAxMkwxOS4zIDguODlaTTE1LjUgOUMxNC4xMiA5IDEzIDcuODggMTMgNi41QzEzIDUuMTIgMTQuMTIgNCAxNS41IDRDMTYuODggNCAxOCA1LjEyIDE4IDYuNUMxOCA3Ljg4IDE2Ljg4IDkgMTUuNSA5WiIvPgogICAgPHBhdGggZmlsbC1ydWxlPSJldmVub2RkIiBjbGlwLXJ1bGU9ImV2ZW5vZGQiIGQ9Ik00IDZIOS4wMTg5NEM5LjAwNjM5IDYuMTY1MDIgOSA2LjMzMTc2IDkgNi41QzkgOC44MTU3NyAxMC4yMTEgMTAuODQ4NyAxMi4wMzQzIDEySDlWMTRIMTZWMTIuOTgxMUMxNi41NzAzIDEyLjkzNzcgMTcuMTIgMTIuODIwNyAxNy42Mzk2IDEyLjYzOTZMMTggMTNWMjBINFY2Wk04IDhINlYxMEg4VjhaTTYgMTJIOFYxNEg2VjEyWk04IDE2SDZWMThIOFYxNlpNOSAxNkgxNlYxOEg5VjE2WiIvPgogIDwvZz4KPC9zdmc+Cg==);
  --jp-icon-paste: url(data:image/svg+xml;base64,PHN2ZyBoZWlnaHQ9IjI0IiB2aWV3Qm94PSIwIDAgMjQgMjQiIHdpZHRoPSIyNCIgeG1sbnM9Imh0dHA6Ly93d3cudzMub3JnLzIwMDAvc3ZnIj4KICAgIDxnIGNsYXNzPSJqcC1pY29uMyIgZmlsbD0iIzYxNjE2MSI+CiAgICAgICAgPHBhdGggZD0iTTE5IDJoLTQuMThDMTQuNC44NCAxMy4zIDAgMTIgMGMtMS4zIDAtMi40Ljg0LTIuODIgMkg1Yy0xLjEgMC0yIC45LTIgMnYxNmMwIDEuMS45IDIgMiAyaDE0YzEuMSAwIDItLjkgMi0yVjRjMC0xLjEtLjktMi0yLTJ6bS03IDBjLjU1IDAgMSAuNDUgMSAxcy0uNDUgMS0xIDEtMS0uNDUtMS0xIC40NS0xIDEtMXptNyAxOEg1VjRoMnYzaDEwVjRoMnYxNnoiLz4KICAgIDwvZz4KPC9zdmc+Cg==);
  --jp-icon-pdf: url(data:image/svg+xml;base64,PHN2ZwogICB4bWxucz0iaHR0cDovL3d3dy53My5vcmcvMjAwMC9zdmciIHZpZXdCb3g9IjAgMCAyMiAyMiIgd2lkdGg9IjE2Ij4KICAgIDxwYXRoIHRyYW5zZm9ybT0icm90YXRlKDQ1KSIgY2xhc3M9ImpwLWljb24tc2VsZWN0YWJsZSIgZmlsbD0iI0ZGMkEyQSIKICAgICAgIGQ9Im0gMjIuMzQ0MzY5LC0zLjAxNjM2NDIgaCA1LjYzODYwNCB2IDEuNTc5MjQzMyBoIC0zLjU0OTIyNyB2IDEuNTA4NjkyOTkgaCAzLjMzNzU3NiBWIDEuNjUwODE1NCBoIC0zLjMzNzU3NiB2IDMuNDM1MjYxMyBoIC0yLjA4OTM3NyB6IG0gLTcuMTM2NDQ0LDEuNTc5MjQzMyB2IDQuOTQzOTU0MyBoIDAuNzQ4OTIgcSAxLjI4MDc2MSwwIDEuOTUzNzAzLC0wLjYzNDk1MzUgMC42NzgzNjksLTAuNjM0OTUzNSAwLjY3ODM2OSwtMS44NDUxNjQxIDAsLTEuMjA0NzgzNTUgLTAuNjcyOTQyLC0xLjgzNDMxMDExIC0wLjY3Mjk0MiwtMC42Mjk1MjY1OSAtMS45NTkxMywtMC42Mjk1MjY1OSB6IG0gLTIuMDg5Mzc3LC0xLjU3OTI0MzMgaCAyLjIwMzM0MyBxIDEuODQ1MTY0LDAgMi43NDYwMzksMC4yNjU5MjA3IDAuOTA2MzAxLDAuMjYwNDkzNyAxLjU1MjEwOCwwLjg5MDAyMDMgMC41Njk4MywwLjU0ODEyMjMgMC44NDY2MDUsMS4yNjQ0ODAwNiAwLjI3Njc3NCwwLjcxNjM1NzgxIDAuMjc2Nzc0LDEuNjIyNjU4OTQgMCwwLjkxNzE1NTEgLTAuMjc2Nzc0LDEuNjM4OTM5OSAtMC4yNzY3NzUsMC43MTYzNTc4IC0wLjg0NjYwNSwxLjI2NDQ4IC0wLjY1MTIzNCwwLjYyOTUyNjYgLTEuNTYyOTYyLDAuODk1NDQ3MyAtMC45MTE3MjgsMC4yNjA0OTM3IC0yLjczNTE4NSwwLjI2MDQ5MzcgaCAtMi4yMDMzNDMgeiBtIC04LjE0NTg1NjUsMCBoIDMuNDY3ODIzIHEgMS41NDY2ODE2LDAgMi4zNzE1Nzg1LDAuNjg5MjIzIDAuODMwMzI0LDAuNjgzNzk2MSAwLjgzMDMyNCwxLjk1MzcwMzE0IDAsMS4yNzUzMzM5NyAtMC44MzAzMjQsMS45NjQ1NTcwNiBRIDkuOTg3MTk2MSwyLjI3NDkxNSA4LjQ0MDUxNDUsMi4yNzQ5MTUgSCA3LjA2MjA2ODQgViA1LjA4NjA3NjcgSCA0Ljk3MjY5MTUgWiBtIDIuMDg5Mzc2OSwxLjUxNDExOTkgdiAyLjI2MzAzOTQzIGggMS4xNTU5NDEgcSAwLjYwNzgxODgsMCAwLjkzODg2MjksLTAuMjkzMDU1NDcgMC4zMzEwNDQxLC0wLjI5ODQ4MjQxIDAuMzMxMDQ0MSwtMC44NDExNzc3MiAwLC0wLjU0MjY5NTMxIC0wLjMzMTA0NDEsLTAuODM1NzUwNzQgLTAuMzMxMDQ0MSwtMC4yOTMwNTU1IC0wLjkzODg2MjksLTAuMjkzMDU1NSB6IgovPgo8L3N2Zz4K);
  --jp-icon-python: url(data:image/svg+xml;base64,PHN2ZyB4bWxucz0iaHR0cDovL3d3dy53My5vcmcvMjAwMC9zdmciIHdpZHRoPSIxNiIgdmlld0JveD0iMCAwIDIyIDIyIj4KICA8ZyBjbGFzcz0ianAtaWNvbi1icmFuZDAganAtaWNvbi1zZWxlY3RhYmxlIiBmaWxsPSIjMEQ0N0ExIj4KICAgIDxwYXRoIGQ9Ik0xMS4xIDYuOVY1LjhINi45YzAtLjUgMC0xLjMuMi0xLjYuNC0uNy44LTEuMSAxLjctMS40IDEuNy0uMyAyLjUtLjMgMy45LS4xIDEgLjEgMS45LjkgMS45IDEuOXY0LjJjMCAuNS0uOSAxLjYtMiAxLjZIOC44Yy0xLjUgMC0yLjQgMS40LTIuNCAyLjh2Mi4ySDQuN0MzLjUgMTUuMSAzIDE0IDMgMTMuMVY5Yy0uMS0xIC42LTIgMS44LTIgMS41LS4xIDYuMy0uMSA2LjMtLjF6Ii8+CiAgICA8cGF0aCBkPSJNMTAuOSAxNS4xdjEuMWg0LjJjMCAuNSAwIDEuMy0uMiAxLjYtLjQuNy0uOCAxLjEtMS43IDEuNC0xLjcuMy0yLjUuMy0zLjkuMS0xLS4xLTEuOS0uOS0xLjktMS45di00LjJjMC0uNS45LTEuNiAyLTEuNmgzLjhjMS41IDAgMi40LTEuNCAyLjQtMi44VjYuNmgxLjdDMTguNSA2LjkgMTkgOCAxOSA4LjlWMTNjMCAxLS43IDIuMS0xLjkgMi4xaC02LjJ6Ii8+CiAgPC9nPgo8L3N2Zz4K);
  --jp-icon-r-kernel: url(data:image/svg+xml;base64,PHN2ZyB4bWxucz0iaHR0cDovL3d3dy53My5vcmcvMjAwMC9zdmciIHdpZHRoPSIxNiIgdmlld0JveD0iMCAwIDIyIDIyIj4KICA8cGF0aCBjbGFzcz0ianAtaWNvbi1jb250cmFzdDMganAtaWNvbi1zZWxlY3RhYmxlIiBmaWxsPSIjMjE5NkYzIiBkPSJNNC40IDIuNWMxLjItLjEgMi45LS4zIDQuOS0uMyAyLjUgMCA0LjEuNCA1LjIgMS4zIDEgLjcgMS41IDEuOSAxLjUgMy41IDAgMi0xLjQgMy41LTIuOSA0LjEgMS4yLjQgMS43IDEuNiAyLjIgMyAuNiAxLjkgMSAzLjkgMS4zIDQuNmgtMy44Yy0uMy0uNC0uOC0xLjctMS4yLTMuN3MtMS4yLTIuNi0yLjYtMi42aC0uOXY2LjRINC40VjIuNXptMy43IDYuOWgxLjRjMS45IDAgMi45LS45IDIuOS0yLjNzLTEtMi4zLTIuOC0yLjNjLS43IDAtMS4zIDAtMS42LjJ2NC41aC4xdi0uMXoiLz4KPC9zdmc+Cg==);
  --jp-icon-react: url(data:image/svg+xml;base64,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);
  --jp-icon-redo: url(data:image/svg+xml;base64,PHN2ZyB4bWxucz0iaHR0cDovL3d3dy53My5vcmcvMjAwMC9zdmciIGhlaWdodD0iMjQiIHZpZXdCb3g9IjAgMCAyNCAyNCIgd2lkdGg9IjE2Ij4KICA8ZyBjbGFzcz0ianAtaWNvbjMiIGZpbGw9IiM2MTYxNjEiPgogICAgICA8cGF0aCBkPSJNMCAwaDI0djI0SDB6IiBmaWxsPSJub25lIi8+PHBhdGggZD0iTTE4LjQgMTAuNkMxNi41NSA4Ljk5IDE0LjE1IDggMTEuNSA4Yy00LjY1IDAtOC41OCAzLjAzLTkuOTYgNy4yMkwzLjkgMTZjMS4wNS0zLjE5IDQuMDUtNS41IDcuNi01LjUgMS45NSAwIDMuNzMuNzIgNS4xMiAxLjg4TDEzIDE2aDlWN2wtMy42IDMuNnoiLz4KICA8L2c+Cjwvc3ZnPgo=);
  --jp-icon-refresh: url(data:image/svg+xml;base64,PHN2ZyB4bWxucz0iaHR0cDovL3d3dy53My5vcmcvMjAwMC9zdmciIHdpZHRoPSIxNiIgdmlld0JveD0iMCAwIDE4IDE4Ij4KICAgIDxnIGNsYXNzPSJqcC1pY29uMyIgZmlsbD0iIzYxNjE2MSI+CiAgICAgICAgPHBhdGggZD0iTTkgMTMuNWMtMi40OSAwLTQuNS0yLjAxLTQuNS00LjVTNi41MSA0LjUgOSA0LjVjMS4yNCAwIDIuMzYuNTIgMy4xNyAxLjMzTDEwIDhoNVYzbC0xLjc2IDEuNzZDMTIuMTUgMy42OCAxMC42NiAzIDkgMyA1LjY5IDMgMy4wMSA1LjY5IDMuMDEgOVM1LjY5IDE1IDkgMTVjMi45NyAwIDUuNDMtMi4xNiA1LjktNWgtMS41MmMtLjQ2IDItMi4yNCAzLjUtNC4zOCAzLjV6Ii8+CiAgICA8L2c+Cjwvc3ZnPgo=);
  --jp-icon-regex: url(data:image/svg+xml;base64,PHN2ZyB4bWxucz0iaHR0cDovL3d3dy53My5vcmcvMjAwMC9zdmciIHdpZHRoPSIxNiIgdmlld0JveD0iMCAwIDIwIDIwIj4KICA8ZyBjbGFzcz0ianAtaWNvbjIiIGZpbGw9IiM0MTQxNDEiPgogICAgPHJlY3QgeD0iMiIgeT0iMiIgd2lkdGg9IjE2IiBoZWlnaHQ9IjE2Ii8+CiAgPC9nPgoKICA8ZyBjbGFzcz0ianAtaWNvbi1hY2NlbnQyIiBmaWxsPSIjRkZGIj4KICAgIDxjaXJjbGUgY2xhc3M9InN0MiIgY3g9IjUuNSIgY3k9IjE0LjUiIHI9IjEuNSIvPgogICAgPHJlY3QgeD0iMTIiIHk9IjQiIGNsYXNzPSJzdDIiIHdpZHRoPSIxIiBoZWlnaHQ9IjgiLz4KICAgIDxyZWN0IHg9IjguNSIgeT0iNy41IiB0cmFuc2Zvcm09Im1hdHJpeCgwLjg2NiAtMC41IDAuNSAwLjg2NiAtMi4zMjU1IDcuMzIxOSkiIGNsYXNzPSJzdDIiIHdpZHRoPSI4IiBoZWlnaHQ9IjEiLz4KICAgIDxyZWN0IHg9IjEyIiB5PSI0IiB0cmFuc2Zvcm09Im1hdHJpeCgwLjUgLTAuODY2IDAuODY2IDAuNSAtMC42Nzc5IDE0LjgyNTIpIiBjbGFzcz0ic3QyIiB3aWR0aD0iMSIgaGVpZ2h0PSI4Ii8+CiAgPC9nPgo8L3N2Zz4K);
  --jp-icon-run: url(data:image/svg+xml;base64,PHN2ZyBoZWlnaHQ9IjI0IiB2aWV3Qm94PSIwIDAgMjQgMjQiIHdpZHRoPSIyNCIgeG1sbnM9Imh0dHA6Ly93d3cudzMub3JnLzIwMDAvc3ZnIj4KICAgIDxnIGNsYXNzPSJqcC1pY29uMyIgZmlsbD0iIzYxNjE2MSI+CiAgICAgICAgPHBhdGggZD0iTTggNXYxNGwxMS03eiIvPgogICAgPC9nPgo8L3N2Zz4K);
  --jp-icon-running: url(data:image/svg+xml;base64,PHN2ZyB4bWxucz0iaHR0cDovL3d3dy53My5vcmcvMjAwMC9zdmciIHdpZHRoPSIxNiIgdmlld0JveD0iMCAwIDUxMiA1MTIiPgogIDxnIGNsYXNzPSJqcC1pY29uMyIgZmlsbD0iIzYxNjE2MSI+CiAgICA8cGF0aCBkPSJNMjU2IDhDMTE5IDggOCAxMTkgOCAyNTZzMTExIDI0OCAyNDggMjQ4IDI0OC0xMTEgMjQ4LTI0OFMzOTMgOCAyNTYgOHptOTYgMzI4YzAgOC44LTcuMiAxNi0xNiAxNkgxNzZjLTguOCAwLTE2LTcuMi0xNi0xNlYxNzZjMC04LjggNy4yLTE2IDE2LTE2aDE2MGM4LjggMCAxNiA3LjIgMTYgMTZ2MTYweiIvPgogIDwvZz4KPC9zdmc+Cg==);
  --jp-icon-save: url(data:image/svg+xml;base64,PHN2ZyBoZWlnaHQ9IjI0IiB2aWV3Qm94PSIwIDAgMjQgMjQiIHdpZHRoPSIyNCIgeG1sbnM9Imh0dHA6Ly93d3cudzMub3JnLzIwMDAvc3ZnIj4KICAgIDxnIGNsYXNzPSJqcC1pY29uMyIgZmlsbD0iIzYxNjE2MSI+CiAgICAgICAgPHBhdGggZD0iTTE3IDNINWMtMS4xMSAwLTIgLjktMiAydjE0YzAgMS4xLjg5IDIgMiAyaDE0YzEuMSAwIDItLjkgMi0yVjdsLTQtNHptLTUgMTZjLTEuNjYgMC0zLTEuMzQtMy0zczEuMzQtMyAzLTMgMyAxLjM0IDMgMy0xLjM0IDMtMyAzem0zLTEwSDVWNWgxMHY0eiIvPgogICAgPC9nPgo8L3N2Zz4K);
  --jp-icon-search: url(data:image/svg+xml;base64,PHN2ZyB2aWV3Qm94PSIwIDAgMTggMTgiIHdpZHRoPSIxNiIgeG1sbnM9Imh0dHA6Ly93d3cudzMub3JnLzIwMDAvc3ZnIj4KICA8ZyBjbGFzcz0ianAtaWNvbjMiIGZpbGw9IiM2MTYxNjEiPgogICAgPHBhdGggZD0iTTEyLjEsMTAuOWgtMC43bC0wLjItMC4yYzAuOC0wLjksMS4zLTIuMiwxLjMtMy41YzAtMy0yLjQtNS40LTUuNC01LjRTMS44LDQuMiwxLjgsNy4xczIuNCw1LjQsNS40LDUuNCBjMS4zLDAsMi41LTAuNSwzLjUtMS4zbDAuMiwwLjJ2MC43bDQuMSw0LjFsMS4yLTEuMkwxMi4xLDEwLjl6IE03LjEsMTAuOWMtMi4xLDAtMy43LTEuNy0zLjctMy43czEuNy0zLjcsMy43LTMuN3MzLjcsMS43LDMuNywzLjcgUzkuMiwxMC45LDcuMSwxMC45eiIvPgogIDwvZz4KPC9zdmc+Cg==);
  --jp-icon-settings: url(data:image/svg+xml;base64,PHN2ZyB4bWxucz0iaHR0cDovL3d3dy53My5vcmcvMjAwMC9zdmciIHdpZHRoPSIxNiIgdmlld0JveD0iMCAwIDI0IDI0Ij4KICA8cGF0aCBjbGFzcz0ianAtaWNvbjMganAtaWNvbi1zZWxlY3RhYmxlIiBmaWxsPSIjNjE2MTYxIiBkPSJNMTkuNDMgMTIuOThjLjA0LS4zMi4wNy0uNjQuMDctLjk4cy0uMDMtLjY2LS4wNy0uOThsMi4xMS0xLjY1Yy4xOS0uMTUuMjQtLjQyLjEyLS42NGwtMi0zLjQ2Yy0uMTItLjIyLS4zOS0uMy0uNjEtLjIybC0yLjQ5IDFjLS41Mi0uNC0xLjA4LS43My0xLjY5LS45OGwtLjM4LTIuNjVBLjQ4OC40ODggMCAwMDE0IDJoLTRjLS4yNSAwLS40Ni4xOC0uNDkuNDJsLS4zOCAyLjY1Yy0uNjEuMjUtMS4xNy41OS0xLjY5Ljk4bC0yLjQ5LTFjLS4yMy0uMDktLjQ5IDAtLjYxLjIybC0yIDMuNDZjLS4xMy4yMi0uMDcuNDkuMTIuNjRsMi4xMSAxLjY1Yy0uMDQuMzItLjA3LjY1LS4wNy45OHMuMDMuNjYuMDcuOThsLTIuMTEgMS42NWMtLjE5LjE1LS4yNC40Mi0uMTIuNjRsMiAzLjQ2Yy4xMi4yMi4zOS4zLjYxLjIybDIuNDktMWMuNTIuNCAxLjA4LjczIDEuNjkuOThsLjM4IDIuNjVjLjAzLjI0LjI0LjQyLjQ5LjQyaDRjLjI1IDAgLjQ2LS4xOC40OS0uNDJsLjM4LTIuNjVjLjYxLS4yNSAxLjE3LS41OSAxLjY5LS45OGwyLjQ5IDFjLjIzLjA5LjQ5IDAgLjYxLS4yMmwyLTMuNDZjLjEyLS4yMi4wNy0uNDktLjEyLS42NGwtMi4xMS0xLjY1ek0xMiAxNS41Yy0xLjkzIDAtMy41LTEuNTctMy41LTMuNXMxLjU3LTMuNSAzLjUtMy41IDMuNSAxLjU3IDMuNSAzLjUtMS41NyAzLjUtMy41IDMuNXoiLz4KPC9zdmc+Cg==);
  --jp-icon-spreadsheet: url(data:image/svg+xml;base64,PHN2ZyB4bWxucz0iaHR0cDovL3d3dy53My5vcmcvMjAwMC9zdmciIHdpZHRoPSIxNiIgdmlld0JveD0iMCAwIDIyIDIyIj4KICA8cGF0aCBjbGFzcz0ianAtaWNvbi1jb250cmFzdDEganAtaWNvbi1zZWxlY3RhYmxlIiBmaWxsPSIjNENBRjUwIiBkPSJNMi4yIDIuMnYxNy42aDE3LjZWMi4ySDIuMnptMTUuNCA3LjdoLTUuNVY0LjRoNS41djUuNXpNOS45IDQuNHY1LjVINC40VjQuNGg1LjV6bS01LjUgNy43aDUuNXY1LjVINC40di01LjV6bTcuNyA1LjV2LTUuNWg1LjV2NS41aC01LjV6Ii8+Cjwvc3ZnPgo=);
  --jp-icon-stop: url(data:image/svg+xml;base64,PHN2ZyBoZWlnaHQ9IjI0IiB2aWV3Qm94PSIwIDAgMjQgMjQiIHdpZHRoPSIyNCIgeG1sbnM9Imh0dHA6Ly93d3cudzMub3JnLzIwMDAvc3ZnIj4KICAgIDxnIGNsYXNzPSJqcC1pY29uMyIgZmlsbD0iIzYxNjE2MSI+CiAgICAgICAgPHBhdGggZD0iTTAgMGgyNHYyNEgweiIgZmlsbD0ibm9uZSIvPgogICAgICAgIDxwYXRoIGQ9Ik02IDZoMTJ2MTJINnoiLz4KICAgIDwvZz4KPC9zdmc+Cg==);
  --jp-icon-tab: url(data:image/svg+xml;base64,PHN2ZyB4bWxucz0iaHR0cDovL3d3dy53My5vcmcvMjAwMC9zdmciIHdpZHRoPSIxNiIgdmlld0JveD0iMCAwIDI0IDI0Ij4KICA8ZyBjbGFzcz0ianAtaWNvbjMiIGZpbGw9IiM2MTYxNjEiPgogICAgPHBhdGggZD0iTTIxIDNIM2MtMS4xIDAtMiAuOS0yIDJ2MTRjMCAxLjEuOSAyIDIgMmgxOGMxLjEgMCAyLS45IDItMlY1YzAtMS4xLS45LTItMi0yem0wIDE2SDNWNWgxMHY0aDh2MTB6Ii8+CiAgPC9nPgo8L3N2Zz4K);
  --jp-icon-table-rows: url(data:image/svg+xml;base64,PHN2ZyBoZWlnaHQ9IjI0IiB2aWV3Qm94PSIwIDAgMjQgMjQiIHdpZHRoPSIyNCIgeG1sbnM9Imh0dHA6Ly93d3cudzMub3JnLzIwMDAvc3ZnIj4KICAgIDxnIGNsYXNzPSJqcC1pY29uMyIgZmlsbD0iIzYxNjE2MSI+CiAgICAgICAgPHBhdGggZD0iTTAgMGgyNHYyNEgweiIgZmlsbD0ibm9uZSIvPgogICAgICAgIDxwYXRoIGQ9Ik0yMSw4SDNWNGgxOFY4eiBNMjEsMTBIM3Y0aDE4VjEweiBNMjEsMTZIM3Y0aDE4VjE2eiIvPgogICAgPC9nPgo8L3N2Zz4=);
  --jp-icon-tag: url(data:image/svg+xml;base64,PHN2ZyB3aWR0aD0iMjgiIGhlaWdodD0iMjgiIHZpZXdCb3g9IjAgMCA0MyAyOCIgeG1sbnM9Imh0dHA6Ly93d3cudzMub3JnLzIwMDAvc3ZnIj4KCTxnIGNsYXNzPSJqcC1pY29uMyIgZmlsbD0iIzYxNjE2MSI+CgkJPHBhdGggZD0iTTI4LjgzMzIgMTIuMzM0TDMyLjk5OTggMTYuNTAwN0wzNy4xNjY1IDEyLjMzNEgyOC44MzMyWiIvPgoJCTxwYXRoIGQ9Ik0xNi4yMDk1IDIxLjYxMDRDMTUuNjg3MyAyMi4xMjk5IDE0Ljg0NDMgMjIuMTI5OSAxNC4zMjQ4IDIxLjYxMDRMNi45ODI5IDE0LjcyNDVDNi41NzI0IDE0LjMzOTQgNi4wODMxMyAxMy42MDk4IDYuMDQ3ODYgMTMuMDQ4MkM1Ljk1MzQ3IDExLjUyODggNi4wMjAwMiA4LjYxOTQ0IDYuMDY2MjEgNy4wNzY5NUM2LjA4MjgxIDYuNTE0NzcgNi41NTU0OCA2LjA0MzQ3IDcuMTE4MDQgNi4wMzA1NUM5LjA4ODYzIDUuOTg0NzMgMTMuMjYzOCA1LjkzNTc5IDEzLjY1MTggNi4zMjQyNUwyMS43MzY5IDEzLjYzOUMyMi4yNTYgMTQuMTU4NSAyMS43ODUxIDE1LjQ3MjQgMjEuMjYyIDE1Ljk5NDZMMTYuMjA5NSAyMS42MTA0Wk05Ljc3NTg1IDguMjY1QzkuMzM1NTEgNy44MjU2NiA4LjYyMzUxIDcuODI1NjYgOC4xODI4IDguMjY1QzcuNzQzNDYgOC43MDU3MSA3Ljc0MzQ2IDkuNDE3MzMgOC4xODI4IDkuODU2NjdDOC42MjM4MiAxMC4yOTY0IDkuMzM1ODIgMTAuMjk2NCA5Ljc3NTg1IDkuODU2NjdDMTAuMjE1NiA5LjQxNzMzIDEwLjIxNTYgOC43MDUzMyA5Ljc3NTg1IDguMjY1WiIvPgoJPC9nPgo8L3N2Zz4K);
  --jp-icon-terminal: url(data:image/svg+xml;base64,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);
  --jp-icon-text-editor: url(data:image/svg+xml;base64,PHN2ZyB4bWxucz0iaHR0cDovL3d3dy53My5vcmcvMjAwMC9zdmciIHdpZHRoPSIxNiIgdmlld0JveD0iMCAwIDI0IDI0Ij4KICA8cGF0aCBjbGFzcz0ianAtaWNvbjMganAtaWNvbi1zZWxlY3RhYmxlIiBmaWxsPSIjNjE2MTYxIiBkPSJNMTUgMTVIM3YyaDEydi0yem0wLThIM3YyaDEyVjd6TTMgMTNoMTh2LTJIM3Yyem0wIDhoMTh2LTJIM3Yyek0zIDN2MmgxOFYzSDN6Ii8+Cjwvc3ZnPgo=);
  --jp-icon-toc: url(data:image/svg+xml;base64,PHN2ZyB4bWxucz0iaHR0cDovL3d3dy53My5vcmcvMjAwMC9zdmciIHdpZHRoPSIyNCIgaGVpZ2h0PSIyNCIgdmlld0JveD0iMCAwIDI0IDI0Ij4KICA8ZyBjbGFzcz0ianAtaWNvbjMganAtaWNvbi1zZWxlY3RhYmxlIiBmaWxsPSIjNjE2MTYxIj4KICAgIDxwYXRoIGQ9Ik03LDVIMjFWN0g3VjVNNywxM1YxMUgyMVYxM0g3TTQsNC41QTEuNSwxLjUgMCAwLDEgNS41LDZBMS41LDEuNSAwIDAsMSA0LDcuNUExLjUsMS41IDAgMCwxIDIuNSw2QTEuNSwxLjUgMCAwLDEgNCw0LjVNNCwxMC41QTEuNSwxLjUgMCAwLDEgNS41LDEyQTEuNSwxLjUgMCAwLDEgNCwxMy41QTEuNSwxLjUgMCAwLDEgMi41LDEyQTEuNSwxLjUgMCAwLDEgNCwxMC41TTcsMTlWMTdIMjFWMTlIN000LDE2LjVBMS41LDEuNSAwIDAsMSA1LjUsMThBMS41LDEuNSAwIDAsMSA0LDE5LjVBMS41LDEuNSAwIDAsMSAyLjUsMThBMS41LDEuNSAwIDAsMSA0LDE2LjVaIiAvPgogIDwvZz4KPC9zdmc+Cg==);
  --jp-icon-tree-view: url(data:image/svg+xml;base64,PHN2ZyBoZWlnaHQ9IjI0IiB2aWV3Qm94PSIwIDAgMjQgMjQiIHdpZHRoPSIyNCIgeG1sbnM9Imh0dHA6Ly93d3cudzMub3JnLzIwMDAvc3ZnIj4KICAgIDxnIGNsYXNzPSJqcC1pY29uMyIgZmlsbD0iIzYxNjE2MSI+CiAgICAgICAgPHBhdGggZD0iTTAgMGgyNHYyNEgweiIgZmlsbD0ibm9uZSIvPgogICAgICAgIDxwYXRoIGQ9Ik0yMiAxMVYzaC03djNIOVYzSDJ2OGg3VjhoMnYxMGg0djNoN3YtOGgtN3YzaC0yVjhoMnYzeiIvPgogICAgPC9nPgo8L3N2Zz4=);
  --jp-icon-trusted: url(data:image/svg+xml;base64,PHN2ZyBmaWxsPSJub25lIiB4bWxucz0iaHR0cDovL3d3dy53My5vcmcvMjAwMC9zdmciIHdpZHRoPSIxNiIgdmlld0JveD0iMCAwIDI0IDI1Ij4KICAgIDxwYXRoIGNsYXNzPSJqcC1pY29uMiIgc3Ryb2tlPSIjMzMzMzMzIiBzdHJva2Utd2lkdGg9IjIiIHRyYW5zZm9ybT0idHJhbnNsYXRlKDIgMykiIGQ9Ik0xLjg2MDk0IDExLjQ0MDlDMC44MjY0NDggOC43NzAyNyAwLjg2Mzc3OSA2LjA1NzY0IDEuMjQ5MDcgNC4xOTkzMkMyLjQ4MjA2IDMuOTMzNDcgNC4wODA2OCAzLjQwMzQ3IDUuNjAxMDIgMi44NDQ5QzcuMjM1NDkgMi4yNDQ0IDguODU2NjYgMS41ODE1IDkuOTg3NiAxLjA5NTM5QzExLjA1OTcgMS41ODM0MSAxMi42MDk0IDIuMjQ0NCAxNC4yMTggMi44NDMzOUMxNS43NTAzIDMuNDEzOTQgMTcuMzk5NSAzLjk1MjU4IDE4Ljc1MzkgNC4yMTM4NUMxOS4xMzY0IDYuMDcxNzcgMTkuMTcwOSA4Ljc3NzIyIDE4LjEzOSAxMS40NDA5QzE3LjAzMDMgMTQuMzAzMiAxNC42NjY4IDE3LjE4NDQgOS45OTk5OSAxOC45MzU0QzUuMzMzMiAxNy4xODQ0IDIuOTY5NjggMTQuMzAzMiAxLjg2MDk0IDExLjQ0MDlaIi8+CiAgICA8cGF0aCBjbGFzcz0ianAtaWNvbjIiIGZpbGw9IiMzMzMzMzMiIHN0cm9rZT0iIzMzMzMzMyIgdHJhbnNmb3JtPSJ0cmFuc2xhdGUoOCA5Ljg2NzE5KSIgZD0iTTIuODYwMTUgNC44NjUzNUwwLjcyNjU0OSAyLjk5OTU5TDAgMy42MzA0NUwyLjg2MDE1IDYuMTMxNTdMOCAwLjYzMDg3Mkw3LjI3ODU3IDBMMi44NjAxNSA0Ljg2NTM1WiIvPgo8L3N2Zz4K);
  --jp-icon-undo: url(data:image/svg+xml;base64,PHN2ZyB2aWV3Qm94PSIwIDAgMjQgMjQiIHdpZHRoPSIxNiIgeG1sbnM9Imh0dHA6Ly93d3cudzMub3JnLzIwMDAvc3ZnIj4KICA8ZyBjbGFzcz0ianAtaWNvbjMiIGZpbGw9IiM2MTYxNjEiPgogICAgPHBhdGggZD0iTTEyLjUgOGMtMi42NSAwLTUuMDUuOTktNi45IDIuNkwyIDd2OWg5bC0zLjYyLTMuNjJjMS4zOS0xLjE2IDMuMTYtMS44OCA1LjEyLTEuODggMy41NCAwIDYuNTUgMi4zMSA3LjYgNS41bDIuMzctLjc4QzIxLjA4IDExLjAzIDE3LjE1IDggMTIuNSA4eiIvPgogIDwvZz4KPC9zdmc+Cg==);
  --jp-icon-vega: url(data:image/svg+xml;base64,PHN2ZyB4bWxucz0iaHR0cDovL3d3dy53My5vcmcvMjAwMC9zdmciIHdpZHRoPSIxNiIgdmlld0JveD0iMCAwIDIyIDIyIj4KICA8ZyBjbGFzcz0ianAtaWNvbjEganAtaWNvbi1zZWxlY3RhYmxlIiBmaWxsPSIjMjEyMTIxIj4KICAgIDxwYXRoIGQ9Ik0xMC42IDUuNGwyLjItMy4ySDIuMnY3LjNsNC02LjZ6Ii8+CiAgICA8cGF0aCBkPSJNMTUuOCAyLjJsLTQuNCA2LjZMNyA2LjNsLTQuOCA4djUuNWgxNy42VjIuMmgtNHptLTcgMTUuNEg1LjV2LTQuNGgzLjN2NC40em00LjQgMEg5LjhWOS44aDMuNHY3Ljh6bTQuNCAwaC0zLjRWNi41aDMuNHYxMS4xeiIvPgogIDwvZz4KPC9zdmc+Cg==);
  --jp-icon-yaml: url(data:image/svg+xml;base64,PHN2ZyB4bWxucz0iaHR0cDovL3d3dy53My5vcmcvMjAwMC9zdmciIHdpZHRoPSIxNiIgdmlld0JveD0iMCAwIDIyIDIyIj4KICA8ZyBjbGFzcz0ianAtaWNvbi1jb250cmFzdDIganAtaWNvbi1zZWxlY3RhYmxlIiBmaWxsPSIjRDgxQjYwIj4KICAgIDxwYXRoIGQ9Ik03LjIgMTguNnYtNS40TDMgNS42aDMuM2wxLjQgMy4xYy4zLjkuNiAxLjYgMSAyLjUuMy0uOC42LTEuNiAxLTIuNWwxLjQtMy4xaDMuNGwtNC40IDcuNnY1LjVsLTIuOS0uMXoiLz4KICAgIDxjaXJjbGUgY2xhc3M9InN0MCIgY3g9IjE3LjYiIGN5PSIxNi41IiByPSIyLjEiLz4KICAgIDxjaXJjbGUgY2xhc3M9InN0MCIgY3g9IjE3LjYiIGN5PSIxMSIgcj0iMi4xIi8+CiAgPC9nPgo8L3N2Zz4K);
}

/* Icon CSS class declarations */

.jp-AddIcon {
  background-image: var(--jp-icon-add);
}
.jp-BugIcon {
  background-image: var(--jp-icon-bug);
}
.jp-BuildIcon {
  background-image: var(--jp-icon-build);
}
.jp-CaretDownEmptyIcon {
  background-image: var(--jp-icon-caret-down-empty);
}
.jp-CaretDownEmptyThinIcon {
  background-image: var(--jp-icon-caret-down-empty-thin);
}
.jp-CaretDownIcon {
  background-image: var(--jp-icon-caret-down);
}
.jp-CaretLeftIcon {
  background-image: var(--jp-icon-caret-left);
}
.jp-CaretRightIcon {
  background-image: var(--jp-icon-caret-right);
}
.jp-CaretUpEmptyThinIcon {
  background-image: var(--jp-icon-caret-up-empty-thin);
}
.jp-CaretUpIcon {
  background-image: var(--jp-icon-caret-up);
}
.jp-CaseSensitiveIcon {
  background-image: var(--jp-icon-case-sensitive);
}
.jp-CheckIcon {
  background-image: var(--jp-icon-check);
}
.jp-CircleEmptyIcon {
  background-image: var(--jp-icon-circle-empty);
}
.jp-CircleIcon {
  background-image: var(--jp-icon-circle);
}
.jp-ClearIcon {
  background-image: var(--jp-icon-clear);
}
.jp-CloseIcon {
  background-image: var(--jp-icon-close);
}
.jp-CodeIcon {
  background-image: var(--jp-icon-code);
}
.jp-ConsoleIcon {
  background-image: var(--jp-icon-console);
}
.jp-CopyIcon {
  background-image: var(--jp-icon-copy);
}
.jp-CopyrightIcon {
  background-image: var(--jp-icon-copyright);
}
.jp-CutIcon {
  background-image: var(--jp-icon-cut);
}
.jp-DownloadIcon {
  background-image: var(--jp-icon-download);
}
.jp-EditIcon {
  background-image: var(--jp-icon-edit);
}
.jp-EllipsesIcon {
  background-image: var(--jp-icon-ellipses);
}
.jp-ExtensionIcon {
  background-image: var(--jp-icon-extension);
}
.jp-FastForwardIcon {
  background-image: var(--jp-icon-fast-forward);
}
.jp-FileIcon {
  background-image: var(--jp-icon-file);
}
.jp-FileUploadIcon {
  background-image: var(--jp-icon-file-upload);
}
.jp-FilterListIcon {
  background-image: var(--jp-icon-filter-list);
}
.jp-FolderIcon {
  background-image: var(--jp-icon-folder);
}
.jp-Html5Icon {
  background-image: var(--jp-icon-html5);
}
.jp-ImageIcon {
  background-image: var(--jp-icon-image);
}
.jp-InspectorIcon {
  background-image: var(--jp-icon-inspector);
}
.jp-JsonIcon {
  background-image: var(--jp-icon-json);
}
.jp-JuliaIcon {
  background-image: var(--jp-icon-julia);
}
.jp-JupyterFaviconIcon {
  background-image: var(--jp-icon-jupyter-favicon);
}
.jp-JupyterIcon {
  background-image: var(--jp-icon-jupyter);
}
.jp-JupyterlabWordmarkIcon {
  background-image: var(--jp-icon-jupyterlab-wordmark);
}
.jp-KernelIcon {
  background-image: var(--jp-icon-kernel);
}
.jp-KeyboardIcon {
  background-image: var(--jp-icon-keyboard);
}
.jp-LauncherIcon {
  background-image: var(--jp-icon-launcher);
}
.jp-LineFormIcon {
  background-image: var(--jp-icon-line-form);
}
.jp-LinkIcon {
  background-image: var(--jp-icon-link);
}
.jp-ListIcon {
  background-image: var(--jp-icon-list);
}
.jp-ListingsInfoIcon {
  background-image: var(--jp-icon-listings-info);
}
.jp-MarkdownIcon {
  background-image: var(--jp-icon-markdown);
}
.jp-NewFolderIcon {
  background-image: var(--jp-icon-new-folder);
}
.jp-NotTrustedIcon {
  background-image: var(--jp-icon-not-trusted);
}
.jp-NotebookIcon {
  background-image: var(--jp-icon-notebook);
}
.jp-NumberingIcon {
  background-image: var(--jp-icon-numbering);
}
.jp-OfflineBoltIcon {
  background-image: var(--jp-icon-offline-bolt);
}
.jp-PaletteIcon {
  background-image: var(--jp-icon-palette);
}
.jp-PasteIcon {
  background-image: var(--jp-icon-paste);
}
.jp-PdfIcon {
  background-image: var(--jp-icon-pdf);
}
.jp-PythonIcon {
  background-image: var(--jp-icon-python);
}
.jp-RKernelIcon {
  background-image: var(--jp-icon-r-kernel);
}
.jp-ReactIcon {
  background-image: var(--jp-icon-react);
}
.jp-RedoIcon {
  background-image: var(--jp-icon-redo);
}
.jp-RefreshIcon {
  background-image: var(--jp-icon-refresh);
}
.jp-RegexIcon {
  background-image: var(--jp-icon-regex);
}
.jp-RunIcon {
  background-image: var(--jp-icon-run);
}
.jp-RunningIcon {
  background-image: var(--jp-icon-running);
}
.jp-SaveIcon {
  background-image: var(--jp-icon-save);
}
.jp-SearchIcon {
  background-image: var(--jp-icon-search);
}
.jp-SettingsIcon {
  background-image: var(--jp-icon-settings);
}
.jp-SpreadsheetIcon {
  background-image: var(--jp-icon-spreadsheet);
}
.jp-StopIcon {
  background-image: var(--jp-icon-stop);
}
.jp-TabIcon {
  background-image: var(--jp-icon-tab);
}
.jp-TableRowsIcon {
  background-image: var(--jp-icon-table-rows);
}
.jp-TagIcon {
  background-image: var(--jp-icon-tag);
}
.jp-TerminalIcon {
  background-image: var(--jp-icon-terminal);
}
.jp-TextEditorIcon {
  background-image: var(--jp-icon-text-editor);
}
.jp-TocIcon {
  background-image: var(--jp-icon-toc);
}
.jp-TreeViewIcon {
  background-image: var(--jp-icon-tree-view);
}
.jp-TrustedIcon {
  background-image: var(--jp-icon-trusted);
}
.jp-UndoIcon {
  background-image: var(--jp-icon-undo);
}
.jp-VegaIcon {
  background-image: var(--jp-icon-vega);
}
.jp-YamlIcon {
  background-image: var(--jp-icon-yaml);
}

/*-----------------------------------------------------------------------------
| Copyright (c) Jupyter Development Team.
| Distributed under the terms of the Modified BSD License.
|----------------------------------------------------------------------------*/

/**
 * (DEPRECATED) Support for consuming icons as CSS background images
 */

.jp-Icon,
.jp-MaterialIcon {
  background-position: center;
  background-repeat: no-repeat;
  background-size: 16px;
  min-width: 16px;
  min-height: 16px;
}

.jp-Icon-cover {
  background-position: center;
  background-repeat: no-repeat;
  background-size: cover;
}

/**
 * (DEPRECATED) Support for specific CSS icon sizes
 */

.jp-Icon-16 {
  background-size: 16px;
  min-width: 16px;
  min-height: 16px;
}

.jp-Icon-18 {
  background-size: 18px;
  min-width: 18px;
  min-height: 18px;
}

.jp-Icon-20 {
  background-size: 20px;
  min-width: 20px;
  min-height: 20px;
}

/*-----------------------------------------------------------------------------
| Copyright (c) Jupyter Development Team.
| Distributed under the terms of the Modified BSD License.
|----------------------------------------------------------------------------*/

/**
 * Support for icons as inline SVG HTMLElements
 */

/* recolor the primary elements of an icon */
.jp-icon0[fill] {
  fill: var(--jp-inverse-layout-color0);
}
.jp-icon1[fill] {
  fill: var(--jp-inverse-layout-color1);
}
.jp-icon2[fill] {
  fill: var(--jp-inverse-layout-color2);
}
.jp-icon3[fill] {
  fill: var(--jp-inverse-layout-color3);
}
.jp-icon4[fill] {
  fill: var(--jp-inverse-layout-color4);
}

.jp-icon0[stroke] {
  stroke: var(--jp-inverse-layout-color0);
}
.jp-icon1[stroke] {
  stroke: var(--jp-inverse-layout-color1);
}
.jp-icon2[stroke] {
  stroke: var(--jp-inverse-layout-color2);
}
.jp-icon3[stroke] {
  stroke: var(--jp-inverse-layout-color3);
}
.jp-icon4[stroke] {
  stroke: var(--jp-inverse-layout-color4);
}
/* recolor the accent elements of an icon */
.jp-icon-accent0[fill] {
  fill: var(--jp-layout-color0);
}
.jp-icon-accent1[fill] {
  fill: var(--jp-layout-color1);
}
.jp-icon-accent2[fill] {
  fill: var(--jp-layout-color2);
}
.jp-icon-accent3[fill] {
  fill: var(--jp-layout-color3);
}
.jp-icon-accent4[fill] {
  fill: var(--jp-layout-color4);
}

.jp-icon-accent0[stroke] {
  stroke: var(--jp-layout-color0);
}
.jp-icon-accent1[stroke] {
  stroke: var(--jp-layout-color1);
}
.jp-icon-accent2[stroke] {
  stroke: var(--jp-layout-color2);
}
.jp-icon-accent3[stroke] {
  stroke: var(--jp-layout-color3);
}
.jp-icon-accent4[stroke] {
  stroke: var(--jp-layout-color4);
}
/* set the color of an icon to transparent */
.jp-icon-none[fill] {
  fill: none;
}

.jp-icon-none[stroke] {
  stroke: none;
}
/* brand icon colors. Same for light and dark */
.jp-icon-brand0[fill] {
  fill: var(--jp-brand-color0);
}
.jp-icon-brand1[fill] {
  fill: var(--jp-brand-color1);
}
.jp-icon-brand2[fill] {
  fill: var(--jp-brand-color2);
}
.jp-icon-brand3[fill] {
  fill: var(--jp-brand-color3);
}
.jp-icon-brand4[fill] {
  fill: var(--jp-brand-color4);
}

.jp-icon-brand0[stroke] {
  stroke: var(--jp-brand-color0);
}
.jp-icon-brand1[stroke] {
  stroke: var(--jp-brand-color1);
}
.jp-icon-brand2[stroke] {
  stroke: var(--jp-brand-color2);
}
.jp-icon-brand3[stroke] {
  stroke: var(--jp-brand-color3);
}
.jp-icon-brand4[stroke] {
  stroke: var(--jp-brand-color4);
}
/* warn icon colors. Same for light and dark */
.jp-icon-warn0[fill] {
  fill: var(--jp-warn-color0);
}
.jp-icon-warn1[fill] {
  fill: var(--jp-warn-color1);
}
.jp-icon-warn2[fill] {
  fill: var(--jp-warn-color2);
}
.jp-icon-warn3[fill] {
  fill: var(--jp-warn-color3);
}

.jp-icon-warn0[stroke] {
  stroke: var(--jp-warn-color0);
}
.jp-icon-warn1[stroke] {
  stroke: var(--jp-warn-color1);
}
.jp-icon-warn2[stroke] {
  stroke: var(--jp-warn-color2);
}
.jp-icon-warn3[stroke] {
  stroke: var(--jp-warn-color3);
}
/* icon colors that contrast well with each other and most backgrounds */
.jp-icon-contrast0[fill] {
  fill: var(--jp-icon-contrast-color0);
}
.jp-icon-contrast1[fill] {
  fill: var(--jp-icon-contrast-color1);
}
.jp-icon-contrast2[fill] {
  fill: var(--jp-icon-contrast-color2);
}
.jp-icon-contrast3[fill] {
  fill: var(--jp-icon-contrast-color3);
}

.jp-icon-contrast0[stroke] {
  stroke: var(--jp-icon-contrast-color0);
}
.jp-icon-contrast1[stroke] {
  stroke: var(--jp-icon-contrast-color1);
}
.jp-icon-contrast2[stroke] {
  stroke: var(--jp-icon-contrast-color2);
}
.jp-icon-contrast3[stroke] {
  stroke: var(--jp-icon-contrast-color3);
}

/* CSS for icons in selected items in the settings editor */
#setting-editor .jp-PluginList .jp-mod-selected .jp-icon-selectable[fill] {
  fill: #fff;
}
#setting-editor
  .jp-PluginList
  .jp-mod-selected
  .jp-icon-selectable-inverse[fill] {
  fill: var(--jp-brand-color1);
}

/* CSS for icons in selected filebrowser listing items */
.jp-DirListing-item.jp-mod-selected .jp-icon-selectable[fill] {
  fill: #fff;
}
.jp-DirListing-item.jp-mod-selected .jp-icon-selectable-inverse[fill] {
  fill: var(--jp-brand-color1);
}

/* CSS for icons in selected tabs in the sidebar tab manager */
#tab-manager .lm-TabBar-tab.jp-mod-active .jp-icon-selectable[fill] {
  fill: #fff;
}

#tab-manager .lm-TabBar-tab.jp-mod-active .jp-icon-selectable-inverse[fill] {
  fill: var(--jp-brand-color1);
}
#tab-manager
  .lm-TabBar-tab.jp-mod-active
  .jp-icon-hover
  :hover
  .jp-icon-selectable[fill] {
  fill: var(--jp-brand-color1);
}

#tab-manager
  .lm-TabBar-tab.jp-mod-active
  .jp-icon-hover
  :hover
  .jp-icon-selectable-inverse[fill] {
  fill: #fff;
}

/**
 * TODO: come up with non css-hack solution for showing the busy icon on top
 *  of the close icon
 * CSS for complex behavior of close icon of tabs in the sidebar tab manager
 */
#tab-manager
  .lm-TabBar-tab.jp-mod-dirty
  > .lm-TabBar-tabCloseIcon
  > :not(:hover)
  > .jp-icon3[fill] {
  fill: none;
}
#tab-manager
  .lm-TabBar-tab.jp-mod-dirty
  > .lm-TabBar-tabCloseIcon
  > :not(:hover)
  > .jp-icon-busy[fill] {
  fill: var(--jp-inverse-layout-color3);
}

#tab-manager
  .lm-TabBar-tab.jp-mod-dirty.jp-mod-active
  > .lm-TabBar-tabCloseIcon
  > :not(:hover)
  > .jp-icon-busy[fill] {
  fill: #fff;
}

/**
* TODO: come up with non css-hack solution for showing the busy icon on top
*  of the close icon
* CSS for complex behavior of close icon of tabs in the main area tabbar
*/
.lm-DockPanel-tabBar
  .lm-TabBar-tab.lm-mod-closable.jp-mod-dirty
  > .lm-TabBar-tabCloseIcon
  > :not(:hover)
  > .jp-icon3[fill] {
  fill: none;
}
.lm-DockPanel-tabBar
  .lm-TabBar-tab.lm-mod-closable.jp-mod-dirty
  > .lm-TabBar-tabCloseIcon
  > :not(:hover)
  > .jp-icon-busy[fill] {
  fill: var(--jp-inverse-layout-color3);
}

/* CSS for icons in status bar */
#jp-main-statusbar .jp-mod-selected .jp-icon-selectable[fill] {
  fill: #fff;
}

#jp-main-statusbar .jp-mod-selected .jp-icon-selectable-inverse[fill] {
  fill: var(--jp-brand-color1);
}
/* special handling for splash icon CSS. While the theme CSS reloads during
   splash, the splash icon can loose theming. To prevent that, we set a
   default for its color variable */
:root {
  --jp-warn-color0: var(--md-orange-700);
}

/* not sure what to do with this one, used in filebrowser listing */
.jp-DragIcon {
  margin-right: 4px;
}

/*-----------------------------------------------------------------------------
| Copyright (c) Jupyter Development Team.
| Distributed under the terms of the Modified BSD License.
|----------------------------------------------------------------------------*/

/**
 * Support for alt colors for icons as inline SVG HTMLElements
 */

/* alt recolor the primary elements of an icon */
.jp-icon-alt .jp-icon0[fill] {
  fill: var(--jp-layout-color0);
}
.jp-icon-alt .jp-icon1[fill] {
  fill: var(--jp-layout-color1);
}
.jp-icon-alt .jp-icon2[fill] {
  fill: var(--jp-layout-color2);
}
.jp-icon-alt .jp-icon3[fill] {
  fill: var(--jp-layout-color3);
}
.jp-icon-alt .jp-icon4[fill] {
  fill: var(--jp-layout-color4);
}

.jp-icon-alt .jp-icon0[stroke] {
  stroke: var(--jp-layout-color0);
}
.jp-icon-alt .jp-icon1[stroke] {
  stroke: var(--jp-layout-color1);
}
.jp-icon-alt .jp-icon2[stroke] {
  stroke: var(--jp-layout-color2);
}
.jp-icon-alt .jp-icon3[stroke] {
  stroke: var(--jp-layout-color3);
}
.jp-icon-alt .jp-icon4[stroke] {
  stroke: var(--jp-layout-color4);
}

/* alt recolor the accent elements of an icon */
.jp-icon-alt .jp-icon-accent0[fill] {
  fill: var(--jp-inverse-layout-color0);
}
.jp-icon-alt .jp-icon-accent1[fill] {
  fill: var(--jp-inverse-layout-color1);
}
.jp-icon-alt .jp-icon-accent2[fill] {
  fill: var(--jp-inverse-layout-color2);
}
.jp-icon-alt .jp-icon-accent3[fill] {
  fill: var(--jp-inverse-layout-color3);
}
.jp-icon-alt .jp-icon-accent4[fill] {
  fill: var(--jp-inverse-layout-color4);
}

.jp-icon-alt .jp-icon-accent0[stroke] {
  stroke: var(--jp-inverse-layout-color0);
}
.jp-icon-alt .jp-icon-accent1[stroke] {
  stroke: var(--jp-inverse-layout-color1);
}
.jp-icon-alt .jp-icon-accent2[stroke] {
  stroke: var(--jp-inverse-layout-color2);
}
.jp-icon-alt .jp-icon-accent3[stroke] {
  stroke: var(--jp-inverse-layout-color3);
}
.jp-icon-alt .jp-icon-accent4[stroke] {
  stroke: var(--jp-inverse-layout-color4);
}

/*-----------------------------------------------------------------------------
| Copyright (c) Jupyter Development Team.
| Distributed under the terms of the Modified BSD License.
|----------------------------------------------------------------------------*/

.jp-icon-hoverShow:not(:hover) svg {
  display: none !important;
}

/**
 * Support for hover colors for icons as inline SVG HTMLElements
 */

/**
 * regular colors
 */

/* recolor the primary elements of an icon */
.jp-icon-hover :hover .jp-icon0-hover[fill] {
  fill: var(--jp-inverse-layout-color0);
}
.jp-icon-hover :hover .jp-icon1-hover[fill] {
  fill: var(--jp-inverse-layout-color1);
}
.jp-icon-hover :hover .jp-icon2-hover[fill] {
  fill: var(--jp-inverse-layout-color2);
}
.jp-icon-hover :hover .jp-icon3-hover[fill] {
  fill: var(--jp-inverse-layout-color3);
}
.jp-icon-hover :hover .jp-icon4-hover[fill] {
  fill: var(--jp-inverse-layout-color4);
}

.jp-icon-hover :hover .jp-icon0-hover[stroke] {
  stroke: var(--jp-inverse-layout-color0);
}
.jp-icon-hover :hover .jp-icon1-hover[stroke] {
  stroke: var(--jp-inverse-layout-color1);
}
.jp-icon-hover :hover .jp-icon2-hover[stroke] {
  stroke: var(--jp-inverse-layout-color2);
}
.jp-icon-hover :hover .jp-icon3-hover[stroke] {
  stroke: var(--jp-inverse-layout-color3);
}
.jp-icon-hover :hover .jp-icon4-hover[stroke] {
  stroke: var(--jp-inverse-layout-color4);
}

/* recolor the accent elements of an icon */
.jp-icon-hover :hover .jp-icon-accent0-hover[fill] {
  fill: var(--jp-layout-color0);
}
.jp-icon-hover :hover .jp-icon-accent1-hover[fill] {
  fill: var(--jp-layout-color1);
}
.jp-icon-hover :hover .jp-icon-accent2-hover[fill] {
  fill: var(--jp-layout-color2);
}
.jp-icon-hover :hover .jp-icon-accent3-hover[fill] {
  fill: var(--jp-layout-color3);
}
.jp-icon-hover :hover .jp-icon-accent4-hover[fill] {
  fill: var(--jp-layout-color4);
}

.jp-icon-hover :hover .jp-icon-accent0-hover[stroke] {
  stroke: var(--jp-layout-color0);
}
.jp-icon-hover :hover .jp-icon-accent1-hover[stroke] {
  stroke: var(--jp-layout-color1);
}
.jp-icon-hover :hover .jp-icon-accent2-hover[stroke] {
  stroke: var(--jp-layout-color2);
}
.jp-icon-hover :hover .jp-icon-accent3-hover[stroke] {
  stroke: var(--jp-layout-color3);
}
.jp-icon-hover :hover .jp-icon-accent4-hover[stroke] {
  stroke: var(--jp-layout-color4);
}

/* set the color of an icon to transparent */
.jp-icon-hover :hover .jp-icon-none-hover[fill] {
  fill: none;
}

.jp-icon-hover :hover .jp-icon-none-hover[stroke] {
  stroke: none;
}

/**
 * inverse colors
 */

/* inverse recolor the primary elements of an icon */
.jp-icon-hover.jp-icon-alt :hover .jp-icon0-hover[fill] {
  fill: var(--jp-layout-color0);
}
.jp-icon-hover.jp-icon-alt :hover .jp-icon1-hover[fill] {
  fill: var(--jp-layout-color1);
}
.jp-icon-hover.jp-icon-alt :hover .jp-icon2-hover[fill] {
  fill: var(--jp-layout-color2);
}
.jp-icon-hover.jp-icon-alt :hover .jp-icon3-hover[fill] {
  fill: var(--jp-layout-color3);
}
.jp-icon-hover.jp-icon-alt :hover .jp-icon4-hover[fill] {
  fill: var(--jp-layout-color4);
}

.jp-icon-hover.jp-icon-alt :hover .jp-icon0-hover[stroke] {
  stroke: var(--jp-layout-color0);
}
.jp-icon-hover.jp-icon-alt :hover .jp-icon1-hover[stroke] {
  stroke: var(--jp-layout-color1);
}
.jp-icon-hover.jp-icon-alt :hover .jp-icon2-hover[stroke] {
  stroke: var(--jp-layout-color2);
}
.jp-icon-hover.jp-icon-alt :hover .jp-icon3-hover[stroke] {
  stroke: var(--jp-layout-color3);
}
.jp-icon-hover.jp-icon-alt :hover .jp-icon4-hover[stroke] {
  stroke: var(--jp-layout-color4);
}

/* inverse recolor the accent elements of an icon */
.jp-icon-hover.jp-icon-alt :hover .jp-icon-accent0-hover[fill] {
  fill: var(--jp-inverse-layout-color0);
}
.jp-icon-hover.jp-icon-alt :hover .jp-icon-accent1-hover[fill] {
  fill: var(--jp-inverse-layout-color1);
}
.jp-icon-hover.jp-icon-alt :hover .jp-icon-accent2-hover[fill] {
  fill: var(--jp-inverse-layout-color2);
}
.jp-icon-hover.jp-icon-alt :hover .jp-icon-accent3-hover[fill] {
  fill: var(--jp-inverse-layout-color3);
}
.jp-icon-hover.jp-icon-alt :hover .jp-icon-accent4-hover[fill] {
  fill: var(--jp-inverse-layout-color4);
}

.jp-icon-hover.jp-icon-alt :hover .jp-icon-accent0-hover[stroke] {
  stroke: var(--jp-inverse-layout-color0);
}
.jp-icon-hover.jp-icon-alt :hover .jp-icon-accent1-hover[stroke] {
  stroke: var(--jp-inverse-layout-color1);
}
.jp-icon-hover.jp-icon-alt :hover .jp-icon-accent2-hover[stroke] {
  stroke: var(--jp-inverse-layout-color2);
}
.jp-icon-hover.jp-icon-alt :hover .jp-icon-accent3-hover[stroke] {
  stroke: var(--jp-inverse-layout-color3);
}
.jp-icon-hover.jp-icon-alt :hover .jp-icon-accent4-hover[stroke] {
  stroke: var(--jp-inverse-layout-color4);
}

/*-----------------------------------------------------------------------------
| Copyright (c) Jupyter Development Team.
| Distributed under the terms of the Modified BSD License.
|----------------------------------------------------------------------------*/

.jp-switch {
  display: flex;
  align-items: center;
  padding-left: 4px;
  padding-right: 4px;
  font-size: var(--jp-ui-font-size1);
  background-color: transparent;
  color: var(--jp-ui-font-color1);
  border: none;
  height: 20px;
}

.jp-switch:hover {
  background-color: var(--jp-layout-color2);
}

.jp-switch-label {
  margin-right: 5px;
}

.jp-switch-track {
  cursor: pointer;
  background-color: var(--jp-border-color1);
  -webkit-transition: 0.4s;
  transition: 0.4s;
  border-radius: 34px;
  height: 16px;
  width: 35px;
  position: relative;
}

.jp-switch-track::before {
  content: '';
  position: absolute;
  height: 10px;
  width: 10px;
  margin: 3px;
  left: 0px;
  background-color: var(--jp-ui-inverse-font-color1);
  -webkit-transition: 0.4s;
  transition: 0.4s;
  border-radius: 50%;
}

.jp-switch[aria-checked='true'] .jp-switch-track {
  background-color: var(--jp-warn-color0);
}

.jp-switch[aria-checked='true'] .jp-switch-track::before {
  /* track width (35) - margins (3 + 3) - thumb width (10) */
  left: 19px;
}

/*-----------------------------------------------------------------------------
| Copyright (c) Jupyter Development Team.
| Distributed under the terms of the Modified BSD License.
|----------------------------------------------------------------------------*/

/* Sibling imports */

/* Override Blueprint's _reset.scss styles */
html {
  box-sizing: unset;
}

*,
*::before,
*::after {
  box-sizing: unset;
}

body {
  color: unset;
  font-family: var(--jp-ui-font-family);
}

p {
  margin-top: unset;
  margin-bottom: unset;
}

small {
  font-size: unset;
}

strong {
  font-weight: unset;
}

/* Override Blueprint's _typography.scss styles */
a {
  text-decoration: unset;
  color: unset;
}
a:hover {
  text-decoration: unset;
  color: unset;
}

/* Override Blueprint's _accessibility.scss styles */
:focus {
  outline: unset;
  outline-offset: unset;
  -moz-outline-radius: unset;
}

/* Styles for ui-components */
.jp-Button {
  border-radius: var(--jp-border-radius);
  padding: 0px 12px;
  font-size: var(--jp-ui-font-size1);
}

/* Use our own theme for hover styles */
button.jp-Button.bp3-button.bp3-minimal:hover {
  background-color: var(--jp-layout-color2);
}
.jp-Button.minimal {
  color: unset !important;
}

.jp-Button.jp-ToolbarButtonComponent {
  text-transform: none;
}

.jp-InputGroup input {
  box-sizing: border-box;
  border-radius: 0;
  background-color: transparent;
  color: var(--jp-ui-font-color0);
  box-shadow: inset 0 0 0 var(--jp-border-width) var(--jp-input-border-color);
}

.jp-InputGroup input:focus {
  box-shadow: inset 0 0 0 var(--jp-border-width)
      var(--jp-input-active-box-shadow-color),
    inset 0 0 0 3px var(--jp-input-active-box-shadow-color);
}

.jp-InputGroup input::placeholder,
input::placeholder {
  color: var(--jp-ui-font-color3);
}

.jp-BPIcon {
  display: inline-block;
  vertical-align: middle;
  margin: auto;
}

/* Stop blueprint futzing with our icon fills */
.bp3-icon.jp-BPIcon > svg:not([fill]) {
  fill: var(--jp-inverse-layout-color3);
}

.jp-InputGroupAction {
  padding: 6px;
}

.jp-HTMLSelect.jp-DefaultStyle select {
  background-color: initial;
  border: none;
  border-radius: 0;
  box-shadow: none;
  color: var(--jp-ui-font-color0);
  display: block;
  font-size: var(--jp-ui-font-size1);
  height: 24px;
  line-height: 14px;
  padding: 0 25px 0 10px;
  text-align: left;
  -moz-appearance: none;
  -webkit-appearance: none;
}

/* Use our own theme for hover and option styles */
.jp-HTMLSelect.jp-DefaultStyle select:hover,
.jp-HTMLSelect.jp-DefaultStyle select > option {
  background-color: var(--jp-layout-color2);
  color: var(--jp-ui-font-color0);
}
select {
  box-sizing: border-box;
}

/*-----------------------------------------------------------------------------
| Copyright (c) Jupyter Development Team.
| Distributed under the terms of the Modified BSD License.
|----------------------------------------------------------------------------*/

.jp-Collapse {
  display: flex;
  flex-direction: column;
  align-items: stretch;
  border-top: 1px solid var(--jp-border-color2);
  border-bottom: 1px solid var(--jp-border-color2);
}

.jp-Collapse-header {
  padding: 1px 12px;
  color: var(--jp-ui-font-color1);
  background-color: var(--jp-layout-color1);
  font-size: var(--jp-ui-font-size2);
}

.jp-Collapse-header:hover {
  background-color: var(--jp-layout-color2);
}

.jp-Collapse-contents {
  padding: 0px 12px 0px 12px;
  background-color: var(--jp-layout-color1);
  color: var(--jp-ui-font-color1);
  overflow: auto;
}

/*-----------------------------------------------------------------------------
| Copyright (c) Jupyter Development Team.
| Distributed under the terms of the Modified BSD License.
|----------------------------------------------------------------------------*/

/*-----------------------------------------------------------------------------
| Variables
|----------------------------------------------------------------------------*/

:root {
  --jp-private-commandpalette-search-height: 28px;
}

/*-----------------------------------------------------------------------------
| Overall styles
|----------------------------------------------------------------------------*/

.lm-CommandPalette {
  padding-bottom: 0px;
  color: var(--jp-ui-font-color1);
  background: var(--jp-layout-color1);
  /* This is needed so that all font sizing of children done in ems is
   * relative to this base size */
  font-size: var(--jp-ui-font-size1);
}

/*-----------------------------------------------------------------------------
| Modal variant
|----------------------------------------------------------------------------*/

.jp-ModalCommandPalette {
  position: absolute;
  z-index: 10000;
  top: 38px;
  left: 30%;
  margin: 0;
  padding: 4px;
  width: 40%;
  box-shadow: var(--jp-elevation-z4);
  border-radius: 4px;
  background: var(--jp-layout-color0);
}

.jp-ModalCommandPalette .lm-CommandPalette {
  max-height: 40vh;
}

.jp-ModalCommandPalette .lm-CommandPalette .lm-close-icon::after {
  display: none;
}

.jp-ModalCommandPalette .lm-CommandPalette .lm-CommandPalette-header {
  display: none;
}

.jp-ModalCommandPalette .lm-CommandPalette .lm-CommandPalette-item {
  margin-left: 4px;
  margin-right: 4px;
}

.jp-ModalCommandPalette
  .lm-CommandPalette
  .lm-CommandPalette-item.lm-mod-disabled {
  display: none;
}

/*-----------------------------------------------------------------------------
| Search
|----------------------------------------------------------------------------*/

.lm-CommandPalette-search {
  padding: 4px;
  background-color: var(--jp-layout-color1);
  z-index: 2;
}

.lm-CommandPalette-wrapper {
  overflow: overlay;
  padding: 0px 9px;
  background-color: var(--jp-input-active-background);
  height: 30px;
  box-shadow: inset 0 0 0 var(--jp-border-width) var(--jp-input-border-color);
}

.lm-CommandPalette.lm-mod-focused .lm-CommandPalette-wrapper {
  box-shadow: inset 0 0 0 1px var(--jp-input-active-box-shadow-color),
    inset 0 0 0 3px var(--jp-input-active-box-shadow-color);
}

.jp-SearchIconGroup {
  color: white;
  background-color: var(--jp-brand-color1);
  position: absolute;
  top: 4px;
  right: 4px;
  padding: 5px 5px 1px 5px;
}

.jp-SearchIconGroup svg {
  height: 20px;
  width: 20px;
}

.jp-SearchIconGroup .jp-icon3[fill] {
  fill: var(--jp-layout-color0);
}

.lm-CommandPalette-input {
  background: transparent;
  width: calc(100% - 18px);
  float: left;
  border: none;
  outline: none;
  font-size: var(--jp-ui-font-size1);
  color: var(--jp-ui-font-color0);
  line-height: var(--jp-private-commandpalette-search-height);
}

.lm-CommandPalette-input::-webkit-input-placeholder,
.lm-CommandPalette-input::-moz-placeholder,
.lm-CommandPalette-input:-ms-input-placeholder {
  color: var(--jp-ui-font-color2);
  font-size: var(--jp-ui-font-size1);
}

/*-----------------------------------------------------------------------------
| Results
|----------------------------------------------------------------------------*/

.lm-CommandPalette-header:first-child {
  margin-top: 0px;
}

.lm-CommandPalette-header {
  border-bottom: solid var(--jp-border-width) var(--jp-border-color2);
  color: var(--jp-ui-font-color1);
  cursor: pointer;
  display: flex;
  font-size: var(--jp-ui-font-size0);
  font-weight: 600;
  letter-spacing: 1px;
  margin-top: 8px;
  padding: 8px 0 8px 12px;
  text-transform: uppercase;
}

.lm-CommandPalette-header.lm-mod-active {
  background: var(--jp-layout-color2);
}

.lm-CommandPalette-header > mark {
  background-color: transparent;
  font-weight: bold;
  color: var(--jp-ui-font-color1);
}

.lm-CommandPalette-item {
  padding: 4px 12px 4px 4px;
  color: var(--jp-ui-font-color1);
  font-size: var(--jp-ui-font-size1);
  font-weight: 400;
  display: flex;
}

.lm-CommandPalette-item.lm-mod-disabled {
  color: var(--jp-ui-font-color2);
}

.lm-CommandPalette-item.lm-mod-active {
  color: var(--jp-ui-inverse-font-color1);
  background: var(--jp-brand-color1);
}

.lm-CommandPalette-item.lm-mod-active .lm-CommandPalette-itemLabel > mark {
  color: var(--jp-ui-inverse-font-color0);
}

.lm-CommandPalette-item.lm-mod-active .jp-icon-selectable[fill] {
  fill: var(--jp-layout-color0);
}

.lm-CommandPalette-item.lm-mod-active .lm-CommandPalette-itemLabel > mark {
  color: var(--jp-ui-inverse-font-color0);
}

.lm-CommandPalette-item.lm-mod-active:hover:not(.lm-mod-disabled) {
  color: var(--jp-ui-inverse-font-color1);
  background: var(--jp-brand-color1);
}

.lm-CommandPalette-item:hover:not(.lm-mod-active):not(.lm-mod-disabled) {
  background: var(--jp-layout-color2);
}

.lm-CommandPalette-itemContent {
  overflow: hidden;
}

.lm-CommandPalette-itemLabel > mark {
  color: var(--jp-ui-font-color0);
  background-color: transparent;
  font-weight: bold;
}

.lm-CommandPalette-item.lm-mod-disabled mark {
  color: var(--jp-ui-font-color2);
}

.lm-CommandPalette-item .lm-CommandPalette-itemIcon {
  margin: 0 4px 0 0;
  position: relative;
  width: 16px;
  top: 2px;
  flex: 0 0 auto;
}

.lm-CommandPalette-item.lm-mod-disabled .lm-CommandPalette-itemIcon {
  opacity: 0.6;
}

.lm-CommandPalette-item .lm-CommandPalette-itemShortcut {
  flex: 0 0 auto;
}

.lm-CommandPalette-itemCaption {
  display: none;
}

.lm-CommandPalette-content {
  background-color: var(--jp-layout-color1);
}

.lm-CommandPalette-content:empty:after {
  content: 'No results';
  margin: auto;
  margin-top: 20px;
  width: 100px;
  display: block;
  font-size: var(--jp-ui-font-size2);
  font-family: var(--jp-ui-font-family);
  font-weight: lighter;
}

.lm-CommandPalette-emptyMessage {
  text-align: center;
  margin-top: 24px;
  line-height: 1.32;
  padding: 0px 8px;
  color: var(--jp-content-font-color3);
}

/*-----------------------------------------------------------------------------
| Copyright (c) 2014-2017, Jupyter Development Team.
|
| Distributed under the terms of the Modified BSD License.
|----------------------------------------------------------------------------*/

.jp-Dialog {
  position: absolute;
  z-index: 10000;
  display: flex;
  flex-direction: column;
  align-items: center;
  justify-content: center;
  top: 0px;
  left: 0px;
  margin: 0;
  padding: 0;
  width: 100%;
  height: 100%;
  background: var(--jp-dialog-background);
}

.jp-Dialog-content {
  display: flex;
  flex-direction: column;
  margin-left: auto;
  margin-right: auto;
  background: var(--jp-layout-color1);
  padding: 24px;
  padding-bottom: 12px;
  min-width: 300px;
  min-height: 150px;
  max-width: 1000px;
  max-height: 500px;
  box-sizing: border-box;
  box-shadow: var(--jp-elevation-z20);
  word-wrap: break-word;
  border-radius: var(--jp-border-radius);
  /* This is needed so that all font sizing of children done in ems is
   * relative to this base size */
  font-size: var(--jp-ui-font-size1);
  color: var(--jp-ui-font-color1);
  resize: both;
}

.jp-Dialog-button {
  overflow: visible;
}

button.jp-Dialog-button:focus {
  outline: 1px solid var(--jp-brand-color1);
  outline-offset: 4px;
  -moz-outline-radius: 0px;
}

button.jp-Dialog-button:focus::-moz-focus-inner {
  border: 0;
}

button.jp-Dialog-close-button {
  padding: 0;
  height: 100%;
  min-width: unset;
  min-height: unset;
}

.jp-Dialog-header {
  display: flex;
  justify-content: space-between;
  flex: 0 0 auto;
  padding-bottom: 12px;
  font-size: var(--jp-ui-font-size3);
  font-weight: 400;
  color: var(--jp-ui-font-color0);
}

.jp-Dialog-body {
  display: flex;
  flex-direction: column;
  flex: 1 1 auto;
  font-size: var(--jp-ui-font-size1);
  background: var(--jp-layout-color1);
  overflow: auto;
}

.jp-Dialog-footer {
  display: flex;
  flex-direction: row;
  justify-content: flex-end;
  flex: 0 0 auto;
  margin-left: -12px;
  margin-right: -12px;
  padding: 12px;
}

.jp-Dialog-title {
  overflow: hidden;
  white-space: nowrap;
  text-overflow: ellipsis;
}

.jp-Dialog-body > .jp-select-wrapper {
  width: 100%;
}

.jp-Dialog-body > button {
  padding: 0px 16px;
}

.jp-Dialog-body > label {
  line-height: 1.4;
  color: var(--jp-ui-font-color0);
}

.jp-Dialog-button.jp-mod-styled:not(:last-child) {
  margin-right: 12px;
}

/*-----------------------------------------------------------------------------
| Copyright (c) 2014-2016, Jupyter Development Team.
|
| Distributed under the terms of the Modified BSD License.
|----------------------------------------------------------------------------*/

.jp-HoverBox {
  position: fixed;
}

.jp-HoverBox.jp-mod-outofview {
  display: none;
}

/*-----------------------------------------------------------------------------
| Copyright (c) Jupyter Development Team.
| Distributed under the terms of the Modified BSD License.
|----------------------------------------------------------------------------*/

.jp-IFrame {
  width: 100%;
  height: 100%;
}

.jp-IFrame > iframe {
  border: none;
}

/*
When drag events occur, `p-mod-override-cursor` is added to the body.
Because iframes steal all cursor events, the following two rules are necessary
to suppress pointer events while resize drags are occurring. There may be a
better solution to this problem.
*/
body.lm-mod-override-cursor .jp-IFrame {
  position: relative;
}

body.lm-mod-override-cursor .jp-IFrame:before {
  content: '';
  position: absolute;
  top: 0;
  left: 0;
  right: 0;
  bottom: 0;
  background: transparent;
}

.jp-Input-Boolean-Dialog {
  flex-direction: row-reverse;
  align-items: end;
  width: 100%;
}

.jp-Input-Boolean-Dialog > label {
  flex: 1 1 auto;
}

/*-----------------------------------------------------------------------------
| Copyright (c) 2014-2016, Jupyter Development Team.
|
| Distributed under the terms of the Modified BSD License.
|----------------------------------------------------------------------------*/

.jp-MainAreaWidget > :focus {
  outline: none;
}

/**
 * google-material-color v1.2.6
 * https://github.com/danlevan/google-material-color
 */
:root {
  --md-red-50: #ffebee;
  --md-red-100: #ffcdd2;
  --md-red-200: #ef9a9a;
  --md-red-300: #e57373;
  --md-red-400: #ef5350;
  --md-red-500: #f44336;
  --md-red-600: #e53935;
  --md-red-700: #d32f2f;
  --md-red-800: #c62828;
  --md-red-900: #b71c1c;
  --md-red-A100: #ff8a80;
  --md-red-A200: #ff5252;
  --md-red-A400: #ff1744;
  --md-red-A700: #d50000;

  --md-pink-50: #fce4ec;
  --md-pink-100: #f8bbd0;
  --md-pink-200: #f48fb1;
  --md-pink-300: #f06292;
  --md-pink-400: #ec407a;
  --md-pink-500: #e91e63;
  --md-pink-600: #d81b60;
  --md-pink-700: #c2185b;
  --md-pink-800: #ad1457;
  --md-pink-900: #880e4f;
  --md-pink-A100: #ff80ab;
  --md-pink-A200: #ff4081;
  --md-pink-A400: #f50057;
  --md-pink-A700: #c51162;

  --md-purple-50: #f3e5f5;
  --md-purple-100: #e1bee7;
  --md-purple-200: #ce93d8;
  --md-purple-300: #ba68c8;
  --md-purple-400: #ab47bc;
  --md-purple-500: #9c27b0;
  --md-purple-600: #8e24aa;
  --md-purple-700: #7b1fa2;
  --md-purple-800: #6a1b9a;
  --md-purple-900: #4a148c;
  --md-purple-A100: #ea80fc;
  --md-purple-A200: #e040fb;
  --md-purple-A400: #d500f9;
  --md-purple-A700: #aa00ff;

  --md-deep-purple-50: #ede7f6;
  --md-deep-purple-100: #d1c4e9;
  --md-deep-purple-200: #b39ddb;
  --md-deep-purple-300: #9575cd;
  --md-deep-purple-400: #7e57c2;
  --md-deep-purple-500: #673ab7;
  --md-deep-purple-600: #5e35b1;
  --md-deep-purple-700: #512da8;
  --md-deep-purple-800: #4527a0;
  --md-deep-purple-900: #311b92;
  --md-deep-purple-A100: #b388ff;
  --md-deep-purple-A200: #7c4dff;
  --md-deep-purple-A400: #651fff;
  --md-deep-purple-A700: #6200ea;

  --md-indigo-50: #e8eaf6;
  --md-indigo-100: #c5cae9;
  --md-indigo-200: #9fa8da;
  --md-indigo-300: #7986cb;
  --md-indigo-400: #5c6bc0;
  --md-indigo-500: #3f51b5;
  --md-indigo-600: #3949ab;
  --md-indigo-700: #303f9f;
  --md-indigo-800: #283593;
  --md-indigo-900: #1a237e;
  --md-indigo-A100: #8c9eff;
  --md-indigo-A200: #536dfe;
  --md-indigo-A400: #3d5afe;
  --md-indigo-A700: #304ffe;

  --md-blue-50: #e3f2fd;
  --md-blue-100: #bbdefb;
  --md-blue-200: #90caf9;
  --md-blue-300: #64b5f6;
  --md-blue-400: #42a5f5;
  --md-blue-500: #2196f3;
  --md-blue-600: #1e88e5;
  --md-blue-700: #1976d2;
  --md-blue-800: #1565c0;
  --md-blue-900: #0d47a1;
  --md-blue-A100: #82b1ff;
  --md-blue-A200: #448aff;
  --md-blue-A400: #2979ff;
  --md-blue-A700: #2962ff;

  --md-light-blue-50: #e1f5fe;
  --md-light-blue-100: #b3e5fc;
  --md-light-blue-200: #81d4fa;
  --md-light-blue-300: #4fc3f7;
  --md-light-blue-400: #29b6f6;
  --md-light-blue-500: #03a9f4;
  --md-light-blue-600: #039be5;
  --md-light-blue-700: #0288d1;
  --md-light-blue-800: #0277bd;
  --md-light-blue-900: #01579b;
  --md-light-blue-A100: #80d8ff;
  --md-light-blue-A200: #40c4ff;
  --md-light-blue-A400: #00b0ff;
  --md-light-blue-A700: #0091ea;

  --md-cyan-50: #e0f7fa;
  --md-cyan-100: #b2ebf2;
  --md-cyan-200: #80deea;
  --md-cyan-300: #4dd0e1;
  --md-cyan-400: #26c6da;
  --md-cyan-500: #00bcd4;
  --md-cyan-600: #00acc1;
  --md-cyan-700: #0097a7;
  --md-cyan-800: #00838f;
  --md-cyan-900: #006064;
  --md-cyan-A100: #84ffff;
  --md-cyan-A200: #18ffff;
  --md-cyan-A400: #00e5ff;
  --md-cyan-A700: #00b8d4;

  --md-teal-50: #e0f2f1;
  --md-teal-100: #b2dfdb;
  --md-teal-200: #80cbc4;
  --md-teal-300: #4db6ac;
  --md-teal-400: #26a69a;
  --md-teal-500: #009688;
  --md-teal-600: #00897b;
  --md-teal-700: #00796b;
  --md-teal-800: #00695c;
  --md-teal-900: #004d40;
  --md-teal-A100: #a7ffeb;
  --md-teal-A200: #64ffda;
  --md-teal-A400: #1de9b6;
  --md-teal-A700: #00bfa5;

  --md-green-50: #e8f5e9;
  --md-green-100: #c8e6c9;
  --md-green-200: #a5d6a7;
  --md-green-300: #81c784;
  --md-green-400: #66bb6a;
  --md-green-500: #4caf50;
  --md-green-600: #43a047;
  --md-green-700: #388e3c;
  --md-green-800: #2e7d32;
  --md-green-900: #1b5e20;
  --md-green-A100: #b9f6ca;
  --md-green-A200: #69f0ae;
  --md-green-A400: #00e676;
  --md-green-A700: #00c853;

  --md-light-green-50: #f1f8e9;
  --md-light-green-100: #dcedc8;
  --md-light-green-200: #c5e1a5;
  --md-light-green-300: #aed581;
  --md-light-green-400: #9ccc65;
  --md-light-green-500: #8bc34a;
  --md-light-green-600: #7cb342;
  --md-light-green-700: #689f38;
  --md-light-green-800: #558b2f;
  --md-light-green-900: #33691e;
  --md-light-green-A100: #ccff90;
  --md-light-green-A200: #b2ff59;
  --md-light-green-A400: #76ff03;
  --md-light-green-A700: #64dd17;

  --md-lime-50: #f9fbe7;
  --md-lime-100: #f0f4c3;
  --md-lime-200: #e6ee9c;
  --md-lime-300: #dce775;
  --md-lime-400: #d4e157;
  --md-lime-500: #cddc39;
  --md-lime-600: #c0ca33;
  --md-lime-700: #afb42b;
  --md-lime-800: #9e9d24;
  --md-lime-900: #827717;
  --md-lime-A100: #f4ff81;
  --md-lime-A200: #eeff41;
  --md-lime-A400: #c6ff00;
  --md-lime-A700: #aeea00;

  --md-yellow-50: #fffde7;
  --md-yellow-100: #fff9c4;
  --md-yellow-200: #fff59d;
  --md-yellow-300: #fff176;
  --md-yellow-400: #ffee58;
  --md-yellow-500: #ffeb3b;
  --md-yellow-600: #fdd835;
  --md-yellow-700: #fbc02d;
  --md-yellow-800: #f9a825;
  --md-yellow-900: #f57f17;
  --md-yellow-A100: #ffff8d;
  --md-yellow-A200: #ffff00;
  --md-yellow-A400: #ffea00;
  --md-yellow-A700: #ffd600;

  --md-amber-50: #fff8e1;
  --md-amber-100: #ffecb3;
  --md-amber-200: #ffe082;
  --md-amber-300: #ffd54f;
  --md-amber-400: #ffca28;
  --md-amber-500: #ffc107;
  --md-amber-600: #ffb300;
  --md-amber-700: #ffa000;
  --md-amber-800: #ff8f00;
  --md-amber-900: #ff6f00;
  --md-amber-A100: #ffe57f;
  --md-amber-A200: #ffd740;
  --md-amber-A400: #ffc400;
  --md-amber-A700: #ffab00;

  --md-orange-50: #fff3e0;
  --md-orange-100: #ffe0b2;
  --md-orange-200: #ffcc80;
  --md-orange-300: #ffb74d;
  --md-orange-400: #ffa726;
  --md-orange-500: #ff9800;
  --md-orange-600: #fb8c00;
  --md-orange-700: #f57c00;
  --md-orange-800: #ef6c00;
  --md-orange-900: #e65100;
  --md-orange-A100: #ffd180;
  --md-orange-A200: #ffab40;
  --md-orange-A400: #ff9100;
  --md-orange-A700: #ff6d00;

  --md-deep-orange-50: #fbe9e7;
  --md-deep-orange-100: #ffccbc;
  --md-deep-orange-200: #ffab91;
  --md-deep-orange-300: #ff8a65;
  --md-deep-orange-400: #ff7043;
  --md-deep-orange-500: #ff5722;
  --md-deep-orange-600: #f4511e;
  --md-deep-orange-700: #e64a19;
  --md-deep-orange-800: #d84315;
  --md-deep-orange-900: #bf360c;
  --md-deep-orange-A100: #ff9e80;
  --md-deep-orange-A200: #ff6e40;
  --md-deep-orange-A400: #ff3d00;
  --md-deep-orange-A700: #dd2c00;

  --md-brown-50: #efebe9;
  --md-brown-100: #d7ccc8;
  --md-brown-200: #bcaaa4;
  --md-brown-300: #a1887f;
  --md-brown-400: #8d6e63;
  --md-brown-500: #795548;
  --md-brown-600: #6d4c41;
  --md-brown-700: #5d4037;
  --md-brown-800: #4e342e;
  --md-brown-900: #3e2723;

  --md-grey-50: #fafafa;
  --md-grey-100: #f5f5f5;
  --md-grey-200: #eeeeee;
  --md-grey-300: #e0e0e0;
  --md-grey-400: #bdbdbd;
  --md-grey-500: #9e9e9e;
  --md-grey-600: #757575;
  --md-grey-700: #616161;
  --md-grey-800: #424242;
  --md-grey-900: #212121;

  --md-blue-grey-50: #eceff1;
  --md-blue-grey-100: #cfd8dc;
  --md-blue-grey-200: #b0bec5;
  --md-blue-grey-300: #90a4ae;
  --md-blue-grey-400: #78909c;
  --md-blue-grey-500: #607d8b;
  --md-blue-grey-600: #546e7a;
  --md-blue-grey-700: #455a64;
  --md-blue-grey-800: #37474f;
  --md-blue-grey-900: #263238;
}

/*-----------------------------------------------------------------------------
| Copyright (c) 2017, Jupyter Development Team.
|
| Distributed under the terms of the Modified BSD License.
|----------------------------------------------------------------------------*/

.jp-Spinner {
  position: absolute;
  display: flex;
  justify-content: center;
  align-items: center;
  z-index: 10;
  left: 0;
  top: 0;
  width: 100%;
  height: 100%;
  background: var(--jp-layout-color0);
  outline: none;
}

.jp-SpinnerContent {
  font-size: 10px;
  margin: 50px auto;
  text-indent: -9999em;
  width: 3em;
  height: 3em;
  border-radius: 50%;
  background: var(--jp-brand-color3);
  background: linear-gradient(
    to right,
    #f37626 10%,
    rgba(255, 255, 255, 0) 42%
  );
  position: relative;
  animation: load3 1s infinite linear, fadeIn 1s;
}

.jp-SpinnerContent:before {
  width: 50%;
  height: 50%;
  background: #f37626;
  border-radius: 100% 0 0 0;
  position: absolute;
  top: 0;
  left: 0;
  content: '';
}

.jp-SpinnerContent:after {
  background: var(--jp-layout-color0);
  width: 75%;
  height: 75%;
  border-radius: 50%;
  content: '';
  margin: auto;
  position: absolute;
  top: 0;
  left: 0;
  bottom: 0;
  right: 0;
}

@keyframes fadeIn {
  0% {
    opacity: 0;
  }
  100% {
    opacity: 1;
  }
}

@keyframes load3 {
  0% {
    transform: rotate(0deg);
  }
  100% {
    transform: rotate(360deg);
  }
}

/*-----------------------------------------------------------------------------
| Copyright (c) 2014-2017, Jupyter Development Team.
|
| Distributed under the terms of the Modified BSD License.
|----------------------------------------------------------------------------*/

button.jp-mod-styled {
  font-size: var(--jp-ui-font-size1);
  color: var(--jp-ui-font-color0);
  border: none;
  box-sizing: border-box;
  text-align: center;
  line-height: 32px;
  height: 32px;
  padding: 0px 12px;
  letter-spacing: 0.8px;
  outline: none;
  appearance: none;
  -webkit-appearance: none;
  -moz-appearance: none;
}

input.jp-mod-styled {
  background: var(--jp-input-background);
  height: 28px;
  box-sizing: border-box;
  border: var(--jp-border-width) solid var(--jp-border-color1);
  padding-left: 7px;
  padding-right: 7px;
  font-size: var(--jp-ui-font-size2);
  color: var(--jp-ui-font-color0);
  outline: none;
  appearance: none;
  -webkit-appearance: none;
  -moz-appearance: none;
}

input[type='checkbox'].jp-mod-styled {
  appearance: checkbox;
  -webkit-appearance: checkbox;
  -moz-appearance: checkbox;
  height: auto;
}

input.jp-mod-styled:focus {
  border: var(--jp-border-width) solid var(--md-blue-500);
  box-shadow: inset 0 0 4px var(--md-blue-300);
}

.jp-FileDialog-Checkbox {
  margin-top: 35px;
  display: flex;
  flex-direction: row;
  align-items: end;
  width: 100%;
}

.jp-FileDialog-Checkbox > label {
  flex: 1 1 auto;
}

.jp-select-wrapper {
  display: flex;
  position: relative;
  flex-direction: column;
  padding: 1px;
  background-color: var(--jp-layout-color1);
  height: 28px;
  box-sizing: border-box;
  margin-bottom: 12px;
}

.jp-select-wrapper.jp-mod-focused select.jp-mod-styled {
  border: var(--jp-border-width) solid var(--jp-input-active-border-color);
  box-shadow: var(--jp-input-box-shadow);
  background-color: var(--jp-input-active-background);
}

select.jp-mod-styled:hover {
  background-color: var(--jp-layout-color1);
  cursor: pointer;
  color: var(--jp-ui-font-color0);
  background-color: var(--jp-input-hover-background);
  box-shadow: inset 0 0px 1px rgba(0, 0, 0, 0.5);
}

select.jp-mod-styled {
  flex: 1 1 auto;
  height: 32px;
  width: 100%;
  font-size: var(--jp-ui-font-size2);
  background: var(--jp-input-background);
  color: var(--jp-ui-font-color0);
  padding: 0 25px 0 8px;
  border: var(--jp-border-width) solid var(--jp-input-border-color);
  border-radius: 0px;
  outline: none;
  appearance: none;
  -webkit-appearance: none;
  -moz-appearance: none;
}

/*-----------------------------------------------------------------------------
| Copyright (c) 2014-2016, Jupyter Development Team.
|
| Distributed under the terms of the Modified BSD License.
|----------------------------------------------------------------------------*/

:root {
  --jp-private-toolbar-height: calc(
    28px + var(--jp-border-width)
  ); /* leave 28px for content */
}

.jp-Toolbar {
  color: var(--jp-ui-font-color1);
  flex: 0 0 auto;
  display: flex;
  flex-direction: row;
  border-bottom: var(--jp-border-width) solid var(--jp-toolbar-border-color);
  box-shadow: var(--jp-toolbar-box-shadow);
  background: var(--jp-toolbar-background);
  min-height: var(--jp-toolbar-micro-height);
  padding: 2px;
  z-index: 1;
  overflow-x: auto;
}

/* Toolbar items */

.jp-Toolbar > .jp-Toolbar-item.jp-Toolbar-spacer {
  flex-grow: 1;
  flex-shrink: 1;
}

.jp-Toolbar-item.jp-Toolbar-kernelStatus {
  display: inline-block;
  width: 32px;
  background-repeat: no-repeat;
  background-position: center;
  background-size: 16px;
}

.jp-Toolbar > .jp-Toolbar-item {
  flex: 0 0 auto;
  display: flex;
  padding-left: 1px;
  padding-right: 1px;
  font-size: var(--jp-ui-font-size1);
  line-height: var(--jp-private-toolbar-height);
  height: 100%;
}

/* Toolbar buttons */

/* This is the div we use to wrap the react component into a Widget */
div.jp-ToolbarButton {
  color: transparent;
  border: none;
  box-sizing: border-box;
  outline: none;
  appearance: none;
  -webkit-appearance: none;
  -moz-appearance: none;
  padding: 0px;
  margin: 0px;
}

button.jp-ToolbarButtonComponent {
  background: var(--jp-layout-color1);
  border: none;
  box-sizing: border-box;
  outline: none;
  appearance: none;
  -webkit-appearance: none;
  -moz-appearance: none;
  padding: 0px 6px;
  margin: 0px;
  height: 24px;
  border-radius: var(--jp-border-radius);
  display: flex;
  align-items: center;
  text-align: center;
  font-size: 14px;
  min-width: unset;
  min-height: unset;
}

button.jp-ToolbarButtonComponent:disabled {
  opacity: 0.4;
}

button.jp-ToolbarButtonComponent span {
  padding: 0px;
  flex: 0 0 auto;
}

button.jp-ToolbarButtonComponent .jp-ToolbarButtonComponent-label {
  font-size: var(--jp-ui-font-size1);
  line-height: 100%;
  padding-left: 2px;
  color: var(--jp-ui-font-color1);
}

#jp-main-dock-panel[data-mode='single-document']
  .jp-MainAreaWidget
  > .jp-Toolbar.jp-Toolbar-micro {
  padding: 0;
  min-height: 0;
}

#jp-main-dock-panel[data-mode='single-document']
  .jp-MainAreaWidget
  > .jp-Toolbar {
  border: none;
  box-shadow: none;
}

/*-----------------------------------------------------------------------------
| Copyright (c) 2014-2017, Jupyter Development Team.
|
| Distributed under the terms of the Modified BSD License.
|----------------------------------------------------------------------------*/

/*-----------------------------------------------------------------------------
| Copyright (c) Jupyter Development Team.
| Copyright (c) 2014-2017, PhosphorJS Contributors
|
| Distributed under the terms of the BSD 3-Clause License.
|
| The full license is in the file LICENSE, distributed with this software.
|----------------------------------------------------------------------------*/


/* <DEPRECATED> */ body.p-mod-override-cursor *, /* </DEPRECATED> */
body.lm-mod-override-cursor * {
  cursor: inherit !important;
}

/*-----------------------------------------------------------------------------
| Copyright (c) 2014-2016, Jupyter Development Team.
|
| Distributed under the terms of the Modified BSD License.
|----------------------------------------------------------------------------*/

.jp-JSONEditor {
  display: flex;
  flex-direction: column;
  width: 100%;
}

.jp-JSONEditor-host {
  flex: 1 1 auto;
  border: var(--jp-border-width) solid var(--jp-input-border-color);
  border-radius: 0px;
  background: var(--jp-layout-color0);
  min-height: 50px;
  padding: 1px;
}

.jp-JSONEditor.jp-mod-error .jp-JSONEditor-host {
  border-color: red;
  outline-color: red;
}

.jp-JSONEditor-header {
  display: flex;
  flex: 1 0 auto;
  padding: 0 0 0 12px;
}

.jp-JSONEditor-header label {
  flex: 0 0 auto;
}

.jp-JSONEditor-commitButton {
  height: 16px;
  width: 16px;
  background-size: 18px;
  background-repeat: no-repeat;
  background-position: center;
}

.jp-JSONEditor-host.jp-mod-focused {
  background-color: var(--jp-input-active-background);
  border: 1px solid var(--jp-input-active-border-color);
  box-shadow: var(--jp-input-box-shadow);
}

.jp-Editor.jp-mod-dropTarget {
  border: var(--jp-border-width) solid var(--jp-input-active-border-color);
  box-shadow: var(--jp-input-box-shadow);
}

/* BASICS */

.CodeMirror {
  /* Set height, width, borders, and global font properties here */
  font-family: monospace;
  height: 300px;
  color: black;
  direction: ltr;
}

/* PADDING */

.CodeMirror-lines {
  padding: 4px 0; /* Vertical padding around content */
}
.CodeMirror pre.CodeMirror-line,
.CodeMirror pre.CodeMirror-line-like {
  padding: 0 4px; /* Horizontal padding of content */
}

.CodeMirror-scrollbar-filler, .CodeMirror-gutter-filler {
  background-color: white; /* The little square between H and V scrollbars */
}

/* GUTTER */

.CodeMirror-gutters {
  border-right: 1px solid #ddd;
  background-color: #f7f7f7;
  white-space: nowrap;
}
.CodeMirror-linenumbers {}
.CodeMirror-linenumber {
  padding: 0 3px 0 5px;
  min-width: 20px;
  text-align: right;
  color: #999;
  white-space: nowrap;
}

.CodeMirror-guttermarker { color: black; }
.CodeMirror-guttermarker-subtle { color: #999; }

/* CURSOR */

.CodeMirror-cursor {
  border-left: 1px solid black;
  border-right: none;
  width: 0;
}
/* Shown when moving in bi-directional text */
.CodeMirror div.CodeMirror-secondarycursor {
  border-left: 1px solid silver;
}
.cm-fat-cursor .CodeMirror-cursor {
  width: auto;
  border: 0 !important;
  background: #7e7;
}
.cm-fat-cursor div.CodeMirror-cursors {
  z-index: 1;
}
.cm-fat-cursor-mark {
  background-color: rgba(20, 255, 20, 0.5);
  -webkit-animation: blink 1.06s steps(1) infinite;
  -moz-animation: blink 1.06s steps(1) infinite;
  animation: blink 1.06s steps(1) infinite;
}
.cm-animate-fat-cursor {
  width: auto;
  border: 0;
  -webkit-animation: blink 1.06s steps(1) infinite;
  -moz-animation: blink 1.06s steps(1) infinite;
  animation: blink 1.06s steps(1) infinite;
  background-color: #7e7;
}
@-moz-keyframes blink {
  0% {}
  50% { background-color: transparent; }
  100% {}
}
@-webkit-keyframes blink {
  0% {}
  50% { background-color: transparent; }
  100% {}
}
@keyframes blink {
  0% {}
  50% { background-color: transparent; }
  100% {}
}

/* Can style cursor different in overwrite (non-insert) mode */
.CodeMirror-overwrite .CodeMirror-cursor {}

.cm-tab { display: inline-block; text-decoration: inherit; }

.CodeMirror-rulers {
  position: absolute;
  left: 0; right: 0; top: -50px; bottom: 0;
  overflow: hidden;
}
.CodeMirror-ruler {
  border-left: 1px solid #ccc;
  top: 0; bottom: 0;
  position: absolute;
}

/* DEFAULT THEME */

.cm-s-default .cm-header {color: blue;}
.cm-s-default .cm-quote {color: #090;}
.cm-negative {color: #d44;}
.cm-positive {color: #292;}
.cm-header, .cm-strong {font-weight: bold;}
.cm-em {font-style: italic;}
.cm-link {text-decoration: underline;}
.cm-strikethrough {text-decoration: line-through;}

.cm-s-default .cm-keyword {color: #708;}
.cm-s-default .cm-atom {color: #219;}
.cm-s-default .cm-number {color: #164;}
.cm-s-default .cm-def {color: #00f;}
.cm-s-default .cm-variable,
.cm-s-default .cm-punctuation,
.cm-s-default .cm-property,
.cm-s-default .cm-operator {}
.cm-s-default .cm-variable-2 {color: #05a;}
.cm-s-default .cm-variable-3, .cm-s-default .cm-type {color: #085;}
.cm-s-default .cm-comment {color: #a50;}
.cm-s-default .cm-string {color: #a11;}
.cm-s-default .cm-string-2 {color: #f50;}
.cm-s-default .cm-meta {color: #555;}
.cm-s-default .cm-qualifier {color: #555;}
.cm-s-default .cm-builtin {color: #30a;}
.cm-s-default .cm-bracket {color: #997;}
.cm-s-default .cm-tag {color: #170;}
.cm-s-default .cm-attribute {color: #00c;}
.cm-s-default .cm-hr {color: #999;}
.cm-s-default .cm-link {color: #00c;}

.cm-s-default .cm-error {color: #f00;}
.cm-invalidchar {color: #f00;}

.CodeMirror-composing { border-bottom: 2px solid; }

/* Default styles for common addons */

div.CodeMirror span.CodeMirror-matchingbracket {color: #0b0;}
div.CodeMirror span.CodeMirror-nonmatchingbracket {color: #a22;}
.CodeMirror-matchingtag { background: rgba(255, 150, 0, .3); }
.CodeMirror-activeline-background {background: #e8f2ff;}

/* STOP */

/* The rest of this file contains styles related to the mechanics of
   the editor. You probably shouldn't touch them. */

.CodeMirror {
  position: relative;
  overflow: hidden;
  background: white;
}

.CodeMirror-scroll {
  overflow: scroll !important; /* Things will break if this is overridden */
  /* 50px is the magic margin used to hide the element's real scrollbars */
  /* See overflow: hidden in .CodeMirror */
  margin-bottom: -50px; margin-right: -50px;
  padding-bottom: 50px;
  height: 100%;
  outline: none; /* Prevent dragging from highlighting the element */
  position: relative;
}
.CodeMirror-sizer {
  position: relative;
  border-right: 50px solid transparent;
}

/* The fake, visible scrollbars. Used to force redraw during scrolling
   before actual scrolling happens, thus preventing shaking and
   flickering artifacts. */
.CodeMirror-vscrollbar, .CodeMirror-hscrollbar, .CodeMirror-scrollbar-filler, .CodeMirror-gutter-filler {
  position: absolute;
  z-index: 6;
  display: none;
  outline: none;
}
.CodeMirror-vscrollbar {
  right: 0; top: 0;
  overflow-x: hidden;
  overflow-y: scroll;
}
.CodeMirror-hscrollbar {
  bottom: 0; left: 0;
  overflow-y: hidden;
  overflow-x: scroll;
}
.CodeMirror-scrollbar-filler {
  right: 0; bottom: 0;
}
.CodeMirror-gutter-filler {
  left: 0; bottom: 0;
}

.CodeMirror-gutters {
  position: absolute; left: 0; top: 0;
  min-height: 100%;
  z-index: 3;
}
.CodeMirror-gutter {
  white-space: normal;
  height: 100%;
  display: inline-block;
  vertical-align: top;
  margin-bottom: -50px;
}
.CodeMirror-gutter-wrapper {
  position: absolute;
  z-index: 4;
  background: none !important;
  border: none !important;
}
.CodeMirror-gutter-background {
  position: absolute;
  top: 0; bottom: 0;
  z-index: 4;
}
.CodeMirror-gutter-elt {
  position: absolute;
  cursor: default;
  z-index: 4;
}
.CodeMirror-gutter-wrapper ::selection { background-color: transparent }
.CodeMirror-gutter-wrapper ::-moz-selection { background-color: transparent }

.CodeMirror-lines {
  cursor: text;
  min-height: 1px; /* prevents collapsing before first draw */
}
.CodeMirror pre.CodeMirror-line,
.CodeMirror pre.CodeMirror-line-like {
  /* Reset some styles that the rest of the page might have set */
  -moz-border-radius: 0; -webkit-border-radius: 0; border-radius: 0;
  border-width: 0;
  background: transparent;
  font-family: inherit;
  font-size: inherit;
  margin: 0;
  white-space: pre;
  word-wrap: normal;
  line-height: inherit;
  color: inherit;
  z-index: 2;
  position: relative;
  overflow: visible;
  -webkit-tap-highlight-color: transparent;
  -webkit-font-variant-ligatures: contextual;
  font-variant-ligatures: contextual;
}
.CodeMirror-wrap pre.CodeMirror-line,
.CodeMirror-wrap pre.CodeMirror-line-like {
  word-wrap: break-word;
  white-space: pre-wrap;
  word-break: normal;
}

.CodeMirror-linebackground {
  position: absolute;
  left: 0; right: 0; top: 0; bottom: 0;
  z-index: 0;
}

.CodeMirror-linewidget {
  position: relative;
  z-index: 2;
  padding: 0.1px; /* Force widget margins to stay inside of the container */
}

.CodeMirror-widget {}

.CodeMirror-rtl pre { direction: rtl; }

.CodeMirror-code {
  outline: none;
}

/* Force content-box sizing for the elements where we expect it */
.CodeMirror-scroll,
.CodeMirror-sizer,
.CodeMirror-gutter,
.CodeMirror-gutters,
.CodeMirror-linenumber {
  -moz-box-sizing: content-box;
  box-sizing: content-box;
}

.CodeMirror-measure {
  position: absolute;
  width: 100%;
  height: 0;
  overflow: hidden;
  visibility: hidden;
}

.CodeMirror-cursor {
  position: absolute;
  pointer-events: none;
}
.CodeMirror-measure pre { position: static; }

div.CodeMirror-cursors {
  visibility: hidden;
  position: relative;
  z-index: 3;
}
div.CodeMirror-dragcursors {
  visibility: visible;
}

.CodeMirror-focused div.CodeMirror-cursors {
  visibility: visible;
}

.CodeMirror-selected { background: #d9d9d9; }
.CodeMirror-focused .CodeMirror-selected { background: #d7d4f0; }
.CodeMirror-crosshair { cursor: crosshair; }
.CodeMirror-line::selection, .CodeMirror-line > span::selection, .CodeMirror-line > span > span::selection { background: #d7d4f0; }
.CodeMirror-line::-moz-selection, .CodeMirror-line > span::-moz-selection, .CodeMirror-line > span > span::-moz-selection { background: #d7d4f0; }

.cm-searching {
  background-color: #ffa;
  background-color: rgba(255, 255, 0, .4);
}

/* Used to force a border model for a node */
.cm-force-border { padding-right: .1px; }

@media print {
  /* Hide the cursor when printing */
  .CodeMirror div.CodeMirror-cursors {
    visibility: hidden;
  }
}

/* See issue #2901 */
.cm-tab-wrap-hack:after { content: ''; }

/* Help users use markselection to safely style text background */
span.CodeMirror-selectedtext { background: none; }

.CodeMirror-dialog {
  position: absolute;
  left: 0; right: 0;
  background: inherit;
  z-index: 15;
  padding: .1em .8em;
  overflow: hidden;
  color: inherit;
}

.CodeMirror-dialog-top {
  border-bottom: 1px solid #eee;
  top: 0;
}

.CodeMirror-dialog-bottom {
  border-top: 1px solid #eee;
  bottom: 0;
}

.CodeMirror-dialog input {
  border: none;
  outline: none;
  background: transparent;
  width: 20em;
  color: inherit;
  font-family: monospace;
}

.CodeMirror-dialog button {
  font-size: 70%;
}

.CodeMirror-foldmarker {
  color: blue;
  text-shadow: #b9f 1px 1px 2px, #b9f -1px -1px 2px, #b9f 1px -1px 2px, #b9f -1px 1px 2px;
  font-family: arial;
  line-height: .3;
  cursor: pointer;
}
.CodeMirror-foldgutter {
  width: .7em;
}
.CodeMirror-foldgutter-open,
.CodeMirror-foldgutter-folded {
  cursor: pointer;
}
.CodeMirror-foldgutter-open:after {
  content: "\25BE";
}
.CodeMirror-foldgutter-folded:after {
  content: "\25B8";
}

/*-----------------------------------------------------------------------------
| Copyright (c) Jupyter Development Team.
| Distributed under the terms of the Modified BSD License.
|----------------------------------------------------------------------------*/

.CodeMirror {
  line-height: var(--jp-code-line-height);
  font-size: var(--jp-code-font-size);
  font-family: var(--jp-code-font-family);
  border: 0;
  border-radius: 0;
  height: auto;
  /* Changed to auto to autogrow */
}

.CodeMirror pre {
  padding: 0 var(--jp-code-padding);
}

.jp-CodeMirrorEditor[data-type='inline'] .CodeMirror-dialog {
  background-color: var(--jp-layout-color0);
  color: var(--jp-content-font-color1);
}

/* This causes https://github.com/jupyter/jupyterlab/issues/522 */
/* May not cause it not because we changed it! */
.CodeMirror-lines {
  padding: var(--jp-code-padding) 0;
}

.CodeMirror-linenumber {
  padding: 0 8px;
}

.jp-CodeMirrorEditor {
  cursor: text;
}

.jp-CodeMirrorEditor[data-type='inline'] .CodeMirror-cursor {
  border-left: var(--jp-code-cursor-width0) solid var(--jp-editor-cursor-color);
}

/* When zoomed out 67% and 33% on a screen of 1440 width x 900 height */
@media screen and (min-width: 2138px) and (max-width: 4319px) {
  .jp-CodeMirrorEditor[data-type='inline'] .CodeMirror-cursor {
    border-left: var(--jp-code-cursor-width1) solid
      var(--jp-editor-cursor-color);
  }
}

/* When zoomed out less than 33% */
@media screen and (min-width: 4320px) {
  .jp-CodeMirrorEditor[data-type='inline'] .CodeMirror-cursor {
    border-left: var(--jp-code-cursor-width2) solid
      var(--jp-editor-cursor-color);
  }
}

.CodeMirror.jp-mod-readOnly .CodeMirror-cursor {
  display: none;
}

.CodeMirror-gutters {
  border-right: 1px solid var(--jp-border-color2);
  background-color: var(--jp-layout-color0);
}

.jp-CollaboratorCursor {
  border-left: 5px solid transparent;
  border-right: 5px solid transparent;
  border-top: none;
  border-bottom: 3px solid;
  background-clip: content-box;
  margin-left: -5px;
  margin-right: -5px;
}

.CodeMirror-selectedtext.cm-searching {
  background-color: var(--jp-search-selected-match-background-color) !important;
  color: var(--jp-search-selected-match-color) !important;
}

.cm-searching {
  background-color: var(
    --jp-search-unselected-match-background-color
  ) !important;
  color: var(--jp-search-unselected-match-color) !important;
}

.CodeMirror-focused .CodeMirror-selected {
  background-color: var(--jp-editor-selected-focused-background);
}

.CodeMirror-selected {
  background-color: var(--jp-editor-selected-background);
}

.jp-CollaboratorCursor-hover {
  position: absolute;
  z-index: 1;
  transform: translateX(-50%);
  color: white;
  border-radius: 3px;
  padding-left: 4px;
  padding-right: 4px;
  padding-top: 1px;
  padding-bottom: 1px;
  text-align: center;
  font-size: var(--jp-ui-font-size1);
  white-space: nowrap;
}

.jp-CodeMirror-ruler {
  border-left: 1px dashed var(--jp-border-color2);
}

/**
 * Here is our jupyter theme for CodeMirror syntax highlighting
 * This is used in our marked.js syntax highlighting and CodeMirror itself
 * The string "jupyter" is set in ../codemirror/widget.DEFAULT_CODEMIRROR_THEME
 * This came from the classic notebook, which came form highlight.js/GitHub
 */

/**
 * CodeMirror themes are handling the background/color in this way. This works
 * fine for CodeMirror editors outside the notebook, but the notebook styles
 * these things differently.
 */
.CodeMirror.cm-s-jupyter {
  background: var(--jp-layout-color0);
  color: var(--jp-content-font-color1);
}

/* In the notebook, we want this styling to be handled by its container */
.jp-CodeConsole .CodeMirror.cm-s-jupyter,
.jp-Notebook .CodeMirror.cm-s-jupyter {
  background: transparent;
}

.cm-s-jupyter .CodeMirror-cursor {
  border-left: var(--jp-code-cursor-width0) solid var(--jp-editor-cursor-color);
}
.cm-s-jupyter span.cm-keyword {
  color: var(--jp-mirror-editor-keyword-color);
  font-weight: bold;
}
.cm-s-jupyter span.cm-atom {
  color: var(--jp-mirror-editor-atom-color);
}
.cm-s-jupyter span.cm-number {
  color: var(--jp-mirror-editor-number-color);
}
.cm-s-jupyter span.cm-def {
  color: var(--jp-mirror-editor-def-color);
}
.cm-s-jupyter span.cm-variable {
  color: var(--jp-mirror-editor-variable-color);
}
.cm-s-jupyter span.cm-variable-2 {
  color: var(--jp-mirror-editor-variable-2-color);
}
.cm-s-jupyter span.cm-variable-3 {
  color: var(--jp-mirror-editor-variable-3-color);
}
.cm-s-jupyter span.cm-punctuation {
  color: var(--jp-mirror-editor-punctuation-color);
}
.cm-s-jupyter span.cm-property {
  color: var(--jp-mirror-editor-property-color);
}
.cm-s-jupyter span.cm-operator {
  color: var(--jp-mirror-editor-operator-color);
  font-weight: bold;
}
.cm-s-jupyter span.cm-comment {
  color: var(--jp-mirror-editor-comment-color);
  font-style: italic;
}
.cm-s-jupyter span.cm-string {
  color: var(--jp-mirror-editor-string-color);
}
.cm-s-jupyter span.cm-string-2 {
  color: var(--jp-mirror-editor-string-2-color);
}
.cm-s-jupyter span.cm-meta {
  color: var(--jp-mirror-editor-meta-color);
}
.cm-s-jupyter span.cm-qualifier {
  color: var(--jp-mirror-editor-qualifier-color);
}
.cm-s-jupyter span.cm-builtin {
  color: var(--jp-mirror-editor-builtin-color);
}
.cm-s-jupyter span.cm-bracket {
  color: var(--jp-mirror-editor-bracket-color);
}
.cm-s-jupyter span.cm-tag {
  color: var(--jp-mirror-editor-tag-color);
}
.cm-s-jupyter span.cm-attribute {
  color: var(--jp-mirror-editor-attribute-color);
}
.cm-s-jupyter span.cm-header {
  color: var(--jp-mirror-editor-header-color);
}
.cm-s-jupyter span.cm-quote {
  color: var(--jp-mirror-editor-quote-color);
}
.cm-s-jupyter span.cm-link {
  color: var(--jp-mirror-editor-link-color);
}
.cm-s-jupyter span.cm-error {
  color: var(--jp-mirror-editor-error-color);
}
.cm-s-jupyter span.cm-hr {
  color: #999;
}

.cm-s-jupyter span.cm-tab {
  background: url(data:image/png;base64,iVBORw0KGgoAAAANSUhEUgAAADAAAAAMCAYAAAAkuj5RAAAAAXNSR0IArs4c6QAAAGFJREFUSMft1LsRQFAQheHPowAKoACx3IgEKtaEHujDjORSgWTH/ZOdnZOcM/sgk/kFFWY0qV8foQwS4MKBCS3qR6ixBJvElOobYAtivseIE120FaowJPN75GMu8j/LfMwNjh4HUpwg4LUAAAAASUVORK5CYII=);
  background-position: right;
  background-repeat: no-repeat;
}

.cm-s-jupyter .CodeMirror-activeline-background,
.cm-s-jupyter .CodeMirror-gutter {
  background-color: var(--jp-layout-color2);
}

/* Styles for shared cursors (remote cursor locations and selected ranges) */
.jp-CodeMirrorEditor .remote-caret {
  position: relative;
  border-left: 2px solid black;
  margin-left: -1px;
  margin-right: -1px;
  box-sizing: border-box;
}

.jp-CodeMirrorEditor .remote-caret > div {
  white-space: nowrap;
  position: absolute;
  top: -1.15em;
  padding-bottom: 0.05em;
  left: -2px;
  font-size: 0.95em;
  background-color: rgb(250, 129, 0);
  font-family: var(--jp-ui-font-family);
  font-weight: bold;
  line-height: normal;
  user-select: none;
  color: white;
  padding-left: 2px;
  padding-right: 2px;
  z-index: 3;
  transition: opacity 0.3s ease-in-out;
}

.jp-CodeMirrorEditor .remote-caret.hide-name > div {
  transition-delay: 0.7s;
  opacity: 0;
}

.jp-CodeMirrorEditor .remote-caret:hover > div {
  opacity: 1;
  transition-delay: 0s;
}

/*-----------------------------------------------------------------------------
| Copyright (c) Jupyter Development Team.
| Distributed under the terms of the Modified BSD License.
|----------------------------------------------------------------------------*/

/*-----------------------------------------------------------------------------
| RenderedText
|----------------------------------------------------------------------------*/

:root {
  /* This is the padding value to fill the gaps between lines containing spans with background color. */
  --jp-private-code-span-padding: calc(
    (var(--jp-code-line-height) - 1) * var(--jp-code-font-size) / 2
  );
}

.jp-RenderedText {
  text-align: left;
  padding-left: var(--jp-code-padding);
  line-height: var(--jp-code-line-height);
  font-family: var(--jp-code-font-family);
}

.jp-RenderedText pre,
.jp-RenderedJavaScript pre,
.jp-RenderedHTMLCommon pre {
  color: var(--jp-content-font-color1);
  font-size: var(--jp-code-font-size);
  border: none;
  margin: 0px;
  padding: 0px;
}

.jp-RenderedText pre a:link {
  text-decoration: none;
  color: var(--jp-content-link-color);
}
.jp-RenderedText pre a:hover {
  text-decoration: underline;
  color: var(--jp-content-link-color);
}
.jp-RenderedText pre a:visited {
  text-decoration: none;
  color: var(--jp-content-link-color);
}

/* console foregrounds and backgrounds */
.jp-RenderedText pre .ansi-black-fg {
  color: #3e424d;
}
.jp-RenderedText pre .ansi-red-fg {
  color: #e75c58;
}
.jp-RenderedText pre .ansi-green-fg {
  color: #00a250;
}
.jp-RenderedText pre .ansi-yellow-fg {
  color: #ddb62b;
}
.jp-RenderedText pre .ansi-blue-fg {
  color: #208ffb;
}
.jp-RenderedText pre .ansi-magenta-fg {
  color: #d160c4;
}
.jp-RenderedText pre .ansi-cyan-fg {
  color: #60c6c8;
}
.jp-RenderedText pre .ansi-white-fg {
  color: #c5c1b4;
}

.jp-RenderedText pre .ansi-black-bg {
  background-color: #3e424d;
  padding: var(--jp-private-code-span-padding) 0;
}
.jp-RenderedText pre .ansi-red-bg {
  background-color: #e75c58;
  padding: var(--jp-private-code-span-padding) 0;
}
.jp-RenderedText pre .ansi-green-bg {
  background-color: #00a250;
  padding: var(--jp-private-code-span-padding) 0;
}
.jp-RenderedText pre .ansi-yellow-bg {
  background-color: #ddb62b;
  padding: var(--jp-private-code-span-padding) 0;
}
.jp-RenderedText pre .ansi-blue-bg {
  background-color: #208ffb;
  padding: var(--jp-private-code-span-padding) 0;
}
.jp-RenderedText pre .ansi-magenta-bg {
  background-color: #d160c4;
  padding: var(--jp-private-code-span-padding) 0;
}
.jp-RenderedText pre .ansi-cyan-bg {
  background-color: #60c6c8;
  padding: var(--jp-private-code-span-padding) 0;
}
.jp-RenderedText pre .ansi-white-bg {
  background-color: #c5c1b4;
  padding: var(--jp-private-code-span-padding) 0;
}

.jp-RenderedText pre .ansi-black-intense-fg {
  color: #282c36;
}
.jp-RenderedText pre .ansi-red-intense-fg {
  color: #b22b31;
}
.jp-RenderedText pre .ansi-green-intense-fg {
  color: #007427;
}
.jp-RenderedText pre .ansi-yellow-intense-fg {
  color: #b27d12;
}
.jp-RenderedText pre .ansi-blue-intense-fg {
  color: #0065ca;
}
.jp-RenderedText pre .ansi-magenta-intense-fg {
  color: #a03196;
}
.jp-RenderedText pre .ansi-cyan-intense-fg {
  color: #258f8f;
}
.jp-RenderedText pre .ansi-white-intense-fg {
  color: #a1a6b2;
}

.jp-RenderedText pre .ansi-black-intense-bg {
  background-color: #282c36;
  padding: var(--jp-private-code-span-padding) 0;
}
.jp-RenderedText pre .ansi-red-intense-bg {
  background-color: #b22b31;
  padding: var(--jp-private-code-span-padding) 0;
}
.jp-RenderedText pre .ansi-green-intense-bg {
  background-color: #007427;
  padding: var(--jp-private-code-span-padding) 0;
}
.jp-RenderedText pre .ansi-yellow-intense-bg {
  background-color: #b27d12;
  padding: var(--jp-private-code-span-padding) 0;
}
.jp-RenderedText pre .ansi-blue-intense-bg {
  background-color: #0065ca;
  padding: var(--jp-private-code-span-padding) 0;
}
.jp-RenderedText pre .ansi-magenta-intense-bg {
  background-color: #a03196;
  padding: var(--jp-private-code-span-padding) 0;
}
.jp-RenderedText pre .ansi-cyan-intense-bg {
  background-color: #258f8f;
  padding: var(--jp-private-code-span-padding) 0;
}
.jp-RenderedText pre .ansi-white-intense-bg {
  background-color: #a1a6b2;
  padding: var(--jp-private-code-span-padding) 0;
}

.jp-RenderedText pre .ansi-default-inverse-fg {
  color: var(--jp-ui-inverse-font-color0);
}
.jp-RenderedText pre .ansi-default-inverse-bg {
  background-color: var(--jp-inverse-layout-color0);
  padding: var(--jp-private-code-span-padding) 0;
}

.jp-RenderedText pre .ansi-bold {
  font-weight: bold;
}
.jp-RenderedText pre .ansi-underline {
  text-decoration: underline;
}

.jp-RenderedText[data-mime-type='application/vnd.jupyter.stderr'] {
  background: var(--jp-rendermime-error-background);
  padding-top: var(--jp-code-padding);
}

/*-----------------------------------------------------------------------------
| RenderedLatex
|----------------------------------------------------------------------------*/

.jp-RenderedLatex {
  color: var(--jp-content-font-color1);
  font-size: var(--jp-content-font-size1);
  line-height: var(--jp-content-line-height);
}

/* Left-justify outputs.*/
.jp-OutputArea-output.jp-RenderedLatex {
  padding: var(--jp-code-padding);
  text-align: left;
}

/*-----------------------------------------------------------------------------
| RenderedHTML
|----------------------------------------------------------------------------*/

.jp-RenderedHTMLCommon {
  color: var(--jp-content-font-color1);
  font-family: var(--jp-content-font-family);
  font-size: var(--jp-content-font-size1);
  line-height: var(--jp-content-line-height);
  /* Give a bit more R padding on Markdown text to keep line lengths reasonable */
  padding-right: 20px;
}

.jp-RenderedHTMLCommon em {
  font-style: italic;
}

.jp-RenderedHTMLCommon strong {
  font-weight: bold;
}

.jp-RenderedHTMLCommon u {
  text-decoration: underline;
}

.jp-RenderedHTMLCommon a:link {
  text-decoration: none;
  color: var(--jp-content-link-color);
}

.jp-RenderedHTMLCommon a:hover {
  text-decoration: underline;
  color: var(--jp-content-link-color);
}

.jp-RenderedHTMLCommon a:visited {
  text-decoration: none;
  color: var(--jp-content-link-color);
}

/* Headings */

.jp-RenderedHTMLCommon h1,
.jp-RenderedHTMLCommon h2,
.jp-RenderedHTMLCommon h3,
.jp-RenderedHTMLCommon h4,
.jp-RenderedHTMLCommon h5,
.jp-RenderedHTMLCommon h6 {
  line-height: var(--jp-content-heading-line-height);
  font-weight: var(--jp-content-heading-font-weight);
  font-style: normal;
  margin: var(--jp-content-heading-margin-top) 0
    var(--jp-content-heading-margin-bottom) 0;
}

.jp-RenderedHTMLCommon h1:first-child,
.jp-RenderedHTMLCommon h2:first-child,
.jp-RenderedHTMLCommon h3:first-child,
.jp-RenderedHTMLCommon h4:first-child,
.jp-RenderedHTMLCommon h5:first-child,
.jp-RenderedHTMLCommon h6:first-child {
  margin-top: calc(0.5 * var(--jp-content-heading-margin-top));
}

.jp-RenderedHTMLCommon h1:last-child,
.jp-RenderedHTMLCommon h2:last-child,
.jp-RenderedHTMLCommon h3:last-child,
.jp-RenderedHTMLCommon h4:last-child,
.jp-RenderedHTMLCommon h5:last-child,
.jp-RenderedHTMLCommon h6:last-child {
  margin-bottom: calc(0.5 * var(--jp-content-heading-margin-bottom));
}

.jp-RenderedHTMLCommon h1 {
  font-size: var(--jp-content-font-size5);
}

.jp-RenderedHTMLCommon h2 {
  font-size: var(--jp-content-font-size4);
}

.jp-RenderedHTMLCommon h3 {
  font-size: var(--jp-content-font-size3);
}

.jp-RenderedHTMLCommon h4 {
  font-size: var(--jp-content-font-size2);
}

.jp-RenderedHTMLCommon h5 {
  font-size: var(--jp-content-font-size1);
}

.jp-RenderedHTMLCommon h6 {
  font-size: var(--jp-content-font-size0);
}

/* Lists */

.jp-RenderedHTMLCommon ul:not(.list-inline),
.jp-RenderedHTMLCommon ol:not(.list-inline) {
  padding-left: 2em;
}

.jp-RenderedHTMLCommon ul {
  list-style: disc;
}

.jp-RenderedHTMLCommon ul ul {
  list-style: square;
}

.jp-RenderedHTMLCommon ul ul ul {
  list-style: circle;
}

.jp-RenderedHTMLCommon ol {
  list-style: decimal;
}

.jp-RenderedHTMLCommon ol ol {
  list-style: upper-alpha;
}

.jp-RenderedHTMLCommon ol ol ol {
  list-style: lower-alpha;
}

.jp-RenderedHTMLCommon ol ol ol ol {
  list-style: lower-roman;
}

.jp-RenderedHTMLCommon ol ol ol ol ol {
  list-style: decimal;
}

.jp-RenderedHTMLCommon ol,
.jp-RenderedHTMLCommon ul {
  margin-bottom: 1em;
}

.jp-RenderedHTMLCommon ul ul,
.jp-RenderedHTMLCommon ul ol,
.jp-RenderedHTMLCommon ol ul,
.jp-RenderedHTMLCommon ol ol {
  margin-bottom: 0em;
}

.jp-RenderedHTMLCommon hr {
  color: var(--jp-border-color2);
  background-color: var(--jp-border-color1);
  margin-top: 1em;
  margin-bottom: 1em;
}

.jp-RenderedHTMLCommon > pre {
  margin: 1.5em 2em;
}

.jp-RenderedHTMLCommon pre,
.jp-RenderedHTMLCommon code {
  border: 0;
  background-color: var(--jp-layout-color0);
  color: var(--jp-content-font-color1);
  font-family: var(--jp-code-font-family);
  font-size: inherit;
  line-height: var(--jp-code-line-height);
  padding: 0;
  white-space: pre-wrap;
}

.jp-RenderedHTMLCommon :not(pre) > code {
  background-color: var(--jp-layout-color2);
  padding: 1px 5px;
}

/* Tables */

.jp-RenderedHTMLCommon table {
  border-collapse: collapse;
  border-spacing: 0;
  border: none;
  color: var(--jp-ui-font-color1);
  font-size: 12px;
  table-layout: fixed;
  margin-left: auto;
  margin-right: auto;
}

.jp-RenderedHTMLCommon thead {
  border-bottom: var(--jp-border-width) solid var(--jp-border-color1);
  vertical-align: bottom;
}

.jp-RenderedHTMLCommon td,
.jp-RenderedHTMLCommon th,
.jp-RenderedHTMLCommon tr {
  vertical-align: middle;
  padding: 0.5em 0.5em;
  line-height: normal;
  white-space: normal;
  max-width: none;
  border: none;
}

.jp-RenderedMarkdown.jp-RenderedHTMLCommon td,
.jp-RenderedMarkdown.jp-RenderedHTMLCommon th {
  max-width: none;
}

:not(.jp-RenderedMarkdown).jp-RenderedHTMLCommon td,
:not(.jp-RenderedMarkdown).jp-RenderedHTMLCommon th,
:not(.jp-RenderedMarkdown).jp-RenderedHTMLCommon tr {
  text-align: right;
}

.jp-RenderedHTMLCommon th {
  font-weight: bold;
}

.jp-RenderedHTMLCommon tbody tr:nth-child(odd) {
  background: var(--jp-layout-color0);
}

.jp-RenderedHTMLCommon tbody tr:nth-child(even) {
  background: var(--jp-rendermime-table-row-background);
}

.jp-RenderedHTMLCommon tbody tr:hover {
  background: var(--jp-rendermime-table-row-hover-background);
}

.jp-RenderedHTMLCommon table {
  margin-bottom: 1em;
}

.jp-RenderedHTMLCommon p {
  text-align: left;
  margin: 0px;
}

.jp-RenderedHTMLCommon p {
  margin-bottom: 1em;
}

.jp-RenderedHTMLCommon img {
  -moz-force-broken-image-icon: 1;
}

/* Restrict to direct children as other images could be nested in other content. */
.jp-RenderedHTMLCommon > img {
  display: block;
  margin-left: 0;
  margin-right: 0;
  margin-bottom: 1em;
}

/* Change color behind transparent images if they need it... */
[data-jp-theme-light='false'] .jp-RenderedImage img.jp-needs-light-background {
  background-color: var(--jp-inverse-layout-color1);
}
[data-jp-theme-light='true'] .jp-RenderedImage img.jp-needs-dark-background {
  background-color: var(--jp-inverse-layout-color1);
}
/* ...or leave it untouched if they don't */
[data-jp-theme-light='false'] .jp-RenderedImage img.jp-needs-dark-background {
}
[data-jp-theme-light='true'] .jp-RenderedImage img.jp-needs-light-background {
}

.jp-RenderedHTMLCommon img,
.jp-RenderedImage img,
.jp-RenderedHTMLCommon svg,
.jp-RenderedSVG svg {
  max-width: 100%;
  height: auto;
}

.jp-RenderedHTMLCommon img.jp-mod-unconfined,
.jp-RenderedImage img.jp-mod-unconfined,
.jp-RenderedHTMLCommon svg.jp-mod-unconfined,
.jp-RenderedSVG svg.jp-mod-unconfined {
  max-width: none;
}

.jp-RenderedHTMLCommon .alert {
  padding: var(--jp-notebook-padding);
  border: var(--jp-border-width) solid transparent;
  border-radius: var(--jp-border-radius);
  margin-bottom: 1em;
}

.jp-RenderedHTMLCommon .alert-info {
  color: var(--jp-info-color0);
  background-color: var(--jp-info-color3);
  border-color: var(--jp-info-color2);
}
.jp-RenderedHTMLCommon .alert-info hr {
  border-color: var(--jp-info-color3);
}
.jp-RenderedHTMLCommon .alert-info > p:last-child,
.jp-RenderedHTMLCommon .alert-info > ul:last-child {
  margin-bottom: 0;
}

.jp-RenderedHTMLCommon .alert-warning {
  color: var(--jp-warn-color0);
  background-color: var(--jp-warn-color3);
  border-color: var(--jp-warn-color2);
}
.jp-RenderedHTMLCommon .alert-warning hr {
  border-color: var(--jp-warn-color3);
}
.jp-RenderedHTMLCommon .alert-warning > p:last-child,
.jp-RenderedHTMLCommon .alert-warning > ul:last-child {
  margin-bottom: 0;
}

.jp-RenderedHTMLCommon .alert-success {
  color: var(--jp-success-color0);
  background-color: var(--jp-success-color3);
  border-color: var(--jp-success-color2);
}
.jp-RenderedHTMLCommon .alert-success hr {
  border-color: var(--jp-success-color3);
}
.jp-RenderedHTMLCommon .alert-success > p:last-child,
.jp-RenderedHTMLCommon .alert-success > ul:last-child {
  margin-bottom: 0;
}

.jp-RenderedHTMLCommon .alert-danger {
  color: var(--jp-error-color0);
  background-color: var(--jp-error-color3);
  border-color: var(--jp-error-color2);
}
.jp-RenderedHTMLCommon .alert-danger hr {
  border-color: var(--jp-error-color3);
}
.jp-RenderedHTMLCommon .alert-danger > p:last-child,
.jp-RenderedHTMLCommon .alert-danger > ul:last-child {
  margin-bottom: 0;
}

.jp-RenderedHTMLCommon blockquote {
  margin: 1em 2em;
  padding: 0 1em;
  border-left: 5px solid var(--jp-border-color2);
}

a.jp-InternalAnchorLink {
  visibility: hidden;
  margin-left: 8px;
  color: var(--md-blue-800);
}

h1:hover .jp-InternalAnchorLink,
h2:hover .jp-InternalAnchorLink,
h3:hover .jp-InternalAnchorLink,
h4:hover .jp-InternalAnchorLink,
h5:hover .jp-InternalAnchorLink,
h6:hover .jp-InternalAnchorLink {
  visibility: visible;
}

.jp-RenderedHTMLCommon kbd {
  background-color: var(--jp-rendermime-table-row-background);
  border: 1px solid var(--jp-border-color0);
  border-bottom-color: var(--jp-border-color2);
  border-radius: 3px;
  box-shadow: inset 0 -1px 0 rgba(0, 0, 0, 0.25);
  display: inline-block;
  font-size: 0.8em;
  line-height: 1em;
  padding: 0.2em 0.5em;
}

/* Most direct children of .jp-RenderedHTMLCommon have a margin-bottom of 1.0.
 * At the bottom of cells this is a bit too much as there is also spacing
 * between cells. Going all the way to 0 gets too tight between markdown and
 * code cells.
 */
.jp-RenderedHTMLCommon > *:last-child {
  margin-bottom: 0.5em;
}

/*-----------------------------------------------------------------------------
| Copyright (c) Jupyter Development Team.
| Distributed under the terms of the Modified BSD License.
|----------------------------------------------------------------------------*/

.jp-MimeDocument {
  outline: none;
}

/*-----------------------------------------------------------------------------
| Copyright (c) Jupyter Development Team.
| Distributed under the terms of the Modified BSD License.
|----------------------------------------------------------------------------*/

/*-----------------------------------------------------------------------------
| Variables
|----------------------------------------------------------------------------*/

:root {
  --jp-private-filebrowser-button-height: 28px;
  --jp-private-filebrowser-button-width: 48px;
}

/*-----------------------------------------------------------------------------
| Copyright (c) Jupyter Development Team.
| Distributed under the terms of the Modified BSD License.
|----------------------------------------------------------------------------*/

.jp-FileBrowser {
  display: flex;
  flex-direction: column;
  color: var(--jp-ui-font-color1);
  background: var(--jp-layout-color1);
  /* This is needed so that all font sizing of children done in ems is
   * relative to this base size */
  font-size: var(--jp-ui-font-size1);
}

.jp-FileBrowser-toolbar.jp-Toolbar {
  border-bottom: none;
  height: auto;
  margin: var(--jp-toolbar-header-margin);
  box-shadow: none;
}

.jp-BreadCrumbs {
  flex: 0 0 auto;
  margin: 8px 12px 8px 12px;
}

.jp-BreadCrumbs-item {
  margin: 0px 2px;
  padding: 0px 2px;
  border-radius: var(--jp-border-radius);
  cursor: pointer;
}

.jp-BreadCrumbs-item:hover {
  background-color: var(--jp-layout-color2);
}

.jp-BreadCrumbs-item:first-child {
  margin-left: 0px;
}

.jp-BreadCrumbs-item.jp-mod-dropTarget {
  background-color: var(--jp-brand-color2);
  opacity: 0.7;
}

/*-----------------------------------------------------------------------------
| Buttons
|----------------------------------------------------------------------------*/

.jp-FileBrowser-toolbar.jp-Toolbar {
  padding: 0px;
  margin: 8px 12px 0px 12px;
}

.jp-FileBrowser-toolbar.jp-Toolbar {
  justify-content: flex-start;
}

.jp-FileBrowser-toolbar.jp-Toolbar .jp-Toolbar-item {
  flex: 0 0 auto;
  padding-left: 0px;
  padding-right: 2px;
}

.jp-FileBrowser-toolbar.jp-Toolbar .jp-ToolbarButtonComponent {
  width: 40px;
}

.jp-FileBrowser-toolbar.jp-Toolbar
  .jp-Toolbar-item:first-child
  .jp-ToolbarButtonComponent {
  width: 72px;
  background: var(--jp-brand-color1);
}

.jp-FileBrowser-toolbar.jp-Toolbar
  .jp-Toolbar-item:first-child
  .jp-ToolbarButtonComponent:focus-visible {
  background-color: var(--jp-brand-color0);
}

.jp-FileBrowser-toolbar.jp-Toolbar
  .jp-Toolbar-item:first-child
  .jp-ToolbarButtonComponent
  .jp-icon3 {
  fill: white;
}

/*-----------------------------------------------------------------------------
| Other styles
|----------------------------------------------------------------------------*/

.jp-FileDialog.jp-mod-conflict input {
  color: var(--jp-error-color1);
}

.jp-FileDialog .jp-new-name-title {
  margin-top: 12px;
}

.jp-LastModified-hidden {
  display: none;
}

.jp-FileBrowser-filterBox {
  padding: 0px;
  flex: 0 0 auto;
  margin: 8px 12px 0px 12px;
}

/*-----------------------------------------------------------------------------
| DirListing
|----------------------------------------------------------------------------*/

.jp-DirListing {
  flex: 1 1 auto;
  display: flex;
  flex-direction: column;
  outline: 0;
}

.jp-DirListing:focus-visible {
  border: 1px solid var(--jp-brand-color1);
}

.jp-DirListing-header {
  flex: 0 0 auto;
  display: flex;
  flex-direction: row;
  overflow: hidden;
  border-top: var(--jp-border-width) solid var(--jp-border-color2);
  border-bottom: var(--jp-border-width) solid var(--jp-border-color1);
  box-shadow: var(--jp-toolbar-box-shadow);
  z-index: 2;
}

.jp-DirListing-headerItem {
  padding: 4px 12px 2px 12px;
  font-weight: 500;
}

.jp-DirListing-headerItem:hover {
  background: var(--jp-layout-color2);
}

.jp-DirListing-headerItem.jp-id-name {
  flex: 1 0 84px;
}

.jp-DirListing-headerItem.jp-id-modified {
  flex: 0 0 112px;
  border-left: var(--jp-border-width) solid var(--jp-border-color2);
  text-align: right;
}

.jp-id-narrow {
  display: none;
  flex: 0 0 5px;
  padding: 4px 4px;
  border-left: var(--jp-border-width) solid var(--jp-border-color2);
  text-align: right;
  color: var(--jp-border-color2);
}

.jp-DirListing-narrow .jp-id-narrow {
  display: block;
}

.jp-DirListing-narrow .jp-id-modified,
.jp-DirListing-narrow .jp-DirListing-itemModified {
  display: none;
}

.jp-DirListing-headerItem.jp-mod-selected {
  font-weight: 600;
}

/* increase specificity to override bundled default */
.jp-DirListing-content {
  flex: 1 1 auto;
  margin: 0;
  padding: 0;
  list-style-type: none;
  overflow: auto;
  background-color: var(--jp-layout-color1);
}

.jp-DirListing-content mark {
  color: var(--jp-ui-font-color0);
  background-color: transparent;
  font-weight: bold;
}

.jp-DirListing-content .jp-DirListing-item.jp-mod-selected mark {
  color: var(--jp-ui-inverse-font-color0);
}

/* Style the directory listing content when a user drops a file to upload */
.jp-DirListing.jp-mod-native-drop .jp-DirListing-content {
  outline: 5px dashed rgba(128, 128, 128, 0.5);
  outline-offset: -10px;
  cursor: copy;
}

.jp-DirListing-item {
  display: flex;
  flex-direction: row;
  padding: 4px 12px;
  -webkit-user-select: none;
  -moz-user-select: none;
  -ms-user-select: none;
  user-select: none;
}

.jp-DirListing-item[data-is-dot] {
  opacity: 75%;
}

.jp-DirListing-item.jp-mod-selected {
  color: var(--jp-ui-inverse-font-color1);
  background: var(--jp-brand-color1);
}

.jp-DirListing-item.jp-mod-dropTarget {
  background: var(--jp-brand-color3);
}

.jp-DirListing-item:hover:not(.jp-mod-selected) {
  background: var(--jp-layout-color2);
}

.jp-DirListing-itemIcon {
  flex: 0 0 20px;
  margin-right: 4px;
}

.jp-DirListing-itemText {
  flex: 1 0 64px;
  white-space: nowrap;
  overflow: hidden;
  text-overflow: ellipsis;
  user-select: none;
}

.jp-DirListing-itemModified {
  flex: 0 0 125px;
  text-align: right;
}

.jp-DirListing-editor {
  flex: 1 0 64px;
  outline: none;
  border: none;
}

.jp-DirListing-item.jp-mod-running .jp-DirListing-itemIcon:before {
  color: var(--jp-success-color1);
  content: '\25CF';
  font-size: 8px;
  position: absolute;
  left: -8px;
}

.jp-DirListing-item.jp-mod-running.jp-mod-selected
  .jp-DirListing-itemIcon:before {
  color: var(--jp-ui-inverse-font-color1);
}

.jp-DirListing-item.lm-mod-drag-image,
.jp-DirListing-item.jp-mod-selected.lm-mod-drag-image {
  font-size: var(--jp-ui-font-size1);
  padding-left: 4px;
  margin-left: 4px;
  width: 160px;
  background-color: var(--jp-ui-inverse-font-color2);
  box-shadow: var(--jp-elevation-z2);
  border-radius: 0px;
  color: var(--jp-ui-font-color1);
  transform: translateX(-40%) translateY(-58%);
}

.jp-DirListing-deadSpace {
  flex: 1 1 auto;
  margin: 0;
  padding: 0;
  list-style-type: none;
  overflow: auto;
  background-color: var(--jp-layout-color1);
}

.jp-Document {
  min-width: 120px;
  min-height: 120px;
  outline: none;
}

/*-----------------------------------------------------------------------------
| Copyright (c) Jupyter Development Team.
| Distributed under the terms of the Modified BSD License.
|----------------------------------------------------------------------------*/

/*-----------------------------------------------------------------------------
| Private CSS variables
|----------------------------------------------------------------------------*/

:root {
}

/*-----------------------------------------------------------------------------
| Main OutputArea
| OutputArea has a list of Outputs
|----------------------------------------------------------------------------*/

.jp-OutputArea {
  overflow-y: auto;
}

.jp-OutputArea-child {
  display: flex;
  flex-direction: row;
}

body[data-format='mobile'] .jp-OutputArea-child {
  flex-direction: column;
}

.jp-OutputPrompt {
  flex: 0 0 var(--jp-cell-prompt-width);
  color: var(--jp-cell-outprompt-font-color);
  font-family: var(--jp-cell-prompt-font-family);
  padding: var(--jp-code-padding);
  letter-spacing: var(--jp-cell-prompt-letter-spacing);
  line-height: var(--jp-code-line-height);
  font-size: var(--jp-code-font-size);
  border: var(--jp-border-width) solid transparent;
  opacity: var(--jp-cell-prompt-opacity);
  /* Right align prompt text, don't wrap to handle large prompt numbers */
  text-align: right;
  white-space: nowrap;
  overflow: hidden;
  text-overflow: ellipsis;
  /* Disable text selection */
  -webkit-user-select: none;
  -moz-user-select: none;
  -ms-user-select: none;
  user-select: none;
}

body[data-format='mobile'] .jp-OutputPrompt {
  flex: 0 0 auto;
  text-align: left;
}

.jp-OutputArea-output {
  height: auto;
  overflow: auto;
  user-select: text;
  -moz-user-select: text;
  -webkit-user-select: text;
  -ms-user-select: text;
}

.jp-OutputArea-child .jp-OutputArea-output {
  flex-grow: 1;
  flex-shrink: 1;
}

body[data-format='mobile'] .jp-OutputArea-child .jp-OutputArea-output {
  margin-left: var(--jp-notebook-padding);
}

/**
 * Isolated output.
 */
.jp-OutputArea-output.jp-mod-isolated {
  width: 100%;
  display: block;
}

/*
When drag events occur, `p-mod-override-cursor` is added to the body.
Because iframes steal all cursor events, the following two rules are necessary
to suppress pointer events while resize drags are occurring. There may be a
better solution to this problem.
*/
body.lm-mod-override-cursor .jp-OutputArea-output.jp-mod-isolated {
  position: relative;
}

body.lm-mod-override-cursor .jp-OutputArea-output.jp-mod-isolated:before {
  content: '';
  position: absolute;
  top: 0;
  left: 0;
  right: 0;
  bottom: 0;
  background: transparent;
}

/* pre */

.jp-OutputArea-output pre {
  border: none;
  margin: 0px;
  padding: 0px;
  overflow-x: auto;
  overflow-y: auto;
  word-break: break-all;
  word-wrap: break-word;
  white-space: pre-wrap;
}

/* tables */

.jp-OutputArea-output.jp-RenderedHTMLCommon table {
  margin-left: 0;
  margin-right: 0;
}

/* description lists */

.jp-OutputArea-output dl,
.jp-OutputArea-output dt,
.jp-OutputArea-output dd {
  display: block;
}

.jp-OutputArea-output dl {
  width: 100%;
  overflow: hidden;
  padding: 0;
  margin: 0;
}

.jp-OutputArea-output dt {
  font-weight: bold;
  float: left;
  width: 20%;
  padding: 0;
  margin: 0;
}

.jp-OutputArea-output dd {
  float: left;
  width: 80%;
  padding: 0;
  margin: 0;
}

/* Hide the gutter in case of
 *  - nested output areas (e.g. in the case of output widgets)
 *  - mirrored output areas
 */
.jp-OutputArea .jp-OutputArea .jp-OutputArea-prompt {
  display: none;
}

/*-----------------------------------------------------------------------------
| executeResult is added to any Output-result for the display of the object
| returned by a cell
|----------------------------------------------------------------------------*/

.jp-OutputArea-output.jp-OutputArea-executeResult {
  margin-left: 0px;
  flex: 1 1 auto;
}

/* Text output with the Out[] prompt needs a top padding to match the
 * alignment of the Out[] prompt itself.
 */
.jp-OutputArea-executeResult .jp-RenderedText.jp-OutputArea-output {
  padding-top: var(--jp-code-padding);
  border-top: var(--jp-border-width) solid transparent;
}

/*-----------------------------------------------------------------------------
| The Stdin output
|----------------------------------------------------------------------------*/

.jp-OutputArea-stdin {
  line-height: var(--jp-code-line-height);
  padding-top: var(--jp-code-padding);
  display: flex;
}

.jp-Stdin-prompt {
  color: var(--jp-content-font-color0);
  padding-right: var(--jp-code-padding);
  vertical-align: baseline;
  flex: 0 0 auto;
}

.jp-Stdin-input {
  font-family: var(--jp-code-font-family);
  font-size: inherit;
  color: inherit;
  background-color: inherit;
  width: 42%;
  min-width: 200px;
  /* make sure input baseline aligns with prompt */
  vertical-align: baseline;
  /* padding + margin = 0.5em between prompt and cursor */
  padding: 0em 0.25em;
  margin: 0em 0.25em;
  flex: 0 0 70%;
}

.jp-Stdin-input:focus {
  box-shadow: none;
}

/*-----------------------------------------------------------------------------
| Output Area View
|----------------------------------------------------------------------------*/

.jp-LinkedOutputView .jp-OutputArea {
  height: 100%;
  display: block;
}

.jp-LinkedOutputView .jp-OutputArea-output:only-child {
  height: 100%;
}

/*-----------------------------------------------------------------------------
| Copyright (c) Jupyter Development Team.
| Distributed under the terms of the Modified BSD License.
|----------------------------------------------------------------------------*/

.jp-Collapser {
  flex: 0 0 var(--jp-cell-collapser-width);
  padding: 0px;
  margin: 0px;
  border: none;
  outline: none;
  background: transparent;
  border-radius: var(--jp-border-radius);
  opacity: 1;
}

.jp-Collapser-child {
  display: block;
  width: 100%;
  box-sizing: border-box;
  /* height: 100% doesn't work because the height of its parent is computed from content */
  position: absolute;
  top: 0px;
  bottom: 0px;
}

/*-----------------------------------------------------------------------------
| Copyright (c) Jupyter Development Team.
| Distributed under the terms of the Modified BSD License.
|----------------------------------------------------------------------------*/

/*-----------------------------------------------------------------------------
| Header/Footer
|----------------------------------------------------------------------------*/

/* Hidden by zero height by default */
.jp-CellHeader,
.jp-CellFooter {
  height: 0px;
  width: 100%;
  padding: 0px;
  margin: 0px;
  border: none;
  outline: none;
  background: transparent;
}

/*-----------------------------------------------------------------------------
| Copyright (c) Jupyter Development Team.
| Distributed under the terms of the Modified BSD License.
|----------------------------------------------------------------------------*/

/*-----------------------------------------------------------------------------
| Input
|----------------------------------------------------------------------------*/

/* All input areas */
.jp-InputArea {
  display: flex;
  flex-direction: row;
  overflow: hidden;
}

body[data-format='mobile'] .jp-InputArea {
  flex-direction: column;
}

.jp-InputArea-editor {
  flex: 1 1 auto;
  overflow: hidden;
}

.jp-InputArea-editor {
  /* This is the non-active, default styling */
  border: var(--jp-border-width) solid var(--jp-cell-editor-border-color);
  border-radius: 0px;
  background: var(--jp-cell-editor-background);
}

body[data-format='mobile'] .jp-InputArea-editor {
  margin-left: var(--jp-notebook-padding);
}

.jp-InputPrompt {
  flex: 0 0 var(--jp-cell-prompt-width);
  color: var(--jp-cell-inprompt-font-color);
  font-family: var(--jp-cell-prompt-font-family);
  padding: var(--jp-code-padding);
  letter-spacing: var(--jp-cell-prompt-letter-spacing);
  opacity: var(--jp-cell-prompt-opacity);
  line-height: var(--jp-code-line-height);
  font-size: var(--jp-code-font-size);
  border: var(--jp-border-width) solid transparent;
  opacity: var(--jp-cell-prompt-opacity);
  /* Right align prompt text, don't wrap to handle large prompt numbers */
  text-align: right;
  white-space: nowrap;
  overflow: hidden;
  text-overflow: ellipsis;
  /* Disable text selection */
  -webkit-user-select: none;
  -moz-user-select: none;
  -ms-user-select: none;
  user-select: none;
}

body[data-format='mobile'] .jp-InputPrompt {
  flex: 0 0 auto;
  text-align: left;
}

/*-----------------------------------------------------------------------------
| Copyright (c) Jupyter Development Team.
| Distributed under the terms of the Modified BSD License.
|----------------------------------------------------------------------------*/

/*-----------------------------------------------------------------------------
| Placeholder
|----------------------------------------------------------------------------*/

.jp-Placeholder {
  display: flex;
  flex-direction: row;
  flex: 1 1 auto;
}

.jp-Placeholder-prompt {
  box-sizing: border-box;
}

.jp-Placeholder-content {
  flex: 1 1 auto;
  border: none;
  background: transparent;
  height: 20px;
  box-sizing: border-box;
}

.jp-Placeholder-content .jp-MoreHorizIcon {
  width: 32px;
  height: 16px;
  border: 1px solid transparent;
  border-radius: var(--jp-border-radius);
}

.jp-Placeholder-content .jp-MoreHorizIcon:hover {
  border: 1px solid var(--jp-border-color1);
  box-shadow: 0px 0px 2px 0px rgba(0, 0, 0, 0.25);
  background-color: var(--jp-layout-color0);
}

/*-----------------------------------------------------------------------------
| Copyright (c) Jupyter Development Team.
| Distributed under the terms of the Modified BSD License.
|----------------------------------------------------------------------------*/

/*-----------------------------------------------------------------------------
| Private CSS variables
|----------------------------------------------------------------------------*/

:root {
  --jp-private-cell-scrolling-output-offset: 5px;
}

/*-----------------------------------------------------------------------------
| Cell
|----------------------------------------------------------------------------*/

.jp-Cell {
  padding: var(--jp-cell-padding);
  margin: 0px;
  border: none;
  outline: none;
  background: transparent;
}

/*-----------------------------------------------------------------------------
| Common input/output
|----------------------------------------------------------------------------*/

.jp-Cell-inputWrapper,
.jp-Cell-outputWrapper {
  display: flex;
  flex-direction: row;
  padding: 0px;
  margin: 0px;
  /* Added to reveal the box-shadow on the input and output collapsers. */
  overflow: visible;
}

/* Only input/output areas inside cells */
.jp-Cell-inputArea,
.jp-Cell-outputArea {
  flex: 1 1 auto;
}

/*-----------------------------------------------------------------------------
| Collapser
|----------------------------------------------------------------------------*/

/* Make the output collapser disappear when there is not output, but do so
 * in a manner that leaves it in the layout and preserves its width.
 */
.jp-Cell.jp-mod-noOutputs .jp-Cell-outputCollapser {
  border: none !important;
  background: transparent !important;
}

.jp-Cell:not(.jp-mod-noOutputs) .jp-Cell-outputCollapser {
  min-height: var(--jp-cell-collapser-min-height);
}

/*-----------------------------------------------------------------------------
| Output
|----------------------------------------------------------------------------*/

/* Put a space between input and output when there IS output */
.jp-Cell:not(.jp-mod-noOutputs) .jp-Cell-outputWrapper {
  margin-top: 5px;
}

.jp-CodeCell.jp-mod-outputsScrolled .jp-Cell-outputArea {
  overflow-y: auto;
  max-height: 200px;
  box-shadow: inset 0 0 6px 2px rgba(0, 0, 0, 0.3);
  margin-left: var(--jp-private-cell-scrolling-output-offset);
}

.jp-CodeCell.jp-mod-outputsScrolled .jp-OutputArea-prompt {
  flex: 0 0
    calc(
      var(--jp-cell-prompt-width) -
        var(--jp-private-cell-scrolling-output-offset)
    );
}

/*-----------------------------------------------------------------------------
| CodeCell
|----------------------------------------------------------------------------*/

/*-----------------------------------------------------------------------------
| MarkdownCell
|----------------------------------------------------------------------------*/

.jp-MarkdownOutput {
  flex: 1 1 auto;
  margin-top: 0;
  margin-bottom: 0;
  padding-left: var(--jp-code-padding);
}

.jp-MarkdownOutput.jp-RenderedHTMLCommon {
  overflow: auto;
}

.jp-showHiddenCellsButton {
  margin-left: calc(var(--jp-cell-prompt-width) + 2 * var(--jp-code-padding));
  margin-top: var(--jp-code-padding);
  border: 1px solid var(--jp-border-color2);
  background-color: var(--jp-border-color3) !important;
  color: var(--jp-content-font-color0) !important;
}

.jp-showHiddenCellsButton:hover {
  background-color: var(--jp-border-color2) !important;
}

.jp-collapseHeadingButton {
  display: none;
}

.jp-MarkdownCell:hover .jp-collapseHeadingButton {
  display: flex;
  min-height: var(--jp-cell-collapser-min-height);
  position: absolute;
  right: 0;
  top: 0;
  bottom: 0;
}

/*-----------------------------------------------------------------------------
| Copyright (c) Jupyter Development Team.
| Distributed under the terms of the Modified BSD License.
|----------------------------------------------------------------------------*/

/*-----------------------------------------------------------------------------
| Copyright (c) Jupyter Development Team.
| Distributed under the terms of the Modified BSD License.
|----------------------------------------------------------------------------*/

/*-----------------------------------------------------------------------------
| Variables
|----------------------------------------------------------------------------*/

/*-----------------------------------------------------------------------------

/*-----------------------------------------------------------------------------
| Styles
|----------------------------------------------------------------------------*/

.jp-NotebookPanel-toolbar {
  padding: 2px;
}

.jp-Toolbar-item.jp-Notebook-toolbarCellType .jp-select-wrapper.jp-mod-focused {
  border: none;
  box-shadow: none;
}

.jp-Notebook-toolbarCellTypeDropdown select {
  height: 24px;
  font-size: var(--jp-ui-font-size1);
  line-height: 14px;
  border-radius: 0;
  display: block;
}

.jp-Notebook-toolbarCellTypeDropdown span {
  top: 5px !important;
}

/*-----------------------------------------------------------------------------
| Copyright (c) Jupyter Development Team.
| Distributed under the terms of the Modified BSD License.
|----------------------------------------------------------------------------*/

/*-----------------------------------------------------------------------------
| Private CSS variables
|----------------------------------------------------------------------------*/

:root {
  --jp-private-notebook-dragImage-width: 304px;
  --jp-private-notebook-dragImage-height: 36px;
  --jp-private-notebook-selected-color: var(--md-blue-400);
  --jp-private-notebook-active-color: var(--md-green-400);
}

/*-----------------------------------------------------------------------------
| Imports
|----------------------------------------------------------------------------*/

/*-----------------------------------------------------------------------------
| Notebook
|----------------------------------------------------------------------------*/

.jp-NotebookPanel {
  display: block;
  height: 100%;
}

.jp-NotebookPanel.jp-Document {
  min-width: 240px;
  min-height: 120px;
}

.jp-Notebook {
  padding: var(--jp-notebook-padding);
  outline: none;
  overflow: auto;
  background: var(--jp-layout-color0);
}

.jp-Notebook.jp-mod-scrollPastEnd::after {
  display: block;
  content: '';
  min-height: var(--jp-notebook-scroll-padding);
}

.jp-MainAreaWidget-ContainStrict .jp-Notebook * {
  contain: strict;
}

.jp-Notebook-render * {
  contain: none !important;
}

.jp-Notebook .jp-Cell {
  overflow: visible;
}

.jp-Notebook .jp-Cell .jp-InputPrompt {
  cursor: move;
  float: left;
}

/*-----------------------------------------------------------------------------
| Notebook state related styling
|
| The notebook and cells each have states, here are the possibilities:
|
| - Notebook
|   - Command
|   - Edit
| - Cell
|   - None
|   - Active (only one can be active)
|   - Selected (the cells actions are applied to)
|   - Multiselected (when multiple selected, the cursor)
|   - No outputs
|----------------------------------------------------------------------------*/

/* Command or edit modes */

.jp-Notebook .jp-Cell:not(.jp-mod-active) .jp-InputPrompt {
  opacity: var(--jp-cell-prompt-not-active-opacity);
  color: var(--jp-cell-prompt-not-active-font-color);
}

.jp-Notebook .jp-Cell:not(.jp-mod-active) .jp-OutputPrompt {
  opacity: var(--jp-cell-prompt-not-active-opacity);
  color: var(--jp-cell-prompt-not-active-font-color);
}

/* cell is active */
.jp-Notebook .jp-Cell.jp-mod-active .jp-Collapser {
  background: var(--jp-brand-color1);
}

/* cell is dirty */
.jp-Notebook .jp-Cell.jp-mod-dirty .jp-InputPrompt {
  color: var(--jp-warn-color1);
}
.jp-Notebook .jp-Cell.jp-mod-dirty .jp-InputPrompt:before {
  color: var(--jp-warn-color1);
  content: '•';
}

.jp-Notebook .jp-Cell.jp-mod-active.jp-mod-dirty .jp-Collapser {
  background: var(--jp-warn-color1);
}

/* collapser is hovered */
.jp-Notebook .jp-Cell .jp-Collapser:hover {
  box-shadow: var(--jp-elevation-z2);
  background: var(--jp-brand-color1);
  opacity: var(--jp-cell-collapser-not-active-hover-opacity);
}

/* cell is active and collapser is hovered */
.jp-Notebook .jp-Cell.jp-mod-active .jp-Collapser:hover {
  background: var(--jp-brand-color0);
  opacity: 1;
}

/* Command mode */

.jp-Notebook.jp-mod-commandMode .jp-Cell.jp-mod-selected {
  background: var(--jp-notebook-multiselected-color);
}

.jp-Notebook.jp-mod-commandMode
  .jp-Cell.jp-mod-active.jp-mod-selected:not(.jp-mod-multiSelected) {
  background: transparent;
}

/* Edit mode */

.jp-Notebook.jp-mod-editMode .jp-Cell.jp-mod-active .jp-InputArea-editor {
  border: var(--jp-border-width) solid var(--jp-cell-editor-active-border-color);
  box-shadow: var(--jp-input-box-shadow);
  background-color: var(--jp-cell-editor-active-background);
}

/*-----------------------------------------------------------------------------
| Notebook drag and drop
|----------------------------------------------------------------------------*/

.jp-Notebook-cell.jp-mod-dropSource {
  opacity: 0.5;
}

.jp-Notebook-cell.jp-mod-dropTarget,
.jp-Notebook.jp-mod-commandMode
  .jp-Notebook-cell.jp-mod-active.jp-mod-selected.jp-mod-dropTarget {
  border-top-color: var(--jp-private-notebook-selected-color);
  border-top-style: solid;
  border-top-width: 2px;
}

.jp-dragImage {
  display: block;
  flex-direction: row;
  width: var(--jp-private-notebook-dragImage-width);
  height: var(--jp-private-notebook-dragImage-height);
  border: var(--jp-border-width) solid var(--jp-cell-editor-border-color);
  background: var(--jp-cell-editor-background);
  overflow: visible;
}

.jp-dragImage-singlePrompt {
  box-shadow: 2px 2px 4px 0px rgba(0, 0, 0, 0.12);
}

.jp-dragImage .jp-dragImage-content {
  flex: 1 1 auto;
  z-index: 2;
  font-size: var(--jp-code-font-size);
  font-family: var(--jp-code-font-family);
  line-height: var(--jp-code-line-height);
  padding: var(--jp-code-padding);
  border: var(--jp-border-width) solid var(--jp-cell-editor-border-color);
  background: var(--jp-cell-editor-background-color);
  color: var(--jp-content-font-color3);
  text-align: left;
  margin: 4px 4px 4px 0px;
}

.jp-dragImage .jp-dragImage-prompt {
  flex: 0 0 auto;
  min-width: 36px;
  color: var(--jp-cell-inprompt-font-color);
  padding: var(--jp-code-padding);
  padding-left: 12px;
  font-family: var(--jp-cell-prompt-font-family);
  letter-spacing: var(--jp-cell-prompt-letter-spacing);
  line-height: 1.9;
  font-size: var(--jp-code-font-size);
  border: var(--jp-border-width) solid transparent;
}

.jp-dragImage-multipleBack {
  z-index: -1;
  position: absolute;
  height: 32px;
  width: 300px;
  top: 8px;
  left: 8px;
  background: var(--jp-layout-color2);
  border: var(--jp-border-width) solid var(--jp-input-border-color);
  box-shadow: 2px 2px 4px 0px rgba(0, 0, 0, 0.12);
}

/*-----------------------------------------------------------------------------
| Cell toolbar
|----------------------------------------------------------------------------*/

.jp-NotebookTools {
  display: block;
  min-width: var(--jp-sidebar-min-width);
  color: var(--jp-ui-font-color1);
  background: var(--jp-layout-color1);
  /* This is needed so that all font sizing of children done in ems is
    * relative to this base size */
  font-size: var(--jp-ui-font-size1);
  overflow: auto;
}

.jp-NotebookTools-tool {
  padding: 0px 12px 0 12px;
}

.jp-ActiveCellTool {
  padding: 12px;
  background-color: var(--jp-layout-color1);
  border-top: none !important;
}

.jp-ActiveCellTool .jp-InputArea-prompt {
  flex: 0 0 auto;
  padding-left: 0px;
}

.jp-ActiveCellTool .jp-InputArea-editor {
  flex: 1 1 auto;
  background: var(--jp-cell-editor-background);
  border-color: var(--jp-cell-editor-border-color);
}

.jp-ActiveCellTool .jp-InputArea-editor .CodeMirror {
  background: transparent;
}

.jp-MetadataEditorTool {
  flex-direction: column;
  padding: 12px 0px 12px 0px;
}

.jp-RankedPanel > :not(:first-child) {
  margin-top: 12px;
}

.jp-KeySelector select.jp-mod-styled {
  font-size: var(--jp-ui-font-size1);
  color: var(--jp-ui-font-color0);
  border: var(--jp-border-width) solid var(--jp-border-color1);
}

.jp-KeySelector label,
.jp-MetadataEditorTool label {
  line-height: 1.4;
}

.jp-NotebookTools .jp-select-wrapper {
  margin-top: 4px;
  margin-bottom: 0px;
}

.jp-NotebookTools .jp-Collapse {
  margin-top: 16px;
}

/*-----------------------------------------------------------------------------
| Presentation Mode (.jp-mod-presentationMode)
|----------------------------------------------------------------------------*/

.jp-mod-presentationMode .jp-Notebook {
  --jp-content-font-size1: var(--jp-content-presentation-font-size1);
  --jp-code-font-size: var(--jp-code-presentation-font-size);
}

.jp-mod-presentationMode .jp-Notebook .jp-Cell .jp-InputPrompt,
.jp-mod-presentationMode .jp-Notebook .jp-Cell .jp-OutputPrompt {
  flex: 0 0 110px;
}

/*-----------------------------------------------------------------------------
| Placeholder
|----------------------------------------------------------------------------*/

.jp-Cell-Placeholder {
  padding-left: 55px;
}

.jp-Cell-Placeholder-wrapper {
  background: #fff;
  border: 1px solid;
  border-color: #e5e6e9 #dfe0e4 #d0d1d5;
  border-radius: 4px;
  -webkit-border-radius: 4px;
  margin: 10px 15px;
}

.jp-Cell-Placeholder-wrapper-inner {
  padding: 15px;
  position: relative;
}

.jp-Cell-Placeholder-wrapper-body {
  background-repeat: repeat;
  background-size: 50% auto;
}

.jp-Cell-Placeholder-wrapper-body div {
  background: #f6f7f8;
  background-image: -webkit-linear-gradient(
    left,
    #f6f7f8 0%,
    #edeef1 20%,
    #f6f7f8 40%,
    #f6f7f8 100%
  );
  background-repeat: no-repeat;
  background-size: 800px 104px;
  height: 104px;
  position: relative;
}

.jp-Cell-Placeholder-wrapper-body div {
  position: absolute;
  right: 15px;
  left: 15px;
  top: 15px;
}

div.jp-Cell-Placeholder-h1 {
  top: 20px;
  height: 20px;
  left: 15px;
  width: 150px;
}

div.jp-Cell-Placeholder-h2 {
  left: 15px;
  top: 50px;
  height: 10px;
  width: 100px;
}

div.jp-Cell-Placeholder-content-1,
div.jp-Cell-Placeholder-content-2,
div.jp-Cell-Placeholder-content-3 {
  left: 15px;
  right: 15px;
  height: 10px;
}

div.jp-Cell-Placeholder-content-1 {
  top: 100px;
}

div.jp-Cell-Placeholder-content-2 {
  top: 120px;
}

div.jp-Cell-Placeholder-content-3 {
  top: 140px;
}

</style>

    <style type="text/css">
/*-----------------------------------------------------------------------------
| Copyright (c) Jupyter Development Team.
| Distributed under the terms of the Modified BSD License.
|----------------------------------------------------------------------------*/

/*
The following CSS variables define the main, public API for styling JupyterLab.
These variables should be used by all plugins wherever possible. In other
words, plugins should not define custom colors, sizes, etc unless absolutely
necessary. This enables users to change the visual theme of JupyterLab
by changing these variables.

Many variables appear in an ordered sequence (0,1,2,3). These sequences
are designed to work well together, so for example, `--jp-border-color1` should
be used with `--jp-layout-color1`. The numbers have the following meanings:

* 0: super-primary, reserved for special emphasis
* 1: primary, most important under normal situations
* 2: secondary, next most important under normal situations
* 3: tertiary, next most important under normal situations

Throughout JupyterLab, we are mostly following principles from Google's
Material Design when selecting colors. We are not, however, following
all of MD as it is not optimized for dense, information rich UIs.
*/

:root {
  /* Elevation
   *
   * We style box-shadows using Material Design's idea of elevation. These particular numbers are taken from here:
   *
   * https://github.com/material-components/material-components-web
   * https://material-components-web.appspot.com/elevation.html
   */

  --jp-shadow-base-lightness: 0;
  --jp-shadow-umbra-color: rgba(
    var(--jp-shadow-base-lightness),
    var(--jp-shadow-base-lightness),
    var(--jp-shadow-base-lightness),
    0.2
  );
  --jp-shadow-penumbra-color: rgba(
    var(--jp-shadow-base-lightness),
    var(--jp-shadow-base-lightness),
    var(--jp-shadow-base-lightness),
    0.14
  );
  --jp-shadow-ambient-color: rgba(
    var(--jp-shadow-base-lightness),
    var(--jp-shadow-base-lightness),
    var(--jp-shadow-base-lightness),
    0.12
  );
  --jp-elevation-z0: none;
  --jp-elevation-z1: 0px 2px 1px -1px var(--jp-shadow-umbra-color),
    0px 1px 1px 0px var(--jp-shadow-penumbra-color),
    0px 1px 3px 0px var(--jp-shadow-ambient-color);
  --jp-elevation-z2: 0px 3px 1px -2px var(--jp-shadow-umbra-color),
    0px 2px 2px 0px var(--jp-shadow-penumbra-color),
    0px 1px 5px 0px var(--jp-shadow-ambient-color);
  --jp-elevation-z4: 0px 2px 4px -1px var(--jp-shadow-umbra-color),
    0px 4px 5px 0px var(--jp-shadow-penumbra-color),
    0px 1px 10px 0px var(--jp-shadow-ambient-color);
  --jp-elevation-z6: 0px 3px 5px -1px var(--jp-shadow-umbra-color),
    0px 6px 10px 0px var(--jp-shadow-penumbra-color),
    0px 1px 18px 0px var(--jp-shadow-ambient-color);
  --jp-elevation-z8: 0px 5px 5px -3px var(--jp-shadow-umbra-color),
    0px 8px 10px 1px var(--jp-shadow-penumbra-color),
    0px 3px 14px 2px var(--jp-shadow-ambient-color);
  --jp-elevation-z12: 0px 7px 8px -4px var(--jp-shadow-umbra-color),
    0px 12px 17px 2px var(--jp-shadow-penumbra-color),
    0px 5px 22px 4px var(--jp-shadow-ambient-color);
  --jp-elevation-z16: 0px 8px 10px -5px var(--jp-shadow-umbra-color),
    0px 16px 24px 2px var(--jp-shadow-penumbra-color),
    0px 6px 30px 5px var(--jp-shadow-ambient-color);
  --jp-elevation-z20: 0px 10px 13px -6px var(--jp-shadow-umbra-color),
    0px 20px 31px 3px var(--jp-shadow-penumbra-color),
    0px 8px 38px 7px var(--jp-shadow-ambient-color);
  --jp-elevation-z24: 0px 11px 15px -7px var(--jp-shadow-umbra-color),
    0px 24px 38px 3px var(--jp-shadow-penumbra-color),
    0px 9px 46px 8px var(--jp-shadow-ambient-color);

  /* Borders
   *
   * The following variables, specify the visual styling of borders in JupyterLab.
   */

  --jp-border-width: 1px;
  --jp-border-color0: var(--md-grey-400);
  --jp-border-color1: var(--md-grey-400);
  --jp-border-color2: var(--md-grey-300);
  --jp-border-color3: var(--md-grey-200);
  --jp-border-radius: 2px;

  /* UI Fonts
   *
   * The UI font CSS variables are used for the typography all of the JupyterLab
   * user interface elements that are not directly user generated content.
   *
   * The font sizing here is done assuming that the body font size of --jp-ui-font-size1
   * is applied to a parent element. When children elements, such as headings, are sized
   * in em all things will be computed relative to that body size.
   */

  --jp-ui-font-scale-factor: 1.2;
  --jp-ui-font-size0: 0.83333em;
  --jp-ui-font-size1: 13px; /* Base font size */
  --jp-ui-font-size2: 1.2em;
  --jp-ui-font-size3: 1.44em;

  --jp-ui-font-family: -apple-system, BlinkMacSystemFont, 'Segoe UI', Helvetica,
    Arial, sans-serif, 'Apple Color Emoji', 'Segoe UI Emoji', 'Segoe UI Symbol';

  /*
   * Use these font colors against the corresponding main layout colors.
   * In a light theme, these go from dark to light.
   */

  /* Defaults use Material Design specification */
  --jp-ui-font-color0: rgba(0, 0, 0, 1);
  --jp-ui-font-color1: rgba(0, 0, 0, 0.87);
  --jp-ui-font-color2: rgba(0, 0, 0, 0.54);
  --jp-ui-font-color3: rgba(0, 0, 0, 0.38);

  /*
   * Use these against the brand/accent/warn/error colors.
   * These will typically go from light to darker, in both a dark and light theme.
   */

  --jp-ui-inverse-font-color0: rgba(255, 255, 255, 1);
  --jp-ui-inverse-font-color1: rgba(255, 255, 255, 1);
  --jp-ui-inverse-font-color2: rgba(255, 255, 255, 0.7);
  --jp-ui-inverse-font-color3: rgba(255, 255, 255, 0.5);

  /* Content Fonts
   *
   * Content font variables are used for typography of user generated content.
   *
   * The font sizing here is done assuming that the body font size of --jp-content-font-size1
   * is applied to a parent element. When children elements, such as headings, are sized
   * in em all things will be computed relative to that body size.
   */

  --jp-content-line-height: 1.6;
  --jp-content-font-scale-factor: 1.2;
  --jp-content-font-size0: 0.83333em;
  --jp-content-font-size1: 14px; /* Base font size */
  --jp-content-font-size2: 1.2em;
  --jp-content-font-size3: 1.44em;
  --jp-content-font-size4: 1.728em;
  --jp-content-font-size5: 2.0736em;

  /* This gives a magnification of about 125% in presentation mode over normal. */
  --jp-content-presentation-font-size1: 17px;

  --jp-content-heading-line-height: 1;
  --jp-content-heading-margin-top: 1.2em;
  --jp-content-heading-margin-bottom: 0.8em;
  --jp-content-heading-font-weight: 500;

  /* Defaults use Material Design specification */
  --jp-content-font-color0: rgba(0, 0, 0, 1);
  --jp-content-font-color1: rgba(0, 0, 0, 0.87);
  --jp-content-font-color2: rgba(0, 0, 0, 0.54);
  --jp-content-font-color3: rgba(0, 0, 0, 0.38);

  --jp-content-link-color: var(--md-blue-700);

  --jp-content-font-family: -apple-system, BlinkMacSystemFont, 'Segoe UI',
    Helvetica, Arial, sans-serif, 'Apple Color Emoji', 'Segoe UI Emoji',
    'Segoe UI Symbol';

  /*
   * Code Fonts
   *
   * Code font variables are used for typography of code and other monospaces content.
   */

  --jp-code-font-size: 13px;
  --jp-code-line-height: 1.3077; /* 17px for 13px base */
  --jp-code-padding: 5px; /* 5px for 13px base, codemirror highlighting needs integer px value */
  --jp-code-font-family-default: Menlo, Consolas, 'DejaVu Sans Mono', monospace;
  --jp-code-font-family: var(--jp-code-font-family-default);

  /* This gives a magnification of about 125% in presentation mode over normal. */
  --jp-code-presentation-font-size: 16px;

  /* may need to tweak cursor width if you change font size */
  --jp-code-cursor-width0: 1.4px;
  --jp-code-cursor-width1: 2px;
  --jp-code-cursor-width2: 4px;

  /* Layout
   *
   * The following are the main layout colors use in JupyterLab. In a light
   * theme these would go from light to dark.
   */

  --jp-layout-color0: white;
  --jp-layout-color1: white;
  --jp-layout-color2: var(--md-grey-200);
  --jp-layout-color3: var(--md-grey-400);
  --jp-layout-color4: var(--md-grey-600);

  /* Inverse Layout
   *
   * The following are the inverse layout colors use in JupyterLab. In a light
   * theme these would go from dark to light.
   */

  --jp-inverse-layout-color0: #111111;
  --jp-inverse-layout-color1: var(--md-grey-900);
  --jp-inverse-layout-color2: var(--md-grey-800);
  --jp-inverse-layout-color3: var(--md-grey-700);
  --jp-inverse-layout-color4: var(--md-grey-600);

  /* Brand/accent */

  --jp-brand-color0: var(--md-blue-900);
  --jp-brand-color1: var(--md-blue-700);
  --jp-brand-color2: var(--md-blue-300);
  --jp-brand-color3: var(--md-blue-100);
  --jp-brand-color4: var(--md-blue-50);

  --jp-accent-color0: var(--md-green-900);
  --jp-accent-color1: var(--md-green-700);
  --jp-accent-color2: var(--md-green-300);
  --jp-accent-color3: var(--md-green-100);

  /* State colors (warn, error, success, info) */

  --jp-warn-color0: var(--md-orange-900);
  --jp-warn-color1: var(--md-orange-700);
  --jp-warn-color2: var(--md-orange-300);
  --jp-warn-color3: var(--md-orange-100);

  --jp-error-color0: var(--md-red-900);
  --jp-error-color1: var(--md-red-700);
  --jp-error-color2: var(--md-red-300);
  --jp-error-color3: var(--md-red-100);

  --jp-success-color0: var(--md-green-900);
  --jp-success-color1: var(--md-green-700);
  --jp-success-color2: var(--md-green-300);
  --jp-success-color3: var(--md-green-100);

  --jp-info-color0: var(--md-cyan-900);
  --jp-info-color1: var(--md-cyan-700);
  --jp-info-color2: var(--md-cyan-300);
  --jp-info-color3: var(--md-cyan-100);

  /* Cell specific styles */

  --jp-cell-padding: 5px;

  --jp-cell-collapser-width: 8px;
  --jp-cell-collapser-min-height: 20px;
  --jp-cell-collapser-not-active-hover-opacity: 0.6;

  --jp-cell-editor-background: var(--md-grey-100);
  --jp-cell-editor-border-color: var(--md-grey-300);
  --jp-cell-editor-box-shadow: inset 0 0 2px var(--md-blue-300);
  --jp-cell-editor-active-background: var(--jp-layout-color0);
  --jp-cell-editor-active-border-color: var(--jp-brand-color1);

  --jp-cell-prompt-width: 64px;
  --jp-cell-prompt-font-family: var(--jp-code-font-family-default);
  --jp-cell-prompt-letter-spacing: 0px;
  --jp-cell-prompt-opacity: 1;
  --jp-cell-prompt-not-active-opacity: 0.5;
  --jp-cell-prompt-not-active-font-color: var(--md-grey-700);
  /* A custom blend of MD grey and blue 600
   * See https://meyerweb.com/eric/tools/color-blend/#546E7A:1E88E5:5:hex */
  --jp-cell-inprompt-font-color: #307fc1;
  /* A custom blend of MD grey and orange 600
   * https://meyerweb.com/eric/tools/color-blend/#546E7A:F4511E:5:hex */
  --jp-cell-outprompt-font-color: #bf5b3d;

  /* Notebook specific styles */

  --jp-notebook-padding: 10px;
  --jp-notebook-select-background: var(--jp-layout-color1);
  --jp-notebook-multiselected-color: var(--md-blue-50);

  /* The scroll padding is calculated to fill enough space at the bottom of the
  notebook to show one single-line cell (with appropriate padding) at the top
  when the notebook is scrolled all the way to the bottom. We also subtract one
  pixel so that no scrollbar appears if we have just one single-line cell in the
  notebook. This padding is to enable a 'scroll past end' feature in a notebook.
  */
  --jp-notebook-scroll-padding: calc(
    100% - var(--jp-code-font-size) * var(--jp-code-line-height) -
      var(--jp-code-padding) - var(--jp-cell-padding) - 1px
  );

  /* Rendermime styles */

  --jp-rendermime-error-background: #fdd;
  --jp-rendermime-table-row-background: var(--md-grey-100);
  --jp-rendermime-table-row-hover-background: var(--md-light-blue-50);

  /* Dialog specific styles */

  --jp-dialog-background: rgba(0, 0, 0, 0.25);

  /* Console specific styles */

  --jp-console-padding: 10px;

  /* Toolbar specific styles */

  --jp-toolbar-border-color: var(--jp-border-color1);
  --jp-toolbar-micro-height: 8px;
  --jp-toolbar-background: var(--jp-layout-color1);
  --jp-toolbar-box-shadow: 0px 0px 2px 0px rgba(0, 0, 0, 0.24);
  --jp-toolbar-header-margin: 4px 4px 0px 4px;
  --jp-toolbar-active-background: var(--md-grey-300);

  /* Statusbar specific styles */

  --jp-statusbar-height: 24px;

  /* Input field styles */

  --jp-input-box-shadow: inset 0 0 2px var(--md-blue-300);
  --jp-input-active-background: var(--jp-layout-color1);
  --jp-input-hover-background: var(--jp-layout-color1);
  --jp-input-background: var(--md-grey-100);
  --jp-input-border-color: var(--jp-border-color1);
  --jp-input-active-border-color: var(--jp-brand-color1);
  --jp-input-active-box-shadow-color: rgba(19, 124, 189, 0.3);

  /* General editor styles */

  --jp-editor-selected-background: #d9d9d9;
  --jp-editor-selected-focused-background: #d7d4f0;
  --jp-editor-cursor-color: var(--jp-ui-font-color0);

  /* Code mirror specific styles */

  --jp-mirror-editor-keyword-color: #008000;
  --jp-mirror-editor-atom-color: #88f;
  --jp-mirror-editor-number-color: #080;
  --jp-mirror-editor-def-color: #00f;
  --jp-mirror-editor-variable-color: var(--md-grey-900);
  --jp-mirror-editor-variable-2-color: #05a;
  --jp-mirror-editor-variable-3-color: #085;
  --jp-mirror-editor-punctuation-color: #05a;
  --jp-mirror-editor-property-color: #05a;
  --jp-mirror-editor-operator-color: #aa22ff;
  --jp-mirror-editor-comment-color: #408080;
  --jp-mirror-editor-string-color: #ba2121;
  --jp-mirror-editor-string-2-color: #708;
  --jp-mirror-editor-meta-color: #aa22ff;
  --jp-mirror-editor-qualifier-color: #555;
  --jp-mirror-editor-builtin-color: #008000;
  --jp-mirror-editor-bracket-color: #997;
  --jp-mirror-editor-tag-color: #170;
  --jp-mirror-editor-attribute-color: #00c;
  --jp-mirror-editor-header-color: blue;
  --jp-mirror-editor-quote-color: #090;
  --jp-mirror-editor-link-color: #00c;
  --jp-mirror-editor-error-color: #f00;
  --jp-mirror-editor-hr-color: #999;

  /* Vega extension styles */

  --jp-vega-background: white;

  /* Sidebar-related styles */

  --jp-sidebar-min-width: 250px;

  /* Search-related styles */

  --jp-search-toggle-off-opacity: 0.5;
  --jp-search-toggle-hover-opacity: 0.8;
  --jp-search-toggle-on-opacity: 1;
  --jp-search-selected-match-background-color: rgb(245, 200, 0);
  --jp-search-selected-match-color: black;
  --jp-search-unselected-match-background-color: var(
    --jp-inverse-layout-color0
  );
  --jp-search-unselected-match-color: var(--jp-ui-inverse-font-color0);

  /* Icon colors that work well with light or dark backgrounds */
  --jp-icon-contrast-color0: var(--md-purple-600);
  --jp-icon-contrast-color1: var(--md-green-600);
  --jp-icon-contrast-color2: var(--md-pink-600);
  --jp-icon-contrast-color3: var(--md-blue-600);
}
</style>

<style type="text/css">
/* Force rendering true colors when outputing to pdf */
* {
  -webkit-print-color-adjust: exact;
}

/* Misc */
a.anchor-link {
  display: none;
}

.highlight  {
  margin: 0.4em;
}

/* Input area styling */
.jp-InputArea {
  overflow: hidden;
}

.jp-InputArea-editor {
  overflow: hidden;
}

.CodeMirror pre {
  margin: 0;
  padding: 0;
}

/* Using table instead of flexbox so that we can use break-inside property */
/* CSS rules under this comment should not be required anymore after we move to the JupyterLab 4.0 CSS */


.jp-CodeCell.jp-mod-outputsScrolled .jp-OutputArea-prompt {
  min-width: calc(
    var(--jp-cell-prompt-width) - var(--jp-private-cell-scrolling-output-offset)
  );
}

.jp-OutputArea-child {
  display: table;
  width: 100%;
}

.jp-OutputPrompt {
  display: table-cell;
  vertical-align: top;
  min-width: var(--jp-cell-prompt-width);
}

body[data-format='mobile'] .jp-OutputPrompt {
  display: table-row;
}

.jp-OutputArea-output {
  display: table-cell;
  width: 100%;
}

body[data-format='mobile'] .jp-OutputArea-child .jp-OutputArea-output {
  display: table-row;
}

.jp-OutputArea-output.jp-OutputArea-executeResult {
  width: 100%;
}

/* Hiding the collapser by default */
.jp-Collapser {
  display: none;
}

@media print {
  .jp-Cell-inputWrapper,
  .jp-Cell-outputWrapper {
    display: block;
  }

  .jp-OutputArea-child {
    break-inside: avoid-page;
  }
}
</style>

<!-- Load mathjax -->
    <script type="text/javascript" async="" src="./house_price_prediction_files/MathJax.js.download"></script>
    <!-- MathJax configuration -->
    <script type="text/x-mathjax-config;executed=true">
    init_mathjax = function() {
        if (window.MathJax) {
        // MathJax loaded
            MathJax.Hub.Config({
                TeX: {
                    equationNumbers: {
                    autoNumber: "AMS",
                    useLabelIds: true
                    }
                },
                tex2jax: {
                    inlineMath: [ ['$','$'], ["\\(","\\)"] ],
                    displayMath: [ ['$$','$$'], ["\\[","\\]"] ],
                    processEscapes: true,
                    processEnvironments: true
                },
                displayAlign: 'center',
                CommonHTML: {
                    linebreaks: {
                    automatic: true
                    }
                }
            });

            MathJax.Hub.Queue(["Typeset", MathJax.Hub]);
        }
    }
    init_mathjax();
    </script>
    <!-- End of mathjax configuration --><style type="text/css">.MathJax_Hover_Frame {border-radius: .25em; -webkit-border-radius: .25em; -moz-border-radius: .25em; -khtml-border-radius: .25em; box-shadow: 0px 0px 15px #83A; -webkit-box-shadow: 0px 0px 15px #83A; -moz-box-shadow: 0px 0px 15px #83A; -khtml-box-shadow: 0px 0px 15px #83A; border: 1px solid #A6D ! important; display: inline-block; position: absolute}
.MathJax_Menu_Button .MathJax_Hover_Arrow {position: absolute; cursor: pointer; display: inline-block; border: 2px solid #AAA; border-radius: 4px; -webkit-border-radius: 4px; -moz-border-radius: 4px; -khtml-border-radius: 4px; font-family: 'Courier New',Courier; font-size: 9px; color: #F0F0F0}
.MathJax_Menu_Button .MathJax_Hover_Arrow span {display: block; background-color: #AAA; border: 1px solid; border-radius: 3px; line-height: 0; padding: 4px}
.MathJax_Hover_Arrow:hover {color: white!important; border: 2px solid #CCC!important}
.MathJax_Hover_Arrow:hover span {background-color: #CCC!important}
</style><style type="text/css">#MathJax_About {position: fixed; left: 50%; width: auto; text-align: center; border: 3px outset; padding: 1em 2em; background-color: #DDDDDD; color: black; cursor: default; font-family: message-box; font-size: 120%; font-style: normal; text-indent: 0; text-transform: none; line-height: normal; letter-spacing: normal; word-spacing: normal; word-wrap: normal; white-space: nowrap; float: none; z-index: 201; border-radius: 15px; -webkit-border-radius: 15px; -moz-border-radius: 15px; -khtml-border-radius: 15px; box-shadow: 0px 10px 20px #808080; -webkit-box-shadow: 0px 10px 20px #808080; -moz-box-shadow: 0px 10px 20px #808080; -khtml-box-shadow: 0px 10px 20px #808080; filter: progid:DXImageTransform.Microsoft.dropshadow(OffX=2, OffY=2, Color='gray', Positive='true')}
#MathJax_About.MathJax_MousePost {outline: none}
.MathJax_Menu {position: absolute; background-color: white; color: black; width: auto; padding: 2px; border: 1px solid #CCCCCC; margin: 0; cursor: default; font: menu; text-align: left; text-indent: 0; text-transform: none; line-height: normal; letter-spacing: normal; word-spacing: normal; word-wrap: normal; white-space: nowrap; float: none; z-index: 201; box-shadow: 0px 10px 20px #808080; -webkit-box-shadow: 0px 10px 20px #808080; -moz-box-shadow: 0px 10px 20px #808080; -khtml-box-shadow: 0px 10px 20px #808080; filter: progid:DXImageTransform.Microsoft.dropshadow(OffX=2, OffY=2, Color='gray', Positive='true')}
.MathJax_MenuItem {padding: 2px 2em; background: transparent}
.MathJax_MenuArrow {position: absolute; right: .5em; padding-top: .25em; color: #666666; font-size: .75em}
.MathJax_MenuActive .MathJax_MenuArrow {color: white}
.MathJax_MenuArrow.RTL {left: .5em; right: auto}
.MathJax_MenuCheck {position: absolute; left: .7em}
.MathJax_MenuCheck.RTL {right: .7em; left: auto}
.MathJax_MenuRadioCheck {position: absolute; left: 1em}
.MathJax_MenuRadioCheck.RTL {right: 1em; left: auto}
.MathJax_MenuLabel {padding: 2px 2em 4px 1.33em; font-style: italic}
.MathJax_MenuRule {border-top: 1px solid #CCCCCC; margin: 4px 1px 0px}
.MathJax_MenuDisabled {color: GrayText}
.MathJax_MenuActive {background-color: Highlight; color: HighlightText}
.MathJax_MenuDisabled:focus, .MathJax_MenuLabel:focus {background-color: #E8E8E8}
.MathJax_ContextMenu:focus {outline: none}
.MathJax_ContextMenu .MathJax_MenuItem:focus {outline: none}
#MathJax_AboutClose {top: .2em; right: .2em}
.MathJax_Menu .MathJax_MenuClose {top: -10px; left: -10px}
.MathJax_MenuClose {position: absolute; cursor: pointer; display: inline-block; border: 2px solid #AAA; border-radius: 18px; -webkit-border-radius: 18px; -moz-border-radius: 18px; -khtml-border-radius: 18px; font-family: 'Courier New',Courier; font-size: 24px; color: #F0F0F0}
.MathJax_MenuClose span {display: block; background-color: #AAA; border: 1.5px solid; border-radius: 18px; -webkit-border-radius: 18px; -moz-border-radius: 18px; -khtml-border-radius: 18px; line-height: 0; padding: 8px 0 6px}
.MathJax_MenuClose:hover {color: white!important; border: 2px solid #CCC!important}
.MathJax_MenuClose:hover span {background-color: #CCC!important}
.MathJax_MenuClose:hover:focus {outline: none}
</style><style type="text/css">.MathJax_Preview .MJXf-math {color: inherit!important}
</style><style type="text/css">.MJX_Assistive_MathML {position: absolute!important; top: 0; left: 0; clip: rect(1px, 1px, 1px, 1px); padding: 1px 0 0 0!important; border: 0!important; height: 1px!important; width: 1px!important; overflow: hidden!important; display: block!important; -webkit-touch-callout: none; -webkit-user-select: none; -khtml-user-select: none; -moz-user-select: none; -ms-user-select: none; user-select: none}
.MJX_Assistive_MathML.MJX_Assistive_MathML_Block {width: 100%!important}
</style><style type="text/css">#MathJax_Zoom {position: absolute; background-color: #F0F0F0; overflow: auto; display: block; z-index: 301; padding: .5em; border: 1px solid black; margin: 0; font-weight: normal; font-style: normal; text-align: left; text-indent: 0; text-transform: none; line-height: normal; letter-spacing: normal; word-spacing: normal; word-wrap: normal; white-space: nowrap; float: none; -webkit-box-sizing: content-box; -moz-box-sizing: content-box; box-sizing: content-box; box-shadow: 5px 5px 15px #AAAAAA; -webkit-box-shadow: 5px 5px 15px #AAAAAA; -moz-box-shadow: 5px 5px 15px #AAAAAA; -khtml-box-shadow: 5px 5px 15px #AAAAAA; filter: progid:DXImageTransform.Microsoft.dropshadow(OffX=2, OffY=2, Color='gray', Positive='true')}
#MathJax_ZoomOverlay {position: absolute; left: 0; top: 0; z-index: 300; display: inline-block; width: 100%; height: 100%; border: 0; padding: 0; margin: 0; background-color: white; opacity: 0; filter: alpha(opacity=0)}
#MathJax_ZoomFrame {position: relative; display: inline-block; height: 0; width: 0}
#MathJax_ZoomEventTrap {position: absolute; left: 0; top: 0; z-index: 302; display: inline-block; border: 0; padding: 0; margin: 0; background-color: white; opacity: 0; filter: alpha(opacity=0)}
</style><style type="text/css">.MathJax_Preview {color: #888}
#MathJax_Message {position: fixed; left: 1em; bottom: 1.5em; background-color: #E6E6E6; border: 1px solid #959595; margin: 0px; padding: 2px 8px; z-index: 102; color: black; font-size: 80%; width: auto; white-space: nowrap}
#MathJax_MSIE_Frame {position: absolute; top: 0; left: 0; width: 0px; z-index: 101; border: 0px; margin: 0px; padding: 0px}
.MathJax_Error {color: #CC0000; font-style: italic}
</style><style type="text/css">.MJXp-script {font-size: .8em}
.MJXp-right {-webkit-transform-origin: right; -moz-transform-origin: right; -ms-transform-origin: right; -o-transform-origin: right; transform-origin: right}
.MJXp-bold {font-weight: bold}
.MJXp-italic {font-style: italic}
.MJXp-scr {font-family: MathJax_Script,'Times New Roman',Times,STIXGeneral,serif}
.MJXp-frak {font-family: MathJax_Fraktur,'Times New Roman',Times,STIXGeneral,serif}
.MJXp-sf {font-family: MathJax_SansSerif,'Times New Roman',Times,STIXGeneral,serif}
.MJXp-cal {font-family: MathJax_Caligraphic,'Times New Roman',Times,STIXGeneral,serif}
.MJXp-mono {font-family: MathJax_Typewriter,'Times New Roman',Times,STIXGeneral,serif}
.MJXp-largeop {font-size: 150%}
.MJXp-largeop.MJXp-int {vertical-align: -.2em}
.MJXp-math {display: inline-block; line-height: 1.2; text-indent: 0; font-family: 'Times New Roman',Times,STIXGeneral,serif; white-space: nowrap; border-collapse: collapse}
.MJXp-display {display: block; text-align: center; margin: 1em 0}
.MJXp-math span {display: inline-block}
.MJXp-box {display: block!important; text-align: center}
.MJXp-box:after {content: " "}
.MJXp-rule {display: block!important; margin-top: .1em}
.MJXp-char {display: block!important}
.MJXp-mo {margin: 0 .15em}
.MJXp-mfrac {margin: 0 .125em; vertical-align: .25em}
.MJXp-denom {display: inline-table!important; width: 100%}
.MJXp-denom > * {display: table-row!important}
.MJXp-surd {vertical-align: top}
.MJXp-surd > * {display: block!important}
.MJXp-script-box > *  {display: table!important; height: 50%}
.MJXp-script-box > * > * {display: table-cell!important; vertical-align: top}
.MJXp-script-box > *:last-child > * {vertical-align: bottom}
.MJXp-script-box > * > * > * {display: block!important}
.MJXp-mphantom {visibility: hidden}
.MJXp-munderover, .MJXp-munder {display: inline-table!important}
.MJXp-over {display: inline-block!important; text-align: center}
.MJXp-over > * {display: block!important}
.MJXp-munderover > *, .MJXp-munder > * {display: table-row!important}
.MJXp-mtable {vertical-align: .25em; margin: 0 .125em}
.MJXp-mtable > * {display: inline-table!important; vertical-align: middle}
.MJXp-mtr {display: table-row!important}
.MJXp-mtd {display: table-cell!important; text-align: center; padding: .5em 0 0 .5em}
.MJXp-mtr > .MJXp-mtd:first-child {padding-left: 0}
.MJXp-mtr:first-child > .MJXp-mtd {padding-top: 0}
.MJXp-mlabeledtr {display: table-row!important}
.MJXp-mlabeledtr > .MJXp-mtd:first-child {padding-left: 0}
.MJXp-mlabeledtr:first-child > .MJXp-mtd {padding-top: 0}
.MJXp-merror {background-color: #FFFF88; color: #CC0000; border: 1px solid #CC0000; padding: 1px 3px; font-style: normal; font-size: 90%}
.MJXp-scale0 {-webkit-transform: scaleX(.0); -moz-transform: scaleX(.0); -ms-transform: scaleX(.0); -o-transform: scaleX(.0); transform: scaleX(.0)}
.MJXp-scale1 {-webkit-transform: scaleX(.1); -moz-transform: scaleX(.1); -ms-transform: scaleX(.1); -o-transform: scaleX(.1); transform: scaleX(.1)}
.MJXp-scale2 {-webkit-transform: scaleX(.2); -moz-transform: scaleX(.2); -ms-transform: scaleX(.2); -o-transform: scaleX(.2); transform: scaleX(.2)}
.MJXp-scale3 {-webkit-transform: scaleX(.3); -moz-transform: scaleX(.3); -ms-transform: scaleX(.3); -o-transform: scaleX(.3); transform: scaleX(.3)}
.MJXp-scale4 {-webkit-transform: scaleX(.4); -moz-transform: scaleX(.4); -ms-transform: scaleX(.4); -o-transform: scaleX(.4); transform: scaleX(.4)}
.MJXp-scale5 {-webkit-transform: scaleX(.5); -moz-transform: scaleX(.5); -ms-transform: scaleX(.5); -o-transform: scaleX(.5); transform: scaleX(.5)}
.MJXp-scale6 {-webkit-transform: scaleX(.6); -moz-transform: scaleX(.6); -ms-transform: scaleX(.6); -o-transform: scaleX(.6); transform: scaleX(.6)}
.MJXp-scale7 {-webkit-transform: scaleX(.7); -moz-transform: scaleX(.7); -ms-transform: scaleX(.7); -o-transform: scaleX(.7); transform: scaleX(.7)}
.MJXp-scale8 {-webkit-transform: scaleX(.8); -moz-transform: scaleX(.8); -ms-transform: scaleX(.8); -o-transform: scaleX(.8); transform: scaleX(.8)}
.MJXp-scale9 {-webkit-transform: scaleX(.9); -moz-transform: scaleX(.9); -ms-transform: scaleX(.9); -o-transform: scaleX(.9); transform: scaleX(.9)}
.MathJax_PHTML .noError {vertical-align: ; font-size: 90%; text-align: left; color: black; padding: 1px 3px; border: 1px solid}
</style><style type="text/css">.mjx-chtml {display: inline-block; line-height: 0; text-indent: 0; text-align: left; text-transform: none; font-style: normal; font-weight: normal; font-size: 100%; font-size-adjust: none; letter-spacing: normal; word-wrap: normal; word-spacing: normal; white-space: nowrap; float: none; direction: ltr; max-width: none; max-height: none; min-width: 0; min-height: 0; border: 0; margin: 0; padding: 1px 0}
.MJXc-display {display: block; text-align: center; margin: 1em 0; padding: 0}
.mjx-chtml[tabindex]:focus, body :focus .mjx-chtml[tabindex] {display: inline-table}
.mjx-full-width {text-align: center; display: table-cell!important; width: 10000em}
.mjx-math {display: inline-block; border-collapse: separate; border-spacing: 0}
.mjx-math * {display: inline-block; -webkit-box-sizing: content-box!important; -moz-box-sizing: content-box!important; box-sizing: content-box!important; text-align: left}
.mjx-numerator {display: block; text-align: center}
.mjx-denominator {display: block; text-align: center}
.MJXc-stacked {height: 0; position: relative}
.MJXc-stacked > * {position: absolute}
.MJXc-bevelled > * {display: inline-block}
.mjx-stack {display: inline-block}
.mjx-op {display: block}
.mjx-under {display: table-cell}
.mjx-over {display: block}
.mjx-over > * {padding-left: 0px!important; padding-right: 0px!important}
.mjx-under > * {padding-left: 0px!important; padding-right: 0px!important}
.mjx-stack > .mjx-sup {display: block}
.mjx-stack > .mjx-sub {display: block}
.mjx-prestack > .mjx-presup {display: block}
.mjx-prestack > .mjx-presub {display: block}
.mjx-delim-h > .mjx-char {display: inline-block}
.mjx-surd {vertical-align: top}
.mjx-mphantom * {visibility: hidden}
.mjx-merror {background-color: #FFFF88; color: #CC0000; border: 1px solid #CC0000; padding: 2px 3px; font-style: normal; font-size: 90%}
.mjx-annotation-xml {line-height: normal}
.mjx-menclose > svg {fill: none; stroke: currentColor}
.mjx-mtr {display: table-row}
.mjx-mlabeledtr {display: table-row}
.mjx-mtd {display: table-cell; text-align: center}
.mjx-label {display: table-row}
.mjx-box {display: inline-block}
.mjx-block {display: block}
.mjx-span {display: inline}
.mjx-char {display: block; white-space: pre}
.mjx-itable {display: inline-table; width: auto}
.mjx-row {display: table-row}
.mjx-cell {display: table-cell}
.mjx-table {display: table; width: 100%}
.mjx-line {display: block; height: 0}
.mjx-strut {width: 0; padding-top: 1em}
.mjx-vsize {width: 0}
.MJXc-space1 {margin-left: .167em}
.MJXc-space2 {margin-left: .222em}
.MJXc-space3 {margin-left: .278em}
.mjx-chartest {display: block; visibility: hidden; position: absolute; top: 0; line-height: normal; font-size: 500%}
.mjx-chartest .mjx-char {display: inline}
.mjx-chartest .mjx-box {padding-top: 1000px}
.MJXc-processing {visibility: hidden; position: fixed; width: 0; height: 0; overflow: hidden}
.MJXc-processed {display: none}
.mjx-test {font-style: normal; font-weight: normal; font-size: 100%; font-size-adjust: none; text-indent: 0; text-transform: none; letter-spacing: normal; word-spacing: normal; overflow: hidden; height: 1px}
.mjx-test.mjx-test-display {display: table!important}
.mjx-test.mjx-test-inline {display: inline!important; margin-right: -1px}
.mjx-test.mjx-test-default {display: block!important; clear: both}
.mjx-ex-box {display: inline-block!important; position: absolute; overflow: hidden; min-height: 0; max-height: none; padding: 0; border: 0; margin: 0; width: 1px; height: 60ex}
.mjx-test-inline .mjx-left-box {display: inline-block; width: 0; float: left}
.mjx-test-inline .mjx-right-box {display: inline-block; width: 0; float: right}
.mjx-test-display .mjx-right-box {display: table-cell!important; width: 10000em!important; min-width: 0; max-width: none; padding: 0; border: 0; margin: 0}
#MathJax_CHTML_Tooltip {background-color: InfoBackground; color: InfoText; border: 1px solid black; box-shadow: 2px 2px 5px #AAAAAA; -webkit-box-shadow: 2px 2px 5px #AAAAAA; -moz-box-shadow: 2px 2px 5px #AAAAAA; -khtml-box-shadow: 2px 2px 5px #AAAAAA; padding: 3px 4px; z-index: 401; position: absolute; left: 0; top: 0; width: auto; height: auto; display: none}
.mjx-chtml .mjx-noError {line-height: 1.2; vertical-align: ; font-size: 90%; text-align: left; color: black; padding: 1px 3px; border: 1px solid}
.MJXc-TeX-unknown-R {font-family: STIXGeneral,'Cambria Math','Arial Unicode MS',serif; font-style: normal; font-weight: normal}
.MJXc-TeX-unknown-I {font-family: STIXGeneral,'Cambria Math','Arial Unicode MS',serif; font-style: italic; font-weight: normal}
.MJXc-TeX-unknown-B {font-family: STIXGeneral,'Cambria Math','Arial Unicode MS',serif; font-style: normal; font-weight: bold}
.MJXc-TeX-unknown-BI {font-family: STIXGeneral,'Cambria Math','Arial Unicode MS',serif; font-style: italic; font-weight: bold}
.MJXc-TeX-ams-R {font-family: MJXc-TeX-ams-R,MJXc-TeX-ams-Rw}
.MJXc-TeX-cal-B {font-family: MJXc-TeX-cal-B,MJXc-TeX-cal-Bx,MJXc-TeX-cal-Bw}
.MJXc-TeX-frak-R {font-family: MJXc-TeX-frak-R,MJXc-TeX-frak-Rw}
.MJXc-TeX-frak-B {font-family: MJXc-TeX-frak-B,MJXc-TeX-frak-Bx,MJXc-TeX-frak-Bw}
.MJXc-TeX-math-BI {font-family: MJXc-TeX-math-BI,MJXc-TeX-math-BIx,MJXc-TeX-math-BIw}
.MJXc-TeX-sans-R {font-family: MJXc-TeX-sans-R,MJXc-TeX-sans-Rw}
.MJXc-TeX-sans-B {font-family: MJXc-TeX-sans-B,MJXc-TeX-sans-Bx,MJXc-TeX-sans-Bw}
.MJXc-TeX-sans-I {font-family: MJXc-TeX-sans-I,MJXc-TeX-sans-Ix,MJXc-TeX-sans-Iw}
.MJXc-TeX-script-R {font-family: MJXc-TeX-script-R,MJXc-TeX-script-Rw}
.MJXc-TeX-type-R {font-family: MJXc-TeX-type-R,MJXc-TeX-type-Rw}
.MJXc-TeX-cal-R {font-family: MJXc-TeX-cal-R,MJXc-TeX-cal-Rw}
.MJXc-TeX-main-B {font-family: MJXc-TeX-main-B,MJXc-TeX-main-Bx,MJXc-TeX-main-Bw}
.MJXc-TeX-main-I {font-family: MJXc-TeX-main-I,MJXc-TeX-main-Ix,MJXc-TeX-main-Iw}
.MJXc-TeX-main-R {font-family: MJXc-TeX-main-R,MJXc-TeX-main-Rw}
.MJXc-TeX-math-I {font-family: MJXc-TeX-math-I,MJXc-TeX-math-Ix,MJXc-TeX-math-Iw}
.MJXc-TeX-size1-R {font-family: MJXc-TeX-size1-R,MJXc-TeX-size1-Rw}
.MJXc-TeX-size2-R {font-family: MJXc-TeX-size2-R,MJXc-TeX-size2-Rw}
.MJXc-TeX-size3-R {font-family: MJXc-TeX-size3-R,MJXc-TeX-size3-Rw}
.MJXc-TeX-size4-R {font-family: MJXc-TeX-size4-R,MJXc-TeX-size4-Rw}
.MJXc-TeX-vec-R {font-family: MJXc-TeX-vec-R,MJXc-TeX-vec-Rw}
.MJXc-TeX-vec-B {font-family: MJXc-TeX-vec-B,MJXc-TeX-vec-Bx,MJXc-TeX-vec-Bw}
@font-face {font-family: MJXc-TeX-ams-R; src: local('MathJax_AMS'), local('MathJax_AMS-Regular')}
@font-face {font-family: MJXc-TeX-ams-Rw; src /*1*/: url('https://cdnjs.cloudflare.com/ajax/libs/mathjax/2.7.7/fonts/HTML-CSS/TeX/eot/MathJax_AMS-Regular.eot'); src /*2*/: url('https://cdnjs.cloudflare.com/ajax/libs/mathjax/2.7.7/fonts/HTML-CSS/TeX/woff/MathJax_AMS-Regular.woff') format('woff'), url('https://cdnjs.cloudflare.com/ajax/libs/mathjax/2.7.7/fonts/HTML-CSS/TeX/otf/MathJax_AMS-Regular.otf') format('opentype')}
@font-face {font-family: MJXc-TeX-cal-B; src: local('MathJax_Caligraphic Bold'), local('MathJax_Caligraphic-Bold')}
@font-face {font-family: MJXc-TeX-cal-Bx; src: local('MathJax_Caligraphic'); font-weight: bold}
@font-face {font-family: MJXc-TeX-cal-Bw; src /*1*/: url('https://cdnjs.cloudflare.com/ajax/libs/mathjax/2.7.7/fonts/HTML-CSS/TeX/eot/MathJax_Caligraphic-Bold.eot'); src /*2*/: url('https://cdnjs.cloudflare.com/ajax/libs/mathjax/2.7.7/fonts/HTML-CSS/TeX/woff/MathJax_Caligraphic-Bold.woff') format('woff'), url('https://cdnjs.cloudflare.com/ajax/libs/mathjax/2.7.7/fonts/HTML-CSS/TeX/otf/MathJax_Caligraphic-Bold.otf') format('opentype')}
@font-face {font-family: MJXc-TeX-frak-R; src: local('MathJax_Fraktur'), local('MathJax_Fraktur-Regular')}
@font-face {font-family: MJXc-TeX-frak-Rw; src /*1*/: url('https://cdnjs.cloudflare.com/ajax/libs/mathjax/2.7.7/fonts/HTML-CSS/TeX/eot/MathJax_Fraktur-Regular.eot'); src /*2*/: url('https://cdnjs.cloudflare.com/ajax/libs/mathjax/2.7.7/fonts/HTML-CSS/TeX/woff/MathJax_Fraktur-Regular.woff') format('woff'), url('https://cdnjs.cloudflare.com/ajax/libs/mathjax/2.7.7/fonts/HTML-CSS/TeX/otf/MathJax_Fraktur-Regular.otf') format('opentype')}
@font-face {font-family: MJXc-TeX-frak-B; src: local('MathJax_Fraktur Bold'), local('MathJax_Fraktur-Bold')}
@font-face {font-family: MJXc-TeX-frak-Bx; src: local('MathJax_Fraktur'); font-weight: bold}
@font-face {font-family: MJXc-TeX-frak-Bw; src /*1*/: url('https://cdnjs.cloudflare.com/ajax/libs/mathjax/2.7.7/fonts/HTML-CSS/TeX/eot/MathJax_Fraktur-Bold.eot'); src /*2*/: url('https://cdnjs.cloudflare.com/ajax/libs/mathjax/2.7.7/fonts/HTML-CSS/TeX/woff/MathJax_Fraktur-Bold.woff') format('woff'), url('https://cdnjs.cloudflare.com/ajax/libs/mathjax/2.7.7/fonts/HTML-CSS/TeX/otf/MathJax_Fraktur-Bold.otf') format('opentype')}
@font-face {font-family: MJXc-TeX-math-BI; src: local('MathJax_Math BoldItalic'), local('MathJax_Math-BoldItalic')}
@font-face {font-family: MJXc-TeX-math-BIx; src: local('MathJax_Math'); font-weight: bold; font-style: italic}
@font-face {font-family: MJXc-TeX-math-BIw; src /*1*/: url('https://cdnjs.cloudflare.com/ajax/libs/mathjax/2.7.7/fonts/HTML-CSS/TeX/eot/MathJax_Math-BoldItalic.eot'); src /*2*/: url('https://cdnjs.cloudflare.com/ajax/libs/mathjax/2.7.7/fonts/HTML-CSS/TeX/woff/MathJax_Math-BoldItalic.woff') format('woff'), url('https://cdnjs.cloudflare.com/ajax/libs/mathjax/2.7.7/fonts/HTML-CSS/TeX/otf/MathJax_Math-BoldItalic.otf') format('opentype')}
@font-face {font-family: MJXc-TeX-sans-R; src: local('MathJax_SansSerif'), local('MathJax_SansSerif-Regular')}
@font-face {font-family: MJXc-TeX-sans-Rw; src /*1*/: url('https://cdnjs.cloudflare.com/ajax/libs/mathjax/2.7.7/fonts/HTML-CSS/TeX/eot/MathJax_SansSerif-Regular.eot'); src /*2*/: url('https://cdnjs.cloudflare.com/ajax/libs/mathjax/2.7.7/fonts/HTML-CSS/TeX/woff/MathJax_SansSerif-Regular.woff') format('woff'), url('https://cdnjs.cloudflare.com/ajax/libs/mathjax/2.7.7/fonts/HTML-CSS/TeX/otf/MathJax_SansSerif-Regular.otf') format('opentype')}
@font-face {font-family: MJXc-TeX-sans-B; src: local('MathJax_SansSerif Bold'), local('MathJax_SansSerif-Bold')}
@font-face {font-family: MJXc-TeX-sans-Bx; src: local('MathJax_SansSerif'); font-weight: bold}
@font-face {font-family: MJXc-TeX-sans-Bw; src /*1*/: url('https://cdnjs.cloudflare.com/ajax/libs/mathjax/2.7.7/fonts/HTML-CSS/TeX/eot/MathJax_SansSerif-Bold.eot'); src /*2*/: url('https://cdnjs.cloudflare.com/ajax/libs/mathjax/2.7.7/fonts/HTML-CSS/TeX/woff/MathJax_SansSerif-Bold.woff') format('woff'), url('https://cdnjs.cloudflare.com/ajax/libs/mathjax/2.7.7/fonts/HTML-CSS/TeX/otf/MathJax_SansSerif-Bold.otf') format('opentype')}
@font-face {font-family: MJXc-TeX-sans-I; src: local('MathJax_SansSerif Italic'), local('MathJax_SansSerif-Italic')}
@font-face {font-family: MJXc-TeX-sans-Ix; src: local('MathJax_SansSerif'); font-style: italic}
@font-face {font-family: MJXc-TeX-sans-Iw; src /*1*/: url('https://cdnjs.cloudflare.com/ajax/libs/mathjax/2.7.7/fonts/HTML-CSS/TeX/eot/MathJax_SansSerif-Italic.eot'); src /*2*/: url('https://cdnjs.cloudflare.com/ajax/libs/mathjax/2.7.7/fonts/HTML-CSS/TeX/woff/MathJax_SansSerif-Italic.woff') format('woff'), url('https://cdnjs.cloudflare.com/ajax/libs/mathjax/2.7.7/fonts/HTML-CSS/TeX/otf/MathJax_SansSerif-Italic.otf') format('opentype')}
@font-face {font-family: MJXc-TeX-script-R; src: local('MathJax_Script'), local('MathJax_Script-Regular')}
@font-face {font-family: MJXc-TeX-script-Rw; src /*1*/: url('https://cdnjs.cloudflare.com/ajax/libs/mathjax/2.7.7/fonts/HTML-CSS/TeX/eot/MathJax_Script-Regular.eot'); src /*2*/: url('https://cdnjs.cloudflare.com/ajax/libs/mathjax/2.7.7/fonts/HTML-CSS/TeX/woff/MathJax_Script-Regular.woff') format('woff'), url('https://cdnjs.cloudflare.com/ajax/libs/mathjax/2.7.7/fonts/HTML-CSS/TeX/otf/MathJax_Script-Regular.otf') format('opentype')}
@font-face {font-family: MJXc-TeX-type-R; src: local('MathJax_Typewriter'), local('MathJax_Typewriter-Regular')}
@font-face {font-family: MJXc-TeX-type-Rw; src /*1*/: url('https://cdnjs.cloudflare.com/ajax/libs/mathjax/2.7.7/fonts/HTML-CSS/TeX/eot/MathJax_Typewriter-Regular.eot'); src /*2*/: url('https://cdnjs.cloudflare.com/ajax/libs/mathjax/2.7.7/fonts/HTML-CSS/TeX/woff/MathJax_Typewriter-Regular.woff') format('woff'), url('https://cdnjs.cloudflare.com/ajax/libs/mathjax/2.7.7/fonts/HTML-CSS/TeX/otf/MathJax_Typewriter-Regular.otf') format('opentype')}
@font-face {font-family: MJXc-TeX-cal-R; src: local('MathJax_Caligraphic'), local('MathJax_Caligraphic-Regular')}
@font-face {font-family: MJXc-TeX-cal-Rw; src /*1*/: url('https://cdnjs.cloudflare.com/ajax/libs/mathjax/2.7.7/fonts/HTML-CSS/TeX/eot/MathJax_Caligraphic-Regular.eot'); src /*2*/: url('https://cdnjs.cloudflare.com/ajax/libs/mathjax/2.7.7/fonts/HTML-CSS/TeX/woff/MathJax_Caligraphic-Regular.woff') format('woff'), url('https://cdnjs.cloudflare.com/ajax/libs/mathjax/2.7.7/fonts/HTML-CSS/TeX/otf/MathJax_Caligraphic-Regular.otf') format('opentype')}
@font-face {font-family: MJXc-TeX-main-B; src: local('MathJax_Main Bold'), local('MathJax_Main-Bold')}
@font-face {font-family: MJXc-TeX-main-Bx; src: local('MathJax_Main'); font-weight: bold}
@font-face {font-family: MJXc-TeX-main-Bw; src /*1*/: url('https://cdnjs.cloudflare.com/ajax/libs/mathjax/2.7.7/fonts/HTML-CSS/TeX/eot/MathJax_Main-Bold.eot'); src /*2*/: url('https://cdnjs.cloudflare.com/ajax/libs/mathjax/2.7.7/fonts/HTML-CSS/TeX/woff/MathJax_Main-Bold.woff') format('woff'), url('https://cdnjs.cloudflare.com/ajax/libs/mathjax/2.7.7/fonts/HTML-CSS/TeX/otf/MathJax_Main-Bold.otf') format('opentype')}
@font-face {font-family: MJXc-TeX-main-I; src: local('MathJax_Main Italic'), local('MathJax_Main-Italic')}
@font-face {font-family: MJXc-TeX-main-Ix; src: local('MathJax_Main'); font-style: italic}
@font-face {font-family: MJXc-TeX-main-Iw; src /*1*/: url('https://cdnjs.cloudflare.com/ajax/libs/mathjax/2.7.7/fonts/HTML-CSS/TeX/eot/MathJax_Main-Italic.eot'); src /*2*/: url('https://cdnjs.cloudflare.com/ajax/libs/mathjax/2.7.7/fonts/HTML-CSS/TeX/woff/MathJax_Main-Italic.woff') format('woff'), url('https://cdnjs.cloudflare.com/ajax/libs/mathjax/2.7.7/fonts/HTML-CSS/TeX/otf/MathJax_Main-Italic.otf') format('opentype')}
@font-face {font-family: MJXc-TeX-main-R; src: local('MathJax_Main'), local('MathJax_Main-Regular')}
@font-face {font-family: MJXc-TeX-main-Rw; src /*1*/: url('https://cdnjs.cloudflare.com/ajax/libs/mathjax/2.7.7/fonts/HTML-CSS/TeX/eot/MathJax_Main-Regular.eot'); src /*2*/: url('https://cdnjs.cloudflare.com/ajax/libs/mathjax/2.7.7/fonts/HTML-CSS/TeX/woff/MathJax_Main-Regular.woff') format('woff'), url('https://cdnjs.cloudflare.com/ajax/libs/mathjax/2.7.7/fonts/HTML-CSS/TeX/otf/MathJax_Main-Regular.otf') format('opentype')}
@font-face {font-family: MJXc-TeX-math-I; src: local('MathJax_Math Italic'), local('MathJax_Math-Italic')}
@font-face {font-family: MJXc-TeX-math-Ix; src: local('MathJax_Math'); font-style: italic}
@font-face {font-family: MJXc-TeX-math-Iw; src /*1*/: url('https://cdnjs.cloudflare.com/ajax/libs/mathjax/2.7.7/fonts/HTML-CSS/TeX/eot/MathJax_Math-Italic.eot'); src /*2*/: url('https://cdnjs.cloudflare.com/ajax/libs/mathjax/2.7.7/fonts/HTML-CSS/TeX/woff/MathJax_Math-Italic.woff') format('woff'), url('https://cdnjs.cloudflare.com/ajax/libs/mathjax/2.7.7/fonts/HTML-CSS/TeX/otf/MathJax_Math-Italic.otf') format('opentype')}
@font-face {font-family: MJXc-TeX-size1-R; src: local('MathJax_Size1'), local('MathJax_Size1-Regular')}
@font-face {font-family: MJXc-TeX-size1-Rw; src /*1*/: url('https://cdnjs.cloudflare.com/ajax/libs/mathjax/2.7.7/fonts/HTML-CSS/TeX/eot/MathJax_Size1-Regular.eot'); src /*2*/: url('https://cdnjs.cloudflare.com/ajax/libs/mathjax/2.7.7/fonts/HTML-CSS/TeX/woff/MathJax_Size1-Regular.woff') format('woff'), url('https://cdnjs.cloudflare.com/ajax/libs/mathjax/2.7.7/fonts/HTML-CSS/TeX/otf/MathJax_Size1-Regular.otf') format('opentype')}
@font-face {font-family: MJXc-TeX-size2-R; src: local('MathJax_Size2'), local('MathJax_Size2-Regular')}
@font-face {font-family: MJXc-TeX-size2-Rw; src /*1*/: url('https://cdnjs.cloudflare.com/ajax/libs/mathjax/2.7.7/fonts/HTML-CSS/TeX/eot/MathJax_Size2-Regular.eot'); src /*2*/: url('https://cdnjs.cloudflare.com/ajax/libs/mathjax/2.7.7/fonts/HTML-CSS/TeX/woff/MathJax_Size2-Regular.woff') format('woff'), url('https://cdnjs.cloudflare.com/ajax/libs/mathjax/2.7.7/fonts/HTML-CSS/TeX/otf/MathJax_Size2-Regular.otf') format('opentype')}
@font-face {font-family: MJXc-TeX-size3-R; src: local('MathJax_Size3'), local('MathJax_Size3-Regular')}
@font-face {font-family: MJXc-TeX-size3-Rw; src /*1*/: url('https://cdnjs.cloudflare.com/ajax/libs/mathjax/2.7.7/fonts/HTML-CSS/TeX/eot/MathJax_Size3-Regular.eot'); src /*2*/: url('https://cdnjs.cloudflare.com/ajax/libs/mathjax/2.7.7/fonts/HTML-CSS/TeX/woff/MathJax_Size3-Regular.woff') format('woff'), url('https://cdnjs.cloudflare.com/ajax/libs/mathjax/2.7.7/fonts/HTML-CSS/TeX/otf/MathJax_Size3-Regular.otf') format('opentype')}
@font-face {font-family: MJXc-TeX-size4-R; src: local('MathJax_Size4'), local('MathJax_Size4-Regular')}
@font-face {font-family: MJXc-TeX-size4-Rw; src /*1*/: url('https://cdnjs.cloudflare.com/ajax/libs/mathjax/2.7.7/fonts/HTML-CSS/TeX/eot/MathJax_Size4-Regular.eot'); src /*2*/: url('https://cdnjs.cloudflare.com/ajax/libs/mathjax/2.7.7/fonts/HTML-CSS/TeX/woff/MathJax_Size4-Regular.woff') format('woff'), url('https://cdnjs.cloudflare.com/ajax/libs/mathjax/2.7.7/fonts/HTML-CSS/TeX/otf/MathJax_Size4-Regular.otf') format('opentype')}
@font-face {font-family: MJXc-TeX-vec-R; src: local('MathJax_Vector'), local('MathJax_Vector-Regular')}
@font-face {font-family: MJXc-TeX-vec-Rw; src /*1*/: url('https://cdnjs.cloudflare.com/ajax/libs/mathjax/2.7.7/fonts/HTML-CSS/TeX/eot/MathJax_Vector-Regular.eot'); src /*2*/: url('https://cdnjs.cloudflare.com/ajax/libs/mathjax/2.7.7/fonts/HTML-CSS/TeX/woff/MathJax_Vector-Regular.woff') format('woff'), url('https://cdnjs.cloudflare.com/ajax/libs/mathjax/2.7.7/fonts/HTML-CSS/TeX/otf/MathJax_Vector-Regular.otf') format('opentype')}
@font-face {font-family: MJXc-TeX-vec-B; src: local('MathJax_Vector Bold'), local('MathJax_Vector-Bold')}
@font-face {font-family: MJXc-TeX-vec-Bx; src: local('MathJax_Vector'); font-weight: bold}
@font-face {font-family: MJXc-TeX-vec-Bw; src /*1*/: url('https://cdnjs.cloudflare.com/ajax/libs/mathjax/2.7.7/fonts/HTML-CSS/TeX/eot/MathJax_Vector-Bold.eot'); src /*2*/: url('https://cdnjs.cloudflare.com/ajax/libs/mathjax/2.7.7/fonts/HTML-CSS/TeX/woff/MathJax_Vector-Bold.woff') format('woff'), url('https://cdnjs.cloudflare.com/ajax/libs/mathjax/2.7.7/fonts/HTML-CSS/TeX/otf/MathJax_Vector-Bold.otf') format('opentype')}
</style></head>
<body class="jp-Notebook" data-jp-theme-light="true" data-jp-theme-name="JupyterLab Light"><div id="MathJax_Message" style="display: none;"></div>
<div class="jp-Cell jp-CodeCell jp-Notebook-cell jp-mod-noOutputs  ">
<div class="jp-Cell-inputWrapper">
<div class="jp-Collapser jp-InputCollapser jp-Cell-inputCollapser">
</div>
<div class="jp-InputArea jp-Cell-inputArea">
<div class="jp-InputPrompt jp-InputArea-prompt">In&nbsp;[1]:</div>
<div class="jp-CodeMirrorEditor jp-Editor jp-InputArea-editor" data-type="inline">
     <div class="CodeMirror cm-s-jupyter">
<div class=" highlight hl-ipython3"><pre><span></span><span class="kn">import</span> <span class="nn">pandas</span> <span class="k">as</span> <span class="nn">pd</span>
<span class="kn">import</span> <span class="nn">numpy</span> <span class="k">as</span> <span class="nn">np</span>
<span class="kn">import</span> <span class="nn">matplotlib.pyplot</span> <span class="k">as</span> <span class="nn">plt</span>
<span class="kn">import</span> <span class="nn">seaborn</span> <span class="k">as</span> <span class="nn">sns</span>
</pre></div>

     </div>
</div>
</div>
</div>

</div><div class="jp-Cell jp-CodeCell jp-Notebook-cell jp-mod-noOutputs  ">
<div class="jp-Cell-inputWrapper">
<div class="jp-Collapser jp-InputCollapser jp-Cell-inputCollapser">
</div>
<div class="jp-InputArea jp-Cell-inputArea">
<div class="jp-InputPrompt jp-InputArea-prompt">In&nbsp;[4]:</div>
<div class="jp-CodeMirrorEditor jp-Editor jp-InputArea-editor" data-type="inline">
     <div class="CodeMirror cm-s-jupyter">
<div class=" highlight hl-ipython3"><pre><span></span><span class="n">df</span> <span class="o">=</span> <span class="n">pd</span><span class="o">.</span><span class="n">read_csv</span><span class="p">(</span><span class="sa">r</span><span class="s2">"C:\Users\GOLLA\OneDrive\Documents\Documents\Housing (1).csv"</span><span class="p">)</span>
</pre></div>

     </div>
</div>
</div>
</div>

</div><div class="jp-Cell jp-CodeCell jp-Notebook-cell   ">
<div class="jp-Cell-inputWrapper">
<div class="jp-Collapser jp-InputCollapser jp-Cell-inputCollapser">
</div>
<div class="jp-InputArea jp-Cell-inputArea">
<div class="jp-InputPrompt jp-InputArea-prompt">In&nbsp;[5]:</div>
<div class="jp-CodeMirrorEditor jp-Editor jp-InputArea-editor" data-type="inline">
     <div class="CodeMirror cm-s-jupyter">
<div class=" highlight hl-ipython3"><pre><span></span><span class="n">df</span><span class="o">.</span><span class="n">head</span><span class="p">(</span><span class="mi">10</span><span class="p">)</span>
</pre></div>

     </div>
</div>
</div>
</div>

<div class="jp-Cell-outputWrapper">
<div class="jp-Collapser jp-OutputCollapser jp-Cell-outputCollapser">
</div>


<div class="jp-OutputArea jp-Cell-outputArea">

<div class="jp-OutputArea-child">

    
    <div class="jp-OutputPrompt jp-OutputArea-prompt">Out[5]:</div>



<div class="jp-RenderedHTMLCommon jp-RenderedHTML jp-OutputArea-output jp-OutputArea-executeResult" data-mime-type="text/html">
<div>
<style scoped="">
    .dataframe tbody tr th:only-of-type {
        vertical-align: middle;
    }

    .dataframe tbody tr th {
        vertical-align: top;
    }

    .dataframe thead th {
        text-align: right;
    }
</style>
<table border="1" class="dataframe">
  <thead>
    <tr style="text-align: right;">
      <th></th>
      <th>price</th>
      <th>area</th>
      <th>bedrooms</th>
      <th>bathrooms</th>
      <th>stories</th>
      <th>mainroad</th>
      <th>guestroom</th>
      <th>basement</th>
      <th>hotwaterheating</th>
      <th>airconditioning</th>
      <th>parking</th>
      <th>prefarea</th>
      <th>furnishingstatus</th>
    </tr>
  </thead>
  <tbody>
    <tr>
      <th>0</th>
      <td>13300000</td>
      <td>7420</td>
      <td>4</td>
      <td>2</td>
      <td>3</td>
      <td>yes</td>
      <td>no</td>
      <td>no</td>
      <td>no</td>
      <td>yes</td>
      <td>2</td>
      <td>yes</td>
      <td>furnished</td>
    </tr>
    <tr>
      <th>1</th>
      <td>12250000</td>
      <td>8960</td>
      <td>4</td>
      <td>4</td>
      <td>4</td>
      <td>yes</td>
      <td>no</td>
      <td>no</td>
      <td>no</td>
      <td>yes</td>
      <td>3</td>
      <td>no</td>
      <td>furnished</td>
    </tr>
    <tr>
      <th>2</th>
      <td>12250000</td>
      <td>9960</td>
      <td>3</td>
      <td>2</td>
      <td>2</td>
      <td>yes</td>
      <td>no</td>
      <td>yes</td>
      <td>no</td>
      <td>no</td>
      <td>2</td>
      <td>yes</td>
      <td>semi-furnished</td>
    </tr>
    <tr>
      <th>3</th>
      <td>12215000</td>
      <td>7500</td>
      <td>4</td>
      <td>2</td>
      <td>2</td>
      <td>yes</td>
      <td>no</td>
      <td>yes</td>
      <td>no</td>
      <td>yes</td>
      <td>3</td>
      <td>yes</td>
      <td>furnished</td>
    </tr>
    <tr>
      <th>4</th>
      <td>11410000</td>
      <td>7420</td>
      <td>4</td>
      <td>1</td>
      <td>2</td>
      <td>yes</td>
      <td>yes</td>
      <td>yes</td>
      <td>no</td>
      <td>yes</td>
      <td>2</td>
      <td>no</td>
      <td>furnished</td>
    </tr>
    <tr>
      <th>5</th>
      <td>10850000</td>
      <td>7500</td>
      <td>3</td>
      <td>3</td>
      <td>1</td>
      <td>yes</td>
      <td>no</td>
      <td>yes</td>
      <td>no</td>
      <td>yes</td>
      <td>2</td>
      <td>yes</td>
      <td>semi-furnished</td>
    </tr>
    <tr>
      <th>6</th>
      <td>10150000</td>
      <td>8580</td>
      <td>4</td>
      <td>3</td>
      <td>4</td>
      <td>yes</td>
      <td>no</td>
      <td>no</td>
      <td>no</td>
      <td>yes</td>
      <td>2</td>
      <td>yes</td>
      <td>semi-furnished</td>
    </tr>
    <tr>
      <th>7</th>
      <td>10150000</td>
      <td>16200</td>
      <td>5</td>
      <td>3</td>
      <td>2</td>
      <td>yes</td>
      <td>no</td>
      <td>no</td>
      <td>no</td>
      <td>no</td>
      <td>0</td>
      <td>no</td>
      <td>unfurnished</td>
    </tr>
    <tr>
      <th>8</th>
      <td>9870000</td>
      <td>8100</td>
      <td>4</td>
      <td>1</td>
      <td>2</td>
      <td>yes</td>
      <td>yes</td>
      <td>yes</td>
      <td>no</td>
      <td>yes</td>
      <td>2</td>
      <td>yes</td>
      <td>furnished</td>
    </tr>
    <tr>
      <th>9</th>
      <td>9800000</td>
      <td>5750</td>
      <td>3</td>
      <td>2</td>
      <td>4</td>
      <td>yes</td>
      <td>yes</td>
      <td>no</td>
      <td>no</td>
      <td>yes</td>
      <td>1</td>
      <td>yes</td>
      <td>unfurnished</td>
    </tr>
  </tbody>
</table>
</div>
</div>

</div>

</div>

</div>

</div><div class="jp-Cell jp-CodeCell jp-Notebook-cell   ">
<div class="jp-Cell-inputWrapper">
<div class="jp-Collapser jp-InputCollapser jp-Cell-inputCollapser">
</div>
<div class="jp-InputArea jp-Cell-inputArea">
<div class="jp-InputPrompt jp-InputArea-prompt">In&nbsp;[6]:</div>
<div class="jp-CodeMirrorEditor jp-Editor jp-InputArea-editor" data-type="inline">
     <div class="CodeMirror cm-s-jupyter">
<div class=" highlight hl-ipython3"><pre><span></span><span class="c1"># COLUMNS :</span>

<span class="n">df</span><span class="o">.</span><span class="n">columns</span>
</pre></div>

     </div>
</div>
</div>
</div>

<div class="jp-Cell-outputWrapper">
<div class="jp-Collapser jp-OutputCollapser jp-Cell-outputCollapser">
</div>


<div class="jp-OutputArea jp-Cell-outputArea">

<div class="jp-OutputArea-child">

    
    <div class="jp-OutputPrompt jp-OutputArea-prompt">Out[6]:</div>




<div class="jp-RenderedText jp-OutputArea-output jp-OutputArea-executeResult" data-mime-type="text/plain">
<pre>Index(['price', 'area', 'bedrooms', 'bathrooms', 'stories', 'mainroad',
       'guestroom', 'basement', 'hotwaterheating', 'airconditioning',
       'parking', 'prefarea', 'furnishingstatus'],
      dtype='object')</pre>
</div>

</div>

</div>

</div>

</div><div class="jp-Cell jp-CodeCell jp-Notebook-cell   ">
<div class="jp-Cell-inputWrapper">
<div class="jp-Collapser jp-InputCollapser jp-Cell-inputCollapser">
</div>
<div class="jp-InputArea jp-Cell-inputArea">
<div class="jp-InputPrompt jp-InputArea-prompt">In&nbsp;[7]:</div>
<div class="jp-CodeMirrorEditor jp-Editor jp-InputArea-editor" data-type="inline">
     <div class="CodeMirror cm-s-jupyter">
<div class=" highlight hl-ipython3"><pre><span></span><span class="c1"># SIZE OF THE DATASET </span>

<span class="n">df</span><span class="o">.</span><span class="n">shape</span>
</pre></div>

     </div>
</div>
</div>
</div>

<div class="jp-Cell-outputWrapper">
<div class="jp-Collapser jp-OutputCollapser jp-Cell-outputCollapser">
</div>


<div class="jp-OutputArea jp-Cell-outputArea">

<div class="jp-OutputArea-child">

    
    <div class="jp-OutputPrompt jp-OutputArea-prompt">Out[7]:</div>




<div class="jp-RenderedText jp-OutputArea-output jp-OutputArea-executeResult" data-mime-type="text/plain">
<pre>(545, 13)</pre>
</div>

</div>

</div>

</div>

</div><div class="jp-Cell jp-CodeCell jp-Notebook-cell   ">
<div class="jp-Cell-inputWrapper">
<div class="jp-Collapser jp-InputCollapser jp-Cell-inputCollapser">
</div>
<div class="jp-InputArea jp-Cell-inputArea">
<div class="jp-InputPrompt jp-InputArea-prompt">In&nbsp;[8]:</div>
<div class="jp-CodeMirrorEditor jp-Editor jp-InputArea-editor" data-type="inline">
     <div class="CodeMirror cm-s-jupyter">
<div class=" highlight hl-ipython3"><pre><span></span><span class="c1"># DATA TYPES OF THE COLUMNS OF THE DATASET</span>

<span class="n">df</span><span class="o">.</span><span class="n">info</span><span class="p">()</span>
</pre></div>

     </div>
</div>
</div>
</div>

<div class="jp-Cell-outputWrapper">
<div class="jp-Collapser jp-OutputCollapser jp-Cell-outputCollapser">
</div>


<div class="jp-OutputArea jp-Cell-outputArea">

<div class="jp-OutputArea-child">

    
    <div class="jp-OutputPrompt jp-OutputArea-prompt"></div>


<div class="jp-RenderedText jp-OutputArea-output" data-mime-type="text/plain">
<pre>&lt;class 'pandas.core.frame.DataFrame'&gt;
RangeIndex: 545 entries, 0 to 544
Data columns (total 13 columns):
 #   Column            Non-Null Count  Dtype 
---  ------            --------------  ----- 
 0   price             545 non-null    int64 
 1   area              545 non-null    int64 
 2   bedrooms          545 non-null    int64 
 3   bathrooms         545 non-null    int64 
 4   stories           545 non-null    int64 
 5   mainroad          545 non-null    object
 6   guestroom         545 non-null    object
 7   basement          545 non-null    object
 8   hotwaterheating   545 non-null    object
 9   airconditioning   545 non-null    object
 10  parking           545 non-null    int64 
 11  prefarea          545 non-null    object
 12  furnishingstatus  545 non-null    object
dtypes: int64(6), object(7)
memory usage: 55.5+ KB
</pre>
</div>
</div>

</div>

</div>

</div><div class="jp-Cell jp-CodeCell jp-Notebook-cell   ">
<div class="jp-Cell-inputWrapper">
<div class="jp-Collapser jp-InputCollapser jp-Cell-inputCollapser">
</div>
<div class="jp-InputArea jp-Cell-inputArea">
<div class="jp-InputPrompt jp-InputArea-prompt">In&nbsp;[9]:</div>
<div class="jp-CodeMirrorEditor jp-Editor jp-InputArea-editor" data-type="inline">
     <div class="CodeMirror cm-s-jupyter">
<div class=" highlight hl-ipython3"><pre><span></span><span class="c1"># CHECKING FOR NULL VALUES</span>

<span class="n">df</span><span class="o">.</span><span class="n">isnull</span><span class="p">()</span><span class="o">.</span><span class="n">sum</span><span class="p">()</span>
</pre></div>

     </div>
</div>
</div>
</div>

<div class="jp-Cell-outputWrapper">
<div class="jp-Collapser jp-OutputCollapser jp-Cell-outputCollapser">
</div>


<div class="jp-OutputArea jp-Cell-outputArea">

<div class="jp-OutputArea-child">

    
    <div class="jp-OutputPrompt jp-OutputArea-prompt">Out[9]:</div>




<div class="jp-RenderedText jp-OutputArea-output jp-OutputArea-executeResult" data-mime-type="text/plain">
<pre>price               0
area                0
bedrooms            0
bathrooms           0
stories             0
mainroad            0
guestroom           0
basement            0
hotwaterheating     0
airconditioning     0
parking             0
prefarea            0
furnishingstatus    0
dtype: int64</pre>
</div>

</div>

</div>

</div>

</div><div class="jp-Cell jp-CodeCell jp-Notebook-cell   ">
<div class="jp-Cell-inputWrapper">
<div class="jp-Collapser jp-InputCollapser jp-Cell-inputCollapser">
</div>
<div class="jp-InputArea jp-Cell-inputArea">
<div class="jp-InputPrompt jp-InputArea-prompt">In&nbsp;[10]:</div>
<div class="jp-CodeMirrorEditor jp-Editor jp-InputArea-editor" data-type="inline">
     <div class="CodeMirror cm-s-jupyter">
<div class=" highlight hl-ipython3"><pre><span></span><span class="c1"># REMOVAL OF DUPLICATE VALUE </span>

<span class="n">counter</span> <span class="o">=</span> <span class="mi">0</span>
<span class="n">rs</span><span class="p">,</span><span class="n">cs</span> <span class="o">=</span> <span class="n">df</span><span class="o">.</span><span class="n">shape</span>

<span class="n">df</span><span class="o">.</span><span class="n">drop_duplicates</span><span class="p">(</span><span class="n">inplace</span><span class="o">=</span><span class="kc">True</span><span class="p">)</span>

<span class="k">if</span> <span class="n">df</span><span class="o">.</span><span class="n">shape</span><span class="o">==</span><span class="p">(</span><span class="n">rs</span><span class="p">,</span><span class="n">cs</span><span class="p">):</span>
    <span class="nb">print</span><span class="p">(</span><span class="s1">'</span><span class="se">\n\033</span><span class="s1">[1mInference:</span><span class="se">\033</span><span class="s1">[0m The dataset doesn</span><span class="se">\'</span><span class="s1">t have any duplicates'</span><span class="p">)</span>
<span class="k">else</span><span class="p">:</span>
    <span class="nb">print</span><span class="p">(</span><span class="sa">f</span><span class="s1">'</span><span class="se">\n\033</span><span class="s1">[1mInference:</span><span class="se">\033</span><span class="s1">[0m Number of duplicates dropped/fixed ---&gt; </span><span class="si">{</span><span class="n">rs</span><span class="o">-</span><span class="n">df</span><span class="o">.</span><span class="n">shape</span><span class="p">[</span><span class="mi">0</span><span class="p">]</span><span class="si">}</span><span class="s1">'</span><span class="p">)</span>
</pre></div>

     </div>
</div>
</div>
</div>

<div class="jp-Cell-outputWrapper">
<div class="jp-Collapser jp-OutputCollapser jp-Cell-outputCollapser">
</div>


<div class="jp-OutputArea jp-Cell-outputArea">

<div class="jp-OutputArea-child">

    
    <div class="jp-OutputPrompt jp-OutputArea-prompt"></div>


<div class="jp-RenderedText jp-OutputArea-output" data-mime-type="text/plain">
<pre><span class="ansi-bold">Inference:</span> The dataset doesn't have any duplicates
</pre>
</div>
</div>

</div>

</div>

</div><div class="jp-Cell jp-CodeCell jp-Notebook-cell jp-mod-noOutputs  ">
<div class="jp-Cell-inputWrapper">
<div class="jp-Collapser jp-InputCollapser jp-Cell-inputCollapser">
</div>
<div class="jp-InputArea jp-Cell-inputArea">
<div class="jp-InputPrompt jp-InputArea-prompt">In&nbsp;[11]:</div>
<div class="jp-CodeMirrorEditor jp-Editor jp-InputArea-editor" data-type="inline">
     <div class="CodeMirror cm-s-jupyter">
<div class=" highlight hl-ipython3"><pre><span></span><span class="c1"># CONVERTING ALL OUR CATEGORICAL DATA COLUMNS TO NUMERIC FORM</span>

<span class="kn">from</span> <span class="nn">sklearn.preprocessing</span> <span class="kn">import</span> <span class="n">LabelEncoder</span>
<span class="n">categ</span> <span class="o">=</span> <span class="p">[</span><span class="s2">"mainroad"</span><span class="p">,</span><span class="s2">"guestroom"</span><span class="p">,</span><span class="s2">"basement"</span><span class="p">,</span><span class="s2">"hotwaterheating"</span><span class="p">,</span><span class="s2">"airconditioning"</span><span class="p">,</span><span class="s2">"prefarea"</span><span class="p">,</span><span class="s2">"furnishingstatus"</span><span class="p">]</span>

<span class="c1"># Encode Categorical Columns</span>
<span class="n">le</span> <span class="o">=</span> <span class="n">LabelEncoder</span><span class="p">()</span>
<span class="n">df</span><span class="p">[</span><span class="n">categ</span><span class="p">]</span> <span class="o">=</span> <span class="n">df</span><span class="p">[</span><span class="n">categ</span><span class="p">]</span><span class="o">.</span><span class="n">apply</span><span class="p">(</span><span class="n">le</span><span class="o">.</span><span class="n">fit_transform</span><span class="p">)</span>
</pre></div>

     </div>
</div>
</div>
</div>

</div><div class="jp-Cell jp-CodeCell jp-Notebook-cell   ">
<div class="jp-Cell-inputWrapper">
<div class="jp-Collapser jp-InputCollapser jp-Cell-inputCollapser">
</div>
<div class="jp-InputArea jp-Cell-inputArea">
<div class="jp-InputPrompt jp-InputArea-prompt">In&nbsp;[12]:</div>
<div class="jp-CodeMirrorEditor jp-Editor jp-InputArea-editor" data-type="inline">
     <div class="CodeMirror cm-s-jupyter">
<div class=" highlight hl-ipython3"><pre><span></span><span class="n">df</span><span class="o">.</span><span class="n">head</span><span class="p">()</span>
</pre></div>

     </div>
</div>
</div>
</div>

<div class="jp-Cell-outputWrapper">
<div class="jp-Collapser jp-OutputCollapser jp-Cell-outputCollapser">
</div>


<div class="jp-OutputArea jp-Cell-outputArea">

<div class="jp-OutputArea-child">

    
    <div class="jp-OutputPrompt jp-OutputArea-prompt">Out[12]:</div>



<div class="jp-RenderedHTMLCommon jp-RenderedHTML jp-OutputArea-output jp-OutputArea-executeResult" data-mime-type="text/html">
<div>
<style scoped="">
    .dataframe tbody tr th:only-of-type {
        vertical-align: middle;
    }

    .dataframe tbody tr th {
        vertical-align: top;
    }

    .dataframe thead th {
        text-align: right;
    }
</style>
<table border="1" class="dataframe">
  <thead>
    <tr style="text-align: right;">
      <th></th>
      <th>price</th>
      <th>area</th>
      <th>bedrooms</th>
      <th>bathrooms</th>
      <th>stories</th>
      <th>mainroad</th>
      <th>guestroom</th>
      <th>basement</th>
      <th>hotwaterheating</th>
      <th>airconditioning</th>
      <th>parking</th>
      <th>prefarea</th>
      <th>furnishingstatus</th>
    </tr>
  </thead>
  <tbody>
    <tr>
      <th>0</th>
      <td>13300000</td>
      <td>7420</td>
      <td>4</td>
      <td>2</td>
      <td>3</td>
      <td>1</td>
      <td>0</td>
      <td>0</td>
      <td>0</td>
      <td>1</td>
      <td>2</td>
      <td>1</td>
      <td>0</td>
    </tr>
    <tr>
      <th>1</th>
      <td>12250000</td>
      <td>8960</td>
      <td>4</td>
      <td>4</td>
      <td>4</td>
      <td>1</td>
      <td>0</td>
      <td>0</td>
      <td>0</td>
      <td>1</td>
      <td>3</td>
      <td>0</td>
      <td>0</td>
    </tr>
    <tr>
      <th>2</th>
      <td>12250000</td>
      <td>9960</td>
      <td>3</td>
      <td>2</td>
      <td>2</td>
      <td>1</td>
      <td>0</td>
      <td>1</td>
      <td>0</td>
      <td>0</td>
      <td>2</td>
      <td>1</td>
      <td>1</td>
    </tr>
    <tr>
      <th>3</th>
      <td>12215000</td>
      <td>7500</td>
      <td>4</td>
      <td>2</td>
      <td>2</td>
      <td>1</td>
      <td>0</td>
      <td>1</td>
      <td>0</td>
      <td>1</td>
      <td>3</td>
      <td>1</td>
      <td>0</td>
    </tr>
    <tr>
      <th>4</th>
      <td>11410000</td>
      <td>7420</td>
      <td>4</td>
      <td>1</td>
      <td>2</td>
      <td>1</td>
      <td>1</td>
      <td>1</td>
      <td>0</td>
      <td>1</td>
      <td>2</td>
      <td>0</td>
      <td>0</td>
    </tr>
  </tbody>
</table>
</div>
</div>

</div>

</div>

</div>

</div><div class="jp-Cell jp-CodeCell jp-Notebook-cell   ">
<div class="jp-Cell-inputWrapper">
<div class="jp-Collapser jp-InputCollapser jp-Cell-inputCollapser">
</div>
<div class="jp-InputArea jp-Cell-inputArea">
<div class="jp-InputPrompt jp-InputArea-prompt">In&nbsp;[13]:</div>
<div class="jp-CodeMirrorEditor jp-Editor jp-InputArea-editor" data-type="inline">
     <div class="CodeMirror cm-s-jupyter">
<div class=" highlight hl-ipython3"><pre><span></span><span class="c1"># CORRELATION BETWEEN THE COLUMNS</span>

<span class="n">corr</span> <span class="o">=</span> <span class="n">df</span><span class="o">.</span><span class="n">corr</span><span class="p">()</span>
<span class="n">plt</span><span class="o">.</span><span class="n">figure</span><span class="p">(</span><span class="n">figsize</span><span class="o">=</span><span class="p">(</span><span class="mi">12</span><span class="p">,</span><span class="mi">7</span><span class="p">))</span>
<span class="n">sns</span><span class="o">.</span><span class="n">heatmap</span><span class="p">(</span><span class="n">corr</span><span class="p">,</span><span class="n">cmap</span><span class="o">=</span><span class="s1">'coolwarm'</span><span class="p">,</span><span class="n">annot</span><span class="o">=</span><span class="kc">True</span><span class="p">)</span>
</pre></div>

     </div>
</div>
</div>
</div>

<div class="jp-Cell-outputWrapper">
<div class="jp-Collapser jp-OutputCollapser jp-Cell-outputCollapser">
</div>


<div class="jp-OutputArea jp-Cell-outputArea">

<div class="jp-OutputArea-child">

    
    <div class="jp-OutputPrompt jp-OutputArea-prompt">Out[13]:</div>




<div class="jp-RenderedText jp-OutputArea-output jp-OutputArea-executeResult" data-mime-type="text/plain">
<pre>&lt;Axes: &gt;</pre>
</div>

</div>

<div class="jp-OutputArea-child">

    
    <div class="jp-OutputPrompt jp-OutputArea-prompt"></div>




<div class="jp-RenderedImage jp-OutputArea-output ">
<img src="data:image/png;base64,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" class="
">
</div>

</div>

</div>

</div>

</div><div class="jp-Cell jp-CodeCell jp-Notebook-cell jp-mod-noOutputs  ">
<div class="jp-Cell-inputWrapper">
<div class="jp-Collapser jp-InputCollapser jp-Cell-inputCollapser">
</div>
<div class="jp-InputArea jp-Cell-inputArea">
<div class="jp-InputPrompt jp-InputArea-prompt">In&nbsp;[14]:</div>
<div class="jp-CodeMirrorEditor jp-Editor jp-InputArea-editor" data-type="inline">
     <div class="CodeMirror cm-s-jupyter">
<div class=" highlight hl-ipython3"><pre><span></span><span class="n">X</span> <span class="o">=</span> <span class="n">df</span><span class="o">.</span><span class="n">drop</span><span class="p">([</span><span class="s1">'price'</span><span class="p">],</span><span class="n">axis</span><span class="o">=</span><span class="mi">1</span><span class="p">)</span>
<span class="n">y</span> <span class="o">=</span> <span class="n">df</span><span class="p">[</span><span class="s1">'price'</span><span class="p">]</span>
</pre></div>

     </div>
</div>
</div>
</div>

</div><div class="jp-Cell jp-CodeCell jp-Notebook-cell   ">
<div class="jp-Cell-inputWrapper">
<div class="jp-Collapser jp-InputCollapser jp-Cell-inputCollapser">
</div>
<div class="jp-InputArea jp-Cell-inputArea">
<div class="jp-InputPrompt jp-InputArea-prompt">In&nbsp;[15]:</div>
<div class="jp-CodeMirrorEditor jp-Editor jp-InputArea-editor" data-type="inline">
     <div class="CodeMirror cm-s-jupyter">
<div class=" highlight hl-ipython3"><pre><span></span><span class="n">X</span>
</pre></div>

     </div>
</div>
</div>
</div>

<div class="jp-Cell-outputWrapper">
<div class="jp-Collapser jp-OutputCollapser jp-Cell-outputCollapser">
</div>


<div class="jp-OutputArea jp-Cell-outputArea">

<div class="jp-OutputArea-child">

    
    <div class="jp-OutputPrompt jp-OutputArea-prompt">Out[15]:</div>



<div class="jp-RenderedHTMLCommon jp-RenderedHTML jp-OutputArea-output jp-OutputArea-executeResult" data-mime-type="text/html">
<div>
<style scoped="">
    .dataframe tbody tr th:only-of-type {
        vertical-align: middle;
    }

    .dataframe tbody tr th {
        vertical-align: top;
    }

    .dataframe thead th {
        text-align: right;
    }
</style>
<table border="1" class="dataframe">
  <thead>
    <tr style="text-align: right;">
      <th></th>
      <th>area</th>
      <th>bedrooms</th>
      <th>bathrooms</th>
      <th>stories</th>
      <th>mainroad</th>
      <th>guestroom</th>
      <th>basement</th>
      <th>hotwaterheating</th>
      <th>airconditioning</th>
      <th>parking</th>
      <th>prefarea</th>
      <th>furnishingstatus</th>
    </tr>
  </thead>
  <tbody>
    <tr>
      <th>0</th>
      <td>7420</td>
      <td>4</td>
      <td>2</td>
      <td>3</td>
      <td>1</td>
      <td>0</td>
      <td>0</td>
      <td>0</td>
      <td>1</td>
      <td>2</td>
      <td>1</td>
      <td>0</td>
    </tr>
    <tr>
      <th>1</th>
      <td>8960</td>
      <td>4</td>
      <td>4</td>
      <td>4</td>
      <td>1</td>
      <td>0</td>
      <td>0</td>
      <td>0</td>
      <td>1</td>
      <td>3</td>
      <td>0</td>
      <td>0</td>
    </tr>
    <tr>
      <th>2</th>
      <td>9960</td>
      <td>3</td>
      <td>2</td>
      <td>2</td>
      <td>1</td>
      <td>0</td>
      <td>1</td>
      <td>0</td>
      <td>0</td>
      <td>2</td>
      <td>1</td>
      <td>1</td>
    </tr>
    <tr>
      <th>3</th>
      <td>7500</td>
      <td>4</td>
      <td>2</td>
      <td>2</td>
      <td>1</td>
      <td>0</td>
      <td>1</td>
      <td>0</td>
      <td>1</td>
      <td>3</td>
      <td>1</td>
      <td>0</td>
    </tr>
    <tr>
      <th>4</th>
      <td>7420</td>
      <td>4</td>
      <td>1</td>
      <td>2</td>
      <td>1</td>
      <td>1</td>
      <td>1</td>
      <td>0</td>
      <td>1</td>
      <td>2</td>
      <td>0</td>
      <td>0</td>
    </tr>
    <tr>
      <th>...</th>
      <td>...</td>
      <td>...</td>
      <td>...</td>
      <td>...</td>
      <td>...</td>
      <td>...</td>
      <td>...</td>
      <td>...</td>
      <td>...</td>
      <td>...</td>
      <td>...</td>
      <td>...</td>
    </tr>
    <tr>
      <th>540</th>
      <td>3000</td>
      <td>2</td>
      <td>1</td>
      <td>1</td>
      <td>1</td>
      <td>0</td>
      <td>1</td>
      <td>0</td>
      <td>0</td>
      <td>2</td>
      <td>0</td>
      <td>2</td>
    </tr>
    <tr>
      <th>541</th>
      <td>2400</td>
      <td>3</td>
      <td>1</td>
      <td>1</td>
      <td>0</td>
      <td>0</td>
      <td>0</td>
      <td>0</td>
      <td>0</td>
      <td>0</td>
      <td>0</td>
      <td>1</td>
    </tr>
    <tr>
      <th>542</th>
      <td>3620</td>
      <td>2</td>
      <td>1</td>
      <td>1</td>
      <td>1</td>
      <td>0</td>
      <td>0</td>
      <td>0</td>
      <td>0</td>
      <td>0</td>
      <td>0</td>
      <td>2</td>
    </tr>
    <tr>
      <th>543</th>
      <td>2910</td>
      <td>3</td>
      <td>1</td>
      <td>1</td>
      <td>0</td>
      <td>0</td>
      <td>0</td>
      <td>0</td>
      <td>0</td>
      <td>0</td>
      <td>0</td>
      <td>0</td>
    </tr>
    <tr>
      <th>544</th>
      <td>3850</td>
      <td>3</td>
      <td>1</td>
      <td>2</td>
      <td>1</td>
      <td>0</td>
      <td>0</td>
      <td>0</td>
      <td>0</td>
      <td>0</td>
      <td>0</td>
      <td>2</td>
    </tr>
  </tbody>
</table>
<p>545 rows × 12 columns</p>
</div>
</div>

</div>

</div>

</div>

</div><div class="jp-Cell jp-CodeCell jp-Notebook-cell   ">
<div class="jp-Cell-inputWrapper">
<div class="jp-Collapser jp-InputCollapser jp-Cell-inputCollapser">
</div>
<div class="jp-InputArea jp-Cell-inputArea">
<div class="jp-InputPrompt jp-InputArea-prompt">In&nbsp;[16]:</div>
<div class="jp-CodeMirrorEditor jp-Editor jp-InputArea-editor" data-type="inline">
     <div class="CodeMirror cm-s-jupyter">
<div class=" highlight hl-ipython3"><pre><span></span><span class="n">y</span>
</pre></div>

     </div>
</div>
</div>
</div>

<div class="jp-Cell-outputWrapper">
<div class="jp-Collapser jp-OutputCollapser jp-Cell-outputCollapser">
</div>


<div class="jp-OutputArea jp-Cell-outputArea">

<div class="jp-OutputArea-child">

    
    <div class="jp-OutputPrompt jp-OutputArea-prompt">Out[16]:</div>




<div class="jp-RenderedText jp-OutputArea-output jp-OutputArea-executeResult" data-mime-type="text/plain">
<pre>0      13300000
1      12250000
2      12250000
3      12215000
4      11410000
         ...   
540     1820000
541     1767150
542     1750000
543     1750000
544     1750000
Name: price, Length: 545, dtype: int64</pre>
</div>

</div>

</div>

</div>

</div><div class="jp-Cell jp-CodeCell jp-Notebook-cell jp-mod-noOutputs  ">
<div class="jp-Cell-inputWrapper">
<div class="jp-Collapser jp-InputCollapser jp-Cell-inputCollapser">
</div>
<div class="jp-InputArea jp-Cell-inputArea">
<div class="jp-InputPrompt jp-InputArea-prompt">In&nbsp;[17]:</div>
<div class="jp-CodeMirrorEditor jp-Editor jp-InputArea-editor" data-type="inline">
     <div class="CodeMirror cm-s-jupyter">
<div class=" highlight hl-ipython3"><pre><span></span><span class="kn">from</span> <span class="nn">sklearn.model_selection</span> <span class="kn">import</span> <span class="n">train_test_split</span>
<span class="n">X_train</span><span class="p">,</span><span class="n">X_test</span><span class="p">,</span><span class="n">y_train</span><span class="p">,</span><span class="n">y_test</span> <span class="o">=</span> <span class="n">train_test_split</span><span class="p">(</span><span class="n">X</span><span class="p">,</span><span class="n">y</span><span class="p">,</span><span class="n">test_size</span><span class="o">=</span><span class="mf">0.3</span><span class="p">,</span><span class="n">random_state</span><span class="o">=</span><span class="mi">42</span><span class="p">)</span>
</pre></div>

     </div>
</div>
</div>
</div>

</div><div class="jp-Cell jp-CodeCell jp-Notebook-cell   ">
<div class="jp-Cell-inputWrapper">
<div class="jp-Collapser jp-InputCollapser jp-Cell-inputCollapser">
</div>
<div class="jp-InputArea jp-Cell-inputArea">
<div class="jp-InputPrompt jp-InputArea-prompt">In&nbsp;[18]:</div>
<div class="jp-CodeMirrorEditor jp-Editor jp-InputArea-editor" data-type="inline">
     <div class="CodeMirror cm-s-jupyter">
<div class=" highlight hl-ipython3"><pre><span></span><span class="c1"># LENGTH OF X_train AND X_test</span>

<span class="nb">len</span><span class="p">(</span><span class="n">X_train</span><span class="p">),</span><span class="nb">len</span><span class="p">(</span><span class="n">X_test</span><span class="p">)</span>
</pre></div>

     </div>
</div>
</div>
</div>

<div class="jp-Cell-outputWrapper">
<div class="jp-Collapser jp-OutputCollapser jp-Cell-outputCollapser">
</div>


<div class="jp-OutputArea jp-Cell-outputArea">

<div class="jp-OutputArea-child">

    
    <div class="jp-OutputPrompt jp-OutputArea-prompt">Out[18]:</div>




<div class="jp-RenderedText jp-OutputArea-output jp-OutputArea-executeResult" data-mime-type="text/plain">
<pre>(381, 164)</pre>
</div>

</div>

</div>

</div>

</div><div class="jp-Cell jp-CodeCell jp-Notebook-cell jp-mod-noOutputs  ">
<div class="jp-Cell-inputWrapper">
<div class="jp-Collapser jp-InputCollapser jp-Cell-inputCollapser">
</div>
<div class="jp-InputArea jp-Cell-inputArea">
<div class="jp-InputPrompt jp-InputArea-prompt">In&nbsp;[19]:</div>
<div class="jp-CodeMirrorEditor jp-Editor jp-InputArea-editor" data-type="inline">
     <div class="CodeMirror cm-s-jupyter">
<div class=" highlight hl-ipython3"><pre><span></span><span class="c1"># IMPORTING THE MODULE</span>

<span class="kn">from</span> <span class="nn">sklearn.linear_model</span> <span class="kn">import</span> <span class="n">LinearRegression</span>
<span class="n">model</span> <span class="o">=</span> <span class="n">LinearRegression</span><span class="p">()</span>
</pre></div>

     </div>
</div>
</div>
</div>

</div><div class="jp-Cell jp-CodeCell jp-Notebook-cell   ">
<div class="jp-Cell-inputWrapper">
<div class="jp-Collapser jp-InputCollapser jp-Cell-inputCollapser">
</div>
<div class="jp-InputArea jp-Cell-inputArea">
<div class="jp-InputPrompt jp-InputArea-prompt">In&nbsp;[20]:</div>
<div class="jp-CodeMirrorEditor jp-Editor jp-InputArea-editor" data-type="inline">
     <div class="CodeMirror cm-s-jupyter">
<div class=" highlight hl-ipython3"><pre><span></span><span class="c1"># FITTING THE DATA INTO THE MODEL</span>

<span class="n">model</span><span class="o">.</span><span class="n">fit</span><span class="p">(</span><span class="n">X_train</span><span class="p">,</span><span class="n">y_train</span><span class="p">)</span>
</pre></div>

     </div>
</div>
</div>
</div>

<div class="jp-Cell-outputWrapper">
<div class="jp-Collapser jp-OutputCollapser jp-Cell-outputCollapser">
</div>


<div class="jp-OutputArea jp-Cell-outputArea">

<div class="jp-OutputArea-child">

    
    <div class="jp-OutputPrompt jp-OutputArea-prompt">Out[20]:</div>



<div class="jp-RenderedHTMLCommon jp-RenderedHTML jp-OutputArea-output jp-OutputArea-executeResult" data-mime-type="text/html">
<style>#sk-container-id-1 {color: black;}#sk-container-id-1 pre{padding: 0;}#sk-container-id-1 div.sk-toggleable {background-color: white;}#sk-container-id-1 label.sk-toggleable__label {cursor: pointer;display: block;width: 100%;margin-bottom: 0;padding: 0.3em;box-sizing: border-box;text-align: center;}#sk-container-id-1 label.sk-toggleable__label-arrow:before {content: "▸";float: left;margin-right: 0.25em;color: #696969;}#sk-container-id-1 label.sk-toggleable__label-arrow:hover:before {color: black;}#sk-container-id-1 div.sk-estimator:hover label.sk-toggleable__label-arrow:before {color: black;}#sk-container-id-1 div.sk-toggleable__content {max-height: 0;max-width: 0;overflow: hidden;text-align: left;background-color: #f0f8ff;}#sk-container-id-1 div.sk-toggleable__content pre {margin: 0.2em;color: black;border-radius: 0.25em;background-color: #f0f8ff;}#sk-container-id-1 input.sk-toggleable__control:checked~div.sk-toggleable__content {max-height: 200px;max-width: 100%;overflow: auto;}#sk-container-id-1 input.sk-toggleable__control:checked~label.sk-toggleable__label-arrow:before {content: "▾";}#sk-container-id-1 div.sk-estimator input.sk-toggleable__control:checked~label.sk-toggleable__label {background-color: #d4ebff;}#sk-container-id-1 div.sk-label input.sk-toggleable__control:checked~label.sk-toggleable__label {background-color: #d4ebff;}#sk-container-id-1 input.sk-hidden--visually {border: 0;clip: rect(1px 1px 1px 1px);clip: rect(1px, 1px, 1px, 1px);height: 1px;margin: -1px;overflow: hidden;padding: 0;position: absolute;width: 1px;}#sk-container-id-1 div.sk-estimator {font-family: monospace;background-color: #f0f8ff;border: 1px dotted black;border-radius: 0.25em;box-sizing: border-box;margin-bottom: 0.5em;}#sk-container-id-1 div.sk-estimator:hover {background-color: #d4ebff;}#sk-container-id-1 div.sk-parallel-item::after {content: "";width: 100%;border-bottom: 1px solid gray;flex-grow: 1;}#sk-container-id-1 div.sk-label:hover label.sk-toggleable__label {background-color: #d4ebff;}#sk-container-id-1 div.sk-serial::before {content: "";position: absolute;border-left: 1px solid gray;box-sizing: border-box;top: 0;bottom: 0;left: 50%;z-index: 0;}#sk-container-id-1 div.sk-serial {display: flex;flex-direction: column;align-items: center;background-color: white;padding-right: 0.2em;padding-left: 0.2em;position: relative;}#sk-container-id-1 div.sk-item {position: relative;z-index: 1;}#sk-container-id-1 div.sk-parallel {display: flex;align-items: stretch;justify-content: center;background-color: white;position: relative;}#sk-container-id-1 div.sk-item::before, #sk-container-id-1 div.sk-parallel-item::before {content: "";position: absolute;border-left: 1px solid gray;box-sizing: border-box;top: 0;bottom: 0;left: 50%;z-index: -1;}#sk-container-id-1 div.sk-parallel-item {display: flex;flex-direction: column;z-index: 1;position: relative;background-color: white;}#sk-container-id-1 div.sk-parallel-item:first-child::after {align-self: flex-end;width: 50%;}#sk-container-id-1 div.sk-parallel-item:last-child::after {align-self: flex-start;width: 50%;}#sk-container-id-1 div.sk-parallel-item:only-child::after {width: 0;}#sk-container-id-1 div.sk-dashed-wrapped {border: 1px dashed gray;margin: 0 0.4em 0.5em 0.4em;box-sizing: border-box;padding-bottom: 0.4em;background-color: white;}#sk-container-id-1 div.sk-label label {font-family: monospace;font-weight: bold;display: inline-block;line-height: 1.2em;}#sk-container-id-1 div.sk-label-container {text-align: center;}#sk-container-id-1 div.sk-container {/* jupyter's `normalize.less` sets `[hidden] { display: none; }` but bootstrap.min.css set `[hidden] { display: none !important; }` so we also need the `!important` here to be able to override the default hidden behavior on the sphinx rendered scikit-learn.org. See: https://github.com/scikit-learn/scikit-learn/issues/21755 */display: inline-block !important;position: relative;}#sk-container-id-1 div.sk-text-repr-fallback {display: none;}</style><div id="sk-container-id-1" class="sk-top-container"><div class="sk-text-repr-fallback"><pre>LinearRegression()</pre><b>In a Jupyter environment, please rerun this cell to show the HTML representation or trust the notebook. <br>On GitHub, the HTML representation is unable to render, please try loading this page with nbviewer.org.</b></div><div class="sk-container" hidden=""><div class="sk-item"><div class="sk-estimator sk-toggleable"><input class="sk-toggleable__control sk-hidden--visually" id="sk-estimator-id-1" type="checkbox" checked=""><label for="sk-estimator-id-1" class="sk-toggleable__label sk-toggleable__label-arrow">LinearRegression</label><div class="sk-toggleable__content"><pre>LinearRegression()</pre></div></div></div></div></div>
</div>

</div>

</div>

</div>

</div><div class="jp-Cell jp-CodeCell jp-Notebook-cell jp-mod-noOutputs  ">
<div class="jp-Cell-inputWrapper">
<div class="jp-Collapser jp-InputCollapser jp-Cell-inputCollapser">
</div>
<div class="jp-InputArea jp-Cell-inputArea">
<div class="jp-InputPrompt jp-InputArea-prompt">In&nbsp;[21]:</div>
<div class="jp-CodeMirrorEditor jp-Editor jp-InputArea-editor" data-type="inline">
     <div class="CodeMirror cm-s-jupyter">
<div class=" highlight hl-ipython3"><pre><span></span><span class="c1"># PREDICTING THE OUTCOMES</span>

<span class="n">y_predict</span> <span class="o">=</span> <span class="n">model</span><span class="o">.</span><span class="n">predict</span><span class="p">(</span><span class="n">X_test</span><span class="p">)</span>
</pre></div>

     </div>
</div>
</div>
</div>

</div><div class="jp-Cell jp-CodeCell jp-Notebook-cell   ">
<div class="jp-Cell-inputWrapper">
<div class="jp-Collapser jp-InputCollapser jp-Cell-inputCollapser">
</div>
<div class="jp-InputArea jp-Cell-inputArea">
<div class="jp-InputPrompt jp-InputArea-prompt">In&nbsp;[22]:</div>
<div class="jp-CodeMirrorEditor jp-Editor jp-InputArea-editor" data-type="inline">
     <div class="CodeMirror cm-s-jupyter">
<div class=" highlight hl-ipython3"><pre><span></span><span class="n">y_predict</span>
</pre></div>

     </div>
</div>
</div>
</div>

<div class="jp-Cell-outputWrapper">
<div class="jp-Collapser jp-OutputCollapser jp-Cell-outputCollapser">
</div>


<div class="jp-OutputArea jp-Cell-outputArea">

<div class="jp-OutputArea-child">

    
    <div class="jp-OutputPrompt jp-OutputArea-prompt">Out[22]:</div>




<div class="jp-RenderedText jp-OutputArea-output jp-OutputArea-executeResult" data-mime-type="text/plain">
<pre>array([5407508.87024418, 7097185.46706855, 3055462.44314053,
       4476945.19636315, 3315983.65663579, 3618373.03255259,
       5758111.46044028, 6466502.43909126, 2830273.16469119,
       2588804.65810567, 9649589.31414054, 2830606.51113843,
       3048137.62898116, 3392779.60203048, 3823232.9673009 ,
       5358170.87034031, 2955016.41578148, 4836054.53230682,
       4603068.47740645, 3551464.60674927, 5625018.82657786,
       5796938.54363456, 2758483.74755246, 4873266.20950521,
       5600804.93370716, 7772078.63540938, 3381536.16270183,
       5370732.06725797, 8352665.9587942 , 3406110.06934798,
       6335677.41367624, 3427228.10570008, 6740746.88053742,
       4205633.93578768, 3624702.80095917, 5797171.46441145,
       5080025.13346592, 4386055.52335342, 3070137.54474224,
       4635050.40917587, 4743419.55702887, 3433682.48420934,
       7076940.4807988 , 4096598.07073102, 3741261.35302813,
       4308416.36745432, 6678982.6364043 , 4092649.04459023,
       3872211.05471678, 3687383.17722361, 7462374.91109114,
       2898324.62920572, 4501494.58592862, 4427073.78264694,
       3822457.27350851, 2641947.74706375, 7510739.56714418,
       2940944.89650582, 4246613.52617664, 2796696.15913661,
       5048338.5881557 , 3582935.78133612, 5255053.95042848,
       4255235.59619518, 4807607.51782258, 4711232.00096705,
       7260531.24221025, 3577762.50878024, 6285890.98464552,
       6318431.41494409, 4758297.02517639, 5066345.6283754 ,
       4660923.85280286, 8066891.08353479, 3498363.85433617,
       5429714.24082061, 4058399.55113095, 4441034.13232771,
       4816316.06017677, 4040152.44618202, 7752648.28119992,
       4172277.59889827, 6705184.89500425, 5431743.8402273 ,
       2763801.26664556, 7145185.10824616, 2626368.70533511,
       3708769.99925747, 8020894.34927403, 8360086.48106034,
       3255839.86876679, 6099608.09004818, 3610311.65133947,
       3666255.62947034, 7909304.88416764, 4708264.41070268,
       5200345.04442613, 6430338.84553524, 4954759.03354751,
       5980566.29859787, 3959705.24306595, 6578815.16383058,
       3699022.87139188, 6086458.26574741, 5225872.35919378,
       4461872.63697472, 7065795.84374117, 6430992.76558985,
       6577488.25056946, 7181092.29436555, 7132469.27644316,
       4969951.60846033, 3988509.66451833, 3282579.03980776,
       4284449.11400227, 3307885.27264494, 2794018.0999277 ,
       2314211.92533476, 3639260.72788702, 4017775.19574567,
       3783639.23978665, 4997528.13318575, 3920039.36114686,
       4086116.99024392, 6051867.67437964, 2314854.63439944,
       5648580.65216443, 3388208.4469447 , 8106887.379355  ,
       6945211.4619021 , 3290813.6187236 , 4943358.78455695,
       7021438.17367802, 6633943.09586481, 3257272.80697058,
       2346620.41017362, 3128074.82457597, 5602713.80008826,
       3052041.70375378, 3931847.49328003, 2574372.82187877,
       4011784.5084254 , 5232639.95388041, 4105734.9218601 ,
       4188942.50390193, 2421273.7970433 , 6767186.36585123,
       5302303.58194732, 6807894.55657294, 7246680.49265498,
       5468336.15502   , 4606361.04221867, 3769887.60312207,
       3860336.84228787, 3308041.40432699, 7268912.41470939,
       8146912.63449662, 4013563.22451009, 7210577.89436119,
       3796902.64702948, 4130262.35836178, 7058248.99034354,
       5417344.25448755, 5180833.66432886])</pre>
</div>

</div>

</div>

</div>

</div><div class="jp-Cell jp-CodeCell jp-Notebook-cell jp-mod-noOutputs  ">
<div class="jp-Cell-inputWrapper">
<div class="jp-Collapser jp-InputCollapser jp-Cell-inputCollapser">
</div>
<div class="jp-InputArea jp-Cell-inputArea">
<div class="jp-InputPrompt jp-InputArea-prompt">In&nbsp;[23]:</div>
<div class="jp-CodeMirrorEditor jp-Editor jp-InputArea-editor" data-type="inline">
     <div class="CodeMirror cm-s-jupyter">
<div class=" highlight hl-ipython3"><pre><span></span><span class="kn">from</span> <span class="nn">sklearn.metrics</span> <span class="kn">import</span> <span class="n">r2_score</span><span class="p">,</span><span class="n">mean_absolute_error</span>
<span class="n">score</span> <span class="o">=</span> <span class="n">r2_score</span><span class="p">(</span><span class="n">y_test</span><span class="p">,</span><span class="n">y_predict</span><span class="p">)</span>
<span class="n">mae</span> <span class="o">=</span> <span class="n">mean_absolute_error</span><span class="p">(</span><span class="n">y_test</span><span class="p">,</span><span class="n">y_predict</span><span class="p">)</span>
</pre></div>

     </div>
</div>
</div>
</div>

</div><div class="jp-Cell jp-CodeCell jp-Notebook-cell   ">
<div class="jp-Cell-inputWrapper">
<div class="jp-Collapser jp-InputCollapser jp-Cell-inputCollapser">
</div>
<div class="jp-InputArea jp-Cell-inputArea">
<div class="jp-InputPrompt jp-InputArea-prompt">In&nbsp;[24]:</div>
<div class="jp-CodeMirrorEditor jp-Editor jp-InputArea-editor" data-type="inline">
     <div class="CodeMirror cm-s-jupyter">
<div class=" highlight hl-ipython3"><pre><span></span><span class="n">score</span>
</pre></div>

     </div>
</div>
</div>
</div>

<div class="jp-Cell-outputWrapper">
<div class="jp-Collapser jp-OutputCollapser jp-Cell-outputCollapser">
</div>


<div class="jp-OutputArea jp-Cell-outputArea">

<div class="jp-OutputArea-child">

    
    <div class="jp-OutputPrompt jp-OutputArea-prompt">Out[24]:</div>




<div class="jp-RenderedText jp-OutputArea-output jp-OutputArea-executeResult" data-mime-type="text/plain">
<pre>0.6435419628959107</pre>
</div>

</div>

</div>

</div>

</div><div class="jp-Cell jp-CodeCell jp-Notebook-cell   ">
<div class="jp-Cell-inputWrapper">
<div class="jp-Collapser jp-InputCollapser jp-Cell-inputCollapser">
</div>
<div class="jp-InputArea jp-Cell-inputArea">
<div class="jp-InputPrompt jp-InputArea-prompt">In&nbsp;[25]:</div>
<div class="jp-CodeMirrorEditor jp-Editor jp-InputArea-editor" data-type="inline">
     <div class="CodeMirror cm-s-jupyter">
<div class=" highlight hl-ipython3"><pre><span></span><span class="n">mae</span>
</pre></div>

     </div>
</div>
</div>
</div>

<div class="jp-Cell-outputWrapper">
<div class="jp-Collapser jp-OutputCollapser jp-Cell-outputCollapser">
</div>


<div class="jp-OutputArea jp-Cell-outputArea">

<div class="jp-OutputArea-child">

    
    <div class="jp-OutputPrompt jp-OutputArea-prompt">Out[25]:</div>




<div class="jp-RenderedText jp-OutputArea-output jp-OutputArea-executeResult" data-mime-type="text/plain">
<pre>925543.5483156563</pre>
</div>

</div>

</div>

</div>

</div><div class="jp-Cell jp-CodeCell jp-Notebook-cell jp-mod-noOutputs  ">
<div class="jp-Cell-inputWrapper">
<div class="jp-Collapser jp-InputCollapser jp-Cell-inputCollapser">
</div>
<div class="jp-InputArea jp-Cell-inputArea">
<div class="jp-InputPrompt jp-InputArea-prompt">In&nbsp;[&nbsp;]:</div>
<div class="jp-CodeMirrorEditor jp-Editor jp-InputArea-editor" data-type="inline">
     <div class="CodeMirror cm-s-jupyter">
<div class=" highlight hl-ipython3"><pre><span></span> 
</pre></div>

     </div>
</div>
</div>
</div>

</div>









</body></html>